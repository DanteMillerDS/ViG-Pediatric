{
  "cells": [
    {
      "cell_type": "code",
      "execution_count": 1,
      "metadata": {
        "colab": {
          "base_uri": "https://localhost:8080/"
        },
        "id": "SYlFA4SFXLHW",
        "outputId": "8250fb64-0dca-4f0f-bc92-0f13e7391b38"
      },
      "outputs": [
        {
          "output_type": "stream",
          "name": "stdout",
          "text": [
            "Cloning into 'ViG-Pediatric'...\n",
            "remote: Enumerating objects: 482, done.\u001b[K\n",
            "remote: Total 482 (delta 0), reused 0 (delta 0), pack-reused 482\u001b[K\n",
            "Receiving objects: 100% (482/482), 3.41 MiB | 17.21 MiB/s, done.\n",
            "Resolving deltas: 100% (185/185), done.\n",
            "/content/ViG-Pediatric\n",
            "Submodule 'Efficient-AI-Backbones' (https://github.com/huawei-noah/Efficient-AI-Backbones.git) registered for path 'Efficient-AI-Backbones'\n",
            "Cloning into '/content/ViG-Pediatric/Efficient-AI-Backbones'...\n",
            "Submodule path 'Efficient-AI-Backbones': checked out 'b216a124bc8c1e999233adc23176bbba82d05d8b'\n",
            "/content\n"
          ]
        }
      ],
      "source": [
        "!git clone https://github.com/DanteMillerDS/ViG-Pediatric.git\n",
        "%cd ViG-Pediatric\n",
        "!git submodule init\n",
        "!git submodule update\n",
        "%cd ../"
      ]
    },
    {
      "cell_type": "code",
      "execution_count": 2,
      "metadata": {
        "colab": {
          "base_uri": "https://localhost:8080/"
        },
        "id": "VQMyZvkCXDmU",
        "outputId": "0dbbe818-3861-4775-8e63-b9bab633bbba"
      },
      "outputs": [
        {
          "output_type": "stream",
          "name": "stdout",
          "text": [
            "Collecting ftfy (from -r ViG-Pediatric/requirements.txt (line 1))\n",
            "  Downloading ftfy-6.2.0-py3-none-any.whl (54 kB)\n",
            "\u001b[?25l     \u001b[90m━━━━━━━━━━━━━━━━━━━━━━━━━━━━━━━━━━━━━━━━\u001b[0m \u001b[32m0.0/54.4 kB\u001b[0m \u001b[31m?\u001b[0m eta \u001b[36m-:--:--\u001b[0m\r\u001b[2K     \u001b[91m━━━━━━━━━━━━━━━━━━━━━━━━━━━━━━━━━━━━━\u001b[0m\u001b[91m╸\u001b[0m\u001b[90m━━\u001b[0m \u001b[32m51.2/54.4 kB\u001b[0m \u001b[31m1.2 MB/s\u001b[0m eta \u001b[36m0:00:01\u001b[0m\r\u001b[2K     \u001b[90m━━━━━━━━━━━━━━━━━━━━━━━━━━━━━━━━━━━━━━━━\u001b[0m \u001b[32m54.4/54.4 kB\u001b[0m \u001b[31m896.9 kB/s\u001b[0m eta \u001b[36m0:00:00\u001b[0m\n",
            "\u001b[?25hRequirement already satisfied: regex in /usr/local/lib/python3.10/dist-packages (from -r ViG-Pediatric/requirements.txt (line 2)) (2023.12.25)\n",
            "Collecting timm (from -r ViG-Pediatric/requirements.txt (line 3))\n",
            "  Downloading timm-0.9.16-py3-none-any.whl (2.2 MB)\n",
            "\u001b[?25l     \u001b[90m━━━━━━━━━━━━━━━━━━━━━━━━━━━━━━━━━━━━━━━━\u001b[0m \u001b[32m0.0/2.2 MB\u001b[0m \u001b[31m?\u001b[0m eta \u001b[36m-:--:--\u001b[0m\r\u001b[2K     \u001b[91m━━\u001b[0m\u001b[90m╺\u001b[0m\u001b[90m━━━━━━━━━━━━━━━━━━━━━━━━━━━━━━━━━━━━━\u001b[0m \u001b[32m0.1/2.2 MB\u001b[0m \u001b[31m3.1 MB/s\u001b[0m eta \u001b[36m0:00:01\u001b[0m\r\u001b[2K     \u001b[91m━━━━━━\u001b[0m\u001b[91m╸\u001b[0m\u001b[90m━━━━━━━━━━━━━━━━━━━━━━━━━━━━━━━━━\u001b[0m \u001b[32m0.4/2.2 MB\u001b[0m \u001b[31m5.3 MB/s\u001b[0m eta \u001b[36m0:00:01\u001b[0m\r\u001b[2K     \u001b[91m━━━━━━━━━━━━━━━━\u001b[0m\u001b[91m╸\u001b[0m\u001b[90m━━━━━━━━━━━━━━━━━━━━━━━\u001b[0m \u001b[32m0.9/2.2 MB\u001b[0m \u001b[31m9.0 MB/s\u001b[0m eta \u001b[36m0:00:01\u001b[0m\r\u001b[2K     \u001b[91m━━━━━━━━━━━━━━━━━━━━━━━━━━━━━━━━━━━━━━\u001b[0m\u001b[91m╸\u001b[0m\u001b[90m━\u001b[0m \u001b[32m2.2/2.2 MB\u001b[0m \u001b[31m15.8 MB/s\u001b[0m eta \u001b[36m0:00:01\u001b[0m\r\u001b[2K     \u001b[90m━━━━━━━━━━━━━━━━━━━━━━━━━━━━━━━━━━━━━━━━\u001b[0m \u001b[32m2.2/2.2 MB\u001b[0m \u001b[31m13.6 MB/s\u001b[0m eta \u001b[36m0:00:00\u001b[0m\n",
            "\u001b[?25hRequirement already satisfied: tqdm in /usr/local/lib/python3.10/dist-packages (from -r ViG-Pediatric/requirements.txt (line 4)) (4.66.2)\n",
            "Requirement already satisfied: wcwidth<0.3.0,>=0.2.12 in /usr/local/lib/python3.10/dist-packages (from ftfy->-r ViG-Pediatric/requirements.txt (line 1)) (0.2.13)\n",
            "Requirement already satisfied: torch in /usr/local/lib/python3.10/dist-packages (from timm->-r ViG-Pediatric/requirements.txt (line 3)) (2.2.1+cu121)\n",
            "Requirement already satisfied: torchvision in /usr/local/lib/python3.10/dist-packages (from timm->-r ViG-Pediatric/requirements.txt (line 3)) (0.17.1+cu121)\n",
            "Requirement already satisfied: pyyaml in /usr/local/lib/python3.10/dist-packages (from timm->-r ViG-Pediatric/requirements.txt (line 3)) (6.0.1)\n",
            "Requirement already satisfied: huggingface_hub in /usr/local/lib/python3.10/dist-packages (from timm->-r ViG-Pediatric/requirements.txt (line 3)) (0.20.3)\n",
            "Requirement already satisfied: safetensors in /usr/local/lib/python3.10/dist-packages (from timm->-r ViG-Pediatric/requirements.txt (line 3)) (0.4.2)\n",
            "Requirement already satisfied: filelock in /usr/local/lib/python3.10/dist-packages (from huggingface_hub->timm->-r ViG-Pediatric/requirements.txt (line 3)) (3.13.4)\n",
            "Requirement already satisfied: fsspec>=2023.5.0 in /usr/local/lib/python3.10/dist-packages (from huggingface_hub->timm->-r ViG-Pediatric/requirements.txt (line 3)) (2023.6.0)\n",
            "Requirement already satisfied: requests in /usr/local/lib/python3.10/dist-packages (from huggingface_hub->timm->-r ViG-Pediatric/requirements.txt (line 3)) (2.31.0)\n",
            "Requirement already satisfied: typing-extensions>=3.7.4.3 in /usr/local/lib/python3.10/dist-packages (from huggingface_hub->timm->-r ViG-Pediatric/requirements.txt (line 3)) (4.11.0)\n",
            "Requirement already satisfied: packaging>=20.9 in /usr/local/lib/python3.10/dist-packages (from huggingface_hub->timm->-r ViG-Pediatric/requirements.txt (line 3)) (24.0)\n",
            "Requirement already satisfied: sympy in /usr/local/lib/python3.10/dist-packages (from torch->timm->-r ViG-Pediatric/requirements.txt (line 3)) (1.12)\n",
            "Requirement already satisfied: networkx in /usr/local/lib/python3.10/dist-packages (from torch->timm->-r ViG-Pediatric/requirements.txt (line 3)) (3.3)\n",
            "Requirement already satisfied: jinja2 in /usr/local/lib/python3.10/dist-packages (from torch->timm->-r ViG-Pediatric/requirements.txt (line 3)) (3.1.3)\n",
            "Collecting nvidia-cuda-nvrtc-cu12==12.1.105 (from torch->timm->-r ViG-Pediatric/requirements.txt (line 3))\n",
            "  Using cached nvidia_cuda_nvrtc_cu12-12.1.105-py3-none-manylinux1_x86_64.whl (23.7 MB)\n",
            "Collecting nvidia-cuda-runtime-cu12==12.1.105 (from torch->timm->-r ViG-Pediatric/requirements.txt (line 3))\n",
            "  Using cached nvidia_cuda_runtime_cu12-12.1.105-py3-none-manylinux1_x86_64.whl (823 kB)\n",
            "Collecting nvidia-cuda-cupti-cu12==12.1.105 (from torch->timm->-r ViG-Pediatric/requirements.txt (line 3))\n",
            "  Using cached nvidia_cuda_cupti_cu12-12.1.105-py3-none-manylinux1_x86_64.whl (14.1 MB)\n",
            "Collecting nvidia-cudnn-cu12==8.9.2.26 (from torch->timm->-r ViG-Pediatric/requirements.txt (line 3))\n",
            "  Using cached nvidia_cudnn_cu12-8.9.2.26-py3-none-manylinux1_x86_64.whl (731.7 MB)\n",
            "Collecting nvidia-cublas-cu12==12.1.3.1 (from torch->timm->-r ViG-Pediatric/requirements.txt (line 3))\n",
            "  Using cached nvidia_cublas_cu12-12.1.3.1-py3-none-manylinux1_x86_64.whl (410.6 MB)\n",
            "Collecting nvidia-cufft-cu12==11.0.2.54 (from torch->timm->-r ViG-Pediatric/requirements.txt (line 3))\n",
            "  Using cached nvidia_cufft_cu12-11.0.2.54-py3-none-manylinux1_x86_64.whl (121.6 MB)\n",
            "Collecting nvidia-curand-cu12==10.3.2.106 (from torch->timm->-r ViG-Pediatric/requirements.txt (line 3))\n",
            "  Using cached nvidia_curand_cu12-10.3.2.106-py3-none-manylinux1_x86_64.whl (56.5 MB)\n",
            "Collecting nvidia-cusolver-cu12==11.4.5.107 (from torch->timm->-r ViG-Pediatric/requirements.txt (line 3))\n",
            "  Using cached nvidia_cusolver_cu12-11.4.5.107-py3-none-manylinux1_x86_64.whl (124.2 MB)\n",
            "Collecting nvidia-cusparse-cu12==12.1.0.106 (from torch->timm->-r ViG-Pediatric/requirements.txt (line 3))\n",
            "  Using cached nvidia_cusparse_cu12-12.1.0.106-py3-none-manylinux1_x86_64.whl (196.0 MB)\n",
            "Collecting nvidia-nccl-cu12==2.19.3 (from torch->timm->-r ViG-Pediatric/requirements.txt (line 3))\n",
            "  Using cached nvidia_nccl_cu12-2.19.3-py3-none-manylinux1_x86_64.whl (166.0 MB)\n",
            "Collecting nvidia-nvtx-cu12==12.1.105 (from torch->timm->-r ViG-Pediatric/requirements.txt (line 3))\n",
            "  Using cached nvidia_nvtx_cu12-12.1.105-py3-none-manylinux1_x86_64.whl (99 kB)\n",
            "Requirement already satisfied: triton==2.2.0 in /usr/local/lib/python3.10/dist-packages (from torch->timm->-r ViG-Pediatric/requirements.txt (line 3)) (2.2.0)\n",
            "Collecting nvidia-nvjitlink-cu12 (from nvidia-cusolver-cu12==11.4.5.107->torch->timm->-r ViG-Pediatric/requirements.txt (line 3))\n",
            "  Using cached nvidia_nvjitlink_cu12-12.4.127-py3-none-manylinux2014_x86_64.whl (21.1 MB)\n",
            "Requirement already satisfied: numpy in /usr/local/lib/python3.10/dist-packages (from torchvision->timm->-r ViG-Pediatric/requirements.txt (line 3)) (1.25.2)\n",
            "Requirement already satisfied: pillow!=8.3.*,>=5.3.0 in /usr/local/lib/python3.10/dist-packages (from torchvision->timm->-r ViG-Pediatric/requirements.txt (line 3)) (9.4.0)\n",
            "Requirement already satisfied: MarkupSafe>=2.0 in /usr/local/lib/python3.10/dist-packages (from jinja2->torch->timm->-r ViG-Pediatric/requirements.txt (line 3)) (2.1.5)\n",
            "Requirement already satisfied: charset-normalizer<4,>=2 in /usr/local/lib/python3.10/dist-packages (from requests->huggingface_hub->timm->-r ViG-Pediatric/requirements.txt (line 3)) (3.3.2)\n",
            "Requirement already satisfied: idna<4,>=2.5 in /usr/local/lib/python3.10/dist-packages (from requests->huggingface_hub->timm->-r ViG-Pediatric/requirements.txt (line 3)) (3.6)\n",
            "Requirement already satisfied: urllib3<3,>=1.21.1 in /usr/local/lib/python3.10/dist-packages (from requests->huggingface_hub->timm->-r ViG-Pediatric/requirements.txt (line 3)) (2.0.7)\n",
            "Requirement already satisfied: certifi>=2017.4.17 in /usr/local/lib/python3.10/dist-packages (from requests->huggingface_hub->timm->-r ViG-Pediatric/requirements.txt (line 3)) (2024.2.2)\n",
            "Requirement already satisfied: mpmath>=0.19 in /usr/local/lib/python3.10/dist-packages (from sympy->torch->timm->-r ViG-Pediatric/requirements.txt (line 3)) (1.3.0)\n",
            "Installing collected packages: nvidia-nvtx-cu12, nvidia-nvjitlink-cu12, nvidia-nccl-cu12, nvidia-curand-cu12, nvidia-cufft-cu12, nvidia-cuda-runtime-cu12, nvidia-cuda-nvrtc-cu12, nvidia-cuda-cupti-cu12, nvidia-cublas-cu12, ftfy, nvidia-cusparse-cu12, nvidia-cudnn-cu12, nvidia-cusolver-cu12, timm\n",
            "Successfully installed ftfy-6.2.0 nvidia-cublas-cu12-12.1.3.1 nvidia-cuda-cupti-cu12-12.1.105 nvidia-cuda-nvrtc-cu12-12.1.105 nvidia-cuda-runtime-cu12-12.1.105 nvidia-cudnn-cu12-8.9.2.26 nvidia-cufft-cu12-11.0.2.54 nvidia-curand-cu12-10.3.2.106 nvidia-cusolver-cu12-11.4.5.107 nvidia-cusparse-cu12-12.1.0.106 nvidia-nccl-cu12-2.19.3 nvidia-nvjitlink-cu12-12.4.127 nvidia-nvtx-cu12-12.1.105 timm-0.9.16\n"
          ]
        }
      ],
      "source": [
        "!pip install -r ViG-Pediatric/requirements.txt"
      ]
    },
    {
      "cell_type": "code",
      "execution_count": 3,
      "metadata": {
        "colab": {
          "base_uri": "https://localhost:8080/"
        },
        "id": "ILrFM1tepbzg",
        "outputId": "a7da08e3-65c4-42a7-bcf1-de7afb0aab45"
      },
      "outputs": [
        {
          "output_type": "stream",
          "name": "stdout",
          "text": [
            "First replacement completed.\n",
            "Second replacement completed.\n"
          ]
        }
      ],
      "source": [
        "file_path = '/content/ViG-Pediatric/Efficient-AI-Backbones/vig_pytorch/gcn_lib/pos_embed.py'  # Update this to your file's path\n",
        "with open(file_path, 'r') as file:\n",
        "    file_contents = file.read()\n",
        "file_contents = file_contents.replace('omega = np.arange(embed_dim // 2, dtype=np.float)', 'omega = np.arange(embed_dim // 2, dtype=float)')\n",
        "with open(file_path, 'w') as file:\n",
        "    file.write(file_contents)\n",
        "print(\"First replacement completed.\")\n",
        "\n",
        "file_path = '/content/ViG-Pediatric/Efficient-AI-Backbones/vig_pytorch/gcn_lib/torch_vertex.py'  # Update this to your file's path\n",
        "with open(file_path, 'r') as file:\n",
        "    file_contents = file.read()\n",
        "file_contents = file_contents.replace(\"print('using relative_pos')\", \"\")\n",
        "with open(file_path, 'w') as file:\n",
        "    file.write(file_contents)\n",
        "print(\"Second replacement completed.\")\n"
      ]
    },
    {
      "cell_type": "code",
      "execution_count": 4,
      "metadata": {
        "id": "XSlfTgTNXnm3"
      },
      "outputs": [],
      "source": [
        "# %run ViG-Pediatric/scripts/pvig/finetune_pvig_ti_224_gelu.py"
      ]
    },
    {
      "cell_type": "code",
      "execution_count": 1,
      "metadata": {
        "colab": {
          "base_uri": "https://localhost:8080/",
          "height": 1000
        },
        "id": "8Qo0XB08o12e",
        "outputId": "b0da219a-e43a-4eee-a290-775d2c7ccdd6"
      },
      "outputs": [
        {
          "output_type": "stream",
          "name": "stdout",
          "text": [
            "Google Drive is already mounted.\n"
          ]
        },
        {
          "output_type": "stream",
          "name": "stderr",
          "text": [
            "WARNING:matplotlib.image:Clipping input data to the valid range for imshow with RGB data ([0..1] for floats or [0..255] for integers).\n",
            "WARNING:matplotlib.image:Clipping input data to the valid range for imshow with RGB data ([0..1] for floats or [0..255] for integers).\n",
            "WARNING:matplotlib.image:Clipping input data to the valid range for imshow with RGB data ([0..1] for floats or [0..255] for integers).\n",
            "WARNING:matplotlib.image:Clipping input data to the valid range for imshow with RGB data ([0..1] for floats or [0..255] for integers).\n",
            "WARNING:matplotlib.image:Clipping input data to the valid range for imshow with RGB data ([0..1] for floats or [0..255] for integers).\n",
            "WARNING:matplotlib.image:Clipping input data to the valid range for imshow with RGB data ([0..1] for floats or [0..255] for integers).\n"
          ]
        },
        {
          "output_type": "stream",
          "name": "stdout",
          "text": [
            "Results saved to results/visualization/finetune/ucsd/pvig_s_224_gelu/images/cxr_images.png\n"
          ]
        },
        {
          "output_type": "stream",
          "name": "stderr",
          "text": [
            "/usr/local/lib/python3.10/dist-packages/torchvision/models/inception.py:43: FutureWarning: The default weight initialization of inception_v3 will be changed in future releases of torchvision. If you wish to keep the old behavior (which leads to long initialization times due to scipy/scipy#11299), please set init_weights=True.\n",
            "  warnings.warn(\n"
          ]
        },
        {
          "output_type": "stream",
          "name": "stdout",
          "text": [
            "NVIDIA library configured successfully.\n",
            "<model.pvig_model.pvig_s_224_gelu.<locals>.OptInit object at 0x79c7bc1462c0>\n",
            "Model pvig_s_224_gelu loaded with mean and std normalization.\n",
            "Mean: [0.4655 0.4655 0.4655], Std: [0.2523 0.2523 0.2523]\n"
          ]
        },
        {
          "output_type": "stream",
          "name": "stderr",
          "text": [
            "/usr/lib/python3.10/multiprocessing/popen_fork.py:66: RuntimeWarning: os.fork() was called. os.fork() is incompatible with multithreaded code, and JAX is multithreaded, so this will likely lead to a deadlock.\n",
            "  self.pid = os.fork()\n",
            "Epoch 1/50, Train:   0%|          | 0/16 [00:00<?, ?it/s]/usr/local/lib/python3.10/dist-packages/torch/_inductor/compile_fx.py:140: UserWarning: TensorFloat32 tensor cores for float32 matrix multiplication available but not enabled. Consider setting `torch.set_float32_matmul_precision('high')` for better performance.\n",
            "  warnings.warn(\n",
            "Epoch 1/50, Train: 100%|██████████| 16/16 [03:29<00:00, 13.09s/it]\n",
            "Epoch 1/50, Validation: 100%|██████████| 4/4 [01:27<00:00, 21.95s/it]\n",
            "Evaluate Train: 100%|██████████| 16/16 [01:00<00:00,  3.76s/it]\n",
            "Evaluate Validation: 100%|██████████| 4/4 [00:06<00:00,  1.59s/it]\n"
          ]
        },
        {
          "output_type": "stream",
          "name": "stdout",
          "text": [
            "Epoch 1/50\n",
            "Train - Loss: 0.3990, Accuracy: 0.4957, Precision: 0.4905, Recall: 1.0000, AUC: 0.8091\n",
            "Val - Loss: 1.5168, Accuracy: 0.4970, Precision: 0.4908, Recall: 1.0000, AUC: 0.8082\n"
          ]
        },
        {
          "output_type": "stream",
          "name": "stderr",
          "text": [
            "Epoch 2/50, Train: 100%|██████████| 16/16 [00:26<00:00,  1.68s/it]\n",
            "Epoch 2/50, Validation: 100%|██████████| 4/4 [00:05<00:00,  1.50s/it]\n",
            "Evaluate Train: 100%|██████████| 16/16 [00:25<00:00,  1.62s/it]\n",
            "Evaluate Validation: 100%|██████████| 4/4 [00:06<00:00,  1.54s/it]\n"
          ]
        },
        {
          "output_type": "stream",
          "name": "stdout",
          "text": [
            "Epoch 2/50\n",
            "Train - Loss: 0.2899, Accuracy: 0.8744, Precision: 0.8195, Recall: 0.9508, AUC: 0.9505\n",
            "Val - Loss: 0.3434, Accuracy: 0.8905, Precision: 0.8491, Recall: 0.9414, AUC: 0.9490\n"
          ]
        },
        {
          "output_type": "stream",
          "name": "stderr",
          "text": [
            "Epoch 3/50, Train: 100%|██████████| 16/16 [00:27<00:00,  1.72s/it]\n",
            "Epoch 3/50, Validation: 100%|██████████| 4/4 [00:05<00:00,  1.36s/it]\n",
            "Evaluate Train: 100%|██████████| 16/16 [00:24<00:00,  1.56s/it]\n",
            "Evaluate Validation: 100%|██████████| 4/4 [00:06<00:00,  1.53s/it]\n"
          ]
        },
        {
          "output_type": "stream",
          "name": "stdout",
          "text": [
            "Epoch 3/50\n",
            "Train - Loss: 0.2617, Accuracy: 0.8831, Precision: 0.9503, Recall: 0.8010, AUC: 0.9624\n",
            "Val - Loss: 0.3112, Accuracy: 0.8702, Precision: 0.9581, Recall: 0.7657, AUC: 0.9580\n"
          ]
        },
        {
          "output_type": "stream",
          "name": "stderr",
          "text": [
            "Epoch 4/50, Train: 100%|██████████| 16/16 [00:28<00:00,  1.80s/it]\n",
            "Epoch 4/50, Validation: 100%|██████████| 4/4 [00:06<00:00,  1.57s/it]\n",
            "Evaluate Train: 100%|██████████| 16/16 [00:22<00:00,  1.41s/it]\n",
            "Evaluate Validation: 100%|██████████| 4/4 [00:05<00:00,  1.37s/it]\n"
          ]
        },
        {
          "output_type": "stream",
          "name": "stdout",
          "text": [
            "Epoch 4/50\n",
            "Train - Loss: 0.2412, Accuracy: 0.9034, Precision: 0.9412, Recall: 0.8545, AUC: 0.9674\n",
            "Val - Loss: 0.2457, Accuracy: 0.9026, Precision: 0.9569, Recall: 0.8368, AUC: 0.9716\n"
          ]
        },
        {
          "output_type": "stream",
          "name": "stderr",
          "text": [
            "Epoch 5/50, Train: 100%|██████████| 16/16 [00:27<00:00,  1.75s/it]\n",
            "Epoch 5/50, Validation: 100%|██████████| 4/4 [00:06<00:00,  1.50s/it]\n",
            "Evaluate Train: 100%|██████████| 16/16 [00:22<00:00,  1.40s/it]\n",
            "Evaluate Validation: 100%|██████████| 4/4 [00:06<00:00,  1.61s/it]\n"
          ]
        },
        {
          "output_type": "stream",
          "name": "stdout",
          "text": [
            "Epoch 5/50\n",
            "Train - Loss: 0.2253, Accuracy: 0.9024, Precision: 0.9360, Recall: 0.8576, AUC: 0.9668\n",
            "Val - Loss: 0.2598, Accuracy: 0.9148, Precision: 0.9539, Recall: 0.8661, AUC: 0.9636\n"
          ]
        },
        {
          "output_type": "stream",
          "name": "stderr",
          "text": [
            "Epoch 6/50, Train: 100%|██████████| 16/16 [00:28<00:00,  1.75s/it]\n",
            "Epoch 6/50, Validation: 100%|██████████| 4/4 [00:05<00:00,  1.50s/it]\n",
            "Evaluate Train: 100%|██████████| 16/16 [00:22<00:00,  1.40s/it]\n",
            "Evaluate Validation: 100%|██████████| 4/4 [00:06<00:00,  1.63s/it]\n"
          ]
        },
        {
          "output_type": "stream",
          "name": "stdout",
          "text": [
            "Epoch 6/50\n",
            "Train - Loss: 0.2353, Accuracy: 0.8678, Precision: 0.8073, Recall: 0.9560, AUC: 0.9541\n",
            "Val - Loss: 0.3230, Accuracy: 0.8702, Precision: 0.8159, Recall: 0.9456, AUC: 0.9494\n"
          ]
        },
        {
          "output_type": "stream",
          "name": "stderr",
          "text": [
            "Epoch 7/50, Train: 100%|██████████| 16/16 [00:27<00:00,  1.69s/it]\n",
            "Epoch 7/50, Validation: 100%|██████████| 4/4 [00:06<00:00,  1.73s/it]\n",
            "Evaluate Train: 100%|██████████| 16/16 [00:22<00:00,  1.40s/it]\n",
            "Evaluate Validation: 100%|██████████| 4/4 [00:05<00:00,  1.36s/it]\n"
          ]
        },
        {
          "output_type": "stream",
          "name": "stdout",
          "text": [
            "Epoch 7/50\n",
            "Train - Loss: 0.2015, Accuracy: 0.9176, Precision: 0.9605, Recall: 0.8660, AUC: 0.9773\n",
            "Val - Loss: 0.2415, Accuracy: 0.9026, Precision: 0.9659, Recall: 0.8285, AUC: 0.9697\n"
          ]
        },
        {
          "output_type": "stream",
          "name": "stderr",
          "text": [
            "Epoch 8/50, Train: 100%|██████████| 16/16 [00:26<00:00,  1.64s/it]\n",
            "Epoch 8/50, Validation: 100%|██████████| 4/4 [00:05<00:00,  1.50s/it]\n",
            "Evaluate Train: 100%|██████████| 16/16 [00:23<00:00,  1.47s/it]\n",
            "Evaluate Validation: 100%|██████████| 4/4 [00:05<00:00,  1.50s/it]\n"
          ]
        },
        {
          "output_type": "stream",
          "name": "stdout",
          "text": [
            "Epoch 8/50\n",
            "Train - Loss: 0.2047, Accuracy: 0.9212, Precision: 0.9484, Recall: 0.8859, AUC: 0.9768\n",
            "Val - Loss: 0.2106, Accuracy: 0.9189, Precision: 0.9671, Recall: 0.8619, AUC: 0.9815\n"
          ]
        },
        {
          "output_type": "stream",
          "name": "stderr",
          "text": [
            "Epoch 9/50, Train: 100%|██████████| 16/16 [00:26<00:00,  1.67s/it]\n",
            "Epoch 9/50, Validation: 100%|██████████| 4/4 [00:06<00:00,  1.58s/it]\n",
            "Evaluate Train: 100%|██████████| 16/16 [00:24<00:00,  1.51s/it]\n",
            "Evaluate Validation: 100%|██████████| 4/4 [00:05<00:00,  1.37s/it]\n"
          ]
        },
        {
          "output_type": "stream",
          "name": "stdout",
          "text": [
            "Epoch 9/50\n",
            "Train - Loss: 0.1867, Accuracy: 0.8800, Precision: 0.9400, Recall: 0.8042, AUC: 0.9603\n",
            "Val - Loss: 0.3290, Accuracy: 0.8824, Precision: 0.9594, Recall: 0.7908, AUC: 0.9581\n"
          ]
        },
        {
          "output_type": "stream",
          "name": "stderr",
          "text": [
            "Epoch 10/50, Train: 100%|██████████| 16/16 [00:27<00:00,  1.69s/it]\n",
            "Epoch 10/50, Validation: 100%|██████████| 4/4 [00:06<00:00,  1.59s/it]\n",
            "Evaluate Train: 100%|██████████| 16/16 [00:26<00:00,  1.66s/it]\n",
            "Evaluate Validation: 100%|██████████| 4/4 [00:06<00:00,  1.55s/it]\n"
          ]
        },
        {
          "output_type": "stream",
          "name": "stdout",
          "text": [
            "Epoch 10/50\n",
            "Train - Loss: 0.1678, Accuracy: 0.9334, Precision: 0.9421, Recall: 0.9194, AUC: 0.9834\n",
            "Val - Loss: 0.2115, Accuracy: 0.9249, Precision: 0.9469, Recall: 0.8954, AUC: 0.9742\n"
          ]
        },
        {
          "output_type": "stream",
          "name": "stderr",
          "text": [
            "Epoch 11/50, Train: 100%|██████████| 16/16 [00:28<00:00,  1.75s/it]\n",
            "Epoch 11/50, Validation: 100%|██████████| 4/4 [00:05<00:00,  1.34s/it]\n",
            "Evaluate Train: 100%|██████████| 16/16 [00:23<00:00,  1.47s/it]\n",
            "Evaluate Validation: 100%|██████████| 4/4 [00:06<00:00,  1.56s/it]\n"
          ]
        },
        {
          "output_type": "stream",
          "name": "stdout",
          "text": [
            "Epoch 11/50\n",
            "Train - Loss: 0.1558, Accuracy: 0.9176, Precision: 0.9841, Recall: 0.8440, AUC: 0.9885\n",
            "Val - Loss: 0.2379, Accuracy: 0.9148, Precision: 0.9852, Recall: 0.8368, AUC: 0.9846\n"
          ]
        },
        {
          "output_type": "stream",
          "name": "stderr",
          "text": [
            "Epoch 12/50, Train: 100%|██████████| 16/16 [00:27<00:00,  1.70s/it]\n",
            "Epoch 12/50, Validation: 100%|██████████| 4/4 [00:06<00:00,  1.50s/it]\n",
            "Evaluate Train: 100%|██████████| 16/16 [00:22<00:00,  1.42s/it]\n",
            "Evaluate Validation: 100%|██████████| 4/4 [00:07<00:00,  1.77s/it]\n"
          ]
        },
        {
          "output_type": "stream",
          "name": "stdout",
          "text": [
            "Epoch 12/50\n",
            "Train - Loss: 0.1674, Accuracy: 0.9314, Precision: 0.9545, Recall: 0.9016, AUC: 0.9839\n",
            "Val - Loss: 0.2149, Accuracy: 0.9189, Precision: 0.9462, Recall: 0.8828, AUC: 0.9722\n"
          ]
        },
        {
          "output_type": "stream",
          "name": "stderr",
          "text": [
            "Epoch 13/50, Train: 100%|██████████| 16/16 [00:28<00:00,  1.75s/it]\n",
            "Epoch 13/50, Validation: 100%|██████████| 4/4 [00:05<00:00,  1.49s/it]\n",
            "Evaluate Train: 100%|██████████| 16/16 [00:22<00:00,  1.43s/it]\n",
            "Evaluate Validation: 100%|██████████| 4/4 [00:06<00:00,  1.54s/it]\n"
          ]
        },
        {
          "output_type": "stream",
          "name": "stdout",
          "text": [
            "Epoch 13/50\n",
            "Train - Loss: 0.1426, Accuracy: 0.9420, Precision: 0.9403, Recall: 0.9403, AUC: 0.9867\n",
            "Val - Loss: 0.1874, Accuracy: 0.9391, Precision: 0.9485, Recall: 0.9247, AUC: 0.9771\n"
          ]
        },
        {
          "output_type": "stream",
          "name": "stderr",
          "text": [
            "Epoch 14/50, Train: 100%|██████████| 16/16 [00:28<00:00,  1.77s/it]\n",
            "Epoch 14/50, Validation: 100%|██████████| 4/4 [00:05<00:00,  1.35s/it]\n",
            "Evaluate Train: 100%|██████████| 16/16 [00:22<00:00,  1.43s/it]\n",
            "Evaluate Validation: 100%|██████████| 4/4 [00:05<00:00,  1.35s/it]\n"
          ]
        },
        {
          "output_type": "stream",
          "name": "stdout",
          "text": [
            "Epoch 14/50\n",
            "Train - Loss: 0.1517, Accuracy: 0.9431, Precision: 0.9647, Recall: 0.9162, AUC: 0.9883\n",
            "Val - Loss: 0.1725, Accuracy: 0.9371, Precision: 0.9685, Recall: 0.8996, AUC: 0.9838\n"
          ]
        },
        {
          "output_type": "stream",
          "name": "stderr",
          "text": [
            "Epoch 15/50, Train: 100%|██████████| 16/16 [00:27<00:00,  1.74s/it]\n",
            "Epoch 15/50, Validation: 100%|██████████| 4/4 [00:06<00:00,  1.53s/it]\n",
            "Evaluate Train: 100%|██████████| 16/16 [00:24<00:00,  1.53s/it]\n",
            "Evaluate Validation: 100%|██████████| 4/4 [00:06<00:00,  1.69s/it]\n"
          ]
        },
        {
          "output_type": "stream",
          "name": "stdout",
          "text": [
            "Epoch 15/50\n",
            "Train - Loss: 0.1378, Accuracy: 0.9141, Precision: 0.8673, Recall: 0.9717, AUC: 0.9825\n",
            "Val - Loss: 0.2268, Accuracy: 0.9168, Precision: 0.8750, Recall: 0.9665, AUC: 0.9800\n"
          ]
        },
        {
          "output_type": "stream",
          "name": "stderr",
          "text": [
            "Epoch 16/50, Train: 100%|██████████| 16/16 [00:26<00:00,  1.64s/it]\n",
            "Epoch 16/50, Validation: 100%|██████████| 4/4 [00:05<00:00,  1.35s/it]\n",
            "Evaluate Train: 100%|██████████| 16/16 [00:24<00:00,  1.53s/it]\n",
            "Evaluate Validation: 100%|██████████| 4/4 [00:07<00:00,  1.83s/it]\n"
          ]
        },
        {
          "output_type": "stream",
          "name": "stdout",
          "text": [
            "Epoch 16/50\n",
            "Train - Loss: 0.1545, Accuracy: 0.9156, Precision: 0.9852, Recall: 0.8387, AUC: 0.9857\n",
            "Val - Loss: 0.3156, Accuracy: 0.8945, Precision: 0.9845, Recall: 0.7950, AUC: 0.9746\n"
          ]
        },
        {
          "output_type": "stream",
          "name": "stderr",
          "text": [
            "Epoch 17/50, Train: 100%|██████████| 16/16 [00:28<00:00,  1.76s/it]\n",
            "Epoch 17/50, Validation: 100%|██████████| 4/4 [00:05<00:00,  1.50s/it]\n",
            "Evaluate Train: 100%|██████████| 16/16 [00:22<00:00,  1.43s/it]\n",
            "Evaluate Validation: 100%|██████████| 4/4 [00:06<00:00,  1.58s/it]\n"
          ]
        },
        {
          "output_type": "stream",
          "name": "stdout",
          "text": [
            "Epoch 17/50\n",
            "Train - Loss: 0.1295, Accuracy: 0.9497, Precision: 0.9672, Recall: 0.9277, AUC: 0.9899\n",
            "Val - Loss: 0.1551, Accuracy: 0.9371, Precision: 0.9444, Recall: 0.9247, AUC: 0.9829\n"
          ]
        },
        {
          "output_type": "stream",
          "name": "stderr",
          "text": [
            "Epoch 18/50, Train: 100%|██████████| 16/16 [00:28<00:00,  1.78s/it]\n",
            "Epoch 18/50, Validation: 100%|██████████| 4/4 [00:05<00:00,  1.45s/it]\n",
            "Evaluate Train: 100%|██████████| 16/16 [00:22<00:00,  1.42s/it]\n",
            "Evaluate Validation: 100%|██████████| 4/4 [00:05<00:00,  1.48s/it]\n"
          ]
        },
        {
          "output_type": "stream",
          "name": "stdout",
          "text": [
            "Epoch 18/50\n",
            "Train - Loss: 0.1322, Accuracy: 0.9512, Precision: 0.9488, Recall: 0.9508, AUC: 0.9923\n",
            "Val - Loss: 0.1474, Accuracy: 0.9594, Precision: 0.9700, Recall: 0.9456, AUC: 0.9862\n"
          ]
        },
        {
          "output_type": "stream",
          "name": "stderr",
          "text": [
            "Epoch 19/50, Train: 100%|██████████| 16/16 [00:28<00:00,  1.78s/it]\n",
            "Epoch 19/50, Validation: 100%|██████████| 4/4 [00:05<00:00,  1.35s/it]\n",
            "Evaluate Train: 100%|██████████| 16/16 [00:22<00:00,  1.43s/it]\n",
            "Evaluate Validation: 100%|██████████| 4/4 [00:05<00:00,  1.36s/it]\n"
          ]
        },
        {
          "output_type": "stream",
          "name": "stdout",
          "text": [
            "Epoch 19/50\n",
            "Train - Loss: 0.1421, Accuracy: 0.9476, Precision: 0.9235, Recall: 0.9728, AUC: 0.9909\n",
            "Val - Loss: 0.1865, Accuracy: 0.9371, Precision: 0.9194, Recall: 0.9540, AUC: 0.9791\n"
          ]
        },
        {
          "output_type": "stream",
          "name": "stderr",
          "text": [
            "Epoch 20/50, Train: 100%|██████████| 16/16 [00:27<00:00,  1.71s/it]\n",
            "Epoch 20/50, Validation: 100%|██████████| 4/4 [00:05<00:00,  1.40s/it]\n",
            "Evaluate Train: 100%|██████████| 16/16 [00:23<00:00,  1.45s/it]\n",
            "Evaluate Validation: 100%|██████████| 4/4 [00:05<00:00,  1.37s/it]\n"
          ]
        },
        {
          "output_type": "stream",
          "name": "stdout",
          "text": [
            "Epoch 20/50\n",
            "Train - Loss: 0.1427, Accuracy: 0.9548, Precision: 0.9482, Recall: 0.9592, AUC: 0.9923\n",
            "Val - Loss: 0.1708, Accuracy: 0.9473, Precision: 0.9532, Recall: 0.9372, AUC: 0.9833\n"
          ]
        },
        {
          "output_type": "stream",
          "name": "stderr",
          "text": [
            "Epoch 21/50, Train: 100%|██████████| 16/16 [00:28<00:00,  1.76s/it]\n",
            "Epoch 21/50, Validation: 100%|██████████| 4/4 [00:06<00:00,  1.67s/it]\n",
            "Evaluate Train: 100%|██████████| 16/16 [00:25<00:00,  1.61s/it]\n",
            "Evaluate Validation: 100%|██████████| 4/4 [00:05<00:00,  1.37s/it]\n"
          ]
        },
        {
          "output_type": "stream",
          "name": "stdout",
          "text": [
            "Epoch 21/50\n",
            "Train - Loss: 0.1197, Accuracy: 0.9263, Precision: 0.9880, Recall: 0.8586, AUC: 0.9917\n",
            "Val - Loss: 0.2624, Accuracy: 0.9168, Precision: 0.9853, Recall: 0.8410, AUC: 0.9826\n"
          ]
        },
        {
          "output_type": "stream",
          "name": "stderr",
          "text": [
            "Epoch 22/50, Train: 100%|██████████| 16/16 [00:28<00:00,  1.77s/it]\n",
            "Epoch 22/50, Validation: 100%|██████████| 4/4 [00:06<00:00,  1.51s/it]\n",
            "Evaluate Train: 100%|██████████| 16/16 [00:23<00:00,  1.45s/it]\n",
            "Evaluate Validation: 100%|██████████| 4/4 [00:05<00:00,  1.36s/it]\n"
          ]
        },
        {
          "output_type": "stream",
          "name": "stdout",
          "text": [
            "Epoch 22/50\n",
            "Train - Loss: 0.1238, Accuracy: 0.9441, Precision: 0.9196, Recall: 0.9696, AUC: 0.9917\n",
            "Val - Loss: 0.1814, Accuracy: 0.9412, Precision: 0.9167, Recall: 0.9665, AUC: 0.9865\n"
          ]
        },
        {
          "output_type": "stream",
          "name": "stderr",
          "text": [
            "Epoch 23/50, Train: 100%|██████████| 16/16 [00:29<00:00,  1.83s/it]\n",
            "Epoch 23/50, Validation: 100%|██████████| 4/4 [00:06<00:00,  1.69s/it]\n",
            "Evaluate Train: 100%|██████████| 16/16 [00:22<00:00,  1.43s/it]\n",
            "Evaluate Validation: 100%|██████████| 4/4 [00:06<00:00,  1.54s/it]\n"
          ]
        },
        {
          "output_type": "stream",
          "name": "stdout",
          "text": [
            "Epoch 23/50\n",
            "Train - Loss: 0.1123, Accuracy: 0.9481, Precision: 0.9671, Recall: 0.9246, AUC: 0.9925\n",
            "Val - Loss: 0.1849, Accuracy: 0.9331, Precision: 0.9640, Recall: 0.8954, AUC: 0.9868\n"
          ]
        },
        {
          "output_type": "stream",
          "name": "stderr",
          "text": [
            "Epoch 24/50, Train: 100%|██████████| 16/16 [00:29<00:00,  1.81s/it]\n",
            "Epoch 24/50, Validation: 100%|██████████| 4/4 [00:06<00:00,  1.58s/it]\n",
            "Evaluate Train: 100%|██████████| 16/16 [00:23<00:00,  1.45s/it]\n",
            "Evaluate Validation: 100%|██████████| 4/4 [00:05<00:00,  1.37s/it]\n"
          ]
        },
        {
          "output_type": "stream",
          "name": "stdout",
          "text": [
            "Epoch 24/50\n",
            "Train - Loss: 0.1227, Accuracy: 0.9426, Precision: 0.9861, Recall: 0.8942, AUC: 0.9940\n",
            "Val - Loss: 0.2006, Accuracy: 0.9290, Precision: 0.9636, Recall: 0.8870, AUC: 0.9808\n"
          ]
        },
        {
          "output_type": "stream",
          "name": "stderr",
          "text": [
            "Epoch 25/50, Train: 100%|██████████| 16/16 [00:27<00:00,  1.73s/it]\n",
            "Epoch 25/50, Validation: 100%|██████████| 4/4 [00:05<00:00,  1.42s/it]\n",
            "Evaluate Train: 100%|██████████| 16/16 [00:26<00:00,  1.64s/it]\n",
            "Evaluate Validation: 100%|██████████| 4/4 [00:06<00:00,  1.59s/it]\n"
          ]
        },
        {
          "output_type": "stream",
          "name": "stdout",
          "text": [
            "Epoch 25/50\n",
            "Train - Loss: 0.1197, Accuracy: 0.9548, Precision: 0.9501, Recall: 0.9571, AUC: 0.9928\n",
            "Val - Loss: 0.1629, Accuracy: 0.9351, Precision: 0.9367, Recall: 0.9289, AUC: 0.9836\n"
          ]
        },
        {
          "output_type": "stream",
          "name": "stderr",
          "text": [
            "Epoch 26/50, Train: 100%|██████████| 16/16 [00:27<00:00,  1.73s/it]\n",
            "Epoch 26/50, Validation: 100%|██████████| 4/4 [00:05<00:00,  1.35s/it]\n",
            "Evaluate Train: 100%|██████████| 16/16 [00:22<00:00,  1.43s/it]\n",
            "Evaluate Validation: 100%|██████████| 4/4 [00:05<00:00,  1.37s/it]\n"
          ]
        },
        {
          "output_type": "stream",
          "name": "stdout",
          "text": [
            "Epoch 26/50\n",
            "Train - Loss: 0.1018, Accuracy: 0.9512, Precision: 0.9778, Recall: 0.9204, AUC: 0.9930\n",
            "Val - Loss: 0.2004, Accuracy: 0.9371, Precision: 0.9643, Recall: 0.9038, AUC: 0.9787\n"
          ]
        },
        {
          "output_type": "stream",
          "name": "stderr",
          "text": [
            "Epoch 27/50, Train: 100%|██████████| 16/16 [00:27<00:00,  1.69s/it]\n",
            "Epoch 27/50, Validation: 100%|██████████| 4/4 [00:06<00:00,  1.51s/it]\n",
            "Evaluate Train: 100%|██████████| 16/16 [00:26<00:00,  1.67s/it]\n",
            "Evaluate Validation: 100%|██████████| 4/4 [00:06<00:00,  1.65s/it]\n"
          ]
        },
        {
          "output_type": "stream",
          "name": "stdout",
          "text": [
            "Epoch 27/50\n",
            "Train - Loss: 0.1090, Accuracy: 0.9385, Precision: 0.8979, Recall: 0.9853, AUC: 0.9936\n",
            "Val - Loss: 0.2073, Accuracy: 0.9128, Precision: 0.8657, Recall: 0.9707, AUC: 0.9810\n"
          ]
        },
        {
          "output_type": "stream",
          "name": "stderr",
          "text": [
            "Epoch 28/50, Train: 100%|██████████| 16/16 [00:29<00:00,  1.82s/it]\n",
            "Epoch 28/50, Validation: 100%|██████████| 4/4 [00:06<00:00,  1.73s/it]\n",
            "Evaluate Train: 100%|██████████| 16/16 [00:22<00:00,  1.43s/it]\n",
            "Evaluate Validation: 100%|██████████| 4/4 [00:05<00:00,  1.34s/it]\n"
          ]
        },
        {
          "output_type": "stream",
          "name": "stdout",
          "text": [
            "Epoch 28/50\n",
            "Train - Loss: 0.1136, Accuracy: 0.9517, Precision: 0.9397, Recall: 0.9623, AUC: 0.9924\n",
            "Val - Loss: 0.1867, Accuracy: 0.9391, Precision: 0.9409, Recall: 0.9331, AUC: 0.9831\n"
          ]
        },
        {
          "output_type": "stream",
          "name": "stderr",
          "text": [
            "Epoch 29/50, Train: 100%|██████████| 16/16 [00:28<00:00,  1.80s/it]\n",
            "Epoch 29/50, Validation: 100%|██████████| 4/4 [00:06<00:00,  1.74s/it]\n",
            "Evaluate Train: 100%|██████████| 16/16 [00:24<00:00,  1.53s/it]\n",
            "Evaluate Validation: 100%|██████████| 4/4 [00:05<00:00,  1.37s/it]\n"
          ]
        },
        {
          "output_type": "stream",
          "name": "stdout",
          "text": [
            "Epoch 29/50\n",
            "Train - Loss: 0.1083, Accuracy: 0.9614, Precision: 0.9661, Recall: 0.9539, AUC: 0.9952\n",
            "Val - Loss: 0.1557, Accuracy: 0.9473, Precision: 0.9610, Recall: 0.9289, AUC: 0.9876\n"
          ]
        },
        {
          "output_type": "stream",
          "name": "stderr",
          "text": [
            "Epoch 30/50, Train: 100%|██████████| 16/16 [00:27<00:00,  1.72s/it]\n",
            "Epoch 30/50, Validation: 100%|██████████| 4/4 [00:06<00:00,  1.62s/it]\n",
            "Evaluate Train: 100%|██████████| 16/16 [00:23<00:00,  1.49s/it]\n",
            "Evaluate Validation: 100%|██████████| 4/4 [00:05<00:00,  1.37s/it]\n"
          ]
        },
        {
          "output_type": "stream",
          "name": "stdout",
          "text": [
            "Epoch 30/50\n",
            "Train - Loss: 0.1010, Accuracy: 0.9609, Precision: 0.9611, Recall: 0.9581, AUC: 0.9943\n",
            "Val - Loss: 0.1734, Accuracy: 0.9533, Precision: 0.9500, Recall: 0.9540, AUC: 0.9873\n"
          ]
        },
        {
          "output_type": "stream",
          "name": "stderr",
          "text": [
            "Epoch 31/50, Train: 100%|██████████| 16/16 [00:26<00:00,  1.64s/it]\n",
            "Epoch 31/50, Validation: 100%|██████████| 4/4 [00:05<00:00,  1.40s/it]\n",
            "Evaluate Train: 100%|██████████| 16/16 [00:26<00:00,  1.66s/it]\n",
            "Evaluate Validation: 100%|██████████| 4/4 [00:05<00:00,  1.37s/it]\n"
          ]
        },
        {
          "output_type": "stream",
          "name": "stdout",
          "text": [
            "Epoch 31/50\n",
            "Train - Loss: 0.1081, Accuracy: 0.9512, Precision: 0.9820, Recall: 0.9162, AUC: 0.9947\n",
            "Val - Loss: 0.1729, Accuracy: 0.9391, Precision: 0.9772, Recall: 0.8954, AUC: 0.9851\n"
          ]
        },
        {
          "output_type": "stream",
          "name": "stderr",
          "text": [
            "Epoch 32/50, Train: 100%|██████████| 16/16 [00:27<00:00,  1.75s/it]\n",
            "Epoch 32/50, Validation: 100%|██████████| 4/4 [00:06<00:00,  1.58s/it]\n",
            "Evaluate Train: 100%|██████████| 16/16 [00:23<00:00,  1.45s/it]\n",
            "Evaluate Validation: 100%|██████████| 4/4 [00:05<00:00,  1.37s/it]\n"
          ]
        },
        {
          "output_type": "stream",
          "name": "stdout",
          "text": [
            "Epoch 32/50\n",
            "Train - Loss: 0.1020, Accuracy: 0.9624, Precision: 0.9922, Recall: 0.9298, AUC: 0.9957\n",
            "Val - Loss: 0.1603, Accuracy: 0.9249, Precision: 0.9591, Recall: 0.8828, AUC: 0.9800\n"
          ]
        },
        {
          "output_type": "stream",
          "name": "stderr",
          "text": [
            "Epoch 33/50, Train: 100%|██████████| 16/16 [00:28<00:00,  1.81s/it]\n",
            "Epoch 33/50, Validation: 100%|██████████| 4/4 [00:05<00:00,  1.40s/it]\n",
            "Evaluate Train: 100%|██████████| 16/16 [00:22<00:00,  1.43s/it]\n",
            "Evaluate Validation: 100%|██████████| 4/4 [00:05<00:00,  1.36s/it]\n"
          ]
        },
        {
          "output_type": "stream",
          "name": "stdout",
          "text": [
            "Epoch 33/50\n",
            "Train - Loss: 0.0851, Accuracy: 0.9614, Precision: 0.9911, Recall: 0.9288, AUC: 0.9968\n",
            "Val - Loss: 0.1715, Accuracy: 0.9493, Precision: 0.9735, Recall: 0.9205, AUC: 0.9877\n"
          ]
        },
        {
          "output_type": "stream",
          "name": "stderr",
          "text": [
            "Epoch 34/50, Train: 100%|██████████| 16/16 [00:28<00:00,  1.75s/it]\n",
            "Epoch 34/50, Validation: 100%|██████████| 4/4 [00:05<00:00,  1.48s/it]\n",
            "Evaluate Train: 100%|██████████| 16/16 [00:23<00:00,  1.48s/it]\n",
            "Evaluate Validation: 100%|██████████| 4/4 [00:05<00:00,  1.36s/it]\n"
          ]
        },
        {
          "output_type": "stream",
          "name": "stdout",
          "text": [
            "Epoch 34/50\n",
            "Train - Loss: 0.0939, Accuracy: 0.9644, Precision: 0.9567, Recall: 0.9707, AUC: 0.9958\n",
            "Val - Loss: 0.1412, Accuracy: 0.9533, Precision: 0.9390, Recall: 0.9665, AUC: 0.9826\n"
          ]
        },
        {
          "output_type": "stream",
          "name": "stderr",
          "text": [
            "Epoch 35/50, Train: 100%|██████████| 16/16 [00:27<00:00,  1.72s/it]\n",
            "Epoch 35/50, Validation: 100%|██████████| 4/4 [00:05<00:00,  1.36s/it]\n",
            "Evaluate Train: 100%|██████████| 16/16 [00:23<00:00,  1.48s/it]\n",
            "Evaluate Validation: 100%|██████████| 4/4 [00:05<00:00,  1.39s/it]\n"
          ]
        },
        {
          "output_type": "stream",
          "name": "stdout",
          "text": [
            "Epoch 35/50\n",
            "Train - Loss: 0.1006, Accuracy: 0.9603, Precision: 0.9488, Recall: 0.9707, AUC: 0.9938\n",
            "Val - Loss: 0.2185, Accuracy: 0.9270, Precision: 0.9143, Recall: 0.9372, AUC: 0.9772\n"
          ]
        },
        {
          "output_type": "stream",
          "name": "stderr",
          "text": [
            "Epoch 36/50, Train: 100%|██████████| 16/16 [00:27<00:00,  1.75s/it]\n",
            "Epoch 36/50, Validation: 100%|██████████| 4/4 [00:06<00:00,  1.51s/it]\n",
            "Evaluate Train: 100%|██████████| 16/16 [00:25<00:00,  1.61s/it]\n",
            "Evaluate Validation: 100%|██████████| 4/4 [00:05<00:00,  1.37s/it]\n"
          ]
        },
        {
          "output_type": "stream",
          "name": "stdout",
          "text": [
            "Epoch 36/50\n",
            "Train - Loss: 0.0940, Accuracy: 0.9375, Precision: 0.9871, Recall: 0.8827, AUC: 0.9932\n",
            "Val - Loss: 0.2656, Accuracy: 0.9189, Precision: 0.9807, Recall: 0.8494, AUC: 0.9838\n"
          ]
        },
        {
          "output_type": "stream",
          "name": "stderr",
          "text": [
            "Epoch 37/50, Train: 100%|██████████| 16/16 [00:27<00:00,  1.71s/it]\n",
            "Epoch 37/50, Validation: 100%|██████████| 4/4 [00:05<00:00,  1.40s/it]\n",
            "Evaluate Train: 100%|██████████| 16/16 [00:23<00:00,  1.45s/it]\n",
            "Evaluate Validation: 100%|██████████| 4/4 [00:05<00:00,  1.37s/it]\n"
          ]
        },
        {
          "output_type": "stream",
          "name": "stdout",
          "text": [
            "Epoch 37/50\n",
            "Train - Loss: 0.0971, Accuracy: 0.9115, Precision: 0.9975, Recall: 0.8199, AUC: 0.9928\n",
            "Val - Loss: 0.3247, Accuracy: 0.8844, Precision: 0.9789, Recall: 0.7782, AUC: 0.9818\n"
          ]
        },
        {
          "output_type": "stream",
          "name": "stderr",
          "text": [
            "Epoch 38/50, Train: 100%|██████████| 16/16 [00:28<00:00,  1.77s/it]\n",
            "Epoch 38/50, Validation: 100%|██████████| 4/4 [00:05<00:00,  1.49s/it]\n",
            "Evaluate Train: 100%|██████████| 16/16 [00:24<00:00,  1.54s/it]\n",
            "Evaluate Validation: 100%|██████████| 4/4 [00:05<00:00,  1.37s/it]\n"
          ]
        },
        {
          "output_type": "stream",
          "name": "stdout",
          "text": [
            "Epoch 38/50\n",
            "Train - Loss: 0.0938, Accuracy: 0.9583, Precision: 0.9802, Recall: 0.9330, AUC: 0.9954\n",
            "Val - Loss: 0.1460, Accuracy: 0.9432, Precision: 0.9567, Recall: 0.9247, AUC: 0.9839\n"
          ]
        },
        {
          "output_type": "stream",
          "name": "stderr",
          "text": [
            "Epoch 39/50, Train: 100%|██████████| 16/16 [00:27<00:00,  1.69s/it]\n",
            "Epoch 39/50, Validation: 100%|██████████| 4/4 [00:06<00:00,  1.60s/it]\n",
            "Evaluate Train: 100%|██████████| 16/16 [00:23<00:00,  1.46s/it]\n",
            "Evaluate Validation: 100%|██████████| 4/4 [00:05<00:00,  1.37s/it]\n"
          ]
        },
        {
          "output_type": "stream",
          "name": "stdout",
          "text": [
            "Epoch 39/50\n",
            "Train - Loss: 0.0856, Accuracy: 0.9659, Precision: 0.9703, Recall: 0.9592, AUC: 0.9965\n",
            "Val - Loss: 0.1591, Accuracy: 0.9493, Precision: 0.9573, Recall: 0.9372, AUC: 0.9821\n"
          ]
        },
        {
          "output_type": "stream",
          "name": "stderr",
          "text": [
            "Epoch 40/50, Train: 100%|██████████| 16/16 [00:28<00:00,  1.81s/it]\n",
            "Epoch 40/50, Validation: 100%|██████████| 4/4 [00:06<00:00,  1.55s/it]\n",
            "Evaluate Train: 100%|██████████| 16/16 [00:23<00:00,  1.46s/it]\n",
            "Evaluate Validation: 100%|██████████| 4/4 [00:05<00:00,  1.40s/it]\n"
          ]
        },
        {
          "output_type": "stream",
          "name": "stdout",
          "text": [
            "Epoch 40/50\n",
            "Train - Loss: 0.0825, Accuracy: 0.9558, Precision: 0.9230, Recall: 0.9916, AUC: 0.9969\n",
            "Val - Loss: 0.2108, Accuracy: 0.9473, Precision: 0.9112, Recall: 0.9874, AUC: 0.9871\n"
          ]
        },
        {
          "output_type": "stream",
          "name": "stderr",
          "text": [
            "Epoch 41/50, Train: 100%|██████████| 16/16 [00:27<00:00,  1.70s/it]\n",
            "Epoch 41/50, Validation: 100%|██████████| 4/4 [00:06<00:00,  1.59s/it]\n",
            "Evaluate Train: 100%|██████████| 16/16 [00:24<00:00,  1.52s/it]\n",
            "Evaluate Validation: 100%|██████████| 4/4 [00:06<00:00,  1.54s/it]\n"
          ]
        },
        {
          "output_type": "stream",
          "name": "stdout",
          "text": [
            "Epoch 41/50\n",
            "Train - Loss: 0.0714, Accuracy: 0.9507, Precision: 0.9908, Recall: 0.9068, AUC: 0.9959\n",
            "Val - Loss: 0.1699, Accuracy: 0.9493, Precision: 0.9735, Recall: 0.9205, AUC: 0.9873\n"
          ]
        },
        {
          "output_type": "stream",
          "name": "stderr",
          "text": [
            "Epoch 42/50, Train: 100%|██████████| 16/16 [00:28<00:00,  1.81s/it]\n",
            "Epoch 42/50, Validation: 100%|██████████| 4/4 [00:05<00:00,  1.50s/it]\n",
            "Evaluate Train: 100%|██████████| 16/16 [00:24<00:00,  1.56s/it]\n",
            "Evaluate Validation: 100%|██████████| 4/4 [00:06<00:00,  1.54s/it]\n"
          ]
        },
        {
          "output_type": "stream",
          "name": "stdout",
          "text": [
            "Epoch 42/50\n",
            "Train - Loss: 0.0759, Accuracy: 0.9710, Precision: 0.9766, Recall: 0.9634, AUC: 0.9973\n",
            "Val - Loss: 0.1492, Accuracy: 0.9493, Precision: 0.9652, Recall: 0.9289, AUC: 0.9861\n"
          ]
        },
        {
          "output_type": "stream",
          "name": "stderr",
          "text": [
            "Epoch 43/50, Train: 100%|██████████| 16/16 [00:31<00:00,  1.94s/it]\n",
            "Epoch 43/50, Validation: 100%|██████████| 4/4 [00:05<00:00,  1.35s/it]\n",
            "Evaluate Train: 100%|██████████| 16/16 [00:23<00:00,  1.46s/it]\n",
            "Evaluate Validation: 100%|██████████| 4/4 [00:05<00:00,  1.37s/it]\n"
          ]
        },
        {
          "output_type": "stream",
          "name": "stdout",
          "text": [
            "Epoch 43/50\n",
            "Train - Loss: 0.0727, Accuracy: 0.9644, Precision: 0.9733, Recall: 0.9529, AUC: 0.9953\n",
            "Val - Loss: 0.1842, Accuracy: 0.9432, Precision: 0.9528, Recall: 0.9289, AUC: 0.9848\n"
          ]
        },
        {
          "output_type": "stream",
          "name": "stderr",
          "text": [
            "Epoch 44/50, Train: 100%|██████████| 16/16 [00:27<00:00,  1.74s/it]\n",
            "Epoch 44/50, Validation: 100%|██████████| 4/4 [00:06<00:00,  1.75s/it]\n",
            "Evaluate Train: 100%|██████████| 16/16 [00:24<00:00,  1.53s/it]\n",
            "Evaluate Validation: 100%|██████████| 4/4 [00:05<00:00,  1.36s/it]\n"
          ]
        },
        {
          "output_type": "stream",
          "name": "stdout",
          "text": [
            "Epoch 44/50\n",
            "Train - Loss: 0.0753, Accuracy: 0.9685, Precision: 0.9880, Recall: 0.9466, AUC: 0.9975\n",
            "Val - Loss: 0.2526, Accuracy: 0.9391, Precision: 0.9644, Recall: 0.9079, AUC: 0.9799\n"
          ]
        },
        {
          "output_type": "stream",
          "name": "stderr",
          "text": [
            "Epoch 45/50, Train: 100%|██████████| 16/16 [00:27<00:00,  1.69s/it]\n",
            "Epoch 45/50, Validation: 100%|██████████| 4/4 [00:06<00:00,  1.57s/it]\n",
            "Evaluate Train: 100%|██████████| 16/16 [00:24<00:00,  1.51s/it]\n",
            "Evaluate Validation: 100%|██████████| 4/4 [00:05<00:00,  1.36s/it]\n"
          ]
        },
        {
          "output_type": "stream",
          "name": "stdout",
          "text": [
            "Epoch 45/50\n",
            "Train - Loss: 0.0804, Accuracy: 0.9720, Precision: 0.9870, Recall: 0.9550, AUC: 0.9972\n",
            "Val - Loss: 0.1690, Accuracy: 0.9533, Precision: 0.9615, Recall: 0.9414, AUC: 0.9837\n"
          ]
        },
        {
          "output_type": "stream",
          "name": "stderr",
          "text": [
            "Epoch 46/50, Train: 100%|██████████| 16/16 [00:28<00:00,  1.77s/it]\n",
            "Epoch 46/50, Validation: 100%|██████████| 4/4 [00:07<00:00,  1.94s/it]\n",
            "Evaluate Train: 100%|██████████| 16/16 [00:24<00:00,  1.53s/it]\n",
            "Evaluate Validation: 100%|██████████| 4/4 [00:05<00:00,  1.36s/it]\n"
          ]
        },
        {
          "output_type": "stream",
          "name": "stdout",
          "text": [
            "Epoch 46/50\n",
            "Train - Loss: 0.0869, Accuracy: 0.9654, Precision: 0.9493, Recall: 0.9812, AUC: 0.9964\n",
            "Val - Loss: 0.2180, Accuracy: 0.9432, Precision: 0.9170, Recall: 0.9707, AUC: 0.9844\n"
          ]
        },
        {
          "output_type": "stream",
          "name": "stderr",
          "text": [
            "Epoch 47/50, Train: 100%|██████████| 16/16 [00:28<00:00,  1.79s/it]\n",
            "Epoch 47/50, Validation: 100%|██████████| 4/4 [00:05<00:00,  1.32s/it]\n",
            "Evaluate Train: 100%|██████████| 16/16 [00:26<00:00,  1.67s/it]\n",
            "Evaluate Validation: 100%|██████████| 4/4 [00:05<00:00,  1.49s/it]\n"
          ]
        },
        {
          "output_type": "stream",
          "name": "stdout",
          "text": [
            "Epoch 47/50\n",
            "Train - Loss: 0.0841, Accuracy: 0.9736, Precision: 0.9788, Recall: 0.9665, AUC: 0.9974\n",
            "Val - Loss: 0.1635, Accuracy: 0.9452, Precision: 0.9569, Recall: 0.9289, AUC: 0.9867\n"
          ]
        },
        {
          "output_type": "stream",
          "name": "stderr",
          "text": [
            "Epoch 48/50, Train: 100%|██████████| 16/16 [00:27<00:00,  1.74s/it]\n",
            "Epoch 48/50, Validation: 100%|██████████| 4/4 [00:06<00:00,  1.59s/it]\n",
            "Evaluate Train: 100%|██████████| 16/16 [00:22<00:00,  1.43s/it]\n",
            "Evaluate Validation: 100%|██████████| 4/4 [00:05<00:00,  1.37s/it]\n"
          ]
        },
        {
          "output_type": "stream",
          "name": "stdout",
          "text": [
            "Epoch 48/50\n",
            "Train - Loss: 0.0799, Accuracy: 0.9588, Precision: 0.9877, Recall: 0.9267, AUC: 0.9967\n",
            "Val - Loss: 0.2006, Accuracy: 0.9412, Precision: 0.9817, Recall: 0.8954, AUC: 0.9831\n"
          ]
        },
        {
          "output_type": "stream",
          "name": "stderr",
          "text": [
            "Epoch 49/50, Train: 100%|██████████| 16/16 [00:29<00:00,  1.86s/it]\n",
            "Epoch 49/50, Validation: 100%|██████████| 4/4 [00:06<00:00,  1.59s/it]\n",
            "Evaluate Train: 100%|██████████| 16/16 [00:22<00:00,  1.43s/it]\n",
            "Evaluate Validation: 100%|██████████| 4/4 [00:06<00:00,  1.54s/it]\n"
          ]
        },
        {
          "output_type": "stream",
          "name": "stdout",
          "text": [
            "Epoch 49/50\n",
            "Train - Loss: 0.0941, Accuracy: 0.9670, Precision: 0.9912, Recall: 0.9403, AUC: 0.9970\n",
            "Val - Loss: 0.2160, Accuracy: 0.9391, Precision: 0.9729, Recall: 0.8996, AUC: 0.9862\n"
          ]
        },
        {
          "output_type": "stream",
          "name": "stderr",
          "text": [
            "Epoch 50/50, Train: 100%|██████████| 16/16 [00:27<00:00,  1.74s/it]\n",
            "Epoch 50/50, Validation: 100%|██████████| 4/4 [00:06<00:00,  1.50s/it]\n",
            "Evaluate Train: 100%|██████████| 16/16 [00:22<00:00,  1.43s/it]\n",
            "Evaluate Validation: 100%|██████████| 4/4 [00:07<00:00,  1.78s/it]\n"
          ]
        },
        {
          "output_type": "stream",
          "name": "stdout",
          "text": [
            "Epoch 50/50\n",
            "Train - Loss: 0.0779, Accuracy: 0.9563, Precision: 0.9822, Recall: 0.9267, AUC: 0.9948\n",
            "Val - Loss: 0.1886, Accuracy: 0.9310, Precision: 0.9596, Recall: 0.8954, AUC: 0.9851\n"
          ]
        },
        {
          "output_type": "stream",
          "name": "stderr",
          "text": [
            "Evaluate Test: 100%|██████████| 5/5 [00:01<00:00,  4.44it/s]\n"
          ]
        },
        {
          "output_type": "stream",
          "name": "stdout",
          "text": [
            "\n",
            "Accuracy: 0.9513, Precision: 0.9719, Recall: 0.9264, AUC: 0.9878\n",
            "Results saved to results/finetune/ucsd/pvig_s_224_gelu/classification_results.txt\n"
          ]
        },
        {
          "output_type": "stream",
          "name": "stderr",
          "text": [
            "WARNING:matplotlib.image:Clipping input data to the valid range for imshow with RGB data ([0..1] for floats or [0..255] for integers).\n",
            "WARNING:matplotlib.image:Clipping input data to the valid range for imshow with RGB data ([0..1] for floats or [0..255] for integers).\n",
            "WARNING:matplotlib.image:Clipping input data to the valid range for imshow with RGB data ([0..1] for floats or [0..255] for integers).\n",
            "WARNING:matplotlib.image:Clipping input data to the valid range for imshow with RGB data ([0..1] for floats or [0..255] for integers).\n",
            "WARNING:matplotlib.image:Clipping input data to the valid range for imshow with RGB data ([0..1] for floats or [0..255] for integers).\n",
            "WARNING:matplotlib.image:Clipping input data to the valid range for imshow with RGB data ([0..1] for floats or [0..255] for integers).\n"
          ]
        },
        {
          "output_type": "stream",
          "name": "stdout",
          "text": [
            "Results saved to results/visualization/zero_shot/ori/pvig_s_224_gelu/images/cxr_images.png\n"
          ]
        },
        {
          "output_type": "stream",
          "name": "stderr",
          "text": [
            "Evaluate Train: 100%|██████████| 5/5 [00:01<00:00,  3.04it/s]\n",
            "Evaluate Validation: 100%|██████████| 2/2 [00:00<00:00,  6.16it/s]\n",
            "Evaluate Test: 100%|██████████| 2/2 [00:00<00:00,  4.73it/s]\n"
          ]
        },
        {
          "output_type": "stream",
          "name": "stdout",
          "text": [
            "Results saved to results/zero_shot/ori/pvig_s_224_gelu/classification_results.txt\n"
          ]
        },
        {
          "output_type": "stream",
          "name": "stderr",
          "text": [
            "WARNING:matplotlib.image:Clipping input data to the valid range for imshow with RGB data ([0..1] for floats or [0..255] for integers).\n",
            "WARNING:matplotlib.image:Clipping input data to the valid range for imshow with RGB data ([0..1] for floats or [0..255] for integers).\n",
            "WARNING:matplotlib.image:Clipping input data to the valid range for imshow with RGB data ([0..1] for floats or [0..255] for integers).\n",
            "WARNING:matplotlib.image:Clipping input data to the valid range for imshow with RGB data ([0..1] for floats or [0..255] for integers).\n",
            "WARNING:matplotlib.image:Clipping input data to the valid range for imshow with RGB data ([0..1] for floats or [0..255] for integers).\n",
            "WARNING:matplotlib.image:Clipping input data to the valid range for imshow with RGB data ([0..1] for floats or [0..255] for integers).\n"
          ]
        },
        {
          "output_type": "stream",
          "name": "stdout",
          "text": [
            "Results saved to results/visualization/finetune/ori/pvig_s_224_gelu/images/cxr_images.png\n"
          ]
        },
        {
          "output_type": "stream",
          "name": "stderr",
          "text": [
            "/usr/local/lib/python3.10/dist-packages/torchvision/models/inception.py:43: FutureWarning: The default weight initialization of inception_v3 will be changed in future releases of torchvision. If you wish to keep the old behavior (which leads to long initialization times due to scipy/scipy#11299), please set init_weights=True.\n",
            "  warnings.warn(\n"
          ]
        },
        {
          "output_type": "stream",
          "name": "stdout",
          "text": [
            "NVIDIA library configured successfully.\n",
            "<model.pvig_model.pvig_s_224_gelu.<locals>.OptInit object at 0x79c774acad10>\n",
            "Model pvig_s_224_gelu loaded with mean and std normalization.\n",
            "Mean: [0.4856 0.4856 0.4856], Std: [0.2463 0.2463 0.2463]\n"
          ]
        },
        {
          "output_type": "stream",
          "name": "stderr",
          "text": [
            "Epoch 1/50, Train: 100%|██████████| 5/5 [01:49<00:00, 21.91s/it]\n",
            "Epoch 1/50, Validation: 100%|██████████| 2/2 [01:23<00:00, 41.60s/it]\n",
            "Evaluate Train: 100%|██████████| 5/5 [00:42<00:00,  8.41s/it]\n",
            "/usr/local/lib/python3.10/dist-packages/sklearn/metrics/_classification.py:1344: UndefinedMetricWarning: Precision and F-score are ill-defined and being set to 0.0 in labels with no predicted samples. Use `zero_division` parameter to control this behavior.\n",
            "  _warn_prf(average, modifier, msg_start, len(result))\n",
            "/usr/local/lib/python3.10/dist-packages/sklearn/metrics/_classification.py:1344: UndefinedMetricWarning: Precision and F-score are ill-defined and being set to 0.0 in labels with no predicted samples. Use `zero_division` parameter to control this behavior.\n",
            "  _warn_prf(average, modifier, msg_start, len(result))\n",
            "/usr/local/lib/python3.10/dist-packages/sklearn/metrics/_classification.py:1344: UndefinedMetricWarning: Precision and F-score are ill-defined and being set to 0.0 in labels with no predicted samples. Use `zero_division` parameter to control this behavior.\n",
            "  _warn_prf(average, modifier, msg_start, len(result))\n",
            "Evaluate Validation: 100%|██████████| 2/2 [00:01<00:00,  1.37it/s]\n",
            "/usr/local/lib/python3.10/dist-packages/sklearn/metrics/_classification.py:1344: UndefinedMetricWarning: Precision and F-score are ill-defined and being set to 0.0 in labels with no predicted samples. Use `zero_division` parameter to control this behavior.\n",
            "  _warn_prf(average, modifier, msg_start, len(result))\n",
            "/usr/local/lib/python3.10/dist-packages/sklearn/metrics/_classification.py:1344: UndefinedMetricWarning: Precision and F-score are ill-defined and being set to 0.0 in labels with no predicted samples. Use `zero_division` parameter to control this behavior.\n",
            "  _warn_prf(average, modifier, msg_start, len(result))\n",
            "/usr/local/lib/python3.10/dist-packages/sklearn/metrics/_classification.py:1344: UndefinedMetricWarning: Precision and F-score are ill-defined and being set to 0.0 in labels with no predicted samples. Use `zero_division` parameter to control this behavior.\n",
            "  _warn_prf(average, modifier, msg_start, len(result))\n"
          ]
        },
        {
          "output_type": "stream",
          "name": "stdout",
          "text": [
            "Epoch 1/50\n",
            "Train - Loss: 0.8483, Accuracy: 0.4905, Precision: 0.4905, Recall: 1.0000, AUC: 0.5000\n",
            "Val - Loss: 126.8465, Accuracy: 0.4924, Precision: 0.4924, Recall: 1.0000, AUC: 0.5000\n"
          ]
        },
        {
          "output_type": "stream",
          "name": "stderr",
          "text": [
            "Epoch 2/50, Train: 100%|██████████| 5/5 [00:06<00:00,  1.36s/it]\n",
            "Epoch 2/50, Validation: 100%|██████████| 2/2 [00:01<00:00,  1.41it/s]\n",
            "Evaluate Train: 100%|██████████| 5/5 [00:06<00:00,  1.36s/it]\n",
            "Evaluate Validation: 100%|██████████| 2/2 [00:01<00:00,  1.09it/s]\n"
          ]
        },
        {
          "output_type": "stream",
          "name": "stdout",
          "text": [
            "Epoch 2/50\n",
            "Train - Loss: 0.6495, Accuracy: 0.5095, Precision: 0.5000, Recall: 0.9690, AUC: 0.5725\n",
            "Val - Loss: 1.4813, Accuracy: 0.4848, Precision: 0.4884, Recall: 0.9692, AUC: 0.6117\n"
          ]
        },
        {
          "output_type": "stream",
          "name": "stderr",
          "text": [
            "Epoch 3/50, Train: 100%|██████████| 5/5 [00:07<00:00,  1.42s/it]\n",
            "Epoch 3/50, Validation: 100%|██████████| 2/2 [00:01<00:00,  1.38it/s]\n",
            "Evaluate Train: 100%|██████████| 5/5 [00:05<00:00,  1.20s/it]\n",
            "Evaluate Validation: 100%|██████████| 2/2 [00:01<00:00,  1.27it/s]\n"
          ]
        },
        {
          "output_type": "stream",
          "name": "stdout",
          "text": [
            "Epoch 3/50\n",
            "Train - Loss: 0.5108, Accuracy: 0.7890, Precision: 0.8808, Recall: 0.6589, AUC: 0.8090\n",
            "Val - Loss: 0.3265, Accuracy: 0.7652, Precision: 0.8269, Recall: 0.6615, AUC: 0.8259\n"
          ]
        },
        {
          "output_type": "stream",
          "name": "stderr",
          "text": [
            "Epoch 4/50, Train: 100%|██████████| 5/5 [00:08<00:00,  1.72s/it]\n",
            "Epoch 4/50, Validation: 100%|██████████| 2/2 [00:01<00:00,  1.13it/s]\n",
            "Evaluate Train: 100%|██████████| 5/5 [00:06<00:00,  1.23s/it]\n",
            "Evaluate Validation: 100%|██████████| 2/2 [00:01<00:00,  1.44it/s]\n"
          ]
        },
        {
          "output_type": "stream",
          "name": "stdout",
          "text": [
            "Epoch 4/50\n",
            "Train - Loss: 0.5074, Accuracy: 0.7643, Precision: 0.7792, Recall: 0.7248, AUC: 0.8082\n",
            "Val - Loss: 0.4794, Accuracy: 0.7955, Precision: 0.8065, Recall: 0.7692, AUC: 0.8494\n"
          ]
        },
        {
          "output_type": "stream",
          "name": "stderr",
          "text": [
            "Epoch 5/50, Train: 100%|██████████| 5/5 [00:07<00:00,  1.57s/it]\n",
            "Epoch 5/50, Validation: 100%|██████████| 2/2 [00:01<00:00,  1.40it/s]\n",
            "Evaluate Train: 100%|██████████| 5/5 [00:07<00:00,  1.41s/it]\n",
            "Evaluate Validation: 100%|██████████| 2/2 [00:01<00:00,  1.41it/s]\n"
          ]
        },
        {
          "output_type": "stream",
          "name": "stdout",
          "text": [
            "Epoch 5/50\n",
            "Train - Loss: 0.4460, Accuracy: 0.7776, Precision: 0.8615, Recall: 0.6512, AUC: 0.8273\n",
            "Val - Loss: 0.4536, Accuracy: 0.7955, Precision: 0.8393, Recall: 0.7231, AUC: 0.8239\n"
          ]
        },
        {
          "output_type": "stream",
          "name": "stderr",
          "text": [
            "Epoch 6/50, Train: 100%|██████████| 5/5 [00:06<00:00,  1.36s/it]\n",
            "Epoch 6/50, Validation: 100%|██████████| 2/2 [00:01<00:00,  1.41it/s]\n",
            "Evaluate Train: 100%|██████████| 5/5 [00:07<00:00,  1.55s/it]\n",
            "Evaluate Validation: 100%|██████████| 2/2 [00:02<00:00,  1.04s/it]\n"
          ]
        },
        {
          "output_type": "stream",
          "name": "stdout",
          "text": [
            "Epoch 6/50\n",
            "Train - Loss: 0.4582, Accuracy: 0.7510, Precision: 0.7848, Recall: 0.6783, AUC: 0.8179\n",
            "Val - Loss: 0.6402, Accuracy: 0.7652, Precision: 0.7742, Recall: 0.7385, AUC: 0.8266\n"
          ]
        },
        {
          "output_type": "stream",
          "name": "stderr",
          "text": [
            "Epoch 7/50, Train: 100%|██████████| 5/5 [00:07<00:00,  1.56s/it]\n",
            "Epoch 7/50, Validation: 100%|██████████| 2/2 [00:01<00:00,  1.22it/s]\n",
            "Evaluate Train: 100%|██████████| 5/5 [00:06<00:00,  1.21s/it]\n",
            "Evaluate Validation: 100%|██████████| 2/2 [00:01<00:00,  1.30it/s]\n"
          ]
        },
        {
          "output_type": "stream",
          "name": "stdout",
          "text": [
            "Epoch 7/50\n",
            "Train - Loss: 0.4569, Accuracy: 0.7395, Precision: 0.7553, Recall: 0.6938, AUC: 0.8099\n",
            "Val - Loss: 0.6155, Accuracy: 0.7652, Precision: 0.7833, Recall: 0.7231, AUC: 0.8158\n"
          ]
        },
        {
          "output_type": "stream",
          "name": "stderr",
          "text": [
            "Epoch 8/50, Train: 100%|██████████| 5/5 [00:06<00:00,  1.33s/it]\n",
            "Epoch 8/50, Validation: 100%|██████████| 2/2 [00:02<00:00,  1.05s/it]\n",
            "Evaluate Train: 100%|██████████| 5/5 [00:06<00:00,  1.25s/it]\n",
            "Evaluate Validation: 100%|██████████| 2/2 [00:01<00:00,  1.11it/s]\n"
          ]
        },
        {
          "output_type": "stream",
          "name": "stdout",
          "text": [
            "Epoch 8/50\n",
            "Train - Loss: 0.4347, Accuracy: 0.8061, Precision: 0.9239, Recall: 0.6589, AUC: 0.8510\n",
            "Val - Loss: 0.5038, Accuracy: 0.8258, Precision: 0.9200, Recall: 0.7077, AUC: 0.8512\n"
          ]
        },
        {
          "output_type": "stream",
          "name": "stderr",
          "text": [
            "Epoch 9/50, Train: 100%|██████████| 5/5 [00:06<00:00,  1.35s/it]\n",
            "Epoch 9/50, Validation: 100%|██████████| 2/2 [00:01<00:00,  1.40it/s]\n",
            "Evaluate Train: 100%|██████████| 5/5 [00:05<00:00,  1.13s/it]\n",
            "Evaluate Validation: 100%|██████████| 2/2 [00:01<00:00,  1.31it/s]\n"
          ]
        },
        {
          "output_type": "stream",
          "name": "stdout",
          "text": [
            "Epoch 9/50\n",
            "Train - Loss: 0.4690, Accuracy: 0.7947, Precision: 0.9213, Recall: 0.6357, AUC: 0.8527\n",
            "Val - Loss: 0.3798, Accuracy: 0.7879, Precision: 0.8776, Recall: 0.6615, AUC: 0.8262\n"
          ]
        },
        {
          "output_type": "stream",
          "name": "stderr",
          "text": [
            "Epoch 10/50, Train: 100%|██████████| 5/5 [00:08<00:00,  1.66s/it]\n",
            "Epoch 10/50, Validation: 100%|██████████| 2/2 [00:01<00:00,  1.09it/s]\n",
            "Evaluate Train: 100%|██████████| 5/5 [00:07<00:00,  1.57s/it]\n",
            "Evaluate Validation: 100%|██████████| 2/2 [00:02<00:00,  1.02s/it]\n"
          ]
        },
        {
          "output_type": "stream",
          "name": "stdout",
          "text": [
            "Epoch 10/50\n",
            "Train - Loss: 0.4432, Accuracy: 0.8137, Precision: 0.9082, Recall: 0.6899, AUC: 0.8608\n",
            "Val - Loss: 0.3879, Accuracy: 0.8258, Precision: 0.8889, Recall: 0.7385, AUC: 0.8379\n"
          ]
        },
        {
          "output_type": "stream",
          "name": "stderr",
          "text": [
            "Epoch 11/50, Train: 100%|██████████| 5/5 [00:07<00:00,  1.45s/it]\n",
            "Epoch 11/50, Validation: 100%|██████████| 2/2 [00:01<00:00,  1.40it/s]\n",
            "Evaluate Train: 100%|██████████| 5/5 [00:05<00:00,  1.13s/it]\n",
            "Evaluate Validation: 100%|██████████| 2/2 [00:01<00:00,  1.44it/s]\n"
          ]
        },
        {
          "output_type": "stream",
          "name": "stdout",
          "text": [
            "Epoch 11/50\n",
            "Train - Loss: 0.4196, Accuracy: 0.7700, Precision: 0.7546, Recall: 0.7868, AUC: 0.8608\n",
            "Val - Loss: 0.3788, Accuracy: 0.7803, Precision: 0.7500, Recall: 0.8308, AUC: 0.8586\n"
          ]
        },
        {
          "output_type": "stream",
          "name": "stderr",
          "text": [
            "Epoch 12/50, Train: 100%|██████████| 5/5 [00:07<00:00,  1.56s/it]\n",
            "Epoch 12/50, Validation: 100%|██████████| 2/2 [00:02<00:00,  1.09s/it]\n",
            "Evaluate Train: 100%|██████████| 5/5 [00:06<00:00,  1.25s/it]\n",
            "Evaluate Validation: 100%|██████████| 2/2 [00:01<00:00,  1.44it/s]\n"
          ]
        },
        {
          "output_type": "stream",
          "name": "stdout",
          "text": [
            "Epoch 12/50\n",
            "Train - Loss: 0.4407, Accuracy: 0.7510, Precision: 0.7096, Recall: 0.8333, AUC: 0.8425\n",
            "Val - Loss: 0.4861, Accuracy: 0.7652, Precision: 0.7125, Recall: 0.8769, AUC: 0.8781\n"
          ]
        },
        {
          "output_type": "stream",
          "name": "stderr",
          "text": [
            "Epoch 13/50, Train: 100%|██████████| 5/5 [00:07<00:00,  1.48s/it]\n",
            "Epoch 13/50, Validation: 100%|██████████| 2/2 [00:01<00:00,  1.23it/s]\n",
            "Evaluate Train: 100%|██████████| 5/5 [00:06<00:00,  1.26s/it]\n",
            "Evaluate Validation: 100%|██████████| 2/2 [00:01<00:00,  1.11it/s]\n"
          ]
        },
        {
          "output_type": "stream",
          "name": "stdout",
          "text": [
            "Epoch 13/50\n",
            "Train - Loss: 0.4605, Accuracy: 0.8156, Precision: 0.9128, Recall: 0.6899, AUC: 0.8699\n",
            "Val - Loss: 0.3268, Accuracy: 0.7727, Precision: 0.8302, Recall: 0.6769, AUC: 0.8195\n"
          ]
        },
        {
          "output_type": "stream",
          "name": "stderr",
          "text": [
            "Epoch 14/50, Train: 100%|██████████| 5/5 [00:06<00:00,  1.35s/it]\n",
            "Epoch 14/50, Validation: 100%|██████████| 2/2 [00:01<00:00,  1.39it/s]\n",
            "Evaluate Train: 100%|██████████| 5/5 [00:05<00:00,  1.13s/it]\n",
            "Evaluate Validation: 100%|██████████| 2/2 [00:01<00:00,  1.33it/s]\n"
          ]
        },
        {
          "output_type": "stream",
          "name": "stdout",
          "text": [
            "Epoch 14/50\n",
            "Train - Loss: 0.4647, Accuracy: 0.7909, Precision: 0.9625, Recall: 0.5969, AUC: 0.8478\n",
            "Val - Loss: 0.6668, Accuracy: 0.7727, Precision: 0.9487, Recall: 0.5692, AUC: 0.7878\n"
          ]
        },
        {
          "output_type": "stream",
          "name": "stderr",
          "text": [
            "Epoch 15/50, Train: 100%|██████████| 5/5 [00:07<00:00,  1.48s/it]\n",
            "Epoch 15/50, Validation: 100%|██████████| 2/2 [00:01<00:00,  1.29it/s]\n",
            "Evaluate Train: 100%|██████████| 5/5 [00:06<00:00,  1.24s/it]\n",
            "Evaluate Validation: 100%|██████████| 2/2 [00:01<00:00,  1.43it/s]\n"
          ]
        },
        {
          "output_type": "stream",
          "name": "stdout",
          "text": [
            "Epoch 15/50\n",
            "Train - Loss: 0.4232, Accuracy: 0.7833, Precision: 0.8186, Recall: 0.7171, AUC: 0.8514\n",
            "Val - Loss: 1.0882, Accuracy: 0.7955, Precision: 0.7969, Recall: 0.7846, AUC: 0.8429\n"
          ]
        },
        {
          "output_type": "stream",
          "name": "stderr",
          "text": [
            "Epoch 16/50, Train: 100%|██████████| 5/5 [00:06<00:00,  1.35s/it]\n",
            "Epoch 16/50, Validation: 100%|██████████| 2/2 [00:01<00:00,  1.41it/s]\n",
            "Evaluate Train: 100%|██████████| 5/5 [00:07<00:00,  1.43s/it]\n",
            "Evaluate Validation: 100%|██████████| 2/2 [00:01<00:00,  1.41it/s]\n"
          ]
        },
        {
          "output_type": "stream",
          "name": "stdout",
          "text": [
            "Epoch 16/50\n",
            "Train - Loss: 0.4335, Accuracy: 0.8156, Precision: 0.9215, Recall: 0.6822, AUC: 0.8689\n",
            "Val - Loss: 0.4034, Accuracy: 0.7879, Precision: 0.8627, Recall: 0.6769, AUC: 0.8280\n"
          ]
        },
        {
          "output_type": "stream",
          "name": "stderr",
          "text": [
            "Epoch 17/50, Train: 100%|██████████| 5/5 [00:06<00:00,  1.36s/it]\n",
            "Epoch 17/50, Validation: 100%|██████████| 2/2 [00:01<00:00,  1.41it/s]\n",
            "Evaluate Train: 100%|██████████| 5/5 [00:07<00:00,  1.55s/it]\n",
            "Evaluate Validation: 100%|██████████| 2/2 [00:02<00:00,  1.05s/it]\n"
          ]
        },
        {
          "output_type": "stream",
          "name": "stdout",
          "text": [
            "Epoch 17/50\n",
            "Train - Loss: 0.4412, Accuracy: 0.8118, Precision: 0.9119, Recall: 0.6822, AUC: 0.8620\n",
            "Val - Loss: 0.3975, Accuracy: 0.8258, Precision: 0.9200, Recall: 0.7077, AUC: 0.8358\n"
          ]
        },
        {
          "output_type": "stream",
          "name": "stderr",
          "text": [
            "Epoch 18/50, Train: 100%|██████████| 5/5 [00:06<00:00,  1.36s/it]\n",
            "Epoch 18/50, Validation: 100%|██████████| 2/2 [00:02<00:00,  1.10s/it]\n",
            "Evaluate Train: 100%|██████████| 5/5 [00:06<00:00,  1.27s/it]\n",
            "Evaluate Validation: 100%|██████████| 2/2 [00:01<00:00,  1.40it/s]\n"
          ]
        },
        {
          "output_type": "stream",
          "name": "stdout",
          "text": [
            "Epoch 18/50\n",
            "Train - Loss: 0.4097, Accuracy: 0.8213, Precision: 0.8832, Recall: 0.7326, AUC: 0.8823\n",
            "Val - Loss: 0.4314, Accuracy: 0.7803, Precision: 0.8750, Recall: 0.6462, AUC: 0.8154\n"
          ]
        },
        {
          "output_type": "stream",
          "name": "stderr",
          "text": [
            "Epoch 19/50, Train: 100%|██████████| 5/5 [00:06<00:00,  1.36s/it]\n",
            "Epoch 19/50, Validation: 100%|██████████| 2/2 [00:01<00:00,  1.40it/s]\n",
            "Evaluate Train: 100%|██████████| 5/5 [00:05<00:00,  1.13s/it]\n",
            "Evaluate Validation: 100%|██████████| 2/2 [00:01<00:00,  1.30it/s]\n"
          ]
        },
        {
          "output_type": "stream",
          "name": "stdout",
          "text": [
            "Epoch 19/50\n",
            "Train - Loss: 0.4631, Accuracy: 0.8175, Precision: 0.8491, Recall: 0.7636, AUC: 0.8759\n",
            "Val - Loss: 0.8967, Accuracy: 0.7803, Precision: 0.7812, Recall: 0.7692, AUC: 0.8505\n"
          ]
        },
        {
          "output_type": "stream",
          "name": "stderr",
          "text": [
            "Epoch 20/50, Train: 100%|██████████| 5/5 [00:06<00:00,  1.36s/it]\n",
            "Epoch 20/50, Validation: 100%|██████████| 2/2 [00:01<00:00,  1.40it/s]\n",
            "Evaluate Train: 100%|██████████| 5/5 [00:06<00:00,  1.24s/it]\n",
            "Evaluate Validation: 100%|██████████| 2/2 [00:01<00:00,  1.35it/s]\n"
          ]
        },
        {
          "output_type": "stream",
          "name": "stdout",
          "text": [
            "Epoch 20/50\n",
            "Train - Loss: 0.4176, Accuracy: 0.8099, Precision: 0.8527, Recall: 0.7403, AUC: 0.8772\n",
            "Val - Loss: 0.3866, Accuracy: 0.7727, Precision: 0.7778, Recall: 0.7538, AUC: 0.8445\n"
          ]
        },
        {
          "output_type": "stream",
          "name": "stderr",
          "text": [
            "Epoch 21/50, Train: 100%|██████████| 5/5 [00:06<00:00,  1.36s/it]\n",
            "Epoch 21/50, Validation: 100%|██████████| 2/2 [00:01<00:00,  1.40it/s]\n",
            "Evaluate Train: 100%|██████████| 5/5 [00:06<00:00,  1.37s/it]\n",
            "Evaluate Validation: 100%|██████████| 2/2 [00:01<00:00,  1.39it/s]\n"
          ]
        },
        {
          "output_type": "stream",
          "name": "stdout",
          "text": [
            "Epoch 21/50\n",
            "Train - Loss: 0.3807, Accuracy: 0.8080, Precision: 0.8905, Recall: 0.6938, AUC: 0.8587\n",
            "Val - Loss: 0.4478, Accuracy: 0.7803, Precision: 0.8462, Recall: 0.6769, AUC: 0.8445\n"
          ]
        },
        {
          "output_type": "stream",
          "name": "stderr",
          "text": [
            "Epoch 22/50, Train: 100%|██████████| 5/5 [00:07<00:00,  1.43s/it]\n",
            "Epoch 22/50, Validation: 100%|██████████| 2/2 [00:01<00:00,  1.43it/s]\n",
            "Evaluate Train: 100%|██████████| 5/5 [00:06<00:00,  1.38s/it]\n",
            "Evaluate Validation: 100%|██████████| 2/2 [00:02<00:00,  1.06s/it]\n"
          ]
        },
        {
          "output_type": "stream",
          "name": "stdout",
          "text": [
            "Epoch 22/50\n",
            "Train - Loss: 0.4182, Accuracy: 0.8118, Precision: 0.9392, Recall: 0.6589, AUC: 0.8873\n",
            "Val - Loss: 0.4502, Accuracy: 0.7879, Precision: 0.8364, Recall: 0.7077, AUC: 0.8703\n"
          ]
        },
        {
          "output_type": "stream",
          "name": "stderr",
          "text": [
            "Epoch 23/50, Train: 100%|██████████| 5/5 [00:08<00:00,  1.69s/it]\n",
            "Epoch 23/50, Validation: 100%|██████████| 2/2 [00:01<00:00,  1.21it/s]\n",
            "Evaluate Train: 100%|██████████| 5/5 [00:06<00:00,  1.25s/it]\n",
            "Evaluate Validation: 100%|██████████| 2/2 [00:01<00:00,  1.46it/s]\n"
          ]
        },
        {
          "output_type": "stream",
          "name": "stdout",
          "text": [
            "Epoch 23/50\n",
            "Train - Loss: 0.4584, Accuracy: 0.8251, Precision: 0.9560, Recall: 0.6744, AUC: 0.8836\n",
            "Val - Loss: 0.5539, Accuracy: 0.7803, Precision: 0.8750, Recall: 0.6462, AUC: 0.8530\n"
          ]
        },
        {
          "output_type": "stream",
          "name": "stderr",
          "text": [
            "Epoch 24/50, Train: 100%|██████████| 5/5 [00:06<00:00,  1.34s/it]\n",
            "Epoch 24/50, Validation: 100%|██████████| 2/2 [00:01<00:00,  1.43it/s]\n",
            "Evaluate Train: 100%|██████████| 5/5 [00:06<00:00,  1.34s/it]\n",
            "Evaluate Validation: 100%|██████████| 2/2 [00:01<00:00,  1.27it/s]\n"
          ]
        },
        {
          "output_type": "stream",
          "name": "stdout",
          "text": [
            "Epoch 24/50\n",
            "Train - Loss: 0.3946, Accuracy: 0.8346, Precision: 0.8834, Recall: 0.7636, AUC: 0.8857\n",
            "Val - Loss: 0.5268, Accuracy: 0.8030, Precision: 0.8305, Recall: 0.7538, AUC: 0.8627\n"
          ]
        },
        {
          "output_type": "stream",
          "name": "stderr",
          "text": [
            "Epoch 25/50, Train: 100%|██████████| 5/5 [00:06<00:00,  1.34s/it]\n",
            "Epoch 25/50, Validation: 100%|██████████| 2/2 [00:01<00:00,  1.43it/s]\n",
            "Evaluate Train: 100%|██████████| 5/5 [00:07<00:00,  1.57s/it]\n",
            "Evaluate Validation: 100%|██████████| 2/2 [00:01<00:00,  1.43it/s]\n"
          ]
        },
        {
          "output_type": "stream",
          "name": "stdout",
          "text": [
            "Epoch 25/50\n",
            "Train - Loss: 0.4195, Accuracy: 0.8099, Precision: 0.8527, Recall: 0.7403, AUC: 0.8812\n",
            "Val - Loss: 0.5171, Accuracy: 0.8182, Precision: 0.8475, Recall: 0.7692, AUC: 0.8583\n"
          ]
        },
        {
          "output_type": "stream",
          "name": "stderr",
          "text": [
            "Epoch 26/50, Train: 100%|██████████| 5/5 [00:06<00:00,  1.36s/it]\n",
            "Epoch 26/50, Validation: 100%|██████████| 2/2 [00:01<00:00,  1.43it/s]\n",
            "Evaluate Train: 100%|██████████| 5/5 [00:06<00:00,  1.24s/it]\n",
            "Evaluate Validation: 100%|██████████| 2/2 [00:01<00:00,  1.45it/s]\n"
          ]
        },
        {
          "output_type": "stream",
          "name": "stdout",
          "text": [
            "Epoch 26/50\n",
            "Train - Loss: 0.4397, Accuracy: 0.8213, Precision: 0.9059, Recall: 0.7093, AUC: 0.8673\n",
            "Val - Loss: 0.6695, Accuracy: 0.8333, Precision: 0.8909, Recall: 0.7538, AUC: 0.8806\n"
          ]
        },
        {
          "output_type": "stream",
          "name": "stderr",
          "text": [
            "Epoch 27/50, Train: 100%|██████████| 5/5 [00:07<00:00,  1.53s/it]\n",
            "Epoch 27/50, Validation: 100%|██████████| 2/2 [00:01<00:00,  1.23it/s]\n",
            "Evaluate Train: 100%|██████████| 5/5 [00:05<00:00,  1.19s/it]\n",
            "Evaluate Validation: 100%|██████████| 2/2 [00:01<00:00,  1.44it/s]\n"
          ]
        },
        {
          "output_type": "stream",
          "name": "stdout",
          "text": [
            "Epoch 27/50\n",
            "Train - Loss: 0.4064, Accuracy: 0.8232, Precision: 0.9188, Recall: 0.7016, AUC: 0.8751\n",
            "Val - Loss: 0.3247, Accuracy: 0.8258, Precision: 0.9038, Recall: 0.7231, AUC: 0.8604\n"
          ]
        },
        {
          "output_type": "stream",
          "name": "stderr",
          "text": [
            "Epoch 28/50, Train: 100%|██████████| 5/5 [00:08<00:00,  1.63s/it]\n",
            "Epoch 28/50, Validation: 100%|██████████| 2/2 [00:01<00:00,  1.19it/s]\n",
            "Evaluate Train: 100%|██████████| 5/5 [00:06<00:00,  1.27s/it]\n",
            "Evaluate Validation: 100%|██████████| 2/2 [00:01<00:00,  1.44it/s]\n"
          ]
        },
        {
          "output_type": "stream",
          "name": "stdout",
          "text": [
            "Epoch 28/50\n",
            "Train - Loss: 0.4341, Accuracy: 0.8327, Precision: 0.8829, Recall: 0.7597, AUC: 0.8880\n",
            "Val - Loss: 0.3690, Accuracy: 0.8409, Precision: 0.9231, Recall: 0.7385, AUC: 0.8854\n"
          ]
        },
        {
          "output_type": "stream",
          "name": "stderr",
          "text": [
            "Epoch 29/50, Train: 100%|██████████| 5/5 [00:06<00:00,  1.34s/it]\n",
            "Epoch 29/50, Validation: 100%|██████████| 2/2 [00:01<00:00,  1.44it/s]\n",
            "Evaluate Train: 100%|██████████| 5/5 [00:07<00:00,  1.41s/it]\n",
            "Evaluate Validation: 100%|██████████| 2/2 [00:01<00:00,  1.43it/s]\n"
          ]
        },
        {
          "output_type": "stream",
          "name": "stdout",
          "text": [
            "Epoch 29/50\n",
            "Train - Loss: 0.4215, Accuracy: 0.8270, Precision: 0.8744, Recall: 0.7558, AUC: 0.8815\n",
            "Val - Loss: 0.2821, Accuracy: 0.8258, Precision: 0.8750, Recall: 0.7538, AUC: 0.8572\n"
          ]
        },
        {
          "output_type": "stream",
          "name": "stderr",
          "text": [
            "Epoch 30/50, Train: 100%|██████████| 5/5 [00:07<00:00,  1.54s/it]\n",
            "Epoch 30/50, Validation: 100%|██████████| 2/2 [00:02<00:00,  1.09s/it]\n",
            "Evaluate Train: 100%|██████████| 5/5 [00:06<00:00,  1.27s/it]\n",
            "Evaluate Validation: 100%|██████████| 2/2 [00:01<00:00,  1.47it/s]\n"
          ]
        },
        {
          "output_type": "stream",
          "name": "stdout",
          "text": [
            "Epoch 30/50\n",
            "Train - Loss: 0.3748, Accuracy: 0.8251, Precision: 0.8739, Recall: 0.7519, AUC: 0.8881\n",
            "Val - Loss: 0.2890, Accuracy: 0.8030, Precision: 0.8095, Recall: 0.7846, AUC: 0.8682\n"
          ]
        },
        {
          "output_type": "stream",
          "name": "stderr",
          "text": [
            "Epoch 31/50, Train: 100%|██████████| 5/5 [00:06<00:00,  1.34s/it]\n",
            "Epoch 31/50, Validation: 100%|██████████| 2/2 [00:01<00:00,  1.45it/s]\n",
            "Evaluate Train: 100%|██████████| 5/5 [00:07<00:00,  1.45s/it]\n",
            "Evaluate Validation: 100%|██████████| 2/2 [00:01<00:00,  1.42it/s]\n"
          ]
        },
        {
          "output_type": "stream",
          "name": "stdout",
          "text": [
            "Epoch 31/50\n",
            "Train - Loss: 0.4169, Accuracy: 0.8099, Precision: 0.8465, Recall: 0.7481, AUC: 0.8662\n",
            "Val - Loss: 0.4507, Accuracy: 0.8106, Precision: 0.8333, Recall: 0.7692, AUC: 0.8785\n"
          ]
        },
        {
          "output_type": "stream",
          "name": "stderr",
          "text": [
            "Epoch 32/50, Train: 100%|██████████| 5/5 [00:07<00:00,  1.47s/it]\n",
            "Epoch 32/50, Validation: 100%|██████████| 2/2 [00:01<00:00,  1.20it/s]\n",
            "Evaluate Train: 100%|██████████| 5/5 [00:06<00:00,  1.26s/it]\n",
            "Evaluate Validation: 100%|██████████| 2/2 [00:01<00:00,  1.41it/s]\n"
          ]
        },
        {
          "output_type": "stream",
          "name": "stdout",
          "text": [
            "Epoch 32/50\n",
            "Train - Loss: 0.4141, Accuracy: 0.8213, Precision: 0.8981, Recall: 0.7171, AUC: 0.8777\n",
            "Val - Loss: 0.3316, Accuracy: 0.7879, Precision: 0.8491, Recall: 0.6923, AUC: 0.8569\n"
          ]
        },
        {
          "output_type": "stream",
          "name": "stderr",
          "text": [
            "Epoch 33/50, Train: 100%|██████████| 5/5 [00:07<00:00,  1.50s/it]\n",
            "Epoch 33/50, Validation: 100%|██████████| 2/2 [00:01<00:00,  1.34it/s]\n",
            "Evaluate Train: 100%|██████████| 5/5 [00:07<00:00,  1.45s/it]\n",
            "Evaluate Validation: 100%|██████████| 2/2 [00:01<00:00,  1.41it/s]\n"
          ]
        },
        {
          "output_type": "stream",
          "name": "stdout",
          "text": [
            "Epoch 33/50\n",
            "Train - Loss: 0.4017, Accuracy: 0.8137, Precision: 0.8922, Recall: 0.7054, AUC: 0.8848\n",
            "Val - Loss: 0.3328, Accuracy: 0.8030, Precision: 0.8545, Recall: 0.7231, AUC: 0.8528\n"
          ]
        },
        {
          "output_type": "stream",
          "name": "stderr",
          "text": [
            "Epoch 34/50, Train: 100%|██████████| 5/5 [00:07<00:00,  1.57s/it]\n",
            "Epoch 34/50, Validation: 100%|██████████| 2/2 [00:02<00:00,  1.11s/it]\n",
            "Evaluate Train: 100%|██████████| 5/5 [00:06<00:00,  1.28s/it]\n",
            "Evaluate Validation: 100%|██████████| 2/2 [00:01<00:00,  1.27it/s]\n"
          ]
        },
        {
          "output_type": "stream",
          "name": "stdout",
          "text": [
            "Epoch 34/50\n",
            "Train - Loss: 0.3981, Accuracy: 0.8384, Precision: 0.9391, Recall: 0.7171, AUC: 0.8931\n",
            "Val - Loss: 0.6002, Accuracy: 0.8561, Precision: 0.9600, Recall: 0.7385, AUC: 0.8356\n"
          ]
        },
        {
          "output_type": "stream",
          "name": "stderr",
          "text": [
            "Epoch 35/50, Train: 100%|██████████| 5/5 [00:07<00:00,  1.45s/it]\n",
            "Epoch 35/50, Validation: 100%|██████████| 2/2 [00:01<00:00,  1.40it/s]\n",
            "Evaluate Train: 100%|██████████| 5/5 [00:06<00:00,  1.39s/it]\n",
            "Evaluate Validation: 100%|██████████| 2/2 [00:01<00:00,  1.30it/s]\n"
          ]
        },
        {
          "output_type": "stream",
          "name": "stdout",
          "text": [
            "Epoch 35/50\n",
            "Train - Loss: 0.4073, Accuracy: 0.7909, Precision: 0.9805, Recall: 0.5853, AUC: 0.8456\n",
            "Val - Loss: 0.7961, Accuracy: 0.7121, Precision: 0.9355, Recall: 0.4462, AUC: 0.7750\n"
          ]
        },
        {
          "output_type": "stream",
          "name": "stderr",
          "text": [
            "Epoch 36/50, Train: 100%|██████████| 5/5 [00:07<00:00,  1.45s/it]\n",
            "Epoch 36/50, Validation: 100%|██████████| 2/2 [00:01<00:00,  1.03it/s]\n",
            "Evaluate Train: 100%|██████████| 5/5 [00:06<00:00,  1.22s/it]\n",
            "Evaluate Validation: 100%|██████████| 2/2 [00:01<00:00,  1.40it/s]\n"
          ]
        },
        {
          "output_type": "stream",
          "name": "stdout",
          "text": [
            "Epoch 36/50\n",
            "Train - Loss: 0.3915, Accuracy: 0.7776, Precision: 0.9172, Recall: 0.6008, AUC: 0.8530\n",
            "Val - Loss: 0.4413, Accuracy: 0.7045, Precision: 0.8421, Recall: 0.4923, AUC: 0.7463\n"
          ]
        },
        {
          "output_type": "stream",
          "name": "stderr",
          "text": [
            "Epoch 37/50, Train: 100%|██████████| 5/5 [00:06<00:00,  1.36s/it]\n",
            "Epoch 37/50, Validation: 100%|██████████| 2/2 [00:01<00:00,  1.41it/s]\n",
            "Evaluate Train: 100%|██████████| 5/5 [00:05<00:00,  1.13s/it]\n",
            "Evaluate Validation: 100%|██████████| 2/2 [00:02<00:00,  1.05s/it]\n"
          ]
        },
        {
          "output_type": "stream",
          "name": "stdout",
          "text": [
            "Epoch 37/50\n",
            "Train - Loss: 0.4082, Accuracy: 0.8194, Precision: 0.8273, Recall: 0.7984, AUC: 0.8893\n",
            "Val - Loss: 0.4226, Accuracy: 0.7803, Precision: 0.7647, Recall: 0.8000, AUC: 0.8930\n"
          ]
        },
        {
          "output_type": "stream",
          "name": "stderr",
          "text": [
            "Epoch 38/50, Train: 100%|██████████| 5/5 [00:08<00:00,  1.65s/it]\n",
            "Epoch 38/50, Validation: 100%|██████████| 2/2 [00:01<00:00,  1.08it/s]\n",
            "Evaluate Train: 100%|██████████| 5/5 [00:05<00:00,  1.12s/it]\n",
            "Evaluate Validation: 100%|██████████| 2/2 [00:01<00:00,  1.43it/s]\n"
          ]
        },
        {
          "output_type": "stream",
          "name": "stdout",
          "text": [
            "Epoch 38/50\n",
            "Train - Loss: 0.4403, Accuracy: 0.8346, Precision: 0.8577, Recall: 0.7946, AUC: 0.8953\n",
            "Val - Loss: 0.2251, Accuracy: 0.8106, Precision: 0.8226, Recall: 0.7846, AUC: 0.8946\n"
          ]
        },
        {
          "output_type": "stream",
          "name": "stderr",
          "text": [
            "Epoch 39/50, Train: 100%|██████████| 5/5 [00:08<00:00,  1.72s/it]\n",
            "Epoch 39/50, Validation: 100%|██████████| 2/2 [00:02<00:00,  1.06s/it]\n",
            "Evaluate Train: 100%|██████████| 5/5 [00:06<00:00,  1.22s/it]\n",
            "Evaluate Validation: 100%|██████████| 2/2 [00:01<00:00,  1.07it/s]\n"
          ]
        },
        {
          "output_type": "stream",
          "name": "stdout",
          "text": [
            "Epoch 39/50\n",
            "Train - Loss: 0.3984, Accuracy: 0.8099, Precision: 0.9115, Recall: 0.6783, AUC: 0.8698\n",
            "Val - Loss: 0.5668, Accuracy: 0.7879, Precision: 0.8776, Recall: 0.6615, AUC: 0.8338\n"
          ]
        },
        {
          "output_type": "stream",
          "name": "stderr",
          "text": [
            "Epoch 40/50, Train: 100%|██████████| 5/5 [00:07<00:00,  1.48s/it]\n",
            "Epoch 40/50, Validation: 100%|██████████| 2/2 [00:01<00:00,  1.26it/s]\n",
            "Evaluate Train: 100%|██████████| 5/5 [00:06<00:00,  1.38s/it]\n",
            "Evaluate Validation: 100%|██████████| 2/2 [00:01<00:00,  1.40it/s]\n"
          ]
        },
        {
          "output_type": "stream",
          "name": "stdout",
          "text": [
            "Epoch 40/50\n",
            "Train - Loss: 0.3835, Accuracy: 0.8346, Precision: 0.9254, Recall: 0.7209, AUC: 0.8959\n",
            "Val - Loss: 0.3611, Accuracy: 0.8182, Precision: 0.8727, Recall: 0.7385, AUC: 0.8723\n"
          ]
        },
        {
          "output_type": "stream",
          "name": "stderr",
          "text": [
            "Epoch 41/50, Train: 100%|██████████| 5/5 [00:07<00:00,  1.54s/it]\n",
            "Epoch 41/50, Validation: 100%|██████████| 2/2 [00:01<00:00,  1.21it/s]\n",
            "Evaluate Train: 100%|██████████| 5/5 [00:06<00:00,  1.22s/it]\n",
            "Evaluate Validation: 100%|██████████| 2/2 [00:01<00:00,  1.43it/s]\n"
          ]
        },
        {
          "output_type": "stream",
          "name": "stdout",
          "text": [
            "Epoch 41/50\n",
            "Train - Loss: 0.4561, Accuracy: 0.8023, Precision: 0.8208, Recall: 0.7636, AUC: 0.8696\n",
            "Val - Loss: 0.3811, Accuracy: 0.7955, Precision: 0.8167, Recall: 0.7538, AUC: 0.8583\n"
          ]
        },
        {
          "output_type": "stream",
          "name": "stderr",
          "text": [
            "Epoch 42/50, Train: 100%|██████████| 5/5 [00:07<00:00,  1.45s/it]\n",
            "Epoch 42/50, Validation: 100%|██████████| 2/2 [00:01<00:00,  1.09it/s]\n",
            "Evaluate Train: 100%|██████████| 5/5 [00:08<00:00,  1.62s/it]\n",
            "Evaluate Validation: 100%|██████████| 2/2 [00:01<00:00,  1.07it/s]\n"
          ]
        },
        {
          "output_type": "stream",
          "name": "stdout",
          "text": [
            "Epoch 42/50\n",
            "Train - Loss: 0.3721, Accuracy: 0.8213, Precision: 0.8661, Recall: 0.7519, AUC: 0.8902\n",
            "Val - Loss: 0.3425, Accuracy: 0.8030, Precision: 0.8000, Recall: 0.8000, AUC: 0.8413\n"
          ]
        },
        {
          "output_type": "stream",
          "name": "stderr",
          "text": [
            "Epoch 43/50, Train: 100%|██████████| 5/5 [00:07<00:00,  1.58s/it]\n",
            "Epoch 43/50, Validation: 100%|██████████| 2/2 [00:01<00:00,  1.38it/s]\n",
            "Evaluate Train: 100%|██████████| 5/5 [00:06<00:00,  1.21s/it]\n",
            "Evaluate Validation: 100%|██████████| 2/2 [00:01<00:00,  1.41it/s]\n"
          ]
        },
        {
          "output_type": "stream",
          "name": "stdout",
          "text": [
            "Epoch 43/50\n",
            "Train - Loss: 0.4842, Accuracy: 0.8213, Precision: 0.8361, Recall: 0.7907, AUC: 0.8949\n",
            "Val - Loss: 0.6250, Accuracy: 0.8106, Precision: 0.8125, Recall: 0.8000, AUC: 0.8409\n"
          ]
        },
        {
          "output_type": "stream",
          "name": "stderr",
          "text": [
            "Epoch 44/50, Train: 100%|██████████| 5/5 [00:07<00:00,  1.56s/it]\n",
            "Epoch 44/50, Validation: 100%|██████████| 2/2 [00:01<00:00,  1.36it/s]\n",
            "Evaluate Train: 100%|██████████| 5/5 [00:05<00:00,  1.16s/it]\n",
            "Evaluate Validation: 100%|██████████| 2/2 [00:01<00:00,  1.40it/s]\n"
          ]
        },
        {
          "output_type": "stream",
          "name": "stdout",
          "text": [
            "Epoch 44/50\n",
            "Train - Loss: 0.4242, Accuracy: 0.8289, Precision: 0.8500, Recall: 0.7907, AUC: 0.9009\n",
            "Val - Loss: 0.4438, Accuracy: 0.7803, Precision: 0.8000, Recall: 0.7385, AUC: 0.7876\n"
          ]
        },
        {
          "output_type": "stream",
          "name": "stderr",
          "text": [
            "Epoch 45/50, Train: 100%|██████████| 5/5 [00:07<00:00,  1.44s/it]\n",
            "Epoch 45/50, Validation: 100%|██████████| 2/2 [00:01<00:00,  1.39it/s]\n",
            "Evaluate Train: 100%|██████████| 5/5 [00:05<00:00,  1.18s/it]\n",
            "Evaluate Validation: 100%|██████████| 2/2 [00:01<00:00,  1.43it/s]\n"
          ]
        },
        {
          "output_type": "stream",
          "name": "stdout",
          "text": [
            "Epoch 45/50\n",
            "Train - Loss: 0.3959, Accuracy: 0.8137, Precision: 0.8361, Recall: 0.7713, AUC: 0.8760\n",
            "Val - Loss: 0.3290, Accuracy: 0.8182, Precision: 0.8361, Recall: 0.7846, AUC: 0.8650\n"
          ]
        },
        {
          "output_type": "stream",
          "name": "stderr",
          "text": [
            "Epoch 46/50, Train: 100%|██████████| 5/5 [00:07<00:00,  1.49s/it]\n",
            "Epoch 46/50, Validation: 100%|██████████| 2/2 [00:01<00:00,  1.22it/s]\n",
            "Evaluate Train: 100%|██████████| 5/5 [00:05<00:00,  1.13s/it]\n",
            "Evaluate Validation: 100%|██████████| 2/2 [00:01<00:00,  1.25it/s]\n"
          ]
        },
        {
          "output_type": "stream",
          "name": "stdout",
          "text": [
            "Epoch 46/50\n",
            "Train - Loss: 0.3613, Accuracy: 0.8118, Precision: 0.8472, Recall: 0.7519, AUC: 0.8913\n",
            "Val - Loss: 0.3382, Accuracy: 0.8333, Precision: 0.8644, Recall: 0.7846, AUC: 0.8668\n"
          ]
        },
        {
          "output_type": "stream",
          "name": "stderr",
          "text": [
            "Epoch 47/50, Train: 100%|██████████| 5/5 [00:06<00:00,  1.36s/it]\n",
            "Epoch 47/50, Validation: 100%|██████████| 2/2 [00:01<00:00,  1.42it/s]\n",
            "Evaluate Train: 100%|██████████| 5/5 [00:05<00:00,  1.18s/it]\n",
            "Evaluate Validation: 100%|██████████| 2/2 [00:01<00:00,  1.42it/s]\n"
          ]
        },
        {
          "output_type": "stream",
          "name": "stdout",
          "text": [
            "Epoch 47/50\n",
            "Train - Loss: 0.3673, Accuracy: 0.8346, Precision: 0.8490, Recall: 0.8062, AUC: 0.9097\n",
            "Val - Loss: 0.2570, Accuracy: 0.8030, Precision: 0.8000, Recall: 0.8000, AUC: 0.8744\n"
          ]
        },
        {
          "output_type": "stream",
          "name": "stderr",
          "text": [
            "Epoch 48/50, Train: 100%|██████████| 5/5 [00:08<00:00,  1.69s/it]\n",
            "Epoch 48/50, Validation: 100%|██████████| 2/2 [00:01<00:00,  1.17it/s]\n",
            "Evaluate Train: 100%|██████████| 5/5 [00:07<00:00,  1.44s/it]\n",
            "Evaluate Validation: 100%|██████████| 2/2 [00:01<00:00,  1.09it/s]\n"
          ]
        },
        {
          "output_type": "stream",
          "name": "stdout",
          "text": [
            "Epoch 48/50\n",
            "Train - Loss: 0.3616, Accuracy: 0.8232, Precision: 0.8261, Recall: 0.8101, AUC: 0.8979\n",
            "Val - Loss: 0.5454, Accuracy: 0.7500, Precision: 0.7222, Recall: 0.8000, AUC: 0.8462\n"
          ]
        },
        {
          "output_type": "stream",
          "name": "stderr",
          "text": [
            "Epoch 49/50, Train: 100%|██████████| 5/5 [00:08<00:00,  1.65s/it]\n",
            "Epoch 49/50, Validation: 100%|██████████| 2/2 [00:01<00:00,  1.11it/s]\n",
            "Evaluate Train: 100%|██████████| 5/5 [00:07<00:00,  1.58s/it]\n",
            "Evaluate Validation: 100%|██████████| 2/2 [00:02<00:00,  1.01s/it]\n"
          ]
        },
        {
          "output_type": "stream",
          "name": "stdout",
          "text": [
            "Epoch 49/50\n",
            "Train - Loss: 0.4600, Accuracy: 0.8498, Precision: 0.9202, Recall: 0.7597, AUC: 0.9115\n",
            "Val - Loss: 0.2803, Accuracy: 0.7727, Precision: 0.7966, Recall: 0.7231, AUC: 0.8161\n"
          ]
        },
        {
          "output_type": "stream",
          "name": "stderr",
          "text": [
            "Epoch 50/50, Train: 100%|██████████| 5/5 [00:06<00:00,  1.38s/it]\n",
            "Epoch 50/50, Validation: 100%|██████████| 2/2 [00:02<00:00,  1.10s/it]\n",
            "Evaluate Train: 100%|██████████| 5/5 [00:06<00:00,  1.29s/it]\n",
            "Evaluate Validation: 100%|██████████| 2/2 [00:01<00:00,  1.43it/s]\n"
          ]
        },
        {
          "output_type": "stream",
          "name": "stdout",
          "text": [
            "Epoch 50/50\n",
            "Train - Loss: 0.4237, Accuracy: 0.8460, Precision: 0.9360, Recall: 0.7364, AUC: 0.9214\n",
            "Val - Loss: 0.5727, Accuracy: 0.7879, Precision: 0.8491, Recall: 0.6923, AUC: 0.8503\n"
          ]
        },
        {
          "output_type": "stream",
          "name": "stderr",
          "text": [
            "Evaluate Test: 100%|██████████| 2/2 [00:00<00:00,  6.97it/s]\n"
          ]
        },
        {
          "output_type": "stream",
          "name": "stdout",
          "text": [
            "\n",
            "Accuracy: 0.7333, Precision: 0.7403, Recall: 0.7037, AUC: 0.8205\n",
            "Results saved to results/finetune/ori/pvig_s_224_gelu/classification_results.txt\n"
          ]
        },
        {
          "output_type": "stream",
          "name": "stderr",
          "text": [
            "WARNING:matplotlib.image:Clipping input data to the valid range for imshow with RGB data ([0..1] for floats or [0..255] for integers).\n",
            "WARNING:matplotlib.image:Clipping input data to the valid range for imshow with RGB data ([0..1] for floats or [0..255] for integers).\n",
            "WARNING:matplotlib.image:Clipping input data to the valid range for imshow with RGB data ([0..1] for floats or [0..255] for integers).\n",
            "WARNING:matplotlib.image:Clipping input data to the valid range for imshow with RGB data ([0..1] for floats or [0..255] for integers).\n",
            "WARNING:matplotlib.image:Clipping input data to the valid range for imshow with RGB data ([0..1] for floats or [0..255] for integers).\n",
            "WARNING:matplotlib.image:Clipping input data to the valid range for imshow with RGB data ([0..1] for floats or [0..255] for integers).\n"
          ]
        },
        {
          "output_type": "stream",
          "name": "stdout",
          "text": [
            "Results saved to results/visualization/zero_shot/ucsd/pvig_s_224_gelu/images/cxr_images.png\n"
          ]
        },
        {
          "output_type": "stream",
          "name": "stderr",
          "text": [
            "Evaluate Train: 100%|██████████| 16/16 [00:06<00:00,  2.51it/s]\n",
            "Evaluate Validation: 100%|██████████| 4/4 [00:01<00:00,  3.85it/s]\n",
            "Evaluate Test: 100%|██████████| 5/5 [00:02<00:00,  2.03it/s]"
          ]
        },
        {
          "output_type": "stream",
          "name": "stdout",
          "text": [
            "Results saved to results/zero_shot/ucsd/pvig_s_224_gelu/classification_results.txt\n"
          ]
        },
        {
          "output_type": "stream",
          "name": "stderr",
          "text": [
            "\n"
          ]
        },
        {
          "output_type": "display_data",
          "data": {
            "text/plain": [
              "<Figure size 640x480 with 0 Axes>"
            ]
          },
          "metadata": {}
        }
      ],
      "source": [
        "%run ViG-Pediatric/scripts/pvig/finetune_pvig_s_224_gelu.py"
      ]
    },
    {
      "cell_type": "code",
      "execution_count": 6,
      "metadata": {
        "id": "iS2nwgZiNwUL"
      },
      "outputs": [],
      "source": [
        "# %run ViG-Pediatric/scripts/pvig/finetune_pvig_m_224_gelu.py"
      ]
    },
    {
      "cell_type": "code",
      "execution_count": 7,
      "metadata": {
        "id": "atO0ERu4o3Ha"
      },
      "outputs": [],
      "source": [
        "# %run ViG-Pediatric/scripts/pvig/finetune_pvig_b_224_gelu.py"
      ]
    },
    {
      "cell_type": "code",
      "execution_count": 4,
      "metadata": {
        "colab": {
          "base_uri": "https://localhost:8080/"
        },
        "id": "9iOSsMEcOBZ-",
        "outputId": "d83b554f-2d20-46d0-b004-c9608e235330"
      },
      "outputs": [
        {
          "output_type": "stream",
          "name": "stdout",
          "text": [
            "  adding: results/ (stored 0%)\n",
            "  adding: results/visualization/ (stored 0%)\n",
            "  adding: results/visualization/zero_shot/ (stored 0%)\n",
            "  adding: results/visualization/zero_shot/ucsd/ (stored 0%)\n",
            "  adding: results/visualization/zero_shot/ucsd/pvig_s_224_gelu/ (stored 0%)\n",
            "  adding: results/visualization/zero_shot/ucsd/pvig_s_224_gelu/images/ (stored 0%)\n",
            "  adding: results/visualization/zero_shot/ucsd/pvig_s_224_gelu/images/cxr_images.png (deflated 8%)\n",
            "  adding: results/visualization/zero_shot/ori/ (stored 0%)\n",
            "  adding: results/visualization/zero_shot/ori/pvig_s_224_gelu/ (stored 0%)\n",
            "  adding: results/visualization/zero_shot/ori/pvig_s_224_gelu/images/ (stored 0%)\n",
            "  adding: results/visualization/zero_shot/ori/pvig_s_224_gelu/images/cxr_images.png (deflated 7%)\n",
            "  adding: results/visualization/finetune/ (stored 0%)\n",
            "  adding: results/visualization/finetune/ucsd/ (stored 0%)\n",
            "  adding: results/visualization/finetune/ucsd/pvig_s_224_gelu/ (stored 0%)\n",
            "  adding: results/visualization/finetune/ucsd/pvig_s_224_gelu/images/ (stored 0%)\n",
            "  adding: results/visualization/finetune/ucsd/pvig_s_224_gelu/images/cxr_images.png (deflated 8%)\n",
            "  adding: results/visualization/finetune/ori/ (stored 0%)\n",
            "  adding: results/visualization/finetune/ori/pvig_s_224_gelu/ (stored 0%)\n",
            "  adding: results/visualization/finetune/ori/pvig_s_224_gelu/images/ (stored 0%)\n",
            "  adding: results/visualization/finetune/ori/pvig_s_224_gelu/images/cxr_images.png (deflated 6%)\n",
            "  adding: results/zero_shot/ (stored 0%)\n",
            "  adding: results/zero_shot/ucsd/ (stored 0%)\n",
            "  adding: results/zero_shot/ucsd/pvig_s_224_gelu/ (stored 0%)\n",
            "  adding: results/zero_shot/ucsd/pvig_s_224_gelu/classification_results.txt (deflated 54%)\n",
            "  adding: results/zero_shot/ori/ (stored 0%)\n",
            "  adding: results/zero_shot/ori/pvig_s_224_gelu/ (stored 0%)\n",
            "  adding: results/zero_shot/ori/pvig_s_224_gelu/classification_results.txt (deflated 53%)\n",
            "  adding: results/finetune/ (stored 0%)\n",
            "  adding: results/finetune/ucsd/ (stored 0%)\n",
            "  adding: results/finetune/ucsd/pvig_s_224_gelu/ (stored 0%)\n",
            "  adding: results/finetune/ucsd/pvig_s_224_gelu/metrics_auc_epoch.png (deflated 9%)\n",
            "  adding: results/finetune/ucsd/pvig_s_224_gelu/metrics_recall_epoch.png (deflated 2%)\n",
            "  adding: results/finetune/ucsd/pvig_s_224_gelu/metrics_precision_epoch.png (deflated 6%)\n",
            "  adding: results/finetune/ucsd/pvig_s_224_gelu/metrics_accuracy_epoch.png (deflated 6%)\n",
            "  adding: results/finetune/ucsd/pvig_s_224_gelu/metrics_loss_epoch.png (deflated 9%)\n",
            "  adding: results/finetune/ucsd/pvig_s_224_gelu/classification_results.txt (deflated 56%)\n",
            "  adding: results/finetune/ucsd/pvig_s_224_gelu/.ipynb_checkpoints/ (stored 0%)\n",
            "  adding: results/finetune/ori/ (stored 0%)\n",
            "  adding: results/finetune/ori/pvig_s_224_gelu/ (stored 0%)\n",
            "  adding: results/finetune/ori/pvig_s_224_gelu/metrics_auc_epoch.png (deflated 5%)\n",
            "  adding: results/finetune/ori/pvig_s_224_gelu/metrics_recall_epoch.png (deflated 4%)\n",
            "  adding: results/finetune/ori/pvig_s_224_gelu/metrics_precision_epoch.png (deflated 5%)\n",
            "  adding: results/finetune/ori/pvig_s_224_gelu/metrics_accuracy_epoch.png (deflated 6%)\n",
            "  adding: results/finetune/ori/pvig_s_224_gelu/metrics_loss_epoch.png (deflated 15%)\n",
            "  adding: results/finetune/ori/pvig_s_224_gelu/classification_results.txt (deflated 56%)\n",
            "  adding: results/finetune/ori/pvig_s_224_gelu/.ipynb_checkpoints/ (stored 0%)\n"
          ]
        }
      ],
      "source": [
        "!zip -r pvig_results.zip results"
      ]
    },
    {
      "cell_type": "code",
      "execution_count": 3,
      "metadata": {
        "id": "5aTRY9ohOHW1"
      },
      "outputs": [],
      "source": [
        "%mv pvig_results.zip drive/MyDrive/ViG-Pediatric"
      ]
    }
  ],
  "metadata": {
    "accelerator": "GPU",
    "colab": {
      "gpuType": "A100",
      "machine_shape": "hm",
      "provenance": []
    },
    "kernelspec": {
      "display_name": "Python 3",
      "name": "python3"
    },
    "language_info": {
      "name": "python"
    }
  },
  "nbformat": 4,
  "nbformat_minor": 0
}