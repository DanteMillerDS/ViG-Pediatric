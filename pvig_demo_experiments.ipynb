{
  "cells": [
    {
      "cell_type": "code",
      "execution_count": 1,
      "metadata": {
        "colab": {
          "base_uri": "https://localhost:8080/"
        },
        "id": "SYlFA4SFXLHW",
        "outputId": "28858efe-5ba2-46e3-9584-a4025e909711"
      },
      "outputs": [
        {
          "output_type": "stream",
          "name": "stdout",
          "text": [
            "Cloning into 'ViG-Pediatric'...\n",
            "remote: Enumerating objects: 721, done.\u001b[K\n",
            "remote: Counting objects: 100% (239/239), done.\u001b[K\n",
            "remote: Compressing objects: 100% (173/173), done.\u001b[K\n",
            "remote: Total 721 (delta 73), reused 188 (delta 27), pack-reused 482\u001b[K\n",
            "Receiving objects: 100% (721/721), 6.80 MiB | 15.60 MiB/s, done.\n",
            "Resolving deltas: 100% (258/258), done.\n",
            "/content/ViG-Pediatric\n",
            "Submodule 'Efficient-AI-Backbones' (https://github.com/huawei-noah/Efficient-AI-Backbones.git) registered for path 'Efficient-AI-Backbones'\n",
            "Submodule 'PVT' (https://github.com/whai362/PVT.git) registered for path 'PVT'\n",
            "Cloning into '/content/ViG-Pediatric/Efficient-AI-Backbones'...\n",
            "Cloning into '/content/ViG-Pediatric/PVT'...\n",
            "Submodule path 'Efficient-AI-Backbones': checked out 'b216a124bc8c1e999233adc23176bbba82d05d8b'\n",
            "Submodule path 'PVT': checked out '57e2dfaa5a46f9050d76f306a4fcd9a7c061f520'\n",
            "/content\n"
          ]
        }
      ],
      "source": [
        "!git clone https://github.com/DanteMillerDS/ViG-Pediatric.git\n",
        "%cd ViG-Pediatric\n",
        "!git submodule init\n",
        "!git submodule update\n",
        "%cd ../"
      ]
    },
    {
      "cell_type": "code",
      "execution_count": 2,
      "metadata": {
        "id": "VQMyZvkCXDmU",
        "colab": {
          "base_uri": "https://localhost:8080/"
        },
        "outputId": "834f651d-38a3-4d39-918f-a94fa09993e5"
      },
      "outputs": [
        {
          "output_type": "stream",
          "name": "stdout",
          "text": [
            "Collecting ftfy (from -r ViG-Pediatric/requirements.txt (line 1))\n",
            "  Downloading ftfy-6.2.0-py3-none-any.whl (54 kB)\n",
            "\u001b[?25l     \u001b[90m━━━━━━━━━━━━━━━━━━━━━━━━━━━━━━━━━━━━━━━━\u001b[0m \u001b[32m0.0/54.4 kB\u001b[0m \u001b[31m?\u001b[0m eta \u001b[36m-:--:--\u001b[0m\r\u001b[2K     \u001b[90m━━━━━━━━━━━━━━━━━━━━━━━━━━━━━━━━━━━━━━━━\u001b[0m \u001b[32m54.4/54.4 kB\u001b[0m \u001b[31m2.1 MB/s\u001b[0m eta \u001b[36m0:00:00\u001b[0m\n",
            "\u001b[?25hRequirement already satisfied: regex in /usr/local/lib/python3.10/dist-packages (from -r ViG-Pediatric/requirements.txt (line 2)) (2023.12.25)\n",
            "Collecting timm (from -r ViG-Pediatric/requirements.txt (line 3))\n",
            "  Downloading timm-0.9.16-py3-none-any.whl (2.2 MB)\n",
            "\u001b[2K     \u001b[90m━━━━━━━━━━━━━━━━━━━━━━━━━━━━━━━━━━━━━━━━\u001b[0m \u001b[32m2.2/2.2 MB\u001b[0m \u001b[31m13.8 MB/s\u001b[0m eta \u001b[36m0:00:00\u001b[0m\n",
            "\u001b[?25hRequirement already satisfied: tqdm in /usr/local/lib/python3.10/dist-packages (from -r ViG-Pediatric/requirements.txt (line 4)) (4.66.2)\n",
            "Requirement already satisfied: wcwidth<0.3.0,>=0.2.12 in /usr/local/lib/python3.10/dist-packages (from ftfy->-r ViG-Pediatric/requirements.txt (line 1)) (0.2.13)\n",
            "Requirement already satisfied: torch in /usr/local/lib/python3.10/dist-packages (from timm->-r ViG-Pediatric/requirements.txt (line 3)) (2.2.1+cu121)\n",
            "Requirement already satisfied: torchvision in /usr/local/lib/python3.10/dist-packages (from timm->-r ViG-Pediatric/requirements.txt (line 3)) (0.17.1+cu121)\n",
            "Requirement already satisfied: pyyaml in /usr/local/lib/python3.10/dist-packages (from timm->-r ViG-Pediatric/requirements.txt (line 3)) (6.0.1)\n",
            "Requirement already satisfied: huggingface_hub in /usr/local/lib/python3.10/dist-packages (from timm->-r ViG-Pediatric/requirements.txt (line 3)) (0.20.3)\n",
            "Requirement already satisfied: safetensors in /usr/local/lib/python3.10/dist-packages (from timm->-r ViG-Pediatric/requirements.txt (line 3)) (0.4.3)\n",
            "Requirement already satisfied: filelock in /usr/local/lib/python3.10/dist-packages (from huggingface_hub->timm->-r ViG-Pediatric/requirements.txt (line 3)) (3.13.4)\n",
            "Requirement already satisfied: fsspec>=2023.5.0 in /usr/local/lib/python3.10/dist-packages (from huggingface_hub->timm->-r ViG-Pediatric/requirements.txt (line 3)) (2023.6.0)\n",
            "Requirement already satisfied: requests in /usr/local/lib/python3.10/dist-packages (from huggingface_hub->timm->-r ViG-Pediatric/requirements.txt (line 3)) (2.31.0)\n",
            "Requirement already satisfied: typing-extensions>=3.7.4.3 in /usr/local/lib/python3.10/dist-packages (from huggingface_hub->timm->-r ViG-Pediatric/requirements.txt (line 3)) (4.11.0)\n",
            "Requirement already satisfied: packaging>=20.9 in /usr/local/lib/python3.10/dist-packages (from huggingface_hub->timm->-r ViG-Pediatric/requirements.txt (line 3)) (24.0)\n",
            "Requirement already satisfied: sympy in /usr/local/lib/python3.10/dist-packages (from torch->timm->-r ViG-Pediatric/requirements.txt (line 3)) (1.12)\n",
            "Requirement already satisfied: networkx in /usr/local/lib/python3.10/dist-packages (from torch->timm->-r ViG-Pediatric/requirements.txt (line 3)) (3.3)\n",
            "Requirement already satisfied: jinja2 in /usr/local/lib/python3.10/dist-packages (from torch->timm->-r ViG-Pediatric/requirements.txt (line 3)) (3.1.3)\n",
            "Collecting nvidia-cuda-nvrtc-cu12==12.1.105 (from torch->timm->-r ViG-Pediatric/requirements.txt (line 3))\n",
            "  Using cached nvidia_cuda_nvrtc_cu12-12.1.105-py3-none-manylinux1_x86_64.whl (23.7 MB)\n",
            "Collecting nvidia-cuda-runtime-cu12==12.1.105 (from torch->timm->-r ViG-Pediatric/requirements.txt (line 3))\n",
            "  Using cached nvidia_cuda_runtime_cu12-12.1.105-py3-none-manylinux1_x86_64.whl (823 kB)\n",
            "Collecting nvidia-cuda-cupti-cu12==12.1.105 (from torch->timm->-r ViG-Pediatric/requirements.txt (line 3))\n",
            "  Using cached nvidia_cuda_cupti_cu12-12.1.105-py3-none-manylinux1_x86_64.whl (14.1 MB)\n",
            "Collecting nvidia-cudnn-cu12==8.9.2.26 (from torch->timm->-r ViG-Pediatric/requirements.txt (line 3))\n",
            "  Using cached nvidia_cudnn_cu12-8.9.2.26-py3-none-manylinux1_x86_64.whl (731.7 MB)\n",
            "Collecting nvidia-cublas-cu12==12.1.3.1 (from torch->timm->-r ViG-Pediatric/requirements.txt (line 3))\n",
            "  Using cached nvidia_cublas_cu12-12.1.3.1-py3-none-manylinux1_x86_64.whl (410.6 MB)\n",
            "Collecting nvidia-cufft-cu12==11.0.2.54 (from torch->timm->-r ViG-Pediatric/requirements.txt (line 3))\n",
            "  Using cached nvidia_cufft_cu12-11.0.2.54-py3-none-manylinux1_x86_64.whl (121.6 MB)\n",
            "Collecting nvidia-curand-cu12==10.3.2.106 (from torch->timm->-r ViG-Pediatric/requirements.txt (line 3))\n",
            "  Using cached nvidia_curand_cu12-10.3.2.106-py3-none-manylinux1_x86_64.whl (56.5 MB)\n",
            "Collecting nvidia-cusolver-cu12==11.4.5.107 (from torch->timm->-r ViG-Pediatric/requirements.txt (line 3))\n",
            "  Using cached nvidia_cusolver_cu12-11.4.5.107-py3-none-manylinux1_x86_64.whl (124.2 MB)\n",
            "Collecting nvidia-cusparse-cu12==12.1.0.106 (from torch->timm->-r ViG-Pediatric/requirements.txt (line 3))\n",
            "  Using cached nvidia_cusparse_cu12-12.1.0.106-py3-none-manylinux1_x86_64.whl (196.0 MB)\n",
            "Collecting nvidia-nccl-cu12==2.19.3 (from torch->timm->-r ViG-Pediatric/requirements.txt (line 3))\n",
            "  Using cached nvidia_nccl_cu12-2.19.3-py3-none-manylinux1_x86_64.whl (166.0 MB)\n",
            "Collecting nvidia-nvtx-cu12==12.1.105 (from torch->timm->-r ViG-Pediatric/requirements.txt (line 3))\n",
            "  Using cached nvidia_nvtx_cu12-12.1.105-py3-none-manylinux1_x86_64.whl (99 kB)\n",
            "Requirement already satisfied: triton==2.2.0 in /usr/local/lib/python3.10/dist-packages (from torch->timm->-r ViG-Pediatric/requirements.txt (line 3)) (2.2.0)\n",
            "Collecting nvidia-nvjitlink-cu12 (from nvidia-cusolver-cu12==11.4.5.107->torch->timm->-r ViG-Pediatric/requirements.txt (line 3))\n",
            "  Using cached nvidia_nvjitlink_cu12-12.4.127-py3-none-manylinux2014_x86_64.whl (21.1 MB)\n",
            "Requirement already satisfied: numpy in /usr/local/lib/python3.10/dist-packages (from torchvision->timm->-r ViG-Pediatric/requirements.txt (line 3)) (1.25.2)\n",
            "Requirement already satisfied: pillow!=8.3.*,>=5.3.0 in /usr/local/lib/python3.10/dist-packages (from torchvision->timm->-r ViG-Pediatric/requirements.txt (line 3)) (9.4.0)\n",
            "Requirement already satisfied: MarkupSafe>=2.0 in /usr/local/lib/python3.10/dist-packages (from jinja2->torch->timm->-r ViG-Pediatric/requirements.txt (line 3)) (2.1.5)\n",
            "Requirement already satisfied: charset-normalizer<4,>=2 in /usr/local/lib/python3.10/dist-packages (from requests->huggingface_hub->timm->-r ViG-Pediatric/requirements.txt (line 3)) (3.3.2)\n",
            "Requirement already satisfied: idna<4,>=2.5 in /usr/local/lib/python3.10/dist-packages (from requests->huggingface_hub->timm->-r ViG-Pediatric/requirements.txt (line 3)) (3.7)\n",
            "Requirement already satisfied: urllib3<3,>=1.21.1 in /usr/local/lib/python3.10/dist-packages (from requests->huggingface_hub->timm->-r ViG-Pediatric/requirements.txt (line 3)) (2.0.7)\n",
            "Requirement already satisfied: certifi>=2017.4.17 in /usr/local/lib/python3.10/dist-packages (from requests->huggingface_hub->timm->-r ViG-Pediatric/requirements.txt (line 3)) (2024.2.2)\n",
            "Requirement already satisfied: mpmath>=0.19 in /usr/local/lib/python3.10/dist-packages (from sympy->torch->timm->-r ViG-Pediatric/requirements.txt (line 3)) (1.3.0)\n",
            "Installing collected packages: nvidia-nvtx-cu12, nvidia-nvjitlink-cu12, nvidia-nccl-cu12, nvidia-curand-cu12, nvidia-cufft-cu12, nvidia-cuda-runtime-cu12, nvidia-cuda-nvrtc-cu12, nvidia-cuda-cupti-cu12, nvidia-cublas-cu12, ftfy, nvidia-cusparse-cu12, nvidia-cudnn-cu12, nvidia-cusolver-cu12, timm\n",
            "Successfully installed ftfy-6.2.0 nvidia-cublas-cu12-12.1.3.1 nvidia-cuda-cupti-cu12-12.1.105 nvidia-cuda-nvrtc-cu12-12.1.105 nvidia-cuda-runtime-cu12-12.1.105 nvidia-cudnn-cu12-8.9.2.26 nvidia-cufft-cu12-11.0.2.54 nvidia-curand-cu12-10.3.2.106 nvidia-cusolver-cu12-11.4.5.107 nvidia-cusparse-cu12-12.1.0.106 nvidia-nccl-cu12-2.19.3 nvidia-nvjitlink-cu12-12.4.127 nvidia-nvtx-cu12-12.1.105 timm-0.9.16\n"
          ]
        }
      ],
      "source": [
        "!pip install -r ViG-Pediatric/requirements.txt"
      ]
    },
    {
      "cell_type": "code",
      "execution_count": 3,
      "metadata": {
        "id": "ILrFM1tepbzg",
        "colab": {
          "base_uri": "https://localhost:8080/"
        },
        "outputId": "4469f12f-c6ff-4419-a4f6-a2053920eafc"
      },
      "outputs": [
        {
          "output_type": "stream",
          "name": "stdout",
          "text": [
            "First replacement completed.\n",
            "Second replacement completed.\n"
          ]
        }
      ],
      "source": [
        "file_path = '/content/ViG-Pediatric/Efficient-AI-Backbones/vig_pytorch/gcn_lib/pos_embed.py'  # Update this to your file's path\n",
        "with open(file_path, 'r') as file:\n",
        "    file_contents = file.read()\n",
        "file_contents = file_contents.replace('omega = np.arange(embed_dim // 2, dtype=np.float)', 'omega = np.arange(embed_dim // 2, dtype=float)')\n",
        "with open(file_path, 'w') as file:\n",
        "    file.write(file_contents)\n",
        "print(\"First replacement completed.\")\n",
        "\n",
        "file_path = '/content/ViG-Pediatric/Efficient-AI-Backbones/vig_pytorch/gcn_lib/torch_vertex.py'  # Update this to your file's path\n",
        "with open(file_path, 'r') as file:\n",
        "    file_contents = file.read()\n",
        "file_contents = file_contents.replace(\"print('using relative_pos')\", \"\")\n",
        "with open(file_path, 'w') as file:\n",
        "    file.write(file_contents)\n",
        "print(\"Second replacement completed.\")\n"
      ]
    },
    {
      "cell_type": "code",
      "execution_count": null,
      "metadata": {
        "id": "XSlfTgTNXnm3"
      },
      "outputs": [],
      "source": [
        "# %run ViG-Pediatric/scripts/pvig/finetune_pvig_ti_224_gelu.py"
      ]
    },
    {
      "cell_type": "code",
      "execution_count": 4,
      "metadata": {
        "id": "8Qo0XB08o12e",
        "colab": {
          "base_uri": "https://localhost:8080/",
          "height": 1000
        },
        "outputId": "124697a1-79da-4a8c-fdb0-751673c1c474"
      },
      "outputs": [
        {
          "metadata": {
            "tags": null
          },
          "name": "stderr",
          "output_type": "stream",
          "text": [
            "/content/ViG-Pediatric/PVT/classification/pvt_v2.py:330: UserWarning: Overwriting pvt_v2_b0 in registry with PVT.classification.pvt_v2.pvt_v2_b0. This is because the name being registered conflicts with an existing name. Please check if this is not expected.\n",
            "  def pvt_v2_b0(pretrained=False, **kwargs):\n",
            "/content/ViG-Pediatric/PVT/classification/pvt_v2.py:341: UserWarning: Overwriting pvt_v2_b1 in registry with PVT.classification.pvt_v2.pvt_v2_b1. This is because the name being registered conflicts with an existing name. Please check if this is not expected.\n",
            "  def pvt_v2_b1(pretrained=False, **kwargs):\n",
            "/content/ViG-Pediatric/PVT/classification/pvt_v2.py:352: UserWarning: Overwriting pvt_v2_b2 in registry with PVT.classification.pvt_v2.pvt_v2_b2. This is because the name being registered conflicts with an existing name. Please check if this is not expected.\n",
            "  def pvt_v2_b2(pretrained=False, **kwargs):\n",
            "/content/ViG-Pediatric/PVT/classification/pvt_v2.py:362: UserWarning: Overwriting pvt_v2_b3 in registry with PVT.classification.pvt_v2.pvt_v2_b3. This is because the name being registered conflicts with an existing name. Please check if this is not expected.\n",
            "  def pvt_v2_b3(pretrained=False, **kwargs):\n",
            "/content/ViG-Pediatric/PVT/classification/pvt_v2.py:373: UserWarning: Overwriting pvt_v2_b4 in registry with PVT.classification.pvt_v2.pvt_v2_b4. This is because the name being registered conflicts with an existing name. Please check if this is not expected.\n",
            "  def pvt_v2_b4(pretrained=False, **kwargs):\n",
            "/content/ViG-Pediatric/PVT/classification/pvt_v2.py:384: UserWarning: Overwriting pvt_v2_b5 in registry with PVT.classification.pvt_v2.pvt_v2_b5. This is because the name being registered conflicts with an existing name. Please check if this is not expected.\n",
            "  def pvt_v2_b5(pretrained=False, **kwargs):\n",
            "/content/ViG-Pediatric/PVT/classification/pvt_v2.py:395: UserWarning: Overwriting pvt_v2_b2_li in registry with PVT.classification.pvt_v2.pvt_v2_b2_li. This is because the name being registered conflicts with an existing name. Please check if this is not expected.\n",
            "  def pvt_v2_b2_li(pretrained=False, **kwargs):\n"
          ]
        },
        {
          "metadata": {
            "tags": null
          },
          "name": "stdout",
          "output_type": "stream",
          "text": [
            "Mounting Google Drive...\n",
            "Mounted at /content/drive\n",
            "Copying files from Google Drive...\n",
            "Extracting zip files...\n",
            "\n",
            "7-Zip [64] 16.02 : Copyright (c) 1999-2016 Igor Pavlov : 2016-05-21\n",
            "p7zip Version 16.02 (locale=en_US.UTF-8,Utf16=on,HugeFiles=on,64 bits,12 CPUs Intel(R) Xeon(R) CPU @ 2.20GHz (50657),ASM,AES-NI)\n",
            "\n",
            "Scanning the drive for archives:\n",
            "  0M Scan /content/\b\b\b\b\b\b\b\b\b\b\b\b\b\b\b\b\b\b\b                   \b\b\b\b\b\b\b\b\b\b\b\b\b\b\b\b\b\b\b1 file, 22471493 bytes (22 MiB)\n",
            "\n",
            "Extracting archive: /content/ucsd.zip\n",
            " 66% 4096 Open\b\b\b\b\b\b\b\b\b\b\b\b\b\b              \b\b\b\b\b\b\b\b\b\b\b\b\b\b--\n",
            "Path = /content/ucsd.zip\n",
            "Type = zip\n",
            "Physical Size = 22471493\n",
            "\n",
            "  0%\b\b\b\b    \b\b\b\b 23% 1474 - ucsd/Train/Positive/VIRUS-752117-0002.jpeg\b\b\b\b\b\b\b\b\b\b\b\b\b\b\b\b\b\b\b\b\b\b\b\b\b\b\b\b\b\b\b\b\b\b\b\b\b\b\b\b\b\b\b\b\b\b\b\b\b\b\b\b\b\b                                                      \b\b\b\b\b\b\b\b\b\b\b\b\b\b\b\b\b\b\b\b\b\b\b\b\b\b\b\b\b\b\b\b\b\b\b\b\b\b\b\b\b\b\b\b\b\b\b\b\b\b\b\b\b\b 37% 2425 - __MACOSX/ucsd/Train/Positive/._VIRUS-2727335-0002.jpeg\b\b\b\b\b\b\b\b\b\b\b\b\b\b\b\b\b\b\b\b\b\b\b\b\b\b\b\b\b\b\b\b\b\b\b\b\b\b\b\b\b\b\b\b\b\b\b\b\b\b\b\b\b\b\b\b\b\b\b\b\b\b\b\b\b\b                                                                  \b\b\b\b\b\b\b\b\b\b\b\b\b\b\b\b\b\b\b\b\b\b\b\b\b\b\b\b\b\b\b\b\b\b\b\b\b\b\b\b\b\b\b\b\b\b\b\b\b\b\b\b\b\b\b\b\b\b\b\b\b\b\b\b\b\b 46% 3006 - ucsd/Train/Positive/VIRUS-6686792-0002.jpeg\b\b\b\b\b\b\b\b\b\b\b\b\b\b\b\b\b\b\b\b\b\b\b\b\b\b\b\b\b\b\b\b\b\b\b\b\b\b\b\b\b\b\b\b\b\b\b\b\b\b\b\b\b\b\b                                                       \b\b\b\b\b\b\b\b\b\b\b\b\b\b\b\b\b\b\b\b\b\b\b\b\b\b\b\b\b\b\b\b\b\b\b\b\b\b\b\b\b\b\b\b\b\b\b\b\b\b\b\b\b\b\b 62% 3969 - __MACOSX/ucsd/Train/Negative/._NORMAL-1243491-0001.jpeg\b\b\b\b\b\b\b\b\b\b\b\b\b\b\b\b\b\b\b\b\b\b\b\b\b\b\b\b\b\b\b\b\b\b\b\b\b\b\b\b\b\b\b\b\b\b\b\b\b\b\b\b\b\b\b\b\b\b\b\b\b\b\b\b\b\b\b                                                                   \b\b\b\b\b\b\b\b\b\b\b\b\b\b\b\b\b\b\b\b\b\b\b\b\b\b\b\b\b\b\b\b\b\b\b\b\b\b\b\b\b\b\b\b\b\b\b\b\b\b\b\b\b\b\b\b\b\b\b\b\b\b\b\b\b\b\b 74% 4661 - __MACOSX/ucsd/Train/Negative/._NORMAL-7955464-0003.jpeg\b\b\b\b\b\b\b\b\b\b\b\b\b\b\b\b\b\b\b\b\b\b\b\b\b\b\b\b\b\b\b\b\b\b\b\b\b\b\b\b\b\b\b\b\b\b\b\b\b\b\b\b\b\b\b\b\b\b\b\b\b\b\b\b\b\b\b                                                                   \b\b\b\b\b\b\b\b\b\b\b\b\b\b\b\b\b\b\b\b\b\b\b\b\b\b\b\b\b\b\b\b\b\b\b\b\b\b\b\b\b\b\b\b\b\b\b\b\b\b\b\b\b\b\b\b\b\b\b\b\b\b\b\b\b\b\b 83% 5167 - __MACOSX/ucsd/Train/Negative/._NORMAL-9867990-0001.jpeg\b\b\b\b\b\b\b\b\b\b\b\b\b\b\b\b\b\b\b\b\b\b\b\b\b\b\b\b\b\b\b\b\b\b\b\b\b\b\b\b\b\b\b\b\b\b\b\b\b\b\b\b\b\b\b\b\b\b\b\b\b\b\b\b\b\b\b                                                                   \b\b\b\b\b\b\b\b\b\b\b\b\b\b\b\b\b\b\b\b\b\b\b\b\b\b\b\b\b\b\b\b\b\b\b\b\b\b\b\b\b\b\b\b\b\b\b\b\b\b\b\b\b\b\b\b\b\b\b\b\b\b\b\b\b\b\bEverything is Ok\n",
            "\n",
            "Folders: 10\n",
            "Files: 6162\n",
            "Size:       21151375\n",
            "Compressed: 22471493\n",
            "\n",
            "7-Zip [64] 16.02 : Copyright (c) 1999-2016 Igor Pavlov : 2016-05-21\n",
            "p7zip Version 16.02 (locale=en_US.UTF-8,Utf16=on,HugeFiles=on,64 bits,12 CPUs Intel(R) Xeon(R) CPU @ 2.20GHz (50657),ASM,AES-NI)\n",
            "\n",
            "Scanning the drive for archives:\n",
            "  0M Scan /content/\b\b\b\b\b\b\b\b\b\b\b\b\b\b\b\b\b\b\b                   \b\b\b\b\b\b\b\b\b\b\b\b\b\b\b\b\b\b\b1 file, 19842873 bytes (19 MiB)\n",
            "\n",
            "Extracting archive: /content/ori.zip\n",
            "--\n",
            "Path = /content/ori.zip\n",
            "Type = zip\n",
            "Physical Size = 19842873\n",
            "\n",
            "  0%\b\b\b\b    \b\b\b\b 78% 1307 - __MACOSX/ori/Train/Negative/._FJB18FFLK92D.png\b\b\b\b\b\b\b\b\b\b\b\b\b\b\b\b\b\b\b\b\b\b\b\b\b\b\b\b\b\b\b\b\b\b\b\b\b\b\b\b\b\b\b\b\b\b\b\b\b\b\b\b\b\b\b\b\b\b                                                          \b\b\b\b\b\b\b\b\b\b\b\b\b\b\b\b\b\b\b\b\b\b\b\b\b\b\b\b\b\b\b\b\b\b\b\b\b\b\b\b\b\b\b\b\b\b\b\b\b\b\b\b\b\b\b\b\b\bEverything is Ok\n",
            "\n",
            "Folders: 10\n",
            "Files: 1662\n",
            "Size:       19522791\n",
            "Compressed: 19842873\n",
            "Files extracted successfully.\n"
          ]
        },
        {
          "metadata": {
            "tags": null
          },
          "name": "stderr",
          "output_type": "stream",
          "text": [
            "WARNING:matplotlib.image:Clipping input data to the valid range for imshow with RGB data ([0..1] for floats or [0..255] for integers).\n",
            "WARNING:matplotlib.image:Clipping input data to the valid range for imshow with RGB data ([0..1] for floats or [0..255] for integers).\n",
            "WARNING:matplotlib.image:Clipping input data to the valid range for imshow with RGB data ([0..1] for floats or [0..255] for integers).\n",
            "WARNING:matplotlib.image:Clipping input data to the valid range for imshow with RGB data ([0..1] for floats or [0..255] for integers).\n",
            "WARNING:matplotlib.image:Clipping input data to the valid range for imshow with RGB data ([0..1] for floats or [0..255] for integers).\n",
            "WARNING:matplotlib.image:Clipping input data to the valid range for imshow with RGB data ([0..1] for floats or [0..255] for integers).\n"
          ]
        },
        {
          "metadata": {
            "tags": null
          },
          "name": "stdout",
          "output_type": "stream",
          "text": [
            "Results saved to results/visualization/finetune/ucsd/pvig_s_224_gelu/images/cxr_images.png\n"
          ]
        },
        {
          "metadata": {
            "tags": null
          },
          "name": "stderr",
          "output_type": "stream",
          "text": [
            "/usr/local/lib/python3.10/dist-packages/torchvision/models/inception.py:43: FutureWarning: The default weight initialization of inception_v3 will be changed in future releases of torchvision. If you wish to keep the old behavior (which leads to long initialization times due to scipy/scipy#11299), please set init_weights=True.\n",
            "  warnings.warn(\n"
          ]
        },
        {
          "metadata": {
            "tags": null
          },
          "name": "stdout",
          "output_type": "stream",
          "text": [
            "NVIDIA library configured successfully.\n",
            "<model.pvig_model.pvig_s_224_gelu.<locals>.OptInit object at 0x7fa9b97c78e0>\n",
            "Model pvig_s_224_gelu loaded with mean and std normalization.\n",
            "Mean: [0.4655 0.4655 0.4655], Std: [0.2523 0.2523 0.2523]\n"
          ]
        },
        {
          "metadata": {
            "tags": null
          },
          "name": "stderr",
          "output_type": "stream",
          "text": [
            "/usr/lib/python3.10/multiprocessing/popen_fork.py:66: RuntimeWarning: os.fork() was called. os.fork() is incompatible with multithreaded code, and JAX is multithreaded, so this will likely lead to a deadlock.\n",
            "  self.pid = os.fork()\n",
            "Epoch 1/50, Train:   0%|          | 0/31 [00:00<?, ?it/s]/usr/local/lib/python3.10/dist-packages/torch/_inductor/compile_fx.py:140: UserWarning: TensorFloat32 tensor cores for float32 matrix multiplication available but not enabled. Consider setting `torch.set_float32_matmul_precision('high')` for better performance.\n",
            "  warnings.warn(\n",
            "Epoch 1/50, Train: 100%|██████████| 31/31 [04:47<00:00,  9.28s/it]\n",
            "Epoch 1/50, Validation: 100%|██████████| 8/8 [01:46<00:00, 13.31s/it]\n",
            "Evaluate Train: 100%|██████████| 31/31 [01:16<00:00,  2.47s/it]\n",
            "Evaluate Validation: 100%|██████████| 8/8 [00:05<00:00,  1.35it/s]\n"
          ]
        },
        {
          "metadata": {
            "tags": null
          },
          "name": "stdout",
          "output_type": "stream",
          "text": [
            "Epoch 1/50\n",
            "Train - Loss: 0.3868, Accuracy: 0.6131, Precision: 0.5578, Recall: 0.9801, AUC: 0.9209\n",
            "Val - Loss: 0.7265, Accuracy: 0.6024, Precision: 0.5511, Recall: 0.9707, AUC: 0.9031\n"
          ]
        },
        {
          "metadata": {
            "tags": null
          },
          "name": "stderr",
          "output_type": "stream",
          "text": [
            "Epoch 2/50, Train: 100%|██████████| 31/31 [00:30<00:00,  1.01it/s]\n",
            "Epoch 2/50, Validation: 100%|██████████| 8/8 [00:06<00:00,  1.17it/s]\n",
            "Evaluate Train: 100%|██████████| 31/31 [00:25<00:00,  1.22it/s]\n",
            "Evaluate Validation: 100%|██████████| 8/8 [00:07<00:00,  1.06it/s]\n"
          ]
        },
        {
          "metadata": {
            "tags": null
          },
          "name": "stdout",
          "output_type": "stream",
          "text": [
            "Epoch 2/50\n",
            "Train - Loss: 0.3007, Accuracy: 0.9034, Precision: 0.9153, Recall: 0.8827, AUC: 0.9546\n",
            "Val - Loss: 0.2975, Accuracy: 0.8905, Precision: 0.9343, Recall: 0.8326, AUC: 0.9420\n"
          ]
        },
        {
          "metadata": {
            "tags": null
          },
          "name": "stderr",
          "output_type": "stream",
          "text": [
            "Epoch 3/50, Train: 100%|██████████| 31/31 [00:30<00:00,  1.01it/s]\n",
            "Epoch 3/50, Validation: 100%|██████████| 8/8 [00:06<00:00,  1.19it/s]\n",
            "Evaluate Train: 100%|██████████| 31/31 [00:25<00:00,  1.20it/s]\n",
            "Evaluate Validation: 100%|██████████| 8/8 [00:06<00:00,  1.17it/s]\n"
          ]
        },
        {
          "metadata": {
            "tags": null
          },
          "name": "stdout",
          "output_type": "stream",
          "text": [
            "Epoch 3/50\n",
            "Train - Loss: 0.2655, Accuracy: 0.8912, Precision: 0.8512, Recall: 0.9403, AUC: 0.9588\n",
            "Val - Loss: 0.2980, Accuracy: 0.8945, Precision: 0.8725, Recall: 0.9163, AUC: 0.9546\n"
          ]
        },
        {
          "metadata": {
            "tags": null
          },
          "name": "stderr",
          "output_type": "stream",
          "text": [
            "Epoch 4/50, Train: 100%|██████████| 31/31 [00:31<00:00,  1.00s/it]\n",
            "Epoch 4/50, Validation: 100%|██████████| 8/8 [00:08<00:00,  1.01s/it]\n",
            "Evaluate Train: 100%|██████████| 31/31 [00:25<00:00,  1.24it/s]\n",
            "Evaluate Validation: 100%|██████████| 8/8 [00:05<00:00,  1.35it/s]\n"
          ]
        },
        {
          "metadata": {
            "tags": null
          },
          "name": "stdout",
          "output_type": "stream",
          "text": [
            "Epoch 4/50\n",
            "Train - Loss: 0.2549, Accuracy: 0.9166, Precision: 0.9341, Recall: 0.8911, AUC: 0.9671\n",
            "Val - Loss: 0.2368, Accuracy: 0.9108, Precision: 0.9412, Recall: 0.8703, AUC: 0.9614\n"
          ]
        },
        {
          "metadata": {
            "tags": null
          },
          "name": "stderr",
          "output_type": "stream",
          "text": [
            "Epoch 5/50, Train: 100%|██████████| 31/31 [00:30<00:00,  1.01it/s]\n",
            "Epoch 5/50, Validation: 100%|██████████| 8/8 [00:06<00:00,  1.31it/s]\n",
            "Evaluate Train: 100%|██████████| 31/31 [00:25<00:00,  1.23it/s]\n",
            "Evaluate Validation: 100%|██████████| 8/8 [00:06<00:00,  1.25it/s]\n"
          ]
        },
        {
          "metadata": {
            "tags": null
          },
          "name": "stdout",
          "output_type": "stream",
          "text": [
            "Epoch 5/50\n",
            "Train - Loss: 0.2336, Accuracy: 0.9161, Precision: 0.9551, Recall: 0.8681, AUC: 0.9749\n",
            "Val - Loss: 0.2318, Accuracy: 0.9128, Precision: 0.9579, Recall: 0.8577, AUC: 0.9743\n"
          ]
        },
        {
          "metadata": {
            "tags": null
          },
          "name": "stderr",
          "output_type": "stream",
          "text": [
            "Epoch 6/50, Train: 100%|██████████| 31/31 [00:30<00:00,  1.03it/s]\n",
            "Epoch 6/50, Validation: 100%|██████████| 8/8 [00:05<00:00,  1.34it/s]\n",
            "Evaluate Train: 100%|██████████| 31/31 [00:24<00:00,  1.25it/s]\n",
            "Evaluate Validation: 100%|██████████| 8/8 [00:07<00:00,  1.09it/s]\n"
          ]
        },
        {
          "metadata": {
            "tags": null
          },
          "name": "stdout",
          "output_type": "stream",
          "text": [
            "Epoch 6/50\n",
            "Train - Loss: 0.2092, Accuracy: 0.9253, Precision: 0.9191, Recall: 0.9277, AUC: 0.9765\n",
            "Val - Loss: 0.2193, Accuracy: 0.9168, Precision: 0.9267, Recall: 0.8996, AUC: 0.9699\n"
          ]
        },
        {
          "metadata": {
            "tags": null
          },
          "name": "stderr",
          "output_type": "stream",
          "text": [
            "Epoch 7/50, Train: 100%|██████████| 31/31 [00:30<00:00,  1.01it/s]\n",
            "Epoch 7/50, Validation: 100%|██████████| 8/8 [00:06<00:00,  1.31it/s]\n",
            "Evaluate Train: 100%|██████████| 31/31 [00:24<00:00,  1.27it/s]\n",
            "Evaluate Validation: 100%|██████████| 8/8 [00:06<00:00,  1.28it/s]\n"
          ]
        },
        {
          "metadata": {
            "tags": null
          },
          "name": "stdout",
          "output_type": "stream",
          "text": [
            "Epoch 7/50\n",
            "Train - Loss: 0.2095, Accuracy: 0.8663, Precision: 0.8157, Recall: 0.9361, AUC: 0.9419\n",
            "Val - Loss: 0.3547, Accuracy: 0.8621, Precision: 0.8155, Recall: 0.9247, AUC: 0.9355\n"
          ]
        },
        {
          "metadata": {
            "tags": null
          },
          "name": "stderr",
          "output_type": "stream",
          "text": [
            "Epoch 8/50, Train: 100%|██████████| 31/31 [00:30<00:00,  1.02it/s]\n",
            "Epoch 8/50, Validation: 100%|██████████| 8/8 [00:06<00:00,  1.27it/s]\n",
            "Evaluate Train: 100%|██████████| 31/31 [00:25<00:00,  1.22it/s]\n",
            "Evaluate Validation: 100%|██████████| 8/8 [00:05<00:00,  1.37it/s]\n"
          ]
        },
        {
          "metadata": {
            "tags": null
          },
          "name": "stdout",
          "output_type": "stream",
          "text": [
            "Epoch 8/50\n",
            "Train - Loss: 0.1851, Accuracy: 0.9298, Precision: 0.9484, Recall: 0.9047, AUC: 0.9813\n",
            "Val - Loss: 0.2028, Accuracy: 0.9270, Precision: 0.9511, Recall: 0.8954, AUC: 0.9783\n"
          ]
        },
        {
          "metadata": {
            "tags": null
          },
          "name": "stderr",
          "output_type": "stream",
          "text": [
            "Epoch 9/50, Train: 100%|██████████| 31/31 [00:30<00:00,  1.03it/s]\n",
            "Epoch 9/50, Validation: 100%|██████████| 8/8 [00:05<00:00,  1.34it/s]\n",
            "Evaluate Train: 100%|██████████| 31/31 [00:26<00:00,  1.18it/s]\n",
            "Evaluate Validation: 100%|██████████| 8/8 [00:06<00:00,  1.18it/s]\n"
          ]
        },
        {
          "metadata": {
            "tags": null
          },
          "name": "stdout",
          "output_type": "stream",
          "text": [
            "Epoch 9/50\n",
            "Train - Loss: 0.1735, Accuracy: 0.8846, Precision: 0.9740, Recall: 0.7832, AUC: 0.9744\n",
            "Val - Loss: 0.4458, Accuracy: 0.8641, Precision: 0.9624, Recall: 0.7490, AUC: 0.9638\n"
          ]
        },
        {
          "metadata": {
            "tags": null
          },
          "name": "stderr",
          "output_type": "stream",
          "text": [
            "Epoch 10/50, Train: 100%|██████████| 31/31 [00:30<00:00,  1.03it/s]\n",
            "Epoch 10/50, Validation: 100%|██████████| 8/8 [00:06<00:00,  1.17it/s]\n",
            "Evaluate Train: 100%|██████████| 31/31 [00:24<00:00,  1.27it/s]\n",
            "Evaluate Validation: 100%|██████████| 8/8 [00:06<00:00,  1.16it/s]\n"
          ]
        },
        {
          "metadata": {
            "tags": null
          },
          "name": "stdout",
          "output_type": "stream",
          "text": [
            "Epoch 10/50\n",
            "Train - Loss: 0.1892, Accuracy: 0.9334, Precision: 0.9508, Recall: 0.9099, AUC: 0.9842\n",
            "Val - Loss: 0.1799, Accuracy: 0.9148, Precision: 0.9417, Recall: 0.8787, AUC: 0.9790\n"
          ]
        },
        {
          "metadata": {
            "tags": null
          },
          "name": "stderr",
          "output_type": "stream",
          "text": [
            "Epoch 11/50, Train: 100%|██████████| 31/31 [00:31<00:00,  1.02s/it]\n",
            "Epoch 11/50, Validation: 100%|██████████| 8/8 [00:07<00:00,  1.08it/s]\n",
            "Evaluate Train: 100%|██████████| 31/31 [00:26<00:00,  1.17it/s]\n",
            "Evaluate Validation: 100%|██████████| 8/8 [00:06<00:00,  1.16it/s]\n"
          ]
        },
        {
          "metadata": {
            "tags": null
          },
          "name": "stdout",
          "output_type": "stream",
          "text": [
            "Epoch 11/50\n",
            "Train - Loss: 0.1640, Accuracy: 0.9365, Precision: 0.9350, Recall: 0.9340, AUC: 0.9839\n",
            "Val - Loss: 0.2000, Accuracy: 0.9371, Precision: 0.9483, Recall: 0.9205, AUC: 0.9810\n"
          ]
        },
        {
          "metadata": {
            "tags": null
          },
          "name": "stderr",
          "output_type": "stream",
          "text": [
            "Epoch 12/50, Train: 100%|██████████| 31/31 [00:30<00:00,  1.02it/s]\n",
            "Epoch 12/50, Validation: 100%|██████████| 8/8 [00:06<00:00,  1.21it/s]\n",
            "Evaluate Train: 100%|██████████| 31/31 [00:24<00:00,  1.24it/s]\n",
            "Evaluate Validation: 100%|██████████| 8/8 [00:05<00:00,  1.35it/s]\n"
          ]
        },
        {
          "metadata": {
            "tags": null
          },
          "name": "stdout",
          "output_type": "stream",
          "text": [
            "Epoch 12/50\n",
            "Train - Loss: 0.1718, Accuracy: 0.9441, Precision: 0.9568, Recall: 0.9267, AUC: 0.9863\n",
            "Val - Loss: 0.2062, Accuracy: 0.9229, Precision: 0.9389, Recall: 0.8996, AUC: 0.9780\n"
          ]
        },
        {
          "metadata": {
            "tags": null
          },
          "name": "stderr",
          "output_type": "stream",
          "text": [
            "Epoch 13/50, Train: 100%|██████████| 31/31 [00:27<00:00,  1.13it/s]\n",
            "Epoch 13/50, Validation: 100%|██████████| 8/8 [00:05<00:00,  1.45it/s]\n",
            "Evaluate Train: 100%|██████████| 31/31 [00:23<00:00,  1.33it/s]\n",
            "Evaluate Validation: 100%|██████████| 8/8 [00:05<00:00,  1.35it/s]\n"
          ]
        },
        {
          "metadata": {
            "tags": null
          },
          "name": "stdout",
          "output_type": "stream",
          "text": [
            "Epoch 13/50\n",
            "Train - Loss: 0.1454, Accuracy: 0.9359, Precision: 0.9825, Recall: 0.8838, AUC: 0.9901\n",
            "Val - Loss: 0.1781, Accuracy: 0.9229, Precision: 0.9631, Recall: 0.8745, AUC: 0.9836\n"
          ]
        },
        {
          "metadata": {
            "tags": null
          },
          "name": "stderr",
          "output_type": "stream",
          "text": [
            "Epoch 14/50, Train: 100%|██████████| 31/31 [00:26<00:00,  1.16it/s]\n",
            "Epoch 14/50, Validation: 100%|██████████| 8/8 [00:05<00:00,  1.37it/s]\n",
            "Evaluate Train: 100%|██████████| 31/31 [00:23<00:00,  1.33it/s]\n",
            "Evaluate Validation: 100%|██████████| 8/8 [00:05<00:00,  1.35it/s]\n"
          ]
        },
        {
          "metadata": {
            "tags": null
          },
          "name": "stdout",
          "output_type": "stream",
          "text": [
            "Epoch 14/50\n",
            "Train - Loss: 0.1541, Accuracy: 0.9354, Precision: 0.9027, Recall: 0.9717, AUC: 0.9868\n",
            "Val - Loss: 0.1995, Accuracy: 0.9391, Precision: 0.9098, Recall: 0.9707, AUC: 0.9775\n"
          ]
        },
        {
          "metadata": {
            "tags": null
          },
          "name": "stderr",
          "output_type": "stream",
          "text": [
            "Epoch 15/50, Train: 100%|██████████| 31/31 [00:26<00:00,  1.15it/s]\n",
            "Epoch 15/50, Validation: 100%|██████████| 8/8 [00:05<00:00,  1.43it/s]\n",
            "Evaluate Train: 100%|██████████| 31/31 [00:23<00:00,  1.34it/s]\n",
            "Evaluate Validation: 100%|██████████| 8/8 [00:05<00:00,  1.38it/s]\n"
          ]
        },
        {
          "metadata": {
            "tags": null
          },
          "name": "stdout",
          "output_type": "stream",
          "text": [
            "Epoch 15/50\n",
            "Train - Loss: 0.1544, Accuracy: 0.9141, Precision: 0.9852, Recall: 0.8356, AUC: 0.9884\n",
            "Val - Loss: 0.3072, Accuracy: 0.9006, Precision: 0.9703, Recall: 0.8201, AUC: 0.9791\n"
          ]
        },
        {
          "metadata": {
            "tags": null
          },
          "name": "stderr",
          "output_type": "stream",
          "text": [
            "Epoch 16/50, Train: 100%|██████████| 31/31 [00:26<00:00,  1.15it/s]\n",
            "Epoch 16/50, Validation: 100%|██████████| 8/8 [00:05<00:00,  1.43it/s]\n",
            "Evaluate Train: 100%|██████████| 31/31 [00:22<00:00,  1.35it/s]\n",
            "Evaluate Validation: 100%|██████████| 8/8 [00:05<00:00,  1.35it/s]\n"
          ]
        },
        {
          "metadata": {
            "tags": null
          },
          "name": "stdout",
          "output_type": "stream",
          "text": [
            "Epoch 16/50\n",
            "Train - Loss: 0.1652, Accuracy: 0.9542, Precision: 0.9557, Recall: 0.9497, AUC: 0.9896\n",
            "Val - Loss: 0.1376, Accuracy: 0.9432, Precision: 0.9378, Recall: 0.9456, AUC: 0.9888\n"
          ]
        },
        {
          "metadata": {
            "tags": null
          },
          "name": "stderr",
          "output_type": "stream",
          "text": [
            "Epoch 17/50, Train: 100%|██████████| 31/31 [00:26<00:00,  1.15it/s]\n",
            "Epoch 17/50, Validation: 100%|██████████| 8/8 [00:05<00:00,  1.43it/s]\n",
            "Evaluate Train: 100%|██████████| 31/31 [00:23<00:00,  1.33it/s]\n",
            "Evaluate Validation: 100%|██████████| 8/8 [00:05<00:00,  1.35it/s]\n"
          ]
        },
        {
          "metadata": {
            "tags": null
          },
          "name": "stdout",
          "output_type": "stream",
          "text": [
            "Epoch 17/50\n",
            "Train - Loss: 0.1369, Accuracy: 0.9548, Precision: 0.9587, Recall: 0.9476, AUC: 0.9924\n",
            "Val - Loss: 0.1577, Accuracy: 0.9574, Precision: 0.9698, Recall: 0.9414, AUC: 0.9910\n"
          ]
        },
        {
          "metadata": {
            "tags": null
          },
          "name": "stderr",
          "output_type": "stream",
          "text": [
            "Epoch 18/50, Train: 100%|██████████| 31/31 [00:26<00:00,  1.16it/s]\n",
            "Epoch 18/50, Validation: 100%|██████████| 8/8 [00:05<00:00,  1.47it/s]\n",
            "Evaluate Train: 100%|██████████| 31/31 [00:22<00:00,  1.35it/s]\n",
            "Evaluate Validation: 100%|██████████| 8/8 [00:05<00:00,  1.35it/s]\n"
          ]
        },
        {
          "metadata": {
            "tags": null
          },
          "name": "stdout",
          "output_type": "stream",
          "text": [
            "Epoch 18/50\n",
            "Train - Loss: 0.1328, Accuracy: 0.9583, Precision: 0.9658, Recall: 0.9476, AUC: 0.9927\n",
            "Val - Loss: 0.1761, Accuracy: 0.9371, Precision: 0.9561, Recall: 0.9121, AUC: 0.9835\n"
          ]
        },
        {
          "metadata": {
            "tags": null
          },
          "name": "stderr",
          "output_type": "stream",
          "text": [
            "Epoch 19/50, Train: 100%|██████████| 31/31 [00:26<00:00,  1.15it/s]\n",
            "Epoch 19/50, Validation: 100%|██████████| 8/8 [00:05<00:00,  1.37it/s]\n",
            "Evaluate Train: 100%|██████████| 31/31 [00:23<00:00,  1.33it/s]\n",
            "Evaluate Validation: 100%|██████████| 8/8 [00:05<00:00,  1.35it/s]\n"
          ]
        },
        {
          "metadata": {
            "tags": null
          },
          "name": "stdout",
          "output_type": "stream",
          "text": [
            "Epoch 19/50\n",
            "Train - Loss: 0.1227, Accuracy: 0.9481, Precision: 0.9581, Recall: 0.9340, AUC: 0.9918\n",
            "Val - Loss: 0.1589, Accuracy: 0.9452, Precision: 0.9609, Recall: 0.9247, AUC: 0.9865\n"
          ]
        },
        {
          "metadata": {
            "tags": null
          },
          "name": "stderr",
          "output_type": "stream",
          "text": [
            "Epoch 20/50, Train: 100%|██████████| 31/31 [00:26<00:00,  1.17it/s]\n",
            "Epoch 20/50, Validation: 100%|██████████| 8/8 [00:05<00:00,  1.43it/s]\n",
            "Evaluate Train: 100%|██████████| 31/31 [00:22<00:00,  1.35it/s]\n",
            "Evaluate Validation: 100%|██████████| 8/8 [00:05<00:00,  1.34it/s]\n"
          ]
        },
        {
          "metadata": {
            "tags": null
          },
          "name": "stdout",
          "output_type": "stream",
          "text": [
            "Epoch 20/50\n",
            "Train - Loss: 0.1267, Accuracy: 0.9497, Precision: 0.9394, Recall: 0.9581, AUC: 0.9914\n",
            "Val - Loss: 0.1535, Accuracy: 0.9533, Precision: 0.9538, Recall: 0.9498, AUC: 0.9806\n"
          ]
        },
        {
          "metadata": {
            "tags": null
          },
          "name": "stderr",
          "output_type": "stream",
          "text": [
            "Epoch 21/50, Train: 100%|██████████| 31/31 [00:27<00:00,  1.14it/s]\n",
            "Epoch 21/50, Validation: 100%|██████████| 8/8 [00:05<00:00,  1.35it/s]\n",
            "Evaluate Train: 100%|██████████| 31/31 [00:23<00:00,  1.34it/s]\n",
            "Evaluate Validation: 100%|██████████| 8/8 [00:05<00:00,  1.46it/s]\n"
          ]
        },
        {
          "metadata": {
            "tags": null
          },
          "name": "stdout",
          "output_type": "stream",
          "text": [
            "Epoch 21/50\n",
            "Train - Loss: 0.1364, Accuracy: 0.9507, Precision: 0.9756, Recall: 0.9215, AUC: 0.9930\n",
            "Val - Loss: 0.1610, Accuracy: 0.9391, Precision: 0.9729, Recall: 0.8996, AUC: 0.9893\n"
          ]
        },
        {
          "metadata": {
            "tags": null
          },
          "name": "stderr",
          "output_type": "stream",
          "text": [
            "Epoch 22/50, Train: 100%|██████████| 31/31 [00:26<00:00,  1.15it/s]\n",
            "Epoch 22/50, Validation: 100%|██████████| 8/8 [00:05<00:00,  1.43it/s]\n",
            "Evaluate Train: 100%|██████████| 31/31 [00:22<00:00,  1.35it/s]\n",
            "Evaluate Validation: 100%|██████████| 8/8 [00:05<00:00,  1.35it/s]\n"
          ]
        },
        {
          "metadata": {
            "tags": null
          },
          "name": "stdout",
          "output_type": "stream",
          "text": [
            "Epoch 22/50\n",
            "Train - Loss: 0.1221, Accuracy: 0.9232, Precision: 0.9914, Recall: 0.8492, AUC: 0.9927\n",
            "Val - Loss: 0.2429, Accuracy: 0.9047, Precision: 0.9752, Recall: 0.8243, AUC: 0.9833\n"
          ]
        },
        {
          "metadata": {
            "tags": null
          },
          "name": "stderr",
          "output_type": "stream",
          "text": [
            "Epoch 23/50, Train: 100%|██████████| 31/31 [00:26<00:00,  1.15it/s]\n",
            "Epoch 23/50, Validation: 100%|██████████| 8/8 [00:05<00:00,  1.43it/s]\n",
            "Evaluate Train: 100%|██████████| 31/31 [00:23<00:00,  1.34it/s]\n",
            "Evaluate Validation: 100%|██████████| 8/8 [00:05<00:00,  1.38it/s]\n"
          ]
        },
        {
          "metadata": {
            "tags": null
          },
          "name": "stdout",
          "output_type": "stream",
          "text": [
            "Epoch 23/50\n",
            "Train - Loss: 0.1123, Accuracy: 0.9542, Precision: 0.9606, Recall: 0.9445, AUC: 0.9914\n",
            "Val - Loss: 0.1541, Accuracy: 0.9473, Precision: 0.9532, Recall: 0.9372, AUC: 0.9879\n"
          ]
        },
        {
          "metadata": {
            "tags": null
          },
          "name": "stderr",
          "output_type": "stream",
          "text": [
            "Epoch 24/50, Train: 100%|██████████| 31/31 [00:26<00:00,  1.15it/s]\n",
            "Epoch 24/50, Validation: 100%|██████████| 8/8 [00:06<00:00,  1.32it/s]\n",
            "Evaluate Train: 100%|██████████| 31/31 [00:23<00:00,  1.34it/s]\n",
            "Evaluate Validation: 100%|██████████| 8/8 [00:05<00:00,  1.35it/s]\n"
          ]
        },
        {
          "metadata": {
            "tags": null
          },
          "name": "stdout",
          "output_type": "stream",
          "text": [
            "Epoch 24/50\n",
            "Train - Loss: 0.1169, Accuracy: 0.9619, Precision: 0.9825, Recall: 0.9382, AUC: 0.9956\n",
            "Val - Loss: 0.1704, Accuracy: 0.9331, Precision: 0.9558, Recall: 0.9038, AUC: 0.9863\n"
          ]
        },
        {
          "metadata": {
            "tags": null
          },
          "name": "stderr",
          "output_type": "stream",
          "text": [
            "Epoch 25/50, Train: 100%|██████████| 31/31 [00:27<00:00,  1.15it/s]\n",
            "Epoch 25/50, Validation: 100%|██████████| 8/8 [00:05<00:00,  1.35it/s]\n",
            "Evaluate Train: 100%|██████████| 31/31 [00:23<00:00,  1.34it/s]\n",
            "Evaluate Validation: 100%|██████████| 8/8 [00:05<00:00,  1.35it/s]\n"
          ]
        },
        {
          "metadata": {
            "tags": null
          },
          "name": "stdout",
          "output_type": "stream",
          "text": [
            "Epoch 25/50\n",
            "Train - Loss: 0.1146, Accuracy: 0.9339, Precision: 0.9928, Recall: 0.8702, AUC: 0.9943\n",
            "Val - Loss: 0.2148, Accuracy: 0.9189, Precision: 0.9716, Recall: 0.8577, AUC: 0.9810\n"
          ]
        },
        {
          "metadata": {
            "tags": null
          },
          "name": "stderr",
          "output_type": "stream",
          "text": [
            "Epoch 26/50, Train: 100%|██████████| 31/31 [00:27<00:00,  1.15it/s]\n",
            "Epoch 26/50, Validation: 100%|██████████| 8/8 [00:05<00:00,  1.35it/s]\n",
            "Evaluate Train: 100%|██████████| 31/31 [00:23<00:00,  1.34it/s]\n",
            "Evaluate Validation: 100%|██████████| 8/8 [00:05<00:00,  1.35it/s]\n"
          ]
        },
        {
          "metadata": {
            "tags": null
          },
          "name": "stdout",
          "output_type": "stream",
          "text": [
            "Epoch 26/50\n",
            "Train - Loss: 0.1158, Accuracy: 0.9649, Precision: 0.9723, Recall: 0.9550, AUC: 0.9951\n",
            "Val - Loss: 0.1399, Accuracy: 0.9533, Precision: 0.9655, Recall: 0.9372, AUC: 0.9883\n"
          ]
        },
        {
          "metadata": {
            "tags": null
          },
          "name": "stderr",
          "output_type": "stream",
          "text": [
            "Epoch 27/50, Train: 100%|██████████| 31/31 [00:27<00:00,  1.13it/s]\n",
            "Epoch 27/50, Validation: 100%|██████████| 8/8 [00:05<00:00,  1.36it/s]\n",
            "Evaluate Train: 100%|██████████| 31/31 [00:23<00:00,  1.34it/s]\n",
            "Evaluate Validation: 100%|██████████| 8/8 [00:05<00:00,  1.46it/s]\n"
          ]
        },
        {
          "metadata": {
            "tags": null
          },
          "name": "stdout",
          "output_type": "stream",
          "text": [
            "Epoch 27/50\n",
            "Train - Loss: 0.1025, Accuracy: 0.9410, Precision: 0.9895, Recall: 0.8880, AUC: 0.9943\n",
            "Val - Loss: 0.2358, Accuracy: 0.9128, Precision: 0.9667, Recall: 0.8494, AUC: 0.9829\n"
          ]
        },
        {
          "metadata": {
            "tags": null
          },
          "name": "stderr",
          "output_type": "stream",
          "text": [
            "Epoch 28/50, Train: 100%|██████████| 31/31 [00:26<00:00,  1.15it/s]\n",
            "Epoch 28/50, Validation: 100%|██████████| 8/8 [00:05<00:00,  1.42it/s]\n",
            "Evaluate Train: 100%|██████████| 31/31 [00:22<00:00,  1.35it/s]\n",
            "Evaluate Validation: 100%|██████████| 8/8 [00:05<00:00,  1.35it/s]\n"
          ]
        },
        {
          "metadata": {
            "tags": null
          },
          "name": "stdout",
          "output_type": "stream",
          "text": [
            "Epoch 28/50\n",
            "Train - Loss: 0.1150, Accuracy: 0.9649, Precision: 0.9605, Recall: 0.9675, AUC: 0.9954\n",
            "Val - Loss: 0.1595, Accuracy: 0.9391, Precision: 0.9300, Recall: 0.9456, AUC: 0.9841\n"
          ]
        },
        {
          "metadata": {
            "tags": null
          },
          "name": "stderr",
          "output_type": "stream",
          "text": [
            "Epoch 29/50, Train: 100%|██████████| 31/31 [00:26<00:00,  1.15it/s]\n",
            "Epoch 29/50, Validation: 100%|██████████| 8/8 [00:05<00:00,  1.36it/s]\n",
            "Evaluate Train: 100%|██████████| 31/31 [00:23<00:00,  1.33it/s]\n",
            "Evaluate Validation: 100%|██████████| 8/8 [00:05<00:00,  1.45it/s]\n"
          ]
        },
        {
          "metadata": {
            "tags": null
          },
          "name": "stdout",
          "output_type": "stream",
          "text": [
            "Epoch 29/50\n",
            "Train - Loss: 0.0980, Accuracy: 0.9705, Precision: 0.9766, Recall: 0.9623, AUC: 0.9966\n",
            "Val - Loss: 0.1449, Accuracy: 0.9493, Precision: 0.9612, Recall: 0.9331, AUC: 0.9851\n"
          ]
        },
        {
          "metadata": {
            "tags": null
          },
          "name": "stderr",
          "output_type": "stream",
          "text": [
            "Epoch 30/50, Train: 100%|██████████| 31/31 [00:26<00:00,  1.15it/s]\n",
            "Epoch 30/50, Validation: 100%|██████████| 8/8 [00:05<00:00,  1.44it/s]\n",
            "Evaluate Train: 100%|██████████| 31/31 [00:22<00:00,  1.35it/s]\n",
            "Evaluate Validation: 100%|██████████| 8/8 [00:05<00:00,  1.35it/s]\n"
          ]
        },
        {
          "metadata": {
            "tags": null
          },
          "name": "stdout",
          "output_type": "stream",
          "text": [
            "Epoch 30/50\n",
            "Train - Loss: 0.1032, Accuracy: 0.9614, Precision: 0.9453, Recall: 0.9770, AUC: 0.9950\n",
            "Val - Loss: 0.1415, Accuracy: 0.9493, Precision: 0.9280, Recall: 0.9707, AUC: 0.9879\n"
          ]
        },
        {
          "output_type": "stream",
          "name": "stderr",
          "text": [
            "Epoch 31/50, Train: 100%|██████████| 31/31 [00:27<00:00,  1.14it/s]\n",
            "Epoch 31/50, Validation: 100%|██████████| 8/8 [00:05<00:00,  1.45it/s]\n",
            "Evaluate Train: 100%|██████████| 31/31 [00:23<00:00,  1.33it/s]\n",
            "Evaluate Validation: 100%|██████████| 8/8 [00:05<00:00,  1.35it/s]\n"
          ]
        },
        {
          "output_type": "stream",
          "name": "stdout",
          "text": [
            "Epoch 31/50\n",
            "Train - Loss: 0.1075, Accuracy: 0.9517, Precision: 0.9778, Recall: 0.9215, AUC: 0.9942\n",
            "Val - Loss: 0.1977, Accuracy: 0.9249, Precision: 0.9509, Recall: 0.8912, AUC: 0.9821\n"
          ]
        },
        {
          "output_type": "stream",
          "name": "stderr",
          "text": [
            "Epoch 32/50, Train: 100%|██████████| 31/31 [00:26<00:00,  1.16it/s]\n",
            "Epoch 32/50, Validation: 100%|██████████| 8/8 [00:05<00:00,  1.35it/s]\n",
            "Evaluate Train: 100%|██████████| 31/31 [00:23<00:00,  1.34it/s]\n",
            "Evaluate Validation: 100%|██████████| 8/8 [00:05<00:00,  1.35it/s]\n"
          ]
        },
        {
          "output_type": "stream",
          "name": "stdout",
          "text": [
            "Epoch 32/50\n",
            "Train - Loss: 0.1128, Accuracy: 0.9624, Precision: 0.9445, Recall: 0.9801, AUC: 0.9954\n",
            "Val - Loss: 0.1567, Accuracy: 0.9513, Precision: 0.9352, Recall: 0.9665, AUC: 0.9839\n"
          ]
        },
        {
          "output_type": "stream",
          "name": "stderr",
          "text": [
            "Epoch 33/50, Train: 100%|██████████| 31/31 [00:26<00:00,  1.15it/s]\n",
            "Epoch 33/50, Validation: 100%|██████████| 8/8 [00:05<00:00,  1.43it/s]\n",
            "Evaluate Train: 100%|██████████| 31/31 [00:22<00:00,  1.35it/s]\n",
            "Evaluate Validation: 100%|██████████| 8/8 [00:05<00:00,  1.35it/s]\n"
          ]
        },
        {
          "output_type": "stream",
          "name": "stdout",
          "text": [
            "Epoch 33/50\n",
            "Train - Loss: 0.0964, Accuracy: 0.9558, Precision: 0.9272, Recall: 0.9864, AUC: 0.9956\n",
            "Val - Loss: 0.1950, Accuracy: 0.9310, Precision: 0.9020, Recall: 0.9623, AUC: 0.9837\n"
          ]
        },
        {
          "output_type": "stream",
          "name": "stderr",
          "text": [
            "Epoch 34/50, Train: 100%|██████████| 31/31 [00:26<00:00,  1.15it/s]\n",
            "Epoch 34/50, Validation: 100%|██████████| 8/8 [00:05<00:00,  1.37it/s]\n",
            "Evaluate Train: 100%|██████████| 31/31 [00:23<00:00,  1.32it/s]\n",
            "Evaluate Validation: 100%|██████████| 8/8 [00:05<00:00,  1.47it/s]\n"
          ]
        },
        {
          "output_type": "stream",
          "name": "stdout",
          "text": [
            "Epoch 34/50\n",
            "Train - Loss: 0.1011, Accuracy: 0.9553, Precision: 0.9921, Recall: 0.9152, AUC: 0.9972\n",
            "Val - Loss: 0.1726, Accuracy: 0.9331, Precision: 0.9725, Recall: 0.8870, AUC: 0.9869\n"
          ]
        },
        {
          "output_type": "stream",
          "name": "stderr",
          "text": [
            "Epoch 35/50, Train: 100%|██████████| 31/31 [00:26<00:00,  1.15it/s]\n",
            "Epoch 35/50, Validation: 100%|██████████| 8/8 [00:05<00:00,  1.42it/s]\n",
            "Evaluate Train: 100%|██████████| 31/31 [00:22<00:00,  1.35it/s]\n",
            "Evaluate Validation: 100%|██████████| 8/8 [00:05<00:00,  1.35it/s]\n"
          ]
        },
        {
          "output_type": "stream",
          "name": "stdout",
          "text": [
            "Epoch 35/50\n",
            "Train - Loss: 0.0963, Accuracy: 0.9675, Precision: 0.9704, Recall: 0.9623, AUC: 0.9959\n",
            "Val - Loss: 0.1669, Accuracy: 0.9452, Precision: 0.9454, Recall: 0.9414, AUC: 0.9866\n"
          ]
        },
        {
          "output_type": "stream",
          "name": "stderr",
          "text": [
            "Epoch 36/50, Train: 100%|██████████| 31/31 [00:26<00:00,  1.15it/s]\n",
            "Epoch 36/50, Validation: 100%|██████████| 8/8 [00:05<00:00,  1.37it/s]\n",
            "Evaluate Train: 100%|██████████| 31/31 [00:23<00:00,  1.33it/s]\n",
            "Evaluate Validation: 100%|██████████| 8/8 [00:05<00:00,  1.35it/s]\n"
          ]
        },
        {
          "output_type": "stream",
          "name": "stdout",
          "text": [
            "Epoch 36/50\n",
            "Train - Loss: 0.0958, Accuracy: 0.9690, Precision: 0.9676, Recall: 0.9686, AUC: 0.9962\n",
            "Val - Loss: 0.1597, Accuracy: 0.9513, Precision: 0.9536, Recall: 0.9456, AUC: 0.9876\n"
          ]
        },
        {
          "output_type": "stream",
          "name": "stderr",
          "text": [
            "Epoch 37/50, Train: 100%|██████████| 31/31 [00:26<00:00,  1.15it/s]\n",
            "Epoch 37/50, Validation: 100%|██████████| 8/8 [00:05<00:00,  1.37it/s]\n",
            "Evaluate Train: 100%|██████████| 31/31 [00:23<00:00,  1.33it/s]\n",
            "Evaluate Validation: 100%|██████████| 8/8 [00:05<00:00,  1.35it/s]\n"
          ]
        },
        {
          "output_type": "stream",
          "name": "stdout",
          "text": [
            "Epoch 37/50\n",
            "Train - Loss: 0.1046, Accuracy: 0.9659, Precision: 0.9774, Recall: 0.9518, AUC: 0.9964\n",
            "Val - Loss: 0.1582, Accuracy: 0.9473, Precision: 0.9610, Recall: 0.9289, AUC: 0.9853\n"
          ]
        },
        {
          "output_type": "stream",
          "name": "stderr",
          "text": [
            "Epoch 38/50, Train: 100%|██████████| 31/31 [00:26<00:00,  1.16it/s]\n",
            "Epoch 38/50, Validation: 100%|██████████| 8/8 [00:05<00:00,  1.47it/s]\n",
            "Evaluate Train: 100%|██████████| 31/31 [00:22<00:00,  1.35it/s]\n",
            "Evaluate Validation: 100%|██████████| 8/8 [00:05<00:00,  1.35it/s]\n"
          ]
        },
        {
          "output_type": "stream",
          "name": "stdout",
          "text": [
            "Epoch 38/50\n",
            "Train - Loss: 0.1022, Accuracy: 0.9766, Precision: 0.9720, Recall: 0.9801, AUC: 0.9976\n",
            "Val - Loss: 0.1744, Accuracy: 0.9513, Precision: 0.9424, Recall: 0.9582, AUC: 0.9844\n"
          ]
        },
        {
          "output_type": "stream",
          "name": "stderr",
          "text": [
            "Epoch 39/50, Train: 100%|██████████| 31/31 [00:26<00:00,  1.16it/s]\n",
            "Epoch 39/50, Validation: 100%|██████████| 8/8 [00:05<00:00,  1.35it/s]\n",
            "Evaluate Train: 100%|██████████| 31/31 [00:23<00:00,  1.34it/s]\n",
            "Evaluate Validation: 100%|██████████| 8/8 [00:05<00:00,  1.51it/s]\n"
          ]
        },
        {
          "output_type": "stream",
          "name": "stdout",
          "text": [
            "Epoch 39/50\n",
            "Train - Loss: 0.0935, Accuracy: 0.9537, Precision: 0.9876, Recall: 0.9162, AUC: 0.9957\n",
            "Val - Loss: 0.1953, Accuracy: 0.9371, Precision: 0.9685, Recall: 0.8996, AUC: 0.9886\n"
          ]
        },
        {
          "output_type": "stream",
          "name": "stderr",
          "text": [
            "Epoch 40/50, Train: 100%|██████████| 31/31 [00:27<00:00,  1.15it/s]\n",
            "Epoch 40/50, Validation: 100%|██████████| 8/8 [00:05<00:00,  1.35it/s]\n",
            "Evaluate Train: 100%|██████████| 31/31 [00:23<00:00,  1.34it/s]\n",
            "Evaluate Validation: 100%|██████████| 8/8 [00:05<00:00,  1.51it/s]\n"
          ]
        },
        {
          "output_type": "stream",
          "name": "stdout",
          "text": [
            "Epoch 40/50\n",
            "Train - Loss: 0.0905, Accuracy: 0.9659, Precision: 0.9754, Recall: 0.9539, AUC: 0.9967\n",
            "Val - Loss: 0.1720, Accuracy: 0.9554, Precision: 0.9738, Recall: 0.9331, AUC: 0.9852\n"
          ]
        },
        {
          "output_type": "stream",
          "name": "stderr",
          "text": [
            "Epoch 41/50, Train: 100%|██████████| 31/31 [00:26<00:00,  1.15it/s]\n",
            "Epoch 41/50, Validation: 100%|██████████| 8/8 [00:05<00:00,  1.43it/s]\n",
            "Evaluate Train: 100%|██████████| 31/31 [00:22<00:00,  1.35it/s]\n",
            "Evaluate Validation: 100%|██████████| 8/8 [00:05<00:00,  1.35it/s]\n"
          ]
        },
        {
          "output_type": "stream",
          "name": "stdout",
          "text": [
            "Epoch 41/50\n",
            "Train - Loss: 0.0771, Accuracy: 0.9629, Precision: 0.9384, Recall: 0.9885, AUC: 0.9965\n",
            "Val - Loss: 0.2054, Accuracy: 0.9473, Precision: 0.9209, Recall: 0.9749, AUC: 0.9831\n"
          ]
        },
        {
          "output_type": "stream",
          "name": "stderr",
          "text": [
            "Epoch 42/50, Train: 100%|██████████| 31/31 [00:26<00:00,  1.15it/s]\n",
            "Epoch 42/50, Validation: 100%|██████████| 8/8 [00:05<00:00,  1.37it/s]\n",
            "Evaluate Train: 100%|██████████| 31/31 [00:23<00:00,  1.33it/s]\n",
            "Evaluate Validation: 100%|██████████| 8/8 [00:05<00:00,  1.35it/s]\n"
          ]
        },
        {
          "output_type": "stream",
          "name": "stdout",
          "text": [
            "Epoch 42/50\n",
            "Train - Loss: 0.0835, Accuracy: 0.9583, Precision: 0.9855, Recall: 0.9277, AUC: 0.9957\n",
            "Val - Loss: 0.2015, Accuracy: 0.9270, Precision: 0.9677, Recall: 0.8787, AUC: 0.9842\n"
          ]
        },
        {
          "output_type": "stream",
          "name": "stderr",
          "text": [
            "Epoch 43/50, Train: 100%|██████████| 31/31 [00:27<00:00,  1.14it/s]\n",
            "Epoch 43/50, Validation: 100%|██████████| 8/8 [00:05<00:00,  1.35it/s]\n",
            "Evaluate Train: 100%|██████████| 31/31 [00:23<00:00,  1.34it/s]\n",
            "Evaluate Validation: 100%|██████████| 8/8 [00:05<00:00,  1.47it/s]\n"
          ]
        },
        {
          "output_type": "stream",
          "name": "stdout",
          "text": [
            "Epoch 43/50\n",
            "Train - Loss: 0.1067, Accuracy: 0.9609, Precision: 0.9592, Recall: 0.9602, AUC: 0.9932\n",
            "Val - Loss: 0.1846, Accuracy: 0.9412, Precision: 0.9412, Recall: 0.9372, AUC: 0.9786\n"
          ]
        },
        {
          "output_type": "stream",
          "name": "stderr",
          "text": [
            "Epoch 44/50, Train: 100%|██████████| 31/31 [00:26<00:00,  1.16it/s]\n",
            "Epoch 44/50, Validation: 100%|██████████| 8/8 [00:05<00:00,  1.38it/s]\n",
            "Evaluate Train: 100%|██████████| 31/31 [00:22<00:00,  1.35it/s]\n",
            "Evaluate Validation: 100%|██████████| 8/8 [00:05<00:00,  1.35it/s]\n"
          ]
        },
        {
          "output_type": "stream",
          "name": "stdout",
          "text": [
            "Epoch 44/50\n",
            "Train - Loss: 0.0843, Accuracy: 0.9695, Precision: 0.9571, Recall: 0.9812, AUC: 0.9966\n",
            "Val - Loss: 0.1927, Accuracy: 0.9473, Precision: 0.9209, Recall: 0.9749, AUC: 0.9854\n"
          ]
        },
        {
          "output_type": "stream",
          "name": "stderr",
          "text": [
            "Epoch 45/50, Train: 100%|██████████| 31/31 [00:27<00:00,  1.14it/s]\n",
            "Epoch 45/50, Validation: 100%|██████████| 8/8 [00:05<00:00,  1.46it/s]\n",
            "Evaluate Train: 100%|██████████| 31/31 [00:23<00:00,  1.33it/s]\n",
            "Evaluate Validation: 100%|██████████| 8/8 [00:05<00:00,  1.34it/s]\n"
          ]
        },
        {
          "output_type": "stream",
          "name": "stdout",
          "text": [
            "Epoch 45/50\n",
            "Train - Loss: 0.0873, Accuracy: 0.9461, Precision: 0.9062, Recall: 0.9916, AUC: 0.9969\n",
            "Val - Loss: 0.2363, Accuracy: 0.9493, Precision: 0.9084, Recall: 0.9958, AUC: 0.9856\n"
          ]
        },
        {
          "output_type": "stream",
          "name": "stderr",
          "text": [
            "Epoch 46/50, Train: 100%|██████████| 31/31 [00:26<00:00,  1.15it/s]\n",
            "Epoch 46/50, Validation: 100%|██████████| 8/8 [00:05<00:00,  1.38it/s]\n",
            "Evaluate Train: 100%|██████████| 31/31 [00:23<00:00,  1.33it/s]\n",
            "Evaluate Validation: 100%|██████████| 8/8 [00:05<00:00,  1.34it/s]\n"
          ]
        },
        {
          "output_type": "stream",
          "name": "stdout",
          "text": [
            "Epoch 46/50\n",
            "Train - Loss: 0.0754, Accuracy: 0.9751, Precision: 0.9850, Recall: 0.9634, AUC: 0.9977\n",
            "Val - Loss: 0.1626, Accuracy: 0.9513, Precision: 0.9574, Recall: 0.9414, AUC: 0.9869\n",
            "Early stopping triggered.\n"
          ]
        },
        {
          "output_type": "stream",
          "name": "stderr",
          "text": [
            "Evaluate Test: 100%|██████████| 10/10 [00:01<00:00,  6.77it/s]\n"
          ]
        },
        {
          "output_type": "stream",
          "name": "stdout",
          "text": [
            "\n",
            "Accuracy: 0.9448, Precision: 0.9461, Recall: 0.9398, AUC: 0.9827\n",
            "Results saved to results/finetune/ucsd/pvig_s_224_gelu/classification_results.txt\n"
          ]
        },
        {
          "output_type": "stream",
          "name": "stderr",
          "text": [
            "WARNING:matplotlib.image:Clipping input data to the valid range for imshow with RGB data ([0..1] for floats or [0..255] for integers).\n",
            "WARNING:matplotlib.image:Clipping input data to the valid range for imshow with RGB data ([0..1] for floats or [0..255] for integers).\n",
            "WARNING:matplotlib.image:Clipping input data to the valid range for imshow with RGB data ([0..1] for floats or [0..255] for integers).\n",
            "WARNING:matplotlib.image:Clipping input data to the valid range for imshow with RGB data ([0..1] for floats or [0..255] for integers).\n",
            "WARNING:matplotlib.image:Clipping input data to the valid range for imshow with RGB data ([0..1] for floats or [0..255] for integers).\n",
            "WARNING:matplotlib.image:Clipping input data to the valid range for imshow with RGB data ([0..1] for floats or [0..255] for integers).\n"
          ]
        },
        {
          "output_type": "stream",
          "name": "stdout",
          "text": [
            "Results saved to results/visualization/zero_shot/ori/pvig_s_224_gelu/images/cxr_images.png\n"
          ]
        },
        {
          "output_type": "stream",
          "name": "stderr",
          "text": [
            "Evaluate Train: 100%|██████████| 9/9 [00:00<00:00,  9.46it/s]\n",
            "Evaluate Validation: 100%|██████████| 3/3 [00:00<00:00,  9.28it/s]\n",
            "Evaluate Test: 100%|██████████| 3/3 [00:00<00:00,  9.60it/s]\n"
          ]
        },
        {
          "output_type": "stream",
          "name": "stdout",
          "text": [
            "Results saved to results/zero_shot/ori/pvig_s_224_gelu/classification_results.txt\n"
          ]
        },
        {
          "output_type": "stream",
          "name": "stderr",
          "text": [
            "WARNING:matplotlib.image:Clipping input data to the valid range for imshow with RGB data ([0..1] for floats or [0..255] for integers).\n",
            "WARNING:matplotlib.image:Clipping input data to the valid range for imshow with RGB data ([0..1] for floats or [0..255] for integers).\n",
            "WARNING:matplotlib.image:Clipping input data to the valid range for imshow with RGB data ([0..1] for floats or [0..255] for integers).\n",
            "WARNING:matplotlib.image:Clipping input data to the valid range for imshow with RGB data ([0..1] for floats or [0..255] for integers).\n",
            "WARNING:matplotlib.image:Clipping input data to the valid range for imshow with RGB data ([0..1] for floats or [0..255] for integers).\n",
            "WARNING:matplotlib.image:Clipping input data to the valid range for imshow with RGB data ([0..1] for floats or [0..255] for integers).\n"
          ]
        },
        {
          "output_type": "stream",
          "name": "stdout",
          "text": [
            "Results saved to results/visualization/finetune/ori/pvig_s_224_gelu/images/cxr_images.png\n"
          ]
        },
        {
          "output_type": "stream",
          "name": "stderr",
          "text": [
            "/usr/local/lib/python3.10/dist-packages/torchvision/models/inception.py:43: FutureWarning: The default weight initialization of inception_v3 will be changed in future releases of torchvision. If you wish to keep the old behavior (which leads to long initialization times due to scipy/scipy#11299), please set init_weights=True.\n",
            "  warnings.warn(\n"
          ]
        },
        {
          "output_type": "stream",
          "name": "stdout",
          "text": [
            "NVIDIA library configured successfully.\n",
            "<model.pvig_model.pvig_s_224_gelu.<locals>.OptInit object at 0x7fa52e12fb80>\n",
            "Model pvig_s_224_gelu loaded with mean and std normalization.\n",
            "Mean: [0.4856 0.4856 0.4856], Std: [0.2463 0.2463 0.2463]\n"
          ]
        },
        {
          "output_type": "stream",
          "name": "stderr",
          "text": [
            "Epoch 1/50, Train: 100%|██████████| 9/9 [01:52<00:00, 12.51s/it]\n",
            "Epoch 1/50, Validation: 100%|██████████| 3/3 [01:17<00:00, 25.91s/it]\n",
            "Evaluate Train: 100%|██████████| 9/9 [00:40<00:00,  4.46s/it]\n",
            "Evaluate Validation: 100%|██████████| 3/3 [00:01<00:00,  1.99it/s]\n",
            "/usr/local/lib/python3.10/dist-packages/sklearn/metrics/_classification.py:1344: UndefinedMetricWarning: Precision is ill-defined and being set to 0.0 due to no predicted samples. Use `zero_division` parameter to control this behavior.\n",
            "  _warn_prf(average, modifier, msg_start, len(result))\n",
            "/usr/local/lib/python3.10/dist-packages/sklearn/metrics/_classification.py:1344: UndefinedMetricWarning: Precision and F-score are ill-defined and being set to 0.0 in labels with no predicted samples. Use `zero_division` parameter to control this behavior.\n",
            "  _warn_prf(average, modifier, msg_start, len(result))\n",
            "/usr/local/lib/python3.10/dist-packages/sklearn/metrics/_classification.py:1344: UndefinedMetricWarning: Precision and F-score are ill-defined and being set to 0.0 in labels with no predicted samples. Use `zero_division` parameter to control this behavior.\n",
            "  _warn_prf(average, modifier, msg_start, len(result))\n",
            "/usr/local/lib/python3.10/dist-packages/sklearn/metrics/_classification.py:1344: UndefinedMetricWarning: Precision and F-score are ill-defined and being set to 0.0 in labels with no predicted samples. Use `zero_division` parameter to control this behavior.\n",
            "  _warn_prf(average, modifier, msg_start, len(result))\n"
          ]
        },
        {
          "output_type": "stream",
          "name": "stdout",
          "text": [
            "Epoch 1/50\n",
            "Train - Loss: 0.6585, Accuracy: 0.5114, Precision: 1.0000, Recall: 0.0039, AUC: 0.6482\n",
            "Val - Loss: 5.1057, Accuracy: 0.5076, Precision: 0.0000, Recall: 0.0000, AUC: 0.6140\n"
          ]
        },
        {
          "output_type": "stream",
          "name": "stderr",
          "text": [
            "Epoch 2/50, Train: 100%|██████████| 9/9 [00:07<00:00,  1.27it/s]\n",
            "Epoch 2/50, Validation: 100%|██████████| 3/3 [00:01<00:00,  2.02it/s]\n",
            "Evaluate Train: 100%|██████████| 9/9 [00:06<00:00,  1.44it/s]\n",
            "Evaluate Validation: 100%|██████████| 3/3 [00:01<00:00,  2.10it/s]\n"
          ]
        },
        {
          "output_type": "stream",
          "name": "stdout",
          "text": [
            "Epoch 2/50\n",
            "Train - Loss: 0.5381, Accuracy: 0.7700, Precision: 0.8513, Recall: 0.6434, AUC: 0.8081\n",
            "Val - Loss: 0.5724, Accuracy: 0.7576, Precision: 0.7797, Recall: 0.7077, AUC: 0.8331\n"
          ]
        },
        {
          "output_type": "stream",
          "name": "stderr",
          "text": [
            "Epoch 3/50, Train: 100%|██████████| 9/9 [00:07<00:00,  1.24it/s]\n",
            "Epoch 3/50, Validation: 100%|██████████| 3/3 [00:01<00:00,  1.75it/s]\n",
            "Evaluate Train: 100%|██████████| 9/9 [00:06<00:00,  1.48it/s]\n",
            "Evaluate Validation: 100%|██████████| 3/3 [00:01<00:00,  1.99it/s]\n"
          ]
        },
        {
          "output_type": "stream",
          "name": "stdout",
          "text": [
            "Epoch 3/50\n",
            "Train - Loss: 0.5051, Accuracy: 0.7833, Precision: 0.8789, Recall: 0.6473, AUC: 0.8279\n",
            "Val - Loss: 0.4072, Accuracy: 0.7727, Precision: 0.8302, Recall: 0.6769, AUC: 0.8342\n"
          ]
        },
        {
          "output_type": "stream",
          "name": "stderr",
          "text": [
            "Epoch 4/50, Train: 100%|██████████| 9/9 [00:07<00:00,  1.27it/s]\n",
            "Epoch 4/50, Validation: 100%|██████████| 3/3 [00:01<00:00,  1.59it/s]\n",
            "Evaluate Train: 100%|██████████| 9/9 [00:06<00:00,  1.46it/s]\n",
            "Evaluate Validation: 100%|██████████| 3/3 [00:01<00:00,  2.01it/s]\n"
          ]
        },
        {
          "output_type": "stream",
          "name": "stdout",
          "text": [
            "Epoch 4/50\n",
            "Train - Loss: 0.5000, Accuracy: 0.7776, Precision: 0.8579, Recall: 0.6550, AUC: 0.8443\n",
            "Val - Loss: 0.4325, Accuracy: 0.7879, Precision: 0.8491, Recall: 0.6923, AUC: 0.8138\n"
          ]
        },
        {
          "output_type": "stream",
          "name": "stderr",
          "text": [
            "Epoch 5/50, Train: 100%|██████████| 9/9 [00:06<00:00,  1.30it/s]\n",
            "Epoch 5/50, Validation: 100%|██████████| 3/3 [00:01<00:00,  1.91it/s]\n",
            "Evaluate Train: 100%|██████████| 9/9 [00:06<00:00,  1.47it/s]\n",
            "Evaluate Validation: 100%|██████████| 3/3 [00:01<00:00,  1.72it/s]\n"
          ]
        },
        {
          "output_type": "stream",
          "name": "stdout",
          "text": [
            "Epoch 5/50\n",
            "Train - Loss: 0.4657, Accuracy: 0.8004, Precision: 0.8806, Recall: 0.6860, AUC: 0.8455\n",
            "Val - Loss: 0.6043, Accuracy: 0.8182, Precision: 0.8727, Recall: 0.7385, AUC: 0.8315\n"
          ]
        },
        {
          "output_type": "stream",
          "name": "stderr",
          "text": [
            "Epoch 6/50, Train: 100%|██████████| 9/9 [00:07<00:00,  1.22it/s]\n",
            "Epoch 6/50, Validation: 100%|██████████| 3/3 [00:01<00:00,  2.11it/s]\n",
            "Evaluate Train: 100%|██████████| 9/9 [00:06<00:00,  1.46it/s]\n",
            "Evaluate Validation: 100%|██████████| 3/3 [00:01<00:00,  1.99it/s]\n"
          ]
        },
        {
          "output_type": "stream",
          "name": "stdout",
          "text": [
            "Epoch 6/50\n",
            "Train - Loss: 0.4737, Accuracy: 0.8213, Precision: 0.9100, Recall: 0.7054, AUC: 0.8651\n",
            "Val - Loss: 0.5814, Accuracy: 0.8409, Precision: 0.8793, Recall: 0.7846, AUC: 0.8342\n"
          ]
        },
        {
          "output_type": "stream",
          "name": "stderr",
          "text": [
            "Epoch 7/50, Train: 100%|██████████| 9/9 [00:07<00:00,  1.20it/s]\n",
            "Epoch 7/50, Validation: 100%|██████████| 3/3 [00:01<00:00,  1.91it/s]\n",
            "Evaluate Train: 100%|██████████| 9/9 [00:06<00:00,  1.47it/s]\n",
            "Evaluate Validation: 100%|██████████| 3/3 [00:01<00:00,  1.71it/s]\n"
          ]
        },
        {
          "output_type": "stream",
          "name": "stdout",
          "text": [
            "Epoch 7/50\n",
            "Train - Loss: 0.4493, Accuracy: 0.7909, Precision: 0.8246, Recall: 0.7287, AUC: 0.8397\n",
            "Val - Loss: 0.4144, Accuracy: 0.8409, Precision: 0.8793, Recall: 0.7846, AUC: 0.8494\n"
          ]
        },
        {
          "output_type": "stream",
          "name": "stderr",
          "text": [
            "Epoch 8/50, Train: 100%|██████████| 9/9 [00:07<00:00,  1.25it/s]\n",
            "Epoch 8/50, Validation: 100%|██████████| 3/3 [00:01<00:00,  2.01it/s]\n",
            "Evaluate Train: 100%|██████████| 9/9 [00:05<00:00,  1.53it/s]\n",
            "Evaluate Validation: 100%|██████████| 3/3 [00:01<00:00,  1.95it/s]\n"
          ]
        },
        {
          "output_type": "stream",
          "name": "stdout",
          "text": [
            "Epoch 8/50\n",
            "Train - Loss: 0.4143, Accuracy: 0.7757, Precision: 0.9545, Recall: 0.5698, AUC: 0.8301\n",
            "Val - Loss: 0.8384, Accuracy: 0.7879, Precision: 0.9744, Recall: 0.5846, AUC: 0.7977\n"
          ]
        },
        {
          "output_type": "stream",
          "name": "stderr",
          "text": [
            "Epoch 9/50, Train: 100%|██████████| 9/9 [00:07<00:00,  1.24it/s]\n",
            "Epoch 9/50, Validation: 100%|██████████| 3/3 [00:01<00:00,  2.03it/s]\n",
            "Evaluate Train: 100%|██████████| 9/9 [00:06<00:00,  1.49it/s]\n",
            "Evaluate Validation: 100%|██████████| 3/3 [00:01<00:00,  2.09it/s]\n"
          ]
        },
        {
          "output_type": "stream",
          "name": "stdout",
          "text": [
            "Epoch 9/50\n",
            "Train - Loss: 0.4445, Accuracy: 0.8118, Precision: 0.8804, Recall: 0.7132, AUC: 0.8651\n",
            "Val - Loss: 0.3635, Accuracy: 0.8258, Precision: 0.8500, Recall: 0.7846, AUC: 0.8634\n"
          ]
        },
        {
          "output_type": "stream",
          "name": "stderr",
          "text": [
            "Epoch 10/50, Train: 100%|██████████| 9/9 [00:07<00:00,  1.23it/s]\n",
            "Epoch 10/50, Validation: 100%|██████████| 3/3 [00:01<00:00,  1.81it/s]\n",
            "Evaluate Train: 100%|██████████| 9/9 [00:06<00:00,  1.44it/s]\n",
            "Evaluate Validation: 100%|██████████| 3/3 [00:01<00:00,  2.10it/s]\n"
          ]
        },
        {
          "output_type": "stream",
          "name": "stdout",
          "text": [
            "Epoch 10/50\n",
            "Train - Loss: 0.4222, Accuracy: 0.8194, Precision: 0.9312, Recall: 0.6822, AUC: 0.8761\n",
            "Val - Loss: 0.3592, Accuracy: 0.8030, Precision: 0.8679, Recall: 0.7077, AUC: 0.8579\n"
          ]
        },
        {
          "output_type": "stream",
          "name": "stderr",
          "text": [
            "Epoch 11/50, Train: 100%|██████████| 9/9 [00:06<00:00,  1.29it/s]\n",
            "Epoch 11/50, Validation: 100%|██████████| 3/3 [00:01<00:00,  1.92it/s]\n",
            "Evaluate Train: 100%|██████████| 9/9 [00:06<00:00,  1.47it/s]\n",
            "Evaluate Validation: 100%|██████████| 3/3 [00:01<00:00,  1.72it/s]\n"
          ]
        },
        {
          "output_type": "stream",
          "name": "stdout",
          "text": [
            "Epoch 11/50\n",
            "Train - Loss: 0.4168, Accuracy: 0.8175, Precision: 0.8894, Recall: 0.7171, AUC: 0.8636\n",
            "Val - Loss: 0.3964, Accuracy: 0.8258, Precision: 0.8500, Recall: 0.7846, AUC: 0.8581\n"
          ]
        },
        {
          "output_type": "stream",
          "name": "stderr",
          "text": [
            "Epoch 12/50, Train: 100%|██████████| 9/9 [00:07<00:00,  1.25it/s]\n",
            "Epoch 12/50, Validation: 100%|██████████| 3/3 [00:01<00:00,  2.02it/s]\n",
            "Evaluate Train: 100%|██████████| 9/9 [00:06<00:00,  1.44it/s]\n",
            "Evaluate Validation: 100%|██████████| 3/3 [00:01<00:00,  2.09it/s]\n"
          ]
        },
        {
          "output_type": "stream",
          "name": "stdout",
          "text": [
            "Epoch 12/50\n",
            "Train - Loss: 0.4602, Accuracy: 0.8213, Precision: 0.9659, Recall: 0.6589, AUC: 0.8934\n",
            "Val - Loss: 0.3876, Accuracy: 0.8333, Precision: 0.9574, Recall: 0.6923, AUC: 0.8381\n"
          ]
        },
        {
          "output_type": "stream",
          "name": "stderr",
          "text": [
            "Epoch 13/50, Train: 100%|██████████| 9/9 [00:06<00:00,  1.29it/s]\n",
            "Epoch 13/50, Validation: 100%|██████████| 3/3 [00:01<00:00,  2.02it/s]\n",
            "Evaluate Train: 100%|██████████| 9/9 [00:06<00:00,  1.44it/s]\n",
            "Evaluate Validation: 100%|██████████| 3/3 [00:01<00:00,  2.09it/s]\n"
          ]
        },
        {
          "output_type": "stream",
          "name": "stdout",
          "text": [
            "Epoch 13/50\n",
            "Train - Loss: 0.4315, Accuracy: 0.8061, Precision: 0.8645, Recall: 0.7171, AUC: 0.8639\n",
            "Val - Loss: 0.4812, Accuracy: 0.8333, Precision: 0.9216, Recall: 0.7231, AUC: 0.8390\n"
          ]
        },
        {
          "output_type": "stream",
          "name": "stderr",
          "text": [
            "Epoch 14/50, Train: 100%|██████████| 9/9 [00:06<00:00,  1.31it/s]\n",
            "Epoch 14/50, Validation: 100%|██████████| 3/3 [00:01<00:00,  1.60it/s]\n",
            "Evaluate Train: 100%|██████████| 9/9 [00:06<00:00,  1.45it/s]\n",
            "Evaluate Validation: 100%|██████████| 3/3 [00:01<00:00,  2.00it/s]\n"
          ]
        },
        {
          "output_type": "stream",
          "name": "stdout",
          "text": [
            "Epoch 14/50\n",
            "Train - Loss: 0.4380, Accuracy: 0.8213, Precision: 0.9100, Recall: 0.7054, AUC: 0.8658\n",
            "Val - Loss: 0.6260, Accuracy: 0.7803, Precision: 0.8750, Recall: 0.6462, AUC: 0.8129\n"
          ]
        },
        {
          "output_type": "stream",
          "name": "stderr",
          "text": [
            "Epoch 15/50, Train: 100%|██████████| 9/9 [00:07<00:00,  1.27it/s]\n",
            "Epoch 15/50, Validation: 100%|██████████| 3/3 [00:01<00:00,  1.60it/s]\n",
            "Evaluate Train: 100%|██████████| 9/9 [00:06<00:00,  1.46it/s]\n",
            "Evaluate Validation: 100%|██████████| 3/3 [00:01<00:00,  1.98it/s]\n"
          ]
        },
        {
          "output_type": "stream",
          "name": "stdout",
          "text": [
            "Epoch 15/50\n",
            "Train - Loss: 0.3961, Accuracy: 0.7700, Precision: 0.7605, Recall: 0.7752, AUC: 0.8611\n",
            "Val - Loss: 0.5649, Accuracy: 0.7879, Precision: 0.7681, Recall: 0.8154, AUC: 0.8395\n"
          ]
        },
        {
          "output_type": "stream",
          "name": "stderr",
          "text": [
            "Epoch 16/50, Train: 100%|██████████| 9/9 [00:06<00:00,  1.30it/s]\n",
            "Epoch 16/50, Validation: 100%|██████████| 3/3 [00:01<00:00,  1.90it/s]\n",
            "Evaluate Train: 100%|██████████| 9/9 [00:06<00:00,  1.47it/s]\n",
            "Evaluate Validation: 100%|██████████| 3/3 [00:01<00:00,  1.74it/s]\n"
          ]
        },
        {
          "output_type": "stream",
          "name": "stdout",
          "text": [
            "Epoch 16/50\n",
            "Train - Loss: 0.4209, Accuracy: 0.8270, Precision: 0.9514, Recall: 0.6822, AUC: 0.8929\n",
            "Val - Loss: 0.5577, Accuracy: 0.8106, Precision: 0.8846, Recall: 0.7077, AUC: 0.8338\n"
          ]
        },
        {
          "output_type": "stream",
          "name": "stderr",
          "text": [
            "Epoch 17/50, Train: 100%|██████████| 9/9 [00:07<00:00,  1.25it/s]\n",
            "Epoch 17/50, Validation: 100%|██████████| 3/3 [00:01<00:00,  2.00it/s]\n",
            "Evaluate Train: 100%|██████████| 9/9 [00:05<00:00,  1.53it/s]\n",
            "Evaluate Validation: 100%|██████████| 3/3 [00:01<00:00,  1.95it/s]\n"
          ]
        },
        {
          "output_type": "stream",
          "name": "stdout",
          "text": [
            "Epoch 17/50\n",
            "Train - Loss: 0.4056, Accuracy: 0.8365, Precision: 0.8981, Recall: 0.7519, AUC: 0.8850\n",
            "Val - Loss: 0.5591, Accuracy: 0.8182, Precision: 0.8596, Recall: 0.7538, AUC: 0.8794\n"
          ]
        },
        {
          "output_type": "stream",
          "name": "stderr",
          "text": [
            "Epoch 18/50, Train: 100%|██████████| 9/9 [00:07<00:00,  1.24it/s]\n",
            "Epoch 18/50, Validation: 100%|██████████| 3/3 [00:01<00:00,  2.03it/s]\n",
            "Evaluate Train: 100%|██████████| 9/9 [00:06<00:00,  1.49it/s]\n",
            "Evaluate Validation: 100%|██████████| 3/3 [00:01<00:00,  2.09it/s]\n"
          ]
        },
        {
          "output_type": "stream",
          "name": "stdout",
          "text": [
            "Epoch 18/50\n",
            "Train - Loss: 0.4176, Accuracy: 0.8346, Precision: 0.9476, Recall: 0.7016, AUC: 0.8880\n",
            "Val - Loss: 0.5649, Accuracy: 0.8258, Precision: 0.9565, Recall: 0.6769, AUC: 0.8510\n"
          ]
        },
        {
          "output_type": "stream",
          "name": "stderr",
          "text": [
            "Epoch 19/50, Train: 100%|██████████| 9/9 [00:06<00:00,  1.32it/s]\n",
            "Epoch 19/50, Validation: 100%|██████████| 3/3 [00:01<00:00,  1.62it/s]\n",
            "Evaluate Train: 100%|██████████| 9/9 [00:06<00:00,  1.46it/s]\n",
            "Evaluate Validation: 100%|██████████| 3/3 [00:01<00:00,  1.99it/s]\n"
          ]
        },
        {
          "output_type": "stream",
          "name": "stdout",
          "text": [
            "Epoch 19/50\n",
            "Train - Loss: 0.4479, Accuracy: 0.8156, Precision: 0.9005, Recall: 0.7016, AUC: 0.8887\n",
            "Val - Loss: 0.6045, Accuracy: 0.8106, Precision: 0.8571, Recall: 0.7385, AUC: 0.8319\n"
          ]
        },
        {
          "output_type": "stream",
          "name": "stderr",
          "text": [
            "Epoch 20/50, Train: 100%|██████████| 9/9 [00:06<00:00,  1.30it/s]\n",
            "Epoch 20/50, Validation: 100%|██████████| 3/3 [00:01<00:00,  1.91it/s]\n",
            "Evaluate Train: 100%|██████████| 9/9 [00:06<00:00,  1.41it/s]\n",
            "Evaluate Validation: 100%|██████████| 3/3 [00:01<00:00,  2.06it/s]\n"
          ]
        },
        {
          "output_type": "stream",
          "name": "stdout",
          "text": [
            "Epoch 20/50\n",
            "Train - Loss: 0.4558, Accuracy: 0.8175, Precision: 0.9133, Recall: 0.6938, AUC: 0.8991\n",
            "Val - Loss: 0.3643, Accuracy: 0.8333, Precision: 0.9216, Recall: 0.7231, AUC: 0.8299\n"
          ]
        },
        {
          "output_type": "stream",
          "name": "stderr",
          "text": [
            "Epoch 21/50, Train: 100%|██████████| 9/9 [00:07<00:00,  1.25it/s]\n",
            "Epoch 21/50, Validation: 100%|██████████| 3/3 [00:01<00:00,  2.02it/s]\n",
            "Evaluate Train: 100%|██████████| 9/9 [00:06<00:00,  1.44it/s]\n",
            "Evaluate Validation: 100%|██████████| 3/3 [00:01<00:00,  2.09it/s]\n"
          ]
        },
        {
          "output_type": "stream",
          "name": "stdout",
          "text": [
            "Epoch 21/50\n",
            "Train - Loss: 0.4951, Accuracy: 0.8118, Precision: 0.8804, Recall: 0.7132, AUC: 0.8928\n",
            "Val - Loss: 0.3095, Accuracy: 0.8409, Precision: 0.9231, Recall: 0.7385, AUC: 0.8728\n"
          ]
        },
        {
          "output_type": "stream",
          "name": "stderr",
          "text": [
            "Epoch 22/50, Train: 100%|██████████| 9/9 [00:07<00:00,  1.22it/s]\n",
            "Epoch 22/50, Validation: 100%|██████████| 3/3 [00:01<00:00,  2.10it/s]\n",
            "Evaluate Train: 100%|██████████| 9/9 [00:06<00:00,  1.46it/s]\n",
            "Evaluate Validation: 100%|██████████| 3/3 [00:01<00:00,  1.95it/s]\n"
          ]
        },
        {
          "output_type": "stream",
          "name": "stdout",
          "text": [
            "Epoch 22/50\n",
            "Train - Loss: 0.4272, Accuracy: 0.8042, Precision: 0.9101, Recall: 0.6667, AUC: 0.8809\n",
            "Val - Loss: 0.4043, Accuracy: 0.7576, Precision: 0.8837, Recall: 0.5846, AUC: 0.7878\n"
          ]
        },
        {
          "output_type": "stream",
          "name": "stderr",
          "text": [
            "Epoch 23/50, Train: 100%|██████████| 9/9 [00:07<00:00,  1.26it/s]\n",
            "Epoch 23/50, Validation: 100%|██████████| 3/3 [00:01<00:00,  1.62it/s]\n",
            "Evaluate Train: 100%|██████████| 9/9 [00:06<00:00,  1.46it/s]\n",
            "Evaluate Validation: 100%|██████████| 3/3 [00:01<00:00,  1.99it/s]\n"
          ]
        },
        {
          "output_type": "stream",
          "name": "stdout",
          "text": [
            "Epoch 23/50\n",
            "Train - Loss: 0.4265, Accuracy: 0.8061, Precision: 0.8333, Recall: 0.7558, AUC: 0.8744\n",
            "Val - Loss: 0.4083, Accuracy: 0.8030, Precision: 0.8305, Recall: 0.7538, AUC: 0.8643\n"
          ]
        },
        {
          "output_type": "stream",
          "name": "stderr",
          "text": [
            "Epoch 24/50, Train: 100%|██████████| 9/9 [00:06<00:00,  1.30it/s]\n",
            "Epoch 24/50, Validation: 100%|██████████| 3/3 [00:01<00:00,  1.90it/s]\n",
            "Evaluate Train: 100%|██████████| 9/9 [00:06<00:00,  1.47it/s]\n",
            "Evaluate Validation: 100%|██████████| 3/3 [00:01<00:00,  1.72it/s]\n"
          ]
        },
        {
          "output_type": "stream",
          "name": "stdout",
          "text": [
            "Epoch 24/50\n",
            "Train - Loss: 0.4035, Accuracy: 0.8346, Precision: 0.8767, Recall: 0.7713, AUC: 0.8987\n",
            "Val - Loss: 0.4904, Accuracy: 0.8106, Precision: 0.8333, Recall: 0.7692, AUC: 0.8487\n"
          ]
        },
        {
          "output_type": "stream",
          "name": "stderr",
          "text": [
            "Epoch 25/50, Train: 100%|██████████| 9/9 [00:07<00:00,  1.25it/s]\n",
            "Epoch 25/50, Validation: 100%|██████████| 3/3 [00:01<00:00,  2.00it/s]\n",
            "Evaluate Train: 100%|██████████| 9/9 [00:05<00:00,  1.53it/s]\n",
            "Evaluate Validation: 100%|██████████| 3/3 [00:01<00:00,  1.96it/s]\n"
          ]
        },
        {
          "output_type": "stream",
          "name": "stdout",
          "text": [
            "Epoch 25/50\n",
            "Train - Loss: 0.4319, Accuracy: 0.8403, Precision: 0.9183, Recall: 0.7403, AUC: 0.8977\n",
            "Val - Loss: 0.3251, Accuracy: 0.8258, Precision: 0.8750, Recall: 0.7538, AUC: 0.9024\n"
          ]
        },
        {
          "output_type": "stream",
          "name": "stderr",
          "text": [
            "Epoch 26/50, Train: 100%|██████████| 9/9 [00:07<00:00,  1.25it/s]\n",
            "Epoch 26/50, Validation: 100%|██████████| 3/3 [00:01<00:00,  2.00it/s]\n",
            "Evaluate Train: 100%|██████████| 9/9 [00:06<00:00,  1.44it/s]\n",
            "Evaluate Validation: 100%|██████████| 3/3 [00:01<00:00,  2.09it/s]\n"
          ]
        },
        {
          "output_type": "stream",
          "name": "stdout",
          "text": [
            "Epoch 26/50\n",
            "Train - Loss: 0.3918, Accuracy: 0.8289, Precision: 0.8925, Recall: 0.7403, AUC: 0.9028\n",
            "Val - Loss: 0.3240, Accuracy: 0.8030, Precision: 0.8421, Recall: 0.7385, AUC: 0.8767\n"
          ]
        },
        {
          "output_type": "stream",
          "name": "stderr",
          "text": [
            "Epoch 27/50, Train: 100%|██████████| 9/9 [00:06<00:00,  1.30it/s]\n",
            "Epoch 27/50, Validation: 100%|██████████| 3/3 [00:01<00:00,  2.02it/s]\n",
            "Evaluate Train: 100%|██████████| 9/9 [00:06<00:00,  1.49it/s]\n",
            "Evaluate Validation: 100%|██████████| 3/3 [00:01<00:00,  2.06it/s]\n"
          ]
        },
        {
          "output_type": "stream",
          "name": "stdout",
          "text": [
            "Epoch 27/50\n",
            "Train - Loss: 0.4507, Accuracy: 0.8384, Precision: 0.8950, Recall: 0.7597, AUC: 0.9109\n",
            "Val - Loss: 0.3086, Accuracy: 0.7955, Precision: 0.8065, Recall: 0.7692, AUC: 0.8455\n"
          ]
        },
        {
          "output_type": "stream",
          "name": "stderr",
          "text": [
            "Epoch 28/50, Train: 100%|██████████| 9/9 [00:07<00:00,  1.21it/s]\n",
            "Epoch 28/50, Validation: 100%|██████████| 3/3 [00:01<00:00,  1.81it/s]\n",
            "Evaluate Train: 100%|██████████| 9/9 [00:06<00:00,  1.41it/s]\n",
            "Evaluate Validation: 100%|██████████| 3/3 [00:01<00:00,  2.01it/s]\n"
          ]
        },
        {
          "output_type": "stream",
          "name": "stdout",
          "text": [
            "Epoch 28/50\n",
            "Train - Loss: 0.3755, Accuracy: 0.8460, Precision: 0.9005, Recall: 0.7713, AUC: 0.9088\n",
            "Val - Loss: 0.4035, Accuracy: 0.8106, Precision: 0.8226, Recall: 0.7846, AUC: 0.8758\n"
          ]
        },
        {
          "output_type": "stream",
          "name": "stderr",
          "text": [
            "Epoch 29/50, Train: 100%|██████████| 9/9 [00:07<00:00,  1.25it/s]\n",
            "Epoch 29/50, Validation: 100%|██████████| 3/3 [00:01<00:00,  2.09it/s]\n",
            "Evaluate Train: 100%|██████████| 9/9 [00:06<00:00,  1.46it/s]\n",
            "Evaluate Validation: 100%|██████████| 3/3 [00:01<00:00,  1.96it/s]\n"
          ]
        },
        {
          "output_type": "stream",
          "name": "stdout",
          "text": [
            "Epoch 29/50\n",
            "Train - Loss: 0.3613, Accuracy: 0.8441, Precision: 0.9536, Recall: 0.7171, AUC: 0.9179\n",
            "Val - Loss: 0.3628, Accuracy: 0.8030, Precision: 0.8824, Recall: 0.6923, AUC: 0.8696\n"
          ]
        },
        {
          "output_type": "stream",
          "name": "stderr",
          "text": [
            "Epoch 30/50, Train: 100%|██████████| 9/9 [00:07<00:00,  1.27it/s]\n",
            "Epoch 30/50, Validation: 100%|██████████| 3/3 [00:01<00:00,  1.61it/s]\n",
            "Evaluate Train: 100%|██████████| 9/9 [00:06<00:00,  1.45it/s]\n",
            "Evaluate Validation: 100%|██████████| 3/3 [00:01<00:00,  1.99it/s]\n"
          ]
        },
        {
          "output_type": "stream",
          "name": "stdout",
          "text": [
            "Epoch 30/50\n",
            "Train - Loss: 0.4022, Accuracy: 0.8346, Precision: 0.8800, Recall: 0.7674, AUC: 0.9098\n",
            "Val - Loss: 0.3646, Accuracy: 0.8182, Precision: 0.8596, Recall: 0.7538, AUC: 0.8606\n"
          ]
        },
        {
          "output_type": "stream",
          "name": "stderr",
          "text": [
            "Epoch 31/50, Train: 100%|██████████| 9/9 [00:07<00:00,  1.17it/s]\n",
            "Epoch 31/50, Validation: 100%|██████████| 3/3 [00:01<00:00,  2.10it/s]\n",
            "Evaluate Train: 100%|██████████| 9/9 [00:06<00:00,  1.42it/s]\n",
            "Evaluate Validation: 100%|██████████| 3/3 [00:01<00:00,  1.96it/s]\n"
          ]
        },
        {
          "output_type": "stream",
          "name": "stdout",
          "text": [
            "Epoch 31/50\n",
            "Train - Loss: 0.3584, Accuracy: 0.8270, Precision: 0.9514, Recall: 0.6822, AUC: 0.9156\n",
            "Val - Loss: 0.3510, Accuracy: 0.8258, Precision: 0.9038, Recall: 0.7231, AUC: 0.8344\n"
          ]
        },
        {
          "output_type": "stream",
          "name": "stderr",
          "text": [
            "Epoch 32/50, Train: 100%|██████████| 9/9 [00:08<00:00,  1.09it/s]\n",
            "Epoch 32/50, Validation: 100%|██████████| 3/3 [00:01<00:00,  1.96it/s]\n",
            "Evaluate Train: 100%|██████████| 9/9 [00:06<00:00,  1.49it/s]\n",
            "Evaluate Validation: 100%|██████████| 3/3 [00:01<00:00,  2.09it/s]\n"
          ]
        },
        {
          "output_type": "stream",
          "name": "stdout",
          "text": [
            "Epoch 32/50\n",
            "Train - Loss: 0.4421, Accuracy: 0.8099, Precision: 0.7821, Recall: 0.8488, AUC: 0.9023\n",
            "Val - Loss: 0.5724, Accuracy: 0.7727, Precision: 0.7465, Recall: 0.8154, AUC: 0.8735\n"
          ]
        },
        {
          "output_type": "stream",
          "name": "stderr",
          "text": [
            "Epoch 33/50, Train: 100%|██████████| 9/9 [00:06<00:00,  1.30it/s]\n",
            "Epoch 33/50, Validation: 100%|██████████| 3/3 [00:01<00:00,  2.03it/s]\n",
            "Evaluate Train: 100%|██████████| 9/9 [00:06<00:00,  1.49it/s]\n",
            "Evaluate Validation: 100%|██████████| 3/3 [00:01<00:00,  2.06it/s]\n"
          ]
        },
        {
          "output_type": "stream",
          "name": "stdout",
          "text": [
            "Epoch 33/50\n",
            "Train - Loss: 0.3606, Accuracy: 0.8441, Precision: 0.9490, Recall: 0.7209, AUC: 0.9071\n",
            "Val - Loss: 0.3920, Accuracy: 0.8409, Precision: 0.9400, Recall: 0.7231, AUC: 0.8588\n"
          ]
        },
        {
          "output_type": "stream",
          "name": "stderr",
          "text": [
            "Epoch 34/50, Train: 100%|██████████| 9/9 [00:06<00:00,  1.30it/s]\n",
            "Epoch 34/50, Validation: 100%|██████████| 3/3 [00:01<00:00,  2.11it/s]\n",
            "Evaluate Train: 100%|██████████| 9/9 [00:06<00:00,  1.45it/s]\n",
            "Evaluate Validation: 100%|██████████| 3/3 [00:01<00:00,  2.01it/s]\n"
          ]
        },
        {
          "output_type": "stream",
          "name": "stdout",
          "text": [
            "Epoch 34/50\n",
            "Train - Loss: 0.4020, Accuracy: 0.8498, Precision: 0.9242, Recall: 0.7558, AUC: 0.9211\n",
            "Val - Loss: 0.5834, Accuracy: 0.7955, Precision: 0.8519, Recall: 0.7077, AUC: 0.8395\n"
          ]
        },
        {
          "output_type": "stream",
          "name": "stderr",
          "text": [
            "Epoch 35/50, Train: 100%|██████████| 9/9 [00:07<00:00,  1.26it/s]\n",
            "Epoch 35/50, Validation: 100%|██████████| 3/3 [00:01<00:00,  1.64it/s]\n",
            "Evaluate Train: 100%|██████████| 9/9 [00:06<00:00,  1.46it/s]\n",
            "Evaluate Validation: 100%|██████████| 3/3 [00:01<00:00,  1.98it/s]\n"
          ]
        },
        {
          "output_type": "stream",
          "name": "stdout",
          "text": [
            "Epoch 35/50\n",
            "Train - Loss: 0.3608, Accuracy: 0.8213, Precision: 0.9713, Recall: 0.6550, AUC: 0.9131\n",
            "Val - Loss: 0.4358, Accuracy: 0.8182, Precision: 0.9556, Recall: 0.6615, AUC: 0.8613\n"
          ]
        },
        {
          "output_type": "stream",
          "name": "stderr",
          "text": [
            "Epoch 36/50, Train: 100%|██████████| 9/9 [00:07<00:00,  1.27it/s]\n",
            "Epoch 36/50, Validation: 100%|██████████| 3/3 [00:01<00:00,  2.08it/s]\n",
            "Evaluate Train: 100%|██████████| 9/9 [00:05<00:00,  1.50it/s]\n",
            "Evaluate Validation: 100%|██████████| 3/3 [00:01<00:00,  2.00it/s]\n"
          ]
        },
        {
          "output_type": "stream",
          "name": "stdout",
          "text": [
            "Epoch 36/50\n",
            "Train - Loss: 0.3390, Accuracy: 0.8460, Precision: 0.8933, Recall: 0.7791, AUC: 0.9186\n",
            "Val - Loss: 0.3625, Accuracy: 0.8258, Precision: 0.8500, Recall: 0.7846, AUC: 0.8792\n"
          ]
        },
        {
          "output_type": "stream",
          "name": "stderr",
          "text": [
            "Epoch 37/50, Train: 100%|██████████| 9/9 [00:06<00:00,  1.31it/s]\n",
            "Epoch 37/50, Validation: 100%|██████████| 3/3 [00:01<00:00,  2.08it/s]\n",
            "Evaluate Train: 100%|██████████| 9/9 [00:06<00:00,  1.46it/s]\n",
            "Evaluate Validation: 100%|██████████| 3/3 [00:01<00:00,  1.99it/s]\n"
          ]
        },
        {
          "output_type": "stream",
          "name": "stdout",
          "text": [
            "Epoch 37/50\n",
            "Train - Loss: 0.3112, Accuracy: 0.8688, Precision: 0.9200, Recall: 0.8023, AUC: 0.9288\n",
            "Val - Loss: 0.3693, Accuracy: 0.7955, Precision: 0.8276, Recall: 0.7385, AUC: 0.8519\n"
          ]
        },
        {
          "output_type": "stream",
          "name": "stderr",
          "text": [
            "Epoch 38/50, Train: 100%|██████████| 9/9 [00:07<00:00,  1.21it/s]\n",
            "Epoch 38/50, Validation: 100%|██████████| 3/3 [00:01<00:00,  1.81it/s]\n",
            "Evaluate Train: 100%|██████████| 9/9 [00:06<00:00,  1.41it/s]\n",
            "Evaluate Validation: 100%|██████████| 3/3 [00:01<00:00,  1.98it/s]\n"
          ]
        },
        {
          "output_type": "stream",
          "name": "stdout",
          "text": [
            "Epoch 38/50\n",
            "Train - Loss: 0.3638, Accuracy: 0.8479, Precision: 0.8771, Recall: 0.8023, AUC: 0.9287\n",
            "Val - Loss: 0.4185, Accuracy: 0.8030, Precision: 0.7910, Recall: 0.8154, AUC: 0.8611\n"
          ]
        },
        {
          "output_type": "stream",
          "name": "stderr",
          "text": [
            "Epoch 39/50, Train: 100%|██████████| 9/9 [00:07<00:00,  1.14it/s]\n",
            "Epoch 39/50, Validation: 100%|██████████| 3/3 [00:01<00:00,  1.58it/s]\n",
            "Evaluate Train: 100%|██████████| 9/9 [00:06<00:00,  1.48it/s]\n",
            "Evaluate Validation: 100%|██████████| 3/3 [00:01<00:00,  2.01it/s]\n"
          ]
        },
        {
          "output_type": "stream",
          "name": "stdout",
          "text": [
            "Epoch 39/50\n",
            "Train - Loss: 0.3994, Accuracy: 0.8498, Precision: 0.8908, Recall: 0.7907, AUC: 0.9279\n",
            "Val - Loss: 0.7117, Accuracy: 0.8409, Precision: 0.8548, Recall: 0.8154, AUC: 0.8544\n"
          ]
        },
        {
          "output_type": "stream",
          "name": "stderr",
          "text": [
            "Epoch 40/50, Train: 100%|██████████| 9/9 [00:06<00:00,  1.35it/s]\n",
            "Epoch 40/50, Validation: 100%|██████████| 3/3 [00:01<00:00,  2.16it/s]\n",
            "Evaluate Train: 100%|██████████| 9/9 [00:05<00:00,  1.54it/s]\n",
            "Evaluate Validation: 100%|██████████| 3/3 [00:01<00:00,  1.93it/s]\n"
          ]
        },
        {
          "output_type": "stream",
          "name": "stdout",
          "text": [
            "Epoch 40/50\n",
            "Train - Loss: 0.3496, Accuracy: 0.8460, Precision: 0.8526, Recall: 0.8295, AUC: 0.9137\n",
            "Val - Loss: 0.4151, Accuracy: 0.7727, Precision: 0.7869, Recall: 0.7385, AUC: 0.8356\n"
          ]
        },
        {
          "output_type": "stream",
          "name": "stderr",
          "text": [
            "Epoch 41/50, Train: 100%|██████████| 9/9 [00:06<00:00,  1.29it/s]\n",
            "Epoch 41/50, Validation: 100%|██████████| 3/3 [00:01<00:00,  2.14it/s]\n",
            "Evaluate Train: 100%|██████████| 9/9 [00:06<00:00,  1.48it/s]\n",
            "Evaluate Validation: 100%|██████████| 3/3 [00:01<00:00,  1.96it/s]\n"
          ]
        },
        {
          "output_type": "stream",
          "name": "stdout",
          "text": [
            "Epoch 41/50\n",
            "Train - Loss: 0.3441, Accuracy: 0.8061, Precision: 0.7746, Recall: 0.8527, AUC: 0.9046\n",
            "Val - Loss: 0.5271, Accuracy: 0.7955, Precision: 0.7794, Recall: 0.8154, AUC: 0.8670\n"
          ]
        },
        {
          "output_type": "stream",
          "name": "stderr",
          "text": [
            "Epoch 42/50, Train: 100%|██████████| 9/9 [00:07<00:00,  1.28it/s]\n",
            "Epoch 42/50, Validation: 100%|██████████| 3/3 [00:01<00:00,  1.84it/s]\n",
            "Evaluate Train: 100%|██████████| 9/9 [00:05<00:00,  1.54it/s]\n",
            "Evaluate Validation: 100%|██████████| 3/3 [00:01<00:00,  1.99it/s]\n"
          ]
        },
        {
          "output_type": "stream",
          "name": "stdout",
          "text": [
            "Epoch 42/50\n",
            "Train - Loss: 0.3650, Accuracy: 0.8080, Precision: 0.9538, Recall: 0.6395, AUC: 0.8955\n",
            "Val - Loss: 0.5146, Accuracy: 0.7652, Precision: 0.8864, Recall: 0.6000, AUC: 0.8356\n"
          ]
        },
        {
          "output_type": "stream",
          "name": "stderr",
          "text": [
            "Epoch 43/50, Train: 100%|██████████| 9/9 [00:07<00:00,  1.28it/s]\n",
            "Epoch 43/50, Validation: 100%|██████████| 3/3 [00:01<00:00,  1.82it/s]\n",
            "Evaluate Train: 100%|██████████| 9/9 [00:05<00:00,  1.55it/s]\n",
            "Evaluate Validation: 100%|██████████| 3/3 [00:01<00:00,  2.13it/s]\n"
          ]
        },
        {
          "output_type": "stream",
          "name": "stdout",
          "text": [
            "Epoch 43/50\n",
            "Train - Loss: 0.3328, Accuracy: 0.8650, Precision: 0.9193, Recall: 0.7946, AUC: 0.9145\n",
            "Val - Loss: 0.8926, Accuracy: 0.8258, Precision: 0.8621, Recall: 0.7692, AUC: 0.8794\n"
          ]
        },
        {
          "output_type": "stream",
          "name": "stderr",
          "text": [
            "Epoch 44/50, Train: 100%|██████████| 9/9 [00:07<00:00,  1.28it/s]\n",
            "Epoch 44/50, Validation: 100%|██████████| 3/3 [00:01<00:00,  1.57it/s]\n",
            "Evaluate Train: 100%|██████████| 9/9 [00:05<00:00,  1.50it/s]\n",
            "Evaluate Validation: 100%|██████████| 3/3 [00:01<00:00,  2.12it/s]\n"
          ]
        },
        {
          "output_type": "stream",
          "name": "stdout",
          "text": [
            "Epoch 44/50\n",
            "Train - Loss: 0.3402, Accuracy: 0.8593, Precision: 0.9466, Recall: 0.7558, AUC: 0.9224\n",
            "Val - Loss: 0.4325, Accuracy: 0.8182, Precision: 0.8727, Recall: 0.7385, AUC: 0.8700\n"
          ]
        },
        {
          "output_type": "stream",
          "name": "stderr",
          "text": [
            "Epoch 45/50, Train: 100%|██████████| 9/9 [00:06<00:00,  1.30it/s]\n",
            "Epoch 45/50, Validation: 100%|██████████| 3/3 [00:01<00:00,  2.16it/s]\n",
            "Evaluate Train: 100%|██████████| 9/9 [00:05<00:00,  1.54it/s]\n",
            "Evaluate Validation: 100%|██████████| 3/3 [00:01<00:00,  1.90it/s]\n"
          ]
        },
        {
          "output_type": "stream",
          "name": "stdout",
          "text": [
            "Epoch 45/50\n",
            "Train - Loss: 0.3184, Accuracy: 0.8669, Precision: 0.9273, Recall: 0.7907, AUC: 0.9292\n",
            "Val - Loss: 0.4487, Accuracy: 0.8106, Precision: 0.8333, Recall: 0.7692, AUC: 0.8804\n"
          ]
        },
        {
          "output_type": "stream",
          "name": "stderr",
          "text": [
            "Epoch 46/50, Train: 100%|██████████| 9/9 [00:07<00:00,  1.28it/s]\n",
            "Epoch 46/50, Validation: 100%|██████████| 3/3 [00:01<00:00,  1.83it/s]\n",
            "Evaluate Train: 100%|██████████| 9/9 [00:05<00:00,  1.58it/s]\n",
            "Evaluate Validation: 100%|██████████| 3/3 [00:01<00:00,  1.93it/s]\n"
          ]
        },
        {
          "output_type": "stream",
          "name": "stdout",
          "text": [
            "Epoch 46/50\n",
            "Train - Loss: 0.3265, Accuracy: 0.8802, Precision: 0.9452, Recall: 0.8023, AUC: 0.9384\n",
            "Val - Loss: 0.5150, Accuracy: 0.7955, Precision: 0.8654, Recall: 0.6923, AUC: 0.8239\n"
          ]
        },
        {
          "output_type": "stream",
          "name": "stderr",
          "text": [
            "Epoch 47/50, Train: 100%|██████████| 9/9 [00:07<00:00,  1.25it/s]\n",
            "Epoch 47/50, Validation: 100%|██████████| 3/3 [00:01<00:00,  1.79it/s]\n",
            "Evaluate Train: 100%|██████████| 9/9 [00:06<00:00,  1.50it/s]\n",
            "Evaluate Validation: 100%|██████████| 3/3 [00:01<00:00,  2.15it/s]\n"
          ]
        },
        {
          "output_type": "stream",
          "name": "stdout",
          "text": [
            "Epoch 47/50\n",
            "Train - Loss: 0.4042, Accuracy: 0.8745, Precision: 0.8934, Recall: 0.8450, AUC: 0.9461\n",
            "Val - Loss: 0.3732, Accuracy: 0.8030, Precision: 0.8095, Recall: 0.7846, AUC: 0.8416\n"
          ]
        },
        {
          "output_type": "stream",
          "name": "stderr",
          "text": [
            "Epoch 48/50, Train: 100%|██████████| 9/9 [00:06<00:00,  1.34it/s]\n",
            "Epoch 48/50, Validation: 100%|██████████| 3/3 [00:01<00:00,  1.81it/s]\n",
            "Evaluate Train: 100%|██████████| 9/9 [00:05<00:00,  1.55it/s]\n",
            "Evaluate Validation: 100%|██████████| 3/3 [00:01<00:00,  1.96it/s]\n"
          ]
        },
        {
          "output_type": "stream",
          "name": "stdout",
          "text": [
            "Epoch 48/50\n",
            "Train - Loss: 0.3202, Accuracy: 0.8555, Precision: 0.8447, Recall: 0.8643, AUC: 0.9342\n",
            "Val - Loss: 0.4117, Accuracy: 0.7727, Precision: 0.7465, Recall: 0.8154, AUC: 0.8739\n"
          ]
        },
        {
          "output_type": "stream",
          "name": "stderr",
          "text": [
            "Epoch 49/50, Train: 100%|██████████| 9/9 [00:07<00:00,  1.28it/s]\n",
            "Epoch 49/50, Validation: 100%|██████████| 3/3 [00:01<00:00,  2.15it/s]\n",
            "Evaluate Train: 100%|██████████| 9/9 [00:05<00:00,  1.57it/s]\n",
            "Evaluate Validation: 100%|██████████| 3/3 [00:01<00:00,  1.66it/s]\n"
          ]
        },
        {
          "output_type": "stream",
          "name": "stdout",
          "text": [
            "Epoch 49/50\n",
            "Train - Loss: 0.3139, Accuracy: 0.8745, Precision: 0.9706, Recall: 0.7674, AUC: 0.9518\n",
            "Val - Loss: 0.4735, Accuracy: 0.7803, Precision: 0.8333, Recall: 0.6923, AUC: 0.8636\n"
          ]
        },
        {
          "output_type": "stream",
          "name": "stderr",
          "text": [
            "Epoch 50/50, Train: 100%|██████████| 9/9 [00:07<00:00,  1.25it/s]\n",
            "Epoch 50/50, Validation: 100%|██████████| 3/3 [00:01<00:00,  1.58it/s]\n",
            "Evaluate Train: 100%|██████████| 9/9 [00:06<00:00,  1.49it/s]\n",
            "Evaluate Validation: 100%|██████████| 3/3 [00:01<00:00,  1.86it/s]\n"
          ]
        },
        {
          "output_type": "stream",
          "name": "stdout",
          "text": [
            "Epoch 50/50\n",
            "Train - Loss: 0.2976, Accuracy: 0.8612, Precision: 0.9384, Recall: 0.7674, AUC: 0.9320\n",
            "Val - Loss: 0.7456, Accuracy: 0.7879, Precision: 0.8627, Recall: 0.6769, AUC: 0.8657\n"
          ]
        },
        {
          "output_type": "stream",
          "name": "stderr",
          "text": [
            "Evaluate Test: 100%|██████████| 3/3 [00:00<00:00, 12.07it/s]\n"
          ]
        },
        {
          "output_type": "stream",
          "name": "stdout",
          "text": [
            "\n",
            "Accuracy: 0.7697, Precision: 0.8413, Recall: 0.6543, AUC: 0.8276\n",
            "Results saved to results/finetune/ori/pvig_s_224_gelu/classification_results.txt\n"
          ]
        },
        {
          "output_type": "stream",
          "name": "stderr",
          "text": [
            "WARNING:matplotlib.image:Clipping input data to the valid range for imshow with RGB data ([0..1] for floats or [0..255] for integers).\n",
            "WARNING:matplotlib.image:Clipping input data to the valid range for imshow with RGB data ([0..1] for floats or [0..255] for integers).\n",
            "WARNING:matplotlib.image:Clipping input data to the valid range for imshow with RGB data ([0..1] for floats or [0..255] for integers).\n",
            "WARNING:matplotlib.image:Clipping input data to the valid range for imshow with RGB data ([0..1] for floats or [0..255] for integers).\n",
            "WARNING:matplotlib.image:Clipping input data to the valid range for imshow with RGB data ([0..1] for floats or [0..255] for integers).\n",
            "WARNING:matplotlib.image:Clipping input data to the valid range for imshow with RGB data ([0..1] for floats or [0..255] for integers).\n"
          ]
        },
        {
          "output_type": "stream",
          "name": "stdout",
          "text": [
            "Results saved to results/visualization/zero_shot/ucsd/pvig_s_224_gelu/images/cxr_images.png\n"
          ]
        },
        {
          "output_type": "stream",
          "name": "stderr",
          "text": [
            "Evaluate Train: 100%|██████████| 31/31 [00:03<00:00,  9.32it/s]\n",
            "Evaluate Validation: 100%|██████████| 8/8 [00:00<00:00, 11.95it/s]\n",
            "Evaluate Test: 100%|██████████| 10/10 [00:01<00:00,  9.36it/s]"
          ]
        },
        {
          "output_type": "stream",
          "name": "stdout",
          "text": [
            "Results saved to results/zero_shot/ucsd/pvig_s_224_gelu/classification_results.txt\n"
          ]
        },
        {
          "output_type": "stream",
          "name": "stderr",
          "text": [
            "\n"
          ]
        },
        {
          "output_type": "display_data",
          "data": {
            "text/plain": [
              "<Figure size 640x480 with 0 Axes>"
            ]
          },
          "metadata": {}
        }
      ],
      "source": [
        "%run ViG-Pediatric/scripts/pvig/finetune_pvig_s_224_gelu.py"
      ]
    },
    {
      "cell_type": "code",
      "execution_count": null,
      "metadata": {
        "id": "iS2nwgZiNwUL"
      },
      "outputs": [],
      "source": [
        "# %run ViG-Pediatric/scripts/pvig/finetune_pvig_m_224_gelu.py"
      ]
    },
    {
      "cell_type": "code",
      "execution_count": null,
      "metadata": {
        "id": "atO0ERu4o3Ha"
      },
      "outputs": [],
      "source": [
        "# %run ViG-Pediatric/scripts/pvig/finetune_pvig_b_224_gelu.py"
      ]
    },
    {
      "cell_type": "code",
      "execution_count": 7,
      "metadata": {
        "id": "9iOSsMEcOBZ-",
        "colab": {
          "base_uri": "https://localhost:8080/"
        },
        "outputId": "6211c2a7-eefd-4691-aa50-7262ec0b8d3c"
      },
      "outputs": [
        {
          "output_type": "stream",
          "name": "stdout",
          "text": [
            "  adding: results/ (stored 0%)\n",
            "  adding: results/visualization/ (stored 0%)\n",
            "  adding: results/visualization/finetune/ (stored 0%)\n",
            "  adding: results/visualization/finetune/ori/ (stored 0%)\n",
            "  adding: results/visualization/finetune/ori/pvig_s_224_gelu/ (stored 0%)\n",
            "  adding: results/visualization/finetune/ori/pvig_s_224_gelu/images/ (stored 0%)\n",
            "  adding: results/visualization/finetune/ori/pvig_s_224_gelu/images/cxr_images.png (deflated 6%)\n",
            "  adding: results/visualization/finetune/ucsd/ (stored 0%)\n",
            "  adding: results/visualization/finetune/ucsd/pvig_s_224_gelu/ (stored 0%)\n",
            "  adding: results/visualization/finetune/ucsd/pvig_s_224_gelu/images/ (stored 0%)\n",
            "  adding: results/visualization/finetune/ucsd/pvig_s_224_gelu/images/cxr_images.png (deflated 8%)\n",
            "  adding: results/visualization/zero_shot/ (stored 0%)\n",
            "  adding: results/visualization/zero_shot/ori/ (stored 0%)\n",
            "  adding: results/visualization/zero_shot/ori/pvig_s_224_gelu/ (stored 0%)\n",
            "  adding: results/visualization/zero_shot/ori/pvig_s_224_gelu/images/ (stored 0%)\n",
            "  adding: results/visualization/zero_shot/ori/pvig_s_224_gelu/images/cxr_images.png (deflated 7%)\n",
            "  adding: results/visualization/zero_shot/ucsd/ (stored 0%)\n",
            "  adding: results/visualization/zero_shot/ucsd/pvig_s_224_gelu/ (stored 0%)\n",
            "  adding: results/visualization/zero_shot/ucsd/pvig_s_224_gelu/images/ (stored 0%)\n",
            "  adding: results/visualization/zero_shot/ucsd/pvig_s_224_gelu/images/cxr_images.png (deflated 7%)\n",
            "  adding: results/finetune/ (stored 0%)\n",
            "  adding: results/finetune/ori/ (stored 0%)\n",
            "  adding: results/finetune/ori/pvig_s_224_gelu/ (stored 0%)\n",
            "  adding: results/finetune/ori/pvig_s_224_gelu/metrics_accuracy_epoch.png (deflated 6%)\n",
            "  adding: results/finetune/ori/pvig_s_224_gelu/metrics_auc_epoch.png (deflated 5%)\n",
            "  adding: results/finetune/ori/pvig_s_224_gelu/metrics_recall_epoch.png (deflated 5%)\n",
            "  adding: results/finetune/ori/pvig_s_224_gelu/metrics_loss_epoch.png (deflated 11%)\n",
            "  adding: results/finetune/ori/pvig_s_224_gelu/metrics_precision_epoch.png (deflated 7%)\n",
            "  adding: results/finetune/ori/pvig_s_224_gelu/.ipynb_checkpoints/ (stored 0%)\n",
            "  adding: results/finetune/ori/pvig_s_224_gelu/classification_results.txt (deflated 55%)\n",
            "  adding: results/finetune/ucsd/ (stored 0%)\n",
            "  adding: results/finetune/ucsd/pvig_s_224_gelu/ (stored 0%)\n",
            "  adding: results/finetune/ucsd/pvig_s_224_gelu/metrics_accuracy_epoch.png (deflated 7%)\n",
            "  adding: results/finetune/ucsd/pvig_s_224_gelu/metrics_auc_epoch.png (deflated 6%)\n",
            "  adding: results/finetune/ucsd/pvig_s_224_gelu/metrics_recall_epoch.png (deflated 3%)\n",
            "  adding: results/finetune/ucsd/pvig_s_224_gelu/metrics_loss_epoch.png (deflated 7%)\n",
            "  adding: results/finetune/ucsd/pvig_s_224_gelu/metrics_precision_epoch.png (deflated 6%)\n",
            "  adding: results/finetune/ucsd/pvig_s_224_gelu/.ipynb_checkpoints/ (stored 0%)\n",
            "  adding: results/finetune/ucsd/pvig_s_224_gelu/classification_results.txt (deflated 57%)\n",
            "  adding: results/zero_shot/ (stored 0%)\n",
            "  adding: results/zero_shot/ori/ (stored 0%)\n",
            "  adding: results/zero_shot/ori/pvig_s_224_gelu/ (stored 0%)\n",
            "  adding: results/zero_shot/ori/pvig_s_224_gelu/classification_results.txt (deflated 55%)\n",
            "  adding: results/zero_shot/ucsd/ (stored 0%)\n",
            "  adding: results/zero_shot/ucsd/pvig_s_224_gelu/ (stored 0%)\n",
            "  adding: results/zero_shot/ucsd/pvig_s_224_gelu/classification_results.txt (deflated 55%)\n"
          ]
        }
      ],
      "source": [
        "!zip -r pvig_results.zip results"
      ]
    },
    {
      "cell_type": "code",
      "execution_count": 6,
      "metadata": {
        "id": "5aTRY9ohOHW1"
      },
      "outputs": [],
      "source": [
        "%mv pvig_results.zip drive/MyDrive/ViG-Pediatric"
      ]
    }
  ],
  "metadata": {
    "accelerator": "GPU",
    "colab": {
      "gpuType": "A100",
      "machine_shape": "hm",
      "provenance": []
    },
    "kernelspec": {
      "display_name": "Python 3",
      "name": "python3"
    },
    "language_info": {
      "name": "python"
    }
  },
  "nbformat": 4,
  "nbformat_minor": 0
}