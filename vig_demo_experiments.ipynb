{
  "cells": [
    {
      "cell_type": "code",
      "execution_count": 1,
      "metadata": {
        "colab": {
          "base_uri": "https://localhost:8080/"
        },
        "id": "SYlFA4SFXLHW",
        "outputId": "1888397f-5b46-4bba-bd32-e855eb9e106b"
      },
      "outputs": [
        {
          "output_type": "stream",
          "name": "stdout",
          "text": [
            "Cloning into 'ViG-Pediatric'...\n",
            "remote: Enumerating objects: 518, done.\u001b[K\n",
            "remote: Counting objects: 100% (36/36), done.\u001b[K\n",
            "remote: Compressing objects: 100% (27/27), done.\u001b[K\n",
            "remote: Total 518 (delta 0), reused 33 (delta 0), pack-reused 482\u001b[K\n",
            "Receiving objects: 100% (518/518), 3.91 MiB | 8.14 MiB/s, done.\n",
            "Resolving deltas: 100% (185/185), done.\n",
            "/content/ViG-Pediatric\n",
            "Submodule 'Efficient-AI-Backbones' (https://github.com/huawei-noah/Efficient-AI-Backbones.git) registered for path 'Efficient-AI-Backbones'\n",
            "Cloning into '/content/ViG-Pediatric/Efficient-AI-Backbones'...\n",
            "Submodule path 'Efficient-AI-Backbones': checked out 'b216a124bc8c1e999233adc23176bbba82d05d8b'\n",
            "/content\n"
          ]
        }
      ],
      "source": [
        "!git clone https://github.com/DanteMillerDS/ViG-Pediatric.git\n",
        "%cd ViG-Pediatric\n",
        "!git submodule init\n",
        "!git submodule update\n",
        "%cd ../"
      ]
    },
    {
      "cell_type": "code",
      "execution_count": 2,
      "metadata": {
        "colab": {
          "base_uri": "https://localhost:8080/"
        },
        "id": "VQMyZvkCXDmU",
        "outputId": "aa39ad1f-051f-4825-fdd8-aa17764f43fd"
      },
      "outputs": [
        {
          "output_type": "stream",
          "name": "stdout",
          "text": [
            "Collecting ftfy (from -r ViG-Pediatric/requirements.txt (line 1))\n",
            "  Downloading ftfy-6.2.0-py3-none-any.whl (54 kB)\n",
            "\u001b[?25l     \u001b[90m━━━━━━━━━━━━━━━━━━━━━━━━━━━━━━━━━━━━━━━━\u001b[0m \u001b[32m0.0/54.4 kB\u001b[0m \u001b[31m?\u001b[0m eta \u001b[36m-:--:--\u001b[0m\r\u001b[2K     \u001b[90m━━━━━━━━━━━━━━━━━━━━━━━━━━━━━━━━━━━━━━━━\u001b[0m \u001b[32m54.4/54.4 kB\u001b[0m \u001b[31m2.3 MB/s\u001b[0m eta \u001b[36m0:00:00\u001b[0m\n",
            "\u001b[?25hRequirement already satisfied: regex in /usr/local/lib/python3.10/dist-packages (from -r ViG-Pediatric/requirements.txt (line 2)) (2023.12.25)\n",
            "Collecting timm (from -r ViG-Pediatric/requirements.txt (line 3))\n",
            "  Downloading timm-0.9.16-py3-none-any.whl (2.2 MB)\n",
            "\u001b[?25l     \u001b[90m━━━━━━━━━━━━━━━━━━━━━━━━━━━━━━━━━━━━━━━━\u001b[0m \u001b[32m0.0/2.2 MB\u001b[0m \u001b[31m?\u001b[0m eta \u001b[36m-:--:--\u001b[0m\r\u001b[2K     \u001b[91m━━━━━━━━━━━━━━━━━━━━━━━━━━━━━━━━━━━━━━━\u001b[0m\u001b[91m╸\u001b[0m \u001b[32m2.2/2.2 MB\u001b[0m \u001b[31m78.4 MB/s\u001b[0m eta \u001b[36m0:00:01\u001b[0m\r\u001b[2K     \u001b[90m━━━━━━━━━━━━━━━━━━━━━━━━━━━━━━━━━━━━━━━━\u001b[0m \u001b[32m2.2/2.2 MB\u001b[0m \u001b[31m50.1 MB/s\u001b[0m eta \u001b[36m0:00:00\u001b[0m\n",
            "\u001b[?25hRequirement already satisfied: tqdm in /usr/local/lib/python3.10/dist-packages (from -r ViG-Pediatric/requirements.txt (line 4)) (4.66.2)\n",
            "Requirement already satisfied: wcwidth<0.3.0,>=0.2.12 in /usr/local/lib/python3.10/dist-packages (from ftfy->-r ViG-Pediatric/requirements.txt (line 1)) (0.2.13)\n",
            "Requirement already satisfied: torch in /usr/local/lib/python3.10/dist-packages (from timm->-r ViG-Pediatric/requirements.txt (line 3)) (2.2.1+cu121)\n",
            "Requirement already satisfied: torchvision in /usr/local/lib/python3.10/dist-packages (from timm->-r ViG-Pediatric/requirements.txt (line 3)) (0.17.1+cu121)\n",
            "Requirement already satisfied: pyyaml in /usr/local/lib/python3.10/dist-packages (from timm->-r ViG-Pediatric/requirements.txt (line 3)) (6.0.1)\n",
            "Requirement already satisfied: huggingface_hub in /usr/local/lib/python3.10/dist-packages (from timm->-r ViG-Pediatric/requirements.txt (line 3)) (0.20.3)\n",
            "Requirement already satisfied: safetensors in /usr/local/lib/python3.10/dist-packages (from timm->-r ViG-Pediatric/requirements.txt (line 3)) (0.4.2)\n",
            "Requirement already satisfied: filelock in /usr/local/lib/python3.10/dist-packages (from huggingface_hub->timm->-r ViG-Pediatric/requirements.txt (line 3)) (3.13.4)\n",
            "Requirement already satisfied: fsspec>=2023.5.0 in /usr/local/lib/python3.10/dist-packages (from huggingface_hub->timm->-r ViG-Pediatric/requirements.txt (line 3)) (2023.6.0)\n",
            "Requirement already satisfied: requests in /usr/local/lib/python3.10/dist-packages (from huggingface_hub->timm->-r ViG-Pediatric/requirements.txt (line 3)) (2.31.0)\n",
            "Requirement already satisfied: typing-extensions>=3.7.4.3 in /usr/local/lib/python3.10/dist-packages (from huggingface_hub->timm->-r ViG-Pediatric/requirements.txt (line 3)) (4.11.0)\n",
            "Requirement already satisfied: packaging>=20.9 in /usr/local/lib/python3.10/dist-packages (from huggingface_hub->timm->-r ViG-Pediatric/requirements.txt (line 3)) (24.0)\n",
            "Requirement already satisfied: sympy in /usr/local/lib/python3.10/dist-packages (from torch->timm->-r ViG-Pediatric/requirements.txt (line 3)) (1.12)\n",
            "Requirement already satisfied: networkx in /usr/local/lib/python3.10/dist-packages (from torch->timm->-r ViG-Pediatric/requirements.txt (line 3)) (3.3)\n",
            "Requirement already satisfied: jinja2 in /usr/local/lib/python3.10/dist-packages (from torch->timm->-r ViG-Pediatric/requirements.txt (line 3)) (3.1.3)\n",
            "Collecting nvidia-cuda-nvrtc-cu12==12.1.105 (from torch->timm->-r ViG-Pediatric/requirements.txt (line 3))\n",
            "  Using cached nvidia_cuda_nvrtc_cu12-12.1.105-py3-none-manylinux1_x86_64.whl (23.7 MB)\n",
            "Collecting nvidia-cuda-runtime-cu12==12.1.105 (from torch->timm->-r ViG-Pediatric/requirements.txt (line 3))\n",
            "  Using cached nvidia_cuda_runtime_cu12-12.1.105-py3-none-manylinux1_x86_64.whl (823 kB)\n",
            "Collecting nvidia-cuda-cupti-cu12==12.1.105 (from torch->timm->-r ViG-Pediatric/requirements.txt (line 3))\n",
            "  Using cached nvidia_cuda_cupti_cu12-12.1.105-py3-none-manylinux1_x86_64.whl (14.1 MB)\n",
            "Collecting nvidia-cudnn-cu12==8.9.2.26 (from torch->timm->-r ViG-Pediatric/requirements.txt (line 3))\n",
            "  Using cached nvidia_cudnn_cu12-8.9.2.26-py3-none-manylinux1_x86_64.whl (731.7 MB)\n",
            "Collecting nvidia-cublas-cu12==12.1.3.1 (from torch->timm->-r ViG-Pediatric/requirements.txt (line 3))\n",
            "  Using cached nvidia_cublas_cu12-12.1.3.1-py3-none-manylinux1_x86_64.whl (410.6 MB)\n",
            "Collecting nvidia-cufft-cu12==11.0.2.54 (from torch->timm->-r ViG-Pediatric/requirements.txt (line 3))\n",
            "  Using cached nvidia_cufft_cu12-11.0.2.54-py3-none-manylinux1_x86_64.whl (121.6 MB)\n",
            "Collecting nvidia-curand-cu12==10.3.2.106 (from torch->timm->-r ViG-Pediatric/requirements.txt (line 3))\n",
            "  Using cached nvidia_curand_cu12-10.3.2.106-py3-none-manylinux1_x86_64.whl (56.5 MB)\n",
            "Collecting nvidia-cusolver-cu12==11.4.5.107 (from torch->timm->-r ViG-Pediatric/requirements.txt (line 3))\n",
            "  Using cached nvidia_cusolver_cu12-11.4.5.107-py3-none-manylinux1_x86_64.whl (124.2 MB)\n",
            "Collecting nvidia-cusparse-cu12==12.1.0.106 (from torch->timm->-r ViG-Pediatric/requirements.txt (line 3))\n",
            "  Using cached nvidia_cusparse_cu12-12.1.0.106-py3-none-manylinux1_x86_64.whl (196.0 MB)\n",
            "Collecting nvidia-nccl-cu12==2.19.3 (from torch->timm->-r ViG-Pediatric/requirements.txt (line 3))\n",
            "  Using cached nvidia_nccl_cu12-2.19.3-py3-none-manylinux1_x86_64.whl (166.0 MB)\n",
            "Collecting nvidia-nvtx-cu12==12.1.105 (from torch->timm->-r ViG-Pediatric/requirements.txt (line 3))\n",
            "  Using cached nvidia_nvtx_cu12-12.1.105-py3-none-manylinux1_x86_64.whl (99 kB)\n",
            "Requirement already satisfied: triton==2.2.0 in /usr/local/lib/python3.10/dist-packages (from torch->timm->-r ViG-Pediatric/requirements.txt (line 3)) (2.2.0)\n",
            "Collecting nvidia-nvjitlink-cu12 (from nvidia-cusolver-cu12==11.4.5.107->torch->timm->-r ViG-Pediatric/requirements.txt (line 3))\n",
            "  Using cached nvidia_nvjitlink_cu12-12.4.127-py3-none-manylinux2014_x86_64.whl (21.1 MB)\n",
            "Requirement already satisfied: numpy in /usr/local/lib/python3.10/dist-packages (from torchvision->timm->-r ViG-Pediatric/requirements.txt (line 3)) (1.25.2)\n",
            "Requirement already satisfied: pillow!=8.3.*,>=5.3.0 in /usr/local/lib/python3.10/dist-packages (from torchvision->timm->-r ViG-Pediatric/requirements.txt (line 3)) (9.4.0)\n",
            "Requirement already satisfied: MarkupSafe>=2.0 in /usr/local/lib/python3.10/dist-packages (from jinja2->torch->timm->-r ViG-Pediatric/requirements.txt (line 3)) (2.1.5)\n",
            "Requirement already satisfied: charset-normalizer<4,>=2 in /usr/local/lib/python3.10/dist-packages (from requests->huggingface_hub->timm->-r ViG-Pediatric/requirements.txt (line 3)) (3.3.2)\n",
            "Requirement already satisfied: idna<4,>=2.5 in /usr/local/lib/python3.10/dist-packages (from requests->huggingface_hub->timm->-r ViG-Pediatric/requirements.txt (line 3)) (3.6)\n",
            "Requirement already satisfied: urllib3<3,>=1.21.1 in /usr/local/lib/python3.10/dist-packages (from requests->huggingface_hub->timm->-r ViG-Pediatric/requirements.txt (line 3)) (2.0.7)\n",
            "Requirement already satisfied: certifi>=2017.4.17 in /usr/local/lib/python3.10/dist-packages (from requests->huggingface_hub->timm->-r ViG-Pediatric/requirements.txt (line 3)) (2024.2.2)\n",
            "Requirement already satisfied: mpmath>=0.19 in /usr/local/lib/python3.10/dist-packages (from sympy->torch->timm->-r ViG-Pediatric/requirements.txt (line 3)) (1.3.0)\n",
            "Installing collected packages: nvidia-nvtx-cu12, nvidia-nvjitlink-cu12, nvidia-nccl-cu12, nvidia-curand-cu12, nvidia-cufft-cu12, nvidia-cuda-runtime-cu12, nvidia-cuda-nvrtc-cu12, nvidia-cuda-cupti-cu12, nvidia-cublas-cu12, ftfy, nvidia-cusparse-cu12, nvidia-cudnn-cu12, nvidia-cusolver-cu12, timm\n",
            "Successfully installed ftfy-6.2.0 nvidia-cublas-cu12-12.1.3.1 nvidia-cuda-cupti-cu12-12.1.105 nvidia-cuda-nvrtc-cu12-12.1.105 nvidia-cuda-runtime-cu12-12.1.105 nvidia-cudnn-cu12-8.9.2.26 nvidia-cufft-cu12-11.0.2.54 nvidia-curand-cu12-10.3.2.106 nvidia-cusolver-cu12-11.4.5.107 nvidia-cusparse-cu12-12.1.0.106 nvidia-nccl-cu12-2.19.3 nvidia-nvjitlink-cu12-12.4.127 nvidia-nvtx-cu12-12.1.105 timm-0.9.16\n"
          ]
        }
      ],
      "source": [
        "!pip install -r ViG-Pediatric/requirements.txt"
      ]
    },
    {
      "cell_type": "code",
      "execution_count": 3,
      "metadata": {
        "id": "XSlfTgTNXnm3"
      },
      "outputs": [],
      "source": [
        "# %run ViG-Pediatric/scripts/vig/finetune_vig_ti_224_gelu.py"
      ]
    },
    {
      "cell_type": "code",
      "execution_count": 4,
      "metadata": {
        "colab": {
          "base_uri": "https://localhost:8080/",
          "height": 1000
        },
        "id": "8Qo0XB08o12e",
        "outputId": "c1bed085-1a7d-499d-ac47-18cd01318e92"
      },
      "outputs": [
        {
          "output_type": "stream",
          "name": "stdout",
          "text": [
            "Mounting Google Drive...\n",
            "Mounted at /content/drive\n",
            "Copying files from Google Drive...\n",
            "Extracting zip files...\n",
            "\n",
            "7-Zip [64] 16.02 : Copyright (c) 1999-2016 Igor Pavlov : 2016-05-21\n",
            "p7zip Version 16.02 (locale=en_US.UTF-8,Utf16=on,HugeFiles=on,64 bits,12 CPUs Intel(R) Xeon(R) CPU @ 2.20GHz (50657),ASM,AES-NI)\n",
            "\n",
            "Scanning the drive for archives:\n",
            "  0M Scan /content/\b\b\b\b\b\b\b\b\b\b\b\b\b\b\b\b\b\b\b                   \b\b\b\b\b\b\b\b\b\b\b\b\b\b\b\b\b\b\b1 file, 22471493 bytes (22 MiB)\n",
            "\n",
            "Extracting archive: /content/ucsd.zip\n",
            " 66% 4096 Open\b\b\b\b\b\b\b\b\b\b\b\b\b\b              \b\b\b\b\b\b\b\b\b\b\b\b\b\b--\n",
            "Path = /content/ucsd.zip\n",
            "Type = zip\n",
            "Physical Size = 22471493\n",
            "\n",
            "  0%\b\b\b\b    \b\b\b\b 23% 1452 - ucsd/Train/Positive/VIRUS-3146191-0003.jpeg\b\b\b\b\b\b\b\b\b\b\b\b\b\b\b\b\b\b\b\b\b\b\b\b\b\b\b\b\b\b\b\b\b\b\b\b\b\b\b\b\b\b\b\b\b\b\b\b\b\b\b\b\b\b\b                                                       \b\b\b\b\b\b\b\b\b\b\b\b\b\b\b\b\b\b\b\b\b\b\b\b\b\b\b\b\b\b\b\b\b\b\b\b\b\b\b\b\b\b\b\b\b\b\b\b\b\b\b\b\b\b\b 37% 2403 - __MACOSX/ucsd/Train/Positive/._VIRUS-463487-0013.jpeg\b\b\b\b\b\b\b\b\b\b\b\b\b\b\b\b\b\b\b\b\b\b\b\b\b\b\b\b\b\b\b\b\b\b\b\b\b\b\b\b\b\b\b\b\b\b\b\b\b\b\b\b\b\b\b\b\b\b\b\b\b\b\b\b\b                                                                 \b\b\b\b\b\b\b\b\b\b\b\b\b\b\b\b\b\b\b\b\b\b\b\b\b\b\b\b\b\b\b\b\b\b\b\b\b\b\b\b\b\b\b\b\b\b\b\b\b\b\b\b\b\b\b\b\b\b\b\b\b\b\b\b\b 46% 2992 - ucsd/Train/Positive/VIRUS-2763145-0002.jpeg\b\b\b\b\b\b\b\b\b\b\b\b\b\b\b\b\b\b\b\b\b\b\b\b\b\b\b\b\b\b\b\b\b\b\b\b\b\b\b\b\b\b\b\b\b\b\b\b\b\b\b\b\b\b\b                                                       \b\b\b\b\b\b\b\b\b\b\b\b\b\b\b\b\b\b\b\b\b\b\b\b\b\b\b\b\b\b\b\b\b\b\b\b\b\b\b\b\b\b\b\b\b\b\b\b\b\b\b\b\b\b\b 62% 3986 - ucsd/Train/Negative/NORMAL-8423585-0001.jpeg\b\b\b\b\b\b\b\b\b\b\b\b\b\b\b\b\b\b\b\b\b\b\b\b\b\b\b\b\b\b\b\b\b\b\b\b\b\b\b\b\b\b\b\b\b\b\b\b\b\b\b\b\b\b\b\b                                                        \b\b\b\b\b\b\b\b\b\b\b\b\b\b\b\b\b\b\b\b\b\b\b\b\b\b\b\b\b\b\b\b\b\b\b\b\b\b\b\b\b\b\b\b\b\b\b\b\b\b\b\b\b\b\b\b 74% 4670 - ucsd/Train/Negative/NORMAL-724740-0001.jpeg\b\b\b\b\b\b\b\b\b\b\b\b\b\b\b\b\b\b\b\b\b\b\b\b\b\b\b\b\b\b\b\b\b\b\b\b\b\b\b\b\b\b\b\b\b\b\b\b\b\b\b\b\b\b\b                                                       \b\b\b\b\b\b\b\b\b\b\b\b\b\b\b\b\b\b\b\b\b\b\b\b\b\b\b\b\b\b\b\b\b\b\b\b\b\b\b\b\b\b\b\b\b\b\b\b\b\b\b\b\b\b\b 83% 5172 - ucsd/Train/Negative/NORMAL-7697532-0001.jpeg\b\b\b\b\b\b\b\b\b\b\b\b\b\b\b\b\b\b\b\b\b\b\b\b\b\b\b\b\b\b\b\b\b\b\b\b\b\b\b\b\b\b\b\b\b\b\b\b\b\b\b\b\b\b\b\b                                                        \b\b\b\b\b\b\b\b\b\b\b\b\b\b\b\b\b\b\b\b\b\b\b\b\b\b\b\b\b\b\b\b\b\b\b\b\b\b\b\b\b\b\b\b\b\b\b\b\b\b\b\b\b\b\b\bEverything is Ok\n",
            "\n",
            "Folders: 10\n",
            "Files: 6162\n",
            "Size:       21151375\n",
            "Compressed: 22471493\n",
            "\n",
            "7-Zip [64] 16.02 : Copyright (c) 1999-2016 Igor Pavlov : 2016-05-21\n",
            "p7zip Version 16.02 (locale=en_US.UTF-8,Utf16=on,HugeFiles=on,64 bits,12 CPUs Intel(R) Xeon(R) CPU @ 2.20GHz (50657),ASM,AES-NI)\n",
            "\n",
            "Scanning the drive for archives:\n",
            "  0M Scan /content/\b\b\b\b\b\b\b\b\b\b\b\b\b\b\b\b\b\b\b                   \b\b\b\b\b\b\b\b\b\b\b\b\b\b\b\b\b\b\b1 file, 19842873 bytes (19 MiB)\n",
            "\n",
            "Extracting archive: /content/ori.zip\n",
            "--\n",
            "Path = /content/ori.zip\n",
            "Type = zip\n",
            "Physical Size = 19842873\n",
            "\n",
            "  0%\b\b\b\b    \b\b\b\b 76% 1290 - ori/Train/Negative/DJ6VDP6ESGR2.png\b\b\b\b\b\b\b\b\b\b\b\b\b\b\b\b\b\b\b\b\b\b\b\b\b\b\b\b\b\b\b\b\b\b\b\b\b\b\b\b\b\b\b\b\b\b\b                                               \b\b\b\b\b\b\b\b\b\b\b\b\b\b\b\b\b\b\b\b\b\b\b\b\b\b\b\b\b\b\b\b\b\b\b\b\b\b\b\b\b\b\b\b\b\b\bEverything is Ok\n",
            "\n",
            "Folders: 10\n",
            "Files: 1662\n",
            "Size:       19522791\n",
            "Compressed: 19842873\n",
            "Files extracted successfully.\n"
          ]
        },
        {
          "output_type": "stream",
          "name": "stderr",
          "text": [
            "WARNING:matplotlib.image:Clipping input data to the valid range for imshow with RGB data ([0..1] for floats or [0..255] for integers).\n",
            "WARNING:matplotlib.image:Clipping input data to the valid range for imshow with RGB data ([0..1] for floats or [0..255] for integers).\n",
            "WARNING:matplotlib.image:Clipping input data to the valid range for imshow with RGB data ([0..1] for floats or [0..255] for integers).\n",
            "WARNING:matplotlib.image:Clipping input data to the valid range for imshow with RGB data ([0..1] for floats or [0..255] for integers).\n",
            "WARNING:matplotlib.image:Clipping input data to the valid range for imshow with RGB data ([0..1] for floats or [0..255] for integers).\n",
            "WARNING:matplotlib.image:Clipping input data to the valid range for imshow with RGB data ([0..1] for floats or [0..255] for integers).\n"
          ]
        },
        {
          "output_type": "stream",
          "name": "stdout",
          "text": [
            "Results saved to results/visualization/finetune/ucsd/vig_s_224_gelu/images/cxr_images.png\n"
          ]
        },
        {
          "output_type": "stream",
          "name": "stderr",
          "text": [
            "/usr/local/lib/python3.10/dist-packages/torchvision/models/inception.py:43: FutureWarning: The default weight initialization of inception_v3 will be changed in future releases of torchvision. If you wish to keep the old behavior (which leads to long initialization times due to scipy/scipy#11299), please set init_weights=True.\n",
            "  warnings.warn(\n"
          ]
        },
        {
          "output_type": "stream",
          "name": "stdout",
          "text": [
            "NVIDIA library configured successfully.\n",
            "Model vig_s_224_gelu loaded with mean and std normalization.\n",
            "Mean: [0.4655 0.4655 0.4655], Std: [0.2523 0.2523 0.2523]\n"
          ]
        },
        {
          "output_type": "stream",
          "name": "stderr",
          "text": [
            "/usr/lib/python3.10/multiprocessing/popen_fork.py:66: RuntimeWarning: os.fork() was called. os.fork() is incompatible with multithreaded code, and JAX is multithreaded, so this will likely lead to a deadlock.\n",
            "  self.pid = os.fork()\n",
            "/usr/lib/python3.10/multiprocessing/popen_fork.py:66: RuntimeWarning: os.fork() was called. os.fork() is incompatible with multithreaded code, and JAX is multithreaded, so this will likely lead to a deadlock.\n",
            "  self.pid = os.fork()\n",
            "Epoch 1/50, Train:   0%|          | 0/16 [00:00<?, ?it/s]/usr/local/lib/python3.10/dist-packages/torch/_inductor/compile_fx.py:140: UserWarning: TensorFloat32 tensor cores for float32 matrix multiplication available but not enabled. Consider setting `torch.set_float32_matmul_precision('high')` for better performance.\n",
            "  warnings.warn(\n",
            "Epoch 1/50, Train: 100%|██████████| 16/16 [04:11<00:00, 15.73s/it]\n",
            "Epoch 1/50, Validation: 100%|██████████| 4/4 [01:38<00:00, 24.50s/it]\n",
            "Evaluate Train: 100%|██████████| 16/16 [01:16<00:00,  4.80s/it]\n",
            "Evaluate Validation: 100%|██████████| 4/4 [00:06<00:00,  1.71s/it]\n"
          ]
        },
        {
          "output_type": "stream",
          "name": "stdout",
          "text": [
            "Epoch 1/50\n",
            "Train - Loss: 0.3789, Accuracy: 0.5363, Precision: 0.5116, Recall: 0.9948, AUC: 0.9291\n",
            "Val - Loss: 1.4187, Accuracy: 0.5193, Precision: 0.5021, Recall: 0.9958, AUC: 0.9122\n"
          ]
        },
        {
          "output_type": "stream",
          "name": "stderr",
          "text": [
            "Epoch 2/50, Train: 100%|██████████| 16/16 [00:26<00:00,  1.68s/it]\n",
            "Epoch 2/50, Validation: 100%|██████████| 4/4 [00:06<00:00,  1.51s/it]\n",
            "Evaluate Train: 100%|██████████| 16/16 [00:22<00:00,  1.43s/it]\n",
            "Evaluate Validation: 100%|██████████| 4/4 [00:06<00:00,  1.65s/it]\n"
          ]
        },
        {
          "output_type": "stream",
          "name": "stdout",
          "text": [
            "Epoch 2/50\n",
            "Train - Loss: 0.2953, Accuracy: 0.8185, Precision: 0.7392, Recall: 0.9675, AUC: 0.9556\n",
            "Val - Loss: 0.4344, Accuracy: 0.8073, Precision: 0.7323, Recall: 0.9498, AUC: 0.9474\n"
          ]
        },
        {
          "output_type": "stream",
          "name": "stderr",
          "text": [
            "Epoch 3/50, Train: 100%|██████████| 16/16 [00:25<00:00,  1.57s/it]\n",
            "Epoch 3/50, Validation: 100%|██████████| 4/4 [00:06<00:00,  1.58s/it]\n",
            "Evaluate Train: 100%|██████████| 16/16 [00:22<00:00,  1.40s/it]\n",
            "Evaluate Validation: 100%|██████████| 4/4 [00:05<00:00,  1.35s/it]\n"
          ]
        },
        {
          "output_type": "stream",
          "name": "stdout",
          "text": [
            "Epoch 3/50\n",
            "Train - Loss: 0.2481, Accuracy: 0.8409, Precision: 0.9521, Recall: 0.7079, AUC: 0.9505\n",
            "Val - Loss: 0.3944, Accuracy: 0.8235, Precision: 0.9471, Recall: 0.6736, AUC: 0.9481\n"
          ]
        },
        {
          "output_type": "stream",
          "name": "stderr",
          "text": [
            "Epoch 4/50, Train: 100%|██████████| 16/16 [00:25<00:00,  1.58s/it]\n",
            "Epoch 4/50, Validation: 100%|██████████| 4/4 [00:05<00:00,  1.46s/it]\n",
            "Evaluate Train: 100%|██████████| 16/16 [00:22<00:00,  1.41s/it]\n",
            "Evaluate Validation: 100%|██████████| 4/4 [00:06<00:00,  1.63s/it]\n"
          ]
        },
        {
          "output_type": "stream",
          "name": "stdout",
          "text": [
            "Epoch 4/50\n",
            "Train - Loss: 0.2337, Accuracy: 0.9202, Precision: 0.9514, Recall: 0.8806, AUC: 0.9769\n",
            "Val - Loss: 0.2327, Accuracy: 0.9087, Precision: 0.9619, Recall: 0.8452, AUC: 0.9742\n"
          ]
        },
        {
          "output_type": "stream",
          "name": "stderr",
          "text": [
            "Epoch 5/50, Train: 100%|██████████| 16/16 [00:25<00:00,  1.60s/it]\n",
            "Epoch 5/50, Validation: 100%|██████████| 4/4 [00:05<00:00,  1.44s/it]\n",
            "Evaluate Train: 100%|██████████| 16/16 [00:23<00:00,  1.47s/it]\n",
            "Evaluate Validation: 100%|██████████| 4/4 [00:05<00:00,  1.36s/it]\n"
          ]
        },
        {
          "output_type": "stream",
          "name": "stdout",
          "text": [
            "Epoch 5/50\n",
            "Train - Loss: 0.2058, Accuracy: 0.9309, Precision: 0.9288, Recall: 0.9288, AUC: 0.9799\n",
            "Val - Loss: 0.1863, Accuracy: 0.9270, Precision: 0.9394, Recall: 0.9079, AUC: 0.9778\n"
          ]
        },
        {
          "output_type": "stream",
          "name": "stderr",
          "text": [
            "Epoch 6/50, Train: 100%|██████████| 16/16 [00:26<00:00,  1.64s/it]\n",
            "Epoch 6/50, Validation: 100%|██████████| 4/4 [00:05<00:00,  1.50s/it]\n",
            "Evaluate Train: 100%|██████████| 16/16 [00:22<00:00,  1.40s/it]\n",
            "Evaluate Validation: 100%|██████████| 4/4 [00:05<00:00,  1.36s/it]\n"
          ]
        },
        {
          "output_type": "stream",
          "name": "stdout",
          "text": [
            "Epoch 6/50\n",
            "Train - Loss: 0.1913, Accuracy: 0.8917, Precision: 0.9806, Recall: 0.7927, AUC: 0.9759\n",
            "Val - Loss: 0.4124, Accuracy: 0.8844, Precision: 0.9740, Recall: 0.7824, AUC: 0.9670\n"
          ]
        },
        {
          "output_type": "stream",
          "name": "stderr",
          "text": [
            "Epoch 7/50, Train: 100%|██████████| 16/16 [00:26<00:00,  1.64s/it]\n",
            "Epoch 7/50, Validation: 100%|██████████| 4/4 [00:05<00:00,  1.37s/it]\n",
            "Evaluate Train: 100%|██████████| 16/16 [00:22<00:00,  1.44s/it]\n",
            "Evaluate Validation: 100%|██████████| 4/4 [00:05<00:00,  1.34s/it]\n"
          ]
        },
        {
          "output_type": "stream",
          "name": "stdout",
          "text": [
            "Epoch 7/50\n",
            "Train - Loss: 0.1875, Accuracy: 0.9263, Precision: 0.9058, Recall: 0.9466, AUC: 0.9811\n",
            "Val - Loss: 0.1783, Accuracy: 0.9249, Precision: 0.9106, Recall: 0.9372, AUC: 0.9773\n"
          ]
        },
        {
          "output_type": "stream",
          "name": "stderr",
          "text": [
            "Epoch 8/50, Train: 100%|██████████| 16/16 [00:25<00:00,  1.60s/it]\n",
            "Epoch 8/50, Validation: 100%|██████████| 4/4 [00:05<00:00,  1.45s/it]\n",
            "Evaluate Train: 100%|██████████| 16/16 [00:22<00:00,  1.40s/it]\n",
            "Evaluate Validation: 100%|██████████| 4/4 [00:05<00:00,  1.37s/it]\n"
          ]
        },
        {
          "output_type": "stream",
          "name": "stdout",
          "text": [
            "Epoch 8/50\n",
            "Train - Loss: 0.2034, Accuracy: 0.9426, Precision: 0.9322, Recall: 0.9508, AUC: 0.9847\n",
            "Val - Loss: 0.1802, Accuracy: 0.9391, Precision: 0.9336, Recall: 0.9414, AUC: 0.9779\n"
          ]
        },
        {
          "output_type": "stream",
          "name": "stderr",
          "text": [
            "Epoch 9/50, Train: 100%|██████████| 16/16 [00:25<00:00,  1.58s/it]\n",
            "Epoch 9/50, Validation: 100%|██████████| 4/4 [00:05<00:00,  1.48s/it]\n",
            "Evaluate Train: 100%|██████████| 16/16 [00:22<00:00,  1.42s/it]\n",
            "Evaluate Validation: 100%|██████████| 4/4 [00:05<00:00,  1.32s/it]\n"
          ]
        },
        {
          "output_type": "stream",
          "name": "stdout",
          "text": [
            "Epoch 9/50\n",
            "Train - Loss: 0.1718, Accuracy: 0.9329, Precision: 0.9401, Recall: 0.9204, AUC: 0.9835\n",
            "Val - Loss: 0.1901, Accuracy: 0.9209, Precision: 0.9348, Recall: 0.8996, AUC: 0.9773\n"
          ]
        },
        {
          "output_type": "stream",
          "name": "stderr",
          "text": [
            "Epoch 10/50, Train: 100%|██████████| 16/16 [00:26<00:00,  1.63s/it]\n",
            "Epoch 10/50, Validation: 100%|██████████| 4/4 [00:06<00:00,  1.60s/it]\n",
            "Evaluate Train: 100%|██████████| 16/16 [00:24<00:00,  1.51s/it]\n",
            "Evaluate Validation: 100%|██████████| 4/4 [00:07<00:00,  1.79s/it]\n"
          ]
        },
        {
          "output_type": "stream",
          "name": "stdout",
          "text": [
            "Epoch 10/50\n",
            "Train - Loss: 0.1637, Accuracy: 0.9232, Precision: 0.9674, Recall: 0.8712, AUC: 0.9855\n",
            "Val - Loss: 0.1956, Accuracy: 0.9229, Precision: 0.9674, Recall: 0.8703, AUC: 0.9800\n"
          ]
        },
        {
          "output_type": "stream",
          "name": "stderr",
          "text": [
            "Epoch 11/50, Train: 100%|██████████| 16/16 [00:27<00:00,  1.73s/it]\n",
            "Epoch 11/50, Validation: 100%|██████████| 4/4 [00:05<00:00,  1.44s/it]\n",
            "Evaluate Train: 100%|██████████| 16/16 [00:22<00:00,  1.41s/it]\n",
            "Evaluate Validation: 100%|██████████| 4/4 [00:05<00:00,  1.36s/it]\n"
          ]
        },
        {
          "output_type": "stream",
          "name": "stdout",
          "text": [
            "Epoch 11/50\n",
            "Train - Loss: 0.1530, Accuracy: 0.9161, Precision: 0.8671, Recall: 0.9770, AUC: 0.9868\n",
            "Val - Loss: 0.2238, Accuracy: 0.9168, Precision: 0.8667, Recall: 0.9791, AUC: 0.9810\n"
          ]
        },
        {
          "output_type": "stream",
          "name": "stderr",
          "text": [
            "Epoch 12/50, Train: 100%|██████████| 16/16 [00:26<00:00,  1.63s/it]\n",
            "Epoch 12/50, Validation: 100%|██████████| 4/4 [00:06<00:00,  1.59s/it]\n",
            "Evaluate Train: 100%|██████████| 16/16 [00:23<00:00,  1.49s/it]\n",
            "Evaluate Validation: 100%|██████████| 4/4 [00:05<00:00,  1.37s/it]\n"
          ]
        },
        {
          "output_type": "stream",
          "name": "stdout",
          "text": [
            "Epoch 12/50\n",
            "Train - Loss: 0.1543, Accuracy: 0.9293, Precision: 0.9206, Recall: 0.9351, AUC: 0.9817\n",
            "Val - Loss: 0.2126, Accuracy: 0.9290, Precision: 0.9016, Recall: 0.9582, AUC: 0.9759\n"
          ]
        },
        {
          "output_type": "stream",
          "name": "stderr",
          "text": [
            "Epoch 13/50, Train: 100%|██████████| 16/16 [00:27<00:00,  1.74s/it]\n",
            "Epoch 13/50, Validation: 100%|██████████| 4/4 [00:05<00:00,  1.49s/it]\n",
            "Evaluate Train: 100%|██████████| 16/16 [00:22<00:00,  1.43s/it]\n",
            "Evaluate Validation: 100%|██████████| 4/4 [00:05<00:00,  1.37s/it]\n"
          ]
        },
        {
          "output_type": "stream",
          "name": "stdout",
          "text": [
            "Epoch 13/50\n",
            "Train - Loss: 0.1500, Accuracy: 0.9441, Precision: 0.9628, Recall: 0.9204, AUC: 0.9899\n",
            "Val - Loss: 0.1810, Accuracy: 0.9290, Precision: 0.9474, Recall: 0.9038, AUC: 0.9820\n"
          ]
        },
        {
          "output_type": "stream",
          "name": "stderr",
          "text": [
            "Epoch 14/50, Train: 100%|██████████| 16/16 [00:26<00:00,  1.67s/it]\n",
            "Epoch 14/50, Validation: 100%|██████████| 4/4 [00:06<00:00,  1.60s/it]\n",
            "Evaluate Train: 100%|██████████| 16/16 [00:23<00:00,  1.45s/it]\n",
            "Evaluate Validation: 100%|██████████| 4/4 [00:05<00:00,  1.37s/it]\n"
          ]
        },
        {
          "output_type": "stream",
          "name": "stdout",
          "text": [
            "Epoch 14/50\n",
            "Train - Loss: 0.1435, Accuracy: 0.9420, Precision: 0.9469, Recall: 0.9330, AUC: 0.9860\n",
            "Val - Loss: 0.2095, Accuracy: 0.9249, Precision: 0.9316, Recall: 0.9121, AUC: 0.9768\n"
          ]
        },
        {
          "output_type": "stream",
          "name": "stderr",
          "text": [
            "Epoch 15/50, Train: 100%|██████████| 16/16 [00:26<00:00,  1.63s/it]\n",
            "Epoch 15/50, Validation: 100%|██████████| 4/4 [00:05<00:00,  1.35s/it]\n",
            "Evaluate Train: 100%|██████████| 16/16 [00:22<00:00,  1.39s/it]\n",
            "Evaluate Validation: 100%|██████████| 4/4 [00:07<00:00,  1.76s/it]\n"
          ]
        },
        {
          "output_type": "stream",
          "name": "stdout",
          "text": [
            "Epoch 15/50\n",
            "Train - Loss: 0.1444, Accuracy: 0.9359, Precision: 0.9663, Recall: 0.8995, AUC: 0.9891\n",
            "Val - Loss: 0.2182, Accuracy: 0.9249, Precision: 0.9633, Recall: 0.8787, AUC: 0.9816\n"
          ]
        },
        {
          "output_type": "stream",
          "name": "stderr",
          "text": [
            "Epoch 16/50, Train: 100%|██████████| 16/16 [00:26<00:00,  1.67s/it]\n",
            "Epoch 16/50, Validation: 100%|██████████| 4/4 [00:06<00:00,  1.70s/it]\n",
            "Evaluate Train: 100%|██████████| 16/16 [00:22<00:00,  1.40s/it]\n",
            "Evaluate Validation: 100%|██████████| 4/4 [00:05<00:00,  1.36s/it]\n"
          ]
        },
        {
          "output_type": "stream",
          "name": "stdout",
          "text": [
            "Epoch 16/50\n",
            "Train - Loss: 0.1542, Accuracy: 0.9288, Precision: 0.9857, Recall: 0.8660, AUC: 0.9894\n",
            "Val - Loss: 0.2331, Accuracy: 0.9128, Precision: 0.9667, Recall: 0.8494, AUC: 0.9836\n"
          ]
        },
        {
          "output_type": "stream",
          "name": "stderr",
          "text": [
            "Epoch 17/50, Train: 100%|██████████| 16/16 [00:25<00:00,  1.61s/it]\n",
            "Epoch 17/50, Validation: 100%|██████████| 4/4 [00:06<00:00,  1.60s/it]\n",
            "Evaluate Train: 100%|██████████| 16/16 [00:22<00:00,  1.40s/it]\n",
            "Evaluate Validation: 100%|██████████| 4/4 [00:05<00:00,  1.34s/it]\n"
          ]
        },
        {
          "output_type": "stream",
          "name": "stdout",
          "text": [
            "Epoch 17/50\n",
            "Train - Loss: 0.1271, Accuracy: 0.9192, Precision: 0.9761, Recall: 0.8545, AUC: 0.9864\n",
            "Val - Loss: 0.2439, Accuracy: 0.9108, Precision: 0.9756, Recall: 0.8368, AUC: 0.9816\n"
          ]
        },
        {
          "output_type": "stream",
          "name": "stderr",
          "text": [
            "Epoch 18/50, Train: 100%|██████████| 16/16 [00:26<00:00,  1.66s/it]\n",
            "Epoch 18/50, Validation: 100%|██████████| 4/4 [00:05<00:00,  1.30s/it]\n",
            "Evaluate Train: 100%|██████████| 16/16 [00:22<00:00,  1.43s/it]\n",
            "Evaluate Validation: 100%|██████████| 4/4 [00:05<00:00,  1.36s/it]\n"
          ]
        },
        {
          "output_type": "stream",
          "name": "stdout",
          "text": [
            "Epoch 18/50\n",
            "Train - Loss: 0.1263, Accuracy: 0.9431, Precision: 0.9689, Recall: 0.9120, AUC: 0.9894\n",
            "Val - Loss: 0.2228, Accuracy: 0.9331, Precision: 0.9682, Recall: 0.8912, AUC: 0.9815\n"
          ]
        },
        {
          "output_type": "stream",
          "name": "stderr",
          "text": [
            "Epoch 19/50, Train: 100%|██████████| 16/16 [00:26<00:00,  1.69s/it]\n",
            "Epoch 19/50, Validation: 100%|██████████| 4/4 [00:05<00:00,  1.32s/it]\n",
            "Evaluate Train: 100%|██████████| 16/16 [00:23<00:00,  1.48s/it]\n",
            "Evaluate Validation: 100%|██████████| 4/4 [00:06<00:00,  1.54s/it]\n"
          ]
        },
        {
          "output_type": "stream",
          "name": "stdout",
          "text": [
            "Epoch 19/50\n",
            "Train - Loss: 0.1371, Accuracy: 0.9512, Precision: 0.9584, Recall: 0.9403, AUC: 0.9915\n",
            "Val - Loss: 0.1526, Accuracy: 0.9351, Precision: 0.9331, Recall: 0.9331, AUC: 0.9767\n"
          ]
        },
        {
          "output_type": "stream",
          "name": "stderr",
          "text": [
            "Epoch 20/50, Train: 100%|██████████| 16/16 [00:25<00:00,  1.60s/it]\n",
            "Epoch 20/50, Validation: 100%|██████████| 4/4 [00:06<00:00,  1.58s/it]\n",
            "Evaluate Train: 100%|██████████| 16/16 [00:22<00:00,  1.41s/it]\n",
            "Evaluate Validation: 100%|██████████| 4/4 [00:05<00:00,  1.37s/it]\n"
          ]
        },
        {
          "output_type": "stream",
          "name": "stdout",
          "text": [
            "Epoch 20/50\n",
            "Train - Loss: 0.1214, Accuracy: 0.9532, Precision: 0.9595, Recall: 0.9435, AUC: 0.9929\n",
            "Val - Loss: 0.1521, Accuracy: 0.9412, Precision: 0.9412, Recall: 0.9372, AUC: 0.9860\n"
          ]
        },
        {
          "output_type": "stream",
          "name": "stderr",
          "text": [
            "Epoch 21/50, Train: 100%|██████████| 16/16 [00:26<00:00,  1.65s/it]\n",
            "Epoch 21/50, Validation: 100%|██████████| 4/4 [00:05<00:00,  1.46s/it]\n",
            "Evaluate Train: 100%|██████████| 16/16 [00:23<00:00,  1.48s/it]\n",
            "Evaluate Validation: 100%|██████████| 4/4 [00:06<00:00,  1.73s/it]\n"
          ]
        },
        {
          "output_type": "stream",
          "name": "stdout",
          "text": [
            "Epoch 21/50\n",
            "Train - Loss: 0.1196, Accuracy: 0.8882, Precision: 0.9907, Recall: 0.7770, AUC: 0.9910\n",
            "Val - Loss: 0.3469, Accuracy: 0.8742, Precision: 0.9944, Recall: 0.7448, AUC: 0.9839\n"
          ]
        },
        {
          "output_type": "stream",
          "name": "stderr",
          "text": [
            "Epoch 22/50, Train: 100%|██████████| 16/16 [00:25<00:00,  1.60s/it]\n",
            "Epoch 22/50, Validation: 100%|██████████| 4/4 [00:06<00:00,  1.71s/it]\n",
            "Evaluate Train: 100%|██████████| 16/16 [00:23<00:00,  1.48s/it]\n",
            "Evaluate Validation: 100%|██████████| 4/4 [00:05<00:00,  1.47s/it]\n"
          ]
        },
        {
          "output_type": "stream",
          "name": "stdout",
          "text": [
            "Epoch 22/50\n",
            "Train - Loss: 0.1292, Accuracy: 0.9573, Precision: 0.9467, Recall: 0.9665, AUC: 0.9926\n",
            "Val - Loss: 0.1812, Accuracy: 0.9412, Precision: 0.9134, Recall: 0.9707, AUC: 0.9836\n"
          ]
        },
        {
          "output_type": "stream",
          "name": "stderr",
          "text": [
            "Epoch 23/50, Train: 100%|██████████| 16/16 [00:26<00:00,  1.63s/it]\n",
            "Epoch 23/50, Validation: 100%|██████████| 4/4 [00:05<00:00,  1.50s/it]\n",
            "Evaluate Train: 100%|██████████| 16/16 [00:22<00:00,  1.41s/it]\n",
            "Evaluate Validation: 100%|██████████| 4/4 [00:05<00:00,  1.34s/it]\n"
          ]
        },
        {
          "output_type": "stream",
          "name": "stdout",
          "text": [
            "Epoch 23/50\n",
            "Train - Loss: 0.1226, Accuracy: 0.9583, Precision: 0.9378, Recall: 0.9791, AUC: 0.9934\n",
            "Val - Loss: 0.1742, Accuracy: 0.9290, Precision: 0.8923, Recall: 0.9707, AUC: 0.9843\n"
          ]
        },
        {
          "output_type": "stream",
          "name": "stderr",
          "text": [
            "Epoch 24/50, Train: 100%|██████████| 16/16 [00:27<00:00,  1.70s/it]\n",
            "Epoch 24/50, Validation: 100%|██████████| 4/4 [00:05<00:00,  1.49s/it]\n",
            "Evaluate Train: 100%|██████████| 16/16 [00:22<00:00,  1.43s/it]\n",
            "Evaluate Validation: 100%|██████████| 4/4 [00:05<00:00,  1.37s/it]\n"
          ]
        },
        {
          "output_type": "stream",
          "name": "stdout",
          "text": [
            "Epoch 24/50\n",
            "Train - Loss: 0.1214, Accuracy: 0.9588, Precision: 0.9709, Recall: 0.9435, AUC: 0.9945\n",
            "Val - Loss: 0.1639, Accuracy: 0.9473, Precision: 0.9532, Recall: 0.9372, AUC: 0.9863\n"
          ]
        },
        {
          "output_type": "stream",
          "name": "stderr",
          "text": [
            "Epoch 25/50, Train: 100%|██████████| 16/16 [00:25<00:00,  1.61s/it]\n",
            "Epoch 25/50, Validation: 100%|██████████| 4/4 [00:06<00:00,  1.50s/it]\n",
            "Evaluate Train: 100%|██████████| 16/16 [00:22<00:00,  1.40s/it]\n",
            "Evaluate Validation: 100%|██████████| 4/4 [00:05<00:00,  1.39s/it]\n"
          ]
        },
        {
          "output_type": "stream",
          "name": "stdout",
          "text": [
            "Epoch 25/50\n",
            "Train - Loss: 0.1204, Accuracy: 0.9568, Precision: 0.9569, Recall: 0.9539, AUC: 0.9906\n",
            "Val - Loss: 0.1643, Accuracy: 0.9452, Precision: 0.9492, Recall: 0.9372, AUC: 0.9799\n"
          ]
        },
        {
          "output_type": "stream",
          "name": "stderr",
          "text": [
            "Epoch 26/50, Train: 100%|██████████| 16/16 [00:25<00:00,  1.62s/it]\n",
            "Epoch 26/50, Validation: 100%|██████████| 4/4 [00:06<00:00,  1.50s/it]\n",
            "Evaluate Train: 100%|██████████| 16/16 [00:24<00:00,  1.56s/it]\n",
            "Evaluate Validation: 100%|██████████| 4/4 [00:05<00:00,  1.49s/it]\n"
          ]
        },
        {
          "output_type": "stream",
          "name": "stdout",
          "text": [
            "Epoch 26/50\n",
            "Train - Loss: 0.1308, Accuracy: 0.9476, Precision: 0.9610, Recall: 0.9298, AUC: 0.9914\n",
            "Val - Loss: 0.1777, Accuracy: 0.9290, Precision: 0.9397, Recall: 0.9121, AUC: 0.9855\n"
          ]
        },
        {
          "output_type": "stream",
          "name": "stderr",
          "text": [
            "Epoch 27/50, Train: 100%|██████████| 16/16 [00:25<00:00,  1.57s/it]\n",
            "Epoch 27/50, Validation: 100%|██████████| 4/4 [00:06<00:00,  1.60s/it]\n",
            "Evaluate Train: 100%|██████████| 16/16 [00:22<00:00,  1.43s/it]\n",
            "Evaluate Validation: 100%|██████████| 4/4 [00:05<00:00,  1.38s/it]\n"
          ]
        },
        {
          "output_type": "stream",
          "name": "stdout",
          "text": [
            "Epoch 27/50\n",
            "Train - Loss: 0.1162, Accuracy: 0.9649, Precision: 0.9723, Recall: 0.9550, AUC: 0.9947\n",
            "Val - Loss: 0.1607, Accuracy: 0.9513, Precision: 0.9614, Recall: 0.9372, AUC: 0.9854\n"
          ]
        },
        {
          "output_type": "stream",
          "name": "stderr",
          "text": [
            "Epoch 28/50, Train: 100%|██████████| 16/16 [00:26<00:00,  1.64s/it]\n",
            "Epoch 28/50, Validation: 100%|██████████| 4/4 [00:05<00:00,  1.49s/it]\n",
            "Evaluate Train: 100%|██████████| 16/16 [00:22<00:00,  1.40s/it]\n",
            "Evaluate Validation: 100%|██████████| 4/4 [00:05<00:00,  1.36s/it]\n"
          ]
        },
        {
          "output_type": "stream",
          "name": "stdout",
          "text": [
            "Epoch 28/50\n",
            "Train - Loss: 0.1160, Accuracy: 0.9426, Precision: 0.9930, Recall: 0.8880, AUC: 0.9942\n",
            "Val - Loss: 0.1866, Accuracy: 0.9229, Precision: 0.9763, Recall: 0.8619, AUC: 0.9885\n"
          ]
        },
        {
          "output_type": "stream",
          "name": "stderr",
          "text": [
            "Epoch 29/50, Train: 100%|██████████| 16/16 [00:27<00:00,  1.73s/it]\n",
            "Epoch 29/50, Validation: 100%|██████████| 4/4 [00:05<00:00,  1.35s/it]\n",
            "Evaluate Train: 100%|██████████| 16/16 [00:23<00:00,  1.44s/it]\n",
            "Evaluate Validation: 100%|██████████| 4/4 [00:06<00:00,  1.71s/it]\n"
          ]
        },
        {
          "output_type": "stream",
          "name": "stdout",
          "text": [
            "Epoch 29/50\n",
            "Train - Loss: 0.1059, Accuracy: 0.9522, Precision: 0.9267, Recall: 0.9791, AUC: 0.9934\n",
            "Val - Loss: 0.1828, Accuracy: 0.9412, Precision: 0.9134, Recall: 0.9707, AUC: 0.9826\n"
          ]
        },
        {
          "output_type": "stream",
          "name": "stderr",
          "text": [
            "Epoch 30/50, Train: 100%|██████████| 16/16 [00:27<00:00,  1.70s/it]\n",
            "Epoch 30/50, Validation: 100%|██████████| 4/4 [00:07<00:00,  1.79s/it]\n",
            "Evaluate Train: 100%|██████████| 16/16 [00:23<00:00,  1.46s/it]\n",
            "Evaluate Validation: 100%|██████████| 4/4 [00:06<00:00,  1.68s/it]\n"
          ]
        },
        {
          "output_type": "stream",
          "name": "stdout",
          "text": [
            "Epoch 30/50\n",
            "Train - Loss: 0.1066, Accuracy: 0.9614, Precision: 0.9814, Recall: 0.9382, AUC: 0.9956\n",
            "Val - Loss: 0.1544, Accuracy: 0.9432, Precision: 0.9648, Recall: 0.9163, AUC: 0.9849\n"
          ]
        },
        {
          "output_type": "stream",
          "name": "stderr",
          "text": [
            "Epoch 31/50, Train: 100%|██████████| 16/16 [00:27<00:00,  1.73s/it]\n",
            "Epoch 31/50, Validation: 100%|██████████| 4/4 [00:05<00:00,  1.31s/it]\n",
            "Evaluate Train: 100%|██████████| 16/16 [00:22<00:00,  1.42s/it]\n",
            "Evaluate Validation: 100%|██████████| 4/4 [00:05<00:00,  1.49s/it]\n"
          ]
        },
        {
          "output_type": "stream",
          "name": "stdout",
          "text": [
            "Epoch 31/50\n",
            "Train - Loss: 0.0924, Accuracy: 0.9583, Precision: 0.9678, Recall: 0.9455, AUC: 0.9937\n",
            "Val - Loss: 0.2084, Accuracy: 0.9371, Precision: 0.9561, Recall: 0.9121, AUC: 0.9844\n"
          ]
        },
        {
          "output_type": "stream",
          "name": "stderr",
          "text": [
            "Epoch 32/50, Train: 100%|██████████| 16/16 [00:27<00:00,  1.74s/it]\n",
            "Epoch 32/50, Validation: 100%|██████████| 4/4 [00:05<00:00,  1.43s/it]\n",
            "Evaluate Train: 100%|██████████| 16/16 [00:22<00:00,  1.39s/it]\n",
            "Evaluate Validation: 100%|██████████| 4/4 [00:06<00:00,  1.61s/it]\n"
          ]
        },
        {
          "output_type": "stream",
          "name": "stdout",
          "text": [
            "Epoch 32/50\n",
            "Train - Loss: 0.1030, Accuracy: 0.9237, Precision: 0.9891, Recall: 0.8524, AUC: 0.9924\n",
            "Val - Loss: 0.2862, Accuracy: 0.9067, Precision: 0.9801, Recall: 0.8243, AUC: 0.9808\n"
          ]
        },
        {
          "output_type": "stream",
          "name": "stderr",
          "text": [
            "Epoch 33/50, Train: 100%|██████████| 16/16 [00:26<00:00,  1.63s/it]\n",
            "Epoch 33/50, Validation: 100%|██████████| 4/4 [00:06<00:00,  1.71s/it]\n",
            "Evaluate Train: 100%|██████████| 16/16 [00:22<00:00,  1.40s/it]\n",
            "Evaluate Validation: 100%|██████████| 4/4 [00:05<00:00,  1.37s/it]\n"
          ]
        },
        {
          "output_type": "stream",
          "name": "stdout",
          "text": [
            "Epoch 33/50\n",
            "Train - Loss: 0.0969, Accuracy: 0.9588, Precision: 0.9335, Recall: 0.9853, AUC: 0.9967\n",
            "Val - Loss: 0.1657, Accuracy: 0.9412, Precision: 0.9102, Recall: 0.9749, AUC: 0.9858\n"
          ]
        },
        {
          "output_type": "stream",
          "name": "stderr",
          "text": [
            "Epoch 34/50, Train: 100%|██████████| 16/16 [00:26<00:00,  1.63s/it]\n",
            "Epoch 34/50, Validation: 100%|██████████| 4/4 [00:06<00:00,  1.51s/it]\n",
            "Evaluate Train: 100%|██████████| 16/16 [00:23<00:00,  1.48s/it]\n",
            "Evaluate Validation: 100%|██████████| 4/4 [00:05<00:00,  1.35s/it]\n"
          ]
        },
        {
          "output_type": "stream",
          "name": "stdout",
          "text": [
            "Epoch 34/50\n",
            "Train - Loss: 0.0840, Accuracy: 0.9725, Precision: 0.9798, Recall: 0.9634, AUC: 0.9972\n",
            "Val - Loss: 0.1272, Accuracy: 0.9473, Precision: 0.9571, Recall: 0.9331, AUC: 0.9830\n"
          ]
        },
        {
          "output_type": "stream",
          "name": "stderr",
          "text": [
            "Epoch 35/50, Train: 100%|██████████| 16/16 [00:27<00:00,  1.74s/it]\n",
            "Epoch 35/50, Validation: 100%|██████████| 4/4 [00:05<00:00,  1.29s/it]\n",
            "Evaluate Train: 100%|██████████| 16/16 [00:22<00:00,  1.40s/it]\n",
            "Evaluate Validation: 100%|██████████| 4/4 [00:05<00:00,  1.37s/it]\n"
          ]
        },
        {
          "output_type": "stream",
          "name": "stdout",
          "text": [
            "Epoch 35/50\n",
            "Train - Loss: 0.0956, Accuracy: 0.9629, Precision: 0.9652, Recall: 0.9581, AUC: 0.9943\n",
            "Val - Loss: 0.1787, Accuracy: 0.9452, Precision: 0.9454, Recall: 0.9414, AUC: 0.9799\n"
          ]
        },
        {
          "output_type": "stream",
          "name": "stderr",
          "text": [
            "Epoch 36/50, Train: 100%|██████████| 16/16 [00:27<00:00,  1.69s/it]\n",
            "Epoch 36/50, Validation: 100%|██████████| 4/4 [00:05<00:00,  1.50s/it]\n",
            "Evaluate Train: 100%|██████████| 16/16 [00:22<00:00,  1.43s/it]\n",
            "Evaluate Validation: 100%|██████████| 4/4 [00:05<00:00,  1.37s/it]\n"
          ]
        },
        {
          "output_type": "stream",
          "name": "stdout",
          "text": [
            "Epoch 36/50\n",
            "Train - Loss: 0.0878, Accuracy: 0.9675, Precision: 0.9816, Recall: 0.9508, AUC: 0.9968\n",
            "Val - Loss: 0.1455, Accuracy: 0.9432, Precision: 0.9567, Recall: 0.9247, AUC: 0.9837\n"
          ]
        },
        {
          "output_type": "stream",
          "name": "stderr",
          "text": [
            "Epoch 37/50, Train: 100%|██████████| 16/16 [00:27<00:00,  1.74s/it]\n",
            "Epoch 37/50, Validation: 100%|██████████| 4/4 [00:05<00:00,  1.32s/it]\n",
            "Evaluate Train: 100%|██████████| 16/16 [00:23<00:00,  1.44s/it]\n",
            "Evaluate Validation: 100%|██████████| 4/4 [00:06<00:00,  1.70s/it]\n"
          ]
        },
        {
          "output_type": "stream",
          "name": "stdout",
          "text": [
            "Epoch 37/50\n",
            "Train - Loss: 0.0835, Accuracy: 0.9705, Precision: 0.9600, Recall: 0.9801, AUC: 0.9970\n",
            "Val - Loss: 0.1387, Accuracy: 0.9594, Precision: 0.9433, Recall: 0.9749, AUC: 0.9871\n"
          ]
        },
        {
          "output_type": "stream",
          "name": "stderr",
          "text": [
            "Epoch 38/50, Train: 100%|██████████| 16/16 [00:25<00:00,  1.61s/it]\n",
            "Epoch 38/50, Validation: 100%|██████████| 4/4 [00:05<00:00,  1.50s/it]\n",
            "Evaluate Train: 100%|██████████| 16/16 [00:22<00:00,  1.43s/it]\n",
            "Evaluate Validation: 100%|██████████| 4/4 [00:05<00:00,  1.32s/it]\n"
          ]
        },
        {
          "output_type": "stream",
          "name": "stdout",
          "text": [
            "Epoch 38/50\n",
            "Train - Loss: 0.0853, Accuracy: 0.9670, Precision: 0.9795, Recall: 0.9518, AUC: 0.9971\n",
            "Val - Loss: 0.1661, Accuracy: 0.9473, Precision: 0.9692, Recall: 0.9205, AUC: 0.9900\n"
          ]
        },
        {
          "output_type": "stream",
          "name": "stderr",
          "text": [
            "Epoch 39/50, Train: 100%|██████████| 16/16 [00:25<00:00,  1.61s/it]\n",
            "Epoch 39/50, Validation: 100%|██████████| 4/4 [00:06<00:00,  1.50s/it]\n",
            "Evaluate Train: 100%|██████████| 16/16 [00:23<00:00,  1.48s/it]\n",
            "Evaluate Validation: 100%|██████████| 4/4 [00:05<00:00,  1.38s/it]\n"
          ]
        },
        {
          "output_type": "stream",
          "name": "stdout",
          "text": [
            "Epoch 39/50\n",
            "Train - Loss: 0.0771, Accuracy: 0.9476, Precision: 0.9260, Recall: 0.9696, AUC: 0.9927\n",
            "Val - Loss: 0.2087, Accuracy: 0.9310, Precision: 0.9084, Recall: 0.9540, AUC: 0.9821\n"
          ]
        },
        {
          "output_type": "stream",
          "name": "stderr",
          "text": [
            "Epoch 40/50, Train: 100%|██████████| 16/16 [00:24<00:00,  1.54s/it]\n",
            "Epoch 40/50, Validation: 100%|██████████| 4/4 [00:05<00:00,  1.36s/it]\n",
            "Evaluate Train: 100%|██████████| 16/16 [00:22<00:00,  1.40s/it]\n",
            "Evaluate Validation: 100%|██████████| 4/4 [00:05<00:00,  1.38s/it]\n"
          ]
        },
        {
          "output_type": "stream",
          "name": "stdout",
          "text": [
            "Epoch 40/50\n",
            "Train - Loss: 0.0749, Accuracy: 0.9710, Precision: 0.9838, Recall: 0.9560, AUC: 0.9961\n",
            "Val - Loss: 0.1868, Accuracy: 0.9513, Precision: 0.9654, Recall: 0.9331, AUC: 0.9852\n"
          ]
        },
        {
          "output_type": "stream",
          "name": "stderr",
          "text": [
            "Epoch 41/50, Train: 100%|██████████| 16/16 [00:24<00:00,  1.56s/it]\n",
            "Epoch 41/50, Validation: 100%|██████████| 4/4 [00:06<00:00,  1.50s/it]\n",
            "Evaluate Train: 100%|██████████| 16/16 [00:22<00:00,  1.43s/it]\n",
            "Evaluate Validation: 100%|██████████| 4/4 [00:05<00:00,  1.37s/it]\n"
          ]
        },
        {
          "output_type": "stream",
          "name": "stdout",
          "text": [
            "Epoch 41/50\n",
            "Train - Loss: 0.0825, Accuracy: 0.9781, Precision: 0.9730, Recall: 0.9822, AUC: 0.9983\n",
            "Val - Loss: 0.1483, Accuracy: 0.9452, Precision: 0.9309, Recall: 0.9582, AUC: 0.9847\n"
          ]
        },
        {
          "output_type": "stream",
          "name": "stderr",
          "text": [
            "Epoch 42/50, Train: 100%|██████████| 16/16 [00:25<00:00,  1.59s/it]\n",
            "Epoch 42/50, Validation: 100%|██████████| 4/4 [00:05<00:00,  1.35s/it]\n",
            "Evaluate Train: 100%|██████████| 16/16 [00:22<00:00,  1.43s/it]\n",
            "Evaluate Validation: 100%|██████████| 4/4 [00:05<00:00,  1.35s/it]\n"
          ]
        },
        {
          "output_type": "stream",
          "name": "stdout",
          "text": [
            "Epoch 42/50\n",
            "Train - Loss: 0.0749, Accuracy: 0.9695, Precision: 0.9827, Recall: 0.9539, AUC: 0.9963\n",
            "Val - Loss: 0.1737, Accuracy: 0.9391, Precision: 0.9524, Recall: 0.9205, AUC: 0.9831\n"
          ]
        },
        {
          "output_type": "stream",
          "name": "stderr",
          "text": [
            "Epoch 43/50, Train: 100%|██████████| 16/16 [00:24<00:00,  1.56s/it]\n",
            "Epoch 43/50, Validation: 100%|██████████| 4/4 [00:06<00:00,  1.72s/it]\n",
            "Evaluate Train: 100%|██████████| 16/16 [00:22<00:00,  1.43s/it]\n",
            "Evaluate Validation: 100%|██████████| 4/4 [00:05<00:00,  1.37s/it]\n"
          ]
        },
        {
          "output_type": "stream",
          "name": "stdout",
          "text": [
            "Epoch 43/50\n",
            "Train - Loss: 0.0827, Accuracy: 0.9680, Precision: 0.9705, Recall: 0.9634, AUC: 0.9964\n",
            "Val - Loss: 0.1613, Accuracy: 0.9513, Precision: 0.9574, Recall: 0.9414, AUC: 0.9837\n"
          ]
        },
        {
          "output_type": "stream",
          "name": "stderr",
          "text": [
            "Epoch 44/50, Train: 100%|██████████| 16/16 [00:24<00:00,  1.56s/it]\n",
            "Epoch 44/50, Validation: 100%|██████████| 4/4 [00:05<00:00,  1.31s/it]\n",
            "Evaluate Train: 100%|██████████| 16/16 [00:23<00:00,  1.47s/it]\n",
            "Evaluate Validation: 100%|██████████| 4/4 [00:05<00:00,  1.48s/it]\n"
          ]
        },
        {
          "output_type": "stream",
          "name": "stdout",
          "text": [
            "Epoch 44/50\n",
            "Train - Loss: 0.0926, Accuracy: 0.9548, Precision: 0.9220, Recall: 0.9906, AUC: 0.9966\n",
            "Val - Loss: 0.2088, Accuracy: 0.9290, Precision: 0.8893, Recall: 0.9749, AUC: 0.9808\n"
          ]
        },
        {
          "output_type": "stream",
          "name": "stderr",
          "text": [
            "Epoch 45/50, Train: 100%|██████████| 16/16 [00:26<00:00,  1.63s/it]\n",
            "Epoch 45/50, Validation: 100%|██████████| 4/4 [00:06<00:00,  1.51s/it]\n",
            "Evaluate Train: 100%|██████████| 16/16 [00:22<00:00,  1.44s/it]\n",
            "Evaluate Validation: 100%|██████████| 4/4 [00:05<00:00,  1.30s/it]\n"
          ]
        },
        {
          "output_type": "stream",
          "name": "stdout",
          "text": [
            "Epoch 45/50\n",
            "Train - Loss: 0.0765, Accuracy: 0.9710, Precision: 0.9923, Recall: 0.9476, AUC: 0.9972\n",
            "Val - Loss: 0.1565, Accuracy: 0.9432, Precision: 0.9567, Recall: 0.9247, AUC: 0.9882\n"
          ]
        },
        {
          "output_type": "stream",
          "name": "stderr",
          "text": [
            "Epoch 46/50, Train: 100%|██████████| 16/16 [00:24<00:00,  1.50s/it]\n",
            "Epoch 46/50, Validation: 100%|██████████| 4/4 [00:06<00:00,  1.52s/it]\n",
            "Evaluate Train: 100%|██████████| 16/16 [00:23<00:00,  1.48s/it]\n",
            "Evaluate Validation: 100%|██████████| 4/4 [00:05<00:00,  1.48s/it]\n"
          ]
        },
        {
          "output_type": "stream",
          "name": "stdout",
          "text": [
            "Epoch 46/50\n",
            "Train - Loss: 0.0696, Accuracy: 0.9659, Precision: 0.9816, Recall: 0.9476, AUC: 0.9972\n",
            "Val - Loss: 0.1554, Accuracy: 0.9513, Precision: 0.9736, Recall: 0.9247, AUC: 0.9867\n"
          ]
        },
        {
          "output_type": "stream",
          "name": "stderr",
          "text": [
            "Epoch 47/50, Train: 100%|██████████| 16/16 [00:25<00:00,  1.58s/it]\n",
            "Epoch 47/50, Validation: 100%|██████████| 4/4 [00:06<00:00,  1.72s/it]\n",
            "Evaluate Train: 100%|██████████| 16/16 [00:23<00:00,  1.48s/it]\n",
            "Evaluate Validation: 100%|██████████| 4/4 [00:05<00:00,  1.36s/it]\n"
          ]
        },
        {
          "output_type": "stream",
          "name": "stdout",
          "text": [
            "Epoch 47/50\n",
            "Train - Loss: 0.0617, Accuracy: 0.9771, Precision: 0.9652, Recall: 0.9885, AUC: 0.9983\n",
            "Val - Loss: 0.1798, Accuracy: 0.9473, Precision: 0.9209, Recall: 0.9749, AUC: 0.9871\n"
          ]
        },
        {
          "output_type": "stream",
          "name": "stderr",
          "text": [
            "Epoch 48/50, Train: 100%|██████████| 16/16 [00:25<00:00,  1.59s/it]\n",
            "Epoch 48/50, Validation: 100%|██████████| 4/4 [00:05<00:00,  1.36s/it]\n",
            "Evaluate Train: 100%|██████████| 16/16 [00:23<00:00,  1.46s/it]\n",
            "Evaluate Validation: 100%|██████████| 4/4 [00:05<00:00,  1.45s/it]\n"
          ]
        },
        {
          "output_type": "stream",
          "name": "stdout",
          "text": [
            "Epoch 48/50\n",
            "Train - Loss: 0.0573, Accuracy: 0.9720, Precision: 0.9717, Recall: 0.9707, AUC: 0.9966\n",
            "Val - Loss: 0.1784, Accuracy: 0.9554, Precision: 0.9540, Recall: 0.9540, AUC: 0.9816\n"
          ]
        },
        {
          "output_type": "stream",
          "name": "stderr",
          "text": [
            "Epoch 49/50, Train: 100%|██████████| 16/16 [00:24<00:00,  1.56s/it]\n",
            "Epoch 49/50, Validation: 100%|██████████| 4/4 [00:06<00:00,  1.56s/it]\n",
            "Evaluate Train: 100%|██████████| 16/16 [00:21<00:00,  1.32s/it]\n",
            "Evaluate Validation: 100%|██████████| 4/4 [00:06<00:00,  1.70s/it]\n"
          ]
        },
        {
          "output_type": "stream",
          "name": "stdout",
          "text": [
            "Epoch 49/50\n",
            "Train - Loss: 0.0804, Accuracy: 0.9700, Precision: 0.9848, Recall: 0.9529, AUC: 0.9970\n",
            "Val - Loss: 0.1968, Accuracy: 0.9452, Precision: 0.9690, Recall: 0.9163, AUC: 0.9877\n"
          ]
        },
        {
          "output_type": "stream",
          "name": "stderr",
          "text": [
            "Epoch 50/50, Train: 100%|██████████| 16/16 [00:26<00:00,  1.69s/it]\n",
            "Epoch 50/50, Validation: 100%|██████████| 4/4 [00:06<00:00,  1.72s/it]\n",
            "Evaluate Train: 100%|██████████| 16/16 [00:22<00:00,  1.43s/it]\n",
            "Evaluate Validation: 100%|██████████| 4/4 [00:06<00:00,  1.56s/it]\n"
          ]
        },
        {
          "output_type": "stream",
          "name": "stdout",
          "text": [
            "Epoch 50/50\n",
            "Train - Loss: 0.0686, Accuracy: 0.9766, Precision: 0.9681, Recall: 0.9843, AUC: 0.9976\n",
            "Val - Loss: 0.1840, Accuracy: 0.9452, Precision: 0.9344, Recall: 0.9540, AUC: 0.9853\n"
          ]
        },
        {
          "output_type": "stream",
          "name": "stderr",
          "text": [
            "Evaluate Test: 100%|██████████| 5/5 [00:01<00:00,  2.94it/s]\n"
          ]
        },
        {
          "output_type": "stream",
          "name": "stdout",
          "text": [
            "\n",
            "Accuracy: 0.9481, Precision: 0.9751, Recall: 0.9164, AUC: 0.9870\n",
            "Results saved to results/finetune/ucsd/vig_s_224_gelu/classification_results.txt\n"
          ]
        },
        {
          "output_type": "stream",
          "name": "stderr",
          "text": [
            "WARNING:matplotlib.image:Clipping input data to the valid range for imshow with RGB data ([0..1] for floats or [0..255] for integers).\n",
            "WARNING:matplotlib.image:Clipping input data to the valid range for imshow with RGB data ([0..1] for floats or [0..255] for integers).\n",
            "WARNING:matplotlib.image:Clipping input data to the valid range for imshow with RGB data ([0..1] for floats or [0..255] for integers).\n",
            "WARNING:matplotlib.image:Clipping input data to the valid range for imshow with RGB data ([0..1] for floats or [0..255] for integers).\n",
            "WARNING:matplotlib.image:Clipping input data to the valid range for imshow with RGB data ([0..1] for floats or [0..255] for integers).\n",
            "WARNING:matplotlib.image:Clipping input data to the valid range for imshow with RGB data ([0..1] for floats or [0..255] for integers).\n"
          ]
        },
        {
          "output_type": "stream",
          "name": "stdout",
          "text": [
            "Results saved to results/visualization/zero_shot/ori/vig_s_224_gelu/images/cxr_images.png\n"
          ]
        },
        {
          "output_type": "stream",
          "name": "stderr",
          "text": [
            "Evaluate Train: 100%|██████████| 5/5 [00:01<00:00,  3.00it/s]\n",
            "Evaluate Validation: 100%|██████████| 2/2 [00:00<00:00,  8.54it/s]\n",
            "Evaluate Test: 100%|██████████| 2/2 [00:00<00:00,  7.78it/s]\n"
          ]
        },
        {
          "output_type": "stream",
          "name": "stdout",
          "text": [
            "Results saved to results/zero_shot/ori/vig_s_224_gelu/classification_results.txt\n"
          ]
        },
        {
          "output_type": "stream",
          "name": "stderr",
          "text": [
            "WARNING:matplotlib.image:Clipping input data to the valid range for imshow with RGB data ([0..1] for floats or [0..255] for integers).\n",
            "WARNING:matplotlib.image:Clipping input data to the valid range for imshow with RGB data ([0..1] for floats or [0..255] for integers).\n",
            "WARNING:matplotlib.image:Clipping input data to the valid range for imshow with RGB data ([0..1] for floats or [0..255] for integers).\n",
            "WARNING:matplotlib.image:Clipping input data to the valid range for imshow with RGB data ([0..1] for floats or [0..255] for integers).\n",
            "WARNING:matplotlib.image:Clipping input data to the valid range for imshow with RGB data ([0..1] for floats or [0..255] for integers).\n",
            "WARNING:matplotlib.image:Clipping input data to the valid range for imshow with RGB data ([0..1] for floats or [0..255] for integers).\n"
          ]
        },
        {
          "output_type": "stream",
          "name": "stdout",
          "text": [
            "Results saved to results/visualization/finetune/ori/vig_s_224_gelu/images/cxr_images.png\n"
          ]
        },
        {
          "output_type": "stream",
          "name": "stderr",
          "text": [
            "/usr/local/lib/python3.10/dist-packages/torchvision/models/inception.py:43: FutureWarning: The default weight initialization of inception_v3 will be changed in future releases of torchvision. If you wish to keep the old behavior (which leads to long initialization times due to scipy/scipy#11299), please set init_weights=True.\n",
            "  warnings.warn(\n"
          ]
        },
        {
          "output_type": "stream",
          "name": "stdout",
          "text": [
            "NVIDIA library configured successfully.\n",
            "Model vig_s_224_gelu loaded with mean and std normalization.\n",
            "Mean: [0.4856 0.4856 0.4856], Std: [0.2463 0.2463 0.2463]\n"
          ]
        },
        {
          "output_type": "stream",
          "name": "stderr",
          "text": [
            "Epoch 1/50, Train: 100%|██████████| 5/5 [02:02<00:00, 24.58s/it]\n",
            "Epoch 1/50, Validation: 100%|██████████| 2/2 [01:18<00:00, 39.47s/it]\n",
            "Evaluate Train: 100%|██████████| 5/5 [00:51<00:00, 10.25s/it]\n",
            "/usr/local/lib/python3.10/dist-packages/sklearn/metrics/_classification.py:1344: UndefinedMetricWarning: Precision is ill-defined and being set to 0.0 due to no predicted samples. Use `zero_division` parameter to control this behavior.\n",
            "  _warn_prf(average, modifier, msg_start, len(result))\n",
            "/usr/local/lib/python3.10/dist-packages/sklearn/metrics/_classification.py:1344: UndefinedMetricWarning: Precision and F-score are ill-defined and being set to 0.0 in labels with no predicted samples. Use `zero_division` parameter to control this behavior.\n",
            "  _warn_prf(average, modifier, msg_start, len(result))\n",
            "/usr/local/lib/python3.10/dist-packages/sklearn/metrics/_classification.py:1344: UndefinedMetricWarning: Precision and F-score are ill-defined and being set to 0.0 in labels with no predicted samples. Use `zero_division` parameter to control this behavior.\n",
            "  _warn_prf(average, modifier, msg_start, len(result))\n",
            "/usr/local/lib/python3.10/dist-packages/sklearn/metrics/_classification.py:1344: UndefinedMetricWarning: Precision and F-score are ill-defined and being set to 0.0 in labels with no predicted samples. Use `zero_division` parameter to control this behavior.\n",
            "  _warn_prf(average, modifier, msg_start, len(result))\n",
            "Evaluate Validation: 100%|██████████| 2/2 [00:01<00:00,  1.43it/s]\n",
            "/usr/local/lib/python3.10/dist-packages/sklearn/metrics/_classification.py:1344: UndefinedMetricWarning: Precision is ill-defined and being set to 0.0 due to no predicted samples. Use `zero_division` parameter to control this behavior.\n",
            "  _warn_prf(average, modifier, msg_start, len(result))\n",
            "/usr/local/lib/python3.10/dist-packages/sklearn/metrics/_classification.py:1344: UndefinedMetricWarning: Precision and F-score are ill-defined and being set to 0.0 in labels with no predicted samples. Use `zero_division` parameter to control this behavior.\n",
            "  _warn_prf(average, modifier, msg_start, len(result))\n",
            "/usr/local/lib/python3.10/dist-packages/sklearn/metrics/_classification.py:1344: UndefinedMetricWarning: Precision and F-score are ill-defined and being set to 0.0 in labels with no predicted samples. Use `zero_division` parameter to control this behavior.\n",
            "  _warn_prf(average, modifier, msg_start, len(result))\n",
            "/usr/local/lib/python3.10/dist-packages/sklearn/metrics/_classification.py:1344: UndefinedMetricWarning: Precision and F-score are ill-defined and being set to 0.0 in labels with no predicted samples. Use `zero_division` parameter to control this behavior.\n",
            "  _warn_prf(average, modifier, msg_start, len(result))\n"
          ]
        },
        {
          "output_type": "stream",
          "name": "stdout",
          "text": [
            "Epoch 1/50\n",
            "Train - Loss: 0.7342, Accuracy: 0.5095, Precision: 0.0000, Recall: 0.0000, AUC: 0.7930\n",
            "Val - Loss: 9.7544, Accuracy: 0.5076, Precision: 0.0000, Recall: 0.0000, AUC: 0.7956\n"
          ]
        },
        {
          "output_type": "stream",
          "name": "stderr",
          "text": [
            "Epoch 2/50, Train: 100%|██████████| 5/5 [00:06<00:00,  1.32s/it]\n",
            "Epoch 2/50, Validation: 100%|██████████| 2/2 [00:01<00:00,  1.43it/s]\n",
            "Evaluate Train: 100%|██████████| 5/5 [00:07<00:00,  1.47s/it]\n",
            "Evaluate Validation: 100%|██████████| 2/2 [00:01<00:00,  1.43it/s]\n"
          ]
        },
        {
          "output_type": "stream",
          "name": "stdout",
          "text": [
            "Epoch 2/50\n",
            "Train - Loss: 0.5952, Accuracy: 0.7586, Precision: 0.8227, Recall: 0.6473, AUC: 0.8040\n",
            "Val - Loss: 0.6361, Accuracy: 0.7803, Precision: 0.8462, Recall: 0.6769, AUC: 0.8200\n"
          ]
        },
        {
          "output_type": "stream",
          "name": "stderr",
          "text": [
            "Epoch 3/50, Train: 100%|██████████| 5/5 [00:06<00:00,  1.35s/it]\n",
            "Epoch 3/50, Validation: 100%|██████████| 2/2 [00:01<00:00,  1.43it/s]\n",
            "Evaluate Train: 100%|██████████| 5/5 [00:07<00:00,  1.45s/it]\n",
            "Evaluate Validation: 100%|██████████| 2/2 [00:01<00:00,  1.43it/s]\n"
          ]
        },
        {
          "output_type": "stream",
          "name": "stdout",
          "text": [
            "Epoch 3/50\n",
            "Train - Loss: 0.4885, Accuracy: 0.7110, Precision: 0.6721, Recall: 0.8023, AUC: 0.8222\n",
            "Val - Loss: 0.4768, Accuracy: 0.7424, Precision: 0.7067, Recall: 0.8154, AUC: 0.8246\n"
          ]
        },
        {
          "output_type": "stream",
          "name": "stderr",
          "text": [
            "Epoch 4/50, Train: 100%|██████████| 5/5 [00:07<00:00,  1.53s/it]\n",
            "Epoch 4/50, Validation: 100%|██████████| 2/2 [00:02<00:00,  1.11s/it]\n",
            "Evaluate Train: 100%|██████████| 5/5 [00:06<00:00,  1.26s/it]\n",
            "Evaluate Validation: 100%|██████████| 2/2 [00:01<00:00,  1.44it/s]\n"
          ]
        },
        {
          "output_type": "stream",
          "name": "stdout",
          "text": [
            "Epoch 4/50\n",
            "Train - Loss: 0.4635, Accuracy: 0.7034, Precision: 0.6614, Recall: 0.8101, AUC: 0.8319\n",
            "Val - Loss: 0.5836, Accuracy: 0.6515, Precision: 0.6092, Recall: 0.8154, AUC: 0.8172\n"
          ]
        },
        {
          "output_type": "stream",
          "name": "stderr",
          "text": [
            "Epoch 5/50, Train: 100%|██████████| 5/5 [00:07<00:00,  1.45s/it]\n",
            "Epoch 5/50, Validation: 100%|██████████| 2/2 [00:01<00:00,  1.18it/s]\n",
            "Evaluate Train: 100%|██████████| 5/5 [00:06<00:00,  1.27s/it]\n",
            "Evaluate Validation: 100%|██████████| 2/2 [00:01<00:00,  1.43it/s]\n"
          ]
        },
        {
          "output_type": "stream",
          "name": "stdout",
          "text": [
            "Epoch 5/50\n",
            "Train - Loss: 0.4393, Accuracy: 0.7662, Precision: 0.7778, Recall: 0.7326, AUC: 0.8358\n",
            "Val - Loss: 0.3426, Accuracy: 0.7727, Precision: 0.7692, Recall: 0.7692, AUC: 0.8370\n"
          ]
        },
        {
          "output_type": "stream",
          "name": "stderr",
          "text": [
            "Epoch 6/50, Train: 100%|██████████| 5/5 [00:06<00:00,  1.31s/it]\n",
            "Epoch 6/50, Validation: 100%|██████████| 2/2 [00:01<00:00,  1.42it/s]\n",
            "Evaluate Train: 100%|██████████| 5/5 [00:07<00:00,  1.57s/it]\n",
            "Evaluate Validation: 100%|██████████| 2/2 [00:01<00:00,  1.44it/s]\n"
          ]
        },
        {
          "output_type": "stream",
          "name": "stdout",
          "text": [
            "Epoch 6/50\n",
            "Train - Loss: 0.4307, Accuracy: 0.7852, Precision: 0.8836, Recall: 0.6473, AUC: 0.8393\n",
            "Val - Loss: 0.2943, Accuracy: 0.7955, Precision: 0.8519, Recall: 0.7077, AUC: 0.8170\n"
          ]
        },
        {
          "output_type": "stream",
          "name": "stderr",
          "text": [
            "Epoch 7/50, Train: 100%|██████████| 5/5 [00:06<00:00,  1.34s/it]\n",
            "Epoch 7/50, Validation: 100%|██████████| 2/2 [00:01<00:00,  1.43it/s]\n",
            "Evaluate Train: 100%|██████████| 5/5 [00:07<00:00,  1.46s/it]\n",
            "Evaluate Validation: 100%|██████████| 2/2 [00:01<00:00,  1.44it/s]\n"
          ]
        },
        {
          "output_type": "stream",
          "name": "stdout",
          "text": [
            "Epoch 7/50\n",
            "Train - Loss: 0.4445, Accuracy: 0.7795, Precision: 0.7934, Recall: 0.7442, AUC: 0.8492\n",
            "Val - Loss: 0.4796, Accuracy: 0.7652, Precision: 0.7656, Recall: 0.7538, AUC: 0.8354\n"
          ]
        },
        {
          "output_type": "stream",
          "name": "stderr",
          "text": [
            "Epoch 8/50, Train: 100%|██████████| 5/5 [00:07<00:00,  1.50s/it]\n",
            "Epoch 8/50, Validation: 100%|██████████| 2/2 [00:01<00:00,  1.43it/s]\n",
            "Evaluate Train: 100%|██████████| 5/5 [00:05<00:00,  1.12s/it]\n",
            "Evaluate Validation: 100%|██████████| 2/2 [00:01<00:00,  1.34it/s]\n"
          ]
        },
        {
          "output_type": "stream",
          "name": "stdout",
          "text": [
            "Epoch 8/50\n",
            "Train - Loss: 0.4343, Accuracy: 0.8080, Precision: 0.8340, Recall: 0.7597, AUC: 0.8567\n",
            "Val - Loss: 0.3282, Accuracy: 0.7500, Precision: 0.7581, Recall: 0.7231, AUC: 0.7984\n"
          ]
        },
        {
          "output_type": "stream",
          "name": "stderr",
          "text": [
            "Epoch 9/50, Train: 100%|██████████| 5/5 [00:07<00:00,  1.42s/it]\n",
            "Epoch 9/50, Validation: 100%|██████████| 2/2 [00:01<00:00,  1.42it/s]\n",
            "Evaluate Train: 100%|██████████| 5/5 [00:05<00:00,  1.18s/it]\n",
            "Evaluate Validation: 100%|██████████| 2/2 [00:01<00:00,  1.44it/s]\n"
          ]
        },
        {
          "output_type": "stream",
          "name": "stdout",
          "text": [
            "Epoch 9/50\n",
            "Train - Loss: 0.4563, Accuracy: 0.8156, Precision: 0.8779, Recall: 0.7248, AUC: 0.8611\n",
            "Val - Loss: 0.3397, Accuracy: 0.7955, Precision: 0.8393, Recall: 0.7231, AUC: 0.8312\n"
          ]
        },
        {
          "output_type": "stream",
          "name": "stderr",
          "text": [
            "Epoch 10/50, Train: 100%|██████████| 5/5 [00:07<00:00,  1.51s/it]\n",
            "Epoch 10/50, Validation: 100%|██████████| 2/2 [00:01<00:00,  1.43it/s]\n",
            "Evaluate Train: 100%|██████████| 5/5 [00:05<00:00,  1.11s/it]\n",
            "Evaluate Validation: 100%|██████████| 2/2 [00:01<00:00,  1.35it/s]\n"
          ]
        },
        {
          "output_type": "stream",
          "name": "stdout",
          "text": [
            "Epoch 10/50\n",
            "Train - Loss: 0.4282, Accuracy: 0.8118, Precision: 0.9392, Recall: 0.6589, AUC: 0.8749\n",
            "Val - Loss: 0.3062, Accuracy: 0.8333, Precision: 0.9216, Recall: 0.7231, AUC: 0.8530\n"
          ]
        },
        {
          "output_type": "stream",
          "name": "stderr",
          "text": [
            "Epoch 11/50, Train: 100%|██████████| 5/5 [00:07<00:00,  1.44s/it]\n",
            "Epoch 11/50, Validation: 100%|██████████| 2/2 [00:01<00:00,  1.43it/s]\n",
            "Evaluate Train: 100%|██████████| 5/5 [00:05<00:00,  1.18s/it]\n",
            "Evaluate Validation: 100%|██████████| 2/2 [00:01<00:00,  1.43it/s]\n"
          ]
        },
        {
          "output_type": "stream",
          "name": "stdout",
          "text": [
            "Epoch 11/50\n",
            "Train - Loss: 0.4258, Accuracy: 0.7966, Precision: 0.9364, Recall: 0.6279, AUC: 0.8725\n",
            "Val - Loss: 0.3022, Accuracy: 0.7879, Precision: 0.8491, Recall: 0.6923, AUC: 0.8246\n"
          ]
        },
        {
          "output_type": "stream",
          "name": "stderr",
          "text": [
            "Epoch 12/50, Train: 100%|██████████| 5/5 [00:07<00:00,  1.54s/it]\n",
            "Epoch 12/50, Validation: 100%|██████████| 2/2 [00:01<00:00,  1.44it/s]\n",
            "Evaluate Train: 100%|██████████| 5/5 [00:06<00:00,  1.28s/it]\n",
            "Evaluate Validation: 100%|██████████| 2/2 [00:01<00:00,  1.44it/s]\n"
          ]
        },
        {
          "output_type": "stream",
          "name": "stdout",
          "text": [
            "Epoch 12/50\n",
            "Train - Loss: 0.4648, Accuracy: 0.8232, Precision: 0.8873, Recall: 0.7326, AUC: 0.8763\n",
            "Val - Loss: 0.3365, Accuracy: 0.8333, Precision: 0.8772, Recall: 0.7692, AUC: 0.8774\n"
          ]
        },
        {
          "output_type": "stream",
          "name": "stderr",
          "text": [
            "Epoch 13/50, Train: 100%|██████████| 5/5 [00:06<00:00,  1.34s/it]\n",
            "Epoch 13/50, Validation: 100%|██████████| 2/2 [00:01<00:00,  1.37it/s]\n",
            "Evaluate Train: 100%|██████████| 5/5 [00:07<00:00,  1.44s/it]\n",
            "Evaluate Validation: 100%|██████████| 2/2 [00:01<00:00,  1.41it/s]\n"
          ]
        },
        {
          "output_type": "stream",
          "name": "stdout",
          "text": [
            "Epoch 13/50\n",
            "Train - Loss: 0.4897, Accuracy: 0.7852, Precision: 0.9006, Recall: 0.6318, AUC: 0.8356\n",
            "Val - Loss: 0.3719, Accuracy: 0.7576, Precision: 0.8367, Recall: 0.6308, AUC: 0.8216\n"
          ]
        },
        {
          "output_type": "stream",
          "name": "stderr",
          "text": [
            "Epoch 14/50, Train: 100%|██████████| 5/5 [00:07<00:00,  1.47s/it]\n",
            "Epoch 14/50, Validation: 100%|██████████| 2/2 [00:01<00:00,  1.18it/s]\n",
            "Evaluate Train: 100%|██████████| 5/5 [00:06<00:00,  1.38s/it]\n",
            "Evaluate Validation: 100%|██████████| 2/2 [00:01<00:00,  1.42it/s]\n"
          ]
        },
        {
          "output_type": "stream",
          "name": "stdout",
          "text": [
            "Epoch 14/50\n",
            "Train - Loss: 0.4610, Accuracy: 0.8118, Precision: 0.8916, Recall: 0.7016, AUC: 0.8727\n",
            "Val - Loss: 0.3500, Accuracy: 0.7955, Precision: 0.8654, Recall: 0.6923, AUC: 0.8462\n"
          ]
        },
        {
          "output_type": "stream",
          "name": "stderr",
          "text": [
            "Epoch 15/50, Train: 100%|██████████| 5/5 [00:06<00:00,  1.35s/it]\n",
            "Epoch 15/50, Validation: 100%|██████████| 2/2 [00:01<00:00,  1.40it/s]\n",
            "Evaluate Train: 100%|██████████| 5/5 [00:07<00:00,  1.49s/it]\n",
            "Evaluate Validation: 100%|██████████| 2/2 [00:01<00:00,  1.43it/s]\n"
          ]
        },
        {
          "output_type": "stream",
          "name": "stdout",
          "text": [
            "Epoch 15/50\n",
            "Train - Loss: 0.4007, Accuracy: 0.7776, Precision: 0.7527, Recall: 0.8140, AUC: 0.8677\n",
            "Val - Loss: 0.5446, Accuracy: 0.7273, Precision: 0.7042, Recall: 0.7692, AUC: 0.8113\n"
          ]
        },
        {
          "output_type": "stream",
          "name": "stderr",
          "text": [
            "Epoch 16/50, Train: 100%|██████████| 5/5 [00:08<00:00,  1.64s/it]\n",
            "Epoch 16/50, Validation: 100%|██████████| 2/2 [00:01<00:00,  1.14it/s]\n",
            "Evaluate Train: 100%|██████████| 5/5 [00:06<00:00,  1.25s/it]\n",
            "Evaluate Validation: 100%|██████████| 2/2 [00:01<00:00,  1.43it/s]\n"
          ]
        },
        {
          "output_type": "stream",
          "name": "stdout",
          "text": [
            "Epoch 16/50\n",
            "Train - Loss: 0.4126, Accuracy: 0.7947, Precision: 0.8024, Recall: 0.7713, AUC: 0.8896\n",
            "Val - Loss: 0.4274, Accuracy: 0.7727, Precision: 0.7692, Recall: 0.7692, AUC: 0.8781\n"
          ]
        },
        {
          "output_type": "stream",
          "name": "stderr",
          "text": [
            "Epoch 17/50, Train: 100%|██████████| 5/5 [00:06<00:00,  1.35s/it]\n",
            "Epoch 17/50, Validation: 100%|██████████| 2/2 [00:01<00:00,  1.43it/s]\n",
            "Evaluate Train: 100%|██████████| 5/5 [00:07<00:00,  1.45s/it]\n",
            "Evaluate Validation: 100%|██████████| 2/2 [00:01<00:00,  1.41it/s]\n"
          ]
        },
        {
          "output_type": "stream",
          "name": "stdout",
          "text": [
            "Epoch 17/50\n",
            "Train - Loss: 0.4613, Accuracy: 0.8327, Precision: 0.8972, Recall: 0.7442, AUC: 0.8922\n",
            "Val - Loss: 0.2864, Accuracy: 0.8333, Precision: 0.8772, Recall: 0.7692, AUC: 0.8744\n"
          ]
        },
        {
          "output_type": "stream",
          "name": "stderr",
          "text": [
            "Epoch 18/50, Train: 100%|██████████| 5/5 [00:07<00:00,  1.53s/it]\n",
            "Epoch 18/50, Validation: 100%|██████████| 2/2 [00:02<00:00,  1.05s/it]\n",
            "Evaluate Train: 100%|██████████| 5/5 [00:06<00:00,  1.27s/it]\n",
            "Evaluate Validation: 100%|██████████| 2/2 [00:01<00:00,  1.44it/s]\n"
          ]
        },
        {
          "output_type": "stream",
          "name": "stdout",
          "text": [
            "Epoch 18/50\n",
            "Train - Loss: 0.4506, Accuracy: 0.8042, Precision: 0.9429, Recall: 0.6395, AUC: 0.8702\n",
            "Val - Loss: 0.4342, Accuracy: 0.7879, Precision: 0.9512, Recall: 0.6000, AUC: 0.8367\n"
          ]
        },
        {
          "output_type": "stream",
          "name": "stderr",
          "text": [
            "Epoch 19/50, Train: 100%|██████████| 5/5 [00:07<00:00,  1.49s/it]\n",
            "Epoch 19/50, Validation: 100%|██████████| 2/2 [00:01<00:00,  1.21it/s]\n",
            "Evaluate Train: 100%|██████████| 5/5 [00:06<00:00,  1.26s/it]\n",
            "Evaluate Validation: 100%|██████████| 2/2 [00:01<00:00,  1.43it/s]\n"
          ]
        },
        {
          "output_type": "stream",
          "name": "stdout",
          "text": [
            "Epoch 19/50\n",
            "Train - Loss: 0.4304, Accuracy: 0.7947, Precision: 0.7907, Recall: 0.7907, AUC: 0.8600\n",
            "Val - Loss: 0.7161, Accuracy: 0.7955, Precision: 0.7794, Recall: 0.8154, AUC: 0.8338\n"
          ]
        },
        {
          "output_type": "stream",
          "name": "stderr",
          "text": [
            "Epoch 20/50, Train: 100%|██████████| 5/5 [00:07<00:00,  1.57s/it]\n",
            "Epoch 20/50, Validation: 100%|██████████| 2/2 [00:02<00:00,  1.06s/it]\n",
            "Evaluate Train: 100%|██████████| 5/5 [00:06<00:00,  1.26s/it]\n",
            "Evaluate Validation: 100%|██████████| 2/2 [00:01<00:00,  1.40it/s]\n"
          ]
        },
        {
          "output_type": "stream",
          "name": "stdout",
          "text": [
            "Epoch 20/50\n",
            "Train - Loss: 0.5393, Accuracy: 0.8137, Precision: 0.8774, Recall: 0.7209, AUC: 0.8863\n",
            "Val - Loss: 0.3045, Accuracy: 0.8561, Precision: 0.8966, Recall: 0.8000, AUC: 0.8549\n"
          ]
        },
        {
          "output_type": "stream",
          "name": "stderr",
          "text": [
            "Epoch 21/50, Train: 100%|██████████| 5/5 [00:06<00:00,  1.35s/it]\n",
            "Epoch 21/50, Validation: 100%|██████████| 2/2 [00:01<00:00,  1.43it/s]\n",
            "Evaluate Train: 100%|██████████| 5/5 [00:07<00:00,  1.44s/it]\n",
            "Evaluate Validation: 100%|██████████| 2/2 [00:01<00:00,  1.43it/s]\n"
          ]
        },
        {
          "output_type": "stream",
          "name": "stdout",
          "text": [
            "Epoch 21/50\n",
            "Train - Loss: 0.4009, Accuracy: 0.8175, Precision: 0.9263, Recall: 0.6822, AUC: 0.8800\n",
            "Val - Loss: 0.7160, Accuracy: 0.8258, Precision: 0.8889, Recall: 0.7385, AUC: 0.8347\n"
          ]
        },
        {
          "output_type": "stream",
          "name": "stderr",
          "text": [
            "Epoch 22/50, Train: 100%|██████████| 5/5 [00:07<00:00,  1.56s/it]\n",
            "Epoch 22/50, Validation: 100%|██████████| 2/2 [00:02<00:00,  1.09s/it]\n",
            "Evaluate Train: 100%|██████████| 5/5 [00:06<00:00,  1.25s/it]\n",
            "Evaluate Validation: 100%|██████████| 2/2 [00:01<00:00,  1.43it/s]\n"
          ]
        },
        {
          "output_type": "stream",
          "name": "stdout",
          "text": [
            "Epoch 22/50\n",
            "Train - Loss: 0.4476, Accuracy: 0.8118, Precision: 0.8565, Recall: 0.7403, AUC: 0.8772\n",
            "Val - Loss: 0.4682, Accuracy: 0.7727, Precision: 0.7966, Recall: 0.7231, AUC: 0.8197\n"
          ]
        },
        {
          "output_type": "stream",
          "name": "stderr",
          "text": [
            "Epoch 23/50, Train: 100%|██████████| 5/5 [00:06<00:00,  1.35s/it]\n",
            "Epoch 23/50, Validation: 100%|██████████| 2/2 [00:01<00:00,  1.43it/s]\n",
            "Evaluate Train: 100%|██████████| 5/5 [00:07<00:00,  1.56s/it]\n",
            "Evaluate Validation: 100%|██████████| 2/2 [00:02<00:00,  1.05s/it]\n"
          ]
        },
        {
          "output_type": "stream",
          "name": "stdout",
          "text": [
            "Epoch 23/50\n",
            "Train - Loss: 0.4153, Accuracy: 0.8289, Precision: 0.8590, Recall: 0.7791, AUC: 0.8919\n",
            "Val - Loss: 0.3873, Accuracy: 0.7879, Precision: 0.8033, Recall: 0.7538, AUC: 0.8416\n"
          ]
        },
        {
          "output_type": "stream",
          "name": "stderr",
          "text": [
            "Epoch 24/50, Train: 100%|██████████| 5/5 [00:06<00:00,  1.38s/it]\n",
            "Epoch 24/50, Validation: 100%|██████████| 2/2 [00:02<00:00,  1.05s/it]\n",
            "Evaluate Train: 100%|██████████| 5/5 [00:06<00:00,  1.30s/it]\n",
            "Evaluate Validation: 100%|██████████| 2/2 [00:01<00:00,  1.44it/s]\n"
          ]
        },
        {
          "output_type": "stream",
          "name": "stdout",
          "text": [
            "Epoch 24/50\n",
            "Train - Loss: 0.4469, Accuracy: 0.8403, Precision: 0.9531, Recall: 0.7093, AUC: 0.9062\n",
            "Val - Loss: 0.3163, Accuracy: 0.8485, Precision: 0.9592, Recall: 0.7231, AUC: 0.8443\n"
          ]
        },
        {
          "output_type": "stream",
          "name": "stderr",
          "text": [
            "Epoch 25/50, Train: 100%|██████████| 5/5 [00:07<00:00,  1.55s/it]\n",
            "Epoch 25/50, Validation: 100%|██████████| 2/2 [00:01<00:00,  1.22it/s]\n",
            "Evaluate Train: 100%|██████████| 5/5 [00:05<00:00,  1.10s/it]\n",
            "Evaluate Validation: 100%|██████████| 2/2 [00:01<00:00,  1.34it/s]\n"
          ]
        },
        {
          "output_type": "stream",
          "name": "stdout",
          "text": [
            "Epoch 25/50\n",
            "Train - Loss: 0.4009, Accuracy: 0.8118, Precision: 0.8502, Recall: 0.7481, AUC: 0.8858\n",
            "Val - Loss: 0.3165, Accuracy: 0.8333, Precision: 0.8525, Recall: 0.8000, AUC: 0.8507\n"
          ]
        },
        {
          "output_type": "stream",
          "name": "stderr",
          "text": [
            "Epoch 26/50, Train: 100%|██████████| 5/5 [00:06<00:00,  1.34s/it]\n",
            "Epoch 26/50, Validation: 100%|██████████| 2/2 [00:01<00:00,  1.42it/s]\n",
            "Evaluate Train: 100%|██████████| 5/5 [00:05<00:00,  1.18s/it]\n",
            "Evaluate Validation: 100%|██████████| 2/2 [00:01<00:00,  1.45it/s]\n"
          ]
        },
        {
          "output_type": "stream",
          "name": "stdout",
          "text": [
            "Epoch 26/50\n",
            "Train - Loss: 0.4026, Accuracy: 0.8384, Precision: 0.9061, Recall: 0.7481, AUC: 0.9035\n",
            "Val - Loss: 0.3975, Accuracy: 0.8030, Precision: 0.8421, Recall: 0.7385, AUC: 0.8804\n"
          ]
        },
        {
          "output_type": "stream",
          "name": "stderr",
          "text": [
            "Epoch 27/50, Train: 100%|██████████| 5/5 [00:06<00:00,  1.33s/it]\n",
            "Epoch 27/50, Validation: 100%|██████████| 2/2 [00:01<00:00,  1.43it/s]\n",
            "Evaluate Train: 100%|██████████| 5/5 [00:07<00:00,  1.57s/it]\n",
            "Evaluate Validation: 100%|██████████| 2/2 [00:01<00:00,  1.42it/s]\n"
          ]
        },
        {
          "output_type": "stream",
          "name": "stdout",
          "text": [
            "Epoch 27/50\n",
            "Train - Loss: 0.3805, Accuracy: 0.8289, Precision: 0.9078, Recall: 0.7248, AUC: 0.8747\n",
            "Val - Loss: 0.6556, Accuracy: 0.8030, Precision: 0.8545, Recall: 0.7231, AUC: 0.8613\n"
          ]
        },
        {
          "output_type": "stream",
          "name": "stderr",
          "text": [
            "Epoch 28/50, Train: 100%|██████████| 5/5 [00:07<00:00,  1.53s/it]\n",
            "Epoch 28/50, Validation: 100%|██████████| 2/2 [00:01<00:00,  1.22it/s]\n",
            "Evaluate Train: 100%|██████████| 5/5 [00:05<00:00,  1.19s/it]\n",
            "Evaluate Validation: 100%|██████████| 2/2 [00:01<00:00,  1.46it/s]\n"
          ]
        },
        {
          "output_type": "stream",
          "name": "stdout",
          "text": [
            "Epoch 28/50\n",
            "Train - Loss: 0.4216, Accuracy: 0.8422, Precision: 0.8788, Recall: 0.7868, AUC: 0.8947\n",
            "Val - Loss: 0.2415, Accuracy: 0.8106, Precision: 0.8125, Recall: 0.8000, AUC: 0.8962\n"
          ]
        },
        {
          "output_type": "stream",
          "name": "stderr",
          "text": [
            "Epoch 29/50, Train: 100%|██████████| 5/5 [00:07<00:00,  1.54s/it]\n",
            "Epoch 29/50, Validation: 100%|██████████| 2/2 [00:01<00:00,  1.24it/s]\n",
            "Evaluate Train: 100%|██████████| 5/5 [00:06<00:00,  1.32s/it]\n",
            "Evaluate Validation: 100%|██████████| 2/2 [00:01<00:00,  1.41it/s]\n"
          ]
        },
        {
          "output_type": "stream",
          "name": "stdout",
          "text": [
            "Epoch 29/50\n",
            "Train - Loss: 0.4507, Accuracy: 0.8479, Precision: 0.8477, Recall: 0.8411, AUC: 0.9038\n",
            "Val - Loss: 0.4743, Accuracy: 0.7500, Precision: 0.7286, Recall: 0.7846, AUC: 0.8489\n"
          ]
        },
        {
          "output_type": "stream",
          "name": "stderr",
          "text": [
            "Epoch 30/50, Train: 100%|██████████| 5/5 [00:06<00:00,  1.30s/it]\n",
            "Epoch 30/50, Validation: 100%|██████████| 2/2 [00:01<00:00,  1.44it/s]\n",
            "Evaluate Train: 100%|██████████| 5/5 [00:06<00:00,  1.25s/it]\n",
            "Evaluate Validation: 100%|██████████| 2/2 [00:01<00:00,  1.10it/s]\n"
          ]
        },
        {
          "output_type": "stream",
          "name": "stdout",
          "text": [
            "Epoch 30/50\n",
            "Train - Loss: 0.3964, Accuracy: 0.8289, Precision: 0.8889, Recall: 0.7442, AUC: 0.8897\n",
            "Val - Loss: 0.3411, Accuracy: 0.7803, Precision: 0.8103, Recall: 0.7231, AUC: 0.8514\n"
          ]
        },
        {
          "output_type": "stream",
          "name": "stderr",
          "text": [
            "Epoch 31/50, Train: 100%|██████████| 5/5 [00:07<00:00,  1.59s/it]\n",
            "Epoch 31/50, Validation: 100%|██████████| 2/2 [00:02<00:00,  1.07s/it]\n",
            "Evaluate Train: 100%|██████████| 5/5 [00:06<00:00,  1.37s/it]\n",
            "Evaluate Validation: 100%|██████████| 2/2 [00:02<00:00,  1.05s/it]\n"
          ]
        },
        {
          "output_type": "stream",
          "name": "stdout",
          "text": [
            "Epoch 31/50\n",
            "Train - Loss: 0.3517, Accuracy: 0.8403, Precision: 0.9104, Recall: 0.7481, AUC: 0.9091\n",
            "Val - Loss: 0.3773, Accuracy: 0.8409, Precision: 0.8929, Recall: 0.7692, AUC: 0.8739\n"
          ]
        },
        {
          "output_type": "stream",
          "name": "stderr",
          "text": [
            "Epoch 32/50, Train: 100%|██████████| 5/5 [00:06<00:00,  1.38s/it]\n",
            "Epoch 32/50, Validation: 100%|██████████| 2/2 [00:02<00:00,  1.05s/it]\n",
            "Evaluate Train: 100%|██████████| 5/5 [00:06<00:00,  1.24s/it]\n",
            "Evaluate Validation: 100%|██████████| 2/2 [00:01<00:00,  1.11it/s]\n"
          ]
        },
        {
          "output_type": "stream",
          "name": "stdout",
          "text": [
            "Epoch 32/50\n",
            "Train - Loss: 0.4216, Accuracy: 0.8479, Precision: 0.9045, Recall: 0.7713, AUC: 0.9142\n",
            "Val - Loss: 0.3216, Accuracy: 0.8258, Precision: 0.8621, Recall: 0.7692, AUC: 0.8760\n"
          ]
        },
        {
          "output_type": "stream",
          "name": "stderr",
          "text": [
            "Epoch 33/50, Train: 100%|██████████| 5/5 [00:06<00:00,  1.35s/it]\n",
            "Epoch 33/50, Validation: 100%|██████████| 2/2 [00:01<00:00,  1.43it/s]\n",
            "Evaluate Train: 100%|██████████| 5/5 [00:07<00:00,  1.45s/it]\n",
            "Evaluate Validation: 100%|██████████| 2/2 [00:01<00:00,  1.41it/s]\n"
          ]
        },
        {
          "output_type": "stream",
          "name": "stdout",
          "text": [
            "Epoch 33/50\n",
            "Train - Loss: 0.3460, Accuracy: 0.7909, Precision: 0.7587, Recall: 0.8411, AUC: 0.8967\n",
            "Val - Loss: 0.6711, Accuracy: 0.7197, Precision: 0.6842, Recall: 0.8000, AUC: 0.8331\n"
          ]
        },
        {
          "output_type": "stream",
          "name": "stderr",
          "text": [
            "Epoch 34/50, Train: 100%|██████████| 5/5 [00:06<00:00,  1.34s/it]\n",
            "Epoch 34/50, Validation: 100%|██████████| 2/2 [00:01<00:00,  1.42it/s]\n",
            "Evaluate Train: 100%|██████████| 5/5 [00:07<00:00,  1.46s/it]\n",
            "Evaluate Validation: 100%|██████████| 2/2 [00:01<00:00,  1.43it/s]\n"
          ]
        },
        {
          "output_type": "stream",
          "name": "stdout",
          "text": [
            "Epoch 34/50\n",
            "Train - Loss: 0.3858, Accuracy: 0.8004, Precision: 0.7647, Recall: 0.8566, AUC: 0.8944\n",
            "Val - Loss: 0.6327, Accuracy: 0.7500, Precision: 0.7105, Recall: 0.8308, AUC: 0.8622\n"
          ]
        },
        {
          "output_type": "stream",
          "name": "stderr",
          "text": [
            "Epoch 35/50, Train: 100%|██████████| 5/5 [00:07<00:00,  1.47s/it]\n",
            "Epoch 35/50, Validation: 100%|██████████| 2/2 [00:01<00:00,  1.40it/s]\n",
            "Evaluate Train: 100%|██████████| 5/5 [00:05<00:00,  1.14s/it]\n",
            "Evaluate Validation: 100%|██████████| 2/2 [00:01<00:00,  1.34it/s]\n"
          ]
        },
        {
          "output_type": "stream",
          "name": "stdout",
          "text": [
            "Epoch 35/50\n",
            "Train - Loss: 0.3799, Accuracy: 0.8251, Precision: 0.9235, Recall: 0.7016, AUC: 0.9076\n",
            "Val - Loss: 0.4525, Accuracy: 0.8258, Precision: 0.8750, Recall: 0.7538, AUC: 0.8604\n"
          ]
        },
        {
          "output_type": "stream",
          "name": "stderr",
          "text": [
            "Epoch 36/50, Train: 100%|██████████| 5/5 [00:07<00:00,  1.42s/it]\n",
            "Epoch 36/50, Validation: 100%|██████████| 2/2 [00:01<00:00,  1.42it/s]\n",
            "Evaluate Train: 100%|██████████| 5/5 [00:05<00:00,  1.19s/it]\n",
            "Evaluate Validation: 100%|██████████| 2/2 [00:01<00:00,  1.43it/s]\n"
          ]
        },
        {
          "output_type": "stream",
          "name": "stdout",
          "text": [
            "Epoch 36/50\n",
            "Train - Loss: 0.3499, Accuracy: 0.8346, Precision: 0.8767, Recall: 0.7713, AUC: 0.8959\n",
            "Val - Loss: 0.4466, Accuracy: 0.7879, Precision: 0.8033, Recall: 0.7538, AUC: 0.8521\n"
          ]
        },
        {
          "output_type": "stream",
          "name": "stderr",
          "text": [
            "Epoch 37/50, Train: 100%|██████████| 5/5 [00:06<00:00,  1.35s/it]\n",
            "Epoch 37/50, Validation: 100%|██████████| 2/2 [00:01<00:00,  1.36it/s]\n",
            "Evaluate Train: 100%|██████████| 5/5 [00:07<00:00,  1.56s/it]\n",
            "Evaluate Validation: 100%|██████████| 2/2 [00:02<00:00,  1.02s/it]\n"
          ]
        },
        {
          "output_type": "stream",
          "name": "stdout",
          "text": [
            "Epoch 37/50\n",
            "Train - Loss: 0.5060, Accuracy: 0.8346, Precision: 0.8406, Recall: 0.8178, AUC: 0.9195\n",
            "Val - Loss: 0.5817, Accuracy: 0.8030, Precision: 0.8197, Recall: 0.7692, AUC: 0.8370\n"
          ]
        },
        {
          "output_type": "stream",
          "name": "stderr",
          "text": [
            "Epoch 38/50, Train: 100%|██████████| 5/5 [00:06<00:00,  1.28s/it]\n",
            "Epoch 38/50, Validation: 100%|██████████| 2/2 [00:01<00:00,  1.28it/s]\n",
            "Evaluate Train: 100%|██████████| 5/5 [00:06<00:00,  1.20s/it]\n",
            "Evaluate Validation: 100%|██████████| 2/2 [00:01<00:00,  1.45it/s]\n"
          ]
        },
        {
          "output_type": "stream",
          "name": "stdout",
          "text": [
            "Epoch 38/50\n",
            "Train - Loss: 0.3180, Accuracy: 0.7586, Precision: 0.7028, Recall: 0.8798, AUC: 0.8911\n",
            "Val - Loss: 0.6730, Accuracy: 0.7424, Precision: 0.6914, Recall: 0.8615, AUC: 0.8622\n"
          ]
        },
        {
          "output_type": "stream",
          "name": "stderr",
          "text": [
            "Epoch 39/50, Train: 100%|██████████| 5/5 [00:06<00:00,  1.33s/it]\n",
            "Epoch 39/50, Validation: 100%|██████████| 2/2 [00:01<00:00,  1.44it/s]\n",
            "Evaluate Train: 100%|██████████| 5/5 [00:05<00:00,  1.11s/it]\n",
            "Evaluate Validation: 100%|██████████| 2/2 [00:01<00:00,  1.33it/s]\n"
          ]
        },
        {
          "output_type": "stream",
          "name": "stdout",
          "text": [
            "Epoch 39/50\n",
            "Train - Loss: 0.3385, Accuracy: 0.8517, Precision: 0.8814, Recall: 0.8062, AUC: 0.9321\n",
            "Val - Loss: 0.5287, Accuracy: 0.7955, Precision: 0.8065, Recall: 0.7692, AUC: 0.8661\n"
          ]
        },
        {
          "output_type": "stream",
          "name": "stderr",
          "text": [
            "Epoch 40/50, Train: 100%|██████████| 5/5 [00:06<00:00,  1.30s/it]\n",
            "Epoch 40/50, Validation: 100%|██████████| 2/2 [00:01<00:00,  1.45it/s]\n",
            "Evaluate Train: 100%|██████████| 5/5 [00:06<00:00,  1.26s/it]\n",
            "Evaluate Validation: 100%|██████████| 2/2 [00:01<00:00,  1.45it/s]\n"
          ]
        },
        {
          "output_type": "stream",
          "name": "stdout",
          "text": [
            "Epoch 40/50\n",
            "Train - Loss: 0.3534, Accuracy: 0.8479, Precision: 0.9083, Recall: 0.7674, AUC: 0.9169\n",
            "Val - Loss: 0.4049, Accuracy: 0.8106, Precision: 0.8448, Recall: 0.7538, AUC: 0.8732\n"
          ]
        },
        {
          "output_type": "stream",
          "name": "stderr",
          "text": [
            "Epoch 41/50, Train: 100%|██████████| 5/5 [00:07<00:00,  1.48s/it]\n",
            "Epoch 41/50, Validation: 100%|██████████| 2/2 [00:01<00:00,  1.22it/s]\n",
            "Evaluate Train: 100%|██████████| 5/5 [00:06<00:00,  1.27s/it]\n",
            "Evaluate Validation: 100%|██████████| 2/2 [00:01<00:00,  1.46it/s]\n"
          ]
        },
        {
          "output_type": "stream",
          "name": "stdout",
          "text": [
            "Epoch 41/50\n",
            "Train - Loss: 0.3863, Accuracy: 0.8194, Precision: 0.9605, Recall: 0.6589, AUC: 0.9231\n",
            "Val - Loss: 0.3678, Accuracy: 0.7955, Precision: 0.9318, Recall: 0.6308, AUC: 0.8482\n"
          ]
        },
        {
          "output_type": "stream",
          "name": "stderr",
          "text": [
            "Epoch 42/50, Train: 100%|██████████| 5/5 [00:07<00:00,  1.48s/it]\n",
            "Epoch 42/50, Validation: 100%|██████████| 2/2 [00:01<00:00,  1.23it/s]\n",
            "Evaluate Train: 100%|██████████| 5/5 [00:07<00:00,  1.44s/it]\n",
            "Evaluate Validation: 100%|██████████| 2/2 [00:01<00:00,  1.11it/s]\n"
          ]
        },
        {
          "output_type": "stream",
          "name": "stdout",
          "text": [
            "Epoch 42/50\n",
            "Train - Loss: 0.3465, Accuracy: 0.8232, Precision: 0.8947, Recall: 0.7248, AUC: 0.9021\n",
            "Val - Loss: 0.3001, Accuracy: 0.7727, Precision: 0.7966, Recall: 0.7231, AUC: 0.8310\n"
          ]
        },
        {
          "output_type": "stream",
          "name": "stderr",
          "text": [
            "Epoch 43/50, Train: 100%|██████████| 5/5 [00:07<00:00,  1.55s/it]\n",
            "Epoch 43/50, Validation: 100%|██████████| 2/2 [00:01<00:00,  1.21it/s]\n",
            "Evaluate Train: 100%|██████████| 5/5 [00:05<00:00,  1.19s/it]\n",
            "Evaluate Validation: 100%|██████████| 2/2 [00:01<00:00,  1.45it/s]\n"
          ]
        },
        {
          "output_type": "stream",
          "name": "stdout",
          "text": [
            "Epoch 43/50\n",
            "Train - Loss: 0.3142, Accuracy: 0.8555, Precision: 0.9417, Recall: 0.7519, AUC: 0.9293\n",
            "Val - Loss: 0.4508, Accuracy: 0.8106, Precision: 0.8704, Recall: 0.7231, AUC: 0.8383\n"
          ]
        },
        {
          "output_type": "stream",
          "name": "stderr",
          "text": [
            "Epoch 44/50, Train: 100%|██████████| 5/5 [00:07<00:00,  1.46s/it]\n",
            "Epoch 44/50, Validation: 100%|██████████| 2/2 [00:01<00:00,  1.13it/s]\n",
            "Evaluate Train: 100%|██████████| 5/5 [00:05<00:00,  1.15s/it]\n",
            "Evaluate Validation: 100%|██████████| 2/2 [00:01<00:00,  1.28it/s]\n"
          ]
        },
        {
          "output_type": "stream",
          "name": "stdout",
          "text": [
            "Epoch 44/50\n",
            "Train - Loss: 0.3492, Accuracy: 0.8479, Precision: 0.9541, Recall: 0.7248, AUC: 0.9192\n",
            "Val - Loss: 0.8071, Accuracy: 0.8258, Precision: 0.8889, Recall: 0.7385, AUC: 0.8361\n"
          ]
        },
        {
          "output_type": "stream",
          "name": "stderr",
          "text": [
            "Epoch 45/50, Train: 100%|██████████| 5/5 [00:07<00:00,  1.41s/it]\n",
            "Epoch 45/50, Validation: 100%|██████████| 2/2 [00:01<00:00,  1.45it/s]\n",
            "Evaluate Train: 100%|██████████| 5/5 [00:06<00:00,  1.35s/it]\n",
            "Evaluate Validation: 100%|██████████| 2/2 [00:01<00:00,  1.37it/s]\n"
          ]
        },
        {
          "output_type": "stream",
          "name": "stdout",
          "text": [
            "Epoch 45/50\n",
            "Train - Loss: 0.3045, Accuracy: 0.8593, Precision: 0.9466, Recall: 0.7558, AUC: 0.9272\n",
            "Val - Loss: 0.5771, Accuracy: 0.8182, Precision: 0.8868, Recall: 0.7231, AUC: 0.8289\n"
          ]
        },
        {
          "output_type": "stream",
          "name": "stderr",
          "text": [
            "Epoch 46/50, Train: 100%|██████████| 5/5 [00:06<00:00,  1.37s/it]\n",
            "Epoch 46/50, Validation: 100%|██████████| 2/2 [00:01<00:00,  1.24it/s]\n",
            "Evaluate Train: 100%|██████████| 5/5 [00:05<00:00,  1.08s/it]\n",
            "Evaluate Validation: 100%|██████████| 2/2 [00:01<00:00,  1.29it/s]\n"
          ]
        },
        {
          "output_type": "stream",
          "name": "stdout",
          "text": [
            "Epoch 46/50\n",
            "Train - Loss: 0.3912, Accuracy: 0.8555, Precision: 0.9643, Recall: 0.7326, AUC: 0.9213\n",
            "Val - Loss: 0.4008, Accuracy: 0.8409, Precision: 0.9400, Recall: 0.7231, AUC: 0.8452\n"
          ]
        },
        {
          "output_type": "stream",
          "name": "stderr",
          "text": [
            "Epoch 47/50, Train: 100%|██████████| 5/5 [00:08<00:00,  1.65s/it]\n",
            "Epoch 47/50, Validation: 100%|██████████| 2/2 [00:01<00:00,  1.17it/s]\n",
            "Evaluate Train: 100%|██████████| 5/5 [00:06<00:00,  1.30s/it]\n",
            "Evaluate Validation: 100%|██████████| 2/2 [00:01<00:00,  1.46it/s]\n"
          ]
        },
        {
          "output_type": "stream",
          "name": "stdout",
          "text": [
            "Epoch 47/50\n",
            "Train - Loss: 0.3244, Accuracy: 0.8688, Precision: 0.9091, Recall: 0.8140, AUC: 0.9354\n",
            "Val - Loss: 0.3021, Accuracy: 0.8030, Precision: 0.8305, Recall: 0.7538, AUC: 0.8526\n"
          ]
        },
        {
          "output_type": "stream",
          "name": "stderr",
          "text": [
            "Epoch 48/50, Train: 100%|██████████| 5/5 [00:06<00:00,  1.33s/it]\n",
            "Epoch 48/50, Validation: 100%|██████████| 2/2 [00:01<00:00,  1.45it/s]\n",
            "Evaluate Train: 100%|██████████| 5/5 [00:07<00:00,  1.46s/it]\n",
            "Evaluate Validation: 100%|██████████| 2/2 [00:01<00:00,  1.44it/s]\n"
          ]
        },
        {
          "output_type": "stream",
          "name": "stdout",
          "text": [
            "Epoch 48/50\n",
            "Train - Loss: 0.3365, Accuracy: 0.8555, Precision: 0.8824, Recall: 0.8140, AUC: 0.9286\n",
            "Val - Loss: 0.6111, Accuracy: 0.7955, Precision: 0.7969, Recall: 0.7846, AUC: 0.8579\n"
          ]
        },
        {
          "output_type": "stream",
          "name": "stderr",
          "text": [
            "Epoch 49/50, Train: 100%|██████████| 5/5 [00:07<00:00,  1.46s/it]\n",
            "Epoch 49/50, Validation: 100%|██████████| 2/2 [00:01<00:00,  1.44it/s]\n",
            "Evaluate Train: 100%|██████████| 5/5 [00:05<00:00,  1.13s/it]\n",
            "Evaluate Validation: 100%|██████████| 2/2 [00:01<00:00,  1.26it/s]\n"
          ]
        },
        {
          "output_type": "stream",
          "name": "stdout",
          "text": [
            "Epoch 49/50\n",
            "Train - Loss: 0.3609, Accuracy: 0.8384, Precision: 0.8531, Recall: 0.8101, AUC: 0.9162\n",
            "Val - Loss: 0.3050, Accuracy: 0.7879, Precision: 0.7937, Recall: 0.7692, AUC: 0.8319\n"
          ]
        },
        {
          "output_type": "stream",
          "name": "stderr",
          "text": [
            "Epoch 50/50, Train: 100%|██████████| 5/5 [00:06<00:00,  1.36s/it]\n",
            "Epoch 50/50, Validation: 100%|██████████| 2/2 [00:01<00:00,  1.26it/s]\n",
            "Evaluate Train: 100%|██████████| 5/5 [00:06<00:00,  1.20s/it]\n",
            "Evaluate Validation: 100%|██████████| 2/2 [00:01<00:00,  1.46it/s]\n"
          ]
        },
        {
          "output_type": "stream",
          "name": "stdout",
          "text": [
            "Epoch 50/50\n",
            "Train - Loss: 0.2932, Accuracy: 0.8536, Precision: 0.8952, Recall: 0.7946, AUC: 0.9380\n",
            "Val - Loss: 0.4032, Accuracy: 0.8409, Precision: 0.9074, Recall: 0.7538, AUC: 0.8742\n"
          ]
        },
        {
          "output_type": "stream",
          "name": "stderr",
          "text": [
            "Evaluate Test: 100%|██████████| 2/2 [00:00<00:00,  4.59it/s]\n"
          ]
        },
        {
          "output_type": "stream",
          "name": "stdout",
          "text": [
            "\n",
            "Accuracy: 0.7152, Precision: 0.7024, Recall: 0.7284, AUC: 0.7910\n",
            "Results saved to results/finetune/ori/vig_s_224_gelu/classification_results.txt\n"
          ]
        },
        {
          "output_type": "stream",
          "name": "stderr",
          "text": [
            "WARNING:matplotlib.image:Clipping input data to the valid range for imshow with RGB data ([0..1] for floats or [0..255] for integers).\n",
            "WARNING:matplotlib.image:Clipping input data to the valid range for imshow with RGB data ([0..1] for floats or [0..255] for integers).\n",
            "WARNING:matplotlib.image:Clipping input data to the valid range for imshow with RGB data ([0..1] for floats or [0..255] for integers).\n",
            "WARNING:matplotlib.image:Clipping input data to the valid range for imshow with RGB data ([0..1] for floats or [0..255] for integers).\n",
            "WARNING:matplotlib.image:Clipping input data to the valid range for imshow with RGB data ([0..1] for floats or [0..255] for integers).\n",
            "WARNING:matplotlib.image:Clipping input data to the valid range for imshow with RGB data ([0..1] for floats or [0..255] for integers).\n"
          ]
        },
        {
          "output_type": "stream",
          "name": "stdout",
          "text": [
            "Results saved to results/visualization/zero_shot/ucsd/vig_s_224_gelu/images/cxr_images.png\n"
          ]
        },
        {
          "output_type": "stream",
          "name": "stderr",
          "text": [
            "Evaluate Train: 100%|██████████| 16/16 [00:04<00:00,  3.31it/s]\n",
            "Evaluate Validation: 100%|██████████| 4/4 [00:00<00:00,  7.43it/s]\n",
            "Evaluate Test: 100%|██████████| 5/5 [00:02<00:00,  2.09it/s]"
          ]
        },
        {
          "output_type": "stream",
          "name": "stdout",
          "text": [
            "Results saved to results/zero_shot/ucsd/vig_s_224_gelu/classification_results.txt\n"
          ]
        },
        {
          "output_type": "stream",
          "name": "stderr",
          "text": [
            "\n"
          ]
        },
        {
          "output_type": "display_data",
          "data": {
            "text/plain": [
              "<Figure size 640x480 with 0 Axes>"
            ]
          },
          "metadata": {}
        }
      ],
      "source": [
        "%run ViG-Pediatric/scripts/vig/finetune_vig_s_224_gelu.py"
      ]
    },
    {
      "cell_type": "code",
      "execution_count": 5,
      "metadata": {
        "id": "atO0ERu4o3Ha"
      },
      "outputs": [],
      "source": [
        "# %run ViG-Pediatric/scripts/vig/finetune_vig_b_224_gelu.py"
      ]
    },
    {
      "cell_type": "code",
      "execution_count": 10,
      "metadata": {
        "id": "T6TPaLTTx2Y0",
        "colab": {
          "base_uri": "https://localhost:8080/"
        },
        "outputId": "5fada3c2-9149-421f-a9b7-f8e0a873cf78"
      },
      "outputs": [
        {
          "output_type": "stream",
          "name": "stdout",
          "text": [
            "  adding: results/ (stored 0%)\n",
            "  adding: results/visualization/ (stored 0%)\n",
            "  adding: results/visualization/zero_shot/ (stored 0%)\n",
            "  adding: results/visualization/zero_shot/ucsd/ (stored 0%)\n",
            "  adding: results/visualization/zero_shot/ucsd/vig_s_224_gelu/ (stored 0%)\n",
            "  adding: results/visualization/zero_shot/ucsd/vig_s_224_gelu/images/ (stored 0%)\n",
            "  adding: results/visualization/zero_shot/ucsd/vig_s_224_gelu/images/cxr_images.png (deflated 7%)\n",
            "  adding: results/visualization/zero_shot/ori/ (stored 0%)\n",
            "  adding: results/visualization/zero_shot/ori/vig_s_224_gelu/ (stored 0%)\n",
            "  adding: results/visualization/zero_shot/ori/vig_s_224_gelu/images/ (stored 0%)\n",
            "  adding: results/visualization/zero_shot/ori/vig_s_224_gelu/images/cxr_images.png (deflated 7%)\n",
            "  adding: results/visualization/finetune/ (stored 0%)\n",
            "  adding: results/visualization/finetune/ucsd/ (stored 0%)\n",
            "  adding: results/visualization/finetune/ucsd/vig_s_224_gelu/ (stored 0%)\n",
            "  adding: results/visualization/finetune/ucsd/vig_s_224_gelu/images/ (stored 0%)\n",
            "  adding: results/visualization/finetune/ucsd/vig_s_224_gelu/images/cxr_images.png (deflated 8%)\n",
            "  adding: results/visualization/finetune/ori/ (stored 0%)\n",
            "  adding: results/visualization/finetune/ori/vig_s_224_gelu/ (stored 0%)\n",
            "  adding: results/visualization/finetune/ori/vig_s_224_gelu/images/ (stored 0%)\n",
            "  adding: results/visualization/finetune/ori/vig_s_224_gelu/images/cxr_images.png (deflated 6%)\n",
            "  adding: results/zero_shot/ (stored 0%)\n",
            "  adding: results/zero_shot/ucsd/ (stored 0%)\n",
            "  adding: results/zero_shot/ucsd/vig_s_224_gelu/ (stored 0%)\n",
            "  adding: results/zero_shot/ucsd/vig_s_224_gelu/classification_results.txt (deflated 54%)\n",
            "  adding: results/zero_shot/ori/ (stored 0%)\n",
            "  adding: results/zero_shot/ori/vig_s_224_gelu/ (stored 0%)\n",
            "  adding: results/zero_shot/ori/vig_s_224_gelu/classification_results.txt (deflated 54%)\n",
            "  adding: results/finetune/ (stored 0%)\n",
            "  adding: results/finetune/ucsd/ (stored 0%)\n",
            "  adding: results/finetune/ucsd/vig_s_224_gelu/ (stored 0%)\n",
            "  adding: results/finetune/ucsd/vig_s_224_gelu/metrics_loss_epoch.png (deflated 9%)\n",
            "  adding: results/finetune/ucsd/vig_s_224_gelu/metrics_accuracy_epoch.png (deflated 6%)\n",
            "  adding: results/finetune/ucsd/vig_s_224_gelu/metrics_precision_epoch.png (deflated 6%)\n",
            "  adding: results/finetune/ucsd/vig_s_224_gelu/metrics_recall_epoch.png (deflated 4%)\n",
            "  adding: results/finetune/ucsd/vig_s_224_gelu/metrics_auc_epoch.png (deflated 6%)\n",
            "  adding: results/finetune/ucsd/vig_s_224_gelu/.ipynb_checkpoints/ (stored 0%)\n",
            "  adding: results/finetune/ucsd/vig_s_224_gelu/classification_results.txt (deflated 56%)\n",
            "  adding: results/finetune/ori/ (stored 0%)\n",
            "  adding: results/finetune/ori/vig_s_224_gelu/ (stored 0%)\n",
            "  adding: results/finetune/ori/vig_s_224_gelu/metrics_loss_epoch.png (deflated 11%)\n",
            "  adding: results/finetune/ori/vig_s_224_gelu/metrics_accuracy_epoch.png (deflated 5%)\n",
            "  adding: results/finetune/ori/vig_s_224_gelu/metrics_precision_epoch.png (deflated 5%)\n",
            "  adding: results/finetune/ori/vig_s_224_gelu/metrics_recall_epoch.png (deflated 6%)\n",
            "  adding: results/finetune/ori/vig_s_224_gelu/metrics_auc_epoch.png (deflated 4%)\n",
            "  adding: results/finetune/ori/vig_s_224_gelu/.ipynb_checkpoints/ (stored 0%)\n",
            "  adding: results/finetune/ori/vig_s_224_gelu/classification_results.txt (deflated 57%)\n"
          ]
        }
      ],
      "source": [
        "!zip -r vig_results.zip results"
      ]
    },
    {
      "cell_type": "code",
      "execution_count": 9,
      "metadata": {
        "id": "bUQJaiYgFH8W"
      },
      "outputs": [],
      "source": [
        "%mv vig_results.zip drive/MyDrive/ViG-Pediatric"
      ]
    }
  ],
  "metadata": {
    "accelerator": "GPU",
    "colab": {
      "gpuType": "A100",
      "machine_shape": "hm",
      "provenance": []
    },
    "kernelspec": {
      "display_name": "Python 3",
      "name": "python3"
    },
    "language_info": {
      "name": "python"
    }
  },
  "nbformat": 4,
  "nbformat_minor": 0
}