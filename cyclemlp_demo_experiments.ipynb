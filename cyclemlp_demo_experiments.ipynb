{
  "cells": [
    {
      "cell_type": "code",
      "execution_count": null,
      "metadata": {
        "colab": {
          "base_uri": "https://localhost:8080/"
        },
        "id": "SYlFA4SFXLHW",
        "outputId": "69e03051-7784-4969-f5aa-77a721ae1499"
      },
      "outputs": [
        {
          "output_type": "stream",
          "name": "stdout",
          "text": [
            "Cloning into 'ViG-Pediatric'...\n",
            "remote: Enumerating objects: 874, done.\u001b[K\n",
            "remote: Counting objects: 100% (392/392), done.\u001b[K\n",
            "remote: Compressing objects: 100% (266/266), done.\u001b[K\n",
            "remote: Total 874 (delta 98), reused 337 (delta 46), pack-reused 482\u001b[K\n",
            "Receiving objects: 100% (874/874), 10.11 MiB | 6.40 MiB/s, done.\n",
            "Resolving deltas: 100% (283/283), done.\n",
            "/content/ViG-Pediatric\n",
            "Submodule 'CycleMLP' (https://github.com/ShoufaChen/CycleMLP.git) registered for path 'CycleMLP'\n",
            "Submodule 'Efficient-AI-Backbones' (https://github.com/huawei-noah/Efficient-AI-Backbones.git) registered for path 'Efficient-AI-Backbones'\n",
            "Submodule 'PVT' (https://github.com/whai362/PVT.git) registered for path 'PVT'\n",
            "Cloning into '/content/ViG-Pediatric/CycleMLP'...\n",
            "Cloning into '/content/ViG-Pediatric/Efficient-AI-Backbones'...\n",
            "Cloning into '/content/ViG-Pediatric/PVT'...\n",
            "Submodule path 'CycleMLP': checked out '4e062a03e875d8dc4fbdd5dec96a918494705d38'\n",
            "Submodule path 'Efficient-AI-Backbones': checked out 'b216a124bc8c1e999233adc23176bbba82d05d8b'\n",
            "Submodule path 'PVT': checked out '57e2dfaa5a46f9050d76f306a4fcd9a7c061f520'\n",
            "/content\n"
          ]
        }
      ],
      "source": [
        "!git clone https://github.com/DanteMillerDS/ViG-Pediatric.git\n",
        "%cd ViG-Pediatric\n",
        "!git submodule init\n",
        "!git submodule update\n",
        "%cd ../"
      ]
    },
    {
      "cell_type": "code",
      "execution_count": null,
      "metadata": {
        "colab": {
          "base_uri": "https://localhost:8080/"
        },
        "id": "VQMyZvkCXDmU",
        "outputId": "29c7fb42-564a-4b8e-fc42-990af53affbf"
      },
      "outputs": [
        {
          "output_type": "stream",
          "name": "stdout",
          "text": [
            "Collecting ftfy (from -r ViG-Pediatric/requirements.txt (line 1))\n",
            "  Downloading ftfy-6.2.0-py3-none-any.whl (54 kB)\n",
            "\u001b[?25l     \u001b[90m━━━━━━━━━━━━━━━━━━━━━━━━━━━━━━━━━━━━━━━━\u001b[0m \u001b[32m0.0/54.4 kB\u001b[0m \u001b[31m?\u001b[0m eta \u001b[36m-:--:--\u001b[0m\r\u001b[2K     \u001b[90m━━━━━━━━━━━━━━━━━━━━━━━━━━━━━━━━━━━━━━━━\u001b[0m \u001b[32m54.4/54.4 kB\u001b[0m \u001b[31m2.1 MB/s\u001b[0m eta \u001b[36m0:00:00\u001b[0m\n",
            "\u001b[?25hRequirement already satisfied: regex in /usr/local/lib/python3.10/dist-packages (from -r ViG-Pediatric/requirements.txt (line 2)) (2023.12.25)\n",
            "Collecting timm (from -r ViG-Pediatric/requirements.txt (line 3))\n",
            "  Downloading timm-0.9.16-py3-none-any.whl (2.2 MB)\n",
            "\u001b[?25l     \u001b[90m━━━━━━━━━━━━━━━━━━━━━━━━━━━━━━━━━━━━━━━━\u001b[0m \u001b[32m0.0/2.2 MB\u001b[0m \u001b[31m?\u001b[0m eta \u001b[36m-:--:--\u001b[0m\r\u001b[2K     \u001b[91m━━━━━━━━━━━━━━━━━━━━━━━━━━━━━━━━━━━━━━━\u001b[0m\u001b[91m╸\u001b[0m \u001b[32m2.2/2.2 MB\u001b[0m \u001b[31m101.4 MB/s\u001b[0m eta \u001b[36m0:00:01\u001b[0m\r\u001b[2K     \u001b[90m━━━━━━━━━━━━━━━━━━━━━━━━━━━━━━━━━━━━━━━━\u001b[0m \u001b[32m2.2/2.2 MB\u001b[0m \u001b[31m61.2 MB/s\u001b[0m eta \u001b[36m0:00:00\u001b[0m\n",
            "\u001b[?25hRequirement already satisfied: tqdm in /usr/local/lib/python3.10/dist-packages (from -r ViG-Pediatric/requirements.txt (line 4)) (4.66.2)\n",
            "Requirement already satisfied: wcwidth<0.3.0,>=0.2.12 in /usr/local/lib/python3.10/dist-packages (from ftfy->-r ViG-Pediatric/requirements.txt (line 1)) (0.2.13)\n",
            "Requirement already satisfied: torch in /usr/local/lib/python3.10/dist-packages (from timm->-r ViG-Pediatric/requirements.txt (line 3)) (2.2.1+cu121)\n",
            "Requirement already satisfied: torchvision in /usr/local/lib/python3.10/dist-packages (from timm->-r ViG-Pediatric/requirements.txt (line 3)) (0.17.1+cu121)\n",
            "Requirement already satisfied: pyyaml in /usr/local/lib/python3.10/dist-packages (from timm->-r ViG-Pediatric/requirements.txt (line 3)) (6.0.1)\n",
            "Requirement already satisfied: huggingface_hub in /usr/local/lib/python3.10/dist-packages (from timm->-r ViG-Pediatric/requirements.txt (line 3)) (0.20.3)\n",
            "Requirement already satisfied: safetensors in /usr/local/lib/python3.10/dist-packages (from timm->-r ViG-Pediatric/requirements.txt (line 3)) (0.4.3)\n",
            "Requirement already satisfied: filelock in /usr/local/lib/python3.10/dist-packages (from huggingface_hub->timm->-r ViG-Pediatric/requirements.txt (line 3)) (3.13.4)\n",
            "Requirement already satisfied: fsspec>=2023.5.0 in /usr/local/lib/python3.10/dist-packages (from huggingface_hub->timm->-r ViG-Pediatric/requirements.txt (line 3)) (2023.6.0)\n",
            "Requirement already satisfied: requests in /usr/local/lib/python3.10/dist-packages (from huggingface_hub->timm->-r ViG-Pediatric/requirements.txt (line 3)) (2.31.0)\n",
            "Requirement already satisfied: typing-extensions>=3.7.4.3 in /usr/local/lib/python3.10/dist-packages (from huggingface_hub->timm->-r ViG-Pediatric/requirements.txt (line 3)) (4.11.0)\n",
            "Requirement already satisfied: packaging>=20.9 in /usr/local/lib/python3.10/dist-packages (from huggingface_hub->timm->-r ViG-Pediatric/requirements.txt (line 3)) (24.0)\n",
            "Requirement already satisfied: sympy in /usr/local/lib/python3.10/dist-packages (from torch->timm->-r ViG-Pediatric/requirements.txt (line 3)) (1.12)\n",
            "Requirement already satisfied: networkx in /usr/local/lib/python3.10/dist-packages (from torch->timm->-r ViG-Pediatric/requirements.txt (line 3)) (3.3)\n",
            "Requirement already satisfied: jinja2 in /usr/local/lib/python3.10/dist-packages (from torch->timm->-r ViG-Pediatric/requirements.txt (line 3)) (3.1.3)\n",
            "Collecting nvidia-cuda-nvrtc-cu12==12.1.105 (from torch->timm->-r ViG-Pediatric/requirements.txt (line 3))\n",
            "  Using cached nvidia_cuda_nvrtc_cu12-12.1.105-py3-none-manylinux1_x86_64.whl (23.7 MB)\n",
            "Collecting nvidia-cuda-runtime-cu12==12.1.105 (from torch->timm->-r ViG-Pediatric/requirements.txt (line 3))\n",
            "  Using cached nvidia_cuda_runtime_cu12-12.1.105-py3-none-manylinux1_x86_64.whl (823 kB)\n",
            "Collecting nvidia-cuda-cupti-cu12==12.1.105 (from torch->timm->-r ViG-Pediatric/requirements.txt (line 3))\n",
            "  Using cached nvidia_cuda_cupti_cu12-12.1.105-py3-none-manylinux1_x86_64.whl (14.1 MB)\n",
            "Collecting nvidia-cudnn-cu12==8.9.2.26 (from torch->timm->-r ViG-Pediatric/requirements.txt (line 3))\n",
            "  Using cached nvidia_cudnn_cu12-8.9.2.26-py3-none-manylinux1_x86_64.whl (731.7 MB)\n",
            "Collecting nvidia-cublas-cu12==12.1.3.1 (from torch->timm->-r ViG-Pediatric/requirements.txt (line 3))\n",
            "  Using cached nvidia_cublas_cu12-12.1.3.1-py3-none-manylinux1_x86_64.whl (410.6 MB)\n",
            "Collecting nvidia-cufft-cu12==11.0.2.54 (from torch->timm->-r ViG-Pediatric/requirements.txt (line 3))\n",
            "  Using cached nvidia_cufft_cu12-11.0.2.54-py3-none-manylinux1_x86_64.whl (121.6 MB)\n",
            "Collecting nvidia-curand-cu12==10.3.2.106 (from torch->timm->-r ViG-Pediatric/requirements.txt (line 3))\n",
            "  Using cached nvidia_curand_cu12-10.3.2.106-py3-none-manylinux1_x86_64.whl (56.5 MB)\n",
            "Collecting nvidia-cusolver-cu12==11.4.5.107 (from torch->timm->-r ViG-Pediatric/requirements.txt (line 3))\n",
            "  Using cached nvidia_cusolver_cu12-11.4.5.107-py3-none-manylinux1_x86_64.whl (124.2 MB)\n",
            "Collecting nvidia-cusparse-cu12==12.1.0.106 (from torch->timm->-r ViG-Pediatric/requirements.txt (line 3))\n",
            "  Using cached nvidia_cusparse_cu12-12.1.0.106-py3-none-manylinux1_x86_64.whl (196.0 MB)\n",
            "Collecting nvidia-nccl-cu12==2.19.3 (from torch->timm->-r ViG-Pediatric/requirements.txt (line 3))\n",
            "  Using cached nvidia_nccl_cu12-2.19.3-py3-none-manylinux1_x86_64.whl (166.0 MB)\n",
            "Collecting nvidia-nvtx-cu12==12.1.105 (from torch->timm->-r ViG-Pediatric/requirements.txt (line 3))\n",
            "  Using cached nvidia_nvtx_cu12-12.1.105-py3-none-manylinux1_x86_64.whl (99 kB)\n",
            "Requirement already satisfied: triton==2.2.0 in /usr/local/lib/python3.10/dist-packages (from torch->timm->-r ViG-Pediatric/requirements.txt (line 3)) (2.2.0)\n",
            "Collecting nvidia-nvjitlink-cu12 (from nvidia-cusolver-cu12==11.4.5.107->torch->timm->-r ViG-Pediatric/requirements.txt (line 3))\n",
            "  Using cached nvidia_nvjitlink_cu12-12.4.127-py3-none-manylinux2014_x86_64.whl (21.1 MB)\n",
            "Requirement already satisfied: numpy in /usr/local/lib/python3.10/dist-packages (from torchvision->timm->-r ViG-Pediatric/requirements.txt (line 3)) (1.25.2)\n",
            "Requirement already satisfied: pillow!=8.3.*,>=5.3.0 in /usr/local/lib/python3.10/dist-packages (from torchvision->timm->-r ViG-Pediatric/requirements.txt (line 3)) (9.4.0)\n",
            "Requirement already satisfied: MarkupSafe>=2.0 in /usr/local/lib/python3.10/dist-packages (from jinja2->torch->timm->-r ViG-Pediatric/requirements.txt (line 3)) (2.1.5)\n",
            "Requirement already satisfied: charset-normalizer<4,>=2 in /usr/local/lib/python3.10/dist-packages (from requests->huggingface_hub->timm->-r ViG-Pediatric/requirements.txt (line 3)) (3.3.2)\n",
            "Requirement already satisfied: idna<4,>=2.5 in /usr/local/lib/python3.10/dist-packages (from requests->huggingface_hub->timm->-r ViG-Pediatric/requirements.txt (line 3)) (3.7)\n",
            "Requirement already satisfied: urllib3<3,>=1.21.1 in /usr/local/lib/python3.10/dist-packages (from requests->huggingface_hub->timm->-r ViG-Pediatric/requirements.txt (line 3)) (2.0.7)\n",
            "Requirement already satisfied: certifi>=2017.4.17 in /usr/local/lib/python3.10/dist-packages (from requests->huggingface_hub->timm->-r ViG-Pediatric/requirements.txt (line 3)) (2024.2.2)\n",
            "Requirement already satisfied: mpmath>=0.19 in /usr/local/lib/python3.10/dist-packages (from sympy->torch->timm->-r ViG-Pediatric/requirements.txt (line 3)) (1.3.0)\n",
            "Installing collected packages: nvidia-nvtx-cu12, nvidia-nvjitlink-cu12, nvidia-nccl-cu12, nvidia-curand-cu12, nvidia-cufft-cu12, nvidia-cuda-runtime-cu12, nvidia-cuda-nvrtc-cu12, nvidia-cuda-cupti-cu12, nvidia-cublas-cu12, ftfy, nvidia-cusparse-cu12, nvidia-cudnn-cu12, nvidia-cusolver-cu12, timm\n",
            "Successfully installed ftfy-6.2.0 nvidia-cublas-cu12-12.1.3.1 nvidia-cuda-cupti-cu12-12.1.105 nvidia-cuda-nvrtc-cu12-12.1.105 nvidia-cuda-runtime-cu12-12.1.105 nvidia-cudnn-cu12-8.9.2.26 nvidia-cufft-cu12-11.0.2.54 nvidia-curand-cu12-10.3.2.106 nvidia-cusolver-cu12-11.4.5.107 nvidia-cusparse-cu12-12.1.0.106 nvidia-nccl-cu12-2.19.3 nvidia-nvjitlink-cu12-12.4.127 nvidia-nvtx-cu12-12.1.105 timm-0.9.16\n"
          ]
        }
      ],
      "source": [
        "!pip install -r ViG-Pediatric/requirements.txt"
      ]
    },
    {
      "cell_type": "code",
      "source": [
        "file_path = '/content/ViG-Pediatric/CycleMLP/cycle_mlp.py'  # Update this to your file's path\n",
        "custom_to_2tuple_function = \"\"\"\n",
        "import collections.abc\n",
        "\n",
        "def to_2tuple(x):\n",
        "    return tuple(x) if isinstance(x, collections.abc.Iterable) else (x, x)\n",
        "\"\"\"\n",
        "with open(file_path, 'r') as file:\n",
        "    file_contents = file.read()\n",
        "file_contents = file_contents.replace('from timm.models.layers.helpers import to_2tuple', '')\n",
        "file_contents = custom_to_2tuple_function + file_contents\n",
        "with open(file_path, 'w') as file:\n",
        "    file.write(file_contents)\n",
        "print(\"First replacement completed.\")"
      ],
      "metadata": {
        "id": "qpd89t9ca-TZ",
        "colab": {
          "base_uri": "https://localhost:8080/"
        },
        "outputId": "f4a135d9-31b0-4c6c-e232-827c24a79cf4"
      },
      "execution_count": null,
      "outputs": [
        {
          "output_type": "stream",
          "name": "stdout",
          "text": [
            "First replacement completed.\n"
          ]
        }
      ]
    },
    {
      "cell_type": "code",
      "source": [
        "%run ViG-Pediatric/scripts/cmlp/finetune_cyclemlp_b2.py"
      ],
      "metadata": {
        "colab": {
          "base_uri": "https://localhost:8080/",
          "height": 1000
        },
        "id": "zLfJb2tYKTkW",
        "outputId": "714f378b-e83f-441d-b14b-da15009bc845"
      },
      "execution_count": 4,
      "outputs": [
        {
          "metadata": {
            "tags": null
          },
          "name": "stderr",
          "output_type": "stream",
          "text": [
            "/content/ViG-Pediatric/PVT/classification/pvt_v2.py:330: UserWarning: Overwriting pvt_v2_b0 in registry with PVT.classification.pvt_v2.pvt_v2_b0. This is because the name being registered conflicts with an existing name. Please check if this is not expected.\n",
            "  def pvt_v2_b0(pretrained=False, **kwargs):\n",
            "/content/ViG-Pediatric/PVT/classification/pvt_v2.py:341: UserWarning: Overwriting pvt_v2_b1 in registry with PVT.classification.pvt_v2.pvt_v2_b1. This is because the name being registered conflicts with an existing name. Please check if this is not expected.\n",
            "  def pvt_v2_b1(pretrained=False, **kwargs):\n",
            "/content/ViG-Pediatric/PVT/classification/pvt_v2.py:352: UserWarning: Overwriting pvt_v2_b2 in registry with PVT.classification.pvt_v2.pvt_v2_b2. This is because the name being registered conflicts with an existing name. Please check if this is not expected.\n",
            "  def pvt_v2_b2(pretrained=False, **kwargs):\n",
            "/content/ViG-Pediatric/PVT/classification/pvt_v2.py:362: UserWarning: Overwriting pvt_v2_b3 in registry with PVT.classification.pvt_v2.pvt_v2_b3. This is because the name being registered conflicts with an existing name. Please check if this is not expected.\n",
            "  def pvt_v2_b3(pretrained=False, **kwargs):\n",
            "/content/ViG-Pediatric/PVT/classification/pvt_v2.py:373: UserWarning: Overwriting pvt_v2_b4 in registry with PVT.classification.pvt_v2.pvt_v2_b4. This is because the name being registered conflicts with an existing name. Please check if this is not expected.\n",
            "  def pvt_v2_b4(pretrained=False, **kwargs):\n",
            "/content/ViG-Pediatric/PVT/classification/pvt_v2.py:384: UserWarning: Overwriting pvt_v2_b5 in registry with PVT.classification.pvt_v2.pvt_v2_b5. This is because the name being registered conflicts with an existing name. Please check if this is not expected.\n",
            "  def pvt_v2_b5(pretrained=False, **kwargs):\n",
            "/content/ViG-Pediatric/PVT/classification/pvt_v2.py:395: UserWarning: Overwriting pvt_v2_b2_li in registry with PVT.classification.pvt_v2.pvt_v2_b2_li. This is because the name being registered conflicts with an existing name. Please check if this is not expected.\n",
            "  def pvt_v2_b2_li(pretrained=False, **kwargs):\n"
          ]
        },
        {
          "metadata": {
            "tags": null
          },
          "name": "stdout",
          "output_type": "stream",
          "text": [
            "Please Install mmsegmentation first for semantic segmentation.\n",
            "Please Install mmdetection first for object detection and instance segmentation.\n",
            "Mounting Google Drive...\n",
            "Mounted at /content/drive\n",
            "Copying files from Google Drive...\n",
            "Extracting zip files...\n",
            "\n",
            "7-Zip [64] 16.02 : Copyright (c) 1999-2016 Igor Pavlov : 2016-05-21\n",
            "p7zip Version 16.02 (locale=en_US.UTF-8,Utf16=on,HugeFiles=on,64 bits,12 CPUs Intel(R) Xeon(R) CPU @ 2.20GHz (50657),ASM,AES-NI)\n",
            "\n",
            "Scanning the drive for archives:\n",
            "  0M Scan /content/\b\b\b\b\b\b\b\b\b\b\b\b\b\b\b\b\b\b\b                   \b\b\b\b\b\b\b\b\b\b\b\b\b\b\b\b\b\b\b1 file, 22471493 bytes (22 MiB)\n",
            "\n",
            "Extracting archive: /content/ucsd.zip\n",
            " 66% 4096 Open\b\b\b\b\b\b\b\b\b\b\b\b\b\b              \b\b\b\b\b\b\b\b\b\b\b\b\b\b--\n",
            "Path = /content/ucsd.zip\n",
            "Type = zip\n",
            "Physical Size = 22471493\n",
            "\n",
            "  0%\b\b\b\b    \b\b\b\b 22% 1427 - __MACOSX/ucsd/Train/Positive/._VIRUS-603658-0002.jpeg\b\b\b\b\b\b\b\b\b\b\b\b\b\b\b\b\b\b\b\b\b\b\b\b\b\b\b\b\b\b\b\b\b\b\b\b\b\b\b\b\b\b\b\b\b\b\b\b\b\b\b\b\b\b\b\b\b\b\b\b\b\b\b\b\b                                                                 \b\b\b\b\b\b\b\b\b\b\b\b\b\b\b\b\b\b\b\b\b\b\b\b\b\b\b\b\b\b\b\b\b\b\b\b\b\b\b\b\b\b\b\b\b\b\b\b\b\b\b\b\b\b\b\b\b\b\b\b\b\b\b\b\b 37% 2401 - __MACOSX/ucsd/Train/Positive/._VIRUS-3745681-0002.jpeg\b\b\b\b\b\b\b\b\b\b\b\b\b\b\b\b\b\b\b\b\b\b\b\b\b\b\b\b\b\b\b\b\b\b\b\b\b\b\b\b\b\b\b\b\b\b\b\b\b\b\b\b\b\b\b\b\b\b\b\b\b\b\b\b\b\b                                                                  \b\b\b\b\b\b\b\b\b\b\b\b\b\b\b\b\b\b\b\b\b\b\b\b\b\b\b\b\b\b\b\b\b\b\b\b\b\b\b\b\b\b\b\b\b\b\b\b\b\b\b\b\b\b\b\b\b\b\b\b\b\b\b\b\b\b 45% 2989 - __MACOSX/ucsd/Train/Positive/._VIRUS-5366209-0003.jpeg\b\b\b\b\b\b\b\b\b\b\b\b\b\b\b\b\b\b\b\b\b\b\b\b\b\b\b\b\b\b\b\b\b\b\b\b\b\b\b\b\b\b\b\b\b\b\b\b\b\b\b\b\b\b\b\b\b\b\b\b\b\b\b\b\b\b                                                                  \b\b\b\b\b\b\b\b\b\b\b\b\b\b\b\b\b\b\b\b\b\b\b\b\b\b\b\b\b\b\b\b\b\b\b\b\b\b\b\b\b\b\b\b\b\b\b\b\b\b\b\b\b\b\b\b\b\b\b\b\b\b\b\b\b\b 62% 3968 - ucsd/Train/Negative/NORMAL-1243491-0001.jpeg\b\b\b\b\b\b\b\b\b\b\b\b\b\b\b\b\b\b\b\b\b\b\b\b\b\b\b\b\b\b\b\b\b\b\b\b\b\b\b\b\b\b\b\b\b\b\b\b\b\b\b\b\b\b\b\b                                                        \b\b\b\b\b\b\b\b\b\b\b\b\b\b\b\b\b\b\b\b\b\b\b\b\b\b\b\b\b\b\b\b\b\b\b\b\b\b\b\b\b\b\b\b\b\b\b\b\b\b\b\b\b\b\b\b 74% 4647 - __MACOSX/ucsd/Train/Negative/._NORMAL-9918093-0001.jpeg\b\b\b\b\b\b\b\b\b\b\b\b\b\b\b\b\b\b\b\b\b\b\b\b\b\b\b\b\b\b\b\b\b\b\b\b\b\b\b\b\b\b\b\b\b\b\b\b\b\b\b\b\b\b\b\b\b\b\b\b\b\b\b\b\b\b\b                                                                   \b\b\b\b\b\b\b\b\b\b\b\b\b\b\b\b\b\b\b\b\b\b\b\b\b\b\b\b\b\b\b\b\b\b\b\b\b\b\b\b\b\b\b\b\b\b\b\b\b\b\b\b\b\b\b\b\b\b\b\b\b\b\b\b\b\b\b 83% 5153 - __MACOSX/ucsd/Train/Negative/._NORMAL-5227306-0001.jpeg\b\b\b\b\b\b\b\b\b\b\b\b\b\b\b\b\b\b\b\b\b\b\b\b\b\b\b\b\b\b\b\b\b\b\b\b\b\b\b\b\b\b\b\b\b\b\b\b\b\b\b\b\b\b\b\b\b\b\b\b\b\b\b\b\b\b\b                                                                   \b\b\b\b\b\b\b\b\b\b\b\b\b\b\b\b\b\b\b\b\b\b\b\b\b\b\b\b\b\b\b\b\b\b\b\b\b\b\b\b\b\b\b\b\b\b\b\b\b\b\b\b\b\b\b\b\b\b\b\b\b\b\b\b\b\b\bEverything is Ok\n",
            "\n",
            "Folders: 10\n",
            "Files: 6162\n",
            "Size:       21151375\n",
            "Compressed: 22471493\n",
            "\n",
            "7-Zip [64] 16.02 : Copyright (c) 1999-2016 Igor Pavlov : 2016-05-21\n",
            "p7zip Version 16.02 (locale=en_US.UTF-8,Utf16=on,HugeFiles=on,64 bits,12 CPUs Intel(R) Xeon(R) CPU @ 2.20GHz (50657),ASM,AES-NI)\n",
            "\n",
            "Scanning the drive for archives:\n",
            "  0M Scan /content/\b\b\b\b\b\b\b\b\b\b\b\b\b\b\b\b\b\b\b                   \b\b\b\b\b\b\b\b\b\b\b\b\b\b\b\b\b\b\b1 file, 19842873 bytes (19 MiB)\n",
            "\n",
            "Extracting archive: /content/ori.zip\n",
            "--\n",
            "Path = /content/ori.zip\n",
            "Type = zip\n",
            "Physical Size = 19842873\n",
            "\n",
            "  0%\b\b\b\b    \b\b\b\b 77% 1291 - __MACOSX/ori/Train/Negative/._DJ6VDP6ESGR2.png\b\b\b\b\b\b\b\b\b\b\b\b\b\b\b\b\b\b\b\b\b\b\b\b\b\b\b\b\b\b\b\b\b\b\b\b\b\b\b\b\b\b\b\b\b\b\b\b\b\b\b\b\b\b\b\b\b\b                                                          \b\b\b\b\b\b\b\b\b\b\b\b\b\b\b\b\b\b\b\b\b\b\b\b\b\b\b\b\b\b\b\b\b\b\b\b\b\b\b\b\b\b\b\b\b\b\b\b\b\b\b\b\b\b\b\b\b\bEverything is Ok\n",
            "\n",
            "Folders: 10\n",
            "Files: 1662\n",
            "Size:       19522791\n",
            "Compressed: 19842873\n",
            "Files extracted successfully.\n"
          ]
        },
        {
          "metadata": {
            "tags": null
          },
          "name": "stderr",
          "output_type": "stream",
          "text": [
            "WARNING:matplotlib.image:Clipping input data to the valid range for imshow with RGB data ([0..1] for floats or [0..255] for integers).\n",
            "WARNING:matplotlib.image:Clipping input data to the valid range for imshow with RGB data ([0..1] for floats or [0..255] for integers).\n",
            "WARNING:matplotlib.image:Clipping input data to the valid range for imshow with RGB data ([0..1] for floats or [0..255] for integers).\n",
            "WARNING:matplotlib.image:Clipping input data to the valid range for imshow with RGB data ([0..1] for floats or [0..255] for integers).\n",
            "WARNING:matplotlib.image:Clipping input data to the valid range for imshow with RGB data ([0..1] for floats or [0..255] for integers).\n",
            "WARNING:matplotlib.image:Clipping input data to the valid range for imshow with RGB data ([0..1] for floats or [0..255] for integers).\n"
          ]
        },
        {
          "metadata": {
            "tags": null
          },
          "name": "stdout",
          "output_type": "stream",
          "text": [
            "Results saved to results/visualization/finetune/ucsd/CycleMLP_B2/images/cxr_images.png\n"
          ]
        },
        {
          "metadata": {
            "tags": null
          },
          "name": "stderr",
          "output_type": "stream",
          "text": [
            "/usr/local/lib/python3.10/dist-packages/torchvision/models/inception.py:43: FutureWarning: The default weight initialization of inception_v3 will be changed in future releases of torchvision. If you wish to keep the old behavior (which leads to long initialization times due to scipy/scipy#11299), please set init_weights=True.\n",
            "  warnings.warn(\n"
          ]
        },
        {
          "metadata": {
            "tags": null
          },
          "name": "stdout",
          "output_type": "stream",
          "text": [
            "NVIDIA library configured successfully.\n"
          ]
        },
        {
          "metadata": {
            "tags": null
          },
          "name": "stderr",
          "output_type": "stream",
          "text": [
            "/usr/lib/python3.10/multiprocessing/popen_fork.py:66: RuntimeWarning: os.fork() was called. os.fork() is incompatible with multithreaded code, and JAX is multithreaded, so this will likely lead to a deadlock.\n",
            "  self.pid = os.fork()\n",
            "Epoch 1/50, Train:   0%|          | 0/31 [00:00<?, ?it/s]/usr/local/lib/python3.10/dist-packages/torch/_inductor/compile_fx.py:140: UserWarning: TensorFloat32 tensor cores for float32 matrix multiplication available but not enabled. Consider setting `torch.set_float32_matmul_precision('high')` for better performance.\n",
            "  warnings.warn(\n",
            "Epoch 1/50, Train: 100%|██████████| 31/31 [03:44<00:00,  7.24s/it]\n",
            "Epoch 1/50, Validation: 100%|██████████| 8/8 [01:30<00:00, 11.32s/it]\n",
            "Evaluate Train: 100%|██████████| 31/31 [01:10<00:00,  2.27s/it]\n",
            "Evaluate Validation: 100%|██████████| 8/8 [00:06<00:00,  1.17it/s]\n"
          ]
        },
        {
          "metadata": {
            "tags": null
          },
          "name": "stdout",
          "output_type": "stream",
          "text": [
            "Epoch 1/50\n",
            "Train - Loss: 0.7377, Accuracy: 0.6543, Precision: 0.6738, Recall: 0.5581, AUC: 0.6567\n",
            "Val - Loss: 0.6639, Accuracy: 0.6714, Precision: 0.7037, Recall: 0.5565, AUC: 0.6716\n"
          ]
        },
        {
          "metadata": {
            "tags": null
          },
          "name": "stderr",
          "output_type": "stream",
          "text": [
            "Epoch 2/50, Train: 100%|██████████| 31/31 [00:29<00:00,  1.05it/s]\n",
            "Epoch 2/50, Validation: 100%|██████████| 8/8 [00:05<00:00,  1.38it/s]\n",
            "Evaluate Train: 100%|██████████| 31/31 [00:27<00:00,  1.12it/s]\n",
            "Evaluate Validation: 100%|██████████| 8/8 [00:06<00:00,  1.14it/s]\n"
          ]
        },
        {
          "metadata": {
            "tags": null
          },
          "name": "stdout",
          "output_type": "stream",
          "text": [
            "Epoch 2/50\n",
            "Train - Loss: 0.6544, Accuracy: 0.6894, Precision: 0.7331, Recall: 0.5665, AUC: 0.7151\n",
            "Val - Loss: 0.6342, Accuracy: 0.7079, Precision: 0.7596, Recall: 0.5816, AUC: 0.7278\n"
          ]
        },
        {
          "metadata": {
            "tags": null
          },
          "name": "stderr",
          "output_type": "stream",
          "text": [
            "Epoch 3/50, Train: 100%|██████████| 31/31 [00:30<00:00,  1.02it/s]\n",
            "Epoch 3/50, Validation: 100%|██████████| 8/8 [00:05<00:00,  1.37it/s]\n",
            "Evaluate Train: 100%|██████████| 31/31 [00:25<00:00,  1.21it/s]\n",
            "Evaluate Validation: 100%|██████████| 8/8 [00:05<00:00,  1.37it/s]\n"
          ]
        },
        {
          "metadata": {
            "tags": null
          },
          "name": "stdout",
          "output_type": "stream",
          "text": [
            "Epoch 3/50\n",
            "Train - Loss: 0.6043, Accuracy: 0.6904, Precision: 0.6236, Recall: 0.9141, AUC: 0.8111\n",
            "Val - Loss: 0.5949, Accuracy: 0.6694, Precision: 0.6111, Recall: 0.8745, AUC: 0.7952\n"
          ]
        },
        {
          "metadata": {
            "tags": null
          },
          "name": "stderr",
          "output_type": "stream",
          "text": [
            "Epoch 4/50, Train: 100%|██████████| 31/31 [00:30<00:00,  1.02it/s]\n",
            "Epoch 4/50, Validation: 100%|██████████| 8/8 [00:06<00:00,  1.28it/s]\n",
            "Evaluate Train: 100%|██████████| 31/31 [00:28<00:00,  1.09it/s]\n",
            "Evaluate Validation: 100%|██████████| 8/8 [00:06<00:00,  1.20it/s]\n"
          ]
        },
        {
          "metadata": {
            "tags": null
          },
          "name": "stdout",
          "output_type": "stream",
          "text": [
            "Epoch 4/50\n",
            "Train - Loss: 0.5522, Accuracy: 0.7890, Precision: 0.8301, Recall: 0.7110, AUC: 0.8641\n",
            "Val - Loss: 0.4992, Accuracy: 0.7667, Precision: 0.8100, Recall: 0.6778, AUC: 0.8577\n"
          ]
        },
        {
          "metadata": {
            "tags": null
          },
          "name": "stderr",
          "output_type": "stream",
          "text": [
            "Epoch 5/50, Train: 100%|██████████| 31/31 [00:29<00:00,  1.04it/s]\n",
            "Epoch 5/50, Validation: 100%|██████████| 8/8 [00:06<00:00,  1.29it/s]\n",
            "Evaluate Train: 100%|██████████| 31/31 [00:27<00:00,  1.11it/s]\n",
            "Evaluate Validation: 100%|██████████| 8/8 [00:06<00:00,  1.24it/s]\n"
          ]
        },
        {
          "metadata": {
            "tags": null
          },
          "name": "stdout",
          "output_type": "stream",
          "text": [
            "Epoch 5/50\n",
            "Train - Loss: 0.4830, Accuracy: 0.7972, Precision: 0.8449, Recall: 0.7131, AUC: 0.8874\n",
            "Val - Loss: 0.4527, Accuracy: 0.7890, Precision: 0.8358, Recall: 0.7029, AUC: 0.8775\n"
          ]
        },
        {
          "metadata": {
            "tags": null
          },
          "name": "stderr",
          "output_type": "stream",
          "text": [
            "Epoch 6/50, Train: 100%|██████████| 31/31 [00:31<00:00,  1.01s/it]\n",
            "Epoch 6/50, Validation: 100%|██████████| 8/8 [00:06<00:00,  1.23it/s]\n",
            "Evaluate Train: 100%|██████████| 31/31 [00:28<00:00,  1.09it/s]\n",
            "Evaluate Validation: 100%|██████████| 8/8 [00:06<00:00,  1.18it/s]\n"
          ]
        },
        {
          "metadata": {
            "tags": null
          },
          "name": "stdout",
          "output_type": "stream",
          "text": [
            "Epoch 6/50\n",
            "Train - Loss: 0.4850, Accuracy: 0.7880, Precision: 0.8150, Recall: 0.7288, AUC: 0.8730\n",
            "Val - Loss: 0.4635, Accuracy: 0.7769, Precision: 0.8086, Recall: 0.7071, AUC: 0.8572\n"
          ]
        },
        {
          "metadata": {
            "tags": null
          },
          "name": "stderr",
          "output_type": "stream",
          "text": [
            "Epoch 7/50, Train: 100%|██████████| 31/31 [00:30<00:00,  1.00it/s]\n",
            "Epoch 7/50, Validation: 100%|██████████| 8/8 [00:07<00:00,  1.14it/s]\n",
            "Evaluate Train: 100%|██████████| 31/31 [00:27<00:00,  1.13it/s]\n",
            "Evaluate Validation: 100%|██████████| 8/8 [00:07<00:00,  1.07it/s]\n"
          ]
        },
        {
          "metadata": {
            "tags": null
          },
          "name": "stdout",
          "output_type": "stream",
          "text": [
            "Epoch 7/50\n",
            "Train - Loss: 0.4390, Accuracy: 0.8287, Precision: 0.8280, Recall: 0.8168, AUC: 0.9077\n",
            "Val - Loss: 0.4186, Accuracy: 0.8174, Precision: 0.8197, Recall: 0.7992, AUC: 0.8991\n"
          ]
        },
        {
          "metadata": {
            "tags": null
          },
          "name": "stderr",
          "output_type": "stream",
          "text": [
            "Epoch 8/50, Train: 100%|██████████| 31/31 [00:30<00:00,  1.02it/s]\n",
            "Epoch 8/50, Validation: 100%|██████████| 8/8 [00:05<00:00,  1.34it/s]\n",
            "Evaluate Train: 100%|██████████| 31/31 [00:27<00:00,  1.12it/s]\n",
            "Evaluate Validation: 100%|██████████| 8/8 [00:06<00:00,  1.27it/s]\n"
          ]
        },
        {
          "metadata": {
            "tags": null
          },
          "name": "stdout",
          "output_type": "stream",
          "text": [
            "Epoch 8/50\n",
            "Train - Loss: 0.4168, Accuracy: 0.8317, Precision: 0.7857, Recall: 0.8984, AUC: 0.9147\n",
            "Val - Loss: 0.4082, Accuracy: 0.8316, Precision: 0.7977, Recall: 0.8745, AUC: 0.9089\n"
          ]
        },
        {
          "metadata": {
            "tags": null
          },
          "name": "stderr",
          "output_type": "stream",
          "text": [
            "Epoch 9/50, Train: 100%|██████████| 31/31 [00:30<00:00,  1.00it/s]\n",
            "Epoch 9/50, Validation: 100%|██████████| 8/8 [00:06<00:00,  1.24it/s]\n",
            "Evaluate Train: 100%|██████████| 31/31 [00:24<00:00,  1.25it/s]\n",
            "Evaluate Validation: 100%|██████████| 8/8 [00:06<00:00,  1.25it/s]\n"
          ]
        },
        {
          "metadata": {
            "tags": null
          },
          "name": "stdout",
          "output_type": "stream",
          "text": [
            "Epoch 9/50\n",
            "Train - Loss: 0.3869, Accuracy: 0.8399, Precision: 0.8008, Recall: 0.8921, AUC: 0.9274\n",
            "Val - Loss: 0.3896, Accuracy: 0.8398, Precision: 0.8053, Recall: 0.8828, AUC: 0.9195\n"
          ]
        },
        {
          "metadata": {
            "tags": null
          },
          "name": "stderr",
          "output_type": "stream",
          "text": [
            "Epoch 10/50, Train: 100%|██████████| 31/31 [00:30<00:00,  1.01it/s]\n",
            "Epoch 10/50, Validation: 100%|██████████| 8/8 [00:06<00:00,  1.24it/s]\n",
            "Evaluate Train: 100%|██████████| 31/31 [00:28<00:00,  1.08it/s]\n",
            "Evaluate Validation: 100%|██████████| 8/8 [00:05<00:00,  1.43it/s]\n"
          ]
        },
        {
          "metadata": {
            "tags": null
          },
          "name": "stdout",
          "output_type": "stream",
          "text": [
            "Epoch 10/50\n",
            "Train - Loss: 0.3621, Accuracy: 0.8602, Precision: 0.8753, Recall: 0.8304, AUC: 0.9321\n",
            "Val - Loss: 0.3766, Accuracy: 0.8418, Precision: 0.8578, Recall: 0.8075, AUC: 0.9198\n"
          ]
        },
        {
          "metadata": {
            "tags": null
          },
          "name": "stderr",
          "output_type": "stream",
          "text": [
            "Epoch 11/50, Train: 100%|██████████| 31/31 [00:30<00:00,  1.01it/s]\n",
            "Epoch 11/50, Validation: 100%|██████████| 8/8 [00:06<00:00,  1.23it/s]\n",
            "Evaluate Train: 100%|██████████| 31/31 [00:27<00:00,  1.13it/s]\n",
            "Evaluate Validation: 100%|██████████| 8/8 [00:06<00:00,  1.15it/s]\n"
          ]
        },
        {
          "metadata": {
            "tags": null
          },
          "name": "stdout",
          "output_type": "stream",
          "text": [
            "Epoch 11/50\n",
            "Train - Loss: 0.3845, Accuracy: 0.8673, Precision: 0.8998, Recall: 0.8178, AUC: 0.9411\n",
            "Val - Loss: 0.3541, Accuracy: 0.8580, Precision: 0.8967, Recall: 0.7992, AUC: 0.9279\n"
          ]
        },
        {
          "metadata": {
            "tags": null
          },
          "name": "stderr",
          "output_type": "stream",
          "text": [
            "Epoch 12/50, Train: 100%|██████████| 31/31 [00:30<00:00,  1.00it/s]\n",
            "Epoch 12/50, Validation: 100%|██████████| 8/8 [00:06<00:00,  1.24it/s]\n",
            "Evaluate Train: 100%|██████████| 31/31 [00:28<00:00,  1.09it/s]\n",
            "Evaluate Validation: 100%|██████████| 8/8 [00:06<00:00,  1.24it/s]\n"
          ]
        },
        {
          "metadata": {
            "tags": null
          },
          "name": "stdout",
          "output_type": "stream",
          "text": [
            "Epoch 12/50\n",
            "Train - Loss: 0.3271, Accuracy: 0.8693, Precision: 0.8402, Recall: 0.9026, AUC: 0.9502\n",
            "Val - Loss: 0.3226, Accuracy: 0.8763, Precision: 0.8589, Recall: 0.8912, AUC: 0.9418\n"
          ]
        },
        {
          "metadata": {
            "tags": null
          },
          "name": "stderr",
          "output_type": "stream",
          "text": [
            "Epoch 13/50, Train: 100%|██████████| 31/31 [00:30<00:00,  1.00it/s]\n",
            "Epoch 13/50, Validation: 100%|██████████| 8/8 [00:06<00:00,  1.14it/s]\n",
            "Evaluate Train: 100%|██████████| 31/31 [00:24<00:00,  1.27it/s]\n",
            "Evaluate Validation: 100%|██████████| 8/8 [00:06<00:00,  1.18it/s]\n"
          ]
        },
        {
          "metadata": {
            "tags": null
          },
          "name": "stdout",
          "output_type": "stream",
          "text": [
            "Epoch 13/50\n",
            "Train - Loss: 0.2878, Accuracy: 0.9009, Precision: 0.8934, Recall: 0.9037, AUC: 0.9612\n",
            "Val - Loss: 0.2919, Accuracy: 0.8844, Precision: 0.8856, Recall: 0.8745, AUC: 0.9492\n"
          ]
        },
        {
          "metadata": {
            "tags": null
          },
          "name": "stderr",
          "output_type": "stream",
          "text": [
            "Epoch 14/50, Train: 100%|██████████| 31/31 [00:30<00:00,  1.01it/s]\n",
            "Epoch 14/50, Validation: 100%|██████████| 8/8 [00:07<00:00,  1.09it/s]\n",
            "Evaluate Train: 100%|██████████| 31/31 [00:26<00:00,  1.17it/s]\n",
            "Evaluate Validation: 100%|██████████| 8/8 [00:06<00:00,  1.32it/s]\n"
          ]
        },
        {
          "metadata": {
            "tags": null
          },
          "name": "stdout",
          "output_type": "stream",
          "text": [
            "Epoch 14/50\n",
            "Train - Loss: 0.2946, Accuracy: 0.9085, Precision: 0.9189, Recall: 0.8901, AUC: 0.9661\n",
            "Val - Loss: 0.2898, Accuracy: 0.8864, Precision: 0.9031, Recall: 0.8577, AUC: 0.9611\n"
          ]
        },
        {
          "metadata": {
            "tags": null
          },
          "name": "stderr",
          "output_type": "stream",
          "text": [
            "Epoch 15/50, Train: 100%|██████████| 31/31 [00:30<00:00,  1.02it/s]\n",
            "Epoch 15/50, Validation: 100%|██████████| 8/8 [00:05<00:00,  1.35it/s]\n",
            "Evaluate Train: 100%|██████████| 31/31 [00:27<00:00,  1.14it/s]\n",
            "Evaluate Validation: 100%|██████████| 8/8 [00:05<00:00,  1.37it/s]\n"
          ]
        },
        {
          "metadata": {
            "tags": null
          },
          "name": "stdout",
          "output_type": "stream",
          "text": [
            "Epoch 15/50\n",
            "Train - Loss: 0.2564, Accuracy: 0.8841, Precision: 0.9595, Recall: 0.7948, AUC: 0.9642\n",
            "Val - Loss: 0.3113, Accuracy: 0.8763, Precision: 0.9684, Recall: 0.7699, AUC: 0.9666\n"
          ]
        },
        {
          "metadata": {
            "tags": null
          },
          "name": "stderr",
          "output_type": "stream",
          "text": [
            "Epoch 16/50, Train: 100%|██████████| 31/31 [00:30<00:00,  1.00it/s]\n",
            "Epoch 16/50, Validation: 100%|██████████| 8/8 [00:06<00:00,  1.24it/s]\n",
            "Evaluate Train: 100%|██████████| 31/31 [00:25<00:00,  1.22it/s]\n",
            "Evaluate Validation: 100%|██████████| 8/8 [00:06<00:00,  1.25it/s]\n"
          ]
        },
        {
          "metadata": {
            "tags": null
          },
          "name": "stdout",
          "output_type": "stream",
          "text": [
            "Epoch 16/50\n",
            "Train - Loss: 0.2572, Accuracy: 0.8526, Precision: 0.9612, Recall: 0.7257, AUC: 0.9656\n",
            "Val - Loss: 0.3987, Accuracy: 0.8479, Precision: 0.9607, Recall: 0.7155, AUC: 0.9513\n"
          ]
        },
        {
          "metadata": {
            "tags": null
          },
          "name": "stderr",
          "output_type": "stream",
          "text": [
            "Epoch 17/50, Train: 100%|██████████| 31/31 [00:30<00:00,  1.00it/s]\n",
            "Epoch 17/50, Validation: 100%|██████████| 8/8 [00:06<00:00,  1.23it/s]\n",
            "Evaluate Train: 100%|██████████| 31/31 [00:27<00:00,  1.13it/s]\n",
            "Evaluate Validation: 100%|██████████| 8/8 [00:06<00:00,  1.26it/s]\n"
          ]
        },
        {
          "metadata": {
            "tags": null
          },
          "name": "stdout",
          "output_type": "stream",
          "text": [
            "Epoch 17/50\n",
            "Train - Loss: 0.3006, Accuracy: 0.9120, Precision: 0.9116, Recall: 0.9068, AUC: 0.9700\n",
            "Val - Loss: 0.2664, Accuracy: 0.8925, Precision: 0.8941, Recall: 0.8828, AUC: 0.9627\n"
          ]
        },
        {
          "metadata": {
            "tags": null
          },
          "name": "stderr",
          "output_type": "stream",
          "text": [
            "Epoch 18/50, Train: 100%|██████████| 31/31 [00:29<00:00,  1.05it/s]\n",
            "Epoch 18/50, Validation: 100%|██████████| 8/8 [00:06<00:00,  1.27it/s]\n",
            "Evaluate Train: 100%|██████████| 31/31 [00:24<00:00,  1.25it/s]\n",
            "Evaluate Validation: 100%|██████████| 8/8 [00:06<00:00,  1.29it/s]\n"
          ]
        },
        {
          "metadata": {
            "tags": null
          },
          "name": "stdout",
          "output_type": "stream",
          "text": [
            "Epoch 18/50\n",
            "Train - Loss: 0.2404, Accuracy: 0.8760, Precision: 0.9599, Recall: 0.7770, AUC: 0.9700\n",
            "Val - Loss: 0.3242, Accuracy: 0.8661, Precision: 0.9577, Recall: 0.7573, AUC: 0.9626\n"
          ]
        },
        {
          "metadata": {
            "tags": null
          },
          "name": "stderr",
          "output_type": "stream",
          "text": [
            "Epoch 19/50, Train: 100%|██████████| 31/31 [00:30<00:00,  1.00it/s]\n",
            "Epoch 19/50, Validation: 100%|██████████| 8/8 [00:06<00:00,  1.24it/s]\n",
            "Evaluate Train: 100%|██████████| 31/31 [00:30<00:00,  1.02it/s]\n",
            "Evaluate Validation: 100%|██████████| 8/8 [00:06<00:00,  1.16it/s]\n"
          ]
        },
        {
          "metadata": {
            "tags": null
          },
          "name": "stdout",
          "output_type": "stream",
          "text": [
            "Epoch 19/50\n",
            "Train - Loss: 0.2609, Accuracy: 0.9166, Precision: 0.9194, Recall: 0.9079, AUC: 0.9720\n",
            "Val - Loss: 0.2321, Accuracy: 0.9087, Precision: 0.9181, Recall: 0.8912, AUC: 0.9669\n"
          ]
        },
        {
          "metadata": {
            "tags": null
          },
          "name": "stderr",
          "output_type": "stream",
          "text": [
            "Epoch 20/50, Train: 100%|██████████| 31/31 [00:29<00:00,  1.05it/s]\n",
            "Epoch 20/50, Validation: 100%|██████████| 8/8 [00:06<00:00,  1.19it/s]\n",
            "Evaluate Train: 100%|██████████| 31/31 [00:26<00:00,  1.17it/s]\n",
            "Evaluate Validation: 100%|██████████| 8/8 [00:06<00:00,  1.26it/s]\n"
          ]
        },
        {
          "metadata": {
            "tags": null
          },
          "name": "stdout",
          "output_type": "stream",
          "text": [
            "Epoch 20/50\n",
            "Train - Loss: 0.2430, Accuracy: 0.8998, Precision: 0.9622, Recall: 0.8262, AUC: 0.9760\n",
            "Val - Loss: 0.2499, Accuracy: 0.8966, Precision: 0.9653, Recall: 0.8159, AUC: 0.9735\n"
          ]
        },
        {
          "metadata": {
            "tags": null
          },
          "name": "stderr",
          "output_type": "stream",
          "text": [
            "Epoch 21/50, Train: 100%|██████████| 31/31 [00:29<00:00,  1.05it/s]\n",
            "Epoch 21/50, Validation: 100%|██████████| 8/8 [00:06<00:00,  1.22it/s]\n",
            "Evaluate Train: 100%|██████████| 31/31 [00:23<00:00,  1.34it/s]\n",
            "Evaluate Validation: 100%|██████████| 8/8 [00:06<00:00,  1.18it/s]\n"
          ]
        },
        {
          "metadata": {
            "tags": null
          },
          "name": "stdout",
          "output_type": "stream",
          "text": [
            "Epoch 21/50\n",
            "Train - Loss: 0.2277, Accuracy: 0.9243, Precision: 0.9315, Recall: 0.9110, AUC: 0.9773\n",
            "Val - Loss: 0.2162, Accuracy: 0.9168, Precision: 0.9304, Recall: 0.8954, AUC: 0.9682\n"
          ]
        },
        {
          "metadata": {
            "tags": null
          },
          "name": "stderr",
          "output_type": "stream",
          "text": [
            "Epoch 22/50, Train: 100%|██████████| 31/31 [00:30<00:00,  1.00it/s]\n",
            "Epoch 22/50, Validation: 100%|██████████| 8/8 [00:07<00:00,  1.11it/s]\n",
            "Evaluate Train: 100%|██████████| 31/31 [00:25<00:00,  1.20it/s]\n",
            "Evaluate Validation: 100%|██████████| 8/8 [00:06<00:00,  1.25it/s]\n"
          ]
        },
        {
          "metadata": {
            "tags": null
          },
          "name": "stdout",
          "output_type": "stream",
          "text": [
            "Epoch 22/50\n",
            "Train - Loss: 0.2070, Accuracy: 0.9100, Precision: 0.9502, Recall: 0.8597, AUC: 0.9750\n",
            "Val - Loss: 0.2587, Accuracy: 0.8945, Precision: 0.9431, Recall: 0.8326, AUC: 0.9699\n"
          ]
        },
        {
          "metadata": {
            "tags": null
          },
          "name": "stderr",
          "output_type": "stream",
          "text": [
            "Epoch 23/50, Train: 100%|██████████| 31/31 [00:30<00:00,  1.02it/s]\n",
            "Epoch 23/50, Validation: 100%|██████████| 8/8 [00:06<00:00,  1.22it/s]\n",
            "Evaluate Train: 100%|██████████| 31/31 [00:27<00:00,  1.14it/s]\n",
            "Evaluate Validation: 100%|██████████| 8/8 [00:05<00:00,  1.38it/s]\n"
          ]
        },
        {
          "metadata": {
            "tags": null
          },
          "name": "stdout",
          "output_type": "stream",
          "text": [
            "Epoch 23/50\n",
            "Train - Loss: 0.2104, Accuracy: 0.9268, Precision: 0.9291, Recall: 0.9194, AUC: 0.9783\n",
            "Val - Loss: 0.2023, Accuracy: 0.9128, Precision: 0.9118, Recall: 0.9079, AUC: 0.9736\n"
          ]
        },
        {
          "metadata": {
            "tags": null
          },
          "name": "stderr",
          "output_type": "stream",
          "text": [
            "Epoch 24/50, Train: 100%|██████████| 31/31 [00:31<00:00,  1.02s/it]\n",
            "Epoch 24/50, Validation: 100%|██████████| 8/8 [00:05<00:00,  1.42it/s]\n",
            "Evaluate Train: 100%|██████████| 31/31 [00:24<00:00,  1.28it/s]\n",
            "Evaluate Validation: 100%|██████████| 8/8 [00:06<00:00,  1.29it/s]\n"
          ]
        },
        {
          "metadata": {
            "tags": null
          },
          "name": "stdout",
          "output_type": "stream",
          "text": [
            "Epoch 24/50\n",
            "Train - Loss: 0.1957, Accuracy: 0.9354, Precision: 0.9251, Recall: 0.9435, AUC: 0.9819\n",
            "Val - Loss: 0.2211, Accuracy: 0.9108, Precision: 0.9114, Recall: 0.9038, AUC: 0.9666\n"
          ]
        },
        {
          "metadata": {
            "tags": null
          },
          "name": "stderr",
          "output_type": "stream",
          "text": [
            "Epoch 25/50, Train: 100%|██████████| 31/31 [00:30<00:00,  1.00it/s]\n",
            "Epoch 25/50, Validation: 100%|██████████| 8/8 [00:06<00:00,  1.25it/s]\n",
            "Evaluate Train: 100%|██████████| 31/31 [00:25<00:00,  1.20it/s]\n",
            "Evaluate Validation: 100%|██████████| 8/8 [00:05<00:00,  1.41it/s]\n"
          ]
        },
        {
          "metadata": {
            "tags": null
          },
          "name": "stdout",
          "output_type": "stream",
          "text": [
            "Epoch 25/50\n",
            "Train - Loss: 0.2181, Accuracy: 0.9090, Precision: 0.8660, Recall: 0.9613, AUC: 0.9799\n",
            "Val - Loss: 0.2362, Accuracy: 0.9189, Precision: 0.8783, Recall: 0.9665, AUC: 0.9763\n"
          ]
        },
        {
          "metadata": {
            "tags": null
          },
          "name": "stderr",
          "output_type": "stream",
          "text": [
            "Epoch 26/50, Train: 100%|██████████| 31/31 [00:30<00:00,  1.00it/s]\n",
            "Epoch 26/50, Validation: 100%|██████████| 8/8 [00:06<00:00,  1.32it/s]\n",
            "Evaluate Train: 100%|██████████| 31/31 [00:23<00:00,  1.31it/s]\n",
            "Evaluate Validation: 100%|██████████| 8/8 [00:05<00:00,  1.36it/s]\n"
          ]
        },
        {
          "metadata": {
            "tags": null
          },
          "name": "stdout",
          "output_type": "stream",
          "text": [
            "Epoch 26/50\n",
            "Train - Loss: 0.1918, Accuracy: 0.9263, Precision: 0.9383, Recall: 0.9079, AUC: 0.9794\n",
            "Val - Loss: 0.2249, Accuracy: 0.9108, Precision: 0.9258, Recall: 0.8870, AUC: 0.9690\n"
          ]
        },
        {
          "metadata": {
            "tags": null
          },
          "name": "stderr",
          "output_type": "stream",
          "text": [
            "Epoch 27/50, Train: 100%|██████████| 31/31 [00:29<00:00,  1.06it/s]\n",
            "Epoch 27/50, Validation: 100%|██████████| 8/8 [00:05<00:00,  1.41it/s]\n",
            "Evaluate Train: 100%|██████████| 31/31 [00:23<00:00,  1.33it/s]\n",
            "Evaluate Validation: 100%|██████████| 8/8 [00:05<00:00,  1.36it/s]\n"
          ]
        },
        {
          "metadata": {
            "tags": null
          },
          "name": "stdout",
          "output_type": "stream",
          "text": [
            "Epoch 27/50\n",
            "Train - Loss: 0.2136, Accuracy: 0.9293, Precision: 0.9493, Recall: 0.9026, AUC: 0.9814\n",
            "Val - Loss: 0.1984, Accuracy: 0.9310, Precision: 0.9437, Recall: 0.9121, AUC: 0.9747\n"
          ]
        },
        {
          "output_type": "stream",
          "name": "stderr",
          "text": [
            "Epoch 28/50, Train: 100%|██████████| 31/31 [00:29<00:00,  1.06it/s]\n",
            "Epoch 28/50, Validation: 100%|██████████| 8/8 [00:05<00:00,  1.37it/s]\n",
            "Evaluate Train: 100%|██████████| 31/31 [00:22<00:00,  1.35it/s]\n",
            "Evaluate Validation: 100%|██████████| 8/8 [00:05<00:00,  1.36it/s]\n"
          ]
        },
        {
          "output_type": "stream",
          "name": "stdout",
          "text": [
            "Epoch 28/50\n",
            "Train - Loss: 0.2226, Accuracy: 0.9110, Precision: 0.9768, Recall: 0.8366, AUC: 0.9804\n",
            "Val - Loss: 0.2739, Accuracy: 0.8905, Precision: 0.9557, Recall: 0.8117, AUC: 0.9728\n"
          ]
        },
        {
          "output_type": "stream",
          "name": "stderr",
          "text": [
            "Epoch 29/50, Train: 100%|██████████| 31/31 [00:30<00:00,  1.02it/s]\n",
            "Epoch 29/50, Validation: 100%|██████████| 8/8 [00:05<00:00,  1.44it/s]\n",
            "Evaluate Train: 100%|██████████| 31/31 [00:22<00:00,  1.38it/s]\n",
            "Evaluate Validation: 100%|██████████| 8/8 [00:05<00:00,  1.48it/s]\n"
          ]
        },
        {
          "output_type": "stream",
          "name": "stdout",
          "text": [
            "Epoch 29/50\n",
            "Train - Loss: 0.1839, Accuracy: 0.9309, Precision: 0.9244, Recall: 0.9340, AUC: 0.9835\n",
            "Val - Loss: 0.1826, Accuracy: 0.9290, Precision: 0.9080, Recall: 0.9498, AUC: 0.9787\n"
          ]
        },
        {
          "output_type": "stream",
          "name": "stderr",
          "text": [
            "Epoch 30/50, Train: 100%|██████████| 31/31 [00:26<00:00,  1.18it/s]\n",
            "Epoch 30/50, Validation: 100%|██████████| 8/8 [00:05<00:00,  1.50it/s]\n",
            "Evaluate Train: 100%|██████████| 31/31 [00:20<00:00,  1.51it/s]\n",
            "Evaluate Validation: 100%|██████████| 8/8 [00:05<00:00,  1.43it/s]\n"
          ]
        },
        {
          "output_type": "stream",
          "name": "stdout",
          "text": [
            "Epoch 30/50\n",
            "Train - Loss: 0.1938, Accuracy: 0.9253, Precision: 0.9687, Recall: 0.8743, AUC: 0.9835\n",
            "Val - Loss: 0.2344, Accuracy: 0.9168, Precision: 0.9500, Recall: 0.8745, AUC: 0.9768\n"
          ]
        },
        {
          "output_type": "stream",
          "name": "stderr",
          "text": [
            "Epoch 31/50, Train: 100%|██████████| 31/31 [00:26<00:00,  1.15it/s]\n",
            "Epoch 31/50, Validation: 100%|██████████| 8/8 [00:05<00:00,  1.49it/s]\n",
            "Evaluate Train: 100%|██████████| 31/31 [00:21<00:00,  1.47it/s]\n",
            "Evaluate Validation: 100%|██████████| 8/8 [00:05<00:00,  1.45it/s]\n"
          ]
        },
        {
          "output_type": "stream",
          "name": "stdout",
          "text": [
            "Epoch 31/50\n",
            "Train - Loss: 0.1901, Accuracy: 0.9339, Precision: 0.9328, Recall: 0.9309, AUC: 0.9832\n",
            "Val - Loss: 0.1856, Accuracy: 0.9310, Precision: 0.9253, Recall: 0.9331, AUC: 0.9796\n"
          ]
        },
        {
          "output_type": "stream",
          "name": "stderr",
          "text": [
            "Epoch 32/50, Train: 100%|██████████| 31/31 [00:26<00:00,  1.18it/s]\n",
            "Epoch 32/50, Validation: 100%|██████████| 8/8 [00:05<00:00,  1.50it/s]\n",
            "Evaluate Train: 100%|██████████| 31/31 [00:21<00:00,  1.47it/s]\n",
            "Evaluate Validation: 100%|██████████| 8/8 [00:05<00:00,  1.51it/s]\n"
          ]
        },
        {
          "output_type": "stream",
          "name": "stdout",
          "text": [
            "Epoch 32/50\n",
            "Train - Loss: 0.1792, Accuracy: 0.9334, Precision: 0.9364, Recall: 0.9257, AUC: 0.9841\n",
            "Val - Loss: 0.2014, Accuracy: 0.9290, Precision: 0.9286, Recall: 0.9247, AUC: 0.9758\n"
          ]
        },
        {
          "output_type": "stream",
          "name": "stderr",
          "text": [
            "Epoch 33/50, Train: 100%|██████████| 31/31 [00:26<00:00,  1.16it/s]\n",
            "Epoch 33/50, Validation: 100%|██████████| 8/8 [00:05<00:00,  1.49it/s]\n",
            "Evaluate Train: 100%|██████████| 31/31 [00:20<00:00,  1.51it/s]\n",
            "Evaluate Validation: 100%|██████████| 8/8 [00:05<00:00,  1.47it/s]\n"
          ]
        },
        {
          "output_type": "stream",
          "name": "stdout",
          "text": [
            "Epoch 33/50\n",
            "Train - Loss: 0.2027, Accuracy: 0.9324, Precision: 0.9220, Recall: 0.9403, AUC: 0.9823\n",
            "Val - Loss: 0.1929, Accuracy: 0.9229, Precision: 0.9102, Recall: 0.9331, AUC: 0.9738\n"
          ]
        },
        {
          "output_type": "stream",
          "name": "stderr",
          "text": [
            "Epoch 34/50, Train: 100%|██████████| 31/31 [00:26<00:00,  1.18it/s]\n",
            "Epoch 34/50, Validation: 100%|██████████| 8/8 [00:05<00:00,  1.37it/s]\n",
            "Evaluate Train: 100%|██████████| 31/31 [00:22<00:00,  1.38it/s]\n",
            "Evaluate Validation: 100%|██████████| 8/8 [00:05<00:00,  1.44it/s]\n"
          ]
        },
        {
          "output_type": "stream",
          "name": "stdout",
          "text": [
            "Epoch 34/50\n",
            "Train - Loss: 0.1757, Accuracy: 0.9375, Precision: 0.9388, Recall: 0.9319, AUC: 0.9845\n",
            "Val - Loss: 0.1791, Accuracy: 0.9391, Precision: 0.9336, Recall: 0.9414, AUC: 0.9777\n"
          ]
        },
        {
          "output_type": "stream",
          "name": "stderr",
          "text": [
            "Epoch 35/50, Train: 100%|██████████| 31/31 [00:26<00:00,  1.16it/s]\n",
            "Epoch 35/50, Validation: 100%|██████████| 8/8 [00:05<00:00,  1.37it/s]\n",
            "Evaluate Train: 100%|██████████| 31/31 [00:21<00:00,  1.46it/s]\n",
            "Evaluate Validation: 100%|██████████| 8/8 [00:05<00:00,  1.54it/s]\n"
          ]
        },
        {
          "output_type": "stream",
          "name": "stdout",
          "text": [
            "Epoch 35/50\n",
            "Train - Loss: 0.1709, Accuracy: 0.9278, Precision: 0.9376, Recall: 0.9120, AUC: 0.9815\n",
            "Val - Loss: 0.1849, Accuracy: 0.9290, Precision: 0.9397, Recall: 0.9121, AUC: 0.9787\n"
          ]
        },
        {
          "output_type": "stream",
          "name": "stderr",
          "text": [
            "Epoch 36/50, Train: 100%|██████████| 31/31 [00:27<00:00,  1.14it/s]\n",
            "Epoch 36/50, Validation: 100%|██████████| 8/8 [00:05<00:00,  1.54it/s]\n",
            "Evaluate Train: 100%|██████████| 31/31 [00:21<00:00,  1.47it/s]\n",
            "Evaluate Validation: 100%|██████████| 8/8 [00:05<00:00,  1.48it/s]\n"
          ]
        },
        {
          "output_type": "stream",
          "name": "stdout",
          "text": [
            "Epoch 36/50\n",
            "Train - Loss: 0.1877, Accuracy: 0.9415, Precision: 0.9384, Recall: 0.9414, AUC: 0.9858\n",
            "Val - Loss: 0.1938, Accuracy: 0.9331, Precision: 0.9256, Recall: 0.9372, AUC: 0.9789\n"
          ]
        },
        {
          "output_type": "stream",
          "name": "stderr",
          "text": [
            "Epoch 37/50, Train: 100%|██████████| 31/31 [00:26<00:00,  1.15it/s]\n",
            "Epoch 37/50, Validation: 100%|██████████| 8/8 [00:05<00:00,  1.46it/s]\n",
            "Evaluate Train: 100%|██████████| 31/31 [00:21<00:00,  1.46it/s]\n",
            "Evaluate Validation: 100%|██████████| 8/8 [00:05<00:00,  1.53it/s]\n"
          ]
        },
        {
          "output_type": "stream",
          "name": "stdout",
          "text": [
            "Epoch 37/50\n",
            "Train - Loss: 0.1692, Accuracy: 0.9344, Precision: 0.9147, Recall: 0.9539, AUC: 0.9844\n",
            "Val - Loss: 0.1936, Accuracy: 0.9270, Precision: 0.9076, Recall: 0.9456, AUC: 0.9743\n"
          ]
        },
        {
          "output_type": "stream",
          "name": "stderr",
          "text": [
            "Epoch 38/50, Train: 100%|██████████| 31/31 [00:26<00:00,  1.16it/s]\n",
            "Epoch 38/50, Validation: 100%|██████████| 8/8 [00:05<00:00,  1.50it/s]\n",
            "Evaluate Train: 100%|██████████| 31/31 [00:21<00:00,  1.45it/s]\n",
            "Evaluate Validation: 100%|██████████| 8/8 [00:05<00:00,  1.55it/s]\n"
          ]
        },
        {
          "output_type": "stream",
          "name": "stdout",
          "text": [
            "Epoch 38/50\n",
            "Train - Loss: 0.2055, Accuracy: 0.9222, Precision: 0.8826, Recall: 0.9686, AUC: 0.9811\n",
            "Val - Loss: 0.2382, Accuracy: 0.9108, Precision: 0.8707, Recall: 0.9582, AUC: 0.9731\n"
          ]
        },
        {
          "output_type": "stream",
          "name": "stderr",
          "text": [
            "Epoch 39/50, Train: 100%|██████████| 31/31 [00:26<00:00,  1.19it/s]\n",
            "Epoch 39/50, Validation: 100%|██████████| 8/8 [00:05<00:00,  1.50it/s]\n",
            "Evaluate Train: 100%|██████████| 31/31 [00:21<00:00,  1.48it/s]\n",
            "Evaluate Validation: 100%|██████████| 8/8 [00:05<00:00,  1.50it/s]\n"
          ]
        },
        {
          "output_type": "stream",
          "name": "stdout",
          "text": [
            "Epoch 39/50\n",
            "Train - Loss: 0.1883, Accuracy: 0.9309, Precision: 0.9091, Recall: 0.9529, AUC: 0.9844\n",
            "Val - Loss: 0.2262, Accuracy: 0.9209, Precision: 0.8937, Recall: 0.9498, AUC: 0.9781\n"
          ]
        },
        {
          "output_type": "stream",
          "name": "stderr",
          "text": [
            "Epoch 40/50, Train: 100%|██████████| 31/31 [00:26<00:00,  1.15it/s]\n",
            "Epoch 40/50, Validation: 100%|██████████| 8/8 [00:05<00:00,  1.53it/s]\n",
            "Evaluate Train: 100%|██████████| 31/31 [00:20<00:00,  1.49it/s]\n",
            "Evaluate Validation: 100%|██████████| 8/8 [00:05<00:00,  1.56it/s]\n"
          ]
        },
        {
          "output_type": "stream",
          "name": "stdout",
          "text": [
            "Epoch 40/50\n",
            "Train - Loss: 0.1703, Accuracy: 0.9354, Precision: 0.9549, Recall: 0.9099, AUC: 0.9839\n",
            "Val - Loss: 0.2038, Accuracy: 0.9249, Precision: 0.9391, Recall: 0.9038, AUC: 0.9765\n"
          ]
        },
        {
          "output_type": "stream",
          "name": "stderr",
          "text": [
            "Epoch 41/50, Train: 100%|██████████| 31/31 [00:26<00:00,  1.15it/s]\n",
            "Epoch 41/50, Validation: 100%|██████████| 8/8 [00:05<00:00,  1.50it/s]\n",
            "Evaluate Train: 100%|██████████| 31/31 [00:20<00:00,  1.49it/s]\n",
            "Evaluate Validation: 100%|██████████| 8/8 [00:05<00:00,  1.54it/s]\n"
          ]
        },
        {
          "output_type": "stream",
          "name": "stdout",
          "text": [
            "Epoch 41/50\n",
            "Train - Loss: 0.1808, Accuracy: 0.9334, Precision: 0.9527, Recall: 0.9079, AUC: 0.9877\n",
            "Val - Loss: 0.2084, Accuracy: 0.9452, Precision: 0.9454, Recall: 0.9414, AUC: 0.9822\n"
          ]
        },
        {
          "output_type": "stream",
          "name": "stderr",
          "text": [
            "Epoch 42/50, Train: 100%|██████████| 31/31 [00:26<00:00,  1.17it/s]\n",
            "Epoch 42/50, Validation: 100%|██████████| 8/8 [00:05<00:00,  1.48it/s]\n",
            "Evaluate Train: 100%|██████████| 31/31 [00:20<00:00,  1.49it/s]\n",
            "Evaluate Validation: 100%|██████████| 8/8 [00:05<00:00,  1.53it/s]\n"
          ]
        },
        {
          "output_type": "stream",
          "name": "stdout",
          "text": [
            "Epoch 42/50\n",
            "Train - Loss: 0.1675, Accuracy: 0.9431, Precision: 0.9547, Recall: 0.9267, AUC: 0.9874\n",
            "Val - Loss: 0.1533, Accuracy: 0.9391, Precision: 0.9485, Recall: 0.9247, AUC: 0.9820\n"
          ]
        },
        {
          "output_type": "stream",
          "name": "stderr",
          "text": [
            "Epoch 43/50, Train: 100%|██████████| 31/31 [00:26<00:00,  1.15it/s]\n",
            "Epoch 43/50, Validation: 100%|██████████| 8/8 [00:05<00:00,  1.49it/s]\n",
            "Evaluate Train: 100%|██████████| 31/31 [00:20<00:00,  1.51it/s]\n",
            "Evaluate Validation: 100%|██████████| 8/8 [00:05<00:00,  1.48it/s]\n"
          ]
        },
        {
          "output_type": "stream",
          "name": "stdout",
          "text": [
            "Epoch 43/50\n",
            "Train - Loss: 0.1669, Accuracy: 0.9344, Precision: 0.9489, Recall: 0.9141, AUC: 0.9850\n",
            "Val - Loss: 0.1695, Accuracy: 0.9229, Precision: 0.9277, Recall: 0.9121, AUC: 0.9778\n"
          ]
        },
        {
          "output_type": "stream",
          "name": "stderr",
          "text": [
            "Epoch 44/50, Train: 100%|██████████| 31/31 [00:26<00:00,  1.17it/s]\n",
            "Epoch 44/50, Validation: 100%|██████████| 8/8 [00:05<00:00,  1.48it/s]\n",
            "Evaluate Train: 100%|██████████| 31/31 [00:23<00:00,  1.34it/s]\n",
            "Evaluate Validation: 100%|██████████| 8/8 [00:05<00:00,  1.51it/s]\n"
          ]
        },
        {
          "output_type": "stream",
          "name": "stdout",
          "text": [
            "Epoch 44/50\n",
            "Train - Loss: 0.1830, Accuracy: 0.9446, Precision: 0.9471, Recall: 0.9382, AUC: 0.9878\n",
            "Val - Loss: 0.1736, Accuracy: 0.9351, Precision: 0.9404, Recall: 0.9247, AUC: 0.9788\n"
          ]
        },
        {
          "output_type": "stream",
          "name": "stderr",
          "text": [
            "Epoch 45/50, Train: 100%|██████████| 31/31 [00:27<00:00,  1.14it/s]\n",
            "Epoch 45/50, Validation: 100%|██████████| 8/8 [00:05<00:00,  1.44it/s]\n",
            "Evaluate Train: 100%|██████████| 31/31 [00:23<00:00,  1.35it/s]\n",
            "Evaluate Validation: 100%|██████████| 8/8 [00:05<00:00,  1.52it/s]\n"
          ]
        },
        {
          "output_type": "stream",
          "name": "stdout",
          "text": [
            "Epoch 45/50\n",
            "Train - Loss: 0.1607, Accuracy: 0.9415, Precision: 0.9321, Recall: 0.9487, AUC: 0.9874\n",
            "Val - Loss: 0.1815, Accuracy: 0.9331, Precision: 0.9055, Recall: 0.9623, AUC: 0.9781\n"
          ]
        },
        {
          "output_type": "stream",
          "name": "stderr",
          "text": [
            "Epoch 46/50, Train: 100%|██████████| 31/31 [00:27<00:00,  1.14it/s]\n",
            "Epoch 46/50, Validation: 100%|██████████| 8/8 [00:05<00:00,  1.48it/s]\n",
            "Evaluate Train: 100%|██████████| 31/31 [00:20<00:00,  1.48it/s]\n",
            "Evaluate Validation: 100%|██████████| 8/8 [00:05<00:00,  1.54it/s]\n"
          ]
        },
        {
          "output_type": "stream",
          "name": "stdout",
          "text": [
            "Epoch 46/50\n",
            "Train - Loss: 0.1490, Accuracy: 0.9420, Precision: 0.9488, Recall: 0.9309, AUC: 0.9877\n",
            "Val - Loss: 0.1687, Accuracy: 0.9290, Precision: 0.9250, Recall: 0.9289, AUC: 0.9803\n"
          ]
        },
        {
          "output_type": "stream",
          "name": "stderr",
          "text": [
            "Epoch 47/50, Train: 100%|██████████| 31/31 [00:27<00:00,  1.15it/s]\n",
            "Epoch 47/50, Validation: 100%|██████████| 8/8 [00:05<00:00,  1.49it/s]\n",
            "Evaluate Train: 100%|██████████| 31/31 [00:20<00:00,  1.49it/s]\n",
            "Evaluate Validation: 100%|██████████| 8/8 [00:05<00:00,  1.53it/s]\n"
          ]
        },
        {
          "output_type": "stream",
          "name": "stdout",
          "text": [
            "Epoch 47/50\n",
            "Train - Loss: 0.1573, Accuracy: 0.9049, Precision: 0.8478, Recall: 0.9801, AUC: 0.9843\n",
            "Val - Loss: 0.2412, Accuracy: 0.9108, Precision: 0.8545, Recall: 0.9833, AUC: 0.9767\n"
          ]
        },
        {
          "output_type": "stream",
          "name": "stderr",
          "text": [
            "Epoch 48/50, Train: 100%|██████████| 31/31 [00:27<00:00,  1.15it/s]\n",
            "Epoch 48/50, Validation: 100%|██████████| 8/8 [00:05<00:00,  1.45it/s]\n",
            "Evaluate Train: 100%|██████████| 31/31 [00:20<00:00,  1.50it/s]\n",
            "Evaluate Validation: 100%|██████████| 8/8 [00:05<00:00,  1.50it/s]\n"
          ]
        },
        {
          "output_type": "stream",
          "name": "stdout",
          "text": [
            "Epoch 48/50\n",
            "Train - Loss: 0.1562, Accuracy: 0.9349, Precision: 0.9672, Recall: 0.8963, AUC: 0.9868\n",
            "Val - Loss: 0.2015, Accuracy: 0.9189, Precision: 0.9502, Recall: 0.8787, AUC: 0.9793\n"
          ]
        },
        {
          "output_type": "stream",
          "name": "stderr",
          "text": [
            "Epoch 49/50, Train: 100%|██████████| 31/31 [00:27<00:00,  1.14it/s]\n",
            "Epoch 49/50, Validation: 100%|██████████| 8/8 [00:05<00:00,  1.38it/s]\n",
            "Evaluate Train: 100%|██████████| 31/31 [00:21<00:00,  1.47it/s]\n",
            "Evaluate Validation: 100%|██████████| 8/8 [00:05<00:00,  1.54it/s]\n"
          ]
        },
        {
          "output_type": "stream",
          "name": "stdout",
          "text": [
            "Epoch 49/50\n",
            "Train - Loss: 0.1567, Accuracy: 0.9395, Precision: 0.9634, Recall: 0.9099, AUC: 0.9880\n",
            "Val - Loss: 0.1903, Accuracy: 0.9310, Precision: 0.9476, Recall: 0.9079, AUC: 0.9807\n"
          ]
        },
        {
          "output_type": "stream",
          "name": "stderr",
          "text": [
            "Epoch 50/50, Train: 100%|██████████| 31/31 [00:28<00:00,  1.08it/s]\n",
            "Epoch 50/50, Validation: 100%|██████████| 8/8 [00:05<00:00,  1.34it/s]\n",
            "Evaluate Train: 100%|██████████| 31/31 [00:22<00:00,  1.35it/s]\n",
            "Evaluate Validation: 100%|██████████| 8/8 [00:05<00:00,  1.46it/s]\n"
          ]
        },
        {
          "output_type": "stream",
          "name": "stdout",
          "text": [
            "Epoch 50/50\n",
            "Train - Loss: 0.1572, Accuracy: 0.9415, Precision: 0.9667, Recall: 0.9110, AUC: 0.9887\n",
            "Val - Loss: 0.1946, Accuracy: 0.9270, Precision: 0.9552, Recall: 0.8912, AUC: 0.9801\n"
          ]
        },
        {
          "output_type": "stream",
          "name": "stderr",
          "text": [
            "Evaluate Test: 100%|██████████| 10/10 [00:01<00:00,  7.24it/s]\n"
          ]
        },
        {
          "output_type": "stream",
          "name": "stdout",
          "text": [
            "\n",
            "Accuracy: 0.9269, Precision: 0.9601, Recall: 0.8863, AUC: 0.9835\n",
            "Results saved to results/finetune/ucsd/CycleMLP_B2/classification_results.txt\n"
          ]
        },
        {
          "output_type": "stream",
          "name": "stderr",
          "text": [
            "WARNING:matplotlib.image:Clipping input data to the valid range for imshow with RGB data ([0..1] for floats or [0..255] for integers).\n",
            "WARNING:matplotlib.image:Clipping input data to the valid range for imshow with RGB data ([0..1] for floats or [0..255] for integers).\n",
            "WARNING:matplotlib.image:Clipping input data to the valid range for imshow with RGB data ([0..1] for floats or [0..255] for integers).\n",
            "WARNING:matplotlib.image:Clipping input data to the valid range for imshow with RGB data ([0..1] for floats or [0..255] for integers).\n",
            "WARNING:matplotlib.image:Clipping input data to the valid range for imshow with RGB data ([0..1] for floats or [0..255] for integers).\n",
            "WARNING:matplotlib.image:Clipping input data to the valid range for imshow with RGB data ([0..1] for floats or [0..255] for integers).\n"
          ]
        },
        {
          "output_type": "stream",
          "name": "stdout",
          "text": [
            "Results saved to results/visualization/zero_shot/ori/CycleMLP_B2/images/cxr_images.png\n"
          ]
        },
        {
          "output_type": "stream",
          "name": "stderr",
          "text": [
            "Evaluate Train: 100%|██████████| 9/9 [00:00<00:00, 10.16it/s]\n",
            "Evaluate Validation: 100%|██████████| 3/3 [00:00<00:00, 13.04it/s]\n",
            "Evaluate Test: 100%|██████████| 3/3 [00:00<00:00,  8.04it/s]\n"
          ]
        },
        {
          "output_type": "stream",
          "name": "stdout",
          "text": [
            "Results saved to results/zero_shot/ori/CycleMLP_B2/classification_results.txt\n"
          ]
        },
        {
          "output_type": "stream",
          "name": "stderr",
          "text": [
            "WARNING:matplotlib.image:Clipping input data to the valid range for imshow with RGB data ([0..1] for floats or [0..255] for integers).\n",
            "WARNING:matplotlib.image:Clipping input data to the valid range for imshow with RGB data ([0..1] for floats or [0..255] for integers).\n",
            "WARNING:matplotlib.image:Clipping input data to the valid range for imshow with RGB data ([0..1] for floats or [0..255] for integers).\n",
            "WARNING:matplotlib.image:Clipping input data to the valid range for imshow with RGB data ([0..1] for floats or [0..255] for integers).\n",
            "WARNING:matplotlib.image:Clipping input data to the valid range for imshow with RGB data ([0..1] for floats or [0..255] for integers).\n",
            "WARNING:matplotlib.image:Clipping input data to the valid range for imshow with RGB data ([0..1] for floats or [0..255] for integers).\n"
          ]
        },
        {
          "output_type": "stream",
          "name": "stdout",
          "text": [
            "Results saved to results/visualization/finetune/ori/CycleMLP_B2/images/cxr_images.png\n"
          ]
        },
        {
          "output_type": "stream",
          "name": "stderr",
          "text": [
            "/usr/local/lib/python3.10/dist-packages/torchvision/models/inception.py:43: FutureWarning: The default weight initialization of inception_v3 will be changed in future releases of torchvision. If you wish to keep the old behavior (which leads to long initialization times due to scipy/scipy#11299), please set init_weights=True.\n",
            "  warnings.warn(\n"
          ]
        },
        {
          "output_type": "stream",
          "name": "stdout",
          "text": [
            "NVIDIA library configured successfully.\n"
          ]
        },
        {
          "output_type": "stream",
          "name": "stderr",
          "text": [
            "Epoch 1/50, Train: 100%|██████████| 9/9 [01:25<00:00,  9.54s/it]\n",
            "Epoch 1/50, Validation: 100%|██████████| 3/3 [01:17<00:00, 25.96s/it]\n",
            "Evaluate Train: 100%|██████████| 9/9 [00:40<00:00,  4.50s/it]\n",
            "Evaluate Validation: 100%|██████████| 3/3 [00:01<00:00,  1.95it/s]\n",
            "/usr/local/lib/python3.10/dist-packages/sklearn/metrics/_classification.py:1344: UndefinedMetricWarning: Precision and F-score are ill-defined and being set to 0.0 in labels with no predicted samples. Use `zero_division` parameter to control this behavior.\n",
            "  _warn_prf(average, modifier, msg_start, len(result))\n",
            "/usr/local/lib/python3.10/dist-packages/sklearn/metrics/_classification.py:1344: UndefinedMetricWarning: Precision and F-score are ill-defined and being set to 0.0 in labels with no predicted samples. Use `zero_division` parameter to control this behavior.\n",
            "  _warn_prf(average, modifier, msg_start, len(result))\n",
            "/usr/local/lib/python3.10/dist-packages/sklearn/metrics/_classification.py:1344: UndefinedMetricWarning: Precision and F-score are ill-defined and being set to 0.0 in labels with no predicted samples. Use `zero_division` parameter to control this behavior.\n",
            "  _warn_prf(average, modifier, msg_start, len(result))\n"
          ]
        },
        {
          "output_type": "stream",
          "name": "stdout",
          "text": [
            "Epoch 1/50\n",
            "Train - Loss: 0.7476, Accuracy: 0.4848, Precision: 0.4876, Recall: 0.9884, AUC: 0.5488\n",
            "Val - Loss: 0.6935, Accuracy: 0.4924, Precision: 0.4924, Recall: 1.0000, AUC: 0.5924\n"
          ]
        },
        {
          "output_type": "stream",
          "name": "stderr",
          "text": [
            "Epoch 2/50, Train: 100%|██████████| 9/9 [00:06<00:00,  1.29it/s]\n",
            "Epoch 2/50, Validation: 100%|██████████| 3/3 [00:01<00:00,  1.81it/s]\n",
            "Evaluate Train: 100%|██████████| 9/9 [00:05<00:00,  1.62it/s]\n",
            "Evaluate Validation: 100%|██████████| 3/3 [00:01<00:00,  1.95it/s]\n"
          ]
        },
        {
          "output_type": "stream",
          "name": "stdout",
          "text": [
            "Epoch 2/50\n",
            "Train - Loss: 0.7302, Accuracy: 0.5456, Precision: 0.5525, Recall: 0.3876, AUC: 0.5502\n",
            "Val - Loss: 0.6812, Accuracy: 0.4697, Precision: 0.4286, Recall: 0.2308, AUC: 0.5238\n"
          ]
        },
        {
          "output_type": "stream",
          "name": "stderr",
          "text": [
            "Epoch 3/50, Train: 100%|██████████| 9/9 [00:06<00:00,  1.31it/s]\n",
            "Epoch 3/50, Validation: 100%|██████████| 3/3 [00:01<00:00,  1.59it/s]\n",
            "Evaluate Train: 100%|██████████| 9/9 [00:05<00:00,  1.63it/s]\n",
            "Evaluate Validation: 100%|██████████| 3/3 [00:01<00:00,  2.06it/s]\n"
          ]
        },
        {
          "output_type": "stream",
          "name": "stdout",
          "text": [
            "Epoch 3/50\n",
            "Train - Loss: 0.6869, Accuracy: 0.5932, Precision: 0.5521, Recall: 0.9031, AUC: 0.7058\n",
            "Val - Loss: 0.6966, Accuracy: 0.5606, Precision: 0.5333, Recall: 0.8615, AUC: 0.6877\n"
          ]
        },
        {
          "output_type": "stream",
          "name": "stderr",
          "text": [
            "Epoch 4/50, Train: 100%|██████████| 9/9 [00:07<00:00,  1.27it/s]\n",
            "Epoch 4/50, Validation: 100%|██████████| 3/3 [00:01<00:00,  2.17it/s]\n",
            "Evaluate Train: 100%|██████████| 9/9 [00:05<00:00,  1.56it/s]\n",
            "Evaluate Validation: 100%|██████████| 3/3 [00:01<00:00,  2.02it/s]\n"
          ]
        },
        {
          "output_type": "stream",
          "name": "stdout",
          "text": [
            "Epoch 4/50\n",
            "Train - Loss: 0.6864, Accuracy: 0.6084, Precision: 0.6429, Recall: 0.4535, AUC: 0.6726\n",
            "Val - Loss: 0.6544, Accuracy: 0.5909, Precision: 0.6410, Recall: 0.3846, AUC: 0.6377\n"
          ]
        },
        {
          "output_type": "stream",
          "name": "stderr",
          "text": [
            "Epoch 5/50, Train: 100%|██████████| 9/9 [00:07<00:00,  1.22it/s]\n",
            "Epoch 5/50, Validation: 100%|██████████| 3/3 [00:01<00:00,  1.88it/s]\n",
            "Evaluate Train: 100%|██████████| 9/9 [00:05<00:00,  1.55it/s]\n",
            "Evaluate Validation: 100%|██████████| 3/3 [00:01<00:00,  2.09it/s]\n"
          ]
        },
        {
          "output_type": "stream",
          "name": "stdout",
          "text": [
            "Epoch 5/50\n",
            "Train - Loss: 0.6743, Accuracy: 0.6122, Precision: 0.6195, Recall: 0.5426, AUC: 0.6408\n",
            "Val - Loss: 0.7104, Accuracy: 0.5530, Precision: 0.5556, Recall: 0.4615, AUC: 0.6044\n"
          ]
        },
        {
          "output_type": "stream",
          "name": "stderr",
          "text": [
            "Epoch 6/50, Train: 100%|██████████| 9/9 [00:06<00:00,  1.30it/s]\n",
            "Epoch 6/50, Validation: 100%|██████████| 3/3 [00:01<00:00,  2.18it/s]\n",
            "Evaluate Train: 100%|██████████| 9/9 [00:05<00:00,  1.55it/s]\n",
            "Evaluate Validation: 100%|██████████| 3/3 [00:01<00:00,  1.89it/s]\n"
          ]
        },
        {
          "output_type": "stream",
          "name": "stdout",
          "text": [
            "Epoch 6/50\n",
            "Train - Loss: 0.6657, Accuracy: 0.6274, Precision: 0.6802, Recall: 0.4535, AUC: 0.7083\n",
            "Val - Loss: 0.6811, Accuracy: 0.6136, Precision: 0.6667, Recall: 0.4308, AUC: 0.6840\n"
          ]
        },
        {
          "output_type": "stream",
          "name": "stderr",
          "text": [
            "Epoch 7/50, Train: 100%|██████████| 9/9 [00:07<00:00,  1.25it/s]\n",
            "Epoch 7/50, Validation: 100%|██████████| 3/3 [00:01<00:00,  2.07it/s]\n",
            "Evaluate Train: 100%|██████████| 9/9 [00:05<00:00,  1.63it/s]\n",
            "Evaluate Validation: 100%|██████████| 3/3 [00:01<00:00,  2.03it/s]\n"
          ]
        },
        {
          "output_type": "stream",
          "name": "stdout",
          "text": [
            "Epoch 7/50\n",
            "Train - Loss: 0.6372, Accuracy: 0.7300, Precision: 0.7014, Recall: 0.7829, AUC: 0.8125\n",
            "Val - Loss: 0.6316, Accuracy: 0.7121, Precision: 0.6709, Recall: 0.8154, AUC: 0.8237\n"
          ]
        },
        {
          "output_type": "stream",
          "name": "stderr",
          "text": [
            "Epoch 8/50, Train: 100%|██████████| 9/9 [00:07<00:00,  1.27it/s]\n",
            "Epoch 8/50, Validation: 100%|██████████| 3/3 [00:01<00:00,  1.82it/s]\n",
            "Evaluate Train: 100%|██████████| 9/9 [00:05<00:00,  1.63it/s]\n",
            "Evaluate Validation: 100%|██████████| 3/3 [00:01<00:00,  1.91it/s]\n"
          ]
        },
        {
          "output_type": "stream",
          "name": "stdout",
          "text": [
            "Epoch 8/50\n",
            "Train - Loss: 0.6222, Accuracy: 0.7471, Precision: 0.7990, Recall: 0.6473, AUC: 0.8000\n",
            "Val - Loss: 0.6375, Accuracy: 0.7652, Precision: 0.8148, Recall: 0.6769, AUC: 0.8044\n"
          ]
        },
        {
          "output_type": "stream",
          "name": "stderr",
          "text": [
            "Epoch 9/50, Train: 100%|██████████| 9/9 [00:07<00:00,  1.26it/s]\n",
            "Epoch 9/50, Validation: 100%|██████████| 3/3 [00:01<00:00,  2.04it/s]\n",
            "Evaluate Train: 100%|██████████| 9/9 [00:05<00:00,  1.64it/s]\n",
            "Evaluate Validation: 100%|██████████| 3/3 [00:01<00:00,  1.99it/s]\n"
          ]
        },
        {
          "output_type": "stream",
          "name": "stdout",
          "text": [
            "Epoch 9/50\n",
            "Train - Loss: 0.5539, Accuracy: 0.7490, Precision: 0.8150, Recall: 0.6318, AUC: 0.8191\n",
            "Val - Loss: 0.5619, Accuracy: 0.7955, Precision: 0.8276, Recall: 0.7385, AUC: 0.8170\n"
          ]
        },
        {
          "output_type": "stream",
          "name": "stderr",
          "text": [
            "Epoch 10/50, Train: 100%|██████████| 9/9 [00:07<00:00,  1.28it/s]\n",
            "Epoch 10/50, Validation: 100%|██████████| 3/3 [00:01<00:00,  2.07it/s]\n",
            "Evaluate Train: 100%|██████████| 9/9 [00:05<00:00,  1.62it/s]\n",
            "Evaluate Validation: 100%|██████████| 3/3 [00:01<00:00,  1.99it/s]\n"
          ]
        },
        {
          "output_type": "stream",
          "name": "stdout",
          "text": [
            "Epoch 10/50\n",
            "Train - Loss: 0.5042, Accuracy: 0.7110, Precision: 0.7103, Recall: 0.6938, AUC: 0.7735\n",
            "Val - Loss: 0.5920, Accuracy: 0.7500, Precision: 0.7759, Recall: 0.6923, AUC: 0.7828\n"
          ]
        },
        {
          "output_type": "stream",
          "name": "stderr",
          "text": [
            "Epoch 11/50, Train: 100%|██████████| 9/9 [00:07<00:00,  1.25it/s]\n",
            "Epoch 11/50, Validation: 100%|██████████| 3/3 [00:01<00:00,  1.82it/s]\n",
            "Evaluate Train: 100%|██████████| 9/9 [00:06<00:00,  1.49it/s]\n",
            "Evaluate Validation: 100%|██████████| 3/3 [00:01<00:00,  1.88it/s]\n"
          ]
        },
        {
          "output_type": "stream",
          "name": "stdout",
          "text": [
            "Epoch 11/50\n",
            "Train - Loss: 0.5553, Accuracy: 0.7909, Precision: 0.8109, Recall: 0.7481, AUC: 0.8330\n",
            "Val - Loss: 0.4689, Accuracy: 0.7652, Precision: 0.7742, Recall: 0.7385, AUC: 0.8319\n"
          ]
        },
        {
          "output_type": "stream",
          "name": "stderr",
          "text": [
            "Epoch 12/50, Train: 100%|██████████| 9/9 [00:07<00:00,  1.25it/s]\n",
            "Epoch 12/50, Validation: 100%|██████████| 3/3 [00:01<00:00,  2.04it/s]\n",
            "Evaluate Train: 100%|██████████| 9/9 [00:05<00:00,  1.63it/s]\n",
            "Evaluate Validation: 100%|██████████| 3/3 [00:01<00:00,  2.04it/s]\n"
          ]
        },
        {
          "output_type": "stream",
          "name": "stdout",
          "text": [
            "Epoch 12/50\n",
            "Train - Loss: 0.5208, Accuracy: 0.7643, Precision: 0.7815, Recall: 0.7209, AUC: 0.8239\n",
            "Val - Loss: 0.4967, Accuracy: 0.7879, Precision: 0.7846, Recall: 0.7846, AUC: 0.8328\n"
          ]
        },
        {
          "output_type": "stream",
          "name": "stderr",
          "text": [
            "Epoch 13/50, Train: 100%|██████████| 9/9 [00:06<00:00,  1.34it/s]\n",
            "Epoch 13/50, Validation: 100%|██████████| 3/3 [00:01<00:00,  2.16it/s]\n",
            "Evaluate Train: 100%|██████████| 9/9 [00:06<00:00,  1.49it/s]\n",
            "Evaluate Validation: 100%|██████████| 3/3 [00:01<00:00,  1.86it/s]\n"
          ]
        },
        {
          "output_type": "stream",
          "name": "stdout",
          "text": [
            "Epoch 13/50\n",
            "Train - Loss: 0.5541, Accuracy: 0.7852, Precision: 0.9191, Recall: 0.6163, AUC: 0.8391\n",
            "Val - Loss: 0.5926, Accuracy: 0.7955, Precision: 0.8800, Recall: 0.6769, AUC: 0.8436\n"
          ]
        },
        {
          "output_type": "stream",
          "name": "stderr",
          "text": [
            "Epoch 14/50, Train: 100%|██████████| 9/9 [00:07<00:00,  1.21it/s]\n",
            "Epoch 14/50, Validation: 100%|██████████| 3/3 [00:01<00:00,  2.16it/s]\n",
            "Evaluate Train: 100%|██████████| 9/9 [00:05<00:00,  1.57it/s]\n",
            "Evaluate Validation: 100%|██████████| 3/3 [00:01<00:00,  1.90it/s]\n"
          ]
        },
        {
          "output_type": "stream",
          "name": "stdout",
          "text": [
            "Epoch 14/50\n",
            "Train - Loss: 0.5442, Accuracy: 0.6920, Precision: 0.6455, Recall: 0.8256, AUC: 0.8318\n",
            "Val - Loss: 0.4237, Accuracy: 0.7424, Precision: 0.7067, Recall: 0.8154, AUC: 0.8464\n"
          ]
        },
        {
          "output_type": "stream",
          "name": "stderr",
          "text": [
            "Epoch 15/50, Train: 100%|██████████| 9/9 [00:06<00:00,  1.32it/s]\n",
            "Epoch 15/50, Validation: 100%|██████████| 3/3 [00:01<00:00,  2.17it/s]\n",
            "Evaluate Train: 100%|██████████| 9/9 [00:05<00:00,  1.57it/s]\n",
            "Evaluate Validation: 100%|██████████| 3/3 [00:01<00:00,  1.90it/s]\n"
          ]
        },
        {
          "output_type": "stream",
          "name": "stdout",
          "text": [
            "Epoch 15/50\n",
            "Train - Loss: 0.5119, Accuracy: 0.7662, Precision: 0.7606, Recall: 0.7636, AUC: 0.8284\n",
            "Val - Loss: 0.5400, Accuracy: 0.7803, Precision: 0.7571, Recall: 0.8154, AUC: 0.8411\n"
          ]
        },
        {
          "output_type": "stream",
          "name": "stderr",
          "text": [
            "Epoch 16/50, Train: 100%|██████████| 9/9 [00:07<00:00,  1.25it/s]\n",
            "Epoch 16/50, Validation: 100%|██████████| 3/3 [00:01<00:00,  2.04it/s]\n",
            "Evaluate Train: 100%|██████████| 9/9 [00:05<00:00,  1.64it/s]\n",
            "Evaluate Validation: 100%|██████████| 3/3 [00:01<00:00,  1.99it/s]\n"
          ]
        },
        {
          "output_type": "stream",
          "name": "stdout",
          "text": [
            "Epoch 16/50\n",
            "Train - Loss: 0.4848, Accuracy: 0.7700, Precision: 0.7665, Recall: 0.7636, AUC: 0.8373\n",
            "Val - Loss: 0.8664, Accuracy: 0.7500, Precision: 0.7424, Recall: 0.7538, AUC: 0.8464\n"
          ]
        },
        {
          "output_type": "stream",
          "name": "stderr",
          "text": [
            "Epoch 17/50, Train: 100%|██████████| 9/9 [00:06<00:00,  1.31it/s]\n",
            "Epoch 17/50, Validation: 100%|██████████| 3/3 [00:01<00:00,  2.06it/s]\n",
            "Evaluate Train: 100%|██████████| 9/9 [00:05<00:00,  1.63it/s]\n",
            "Evaluate Validation: 100%|██████████| 3/3 [00:01<00:00,  2.10it/s]\n"
          ]
        },
        {
          "output_type": "stream",
          "name": "stdout",
          "text": [
            "Epoch 17/50\n",
            "Train - Loss: 0.4683, Accuracy: 0.7681, Precision: 0.7906, Recall: 0.7171, AUC: 0.8397\n",
            "Val - Loss: 0.6249, Accuracy: 0.7879, Precision: 0.8136, Recall: 0.7385, AUC: 0.8457\n"
          ]
        },
        {
          "output_type": "stream",
          "name": "stderr",
          "text": [
            "Epoch 18/50, Train: 100%|██████████| 9/9 [00:07<00:00,  1.28it/s]\n",
            "Epoch 18/50, Validation: 100%|██████████| 3/3 [00:01<00:00,  1.80it/s]\n",
            "Evaluate Train: 100%|██████████| 9/9 [00:05<00:00,  1.63it/s]\n",
            "Evaluate Validation: 100%|██████████| 3/3 [00:01<00:00,  1.90it/s]\n"
          ]
        },
        {
          "output_type": "stream",
          "name": "stdout",
          "text": [
            "Epoch 18/50\n",
            "Train - Loss: 0.4931, Accuracy: 0.8004, Precision: 0.8341, Recall: 0.7403, AUC: 0.8451\n",
            "Val - Loss: 0.4298, Accuracy: 0.8106, Precision: 0.8333, Recall: 0.7692, AUC: 0.8432\n"
          ]
        },
        {
          "output_type": "stream",
          "name": "stderr",
          "text": [
            "Epoch 19/50, Train: 100%|██████████| 9/9 [00:08<00:00,  1.11it/s]\n",
            "Epoch 19/50, Validation: 100%|██████████| 3/3 [00:01<00:00,  1.57it/s]\n",
            "Evaluate Train: 100%|██████████| 9/9 [00:06<00:00,  1.48it/s]\n",
            "Evaluate Validation: 100%|██████████| 3/3 [00:01<00:00,  2.00it/s]\n"
          ]
        },
        {
          "output_type": "stream",
          "name": "stdout",
          "text": [
            "Epoch 19/50\n",
            "Train - Loss: 0.4768, Accuracy: 0.7224, Precision: 0.6905, Recall: 0.7868, AUC: 0.8329\n",
            "Val - Loss: 0.4395, Accuracy: 0.7500, Precision: 0.7051, Recall: 0.8462, AUC: 0.8549\n"
          ]
        },
        {
          "output_type": "stream",
          "name": "stderr",
          "text": [
            "Epoch 20/50, Train: 100%|██████████| 9/9 [00:07<00:00,  1.18it/s]\n",
            "Epoch 20/50, Validation: 100%|██████████| 3/3 [00:01<00:00,  2.04it/s]\n",
            "Evaluate Train: 100%|██████████| 9/9 [00:06<00:00,  1.44it/s]\n",
            "Evaluate Validation: 100%|██████████| 3/3 [00:01<00:00,  2.11it/s]\n"
          ]
        },
        {
          "output_type": "stream",
          "name": "stdout",
          "text": [
            "Epoch 20/50\n",
            "Train - Loss: 0.5218, Accuracy: 0.7928, Precision: 0.8670, Recall: 0.6822, AUC: 0.8502\n",
            "Val - Loss: 0.5056, Accuracy: 0.7955, Precision: 0.8393, Recall: 0.7231, AUC: 0.8409\n"
          ]
        },
        {
          "output_type": "stream",
          "name": "stderr",
          "text": [
            "Epoch 21/50, Train: 100%|██████████| 9/9 [00:06<00:00,  1.30it/s]\n",
            "Epoch 21/50, Validation: 100%|██████████| 3/3 [00:01<00:00,  2.04it/s]\n",
            "Evaluate Train: 100%|██████████| 9/9 [00:05<00:00,  1.59it/s]\n",
            "Evaluate Validation: 100%|██████████| 3/3 [00:01<00:00,  2.10it/s]\n"
          ]
        },
        {
          "output_type": "stream",
          "name": "stdout",
          "text": [
            "Epoch 21/50\n",
            "Train - Loss: 0.4933, Accuracy: 0.7757, Precision: 0.9321, Recall: 0.5853, AUC: 0.8318\n",
            "Val - Loss: 0.4630, Accuracy: 0.7576, Precision: 0.8667, Recall: 0.6000, AUC: 0.8611\n"
          ]
        },
        {
          "output_type": "stream",
          "name": "stderr",
          "text": [
            "Epoch 22/50, Train: 100%|██████████| 9/9 [00:07<00:00,  1.25it/s]\n",
            "Epoch 22/50, Validation: 100%|██████████| 3/3 [00:01<00:00,  2.03it/s]\n",
            "Evaluate Train: 100%|██████████| 9/9 [00:06<00:00,  1.49it/s]\n",
            "Evaluate Validation: 100%|██████████| 3/3 [00:01<00:00,  2.11it/s]\n"
          ]
        },
        {
          "output_type": "stream",
          "name": "stdout",
          "text": [
            "Epoch 22/50\n",
            "Train - Loss: 0.4853, Accuracy: 0.7909, Precision: 0.8978, Recall: 0.6473, AUC: 0.8425\n",
            "Val - Loss: 0.5193, Accuracy: 0.8030, Precision: 0.8980, Recall: 0.6769, AUC: 0.8533\n"
          ]
        },
        {
          "output_type": "stream",
          "name": "stderr",
          "text": [
            "Epoch 23/50, Train: 100%|██████████| 9/9 [00:06<00:00,  1.29it/s]\n",
            "Epoch 23/50, Validation: 100%|██████████| 3/3 [00:01<00:00,  2.03it/s]\n",
            "Evaluate Train: 100%|██████████| 9/9 [00:06<00:00,  1.49it/s]\n",
            "Evaluate Validation: 100%|██████████| 3/3 [00:01<00:00,  2.09it/s]\n"
          ]
        },
        {
          "output_type": "stream",
          "name": "stdout",
          "text": [
            "Epoch 23/50\n",
            "Train - Loss: 0.4929, Accuracy: 0.7490, Precision: 0.7266, Recall: 0.7829, AUC: 0.8398\n",
            "Val - Loss: 0.3640, Accuracy: 0.7348, Precision: 0.7083, Recall: 0.7846, AUC: 0.8521\n"
          ]
        },
        {
          "output_type": "stream",
          "name": "stderr",
          "text": [
            "Epoch 24/50, Train: 100%|██████████| 9/9 [00:07<00:00,  1.18it/s]\n",
            "Epoch 24/50, Validation: 100%|██████████| 3/3 [00:01<00:00,  2.03it/s]\n",
            "Evaluate Train: 100%|██████████| 9/9 [00:06<00:00,  1.45it/s]\n",
            "Evaluate Validation: 100%|██████████| 3/3 [00:01<00:00,  2.11it/s]\n"
          ]
        },
        {
          "output_type": "stream",
          "name": "stdout",
          "text": [
            "Epoch 24/50\n",
            "Train - Loss: 0.4904, Accuracy: 0.7795, Precision: 0.8008, Recall: 0.7326, AUC: 0.8358\n",
            "Val - Loss: 0.5091, Accuracy: 0.8106, Precision: 0.8226, Recall: 0.7846, AUC: 0.8728\n"
          ]
        },
        {
          "output_type": "stream",
          "name": "stderr",
          "text": [
            "Epoch 25/50, Train: 100%|██████████| 9/9 [00:07<00:00,  1.23it/s]\n",
            "Epoch 25/50, Validation: 100%|██████████| 3/3 [00:01<00:00,  1.96it/s]\n",
            "Evaluate Train: 100%|██████████| 9/9 [00:06<00:00,  1.48it/s]\n",
            "Evaluate Validation: 100%|██████████| 3/3 [00:01<00:00,  1.95it/s]\n"
          ]
        },
        {
          "output_type": "stream",
          "name": "stdout",
          "text": [
            "Epoch 25/50\n",
            "Train - Loss: 0.4879, Accuracy: 0.7947, Precision: 0.9032, Recall: 0.6512, AUC: 0.8433\n",
            "Val - Loss: 0.5846, Accuracy: 0.7803, Precision: 0.8462, Recall: 0.6769, AUC: 0.8540\n"
          ]
        },
        {
          "output_type": "stream",
          "name": "stderr",
          "text": [
            "Epoch 26/50, Train: 100%|██████████| 9/9 [00:08<00:00,  1.11it/s]\n",
            "Epoch 26/50, Validation: 100%|██████████| 3/3 [00:01<00:00,  1.58it/s]\n",
            "Evaluate Train: 100%|██████████| 9/9 [00:06<00:00,  1.48it/s]\n",
            "Evaluate Validation: 100%|██████████| 3/3 [00:01<00:00,  1.99it/s]\n"
          ]
        },
        {
          "output_type": "stream",
          "name": "stdout",
          "text": [
            "Epoch 26/50\n",
            "Train - Loss: 0.4863, Accuracy: 0.7871, Precision: 0.8093, Recall: 0.7403, AUC: 0.8409\n",
            "Val - Loss: 0.4027, Accuracy: 0.7879, Precision: 0.7937, Recall: 0.7692, AUC: 0.8790\n"
          ]
        },
        {
          "output_type": "stream",
          "name": "stderr",
          "text": [
            "Epoch 27/50, Train: 100%|██████████| 9/9 [00:07<00:00,  1.21it/s]\n",
            "Epoch 27/50, Validation: 100%|██████████| 3/3 [00:01<00:00,  2.10it/s]\n",
            "Evaluate Train: 100%|██████████| 9/9 [00:06<00:00,  1.39it/s]\n",
            "Evaluate Validation: 100%|██████████| 3/3 [00:01<00:00,  2.09it/s]\n"
          ]
        },
        {
          "output_type": "stream",
          "name": "stdout",
          "text": [
            "Epoch 27/50\n",
            "Train - Loss: 0.4820, Accuracy: 0.7605, Precision: 0.7340, Recall: 0.8023, AUC: 0.8470\n",
            "Val - Loss: 0.4190, Accuracy: 0.7348, Precision: 0.7083, Recall: 0.7846, AUC: 0.8317\n"
          ]
        },
        {
          "output_type": "stream",
          "name": "stderr",
          "text": [
            "Epoch 28/50, Train: 100%|██████████| 9/9 [00:07<00:00,  1.17it/s]\n",
            "Epoch 28/50, Validation: 100%|██████████| 3/3 [00:01<00:00,  2.13it/s]\n",
            "Evaluate Train: 100%|██████████| 9/9 [00:06<00:00,  1.47it/s]\n",
            "Evaluate Validation: 100%|██████████| 3/3 [00:01<00:00,  1.95it/s]\n"
          ]
        },
        {
          "output_type": "stream",
          "name": "stdout",
          "text": [
            "Epoch 28/50\n",
            "Train - Loss: 0.4956, Accuracy: 0.7738, Precision: 0.9317, Recall: 0.5814, AUC: 0.8471\n",
            "Val - Loss: 0.4920, Accuracy: 0.7652, Precision: 0.9250, Recall: 0.5692, AUC: 0.8767\n"
          ]
        },
        {
          "output_type": "stream",
          "name": "stderr",
          "text": [
            "Epoch 29/50, Train: 100%|██████████| 9/9 [00:07<00:00,  1.25it/s]\n",
            "Epoch 29/50, Validation: 100%|██████████| 3/3 [00:01<00:00,  2.02it/s]\n",
            "Evaluate Train: 100%|██████████| 9/9 [00:05<00:00,  1.53it/s]\n",
            "Evaluate Validation: 100%|██████████| 3/3 [00:01<00:00,  1.92it/s]\n"
          ]
        },
        {
          "output_type": "stream",
          "name": "stdout",
          "text": [
            "Epoch 29/50\n",
            "Train - Loss: 0.4851, Accuracy: 0.7966, Precision: 0.8912, Recall: 0.6667, AUC: 0.8434\n",
            "Val - Loss: 0.4743, Accuracy: 0.7803, Precision: 0.8462, Recall: 0.6769, AUC: 0.8521\n"
          ]
        },
        {
          "output_type": "stream",
          "name": "stderr",
          "text": [
            "Epoch 30/50, Train: 100%|██████████| 9/9 [00:07<00:00,  1.25it/s]\n",
            "Epoch 30/50, Validation: 100%|██████████| 3/3 [00:01<00:00,  2.05it/s]\n",
            "Evaluate Train: 100%|██████████| 9/9 [00:06<00:00,  1.45it/s]\n",
            "Evaluate Validation: 100%|██████████| 3/3 [00:01<00:00,  2.08it/s]\n"
          ]
        },
        {
          "output_type": "stream",
          "name": "stdout",
          "text": [
            "Epoch 30/50\n",
            "Train - Loss: 0.5046, Accuracy: 0.7510, Precision: 0.7414, Recall: 0.7558, AUC: 0.8266\n",
            "Val - Loss: 0.4486, Accuracy: 0.7576, Precision: 0.7391, Recall: 0.7846, AUC: 0.8558\n"
          ]
        },
        {
          "output_type": "stream",
          "name": "stderr",
          "text": [
            "Epoch 31/50, Train: 100%|██████████| 9/9 [00:07<00:00,  1.18it/s]\n",
            "Epoch 31/50, Validation: 100%|██████████| 3/3 [00:01<00:00,  2.12it/s]\n",
            "Evaluate Train: 100%|██████████| 9/9 [00:05<00:00,  1.53it/s]\n",
            "Evaluate Validation: 100%|██████████| 3/3 [00:01<00:00,  1.73it/s]\n"
          ]
        },
        {
          "output_type": "stream",
          "name": "stdout",
          "text": [
            "Epoch 31/50\n",
            "Train - Loss: 0.4879, Accuracy: 0.8118, Precision: 0.8698, Recall: 0.7248, AUC: 0.8539\n",
            "Val - Loss: 0.4620, Accuracy: 0.7727, Precision: 0.7966, Recall: 0.7231, AUC: 0.8379\n"
          ]
        },
        {
          "output_type": "stream",
          "name": "stderr",
          "text": [
            "Epoch 32/50, Train: 100%|██████████| 9/9 [00:07<00:00,  1.21it/s]\n",
            "Epoch 32/50, Validation: 100%|██████████| 3/3 [00:01<00:00,  1.84it/s]\n",
            "Evaluate Train: 100%|██████████| 9/9 [00:06<00:00,  1.48it/s]\n",
            "Evaluate Validation: 100%|██████████| 3/3 [00:01<00:00,  1.99it/s]\n"
          ]
        },
        {
          "output_type": "stream",
          "name": "stdout",
          "text": [
            "Epoch 32/50\n",
            "Train - Loss: 0.4786, Accuracy: 0.8099, Precision: 0.8873, Recall: 0.7016, AUC: 0.8522\n",
            "Val - Loss: 0.4505, Accuracy: 0.7879, Precision: 0.8364, Recall: 0.7077, AUC: 0.8650\n"
          ]
        },
        {
          "output_type": "stream",
          "name": "stderr",
          "text": [
            "Epoch 33/50, Train: 100%|██████████| 9/9 [00:07<00:00,  1.18it/s]\n",
            "Epoch 33/50, Validation: 100%|██████████| 3/3 [00:01<00:00,  2.04it/s]\n",
            "Evaluate Train: 100%|██████████| 9/9 [00:06<00:00,  1.45it/s]\n",
            "Evaluate Validation: 100%|██████████| 3/3 [00:01<00:00,  2.12it/s]\n"
          ]
        },
        {
          "output_type": "stream",
          "name": "stdout",
          "text": [
            "Epoch 33/50\n",
            "Train - Loss: 0.4539, Accuracy: 0.8080, Precision: 0.8651, Recall: 0.7209, AUC: 0.8536\n",
            "Val - Loss: 0.4766, Accuracy: 0.7652, Precision: 0.7742, Recall: 0.7385, AUC: 0.8597\n"
          ]
        },
        {
          "output_type": "stream",
          "name": "stderr",
          "text": [
            "Epoch 34/50, Train: 100%|██████████| 9/9 [00:07<00:00,  1.14it/s]\n",
            "Epoch 34/50, Validation: 100%|██████████| 3/3 [00:01<00:00,  2.04it/s]\n",
            "Evaluate Train: 100%|██████████| 9/9 [00:05<00:00,  1.53it/s]\n",
            "Evaluate Validation: 100%|██████████| 3/3 [00:01<00:00,  1.91it/s]\n"
          ]
        },
        {
          "output_type": "stream",
          "name": "stdout",
          "text": [
            "Epoch 34/50\n",
            "Train - Loss: 0.4449, Accuracy: 0.8156, Precision: 0.9171, Recall: 0.6860, AUC: 0.8457\n",
            "Val - Loss: 0.4625, Accuracy: 0.8182, Precision: 0.9020, Recall: 0.7077, AUC: 0.8611\n"
          ]
        },
        {
          "output_type": "stream",
          "name": "stderr",
          "text": [
            "Epoch 35/50, Train: 100%|██████████| 9/9 [00:07<00:00,  1.28it/s]\n",
            "Epoch 35/50, Validation: 100%|██████████| 3/3 [00:01<00:00,  2.18it/s]\n",
            "Evaluate Train: 100%|██████████| 9/9 [00:05<00:00,  1.57it/s]\n",
            "Evaluate Validation: 100%|██████████| 3/3 [00:01<00:00,  1.90it/s]\n"
          ]
        },
        {
          "output_type": "stream",
          "name": "stdout",
          "text": [
            "Epoch 35/50\n",
            "Train - Loss: 0.4628, Accuracy: 0.8080, Precision: 0.8651, Recall: 0.7209, AUC: 0.8664\n",
            "Val - Loss: 0.3417, Accuracy: 0.7576, Precision: 0.7705, Recall: 0.7231, AUC: 0.8439\n"
          ]
        },
        {
          "output_type": "stream",
          "name": "stderr",
          "text": [
            "Epoch 36/50, Train: 100%|██████████| 9/9 [00:06<00:00,  1.29it/s]\n",
            "Epoch 36/50, Validation: 100%|██████████| 3/3 [00:01<00:00,  2.05it/s]\n",
            "Evaluate Train: 100%|██████████| 9/9 [00:05<00:00,  1.63it/s]\n",
            "Evaluate Validation: 100%|██████████| 3/3 [00:01<00:00,  2.02it/s]\n"
          ]
        },
        {
          "output_type": "stream",
          "name": "stdout",
          "text": [
            "Epoch 36/50\n",
            "Train - Loss: 0.4563, Accuracy: 0.8175, Precision: 0.9551, Recall: 0.6589, AUC: 0.8585\n",
            "Val - Loss: 0.3922, Accuracy: 0.7803, Precision: 0.8750, Recall: 0.6462, AUC: 0.8576\n"
          ]
        },
        {
          "output_type": "stream",
          "name": "stderr",
          "text": [
            "Epoch 37/50, Train: 100%|██████████| 9/9 [00:07<00:00,  1.24it/s]\n",
            "Epoch 37/50, Validation: 100%|██████████| 3/3 [00:01<00:00,  2.16it/s]\n",
            "Evaluate Train: 100%|██████████| 9/9 [00:05<00:00,  1.63it/s]\n",
            "Evaluate Validation: 100%|██████████| 3/3 [00:01<00:00,  1.94it/s]\n"
          ]
        },
        {
          "output_type": "stream",
          "name": "stdout",
          "text": [
            "Epoch 37/50\n",
            "Train - Loss: 0.4683, Accuracy: 0.8213, Precision: 0.8565, Recall: 0.7636, AUC: 0.8657\n",
            "Val - Loss: 0.6467, Accuracy: 0.7879, Precision: 0.7761, Recall: 0.8000, AUC: 0.8680\n"
          ]
        },
        {
          "output_type": "stream",
          "name": "stderr",
          "text": [
            "Epoch 38/50, Train: 100%|██████████| 9/9 [00:07<00:00,  1.26it/s]\n",
            "Epoch 38/50, Validation: 100%|██████████| 3/3 [00:01<00:00,  2.05it/s]\n",
            "Evaluate Train: 100%|██████████| 9/9 [00:05<00:00,  1.58it/s]\n",
            "Evaluate Validation: 100%|██████████| 3/3 [00:01<00:00,  1.90it/s]\n"
          ]
        },
        {
          "output_type": "stream",
          "name": "stdout",
          "text": [
            "Epoch 38/50\n",
            "Train - Loss: 0.4424, Accuracy: 0.8023, Precision: 0.8632, Recall: 0.7093, AUC: 0.8425\n",
            "Val - Loss: 0.5078, Accuracy: 0.7652, Precision: 0.7833, Recall: 0.7231, AUC: 0.8710\n"
          ]
        },
        {
          "output_type": "stream",
          "name": "stderr",
          "text": [
            "Epoch 39/50, Train: 100%|██████████| 9/9 [00:07<00:00,  1.22it/s]\n",
            "Epoch 39/50, Validation: 100%|██████████| 3/3 [00:01<00:00,  2.14it/s]\n",
            "Evaluate Train: 100%|██████████| 9/9 [00:06<00:00,  1.50it/s]\n",
            "Evaluate Validation: 100%|██████████| 3/3 [00:01<00:00,  2.14it/s]\n"
          ]
        },
        {
          "output_type": "stream",
          "name": "stdout",
          "text": [
            "Epoch 39/50\n",
            "Train - Loss: 0.4647, Accuracy: 0.7814, Precision: 0.7761, Recall: 0.7791, AUC: 0.8575\n",
            "Val - Loss: 0.3602, Accuracy: 0.7727, Precision: 0.7536, Recall: 0.8000, AUC: 0.8726\n"
          ]
        },
        {
          "output_type": "stream",
          "name": "stderr",
          "text": [
            "Epoch 40/50, Train: 100%|██████████| 9/9 [00:06<00:00,  1.30it/s]\n",
            "Epoch 40/50, Validation: 100%|██████████| 3/3 [00:01<00:00,  2.14it/s]\n",
            "Evaluate Train: 100%|██████████| 9/9 [00:05<00:00,  1.63it/s]\n",
            "Evaluate Validation: 100%|██████████| 3/3 [00:01<00:00,  1.94it/s]\n"
          ]
        },
        {
          "output_type": "stream",
          "name": "stdout",
          "text": [
            "Epoch 40/50\n",
            "Train - Loss: 0.4793, Accuracy: 0.7757, Precision: 0.9268, Recall: 0.5891, AUC: 0.8588\n",
            "Val - Loss: 0.4655, Accuracy: 0.7727, Precision: 0.8723, Recall: 0.6308, AUC: 0.8622\n"
          ]
        },
        {
          "output_type": "stream",
          "name": "stderr",
          "text": [
            "Epoch 41/50, Train: 100%|██████████| 9/9 [00:07<00:00,  1.26it/s]\n",
            "Epoch 41/50, Validation: 100%|██████████| 3/3 [00:01<00:00,  2.05it/s]\n",
            "Evaluate Train: 100%|██████████| 9/9 [00:05<00:00,  1.57it/s]\n",
            "Evaluate Validation: 100%|██████████| 3/3 [00:01<00:00,  1.91it/s]\n"
          ]
        },
        {
          "output_type": "stream",
          "name": "stdout",
          "text": [
            "Epoch 41/50\n",
            "Train - Loss: 0.4425, Accuracy: 0.8118, Precision: 0.8597, Recall: 0.7364, AUC: 0.8576\n",
            "Val - Loss: 0.4183, Accuracy: 0.7879, Precision: 0.8136, Recall: 0.7385, AUC: 0.8650\n"
          ]
        },
        {
          "output_type": "stream",
          "name": "stderr",
          "text": [
            "Epoch 42/50, Train: 100%|██████████| 9/9 [00:07<00:00,  1.22it/s]\n",
            "Epoch 42/50, Validation: 100%|██████████| 3/3 [00:01<00:00,  2.14it/s]\n",
            "Evaluate Train: 100%|██████████| 9/9 [00:06<00:00,  1.50it/s]\n",
            "Evaluate Validation: 100%|██████████| 3/3 [00:01<00:00,  2.13it/s]\n"
          ]
        },
        {
          "output_type": "stream",
          "name": "stdout",
          "text": [
            "Epoch 42/50\n",
            "Train - Loss: 0.4469, Accuracy: 0.8042, Precision: 0.9235, Recall: 0.6550, AUC: 0.8702\n",
            "Val - Loss: 0.4548, Accuracy: 0.7803, Precision: 0.8214, Recall: 0.7077, AUC: 0.8544\n"
          ]
        },
        {
          "output_type": "stream",
          "name": "stderr",
          "text": [
            "Epoch 43/50, Train: 100%|██████████| 9/9 [00:07<00:00,  1.25it/s]\n",
            "Epoch 43/50, Validation: 100%|██████████| 3/3 [00:01<00:00,  1.91it/s]\n",
            "Evaluate Train: 100%|██████████| 9/9 [00:05<00:00,  1.55it/s]\n",
            "Evaluate Validation: 100%|██████████| 3/3 [00:01<00:00,  2.15it/s]\n"
          ]
        },
        {
          "output_type": "stream",
          "name": "stdout",
          "text": [
            "Epoch 43/50\n",
            "Train - Loss: 0.4545, Accuracy: 0.8251, Precision: 0.8990, Recall: 0.7248, AUC: 0.8586\n",
            "Val - Loss: 0.3573, Accuracy: 0.7879, Precision: 0.8364, Recall: 0.7077, AUC: 0.8606\n"
          ]
        },
        {
          "output_type": "stream",
          "name": "stderr",
          "text": [
            "Epoch 44/50, Train: 100%|██████████| 9/9 [00:07<00:00,  1.28it/s]\n",
            "Epoch 44/50, Validation: 100%|██████████| 3/3 [00:01<00:00,  2.16it/s]\n",
            "Evaluate Train: 100%|██████████| 9/9 [00:05<00:00,  1.56it/s]\n",
            "Evaluate Validation: 100%|██████████| 3/3 [00:01<00:00,  1.87it/s]\n"
          ]
        },
        {
          "output_type": "stream",
          "name": "stdout",
          "text": [
            "Epoch 44/50\n",
            "Train - Loss: 0.4481, Accuracy: 0.8156, Precision: 0.8710, Recall: 0.7326, AUC: 0.8703\n",
            "Val - Loss: 0.3618, Accuracy: 0.8030, Precision: 0.8305, Recall: 0.7538, AUC: 0.8579\n"
          ]
        },
        {
          "output_type": "stream",
          "name": "stderr",
          "text": [
            "Epoch 45/50, Train: 100%|██████████| 9/9 [00:07<00:00,  1.25it/s]\n",
            "Epoch 45/50, Validation: 100%|██████████| 3/3 [00:01<00:00,  2.05it/s]\n",
            "Evaluate Train: 100%|██████████| 9/9 [00:05<00:00,  1.63it/s]\n",
            "Evaluate Validation: 100%|██████████| 3/3 [00:01<00:00,  2.01it/s]\n"
          ]
        },
        {
          "output_type": "stream",
          "name": "stdout",
          "text": [
            "Epoch 45/50\n",
            "Train - Loss: 0.4360, Accuracy: 0.8118, Precision: 0.8732, Recall: 0.7209, AUC: 0.8613\n",
            "Val - Loss: 0.3963, Accuracy: 0.7727, Precision: 0.8070, Recall: 0.7077, AUC: 0.8684\n"
          ]
        },
        {
          "output_type": "stream",
          "name": "stderr",
          "text": [
            "Epoch 46/50, Train: 100%|██████████| 9/9 [00:07<00:00,  1.21it/s]\n",
            "Epoch 46/50, Validation: 100%|██████████| 3/3 [00:01<00:00,  2.14it/s]\n",
            "Evaluate Train: 100%|██████████| 9/9 [00:05<00:00,  1.63it/s]\n",
            "Evaluate Validation: 100%|██████████| 3/3 [00:01<00:00,  1.95it/s]\n"
          ]
        },
        {
          "output_type": "stream",
          "name": "stdout",
          "text": [
            "Epoch 46/50\n",
            "Train - Loss: 0.4592, Accuracy: 0.8194, Precision: 0.8863, Recall: 0.7248, AUC: 0.8584\n",
            "Val - Loss: 0.3702, Accuracy: 0.7500, Precision: 0.7667, Recall: 0.7077, AUC: 0.8443\n"
          ]
        },
        {
          "output_type": "stream",
          "name": "stderr",
          "text": [
            "Epoch 47/50, Train: 100%|██████████| 9/9 [00:07<00:00,  1.26it/s]\n",
            "Epoch 47/50, Validation: 100%|██████████| 3/3 [00:01<00:00,  2.03it/s]\n",
            "Evaluate Train: 100%|██████████| 9/9 [00:05<00:00,  1.54it/s]\n",
            "Evaluate Validation: 100%|██████████| 3/3 [00:01<00:00,  1.93it/s]\n"
          ]
        },
        {
          "output_type": "stream",
          "name": "stdout",
          "text": [
            "Epoch 47/50\n",
            "Train - Loss: 0.4277, Accuracy: 0.7966, Precision: 0.9415, Recall: 0.6240, AUC: 0.8470\n",
            "Val - Loss: 0.5273, Accuracy: 0.7500, Precision: 0.8636, Recall: 0.5846, AUC: 0.8648\n"
          ]
        },
        {
          "output_type": "stream",
          "name": "stderr",
          "text": [
            "Epoch 48/50, Train: 100%|██████████| 9/9 [00:07<00:00,  1.25it/s]\n",
            "Epoch 48/50, Validation: 100%|██████████| 3/3 [00:01<00:00,  2.05it/s]\n",
            "Evaluate Train: 100%|██████████| 9/9 [00:05<00:00,  1.63it/s]\n",
            "Evaluate Validation: 100%|██████████| 3/3 [00:01<00:00,  2.01it/s]\n"
          ]
        },
        {
          "output_type": "stream",
          "name": "stdout",
          "text": [
            "Epoch 48/50\n",
            "Train - Loss: 0.4721, Accuracy: 0.7757, Precision: 0.7756, Recall: 0.7636, AUC: 0.8444\n",
            "Val - Loss: 0.4652, Accuracy: 0.7727, Precision: 0.7692, Recall: 0.7692, AUC: 0.8473\n"
          ]
        },
        {
          "output_type": "stream",
          "name": "stderr",
          "text": [
            "Epoch 49/50, Train: 100%|██████████| 9/9 [00:07<00:00,  1.27it/s]\n",
            "Epoch 49/50, Validation: 100%|██████████| 3/3 [00:01<00:00,  1.84it/s]\n",
            "Evaluate Train: 100%|██████████| 9/9 [00:05<00:00,  1.63it/s]\n",
            "Evaluate Validation: 100%|██████████| 3/3 [00:01<00:00,  1.91it/s]\n"
          ]
        },
        {
          "output_type": "stream",
          "name": "stdout",
          "text": [
            "Epoch 49/50\n",
            "Train - Loss: 0.4588, Accuracy: 0.7871, Precision: 0.8174, Recall: 0.7287, AUC: 0.8585\n",
            "Val - Loss: 0.3896, Accuracy: 0.8030, Precision: 0.8095, Recall: 0.7846, AUC: 0.8659\n"
          ]
        },
        {
          "output_type": "stream",
          "name": "stderr",
          "text": [
            "Epoch 50/50, Train: 100%|██████████| 9/9 [00:07<00:00,  1.27it/s]\n",
            "Epoch 50/50, Validation: 100%|██████████| 3/3 [00:01<00:00,  1.84it/s]\n",
            "Evaluate Train: 100%|██████████| 9/9 [00:05<00:00,  1.64it/s]\n",
            "Evaluate Validation: 100%|██████████| 3/3 [00:01<00:00,  1.87it/s]\n"
          ]
        },
        {
          "output_type": "stream",
          "name": "stdout",
          "text": [
            "Epoch 50/50\n",
            "Train - Loss: 0.4512, Accuracy: 0.7947, Precision: 0.9213, Recall: 0.6357, AUC: 0.8398\n",
            "Val - Loss: 0.5010, Accuracy: 0.7803, Precision: 0.8913, Recall: 0.6308, AUC: 0.8420\n"
          ]
        },
        {
          "output_type": "stream",
          "name": "stderr",
          "text": [
            "Evaluate Test: 100%|██████████| 3/3 [00:00<00:00, 11.98it/s]\n"
          ]
        },
        {
          "output_type": "stream",
          "name": "stdout",
          "text": [
            "\n",
            "Accuracy: 0.7515, Precision: 0.7941, Recall: 0.6667, AUC: 0.8110\n",
            "Results saved to results/finetune/ori/CycleMLP_B2/classification_results.txt\n"
          ]
        },
        {
          "output_type": "stream",
          "name": "stderr",
          "text": [
            "WARNING:matplotlib.image:Clipping input data to the valid range for imshow with RGB data ([0..1] for floats or [0..255] for integers).\n",
            "WARNING:matplotlib.image:Clipping input data to the valid range for imshow with RGB data ([0..1] for floats or [0..255] for integers).\n",
            "WARNING:matplotlib.image:Clipping input data to the valid range for imshow with RGB data ([0..1] for floats or [0..255] for integers).\n",
            "WARNING:matplotlib.image:Clipping input data to the valid range for imshow with RGB data ([0..1] for floats or [0..255] for integers).\n",
            "WARNING:matplotlib.image:Clipping input data to the valid range for imshow with RGB data ([0..1] for floats or [0..255] for integers).\n",
            "WARNING:matplotlib.image:Clipping input data to the valid range for imshow with RGB data ([0..1] for floats or [0..255] for integers).\n"
          ]
        },
        {
          "output_type": "stream",
          "name": "stdout",
          "text": [
            "Results saved to results/visualization/zero_shot/ucsd/CycleMLP_B2/images/cxr_images.png\n"
          ]
        },
        {
          "output_type": "stream",
          "name": "stderr",
          "text": [
            "Evaluate Train: 100%|██████████| 31/31 [00:02<00:00, 11.29it/s]\n",
            "Evaluate Validation: 100%|██████████| 8/8 [00:00<00:00, 13.08it/s]\n",
            "Evaluate Test: 100%|██████████| 10/10 [00:00<00:00, 10.80it/s]\n"
          ]
        },
        {
          "output_type": "stream",
          "name": "stdout",
          "text": [
            "Results saved to results/zero_shot/ucsd/CycleMLP_B2/classification_results.txt\n"
          ]
        },
        {
          "output_type": "display_data",
          "data": {
            "text/plain": [
              "<Figure size 640x480 with 0 Axes>"
            ]
          },
          "metadata": {}
        }
      ]
    },
    {
      "cell_type": "code",
      "source": [
        "!zip -r cmlp_results.zip results"
      ],
      "metadata": {
        "colab": {
          "base_uri": "https://localhost:8080/"
        },
        "id": "caCkMl5lKwVw",
        "outputId": "3ee5c137-0497-4185-dd0c-45786470dbb3"
      },
      "execution_count": 12,
      "outputs": [
        {
          "output_type": "stream",
          "name": "stdout",
          "text": [
            "  adding: results/ (stored 0%)\n",
            "  adding: results/visualization/ (stored 0%)\n",
            "  adding: results/visualization/zero_shot/ (stored 0%)\n",
            "  adding: results/visualization/zero_shot/ucsd/ (stored 0%)\n",
            "  adding: results/visualization/zero_shot/ucsd/CycleMLP_B2/ (stored 0%)\n",
            "  adding: results/visualization/zero_shot/ucsd/CycleMLP_B2/images/ (stored 0%)\n",
            "  adding: results/visualization/zero_shot/ucsd/CycleMLP_B2/images/cxr_images.png (deflated 8%)\n",
            "  adding: results/visualization/zero_shot/ori/ (stored 0%)\n",
            "  adding: results/visualization/zero_shot/ori/CycleMLP_B2/ (stored 0%)\n",
            "  adding: results/visualization/zero_shot/ori/CycleMLP_B2/images/ (stored 0%)\n",
            "  adding: results/visualization/zero_shot/ori/CycleMLP_B2/images/cxr_images.png (deflated 8%)\n",
            "  adding: results/visualization/finetune/ (stored 0%)\n",
            "  adding: results/visualization/finetune/ucsd/ (stored 0%)\n",
            "  adding: results/visualization/finetune/ucsd/CycleMLP_B2/ (stored 0%)\n",
            "  adding: results/visualization/finetune/ucsd/CycleMLP_B2/images/ (stored 0%)\n",
            "  adding: results/visualization/finetune/ucsd/CycleMLP_B2/images/cxr_images.png (deflated 8%)\n",
            "  adding: results/visualization/finetune/ori/ (stored 0%)\n",
            "  adding: results/visualization/finetune/ori/CycleMLP_B2/ (stored 0%)\n",
            "  adding: results/visualization/finetune/ori/CycleMLP_B2/images/ (stored 0%)\n",
            "  adding: results/visualization/finetune/ori/CycleMLP_B2/images/cxr_images.png (deflated 8%)\n",
            "  adding: results/zero_shot/ (stored 0%)\n",
            "  adding: results/zero_shot/ucsd/ (stored 0%)\n",
            "  adding: results/zero_shot/ucsd/CycleMLP_B2/ (stored 0%)\n",
            "  adding: results/zero_shot/ucsd/CycleMLP_B2/classification_results.txt (deflated 53%)\n",
            "  adding: results/zero_shot/ori/ (stored 0%)\n",
            "  adding: results/zero_shot/ori/CycleMLP_B2/ (stored 0%)\n",
            "  adding: results/zero_shot/ori/CycleMLP_B2/classification_results.txt (deflated 52%)\n",
            "  adding: results/finetune/ (stored 0%)\n",
            "  adding: results/finetune/ucsd/ (stored 0%)\n",
            "  adding: results/finetune/ucsd/CycleMLP_B2/ (stored 0%)\n",
            "  adding: results/finetune/ucsd/CycleMLP_B2/metrics_precision_epoch.png (deflated 4%)\n",
            "  adding: results/finetune/ucsd/CycleMLP_B2/metrics_loss_epoch.png (deflated 6%)\n",
            "  adding: results/finetune/ucsd/CycleMLP_B2/metrics_auc_epoch.png (deflated 8%)\n",
            "  adding: results/finetune/ucsd/CycleMLP_B2/classification_results.txt (deflated 55%)\n",
            "  adding: results/finetune/ucsd/CycleMLP_B2/.ipynb_checkpoints/ (stored 0%)\n",
            "  adding: results/finetune/ucsd/CycleMLP_B2/metrics_accuracy_epoch.png (deflated 6%)\n",
            "  adding: results/finetune/ucsd/CycleMLP_B2/metrics_recall_epoch.png (deflated 4%)\n",
            "  adding: results/finetune/ori/ (stored 0%)\n",
            "  adding: results/finetune/ori/CycleMLP_B2/ (stored 0%)\n",
            "  adding: results/finetune/ori/CycleMLP_B2/metrics_precision_epoch.png (deflated 4%)\n",
            "  adding: results/finetune/ori/CycleMLP_B2/metrics_loss_epoch.png (deflated 4%)\n",
            "  adding: results/finetune/ori/CycleMLP_B2/metrics_auc_epoch.png (deflated 5%)\n",
            "  adding: results/finetune/ori/CycleMLP_B2/classification_results.txt (deflated 55%)\n",
            "  adding: results/finetune/ori/CycleMLP_B2/.ipynb_checkpoints/ (stored 0%)\n",
            "  adding: results/finetune/ori/CycleMLP_B2/metrics_accuracy_epoch.png (deflated 5%)\n",
            "  adding: results/finetune/ori/CycleMLP_B2/metrics_recall_epoch.png (deflated 4%)\n"
          ]
        }
      ]
    },
    {
      "cell_type": "code",
      "source": [
        "%cp -r cmlp_results.zip drive/MyDrive/ViG-Pediatric"
      ],
      "metadata": {
        "id": "Dd3lPE49Kyzv"
      },
      "execution_count": 11,
      "outputs": []
    }
  ],
  "metadata": {
    "accelerator": "GPU",
    "colab": {
      "gpuType": "A100",
      "machine_shape": "hm",
      "provenance": []
    },
    "kernelspec": {
      "display_name": "Python 3",
      "name": "python3"
    },
    "language_info": {
      "name": "python"
    }
  },
  "nbformat": 4,
  "nbformat_minor": 0
}