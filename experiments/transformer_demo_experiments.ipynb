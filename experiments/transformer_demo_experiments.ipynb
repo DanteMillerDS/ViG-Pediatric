{
  "cells": [
    {
      "cell_type": "code",
      "execution_count": 1,
      "metadata": {
        "colab": {
          "base_uri": "https://localhost:8080/"
        },
        "id": "SYlFA4SFXLHW",
        "outputId": "78ef5a2d-a627-403f-eb2e-626e05f17146"
      },
      "outputs": [
        {
          "output_type": "stream",
          "name": "stdout",
          "text": [
            "Cloning into 'ViG-Pediatric'...\n",
            "remote: Enumerating objects: 721, done.\u001b[K\n",
            "remote: Counting objects: 100% (239/239), done.\u001b[K\n",
            "remote: Compressing objects: 100% (173/173), done.\u001b[K\n",
            "remote: Total 721 (delta 73), reused 188 (delta 27), pack-reused 482\u001b[K\n",
            "Receiving objects: 100% (721/721), 6.80 MiB | 4.86 MiB/s, done.\n",
            "Resolving deltas: 100% (258/258), done.\n",
            "/content/ViG-Pediatric\n",
            "Submodule 'Efficient-AI-Backbones' (https://github.com/huawei-noah/Efficient-AI-Backbones.git) registered for path 'Efficient-AI-Backbones'\n",
            "Submodule 'PVT' (https://github.com/whai362/PVT.git) registered for path 'PVT'\n",
            "Cloning into '/content/ViG-Pediatric/Efficient-AI-Backbones'...\n",
            "Cloning into '/content/ViG-Pediatric/PVT'...\n",
            "Submodule path 'Efficient-AI-Backbones': checked out 'b216a124bc8c1e999233adc23176bbba82d05d8b'\n",
            "Submodule path 'PVT': checked out '57e2dfaa5a46f9050d76f306a4fcd9a7c061f520'\n",
            "/content\n"
          ]
        }
      ],
      "source": [
        "!git clone https://github.com/DanteMillerDS/ViG-Pediatric.git\n",
        "%cd ViG-Pediatric\n",
        "!git submodule init\n",
        "!git submodule update\n",
        "%cd ../"
      ]
    },
    {
      "cell_type": "code",
      "execution_count": null,
      "metadata": {
        "colab": {
          "base_uri": "https://localhost:8080/"
        },
        "id": "VQMyZvkCXDmU",
        "outputId": "d18e5ac0-1da3-4d3e-da68-b1631a004a2e"
      },
      "outputs": [
        {
          "output_type": "stream",
          "name": "stdout",
          "text": [
            "Collecting ftfy (from -r ViG-Pediatric/requirements.txt (line 1))\n",
            "  Downloading ftfy-6.2.0-py3-none-any.whl (54 kB)\n",
            "\u001b[?25l     \u001b[90m━━━━━━━━━━━━━━━━━━━━━━━━━━━━━━━━━━━━━━━━\u001b[0m \u001b[32m0.0/54.4 kB\u001b[0m \u001b[31m?\u001b[0m eta \u001b[36m-:--:--\u001b[0m\r\u001b[2K     \u001b[90m━━━━━━━━━━━━━━━━━━━━━━━━━━━━━━━━━━━━━━━━\u001b[0m \u001b[32m54.4/54.4 kB\u001b[0m \u001b[31m2.2 MB/s\u001b[0m eta \u001b[36m0:00:00\u001b[0m\n",
            "\u001b[?25hRequirement already satisfied: regex in /usr/local/lib/python3.10/dist-packages (from -r ViG-Pediatric/requirements.txt (line 2)) (2023.12.25)\n",
            "Collecting timm (from -r ViG-Pediatric/requirements.txt (line 3))\n",
            "  Downloading timm-0.9.16-py3-none-any.whl (2.2 MB)\n",
            "\u001b[?25l     \u001b[90m━━━━━━━━━━━━━━━━━━━━━━━━━━━━━━━━━━━━━━━━\u001b[0m \u001b[32m0.0/2.2 MB\u001b[0m \u001b[31m?\u001b[0m eta \u001b[36m-:--:--\u001b[0m\r\u001b[2K     \u001b[91m━━━━━━━━━━━━━━━━━━━━━━━━━━━━━━━━━━━━━━━\u001b[0m\u001b[91m╸\u001b[0m \u001b[32m2.2/2.2 MB\u001b[0m \u001b[31m105.3 MB/s\u001b[0m eta \u001b[36m0:00:01\u001b[0m\r\u001b[2K     \u001b[90m━━━━━━━━━━━━━━━━━━━━━━━━━━━━━━━━━━━━━━━━\u001b[0m \u001b[32m2.2/2.2 MB\u001b[0m \u001b[31m61.4 MB/s\u001b[0m eta \u001b[36m0:00:00\u001b[0m\n",
            "\u001b[?25hRequirement already satisfied: tqdm in /usr/local/lib/python3.10/dist-packages (from -r ViG-Pediatric/requirements.txt (line 4)) (4.66.2)\n",
            "Requirement already satisfied: wcwidth<0.3.0,>=0.2.12 in /usr/local/lib/python3.10/dist-packages (from ftfy->-r ViG-Pediatric/requirements.txt (line 1)) (0.2.13)\n",
            "Requirement already satisfied: torch in /usr/local/lib/python3.10/dist-packages (from timm->-r ViG-Pediatric/requirements.txt (line 3)) (2.2.1+cu121)\n",
            "Requirement already satisfied: torchvision in /usr/local/lib/python3.10/dist-packages (from timm->-r ViG-Pediatric/requirements.txt (line 3)) (0.17.1+cu121)\n",
            "Requirement already satisfied: pyyaml in /usr/local/lib/python3.10/dist-packages (from timm->-r ViG-Pediatric/requirements.txt (line 3)) (6.0.1)\n",
            "Requirement already satisfied: huggingface_hub in /usr/local/lib/python3.10/dist-packages (from timm->-r ViG-Pediatric/requirements.txt (line 3)) (0.20.3)\n",
            "Requirement already satisfied: safetensors in /usr/local/lib/python3.10/dist-packages (from timm->-r ViG-Pediatric/requirements.txt (line 3)) (0.4.3)\n",
            "Requirement already satisfied: filelock in /usr/local/lib/python3.10/dist-packages (from huggingface_hub->timm->-r ViG-Pediatric/requirements.txt (line 3)) (3.13.4)\n",
            "Requirement already satisfied: fsspec>=2023.5.0 in /usr/local/lib/python3.10/dist-packages (from huggingface_hub->timm->-r ViG-Pediatric/requirements.txt (line 3)) (2023.6.0)\n",
            "Requirement already satisfied: requests in /usr/local/lib/python3.10/dist-packages (from huggingface_hub->timm->-r ViG-Pediatric/requirements.txt (line 3)) (2.31.0)\n",
            "Requirement already satisfied: typing-extensions>=3.7.4.3 in /usr/local/lib/python3.10/dist-packages (from huggingface_hub->timm->-r ViG-Pediatric/requirements.txt (line 3)) (4.11.0)\n",
            "Requirement already satisfied: packaging>=20.9 in /usr/local/lib/python3.10/dist-packages (from huggingface_hub->timm->-r ViG-Pediatric/requirements.txt (line 3)) (24.0)\n",
            "Requirement already satisfied: sympy in /usr/local/lib/python3.10/dist-packages (from torch->timm->-r ViG-Pediatric/requirements.txt (line 3)) (1.12)\n",
            "Requirement already satisfied: networkx in /usr/local/lib/python3.10/dist-packages (from torch->timm->-r ViG-Pediatric/requirements.txt (line 3)) (3.3)\n",
            "Requirement already satisfied: jinja2 in /usr/local/lib/python3.10/dist-packages (from torch->timm->-r ViG-Pediatric/requirements.txt (line 3)) (3.1.3)\n",
            "Collecting nvidia-cuda-nvrtc-cu12==12.1.105 (from torch->timm->-r ViG-Pediatric/requirements.txt (line 3))\n",
            "  Using cached nvidia_cuda_nvrtc_cu12-12.1.105-py3-none-manylinux1_x86_64.whl (23.7 MB)\n",
            "Collecting nvidia-cuda-runtime-cu12==12.1.105 (from torch->timm->-r ViG-Pediatric/requirements.txt (line 3))\n",
            "  Using cached nvidia_cuda_runtime_cu12-12.1.105-py3-none-manylinux1_x86_64.whl (823 kB)\n",
            "Collecting nvidia-cuda-cupti-cu12==12.1.105 (from torch->timm->-r ViG-Pediatric/requirements.txt (line 3))\n",
            "  Using cached nvidia_cuda_cupti_cu12-12.1.105-py3-none-manylinux1_x86_64.whl (14.1 MB)\n",
            "Collecting nvidia-cudnn-cu12==8.9.2.26 (from torch->timm->-r ViG-Pediatric/requirements.txt (line 3))\n",
            "  Using cached nvidia_cudnn_cu12-8.9.2.26-py3-none-manylinux1_x86_64.whl (731.7 MB)\n",
            "Collecting nvidia-cublas-cu12==12.1.3.1 (from torch->timm->-r ViG-Pediatric/requirements.txt (line 3))\n",
            "  Using cached nvidia_cublas_cu12-12.1.3.1-py3-none-manylinux1_x86_64.whl (410.6 MB)\n",
            "Collecting nvidia-cufft-cu12==11.0.2.54 (from torch->timm->-r ViG-Pediatric/requirements.txt (line 3))\n",
            "  Using cached nvidia_cufft_cu12-11.0.2.54-py3-none-manylinux1_x86_64.whl (121.6 MB)\n",
            "Collecting nvidia-curand-cu12==10.3.2.106 (from torch->timm->-r ViG-Pediatric/requirements.txt (line 3))\n",
            "  Using cached nvidia_curand_cu12-10.3.2.106-py3-none-manylinux1_x86_64.whl (56.5 MB)\n",
            "Collecting nvidia-cusolver-cu12==11.4.5.107 (from torch->timm->-r ViG-Pediatric/requirements.txt (line 3))\n",
            "  Using cached nvidia_cusolver_cu12-11.4.5.107-py3-none-manylinux1_x86_64.whl (124.2 MB)\n",
            "Collecting nvidia-cusparse-cu12==12.1.0.106 (from torch->timm->-r ViG-Pediatric/requirements.txt (line 3))\n",
            "  Using cached nvidia_cusparse_cu12-12.1.0.106-py3-none-manylinux1_x86_64.whl (196.0 MB)\n",
            "Collecting nvidia-nccl-cu12==2.19.3 (from torch->timm->-r ViG-Pediatric/requirements.txt (line 3))\n",
            "  Using cached nvidia_nccl_cu12-2.19.3-py3-none-manylinux1_x86_64.whl (166.0 MB)\n",
            "Collecting nvidia-nvtx-cu12==12.1.105 (from torch->timm->-r ViG-Pediatric/requirements.txt (line 3))\n",
            "  Using cached nvidia_nvtx_cu12-12.1.105-py3-none-manylinux1_x86_64.whl (99 kB)\n",
            "Requirement already satisfied: triton==2.2.0 in /usr/local/lib/python3.10/dist-packages (from torch->timm->-r ViG-Pediatric/requirements.txt (line 3)) (2.2.0)\n",
            "Collecting nvidia-nvjitlink-cu12 (from nvidia-cusolver-cu12==11.4.5.107->torch->timm->-r ViG-Pediatric/requirements.txt (line 3))\n",
            "  Using cached nvidia_nvjitlink_cu12-12.4.127-py3-none-manylinux2014_x86_64.whl (21.1 MB)\n",
            "Requirement already satisfied: numpy in /usr/local/lib/python3.10/dist-packages (from torchvision->timm->-r ViG-Pediatric/requirements.txt (line 3)) (1.25.2)\n",
            "Requirement already satisfied: pillow!=8.3.*,>=5.3.0 in /usr/local/lib/python3.10/dist-packages (from torchvision->timm->-r ViG-Pediatric/requirements.txt (line 3)) (9.4.0)\n",
            "Requirement already satisfied: MarkupSafe>=2.0 in /usr/local/lib/python3.10/dist-packages (from jinja2->torch->timm->-r ViG-Pediatric/requirements.txt (line 3)) (2.1.5)\n",
            "Requirement already satisfied: charset-normalizer<4,>=2 in /usr/local/lib/python3.10/dist-packages (from requests->huggingface_hub->timm->-r ViG-Pediatric/requirements.txt (line 3)) (3.3.2)\n",
            "Requirement already satisfied: idna<4,>=2.5 in /usr/local/lib/python3.10/dist-packages (from requests->huggingface_hub->timm->-r ViG-Pediatric/requirements.txt (line 3)) (3.7)\n",
            "Requirement already satisfied: urllib3<3,>=1.21.1 in /usr/local/lib/python3.10/dist-packages (from requests->huggingface_hub->timm->-r ViG-Pediatric/requirements.txt (line 3)) (2.0.7)\n",
            "Requirement already satisfied: certifi>=2017.4.17 in /usr/local/lib/python3.10/dist-packages (from requests->huggingface_hub->timm->-r ViG-Pediatric/requirements.txt (line 3)) (2024.2.2)\n",
            "Requirement already satisfied: mpmath>=0.19 in /usr/local/lib/python3.10/dist-packages (from sympy->torch->timm->-r ViG-Pediatric/requirements.txt (line 3)) (1.3.0)\n"
          ]
        }
      ],
      "source": [
        "!pip install -r ViG-Pediatric/requirements.txt"
      ]
    },
    {
      "cell_type": "code",
      "source": [
        "%run ViG-Pediatric/scripts/pvt/finetune_pvt_v2_b2.py"
      ],
      "metadata": {
        "colab": {
          "base_uri": "https://localhost:8080/",
          "height": 1000
        },
        "id": "zLfJb2tYKTkW",
        "outputId": "bcd8ff13-57fc-4fdb-d3ca-f98a27cefb8a"
      },
      "execution_count": 3,
      "outputs": [
        {
          "output_type": "stream",
          "name": "stderr",
          "text": [
            "/content/ViG-Pediatric/PVT/classification/pvt_v2.py:330: UserWarning: Overwriting pvt_v2_b0 in registry with PVT.classification.pvt_v2.pvt_v2_b0. This is because the name being registered conflicts with an existing name. Please check if this is not expected.\n",
            "  def pvt_v2_b0(pretrained=False, **kwargs):\n",
            "/content/ViG-Pediatric/PVT/classification/pvt_v2.py:341: UserWarning: Overwriting pvt_v2_b1 in registry with PVT.classification.pvt_v2.pvt_v2_b1. This is because the name being registered conflicts with an existing name. Please check if this is not expected.\n",
            "  def pvt_v2_b1(pretrained=False, **kwargs):\n",
            "/content/ViG-Pediatric/PVT/classification/pvt_v2.py:352: UserWarning: Overwriting pvt_v2_b2 in registry with PVT.classification.pvt_v2.pvt_v2_b2. This is because the name being registered conflicts with an existing name. Please check if this is not expected.\n",
            "  def pvt_v2_b2(pretrained=False, **kwargs):\n",
            "/content/ViG-Pediatric/PVT/classification/pvt_v2.py:362: UserWarning: Overwriting pvt_v2_b3 in registry with PVT.classification.pvt_v2.pvt_v2_b3. This is because the name being registered conflicts with an existing name. Please check if this is not expected.\n",
            "  def pvt_v2_b3(pretrained=False, **kwargs):\n",
            "/content/ViG-Pediatric/PVT/classification/pvt_v2.py:373: UserWarning: Overwriting pvt_v2_b4 in registry with PVT.classification.pvt_v2.pvt_v2_b4. This is because the name being registered conflicts with an existing name. Please check if this is not expected.\n",
            "  def pvt_v2_b4(pretrained=False, **kwargs):\n",
            "/content/ViG-Pediatric/PVT/classification/pvt_v2.py:384: UserWarning: Overwriting pvt_v2_b5 in registry with PVT.classification.pvt_v2.pvt_v2_b5. This is because the name being registered conflicts with an existing name. Please check if this is not expected.\n",
            "  def pvt_v2_b5(pretrained=False, **kwargs):\n",
            "/content/ViG-Pediatric/PVT/classification/pvt_v2.py:395: UserWarning: Overwriting pvt_v2_b2_li in registry with PVT.classification.pvt_v2.pvt_v2_b2_li. This is because the name being registered conflicts with an existing name. Please check if this is not expected.\n",
            "  def pvt_v2_b2_li(pretrained=False, **kwargs):\n"
          ]
        },
        {
          "output_type": "stream",
          "name": "stdout",
          "text": [
            "Mounting Google Drive...\n",
            "Mounted at /content/drive\n",
            "Copying files from Google Drive...\n",
            "Extracting zip files...\n",
            "\n",
            "7-Zip [64] 16.02 : Copyright (c) 1999-2016 Igor Pavlov : 2016-05-21\n",
            "p7zip Version 16.02 (locale=en_US.UTF-8,Utf16=on,HugeFiles=on,64 bits,12 CPUs Intel(R) Xeon(R) CPU @ 2.20GHz (50657),ASM,AES-NI)\n",
            "\n",
            "Scanning the drive for archives:\n",
            "  0M Scan /content/\b\b\b\b\b\b\b\b\b\b\b\b\b\b\b\b\b\b\b                   \b\b\b\b\b\b\b\b\b\b\b\b\b\b\b\b\b\b\b1 file, 22471493 bytes (22 MiB)\n",
            "\n",
            "Extracting archive: /content/ucsd.zip\n",
            " 66% 4096 Open\b\b\b\b\b\b\b\b\b\b\b\b\b\b              \b\b\b\b\b\b\b\b\b\b\b\b\b\b--\n",
            "Path = /content/ucsd.zip\n",
            "Type = zip\n",
            "Physical Size = 22471493\n",
            "\n",
            "  0%\b\b\b\b    \b\b\b\b 23% 1476 - ucsd/Train/Positive/VIRUS-8903181-0001.jpeg\b\b\b\b\b\b\b\b\b\b\b\b\b\b\b\b\b\b\b\b\b\b\b\b\b\b\b\b\b\b\b\b\b\b\b\b\b\b\b\b\b\b\b\b\b\b\b\b\b\b\b\b\b\b\b                                                       \b\b\b\b\b\b\b\b\b\b\b\b\b\b\b\b\b\b\b\b\b\b\b\b\b\b\b\b\b\b\b\b\b\b\b\b\b\b\b\b\b\b\b\b\b\b\b\b\b\b\b\b\b\b\b 37% 2431 - __MACOSX/ucsd/Train/Positive/._VIRUS-5782277-0002.jpeg\b\b\b\b\b\b\b\b\b\b\b\b\b\b\b\b\b\b\b\b\b\b\b\b\b\b\b\b\b\b\b\b\b\b\b\b\b\b\b\b\b\b\b\b\b\b\b\b\b\b\b\b\b\b\b\b\b\b\b\b\b\b\b\b\b\b                                                                  \b\b\b\b\b\b\b\b\b\b\b\b\b\b\b\b\b\b\b\b\b\b\b\b\b\b\b\b\b\b\b\b\b\b\b\b\b\b\b\b\b\b\b\b\b\b\b\b\b\b\b\b\b\b\b\b\b\b\b\b\b\b\b\b\b\b 46% 3018 - ucsd/Train/Positive/VIRUS-3720452-0004.jpeg\b\b\b\b\b\b\b\b\b\b\b\b\b\b\b\b\b\b\b\b\b\b\b\b\b\b\b\b\b\b\b\b\b\b\b\b\b\b\b\b\b\b\b\b\b\b\b\b\b\b\b\b\b\b\b                                                       \b\b\b\b\b\b\b\b\b\b\b\b\b\b\b\b\b\b\b\b\b\b\b\b\b\b\b\b\b\b\b\b\b\b\b\b\b\b\b\b\b\b\b\b\b\b\b\b\b\b\b\b\b\b\b 63% 4037 - __MACOSX/ucsd/Train/Negative/._NORMAL-2550592-0002.jpeg\b\b\b\b\b\b\b\b\b\b\b\b\b\b\b\b\b\b\b\b\b\b\b\b\b\b\b\b\b\b\b\b\b\b\b\b\b\b\b\b\b\b\b\b\b\b\b\b\b\b\b\b\b\b\b\b\b\b\b\b\b\b\b\b\b\b\b                                                                   \b\b\b\b\b\b\b\b\b\b\b\b\b\b\b\b\b\b\b\b\b\b\b\b\b\b\b\b\b\b\b\b\b\b\b\b\b\b\b\b\b\b\b\b\b\b\b\b\b\b\b\b\b\b\b\b\b\b\b\b\b\b\b\b\b\b\b 75% 4687 - __MACOSX/ucsd/Train/Negative/._NORMAL-9019297-0001.jpeg\b\b\b\b\b\b\b\b\b\b\b\b\b\b\b\b\b\b\b\b\b\b\b\b\b\b\b\b\b\b\b\b\b\b\b\b\b\b\b\b\b\b\b\b\b\b\b\b\b\b\b\b\b\b\b\b\b\b\b\b\b\b\b\b\b\b\b                                                                   \b\b\b\b\b\b\b\b\b\b\b\b\b\b\b\b\b\b\b\b\b\b\b\b\b\b\b\b\b\b\b\b\b\b\b\b\b\b\b\b\b\b\b\b\b\b\b\b\b\b\b\b\b\b\b\b\b\b\b\b\b\b\b\b\b\b\b 84% 5216\b\b\b\b\b\b\b\b\b         \b\b\b\b\b\b\b\b\bEverything is Ok\n",
            "\n",
            "Folders: 10\n",
            "Files: 6162\n",
            "Size:       21151375\n",
            "Compressed: 22471493\n",
            "\n",
            "7-Zip [64] 16.02 : Copyright (c) 1999-2016 Igor Pavlov : 2016-05-21\n",
            "p7zip Version 16.02 (locale=en_US.UTF-8,Utf16=on,HugeFiles=on,64 bits,12 CPUs Intel(R) Xeon(R) CPU @ 2.20GHz (50657),ASM,AES-NI)\n",
            "\n",
            "Scanning the drive for archives:\n",
            "  0M Scan /content/\b\b\b\b\b\b\b\b\b\b\b\b\b\b\b\b\b\b\b                   \b\b\b\b\b\b\b\b\b\b\b\b\b\b\b\b\b\b\b1 file, 19842873 bytes (19 MiB)\n",
            "\n",
            "Extracting archive: /content/ori.zip\n",
            "--\n",
            "Path = /content/ori.zip\n",
            "Type = zip\n",
            "Physical Size = 19842873\n",
            "\n",
            "  0%\b\b\b\b    \b\b\b\b 79% 1333 - __MACOSX/ori/Train/Negative/._4UIYD387F0HV.png\b\b\b\b\b\b\b\b\b\b\b\b\b\b\b\b\b\b\b\b\b\b\b\b\b\b\b\b\b\b\b\b\b\b\b\b\b\b\b\b\b\b\b\b\b\b\b\b\b\b\b\b\b\b\b\b\b\b                                                          \b\b\b\b\b\b\b\b\b\b\b\b\b\b\b\b\b\b\b\b\b\b\b\b\b\b\b\b\b\b\b\b\b\b\b\b\b\b\b\b\b\b\b\b\b\b\b\b\b\b\b\b\b\b\b\b\b\bEverything is Ok\n",
            "\n",
            "Folders: 10\n",
            "Files: 1662\n",
            "Size:       19522791\n",
            "Compressed: 19842873\n",
            "Files extracted successfully.\n"
          ]
        },
        {
          "output_type": "stream",
          "name": "stderr",
          "text": [
            "WARNING:matplotlib.image:Clipping input data to the valid range for imshow with RGB data ([0..1] for floats or [0..255] for integers).\n",
            "WARNING:matplotlib.image:Clipping input data to the valid range for imshow with RGB data ([0..1] for floats or [0..255] for integers).\n",
            "WARNING:matplotlib.image:Clipping input data to the valid range for imshow with RGB data ([0..1] for floats or [0..255] for integers).\n",
            "WARNING:matplotlib.image:Clipping input data to the valid range for imshow with RGB data ([0..1] for floats or [0..255] for integers).\n",
            "WARNING:matplotlib.image:Clipping input data to the valid range for imshow with RGB data ([0..1] for floats or [0..255] for integers).\n",
            "WARNING:matplotlib.image:Clipping input data to the valid range for imshow with RGB data ([0..1] for floats or [0..255] for integers).\n"
          ]
        },
        {
          "output_type": "stream",
          "name": "stdout",
          "text": [
            "Results saved to results/visualization/finetune/ucsd/pvt_v2_b2/images/cxr_images.png\n"
          ]
        },
        {
          "output_type": "stream",
          "name": "stderr",
          "text": [
            "/usr/local/lib/python3.10/dist-packages/torchvision/models/inception.py:43: FutureWarning: The default weight initialization of inception_v3 will be changed in future releases of torchvision. If you wish to keep the old behavior (which leads to long initialization times due to scipy/scipy#11299), please set init_weights=True.\n",
            "  warnings.warn(\n"
          ]
        },
        {
          "output_type": "stream",
          "name": "stdout",
          "text": [
            "NVIDIA library configured successfully.\n"
          ]
        },
        {
          "output_type": "stream",
          "name": "stderr",
          "text": [
            "/usr/lib/python3.10/multiprocessing/popen_fork.py:66: RuntimeWarning: os.fork() was called. os.fork() is incompatible with multithreaded code, and JAX is multithreaded, so this will likely lead to a deadlock.\n",
            "  self.pid = os.fork()\n",
            "/usr/lib/python3.10/multiprocessing/popen_fork.py:66: RuntimeWarning: os.fork() was called. os.fork() is incompatible with multithreaded code, and JAX is multithreaded, so this will likely lead to a deadlock.\n",
            "  self.pid = os.fork()\n",
            "Epoch 1/50, Train:   0%|          | 0/31 [00:00<?, ?it/s]/usr/local/lib/python3.10/dist-packages/torch/_inductor/compile_fx.py:140: UserWarning: TensorFloat32 tensor cores for float32 matrix multiplication available but not enabled. Consider setting `torch.set_float32_matmul_precision('high')` for better performance.\n",
            "  warnings.warn(\n",
            "Epoch 1/50, Train: 100%|██████████| 31/31 [03:36<00:00,  6.97s/it]\n",
            "Epoch 1/50, Validation: 100%|██████████| 8/8 [01:22<00:00, 10.36s/it]\n",
            "Evaluate Train: 100%|██████████| 31/31 [01:15<00:00,  2.42s/it]\n",
            "Evaluate Validation: 100%|██████████| 8/8 [00:07<00:00,  1.13it/s]\n"
          ]
        },
        {
          "output_type": "stream",
          "name": "stdout",
          "text": [
            "Epoch 1/50\n",
            "Train - Loss: 0.6323, Accuracy: 0.7656, Precision: 0.8320, Recall: 0.6482, AUC: 0.8638\n",
            "Val - Loss: 0.5118, Accuracy: 0.7728, Precision: 0.8396, Recall: 0.6569, AUC: 0.8555\n"
          ]
        },
        {
          "output_type": "stream",
          "name": "stderr",
          "text": [
            "Epoch 2/50, Train: 100%|██████████| 31/31 [00:30<00:00,  1.01it/s]\n",
            "Epoch 2/50, Validation: 100%|██████████| 8/8 [00:07<00:00,  1.14it/s]\n",
            "Evaluate Train: 100%|██████████| 31/31 [00:25<00:00,  1.23it/s]\n",
            "Evaluate Validation: 100%|██████████| 8/8 [00:07<00:00,  1.02it/s]\n"
          ]
        },
        {
          "output_type": "stream",
          "name": "stdout",
          "text": [
            "Epoch 2/50\n",
            "Train - Loss: 0.4693, Accuracy: 0.8190, Precision: 0.8149, Recall: 0.8115, AUC: 0.8986\n",
            "Val - Loss: 0.4169, Accuracy: 0.8093, Precision: 0.8222, Recall: 0.7741, AUC: 0.8930\n"
          ]
        },
        {
          "output_type": "stream",
          "name": "stderr",
          "text": [
            "Epoch 3/50, Train: 100%|██████████| 31/31 [00:30<00:00,  1.00it/s]\n",
            "Epoch 3/50, Validation: 100%|██████████| 8/8 [00:06<00:00,  1.32it/s]\n",
            "Evaluate Train: 100%|██████████| 31/31 [00:25<00:00,  1.22it/s]\n",
            "Evaluate Validation: 100%|██████████| 8/8 [00:06<00:00,  1.19it/s]\n"
          ]
        },
        {
          "output_type": "stream",
          "name": "stdout",
          "text": [
            "Epoch 3/50\n",
            "Train - Loss: 0.4086, Accuracy: 0.7890, Precision: 0.7143, Recall: 0.9424, AUC: 0.9218\n",
            "Val - Loss: 0.4564, Accuracy: 0.7931, Precision: 0.7203, Recall: 0.9372, AUC: 0.9159\n"
          ]
        },
        {
          "output_type": "stream",
          "name": "stderr",
          "text": [
            "Epoch 4/50, Train: 100%|██████████| 31/31 [00:30<00:00,  1.00it/s]\n",
            "Epoch 4/50, Validation: 100%|██████████| 8/8 [00:06<00:00,  1.15it/s]\n",
            "Evaluate Train: 100%|██████████| 31/31 [00:28<00:00,  1.10it/s]\n",
            "Evaluate Validation: 100%|██████████| 8/8 [00:07<00:00,  1.03it/s]\n"
          ]
        },
        {
          "output_type": "stream",
          "name": "stdout",
          "text": [
            "Epoch 4/50\n",
            "Train - Loss: 0.3661, Accuracy: 0.8368, Precision: 0.9403, Recall: 0.7089, AUC: 0.9470\n",
            "Val - Loss: 0.3765, Accuracy: 0.8073, Precision: 0.9186, Recall: 0.6611, AUC: 0.9377\n"
          ]
        },
        {
          "output_type": "stream",
          "name": "stderr",
          "text": [
            "Epoch 5/50, Train: 100%|██████████| 31/31 [00:30<00:00,  1.02it/s]\n",
            "Epoch 5/50, Validation: 100%|██████████| 8/8 [00:05<00:00,  1.37it/s]\n",
            "Evaluate Train: 100%|██████████| 31/31 [00:27<00:00,  1.11it/s]\n",
            "Evaluate Validation: 100%|██████████| 8/8 [00:07<00:00,  1.03it/s]\n"
          ]
        },
        {
          "output_type": "stream",
          "name": "stdout",
          "text": [
            "Epoch 5/50\n",
            "Train - Loss: 0.3494, Accuracy: 0.8775, Precision: 0.8521, Recall: 0.9047, AUC: 0.9502\n",
            "Val - Loss: 0.3101, Accuracy: 0.8742, Precision: 0.8444, Recall: 0.9079, AUC: 0.9418\n"
          ]
        },
        {
          "output_type": "stream",
          "name": "stderr",
          "text": [
            "Epoch 6/50, Train: 100%|██████████| 31/31 [00:30<00:00,  1.02it/s]\n",
            "Epoch 6/50, Validation: 100%|██████████| 8/8 [00:06<00:00,  1.28it/s]\n",
            "Evaluate Train: 100%|██████████| 31/31 [00:24<00:00,  1.26it/s]\n",
            "Evaluate Validation: 100%|██████████| 8/8 [00:07<00:00,  1.07it/s]\n"
          ]
        },
        {
          "output_type": "stream",
          "name": "stdout",
          "text": [
            "Epoch 6/50\n",
            "Train - Loss: 0.2788, Accuracy: 0.8973, Precision: 0.8739, Recall: 0.9215, AUC: 0.9623\n",
            "Val - Loss: 0.2845, Accuracy: 0.8905, Precision: 0.8715, Recall: 0.9079, AUC: 0.9522\n"
          ]
        },
        {
          "output_type": "stream",
          "name": "stderr",
          "text": [
            "Epoch 7/50, Train: 100%|██████████| 31/31 [00:30<00:00,  1.01it/s]\n",
            "Epoch 7/50, Validation: 100%|██████████| 8/8 [00:06<00:00,  1.25it/s]\n",
            "Evaluate Train: 100%|██████████| 31/31 [00:23<00:00,  1.34it/s]\n",
            "Evaluate Validation: 100%|██████████| 8/8 [00:06<00:00,  1.25it/s]\n"
          ]
        },
        {
          "output_type": "stream",
          "name": "stdout",
          "text": [
            "Epoch 7/50\n",
            "Train - Loss: 0.2509, Accuracy: 0.8846, Precision: 0.8315, Recall: 0.9560, AUC: 0.9706\n",
            "Val - Loss: 0.3193, Accuracy: 0.8742, Precision: 0.8127, Recall: 0.9623, AUC: 0.9592\n"
          ]
        },
        {
          "output_type": "stream",
          "name": "stderr",
          "text": [
            "Epoch 8/50, Train: 100%|██████████| 31/31 [00:29<00:00,  1.04it/s]\n",
            "Epoch 8/50, Validation: 100%|██████████| 8/8 [00:05<00:00,  1.37it/s]\n",
            "Evaluate Train: 100%|██████████| 31/31 [00:23<00:00,  1.33it/s]\n",
            "Evaluate Validation: 100%|██████████| 8/8 [00:06<00:00,  1.28it/s]\n"
          ]
        },
        {
          "output_type": "stream",
          "name": "stdout",
          "text": [
            "Epoch 8/50\n",
            "Train - Loss: 0.2407, Accuracy: 0.9039, Precision: 0.8593, Recall: 0.9592, AUC: 0.9754\n",
            "Val - Loss: 0.3029, Accuracy: 0.8945, Precision: 0.8476, Recall: 0.9540, AUC: 0.9573\n"
          ]
        },
        {
          "output_type": "stream",
          "name": "stderr",
          "text": [
            "Epoch 9/50, Train: 100%|██████████| 31/31 [00:30<00:00,  1.01it/s]\n",
            "Epoch 9/50, Validation: 100%|██████████| 8/8 [00:05<00:00,  1.37it/s]\n",
            "Evaluate Train: 100%|██████████| 31/31 [00:24<00:00,  1.24it/s]\n",
            "Evaluate Validation: 100%|██████████| 8/8 [00:06<00:00,  1.20it/s]\n"
          ]
        },
        {
          "output_type": "stream",
          "name": "stdout",
          "text": [
            "Epoch 9/50\n",
            "Train - Loss: 0.2235, Accuracy: 0.9253, Precision: 0.9081, Recall: 0.9414, AUC: 0.9771\n",
            "Val - Loss: 0.2528, Accuracy: 0.9148, Precision: 0.8863, Recall: 0.9456, AUC: 0.9707\n"
          ]
        },
        {
          "output_type": "stream",
          "name": "stderr",
          "text": [
            "Epoch 10/50, Train: 100%|██████████| 31/31 [00:30<00:00,  1.01it/s]\n",
            "Epoch 10/50, Validation: 100%|██████████| 8/8 [00:06<00:00,  1.18it/s]\n",
            "Evaluate Train: 100%|██████████| 31/31 [00:25<00:00,  1.22it/s]\n",
            "Evaluate Validation: 100%|██████████| 8/8 [00:05<00:00,  1.35it/s]\n"
          ]
        },
        {
          "output_type": "stream",
          "name": "stdout",
          "text": [
            "Epoch 10/50\n",
            "Train - Loss: 0.2146, Accuracy: 0.9253, Precision: 0.9208, Recall: 0.9257, AUC: 0.9753\n",
            "Val - Loss: 0.2478, Accuracy: 0.8966, Precision: 0.8760, Recall: 0.9163, AUC: 0.9625\n"
          ]
        },
        {
          "output_type": "stream",
          "name": "stderr",
          "text": [
            "Epoch 11/50, Train: 100%|██████████| 31/31 [00:30<00:00,  1.01it/s]\n",
            "Epoch 11/50, Validation: 100%|██████████| 8/8 [00:07<00:00,  1.10it/s]\n",
            "Evaluate Train: 100%|██████████| 31/31 [00:26<00:00,  1.17it/s]\n",
            "Evaluate Validation: 100%|██████████| 8/8 [00:05<00:00,  1.35it/s]\n"
          ]
        },
        {
          "output_type": "stream",
          "name": "stdout",
          "text": [
            "Epoch 11/50\n",
            "Train - Loss: 0.2130, Accuracy: 0.9253, Precision: 0.9665, Recall: 0.8764, AUC: 0.9801\n",
            "Val - Loss: 0.2410, Accuracy: 0.8884, Precision: 0.9182, Recall: 0.8452, AUC: 0.9655\n"
          ]
        },
        {
          "output_type": "stream",
          "name": "stderr",
          "text": [
            "Epoch 12/50, Train: 100%|██████████| 31/31 [00:30<00:00,  1.00it/s]\n",
            "Epoch 12/50, Validation: 100%|██████████| 8/8 [00:06<00:00,  1.27it/s]\n",
            "Evaluate Train: 100%|██████████| 31/31 [00:26<00:00,  1.18it/s]\n",
            "Evaluate Validation: 100%|██████████| 8/8 [00:05<00:00,  1.49it/s]\n"
          ]
        },
        {
          "output_type": "stream",
          "name": "stdout",
          "text": [
            "Epoch 12/50\n",
            "Train - Loss: 0.1977, Accuracy: 0.9339, Precision: 0.9196, Recall: 0.9466, AUC: 0.9810\n",
            "Val - Loss: 0.2293, Accuracy: 0.9108, Precision: 0.8854, Recall: 0.9372, AUC: 0.9702\n"
          ]
        },
        {
          "output_type": "stream",
          "name": "stderr",
          "text": [
            "Epoch 13/50, Train: 100%|██████████| 31/31 [00:31<00:00,  1.00s/it]\n",
            "Epoch 13/50, Validation: 100%|██████████| 8/8 [00:07<00:00,  1.07it/s]\n",
            "Evaluate Train: 100%|██████████| 31/31 [00:28<00:00,  1.11it/s]\n",
            "Evaluate Validation: 100%|██████████| 8/8 [00:06<00:00,  1.29it/s]\n"
          ]
        },
        {
          "output_type": "stream",
          "name": "stdout",
          "text": [
            "Epoch 13/50\n",
            "Train - Loss: 0.1952, Accuracy: 0.9151, Precision: 0.9782, Recall: 0.8440, AUC: 0.9795\n",
            "Val - Loss: 0.2720, Accuracy: 0.9026, Precision: 0.9569, Recall: 0.8368, AUC: 0.9683\n"
          ]
        },
        {
          "output_type": "stream",
          "name": "stderr",
          "text": [
            "Epoch 14/50, Train: 100%|██████████| 31/31 [00:30<00:00,  1.03it/s]\n",
            "Epoch 14/50, Validation: 100%|██████████| 8/8 [00:06<00:00,  1.20it/s]\n",
            "Evaluate Train: 100%|██████████| 31/31 [00:28<00:00,  1.07it/s]\n",
            "Evaluate Validation: 100%|██████████| 8/8 [00:06<00:00,  1.15it/s]\n"
          ]
        },
        {
          "output_type": "stream",
          "name": "stdout",
          "text": [
            "Epoch 14/50\n",
            "Train - Loss: 0.1962, Accuracy: 0.9110, Precision: 0.9722, Recall: 0.8408, AUC: 0.9807\n",
            "Val - Loss: 0.2599, Accuracy: 0.9067, Precision: 0.9447, Recall: 0.8577, AUC: 0.9729\n"
          ]
        },
        {
          "output_type": "stream",
          "name": "stderr",
          "text": [
            "Epoch 15/50, Train: 100%|██████████| 31/31 [00:29<00:00,  1.05it/s]\n",
            "Epoch 15/50, Validation: 100%|██████████| 8/8 [00:05<00:00,  1.34it/s]\n",
            "Evaluate Train: 100%|██████████| 31/31 [00:26<00:00,  1.15it/s]\n",
            "Evaluate Validation: 100%|██████████| 8/8 [00:05<00:00,  1.34it/s]\n"
          ]
        },
        {
          "output_type": "stream",
          "name": "stdout",
          "text": [
            "Epoch 15/50\n",
            "Train - Loss: 0.2075, Accuracy: 0.9232, Precision: 0.9752, Recall: 0.8639, AUC: 0.9816\n",
            "Val - Loss: 0.2389, Accuracy: 0.8945, Precision: 0.9431, Recall: 0.8326, AUC: 0.9689\n"
          ]
        },
        {
          "output_type": "stream",
          "name": "stderr",
          "text": [
            "Epoch 16/50, Train: 100%|██████████| 31/31 [00:31<00:00,  1.02s/it]\n",
            "Epoch 16/50, Validation: 100%|██████████| 8/8 [00:07<00:00,  1.08it/s]\n",
            "Evaluate Train: 100%|██████████| 31/31 [00:24<00:00,  1.24it/s]\n",
            "Evaluate Validation: 100%|██████████| 8/8 [00:06<00:00,  1.21it/s]\n"
          ]
        },
        {
          "output_type": "stream",
          "name": "stdout",
          "text": [
            "Epoch 16/50\n",
            "Train - Loss: 0.1827, Accuracy: 0.9380, Precision: 0.9307, Recall: 0.9424, AUC: 0.9828\n",
            "Val - Loss: 0.1988, Accuracy: 0.9148, Precision: 0.8924, Recall: 0.9372, AUC: 0.9757\n"
          ]
        },
        {
          "output_type": "stream",
          "name": "stderr",
          "text": [
            "Epoch 17/50, Train: 100%|██████████| 31/31 [00:29<00:00,  1.04it/s]\n",
            "Epoch 17/50, Validation: 100%|██████████| 8/8 [00:06<00:00,  1.31it/s]\n",
            "Evaluate Train: 100%|██████████| 31/31 [00:27<00:00,  1.15it/s]\n",
            "Evaluate Validation: 100%|██████████| 8/8 [00:06<00:00,  1.26it/s]\n"
          ]
        },
        {
          "output_type": "stream",
          "name": "stdout",
          "text": [
            "Epoch 17/50\n",
            "Train - Loss: 0.1900, Accuracy: 0.9426, Precision: 0.9507, Recall: 0.9298, AUC: 0.9839\n",
            "Val - Loss: 0.1948, Accuracy: 0.9270, Precision: 0.9212, Recall: 0.9289, AUC: 0.9747\n"
          ]
        },
        {
          "output_type": "stream",
          "name": "stderr",
          "text": [
            "Epoch 18/50, Train: 100%|██████████| 31/31 [00:29<00:00,  1.03it/s]\n",
            "Epoch 18/50, Validation: 100%|██████████| 8/8 [00:05<00:00,  1.37it/s]\n",
            "Evaluate Train: 100%|██████████| 31/31 [00:28<00:00,  1.08it/s]\n",
            "Evaluate Validation: 100%|██████████| 8/8 [00:07<00:00,  1.03it/s]\n"
          ]
        },
        {
          "output_type": "stream",
          "name": "stdout",
          "text": [
            "Epoch 18/50\n",
            "Train - Loss: 0.1727, Accuracy: 0.9410, Precision: 0.9487, Recall: 0.9288, AUC: 0.9845\n",
            "Val - Loss: 0.1946, Accuracy: 0.9331, Precision: 0.9440, Recall: 0.9163, AUC: 0.9779\n"
          ]
        },
        {
          "output_type": "stream",
          "name": "stderr",
          "text": [
            "Epoch 19/50, Train: 100%|██████████| 31/31 [00:31<00:00,  1.02s/it]\n",
            "Epoch 19/50, Validation: 100%|██████████| 8/8 [00:07<00:00,  1.08it/s]\n",
            "Evaluate Train: 100%|██████████| 31/31 [00:27<00:00,  1.15it/s]\n",
            "Evaluate Validation: 100%|██████████| 8/8 [00:05<00:00,  1.40it/s]\n"
          ]
        },
        {
          "output_type": "stream",
          "name": "stdout",
          "text": [
            "Epoch 19/50\n",
            "Train - Loss: 0.1730, Accuracy: 0.9365, Precision: 0.9133, Recall: 0.9602, AUC: 0.9836\n",
            "Val - Loss: 0.2242, Accuracy: 0.9249, Precision: 0.8915, Recall: 0.9623, AUC: 0.9735\n"
          ]
        },
        {
          "output_type": "stream",
          "name": "stderr",
          "text": [
            "Epoch 20/50, Train: 100%|██████████| 31/31 [00:31<00:00,  1.02s/it]\n",
            "Epoch 20/50, Validation: 100%|██████████| 8/8 [00:06<00:00,  1.24it/s]\n",
            "Evaluate Train: 100%|██████████| 31/31 [00:27<00:00,  1.15it/s]\n",
            "Evaluate Validation: 100%|██████████| 8/8 [00:05<00:00,  1.35it/s]\n"
          ]
        },
        {
          "output_type": "stream",
          "name": "stdout",
          "text": [
            "Epoch 20/50\n",
            "Train - Loss: 0.1969, Accuracy: 0.9298, Precision: 0.9733, Recall: 0.8796, AUC: 0.9839\n",
            "Val - Loss: 0.2165, Accuracy: 0.9108, Precision: 0.9535, Recall: 0.8577, AUC: 0.9758\n"
          ]
        },
        {
          "output_type": "stream",
          "name": "stderr",
          "text": [
            "Epoch 21/50, Train: 100%|██████████| 31/31 [00:30<00:00,  1.03it/s]\n",
            "Epoch 21/50, Validation: 100%|██████████| 8/8 [00:06<00:00,  1.25it/s]\n",
            "Evaluate Train: 100%|██████████| 31/31 [00:24<00:00,  1.27it/s]\n",
            "Evaluate Validation: 100%|██████████| 8/8 [00:05<00:00,  1.47it/s]\n"
          ]
        },
        {
          "output_type": "stream",
          "name": "stdout",
          "text": [
            "Epoch 21/50\n",
            "Train - Loss: 0.1799, Accuracy: 0.9446, Precision: 0.9598, Recall: 0.9246, AUC: 0.9855\n",
            "Val - Loss: 0.2078, Accuracy: 0.9209, Precision: 0.9274, Recall: 0.9079, AUC: 0.9768\n"
          ]
        },
        {
          "output_type": "stream",
          "name": "stderr",
          "text": [
            "Epoch 22/50, Train: 100%|██████████| 31/31 [00:30<00:00,  1.02it/s]\n",
            "Epoch 22/50, Validation: 100%|██████████| 8/8 [00:05<00:00,  1.34it/s]\n",
            "Evaluate Train: 100%|██████████| 31/31 [00:26<00:00,  1.19it/s]\n",
            "Evaluate Validation: 100%|██████████| 8/8 [00:05<00:00,  1.35it/s]\n"
          ]
        },
        {
          "output_type": "stream",
          "name": "stdout",
          "text": [
            "Epoch 22/50\n",
            "Train - Loss: 0.1668, Accuracy: 0.9461, Precision: 0.9691, Recall: 0.9183, AUC: 0.9873\n",
            "Val - Loss: 0.2138, Accuracy: 0.9310, Precision: 0.9399, Recall: 0.9163, AUC: 0.9745\n"
          ]
        },
        {
          "output_type": "stream",
          "name": "stderr",
          "text": [
            "Epoch 23/50, Train: 100%|██████████| 31/31 [00:30<00:00,  1.01it/s]\n",
            "Epoch 23/50, Validation: 100%|██████████| 8/8 [00:07<00:00,  1.12it/s]\n",
            "Evaluate Train: 100%|██████████| 31/31 [00:24<00:00,  1.29it/s]\n",
            "Evaluate Validation: 100%|██████████| 8/8 [00:06<00:00,  1.30it/s]\n"
          ]
        },
        {
          "output_type": "stream",
          "name": "stdout",
          "text": [
            "Epoch 23/50\n",
            "Train - Loss: 0.1504, Accuracy: 0.9415, Precision: 0.9605, Recall: 0.9173, AUC: 0.9868\n",
            "Val - Loss: 0.1870, Accuracy: 0.9412, Precision: 0.9449, Recall: 0.9331, AUC: 0.9797\n"
          ]
        },
        {
          "output_type": "stream",
          "name": "stderr",
          "text": [
            "Epoch 24/50, Train: 100%|██████████| 31/31 [00:30<00:00,  1.02it/s]\n",
            "Epoch 24/50, Validation: 100%|██████████| 8/8 [00:05<00:00,  1.37it/s]\n",
            "Evaluate Train: 100%|██████████| 31/31 [00:27<00:00,  1.11it/s]\n",
            "Evaluate Validation: 100%|██████████| 8/8 [00:05<00:00,  1.34it/s]\n"
          ]
        },
        {
          "output_type": "stream",
          "name": "stdout",
          "text": [
            "Epoch 24/50\n",
            "Train - Loss: 0.1717, Accuracy: 0.9512, Precision: 0.9405, Recall: 0.9602, AUC: 0.9877\n",
            "Val - Loss: 0.1876, Accuracy: 0.9310, Precision: 0.9116, Recall: 0.9498, AUC: 0.9785\n"
          ]
        },
        {
          "output_type": "stream",
          "name": "stderr",
          "text": [
            "Epoch 25/50, Train: 100%|██████████| 31/31 [00:30<00:00,  1.03it/s]\n",
            "Epoch 25/50, Validation: 100%|██████████| 8/8 [00:08<00:00,  1.05s/it]\n",
            "Evaluate Train: 100%|██████████| 31/31 [00:25<00:00,  1.22it/s]\n",
            "Evaluate Validation: 100%|██████████| 8/8 [00:05<00:00,  1.38it/s]\n"
          ]
        },
        {
          "output_type": "stream",
          "name": "stdout",
          "text": [
            "Epoch 25/50\n",
            "Train - Loss: 0.1690, Accuracy: 0.9405, Precision: 0.9293, Recall: 0.9497, AUC: 0.9861\n",
            "Val - Loss: 0.1915, Accuracy: 0.9249, Precision: 0.9008, Recall: 0.9498, AUC: 0.9777\n"
          ]
        },
        {
          "output_type": "stream",
          "name": "stderr",
          "text": [
            "Epoch 26/50, Train: 100%|██████████| 31/31 [00:30<00:00,  1.02it/s]\n",
            "Epoch 26/50, Validation: 100%|██████████| 8/8 [00:06<00:00,  1.16it/s]\n",
            "Evaluate Train: 100%|██████████| 31/31 [00:25<00:00,  1.22it/s]\n",
            "Evaluate Validation: 100%|██████████| 8/8 [00:07<00:00,  1.12it/s]\n"
          ]
        },
        {
          "output_type": "stream",
          "name": "stdout",
          "text": [
            "Epoch 26/50\n",
            "Train - Loss: 0.1776, Accuracy: 0.9222, Precision: 0.9820, Recall: 0.8555, AUC: 0.9865\n",
            "Val - Loss: 0.2369, Accuracy: 0.8986, Precision: 0.9610, Recall: 0.8243, AUC: 0.9734\n"
          ]
        },
        {
          "output_type": "stream",
          "name": "stderr",
          "text": [
            "Epoch 27/50, Train: 100%|██████████| 31/31 [00:30<00:00,  1.00it/s]\n",
            "Epoch 27/50, Validation: 100%|██████████| 8/8 [00:06<00:00,  1.15it/s]\n",
            "Evaluate Train: 100%|██████████| 31/31 [00:24<00:00,  1.27it/s]\n",
            "Evaluate Validation: 100%|██████████| 8/8 [00:05<00:00,  1.34it/s]\n"
          ]
        },
        {
          "output_type": "stream",
          "name": "stdout",
          "text": [
            "Epoch 27/50\n",
            "Train - Loss: 0.1547, Accuracy: 0.9502, Precision: 0.9788, Recall: 0.9173, AUC: 0.9883\n",
            "Val - Loss: 0.1879, Accuracy: 0.9249, Precision: 0.9316, Recall: 0.9121, AUC: 0.9786\n"
          ]
        },
        {
          "output_type": "stream",
          "name": "stderr",
          "text": [
            "Epoch 28/50, Train: 100%|██████████| 31/31 [00:30<00:00,  1.03it/s]\n",
            "Epoch 28/50, Validation: 100%|██████████| 8/8 [00:06<00:00,  1.27it/s]\n",
            "Evaluate Train: 100%|██████████| 31/31 [00:23<00:00,  1.31it/s]\n",
            "Evaluate Validation: 100%|██████████| 8/8 [00:05<00:00,  1.34it/s]\n"
          ]
        },
        {
          "output_type": "stream",
          "name": "stdout",
          "text": [
            "Epoch 28/50\n",
            "Train - Loss: 0.1479, Accuracy: 0.9431, Precision: 0.9245, Recall: 0.9613, AUC: 0.9866\n",
            "Val - Loss: 0.1916, Accuracy: 0.9249, Precision: 0.8976, Recall: 0.9540, AUC: 0.9770\n"
          ]
        },
        {
          "output_type": "stream",
          "name": "stderr",
          "text": [
            "Epoch 29/50, Train: 100%|██████████| 31/31 [00:31<00:00,  1.02s/it]\n",
            "Epoch 29/50, Validation: 100%|██████████| 8/8 [00:06<00:00,  1.25it/s]\n",
            "Evaluate Train: 100%|██████████| 31/31 [00:27<00:00,  1.11it/s]\n",
            "Evaluate Validation: 100%|██████████| 8/8 [00:06<00:00,  1.24it/s]\n"
          ]
        },
        {
          "output_type": "stream",
          "name": "stdout",
          "text": [
            "Epoch 29/50\n",
            "Train - Loss: 0.1518, Accuracy: 0.9461, Precision: 0.9426, Recall: 0.9466, AUC: 0.9855\n",
            "Val - Loss: 0.2067, Accuracy: 0.9351, Precision: 0.9259, Recall: 0.9414, AUC: 0.9732\n"
          ]
        },
        {
          "output_type": "stream",
          "name": "stderr",
          "text": [
            "Epoch 30/50, Train: 100%|██████████| 31/31 [00:30<00:00,  1.03it/s]\n",
            "Epoch 30/50, Validation: 100%|██████████| 8/8 [00:06<00:00,  1.16it/s]\n",
            "Evaluate Train: 100%|██████████| 31/31 [00:22<00:00,  1.36it/s]\n",
            "Evaluate Validation: 100%|██████████| 8/8 [00:07<00:00,  1.11it/s]\n"
          ]
        },
        {
          "output_type": "stream",
          "name": "stdout",
          "text": [
            "Epoch 30/50\n",
            "Train - Loss: 0.1497, Accuracy: 0.9441, Precision: 0.9628, Recall: 0.9204, AUC: 0.9888\n",
            "Val - Loss: 0.1950, Accuracy: 0.9371, Precision: 0.9407, Recall: 0.9289, AUC: 0.9777\n"
          ]
        },
        {
          "output_type": "stream",
          "name": "stderr",
          "text": [
            "Epoch 31/50, Train: 100%|██████████| 31/31 [00:30<00:00,  1.03it/s]\n",
            "Epoch 31/50, Validation: 100%|██████████| 8/8 [00:06<00:00,  1.30it/s]\n",
            "Evaluate Train: 100%|██████████| 31/31 [00:25<00:00,  1.20it/s]\n",
            "Evaluate Validation: 100%|██████████| 8/8 [00:06<00:00,  1.30it/s]\n"
          ]
        },
        {
          "output_type": "stream",
          "name": "stdout",
          "text": [
            "Epoch 31/50\n",
            "Train - Loss: 0.1537, Accuracy: 0.9456, Precision: 0.9670, Recall: 0.9194, AUC: 0.9879\n",
            "Val - Loss: 0.1812, Accuracy: 0.9310, Precision: 0.9437, Recall: 0.9121, AUC: 0.9796\n"
          ]
        },
        {
          "output_type": "stream",
          "name": "stderr",
          "text": [
            "Epoch 32/50, Train: 100%|██████████| 31/31 [00:30<00:00,  1.01it/s]\n",
            "Epoch 32/50, Validation: 100%|██████████| 8/8 [00:05<00:00,  1.36it/s]\n",
            "Evaluate Train: 100%|██████████| 31/31 [00:24<00:00,  1.27it/s]\n",
            "Evaluate Validation: 100%|██████████| 8/8 [00:06<00:00,  1.24it/s]\n"
          ]
        },
        {
          "output_type": "stream",
          "name": "stdout",
          "text": [
            "Epoch 32/50\n",
            "Train - Loss: 0.1394, Accuracy: 0.9476, Precision: 0.9702, Recall: 0.9204, AUC: 0.9891\n",
            "Val - Loss: 0.1894, Accuracy: 0.9331, Precision: 0.9402, Recall: 0.9205, AUC: 0.9801\n"
          ]
        },
        {
          "output_type": "stream",
          "name": "stderr",
          "text": [
            "Epoch 33/50, Train: 100%|██████████| 31/31 [00:29<00:00,  1.06it/s]\n",
            "Epoch 33/50, Validation: 100%|██████████| 8/8 [00:05<00:00,  1.37it/s]\n",
            "Evaluate Train: 100%|██████████| 31/31 [00:25<00:00,  1.20it/s]\n",
            "Evaluate Validation: 100%|██████████| 8/8 [00:06<00:00,  1.31it/s]\n"
          ]
        },
        {
          "output_type": "stream",
          "name": "stdout",
          "text": [
            "Epoch 33/50\n",
            "Train - Loss: 0.1691, Accuracy: 0.9476, Precision: 0.9581, Recall: 0.9330, AUC: 0.9904\n",
            "Val - Loss: 0.1730, Accuracy: 0.9290, Precision: 0.9180, Recall: 0.9372, AUC: 0.9800\n"
          ]
        },
        {
          "output_type": "stream",
          "name": "stderr",
          "text": [
            "Epoch 34/50, Train: 100%|██████████| 31/31 [00:30<00:00,  1.03it/s]\n",
            "Epoch 34/50, Validation: 100%|██████████| 8/8 [00:07<00:00,  1.08it/s]\n",
            "Evaluate Train: 100%|██████████| 31/31 [00:25<00:00,  1.22it/s]\n",
            "Evaluate Validation: 100%|██████████| 8/8 [00:05<00:00,  1.35it/s]\n"
          ]
        },
        {
          "output_type": "stream",
          "name": "stdout",
          "text": [
            "Epoch 34/50\n",
            "Train - Loss: 0.1332, Accuracy: 0.9558, Precision: 0.9667, Recall: 0.9414, AUC: 0.9902\n",
            "Val - Loss: 0.1833, Accuracy: 0.9351, Precision: 0.9331, Recall: 0.9331, AUC: 0.9804\n"
          ]
        },
        {
          "output_type": "stream",
          "name": "stderr",
          "text": [
            "Epoch 35/50, Train: 100%|██████████| 31/31 [00:30<00:00,  1.00it/s]\n",
            "Epoch 35/50, Validation: 100%|██████████| 8/8 [00:06<00:00,  1.25it/s]\n",
            "Evaluate Train: 100%|██████████| 31/31 [00:24<00:00,  1.29it/s]\n",
            "Evaluate Validation: 100%|██████████| 8/8 [00:06<00:00,  1.24it/s]\n"
          ]
        },
        {
          "output_type": "stream",
          "name": "stdout",
          "text": [
            "Epoch 35/50\n",
            "Train - Loss: 0.1413, Accuracy: 0.9573, Precision: 0.9668, Recall: 0.9445, AUC: 0.9906\n",
            "Val - Loss: 0.1889, Accuracy: 0.9229, Precision: 0.9136, Recall: 0.9289, AUC: 0.9752\n"
          ]
        },
        {
          "output_type": "stream",
          "name": "stderr",
          "text": [
            "Epoch 36/50, Train: 100%|██████████| 31/31 [00:30<00:00,  1.03it/s]\n",
            "Epoch 36/50, Validation: 100%|██████████| 8/8 [00:06<00:00,  1.23it/s]\n",
            "Evaluate Train: 100%|██████████| 31/31 [00:26<00:00,  1.15it/s]\n",
            "Evaluate Validation: 100%|██████████| 8/8 [00:05<00:00,  1.37it/s]\n"
          ]
        },
        {
          "output_type": "stream",
          "name": "stdout",
          "text": [
            "Epoch 36/50\n",
            "Train - Loss: 0.1621, Accuracy: 0.9400, Precision: 0.9083, Recall: 0.9749, AUC: 0.9896\n",
            "Val - Loss: 0.2120, Accuracy: 0.9148, Precision: 0.8689, Recall: 0.9707, AUC: 0.9790\n"
          ]
        },
        {
          "output_type": "stream",
          "name": "stderr",
          "text": [
            "Epoch 37/50, Train: 100%|██████████| 31/31 [00:30<00:00,  1.00it/s]\n",
            "Epoch 37/50, Validation: 100%|██████████| 8/8 [00:07<00:00,  1.12it/s]\n",
            "Evaluate Train: 100%|██████████| 31/31 [00:24<00:00,  1.25it/s]\n",
            "Evaluate Validation: 100%|██████████| 8/8 [00:05<00:00,  1.35it/s]\n"
          ]
        },
        {
          "output_type": "stream",
          "name": "stdout",
          "text": [
            "Epoch 37/50\n",
            "Train - Loss: 0.1472, Accuracy: 0.9339, Precision: 0.8955, Recall: 0.9780, AUC: 0.9895\n",
            "Val - Loss: 0.2104, Accuracy: 0.9148, Precision: 0.8662, Recall: 0.9749, AUC: 0.9822\n"
          ]
        },
        {
          "output_type": "stream",
          "name": "stderr",
          "text": [
            "Epoch 38/50, Train: 100%|██████████| 31/31 [00:29<00:00,  1.05it/s]\n",
            "Epoch 38/50, Validation: 100%|██████████| 8/8 [00:05<00:00,  1.34it/s]\n",
            "Evaluate Train: 100%|██████████| 31/31 [00:23<00:00,  1.30it/s]\n",
            "Evaluate Validation: 100%|██████████| 8/8 [00:06<00:00,  1.22it/s]\n"
          ]
        },
        {
          "output_type": "stream",
          "name": "stdout",
          "text": [
            "Epoch 38/50\n",
            "Train - Loss: 0.1389, Accuracy: 0.9537, Precision: 0.9408, Recall: 0.9654, AUC: 0.9926\n",
            "Val - Loss: 0.1775, Accuracy: 0.9412, Precision: 0.9234, Recall: 0.9582, AUC: 0.9809\n"
          ]
        },
        {
          "output_type": "stream",
          "name": "stderr",
          "text": [
            "Epoch 39/50, Train: 100%|██████████| 31/31 [00:29<00:00,  1.05it/s]\n",
            "Epoch 39/50, Validation: 100%|██████████| 8/8 [00:06<00:00,  1.33it/s]\n",
            "Evaluate Train: 100%|██████████| 31/31 [00:23<00:00,  1.30it/s]\n",
            "Evaluate Validation: 100%|██████████| 8/8 [00:06<00:00,  1.19it/s]\n"
          ]
        },
        {
          "output_type": "stream",
          "name": "stdout",
          "text": [
            "Epoch 39/50\n",
            "Train - Loss: 0.1256, Accuracy: 0.9542, Precision: 0.9666, Recall: 0.9382, AUC: 0.9915\n",
            "Val - Loss: 0.1731, Accuracy: 0.9391, Precision: 0.9372, Recall: 0.9372, AUC: 0.9803\n"
          ]
        },
        {
          "output_type": "stream",
          "name": "stderr",
          "text": [
            "Epoch 40/50, Train: 100%|██████████| 31/31 [00:30<00:00,  1.00it/s]\n",
            "Epoch 40/50, Validation: 100%|██████████| 8/8 [00:07<00:00,  1.08it/s]\n",
            "Evaluate Train: 100%|██████████| 31/31 [00:27<00:00,  1.11it/s]\n",
            "Evaluate Validation: 100%|██████████| 8/8 [00:06<00:00,  1.19it/s]\n"
          ]
        },
        {
          "output_type": "stream",
          "name": "stdout",
          "text": [
            "Epoch 40/50\n",
            "Train - Loss: 0.1324, Accuracy: 0.9563, Precision: 0.9588, Recall: 0.9508, AUC: 0.9910\n",
            "Val - Loss: 0.1844, Accuracy: 0.9351, Precision: 0.9367, Recall: 0.9289, AUC: 0.9830\n"
          ]
        },
        {
          "output_type": "stream",
          "name": "stderr",
          "text": [
            "Epoch 41/50, Train: 100%|██████████| 31/31 [00:30<00:00,  1.01it/s]\n",
            "Epoch 41/50, Validation: 100%|██████████| 8/8 [00:05<00:00,  1.37it/s]\n",
            "Evaluate Train: 100%|██████████| 31/31 [00:24<00:00,  1.26it/s]\n",
            "Evaluate Validation: 100%|██████████| 8/8 [00:07<00:00,  1.08it/s]\n"
          ]
        },
        {
          "output_type": "stream",
          "name": "stdout",
          "text": [
            "Epoch 41/50\n",
            "Train - Loss: 0.1407, Accuracy: 0.9293, Precision: 0.8849, Recall: 0.9822, AUC: 0.9903\n",
            "Val - Loss: 0.2430, Accuracy: 0.9229, Precision: 0.8736, Recall: 0.9833, AUC: 0.9810\n"
          ]
        },
        {
          "output_type": "stream",
          "name": "stderr",
          "text": [
            "Epoch 42/50, Train: 100%|██████████| 31/31 [00:30<00:00,  1.00it/s]\n",
            "Epoch 42/50, Validation: 100%|██████████| 8/8 [00:06<00:00,  1.32it/s]\n",
            "Evaluate Train: 100%|██████████| 31/31 [00:28<00:00,  1.09it/s]\n",
            "Evaluate Validation: 100%|██████████| 8/8 [00:06<00:00,  1.26it/s]\n"
          ]
        },
        {
          "output_type": "stream",
          "name": "stdout",
          "text": [
            "Epoch 42/50\n",
            "Train - Loss: 0.1397, Accuracy: 0.9532, Precision: 0.9426, Recall: 0.9623, AUC: 0.9917\n",
            "Val - Loss: 0.1809, Accuracy: 0.9290, Precision: 0.9146, Recall: 0.9414, AUC: 0.9798\n"
          ]
        },
        {
          "output_type": "stream",
          "name": "stderr",
          "text": [
            "Epoch 43/50, Train: 100%|██████████| 31/31 [00:29<00:00,  1.05it/s]\n",
            "Epoch 43/50, Validation: 100%|██████████| 8/8 [00:06<00:00,  1.33it/s]\n",
            "Evaluate Train: 100%|██████████| 31/31 [00:24<00:00,  1.27it/s]\n",
            "Evaluate Validation: 100%|██████████| 8/8 [00:05<00:00,  1.35it/s]\n"
          ]
        },
        {
          "output_type": "stream",
          "name": "stdout",
          "text": [
            "Epoch 43/50\n",
            "Train - Loss: 0.1434, Accuracy: 0.9375, Precision: 0.9031, Recall: 0.9759, AUC: 0.9918\n",
            "Val - Loss: 0.2471, Accuracy: 0.9270, Precision: 0.8830, Recall: 0.9791, AUC: 0.9824\n"
          ]
        },
        {
          "output_type": "stream",
          "name": "stderr",
          "text": [
            "Epoch 44/50, Train: 100%|██████████| 31/31 [00:30<00:00,  1.03it/s]\n",
            "Epoch 44/50, Validation: 100%|██████████| 8/8 [00:05<00:00,  1.38it/s]\n",
            "Evaluate Train: 100%|██████████| 31/31 [00:23<00:00,  1.32it/s]\n",
            "Evaluate Validation: 100%|██████████| 8/8 [00:06<00:00,  1.19it/s]\n"
          ]
        },
        {
          "output_type": "stream",
          "name": "stdout",
          "text": [
            "Epoch 44/50\n",
            "Train - Loss: 0.1467, Accuracy: 0.9512, Precision: 0.9756, Recall: 0.9225, AUC: 0.9905\n",
            "Val - Loss: 0.1820, Accuracy: 0.9371, Precision: 0.9602, Recall: 0.9079, AUC: 0.9827\n"
          ]
        },
        {
          "output_type": "stream",
          "name": "stderr",
          "text": [
            "Epoch 45/50, Train: 100%|██████████| 31/31 [00:31<00:00,  1.02s/it]\n",
            "Epoch 45/50, Validation: 100%|██████████| 8/8 [00:05<00:00,  1.36it/s]\n",
            "Evaluate Train: 100%|██████████| 31/31 [00:24<00:00,  1.29it/s]\n",
            "Evaluate Validation: 100%|██████████| 8/8 [00:05<00:00,  1.36it/s]\n"
          ]
        },
        {
          "output_type": "stream",
          "name": "stdout",
          "text": [
            "Epoch 45/50\n",
            "Train - Loss: 0.1225, Accuracy: 0.9553, Precision: 0.9686, Recall: 0.9382, AUC: 0.9919\n",
            "Val - Loss: 0.1623, Accuracy: 0.9229, Precision: 0.9170, Recall: 0.9247, AUC: 0.9803\n"
          ]
        },
        {
          "output_type": "stream",
          "name": "stderr",
          "text": [
            "Epoch 46/50, Train: 100%|██████████| 31/31 [00:31<00:00,  1.02s/it]\n",
            "Epoch 46/50, Validation: 100%|██████████| 8/8 [00:06<00:00,  1.15it/s]\n",
            "Evaluate Train: 100%|██████████| 31/31 [00:25<00:00,  1.23it/s]\n",
            "Evaluate Validation: 100%|██████████| 8/8 [00:06<00:00,  1.32it/s]\n"
          ]
        },
        {
          "output_type": "stream",
          "name": "stdout",
          "text": [
            "Epoch 46/50\n",
            "Train - Loss: 0.1182, Accuracy: 0.9187, Precision: 0.8657, Recall: 0.9853, AUC: 0.9910\n",
            "Val - Loss: 0.3041, Accuracy: 0.9168, Precision: 0.8640, Recall: 0.9833, AUC: 0.9774\n"
          ]
        },
        {
          "output_type": "stream",
          "name": "stderr",
          "text": [
            "Epoch 47/50, Train: 100%|██████████| 31/31 [00:30<00:00,  1.02it/s]\n",
            "Epoch 47/50, Validation: 100%|██████████| 8/8 [00:07<00:00,  1.09it/s]\n",
            "Evaluate Train: 100%|██████████| 31/31 [00:24<00:00,  1.26it/s]\n",
            "Evaluate Validation: 100%|██████████| 8/8 [00:05<00:00,  1.35it/s]\n"
          ]
        },
        {
          "output_type": "stream",
          "name": "stdout",
          "text": [
            "Epoch 47/50\n",
            "Train - Loss: 0.1532, Accuracy: 0.9563, Precision: 0.9531, Recall: 0.9571, AUC: 0.9901\n",
            "Val - Loss: 0.1668, Accuracy: 0.9391, Precision: 0.9300, Recall: 0.9456, AUC: 0.9782\n"
          ]
        },
        {
          "output_type": "stream",
          "name": "stderr",
          "text": [
            "Epoch 48/50, Train: 100%|██████████| 31/31 [00:28<00:00,  1.10it/s]\n",
            "Epoch 48/50, Validation: 100%|██████████| 8/8 [00:06<00:00,  1.21it/s]\n",
            "Evaluate Train: 100%|██████████| 31/31 [00:26<00:00,  1.18it/s]\n",
            "Evaluate Validation: 100%|██████████| 8/8 [00:06<00:00,  1.19it/s]\n"
          ]
        },
        {
          "output_type": "stream",
          "name": "stdout",
          "text": [
            "Epoch 48/50\n",
            "Train - Loss: 0.1365, Accuracy: 0.9609, Precision: 0.9602, Recall: 0.9592, AUC: 0.9918\n",
            "Val - Loss: 0.1882, Accuracy: 0.9331, Precision: 0.9256, Recall: 0.9372, AUC: 0.9768\n"
          ]
        },
        {
          "output_type": "stream",
          "name": "stderr",
          "text": [
            "Epoch 49/50, Train: 100%|██████████| 31/31 [00:30<00:00,  1.00it/s]\n",
            "Epoch 49/50, Validation: 100%|██████████| 8/8 [00:05<00:00,  1.33it/s]\n",
            "Evaluate Train: 100%|██████████| 31/31 [00:24<00:00,  1.28it/s]\n",
            "Evaluate Validation: 100%|██████████| 8/8 [00:07<00:00,  1.09it/s]\n"
          ]
        },
        {
          "output_type": "stream",
          "name": "stdout",
          "text": [
            "Epoch 49/50\n",
            "Train - Loss: 0.1197, Accuracy: 0.9517, Precision: 0.9821, Recall: 0.9173, AUC: 0.9928\n",
            "Val - Loss: 0.1959, Accuracy: 0.9310, Precision: 0.9556, Recall: 0.8996, AUC: 0.9831\n"
          ]
        },
        {
          "output_type": "stream",
          "name": "stderr",
          "text": [
            "Epoch 50/50, Train: 100%|██████████| 31/31 [00:30<00:00,  1.02it/s]\n",
            "Epoch 50/50, Validation: 100%|██████████| 8/8 [00:05<00:00,  1.37it/s]\n",
            "Evaluate Train: 100%|██████████| 31/31 [00:25<00:00,  1.21it/s]\n",
            "Evaluate Validation: 100%|██████████| 8/8 [00:07<00:00,  1.03it/s]\n"
          ]
        },
        {
          "output_type": "stream",
          "name": "stdout",
          "text": [
            "Epoch 50/50\n",
            "Train - Loss: 0.1362, Accuracy: 0.9105, Precision: 0.8531, Recall: 0.9853, AUC: 0.9901\n",
            "Val - Loss: 0.2836, Accuracy: 0.9006, Precision: 0.8417, Recall: 0.9791, AUC: 0.9776\n"
          ]
        },
        {
          "output_type": "stream",
          "name": "stderr",
          "text": [
            "Evaluate Test: 100%|██████████| 10/10 [00:01<00:00,  9.62it/s]\n"
          ]
        },
        {
          "output_type": "stream",
          "name": "stdout",
          "text": [
            "\n",
            "Accuracy: 0.9562, Precision: 0.9755, Recall: 0.9331, AUC: 0.9885\n",
            "Results saved to results/finetune/ucsd/pvt_v2_b2/classification_results.txt\n"
          ]
        },
        {
          "output_type": "stream",
          "name": "stderr",
          "text": [
            "WARNING:matplotlib.image:Clipping input data to the valid range for imshow with RGB data ([0..1] for floats or [0..255] for integers).\n",
            "WARNING:matplotlib.image:Clipping input data to the valid range for imshow with RGB data ([0..1] for floats or [0..255] for integers).\n",
            "WARNING:matplotlib.image:Clipping input data to the valid range for imshow with RGB data ([0..1] for floats or [0..255] for integers).\n",
            "WARNING:matplotlib.image:Clipping input data to the valid range for imshow with RGB data ([0..1] for floats or [0..255] for integers).\n",
            "WARNING:matplotlib.image:Clipping input data to the valid range for imshow with RGB data ([0..1] for floats or [0..255] for integers).\n",
            "WARNING:matplotlib.image:Clipping input data to the valid range for imshow with RGB data ([0..1] for floats or [0..255] for integers).\n"
          ]
        },
        {
          "output_type": "stream",
          "name": "stdout",
          "text": [
            "Results saved to results/visualization/zero_shot/ori/pvt_v2_b2/images/cxr_images.png\n"
          ]
        },
        {
          "output_type": "stream",
          "name": "stderr",
          "text": [
            "Evaluate Train: 100%|██████████| 9/9 [00:01<00:00,  6.89it/s]\n",
            "Evaluate Validation: 100%|██████████| 3/3 [00:00<00:00, 13.45it/s]\n",
            "Evaluate Test: 100%|██████████| 3/3 [00:00<00:00, 12.75it/s]\n"
          ]
        },
        {
          "output_type": "stream",
          "name": "stdout",
          "text": [
            "Results saved to results/zero_shot/ori/pvt_v2_b2/classification_results.txt\n"
          ]
        },
        {
          "output_type": "stream",
          "name": "stderr",
          "text": [
            "WARNING:matplotlib.image:Clipping input data to the valid range for imshow with RGB data ([0..1] for floats or [0..255] for integers).\n",
            "WARNING:matplotlib.image:Clipping input data to the valid range for imshow with RGB data ([0..1] for floats or [0..255] for integers).\n",
            "WARNING:matplotlib.image:Clipping input data to the valid range for imshow with RGB data ([0..1] for floats or [0..255] for integers).\n",
            "WARNING:matplotlib.image:Clipping input data to the valid range for imshow with RGB data ([0..1] for floats or [0..255] for integers).\n",
            "WARNING:matplotlib.image:Clipping input data to the valid range for imshow with RGB data ([0..1] for floats or [0..255] for integers).\n",
            "WARNING:matplotlib.image:Clipping input data to the valid range for imshow with RGB data ([0..1] for floats or [0..255] for integers).\n"
          ]
        },
        {
          "output_type": "stream",
          "name": "stdout",
          "text": [
            "Results saved to results/visualization/finetune/ori/pvt_v2_b2/images/cxr_images.png\n"
          ]
        },
        {
          "output_type": "stream",
          "name": "stderr",
          "text": [
            "/usr/local/lib/python3.10/dist-packages/torchvision/models/inception.py:43: FutureWarning: The default weight initialization of inception_v3 will be changed in future releases of torchvision. If you wish to keep the old behavior (which leads to long initialization times due to scipy/scipy#11299), please set init_weights=True.\n",
            "  warnings.warn(\n"
          ]
        },
        {
          "output_type": "stream",
          "name": "stdout",
          "text": [
            "NVIDIA library configured successfully.\n"
          ]
        },
        {
          "output_type": "stream",
          "name": "stderr",
          "text": [
            "Epoch 1/50, Train: 100%|██████████| 9/9 [01:26<00:00,  9.59s/it]\n",
            "Epoch 1/50, Validation: 100%|██████████| 3/3 [01:14<00:00, 24.89s/it]\n",
            "Evaluate Train: 100%|██████████| 9/9 [00:37<00:00,  4.19s/it]\n",
            "Evaluate Validation: 100%|██████████| 3/3 [00:02<00:00,  1.36it/s]\n"
          ]
        },
        {
          "output_type": "stream",
          "name": "stdout",
          "text": [
            "Epoch 1/50\n",
            "Train - Loss: 0.7330, Accuracy: 0.5894, Precision: 0.5610, Recall: 0.7481, AUC: 0.6569\n",
            "Val - Loss: 0.6714, Accuracy: 0.6212, Precision: 0.5882, Recall: 0.7692, AUC: 0.6976\n"
          ]
        },
        {
          "output_type": "stream",
          "name": "stderr",
          "text": [
            "Epoch 2/50, Train: 100%|██████████| 9/9 [00:07<00:00,  1.13it/s]\n",
            "Epoch 2/50, Validation: 100%|██████████| 3/3 [00:02<00:00,  1.49it/s]\n",
            "Evaluate Train: 100%|██████████| 9/9 [00:06<00:00,  1.39it/s]\n",
            "Evaluate Validation: 100%|██████████| 3/3 [00:01<00:00,  1.98it/s]\n"
          ]
        },
        {
          "output_type": "stream",
          "name": "stdout",
          "text": [
            "Epoch 2/50\n",
            "Train - Loss: 0.6754, Accuracy: 0.6236, Precision: 0.6765, Recall: 0.4457, AUC: 0.6738\n",
            "Val - Loss: 0.5929, Accuracy: 0.6667, Precision: 0.6981, Recall: 0.5692, AUC: 0.7355\n"
          ]
        },
        {
          "output_type": "stream",
          "name": "stderr",
          "text": [
            "Epoch 3/50, Train: 100%|██████████| 9/9 [00:08<00:00,  1.11it/s]\n",
            "Epoch 3/50, Validation: 100%|██████████| 3/3 [00:01<00:00,  1.50it/s]\n",
            "Evaluate Train: 100%|██████████| 9/9 [00:07<00:00,  1.17it/s]\n",
            "Evaluate Validation: 100%|██████████| 3/3 [00:02<00:00,  1.36it/s]\n"
          ]
        },
        {
          "output_type": "stream",
          "name": "stdout",
          "text": [
            "Epoch 3/50\n",
            "Train - Loss: 0.6565, Accuracy: 0.5951, Precision: 0.7064, Recall: 0.2984, AUC: 0.6989\n",
            "Val - Loss: 0.6222, Accuracy: 0.6742, Precision: 0.8438, Recall: 0.4154, AUC: 0.7573\n"
          ]
        },
        {
          "output_type": "stream",
          "name": "stderr",
          "text": [
            "Epoch 4/50, Train: 100%|██████████| 9/9 [00:08<00:00,  1.09it/s]\n",
            "Epoch 4/50, Validation: 100%|██████████| 3/3 [00:01<00:00,  1.93it/s]\n",
            "Evaluate Train: 100%|██████████| 9/9 [00:07<00:00,  1.13it/s]\n",
            "Evaluate Validation: 100%|██████████| 3/3 [00:01<00:00,  2.13it/s]\n"
          ]
        },
        {
          "output_type": "stream",
          "name": "stdout",
          "text": [
            "Epoch 4/50\n",
            "Train - Loss: 0.6384, Accuracy: 0.5989, Precision: 0.5601, Recall: 0.8488, AUC: 0.7048\n",
            "Val - Loss: 0.7748, Accuracy: 0.6439, Precision: 0.5957, Recall: 0.8615, AUC: 0.7495\n"
          ]
        },
        {
          "output_type": "stream",
          "name": "stderr",
          "text": [
            "Epoch 5/50, Train: 100%|██████████| 9/9 [00:08<00:00,  1.10it/s]\n",
            "Epoch 5/50, Validation: 100%|██████████| 3/3 [00:01<00:00,  1.68it/s]\n",
            "Evaluate Train: 100%|██████████| 9/9 [00:08<00:00,  1.01it/s]\n",
            "Evaluate Validation: 100%|██████████| 3/3 [00:02<00:00,  1.46it/s]\n"
          ]
        },
        {
          "output_type": "stream",
          "name": "stdout",
          "text": [
            "Epoch 5/50\n",
            "Train - Loss: 0.6425, Accuracy: 0.6103, Precision: 0.7524, Recall: 0.3062, AUC: 0.7241\n",
            "Val - Loss: 0.7679, Accuracy: 0.6970, Precision: 0.8049, Recall: 0.5077, AUC: 0.7559\n"
          ]
        },
        {
          "output_type": "stream",
          "name": "stderr",
          "text": [
            "Epoch 6/50, Train: 100%|██████████| 9/9 [00:07<00:00,  1.13it/s]\n",
            "Epoch 6/50, Validation: 100%|██████████| 3/3 [00:02<00:00,  1.50it/s]\n",
            "Evaluate Train: 100%|██████████| 9/9 [00:06<00:00,  1.39it/s]\n",
            "Evaluate Validation: 100%|██████████| 3/3 [00:01<00:00,  2.00it/s]\n"
          ]
        },
        {
          "output_type": "stream",
          "name": "stdout",
          "text": [
            "Epoch 6/50\n",
            "Train - Loss: 0.6360, Accuracy: 0.6464, Precision: 0.6748, Recall: 0.5388, AUC: 0.7118\n",
            "Val - Loss: 0.6212, Accuracy: 0.7045, Precision: 0.7407, Recall: 0.6154, AUC: 0.7431\n"
          ]
        },
        {
          "output_type": "stream",
          "name": "stderr",
          "text": [
            "Epoch 7/50, Train: 100%|██████████| 9/9 [00:08<00:00,  1.07it/s]\n",
            "Epoch 7/50, Validation: 100%|██████████| 3/3 [00:01<00:00,  2.14it/s]\n",
            "Evaluate Train: 100%|██████████| 9/9 [00:06<00:00,  1.35it/s]\n",
            "Evaluate Validation: 100%|██████████| 3/3 [00:01<00:00,  1.86it/s]\n"
          ]
        },
        {
          "output_type": "stream",
          "name": "stdout",
          "text": [
            "Epoch 7/50\n",
            "Train - Loss: 0.6297, Accuracy: 0.6559, Precision: 0.6142, Recall: 0.8023, AUC: 0.7188\n",
            "Val - Loss: 0.6632, Accuracy: 0.6591, Precision: 0.6190, Recall: 0.8000, AUC: 0.7566\n"
          ]
        },
        {
          "output_type": "stream",
          "name": "stderr",
          "text": [
            "Epoch 8/50, Train: 100%|██████████| 9/9 [00:08<00:00,  1.12it/s]\n",
            "Epoch 8/50, Validation: 100%|██████████| 3/3 [00:01<00:00,  1.99it/s]\n",
            "Evaluate Train: 100%|██████████| 9/9 [00:07<00:00,  1.19it/s]\n",
            "Evaluate Validation: 100%|██████████| 3/3 [00:01<00:00,  1.67it/s]\n"
          ]
        },
        {
          "output_type": "stream",
          "name": "stdout",
          "text": [
            "Epoch 8/50\n",
            "Train - Loss: 0.6008, Accuracy: 0.6673, Precision: 0.6812, Recall: 0.6047, AUC: 0.7311\n",
            "Val - Loss: 0.5148, Accuracy: 0.6894, Precision: 0.7143, Recall: 0.6154, AUC: 0.7890\n"
          ]
        },
        {
          "output_type": "stream",
          "name": "stderr",
          "text": [
            "Epoch 9/50, Train: 100%|██████████| 9/9 [00:07<00:00,  1.20it/s]\n",
            "Epoch 9/50, Validation: 100%|██████████| 3/3 [00:02<00:00,  1.43it/s]\n",
            "Evaluate Train: 100%|██████████| 9/9 [00:08<00:00,  1.09it/s]\n",
            "Evaluate Validation: 100%|██████████| 3/3 [00:01<00:00,  2.13it/s]\n"
          ]
        },
        {
          "output_type": "stream",
          "name": "stdout",
          "text": [
            "Epoch 9/50\n",
            "Train - Loss: 0.6029, Accuracy: 0.6692, Precision: 0.6826, Recall: 0.6085, AUC: 0.7483\n",
            "Val - Loss: 0.6338, Accuracy: 0.7045, Precision: 0.7097, Recall: 0.6769, AUC: 0.7750\n"
          ]
        },
        {
          "output_type": "stream",
          "name": "stderr",
          "text": [
            "Epoch 10/50, Train: 100%|██████████| 9/9 [00:08<00:00,  1.12it/s]\n",
            "Epoch 10/50, Validation: 100%|██████████| 3/3 [00:01<00:00,  1.53it/s]\n",
            "Evaluate Train: 100%|██████████| 9/9 [00:06<00:00,  1.33it/s]\n",
            "Evaluate Validation: 100%|██████████| 3/3 [00:02<00:00,  1.36it/s]\n"
          ]
        },
        {
          "output_type": "stream",
          "name": "stdout",
          "text": [
            "Epoch 10/50\n",
            "Train - Loss: 0.6063, Accuracy: 0.7015, Precision: 0.7205, Recall: 0.6395, AUC: 0.7498\n",
            "Val - Loss: 0.5279, Accuracy: 0.6742, Precision: 0.7115, Recall: 0.5692, AUC: 0.7548\n"
          ]
        },
        {
          "output_type": "stream",
          "name": "stderr",
          "text": [
            "Epoch 11/50, Train: 100%|██████████| 9/9 [00:09<00:00,  1.00s/it]\n",
            "Epoch 11/50, Validation: 100%|██████████| 3/3 [00:02<00:00,  1.48it/s]\n",
            "Evaluate Train: 100%|██████████| 9/9 [00:07<00:00,  1.16it/s]\n",
            "Evaluate Validation: 100%|██████████| 3/3 [00:01<00:00,  1.61it/s]\n"
          ]
        },
        {
          "output_type": "stream",
          "name": "stdout",
          "text": [
            "Epoch 11/50\n",
            "Train - Loss: 0.5841, Accuracy: 0.6901, Precision: 0.7074, Recall: 0.6279, AUC: 0.7543\n",
            "Val - Loss: 0.6778, Accuracy: 0.7121, Precision: 0.7213, Recall: 0.6769, AUC: 0.7724\n"
          ]
        },
        {
          "output_type": "stream",
          "name": "stderr",
          "text": [
            "Epoch 12/50, Train: 100%|██████████| 9/9 [00:08<00:00,  1.03it/s]\n",
            "Epoch 12/50, Validation: 100%|██████████| 3/3 [00:01<00:00,  1.67it/s]\n",
            "Evaluate Train: 100%|██████████| 9/9 [00:07<00:00,  1.16it/s]\n",
            "Evaluate Validation: 100%|██████████| 3/3 [00:02<00:00,  1.38it/s]\n"
          ]
        },
        {
          "output_type": "stream",
          "name": "stdout",
          "text": [
            "Epoch 12/50\n",
            "Train - Loss: 0.5726, Accuracy: 0.6825, Precision: 0.6492, Recall: 0.7674, AUC: 0.7612\n",
            "Val - Loss: 0.5227, Accuracy: 0.6591, Precision: 0.6282, Recall: 0.7538, AUC: 0.7711\n"
          ]
        },
        {
          "output_type": "stream",
          "name": "stderr",
          "text": [
            "Epoch 13/50, Train: 100%|██████████| 9/9 [00:08<00:00,  1.08it/s]\n",
            "Epoch 13/50, Validation: 100%|██████████| 3/3 [00:01<00:00,  1.77it/s]\n",
            "Evaluate Train: 100%|██████████| 9/9 [00:07<00:00,  1.22it/s]\n",
            "Evaluate Validation: 100%|██████████| 3/3 [00:01<00:00,  1.87it/s]\n"
          ]
        },
        {
          "output_type": "stream",
          "name": "stdout",
          "text": [
            "Epoch 13/50\n",
            "Train - Loss: 0.5992, Accuracy: 0.6844, Precision: 0.7500, Recall: 0.5349, AUC: 0.7569\n",
            "Val - Loss: 0.6740, Accuracy: 0.7273, Precision: 0.7843, Recall: 0.6154, AUC: 0.7515\n"
          ]
        },
        {
          "output_type": "stream",
          "name": "stderr",
          "text": [
            "Epoch 14/50, Train: 100%|██████████| 9/9 [00:08<00:00,  1.12it/s]\n",
            "Epoch 14/50, Validation: 100%|██████████| 3/3 [00:01<00:00,  1.52it/s]\n",
            "Evaluate Train: 100%|██████████| 9/9 [00:06<00:00,  1.33it/s]\n",
            "Evaluate Validation: 100%|██████████| 3/3 [00:01<00:00,  1.61it/s]\n"
          ]
        },
        {
          "output_type": "stream",
          "name": "stdout",
          "text": [
            "Epoch 14/50\n",
            "Train - Loss: 0.5832, Accuracy: 0.6540, Precision: 0.7262, Recall: 0.4729, AUC: 0.7284\n",
            "Val - Loss: 0.7478, Accuracy: 0.6136, Precision: 0.6842, Recall: 0.4000, AUC: 0.7206\n"
          ]
        },
        {
          "output_type": "stream",
          "name": "stderr",
          "text": [
            "Epoch 15/50, Train: 100%|██████████| 9/9 [00:08<00:00,  1.07it/s]\n",
            "Epoch 15/50, Validation: 100%|██████████| 3/3 [00:01<00:00,  1.67it/s]\n",
            "Evaluate Train: 100%|██████████| 9/9 [00:07<00:00,  1.16it/s]\n",
            "Evaluate Validation: 100%|██████████| 3/3 [00:02<00:00,  1.39it/s]\n"
          ]
        },
        {
          "output_type": "stream",
          "name": "stdout",
          "text": [
            "Epoch 15/50\n",
            "Train - Loss: 0.6016, Accuracy: 0.7224, Precision: 0.7295, Recall: 0.6899, AUC: 0.7842\n",
            "Val - Loss: 0.6188, Accuracy: 0.7197, Precision: 0.7258, Recall: 0.6923, AUC: 0.7727\n"
          ]
        },
        {
          "output_type": "stream",
          "name": "stderr",
          "text": [
            "Epoch 16/50, Train: 100%|██████████| 9/9 [00:08<00:00,  1.07it/s]\n",
            "Epoch 16/50, Validation: 100%|██████████| 3/3 [00:01<00:00,  1.76it/s]\n",
            "Evaluate Train: 100%|██████████| 9/9 [00:06<00:00,  1.48it/s]\n",
            "Evaluate Validation: 100%|██████████| 3/3 [00:01<00:00,  1.64it/s]\n"
          ]
        },
        {
          "output_type": "stream",
          "name": "stdout",
          "text": [
            "Epoch 16/50\n",
            "Train - Loss: 0.5611, Accuracy: 0.6825, Precision: 0.6502, Recall: 0.7636, AUC: 0.7790\n",
            "Val - Loss: 0.6833, Accuracy: 0.7121, Precision: 0.6849, Recall: 0.7692, AUC: 0.7876\n"
          ]
        },
        {
          "output_type": "stream",
          "name": "stderr",
          "text": [
            "Epoch 17/50, Train: 100%|██████████| 9/9 [00:08<00:00,  1.08it/s]\n",
            "Epoch 17/50, Validation: 100%|██████████| 3/3 [00:01<00:00,  1.78it/s]\n",
            "Evaluate Train: 100%|██████████| 9/9 [00:06<00:00,  1.41it/s]\n",
            "Evaluate Validation: 100%|██████████| 3/3 [00:01<00:00,  1.86it/s]\n"
          ]
        },
        {
          "output_type": "stream",
          "name": "stdout",
          "text": [
            "Epoch 17/50\n",
            "Train - Loss: 0.5735, Accuracy: 0.6711, Precision: 0.6254, Recall: 0.8217, AUC: 0.7736\n",
            "Val - Loss: 0.7446, Accuracy: 0.6591, Precision: 0.6220, Recall: 0.7846, AUC: 0.7681\n"
          ]
        },
        {
          "output_type": "stream",
          "name": "stderr",
          "text": [
            "Epoch 18/50, Train: 100%|██████████| 9/9 [00:08<00:00,  1.07it/s]\n",
            "Epoch 18/50, Validation: 100%|██████████| 3/3 [00:02<00:00,  1.50it/s]\n",
            "Evaluate Train: 100%|██████████| 9/9 [00:07<00:00,  1.23it/s]\n",
            "Evaluate Validation: 100%|██████████| 3/3 [00:01<00:00,  1.79it/s]\n"
          ]
        },
        {
          "output_type": "stream",
          "name": "stdout",
          "text": [
            "Epoch 18/50\n",
            "Train - Loss: 0.5897, Accuracy: 0.7053, Precision: 0.7696, Recall: 0.5698, AUC: 0.7795\n",
            "Val - Loss: 0.6486, Accuracy: 0.7273, Precision: 0.7458, Recall: 0.6769, AUC: 0.7688\n"
          ]
        },
        {
          "output_type": "stream",
          "name": "stderr",
          "text": [
            "Epoch 19/50, Train: 100%|██████████| 9/9 [00:08<00:00,  1.09it/s]\n",
            "Epoch 19/50, Validation: 100%|██████████| 3/3 [00:01<00:00,  2.02it/s]\n",
            "Evaluate Train: 100%|██████████| 9/9 [00:08<00:00,  1.06it/s]\n",
            "Evaluate Validation: 100%|██████████| 3/3 [00:01<00:00,  1.82it/s]\n"
          ]
        },
        {
          "output_type": "stream",
          "name": "stdout",
          "text": [
            "Epoch 19/50\n",
            "Train - Loss: 0.6183, Accuracy: 0.6236, Precision: 0.5758, Recall: 0.8837, AUC: 0.7809\n",
            "Val - Loss: 0.6224, Accuracy: 0.5985, Precision: 0.5588, Recall: 0.8769, AUC: 0.7495\n"
          ]
        },
        {
          "output_type": "stream",
          "name": "stderr",
          "text": [
            "Epoch 20/50, Train: 100%|██████████| 9/9 [00:08<00:00,  1.12it/s]\n",
            "Epoch 20/50, Validation: 100%|██████████| 3/3 [00:02<00:00,  1.50it/s]\n",
            "Evaluate Train: 100%|██████████| 9/9 [00:06<00:00,  1.39it/s]\n",
            "Evaluate Validation: 100%|██████████| 3/3 [00:01<00:00,  1.99it/s]\n"
          ]
        },
        {
          "output_type": "stream",
          "name": "stdout",
          "text": [
            "Epoch 20/50\n",
            "Train - Loss: 0.6014, Accuracy: 0.6635, Precision: 0.6246, Recall: 0.7868, AUC: 0.7703\n",
            "Val - Loss: 0.5684, Accuracy: 0.6061, Precision: 0.5802, Recall: 0.7231, AUC: 0.6918\n"
          ]
        },
        {
          "output_type": "stream",
          "name": "stderr",
          "text": [
            "Epoch 21/50, Train: 100%|██████████| 9/9 [00:07<00:00,  1.20it/s]\n",
            "Epoch 21/50, Validation: 100%|██████████| 3/3 [00:02<00:00,  1.20it/s]\n",
            "Evaluate Train: 100%|██████████| 9/9 [00:06<00:00,  1.30it/s]\n",
            "Evaluate Validation: 100%|██████████| 3/3 [00:02<00:00,  1.46it/s]\n"
          ]
        },
        {
          "output_type": "stream",
          "name": "stdout",
          "text": [
            "Epoch 21/50\n",
            "Train - Loss: 0.5893, Accuracy: 0.6768, Precision: 0.8492, Recall: 0.4147, AUC: 0.7832\n",
            "Val - Loss: 0.5033, Accuracy: 0.6894, Precision: 0.8158, Recall: 0.4769, AUC: 0.7995\n"
          ]
        },
        {
          "output_type": "stream",
          "name": "stderr",
          "text": [
            "Epoch 22/50, Train: 100%|██████████| 9/9 [00:08<00:00,  1.03it/s]\n",
            "Epoch 22/50, Validation: 100%|██████████| 3/3 [00:02<00:00,  1.42it/s]\n",
            "Evaluate Train: 100%|██████████| 9/9 [00:06<00:00,  1.33it/s]\n",
            "Evaluate Validation: 100%|██████████| 3/3 [00:01<00:00,  2.12it/s]\n"
          ]
        },
        {
          "output_type": "stream",
          "name": "stdout",
          "text": [
            "Epoch 22/50\n",
            "Train - Loss: 0.5901, Accuracy: 0.7281, Precision: 0.7949, Recall: 0.6008, AUC: 0.7878\n",
            "Val - Loss: 0.4822, Accuracy: 0.7121, Precision: 0.7547, Recall: 0.6154, AUC: 0.7938\n"
          ]
        },
        {
          "output_type": "stream",
          "name": "stderr",
          "text": [
            "Epoch 23/50, Train: 100%|██████████| 9/9 [00:08<00:00,  1.06it/s]\n",
            "Epoch 23/50, Validation: 100%|██████████| 3/3 [00:02<00:00,  1.49it/s]\n",
            "Evaluate Train: 100%|██████████| 9/9 [00:06<00:00,  1.41it/s]\n",
            "Evaluate Validation: 100%|██████████| 3/3 [00:01<00:00,  1.86it/s]\n"
          ]
        },
        {
          "output_type": "stream",
          "name": "stdout",
          "text": [
            "Epoch 23/50\n",
            "Train - Loss: 0.5676, Accuracy: 0.7110, Precision: 0.6667, Recall: 0.8217, AUC: 0.7945\n",
            "Val - Loss: 0.5147, Accuracy: 0.7273, Precision: 0.6835, Recall: 0.8308, AUC: 0.7961\n"
          ]
        },
        {
          "output_type": "stream",
          "name": "stderr",
          "text": [
            "Epoch 24/50, Train: 100%|██████████| 9/9 [00:08<00:00,  1.09it/s]\n",
            "Epoch 24/50, Validation: 100%|██████████| 3/3 [00:01<00:00,  2.13it/s]\n",
            "Evaluate Train: 100%|██████████| 9/9 [00:06<00:00,  1.39it/s]\n",
            "Evaluate Validation: 100%|██████████| 3/3 [00:01<00:00,  1.97it/s]\n"
          ]
        },
        {
          "output_type": "stream",
          "name": "stdout",
          "text": [
            "Epoch 24/50\n",
            "Train - Loss: 0.5561, Accuracy: 0.7186, Precision: 0.6964, Recall: 0.7558, AUC: 0.7964\n",
            "Val - Loss: 0.6831, Accuracy: 0.6894, Precision: 0.6667, Recall: 0.7385, AUC: 0.7605\n"
          ]
        },
        {
          "output_type": "stream",
          "name": "stderr",
          "text": [
            "Epoch 25/50, Train: 100%|██████████| 9/9 [00:08<00:00,  1.04it/s]\n",
            "Epoch 25/50, Validation: 100%|██████████| 3/3 [00:01<00:00,  1.84it/s]\n",
            "Evaluate Train: 100%|██████████| 9/9 [00:07<00:00,  1.22it/s]\n",
            "Evaluate Validation: 100%|██████████| 3/3 [00:01<00:00,  1.74it/s]\n"
          ]
        },
        {
          "output_type": "stream",
          "name": "stdout",
          "text": [
            "Epoch 25/50\n",
            "Train - Loss: 0.5619, Accuracy: 0.7205, Precision: 0.7382, Recall: 0.6667, AUC: 0.7963\n",
            "Val - Loss: 0.5794, Accuracy: 0.7576, Precision: 0.7324, Recall: 0.8000, AUC: 0.7908\n"
          ]
        },
        {
          "output_type": "stream",
          "name": "stderr",
          "text": [
            "Epoch 26/50, Train: 100%|██████████| 9/9 [00:07<00:00,  1.15it/s]\n",
            "Epoch 26/50, Validation: 100%|██████████| 3/3 [00:01<00:00,  1.68it/s]\n",
            "Evaluate Train: 100%|██████████| 9/9 [00:06<00:00,  1.47it/s]\n",
            "Evaluate Validation: 100%|██████████| 3/3 [00:01<00:00,  2.14it/s]\n"
          ]
        },
        {
          "output_type": "stream",
          "name": "stdout",
          "text": [
            "Epoch 26/50\n",
            "Train - Loss: 0.5634, Accuracy: 0.7167, Precision: 0.6926, Recall: 0.7597, AUC: 0.8042\n",
            "Val - Loss: 0.4978, Accuracy: 0.6970, Precision: 0.6667, Recall: 0.7692, AUC: 0.7651\n"
          ]
        },
        {
          "output_type": "stream",
          "name": "stderr",
          "text": [
            "Epoch 27/50, Train: 100%|██████████| 9/9 [00:08<00:00,  1.07it/s]\n",
            "Epoch 27/50, Validation: 100%|██████████| 3/3 [00:01<00:00,  2.13it/s]\n",
            "Evaluate Train: 100%|██████████| 9/9 [00:07<00:00,  1.27it/s]\n",
            "Evaluate Validation: 100%|██████████| 3/3 [00:01<00:00,  1.65it/s]\n"
          ]
        },
        {
          "output_type": "stream",
          "name": "stdout",
          "text": [
            "Epoch 27/50\n",
            "Train - Loss: 0.5454, Accuracy: 0.6749, Precision: 0.6192, Recall: 0.8760, AUC: 0.7994\n",
            "Val - Loss: 0.5377, Accuracy: 0.6970, Precision: 0.6374, Recall: 0.8923, AUC: 0.7812\n"
          ]
        },
        {
          "output_type": "stream",
          "name": "stderr",
          "text": [
            "Epoch 28/50, Train: 100%|██████████| 9/9 [00:08<00:00,  1.10it/s]\n",
            "Epoch 28/50, Validation: 100%|██████████| 3/3 [00:01<00:00,  2.15it/s]\n",
            "Evaluate Train: 100%|██████████| 9/9 [00:07<00:00,  1.16it/s]\n",
            "Evaluate Validation: 100%|██████████| 3/3 [00:01<00:00,  1.74it/s]\n"
          ]
        },
        {
          "output_type": "stream",
          "name": "stdout",
          "text": [
            "Epoch 28/50\n",
            "Train - Loss: 0.5463, Accuracy: 0.7510, Precision: 0.8508, Recall: 0.5969, AUC: 0.8166\n",
            "Val - Loss: 0.5093, Accuracy: 0.7273, Precision: 0.7636, Recall: 0.6462, AUC: 0.7984\n"
          ]
        },
        {
          "output_type": "stream",
          "name": "stderr",
          "text": [
            "Epoch 29/50, Train: 100%|██████████| 9/9 [00:08<00:00,  1.01it/s]\n",
            "Epoch 29/50, Validation: 100%|██████████| 3/3 [00:02<00:00,  1.42it/s]\n",
            "Evaluate Train: 100%|██████████| 9/9 [00:07<00:00,  1.22it/s]\n",
            "Evaluate Validation: 100%|██████████| 3/3 [00:01<00:00,  1.84it/s]\n"
          ]
        },
        {
          "output_type": "stream",
          "name": "stdout",
          "text": [
            "Epoch 29/50\n",
            "Train - Loss: 0.5442, Accuracy: 0.7871, Precision: 0.8380, Recall: 0.7016, AUC: 0.8374\n",
            "Val - Loss: 0.5356, Accuracy: 0.6970, Precision: 0.7193, Recall: 0.6308, AUC: 0.7780\n"
          ]
        },
        {
          "output_type": "stream",
          "name": "stderr",
          "text": [
            "Epoch 30/50, Train: 100%|██████████| 9/9 [00:08<00:00,  1.10it/s]\n",
            "Epoch 30/50, Validation: 100%|██████████| 3/3 [00:01<00:00,  2.15it/s]\n",
            "Evaluate Train: 100%|██████████| 9/9 [00:07<00:00,  1.24it/s]\n",
            "Evaluate Validation: 100%|██████████| 3/3 [00:01<00:00,  2.08it/s]\n"
          ]
        },
        {
          "output_type": "stream",
          "name": "stdout",
          "text": [
            "Epoch 30/50\n",
            "Train - Loss: 0.5722, Accuracy: 0.6863, Precision: 0.6364, Recall: 0.8411, AUC: 0.8177\n",
            "Val - Loss: 0.5194, Accuracy: 0.6439, Precision: 0.5957, Recall: 0.8615, AUC: 0.7754\n"
          ]
        },
        {
          "output_type": "stream",
          "name": "stderr",
          "text": [
            "Epoch 31/50, Train: 100%|██████████| 9/9 [00:08<00:00,  1.03it/s]\n",
            "Epoch 31/50, Validation: 100%|██████████| 3/3 [00:01<00:00,  1.69it/s]\n",
            "Evaluate Train: 100%|██████████| 9/9 [00:07<00:00,  1.24it/s]\n",
            "Evaluate Validation: 100%|██████████| 3/3 [00:01<00:00,  1.70it/s]\n"
          ]
        },
        {
          "output_type": "stream",
          "name": "stdout",
          "text": [
            "Epoch 31/50\n",
            "Train - Loss: 0.5495, Accuracy: 0.7605, Precision: 0.7578, Recall: 0.7519, AUC: 0.8345\n",
            "Val - Loss: 0.5162, Accuracy: 0.7273, Precision: 0.7042, Recall: 0.7692, AUC: 0.8009\n"
          ]
        },
        {
          "output_type": "stream",
          "name": "stderr",
          "text": [
            "Epoch 32/50, Train: 100%|██████████| 9/9 [00:08<00:00,  1.11it/s]\n",
            "Epoch 32/50, Validation: 100%|██████████| 3/3 [00:01<00:00,  2.14it/s]\n",
            "Evaluate Train: 100%|██████████| 9/9 [00:06<00:00,  1.40it/s]\n",
            "Evaluate Validation: 100%|██████████| 3/3 [00:01<00:00,  2.00it/s]\n"
          ]
        },
        {
          "output_type": "stream",
          "name": "stdout",
          "text": [
            "Epoch 32/50\n",
            "Train - Loss: 0.5352, Accuracy: 0.7624, Precision: 0.8065, Recall: 0.6783, AUC: 0.8219\n",
            "Val - Loss: 0.6178, Accuracy: 0.7500, Precision: 0.7667, Recall: 0.7077, AUC: 0.7920\n"
          ]
        },
        {
          "output_type": "stream",
          "name": "stderr",
          "text": [
            "Epoch 33/50, Train: 100%|██████████| 9/9 [00:09<00:00,  1.03s/it]\n",
            "Epoch 33/50, Validation: 100%|██████████| 3/3 [00:02<00:00,  1.47it/s]\n",
            "Evaluate Train: 100%|██████████| 9/9 [00:06<00:00,  1.29it/s]\n",
            "Evaluate Validation: 100%|██████████| 3/3 [00:02<00:00,  1.46it/s]\n"
          ]
        },
        {
          "output_type": "stream",
          "name": "stdout",
          "text": [
            "Epoch 33/50\n",
            "Train - Loss: 0.5152, Accuracy: 0.7338, Precision: 0.7122, Recall: 0.7674, AUC: 0.8334\n",
            "Val - Loss: 0.5963, Accuracy: 0.7500, Precision: 0.7222, Recall: 0.8000, AUC: 0.7897\n"
          ]
        },
        {
          "output_type": "stream",
          "name": "stderr",
          "text": [
            "Epoch 34/50, Train: 100%|██████████| 9/9 [00:08<00:00,  1.08it/s]\n",
            "Epoch 34/50, Validation: 100%|██████████| 3/3 [00:01<00:00,  2.14it/s]\n",
            "Evaluate Train: 100%|██████████| 9/9 [00:06<00:00,  1.41it/s]\n",
            "Evaluate Validation: 100%|██████████| 3/3 [00:01<00:00,  1.68it/s]\n"
          ]
        },
        {
          "output_type": "stream",
          "name": "stdout",
          "text": [
            "Epoch 34/50\n",
            "Train - Loss: 0.5179, Accuracy: 0.7757, Precision: 0.8211, Recall: 0.6938, AUC: 0.8320\n",
            "Val - Loss: 0.5752, Accuracy: 0.7197, Precision: 0.7500, Recall: 0.6462, AUC: 0.7777\n"
          ]
        },
        {
          "output_type": "stream",
          "name": "stderr",
          "text": [
            "Epoch 35/50, Train: 100%|██████████| 9/9 [00:08<00:00,  1.03it/s]\n",
            "Epoch 35/50, Validation: 100%|██████████| 3/3 [00:02<00:00,  1.41it/s]\n",
            "Evaluate Train: 100%|██████████| 9/9 [00:07<00:00,  1.17it/s]\n",
            "Evaluate Validation: 100%|██████████| 3/3 [00:01<00:00,  1.59it/s]\n"
          ]
        },
        {
          "output_type": "stream",
          "name": "stdout",
          "text": [
            "Epoch 35/50\n",
            "Train - Loss: 0.5268, Accuracy: 0.7719, Precision: 0.8416, Recall: 0.6589, AUC: 0.8402\n",
            "Val - Loss: 0.5099, Accuracy: 0.7121, Precision: 0.7547, Recall: 0.6154, AUC: 0.7784\n"
          ]
        },
        {
          "output_type": "stream",
          "name": "stderr",
          "text": [
            "Epoch 36/50, Train: 100%|██████████| 9/9 [00:07<00:00,  1.14it/s]\n",
            "Epoch 36/50, Validation: 100%|██████████| 3/3 [00:01<00:00,  2.01it/s]\n",
            "Evaluate Train: 100%|██████████| 9/9 [00:07<00:00,  1.24it/s]\n",
            "Evaluate Validation: 100%|██████████| 3/3 [00:01<00:00,  1.87it/s]\n"
          ]
        },
        {
          "output_type": "stream",
          "name": "stdout",
          "text": [
            "Epoch 36/50\n",
            "Train - Loss: 0.5165, Accuracy: 0.7224, Precision: 0.8011, Recall: 0.5775, AUC: 0.8197\n",
            "Val - Loss: 0.5322, Accuracy: 0.7500, Precision: 0.7857, Recall: 0.6769, AUC: 0.8214\n"
          ]
        },
        {
          "output_type": "stream",
          "name": "stderr",
          "text": [
            "Epoch 37/50, Train: 100%|██████████| 9/9 [00:08<00:00,  1.09it/s]\n",
            "Epoch 37/50, Validation: 100%|██████████| 3/3 [00:01<00:00,  1.68it/s]\n",
            "Evaluate Train: 100%|██████████| 9/9 [00:06<00:00,  1.40it/s]\n",
            "Evaluate Validation: 100%|██████████| 3/3 [00:01<00:00,  1.95it/s]\n"
          ]
        },
        {
          "output_type": "stream",
          "name": "stdout",
          "text": [
            "Epoch 37/50\n",
            "Train - Loss: 0.5327, Accuracy: 0.7624, Precision: 0.8213, Recall: 0.6589, AUC: 0.8318\n",
            "Val - Loss: 0.4816, Accuracy: 0.7652, Precision: 0.8148, Recall: 0.6769, AUC: 0.8044\n"
          ]
        },
        {
          "output_type": "stream",
          "name": "stderr",
          "text": [
            "Epoch 38/50, Train: 100%|██████████| 9/9 [00:08<00:00,  1.08it/s]\n",
            "Epoch 38/50, Validation: 100%|██████████| 3/3 [00:01<00:00,  2.13it/s]\n",
            "Evaluate Train: 100%|██████████| 9/9 [00:06<00:00,  1.35it/s]\n",
            "Evaluate Validation: 100%|██████████| 3/3 [00:01<00:00,  1.85it/s]\n"
          ]
        },
        {
          "output_type": "stream",
          "name": "stdout",
          "text": [
            "Epoch 38/50\n",
            "Train - Loss: 0.5130, Accuracy: 0.7433, Precision: 0.7030, Recall: 0.8256, AUC: 0.8466\n",
            "Val - Loss: 0.6590, Accuracy: 0.7576, Precision: 0.7200, Recall: 0.8308, AUC: 0.7938\n"
          ]
        },
        {
          "output_type": "stream",
          "name": "stderr",
          "text": [
            "Epoch 39/50, Train: 100%|██████████| 9/9 [00:08<00:00,  1.11it/s]\n",
            "Epoch 39/50, Validation: 100%|██████████| 3/3 [00:01<00:00,  1.84it/s]\n",
            "Evaluate Train: 100%|██████████| 9/9 [00:07<00:00,  1.13it/s]\n",
            "Evaluate Validation: 100%|██████████| 3/3 [00:02<00:00,  1.46it/s]\n"
          ]
        },
        {
          "output_type": "stream",
          "name": "stdout",
          "text": [
            "Epoch 39/50\n",
            "Train - Loss: 0.5255, Accuracy: 0.7395, Precision: 0.6933, Recall: 0.8411, AUC: 0.8444\n",
            "Val - Loss: 0.7033, Accuracy: 0.7273, Precision: 0.6883, Recall: 0.8154, AUC: 0.7954\n"
          ]
        },
        {
          "output_type": "stream",
          "name": "stderr",
          "text": [
            "Epoch 40/50, Train: 100%|██████████| 9/9 [00:08<00:00,  1.11it/s]\n",
            "Epoch 40/50, Validation: 100%|██████████| 3/3 [00:01<00:00,  2.12it/s]\n",
            "Evaluate Train: 100%|██████████| 9/9 [00:06<00:00,  1.41it/s]\n",
            "Evaluate Validation: 100%|██████████| 3/3 [00:01<00:00,  1.64it/s]\n"
          ]
        },
        {
          "output_type": "stream",
          "name": "stdout",
          "text": [
            "Epoch 40/50\n",
            "Train - Loss: 0.4956, Accuracy: 0.7719, Precision: 0.8136, Recall: 0.6938, AUC: 0.8419\n",
            "Val - Loss: 0.4547, Accuracy: 0.7576, Precision: 0.7895, Recall: 0.6923, AUC: 0.7722\n"
          ]
        },
        {
          "output_type": "stream",
          "name": "stderr",
          "text": [
            "Epoch 41/50, Train: 100%|██████████| 9/9 [00:09<00:00,  1.01s/it]\n",
            "Epoch 41/50, Validation: 100%|██████████| 3/3 [00:01<00:00,  1.84it/s]\n",
            "Evaluate Train: 100%|██████████| 9/9 [00:07<00:00,  1.24it/s]\n",
            "Evaluate Validation: 100%|██████████| 3/3 [00:01<00:00,  2.13it/s]\n"
          ]
        },
        {
          "output_type": "stream",
          "name": "stdout",
          "text": [
            "Epoch 41/50\n",
            "Train - Loss: 0.4644, Accuracy: 0.6882, Precision: 0.6516, Recall: 0.7829, AUC: 0.7932\n",
            "Val - Loss: 0.5323, Accuracy: 0.6667, Precision: 0.6235, Recall: 0.8154, AUC: 0.7603\n"
          ]
        },
        {
          "output_type": "stream",
          "name": "stderr",
          "text": [
            "Epoch 42/50, Train: 100%|██████████| 9/9 [00:07<00:00,  1.14it/s]\n",
            "Epoch 42/50, Validation: 100%|██████████| 3/3 [00:02<00:00,  1.42it/s]\n",
            "Evaluate Train: 100%|██████████| 9/9 [00:07<00:00,  1.27it/s]\n",
            "Evaluate Validation: 100%|██████████| 3/3 [00:01<00:00,  2.13it/s]\n"
          ]
        },
        {
          "output_type": "stream",
          "name": "stdout",
          "text": [
            "Epoch 42/50\n",
            "Train - Loss: 0.4941, Accuracy: 0.7567, Precision: 0.7826, Recall: 0.6977, AUC: 0.8369\n",
            "Val - Loss: 0.5126, Accuracy: 0.7348, Precision: 0.7500, Recall: 0.6923, AUC: 0.7883\n"
          ]
        },
        {
          "output_type": "stream",
          "name": "stderr",
          "text": [
            "Epoch 43/50, Train: 100%|██████████| 9/9 [00:08<00:00,  1.09it/s]\n",
            "Epoch 43/50, Validation: 100%|██████████| 3/3 [00:01<00:00,  1.72it/s]\n",
            "Evaluate Train: 100%|██████████| 9/9 [00:07<00:00,  1.17it/s]\n",
            "Evaluate Validation: 100%|██████████| 3/3 [00:02<00:00,  1.39it/s]\n"
          ]
        },
        {
          "output_type": "stream",
          "name": "stdout",
          "text": [
            "Epoch 43/50\n",
            "Train - Loss: 0.4645, Accuracy: 0.7605, Precision: 0.8474, Recall: 0.6240, AUC: 0.8342\n",
            "Val - Loss: 0.7828, Accuracy: 0.7121, Precision: 0.7647, Recall: 0.6000, AUC: 0.7780\n"
          ]
        },
        {
          "output_type": "stream",
          "name": "stderr",
          "text": [
            "Epoch 44/50, Train: 100%|██████████| 9/9 [00:09<00:00,  1.00s/it]\n",
            "Epoch 44/50, Validation: 100%|██████████| 3/3 [00:02<00:00,  1.41it/s]\n",
            "Evaluate Train: 100%|██████████| 9/9 [00:07<00:00,  1.22it/s]\n",
            "Evaluate Validation: 100%|██████████| 3/3 [00:01<00:00,  1.84it/s]\n"
          ]
        },
        {
          "output_type": "stream",
          "name": "stdout",
          "text": [
            "Epoch 44/50\n",
            "Train - Loss: 0.4818, Accuracy: 0.7871, Precision: 0.8883, Recall: 0.6473, AUC: 0.8538\n",
            "Val - Loss: 0.5375, Accuracy: 0.7500, Precision: 0.8200, Recall: 0.6308, AUC: 0.8071\n"
          ]
        },
        {
          "output_type": "stream",
          "name": "stderr",
          "text": [
            "Epoch 45/50, Train: 100%|██████████| 9/9 [00:08<00:00,  1.11it/s]\n",
            "Epoch 45/50, Validation: 100%|██████████| 3/3 [00:01<00:00,  2.15it/s]\n",
            "Evaluate Train: 100%|██████████| 9/9 [00:06<00:00,  1.40it/s]\n",
            "Evaluate Validation: 100%|██████████| 3/3 [00:01<00:00,  1.96it/s]\n"
          ]
        },
        {
          "output_type": "stream",
          "name": "stdout",
          "text": [
            "Epoch 45/50\n",
            "Train - Loss: 0.4863, Accuracy: 0.7776, Precision: 0.9123, Recall: 0.6047, AUC: 0.8652\n",
            "Val - Loss: 0.4535, Accuracy: 0.7652, Precision: 0.8864, Recall: 0.6000, AUC: 0.8168\n"
          ]
        },
        {
          "output_type": "stream",
          "name": "stderr",
          "text": [
            "Epoch 46/50, Train: 100%|██████████| 9/9 [00:08<00:00,  1.06it/s]\n",
            "Epoch 46/50, Validation: 100%|██████████| 3/3 [00:01<00:00,  1.84it/s]\n",
            "Evaluate Train: 100%|██████████| 9/9 [00:07<00:00,  1.13it/s]\n",
            "Evaluate Validation: 100%|██████████| 3/3 [00:02<00:00,  1.47it/s]\n"
          ]
        },
        {
          "output_type": "stream",
          "name": "stdout",
          "text": [
            "Epoch 46/50\n",
            "Train - Loss: 0.4585, Accuracy: 0.7757, Precision: 0.7893, Recall: 0.7403, AUC: 0.8398\n",
            "Val - Loss: 0.6429, Accuracy: 0.7500, Precision: 0.7500, Recall: 0.7385, AUC: 0.8000\n"
          ]
        },
        {
          "output_type": "stream",
          "name": "stderr",
          "text": [
            "Epoch 47/50, Train: 100%|██████████| 9/9 [00:08<00:00,  1.08it/s]\n",
            "Epoch 47/50, Validation: 100%|██████████| 3/3 [00:01<00:00,  2.14it/s]\n",
            "Evaluate Train: 100%|██████████| 9/9 [00:06<00:00,  1.39it/s]\n",
            "Evaluate Validation: 100%|██████████| 3/3 [00:01<00:00,  1.98it/s]\n"
          ]
        },
        {
          "output_type": "stream",
          "name": "stdout",
          "text": [
            "Epoch 47/50\n",
            "Train - Loss: 0.4959, Accuracy: 0.7681, Precision: 0.7957, Recall: 0.7093, AUC: 0.8399\n",
            "Val - Loss: 0.6535, Accuracy: 0.7348, Precision: 0.7500, Recall: 0.6923, AUC: 0.7858\n"
          ]
        },
        {
          "output_type": "stream",
          "name": "stderr",
          "text": [
            "Epoch 48/50, Train: 100%|██████████| 9/9 [00:08<00:00,  1.03it/s]\n",
            "Epoch 48/50, Validation: 100%|██████████| 3/3 [00:01<00:00,  1.72it/s]\n",
            "Evaluate Train: 100%|██████████| 9/9 [00:07<00:00,  1.26it/s]\n",
            "Evaluate Validation: 100%|██████████| 3/3 [00:01<00:00,  1.81it/s]\n"
          ]
        },
        {
          "output_type": "stream",
          "name": "stdout",
          "text": [
            "Epoch 48/50\n",
            "Train - Loss: 0.5115, Accuracy: 0.7814, Precision: 0.8994, Recall: 0.6240, AUC: 0.8517\n",
            "Val - Loss: 0.4724, Accuracy: 0.7424, Precision: 0.8444, Recall: 0.5846, AUC: 0.8124\n"
          ]
        },
        {
          "output_type": "stream",
          "name": "stderr",
          "text": [
            "Epoch 49/50, Train: 100%|██████████| 9/9 [00:07<00:00,  1.15it/s]\n",
            "Epoch 49/50, Validation: 100%|██████████| 3/3 [00:01<00:00,  2.01it/s]\n",
            "Evaluate Train: 100%|██████████| 9/9 [00:06<00:00,  1.39it/s]\n",
            "Evaluate Validation: 100%|██████████| 3/3 [00:01<00:00,  2.15it/s]\n"
          ]
        },
        {
          "output_type": "stream",
          "name": "stdout",
          "text": [
            "Epoch 49/50\n",
            "Train - Loss: 0.4696, Accuracy: 0.7776, Precision: 0.8310, Recall: 0.6860, AUC: 0.8570\n",
            "Val - Loss: 0.5370, Accuracy: 0.7652, Precision: 0.7931, Recall: 0.7077, AUC: 0.8308\n"
          ]
        },
        {
          "output_type": "stream",
          "name": "stderr",
          "text": [
            "Epoch 50/50, Train: 100%|██████████| 9/9 [00:09<00:00,  1.11s/it]\n",
            "Epoch 50/50, Validation: 100%|██████████| 3/3 [00:01<00:00,  2.13it/s]\n",
            "Evaluate Train: 100%|██████████| 9/9 [00:06<00:00,  1.39it/s]\n",
            "Evaluate Validation: 100%|██████████| 3/3 [00:01<00:00,  1.64it/s]\n"
          ]
        },
        {
          "output_type": "stream",
          "name": "stdout",
          "text": [
            "Epoch 50/50\n",
            "Train - Loss: 0.4408, Accuracy: 0.7814, Precision: 0.7942, Recall: 0.7481, AUC: 0.8532\n",
            "Val - Loss: 0.5664, Accuracy: 0.7197, Precision: 0.7059, Recall: 0.7385, AUC: 0.8062\n"
          ]
        },
        {
          "output_type": "stream",
          "name": "stderr",
          "text": [
            "Evaluate Test: 100%|██████████| 3/3 [00:01<00:00,  2.99it/s]\n"
          ]
        },
        {
          "output_type": "stream",
          "name": "stdout",
          "text": [
            "\n",
            "Accuracy: 0.7152, Precision: 0.8542, Recall: 0.5062, AUC: 0.8132\n",
            "Results saved to results/finetune/ori/pvt_v2_b2/classification_results.txt\n"
          ]
        },
        {
          "output_type": "stream",
          "name": "stderr",
          "text": [
            "WARNING:matplotlib.image:Clipping input data to the valid range for imshow with RGB data ([0..1] for floats or [0..255] for integers).\n",
            "WARNING:matplotlib.image:Clipping input data to the valid range for imshow with RGB data ([0..1] for floats or [0..255] for integers).\n",
            "WARNING:matplotlib.image:Clipping input data to the valid range for imshow with RGB data ([0..1] for floats or [0..255] for integers).\n",
            "WARNING:matplotlib.image:Clipping input data to the valid range for imshow with RGB data ([0..1] for floats or [0..255] for integers).\n",
            "WARNING:matplotlib.image:Clipping input data to the valid range for imshow with RGB data ([0..1] for floats or [0..255] for integers).\n",
            "WARNING:matplotlib.image:Clipping input data to the valid range for imshow with RGB data ([0..1] for floats or [0..255] for integers).\n"
          ]
        },
        {
          "output_type": "stream",
          "name": "stdout",
          "text": [
            "Results saved to results/visualization/zero_shot/ucsd/pvt_v2_b2/images/cxr_images.png\n"
          ]
        },
        {
          "output_type": "stream",
          "name": "stderr",
          "text": [
            "Evaluate Train: 100%|██████████| 31/31 [00:06<00:00,  4.86it/s]\n",
            "Evaluate Validation: 100%|██████████| 8/8 [00:00<00:00, 11.79it/s]\n",
            "Evaluate Test: 100%|██████████| 10/10 [00:03<00:00,  3.24it/s]\n"
          ]
        },
        {
          "output_type": "stream",
          "name": "stdout",
          "text": [
            "Results saved to results/zero_shot/ucsd/pvt_v2_b2/classification_results.txt\n"
          ]
        },
        {
          "output_type": "display_data",
          "data": {
            "text/plain": [
              "<Figure size 640x480 with 0 Axes>"
            ]
          },
          "metadata": {}
        }
      ]
    },
    {
      "cell_type": "code",
      "source": [
        "!zip -r pvt_results.zip results"
      ],
      "metadata": {
        "colab": {
          "base_uri": "https://localhost:8080/"
        },
        "id": "caCkMl5lKwVw",
        "outputId": "cce7605f-3200-4f1b-fc1b-0d392b8c94f2"
      },
      "execution_count": 7,
      "outputs": [
        {
          "output_type": "stream",
          "name": "stdout",
          "text": [
            "  adding: results/ (stored 0%)\n",
            "  adding: results/visualization/ (stored 0%)\n",
            "  adding: results/visualization/finetune/ (stored 0%)\n",
            "  adding: results/visualization/finetune/ori/ (stored 0%)\n",
            "  adding: results/visualization/finetune/ori/pvt_v2_b2/ (stored 0%)\n",
            "  adding: results/visualization/finetune/ori/pvt_v2_b2/images/ (stored 0%)\n",
            "  adding: results/visualization/finetune/ori/pvt_v2_b2/images/cxr_images.png (deflated 6%)\n",
            "  adding: results/visualization/finetune/ucsd/ (stored 0%)\n",
            "  adding: results/visualization/finetune/ucsd/pvt_v2_b2/ (stored 0%)\n",
            "  adding: results/visualization/finetune/ucsd/pvt_v2_b2/images/ (stored 0%)\n",
            "  adding: results/visualization/finetune/ucsd/pvt_v2_b2/images/cxr_images.png (deflated 8%)\n",
            "  adding: results/visualization/zero_shot/ (stored 0%)\n",
            "  adding: results/visualization/zero_shot/ori/ (stored 0%)\n",
            "  adding: results/visualization/zero_shot/ori/pvt_v2_b2/ (stored 0%)\n",
            "  adding: results/visualization/zero_shot/ori/pvt_v2_b2/images/ (stored 0%)\n",
            "  adding: results/visualization/zero_shot/ori/pvt_v2_b2/images/cxr_images.png (deflated 7%)\n",
            "  adding: results/visualization/zero_shot/ucsd/ (stored 0%)\n",
            "  adding: results/visualization/zero_shot/ucsd/pvt_v2_b2/ (stored 0%)\n",
            "  adding: results/visualization/zero_shot/ucsd/pvt_v2_b2/images/ (stored 0%)\n",
            "  adding: results/visualization/zero_shot/ucsd/pvt_v2_b2/images/cxr_images.png (deflated 7%)\n",
            "  adding: results/finetune/ (stored 0%)\n",
            "  adding: results/finetune/ori/ (stored 0%)\n",
            "  adding: results/finetune/ori/pvt_v2_b2/ (stored 0%)\n",
            "  adding: results/finetune/ori/pvt_v2_b2/metrics_accuracy_epoch.png (deflated 3%)\n",
            "  adding: results/finetune/ori/pvt_v2_b2/metrics_auc_epoch.png (deflated 5%)\n",
            "  adding: results/finetune/ori/pvt_v2_b2/metrics_recall_epoch.png (deflated 3%)\n",
            "  adding: results/finetune/ori/pvt_v2_b2/metrics_loss_epoch.png (deflated 3%)\n",
            "  adding: results/finetune/ori/pvt_v2_b2/metrics_precision_epoch.png (deflated 2%)\n",
            "  adding: results/finetune/ori/pvt_v2_b2/.ipynb_checkpoints/ (stored 0%)\n",
            "  adding: results/finetune/ori/pvt_v2_b2/classification_results.txt (deflated 53%)\n",
            "  adding: results/finetune/ucsd/ (stored 0%)\n",
            "  adding: results/finetune/ucsd/pvt_v2_b2/ (stored 0%)\n",
            "  adding: results/finetune/ucsd/pvt_v2_b2/metrics_accuracy_epoch.png (deflated 5%)\n",
            "  adding: results/finetune/ucsd/pvt_v2_b2/metrics_auc_epoch.png (deflated 7%)\n",
            "  adding: results/finetune/ucsd/pvt_v2_b2/metrics_recall_epoch.png (deflated 4%)\n",
            "  adding: results/finetune/ucsd/pvt_v2_b2/metrics_loss_epoch.png (deflated 7%)\n",
            "  adding: results/finetune/ucsd/pvt_v2_b2/metrics_precision_epoch.png (deflated 4%)\n",
            "  adding: results/finetune/ucsd/pvt_v2_b2/.ipynb_checkpoints/ (stored 0%)\n",
            "  adding: results/finetune/ucsd/pvt_v2_b2/classification_results.txt (deflated 56%)\n",
            "  adding: results/zero_shot/ (stored 0%)\n",
            "  adding: results/zero_shot/ori/ (stored 0%)\n",
            "  adding: results/zero_shot/ori/pvt_v2_b2/ (stored 0%)\n",
            "  adding: results/zero_shot/ori/pvt_v2_b2/classification_results.txt (deflated 53%)\n",
            "  adding: results/zero_shot/ucsd/ (stored 0%)\n",
            "  adding: results/zero_shot/ucsd/pvt_v2_b2/ (stored 0%)\n",
            "  adding: results/zero_shot/ucsd/pvt_v2_b2/classification_results.txt (deflated 57%)\n"
          ]
        }
      ]
    },
    {
      "cell_type": "code",
      "source": [
        "%cp -r pvt_results.zip drive/MyDrive/ViG-Pediatric"
      ],
      "metadata": {
        "id": "Dd3lPE49Kyzv"
      },
      "execution_count": 5,
      "outputs": []
    }
  ],
  "metadata": {
    "accelerator": "GPU",
    "colab": {
      "gpuType": "A100",
      "machine_shape": "hm",
      "provenance": []
    },
    "kernelspec": {
      "display_name": "Python 3",
      "name": "python3"
    },
    "language_info": {
      "name": "python"
    }
  },
  "nbformat": 4,
  "nbformat_minor": 0
}