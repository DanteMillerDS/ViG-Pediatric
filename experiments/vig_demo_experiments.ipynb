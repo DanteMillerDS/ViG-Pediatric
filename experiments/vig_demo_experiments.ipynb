{
  "cells": [
    {
      "cell_type": "code",
      "execution_count": 1,
      "metadata": {
        "colab": {
          "base_uri": "https://localhost:8080/"
        },
        "id": "SYlFA4SFXLHW",
        "outputId": "88c0243c-480c-4a38-bd44-02553af2d6a0"
      },
      "outputs": [
        {
          "output_type": "stream",
          "name": "stdout",
          "text": [
            "Cloning into 'ViG-Pediatric'...\n",
            "remote: Enumerating objects: 721, done.\u001b[K\n",
            "remote: Counting objects: 100% (239/239), done.\u001b[K\n",
            "remote: Compressing objects: 100% (173/173), done.\u001b[K\n",
            "remote: Total 721 (delta 73), reused 188 (delta 27), pack-reused 482\u001b[K\n",
            "Receiving objects: 100% (721/721), 6.80 MiB | 11.44 MiB/s, done.\n",
            "Resolving deltas: 100% (258/258), done.\n",
            "/content/ViG-Pediatric\n",
            "Submodule 'Efficient-AI-Backbones' (https://github.com/huawei-noah/Efficient-AI-Backbones.git) registered for path 'Efficient-AI-Backbones'\n",
            "Submodule 'PVT' (https://github.com/whai362/PVT.git) registered for path 'PVT'\n",
            "Cloning into '/content/ViG-Pediatric/Efficient-AI-Backbones'...\n",
            "Cloning into '/content/ViG-Pediatric/PVT'...\n",
            "Submodule path 'Efficient-AI-Backbones': checked out 'b216a124bc8c1e999233adc23176bbba82d05d8b'\n",
            "Submodule path 'PVT': checked out '57e2dfaa5a46f9050d76f306a4fcd9a7c061f520'\n",
            "/content\n"
          ]
        }
      ],
      "source": [
        "!git clone https://github.com/DanteMillerDS/ViG-Pediatric.git\n",
        "%cd ViG-Pediatric\n",
        "!git submodule init\n",
        "!git submodule update\n",
        "%cd ../"
      ]
    },
    {
      "cell_type": "code",
      "execution_count": 2,
      "metadata": {
        "colab": {
          "base_uri": "https://localhost:8080/"
        },
        "id": "VQMyZvkCXDmU",
        "outputId": "9009b7df-5ac7-4c1b-8fcd-b505a3377476"
      },
      "outputs": [
        {
          "output_type": "stream",
          "name": "stdout",
          "text": [
            "Collecting ftfy (from -r ViG-Pediatric/requirements.txt (line 1))\n",
            "  Downloading ftfy-6.2.0-py3-none-any.whl (54 kB)\n",
            "\u001b[?25l     \u001b[90m━━━━━━━━━━━━━━━━━━━━━━━━━━━━━━━━━━━━━━━━\u001b[0m \u001b[32m0.0/54.4 kB\u001b[0m \u001b[31m?\u001b[0m eta \u001b[36m-:--:--\u001b[0m\r\u001b[2K     \u001b[90m━━━━━━━━━━━━━━━━━━━━━━━━━━━━━━━━━━━━━━━━\u001b[0m \u001b[32m54.4/54.4 kB\u001b[0m \u001b[31m1.5 MB/s\u001b[0m eta \u001b[36m0:00:00\u001b[0m\n",
            "\u001b[?25hRequirement already satisfied: regex in /usr/local/lib/python3.10/dist-packages (from -r ViG-Pediatric/requirements.txt (line 2)) (2023.12.25)\n",
            "Collecting timm (from -r ViG-Pediatric/requirements.txt (line 3))\n",
            "  Downloading timm-0.9.16-py3-none-any.whl (2.2 MB)\n",
            "\u001b[?25l     \u001b[90m━━━━━━━━━━━━━━━━━━━━━━━━━━━━━━━━━━━━━━━━\u001b[0m \u001b[32m0.0/2.2 MB\u001b[0m \u001b[31m?\u001b[0m eta \u001b[36m-:--:--\u001b[0m\r\u001b[2K     \u001b[91m━━━━━━━━━━━━━━━━━━━━━━━━━━━━━━━━━━━━━━━\u001b[0m\u001b[91m╸\u001b[0m \u001b[32m2.2/2.2 MB\u001b[0m \u001b[31m84.0 MB/s\u001b[0m eta \u001b[36m0:00:01\u001b[0m\r\u001b[2K     \u001b[90m━━━━━━━━━━━━━━━━━━━━━━━━━━━━━━━━━━━━━━━━\u001b[0m \u001b[32m2.2/2.2 MB\u001b[0m \u001b[31m52.2 MB/s\u001b[0m eta \u001b[36m0:00:00\u001b[0m\n",
            "\u001b[?25hRequirement already satisfied: tqdm in /usr/local/lib/python3.10/dist-packages (from -r ViG-Pediatric/requirements.txt (line 4)) (4.66.2)\n",
            "Requirement already satisfied: wcwidth<0.3.0,>=0.2.12 in /usr/local/lib/python3.10/dist-packages (from ftfy->-r ViG-Pediatric/requirements.txt (line 1)) (0.2.13)\n",
            "Requirement already satisfied: torch in /usr/local/lib/python3.10/dist-packages (from timm->-r ViG-Pediatric/requirements.txt (line 3)) (2.2.1+cu121)\n",
            "Requirement already satisfied: torchvision in /usr/local/lib/python3.10/dist-packages (from timm->-r ViG-Pediatric/requirements.txt (line 3)) (0.17.1+cu121)\n",
            "Requirement already satisfied: pyyaml in /usr/local/lib/python3.10/dist-packages (from timm->-r ViG-Pediatric/requirements.txt (line 3)) (6.0.1)\n",
            "Requirement already satisfied: huggingface_hub in /usr/local/lib/python3.10/dist-packages (from timm->-r ViG-Pediatric/requirements.txt (line 3)) (0.20.3)\n",
            "Requirement already satisfied: safetensors in /usr/local/lib/python3.10/dist-packages (from timm->-r ViG-Pediatric/requirements.txt (line 3)) (0.4.3)\n",
            "Requirement already satisfied: filelock in /usr/local/lib/python3.10/dist-packages (from huggingface_hub->timm->-r ViG-Pediatric/requirements.txt (line 3)) (3.13.4)\n",
            "Requirement already satisfied: fsspec>=2023.5.0 in /usr/local/lib/python3.10/dist-packages (from huggingface_hub->timm->-r ViG-Pediatric/requirements.txt (line 3)) (2023.6.0)\n",
            "Requirement already satisfied: requests in /usr/local/lib/python3.10/dist-packages (from huggingface_hub->timm->-r ViG-Pediatric/requirements.txt (line 3)) (2.31.0)\n",
            "Requirement already satisfied: typing-extensions>=3.7.4.3 in /usr/local/lib/python3.10/dist-packages (from huggingface_hub->timm->-r ViG-Pediatric/requirements.txt (line 3)) (4.11.0)\n",
            "Requirement already satisfied: packaging>=20.9 in /usr/local/lib/python3.10/dist-packages (from huggingface_hub->timm->-r ViG-Pediatric/requirements.txt (line 3)) (24.0)\n",
            "Requirement already satisfied: sympy in /usr/local/lib/python3.10/dist-packages (from torch->timm->-r ViG-Pediatric/requirements.txt (line 3)) (1.12)\n",
            "Requirement already satisfied: networkx in /usr/local/lib/python3.10/dist-packages (from torch->timm->-r ViG-Pediatric/requirements.txt (line 3)) (3.3)\n",
            "Requirement already satisfied: jinja2 in /usr/local/lib/python3.10/dist-packages (from torch->timm->-r ViG-Pediatric/requirements.txt (line 3)) (3.1.3)\n",
            "Collecting nvidia-cuda-nvrtc-cu12==12.1.105 (from torch->timm->-r ViG-Pediatric/requirements.txt (line 3))\n",
            "  Using cached nvidia_cuda_nvrtc_cu12-12.1.105-py3-none-manylinux1_x86_64.whl (23.7 MB)\n",
            "Collecting nvidia-cuda-runtime-cu12==12.1.105 (from torch->timm->-r ViG-Pediatric/requirements.txt (line 3))\n",
            "  Using cached nvidia_cuda_runtime_cu12-12.1.105-py3-none-manylinux1_x86_64.whl (823 kB)\n",
            "Collecting nvidia-cuda-cupti-cu12==12.1.105 (from torch->timm->-r ViG-Pediatric/requirements.txt (line 3))\n",
            "  Using cached nvidia_cuda_cupti_cu12-12.1.105-py3-none-manylinux1_x86_64.whl (14.1 MB)\n",
            "Collecting nvidia-cudnn-cu12==8.9.2.26 (from torch->timm->-r ViG-Pediatric/requirements.txt (line 3))\n",
            "  Using cached nvidia_cudnn_cu12-8.9.2.26-py3-none-manylinux1_x86_64.whl (731.7 MB)\n",
            "Collecting nvidia-cublas-cu12==12.1.3.1 (from torch->timm->-r ViG-Pediatric/requirements.txt (line 3))\n",
            "  Using cached nvidia_cublas_cu12-12.1.3.1-py3-none-manylinux1_x86_64.whl (410.6 MB)\n",
            "Collecting nvidia-cufft-cu12==11.0.2.54 (from torch->timm->-r ViG-Pediatric/requirements.txt (line 3))\n",
            "  Using cached nvidia_cufft_cu12-11.0.2.54-py3-none-manylinux1_x86_64.whl (121.6 MB)\n",
            "Collecting nvidia-curand-cu12==10.3.2.106 (from torch->timm->-r ViG-Pediatric/requirements.txt (line 3))\n",
            "  Using cached nvidia_curand_cu12-10.3.2.106-py3-none-manylinux1_x86_64.whl (56.5 MB)\n",
            "Collecting nvidia-cusolver-cu12==11.4.5.107 (from torch->timm->-r ViG-Pediatric/requirements.txt (line 3))\n",
            "  Using cached nvidia_cusolver_cu12-11.4.5.107-py3-none-manylinux1_x86_64.whl (124.2 MB)\n",
            "Collecting nvidia-cusparse-cu12==12.1.0.106 (from torch->timm->-r ViG-Pediatric/requirements.txt (line 3))\n",
            "  Using cached nvidia_cusparse_cu12-12.1.0.106-py3-none-manylinux1_x86_64.whl (196.0 MB)\n",
            "Collecting nvidia-nccl-cu12==2.19.3 (from torch->timm->-r ViG-Pediatric/requirements.txt (line 3))\n",
            "  Using cached nvidia_nccl_cu12-2.19.3-py3-none-manylinux1_x86_64.whl (166.0 MB)\n",
            "Collecting nvidia-nvtx-cu12==12.1.105 (from torch->timm->-r ViG-Pediatric/requirements.txt (line 3))\n",
            "  Using cached nvidia_nvtx_cu12-12.1.105-py3-none-manylinux1_x86_64.whl (99 kB)\n",
            "Requirement already satisfied: triton==2.2.0 in /usr/local/lib/python3.10/dist-packages (from torch->timm->-r ViG-Pediatric/requirements.txt (line 3)) (2.2.0)\n",
            "Collecting nvidia-nvjitlink-cu12 (from nvidia-cusolver-cu12==11.4.5.107->torch->timm->-r ViG-Pediatric/requirements.txt (line 3))\n",
            "  Using cached nvidia_nvjitlink_cu12-12.4.127-py3-none-manylinux2014_x86_64.whl (21.1 MB)\n",
            "Requirement already satisfied: numpy in /usr/local/lib/python3.10/dist-packages (from torchvision->timm->-r ViG-Pediatric/requirements.txt (line 3)) (1.25.2)\n",
            "Requirement already satisfied: pillow!=8.3.*,>=5.3.0 in /usr/local/lib/python3.10/dist-packages (from torchvision->timm->-r ViG-Pediatric/requirements.txt (line 3)) (9.4.0)\n",
            "Requirement already satisfied: MarkupSafe>=2.0 in /usr/local/lib/python3.10/dist-packages (from jinja2->torch->timm->-r ViG-Pediatric/requirements.txt (line 3)) (2.1.5)\n",
            "Requirement already satisfied: charset-normalizer<4,>=2 in /usr/local/lib/python3.10/dist-packages (from requests->huggingface_hub->timm->-r ViG-Pediatric/requirements.txt (line 3)) (3.3.2)\n",
            "Requirement already satisfied: idna<4,>=2.5 in /usr/local/lib/python3.10/dist-packages (from requests->huggingface_hub->timm->-r ViG-Pediatric/requirements.txt (line 3)) (3.7)\n",
            "Requirement already satisfied: urllib3<3,>=1.21.1 in /usr/local/lib/python3.10/dist-packages (from requests->huggingface_hub->timm->-r ViG-Pediatric/requirements.txt (line 3)) (2.0.7)\n",
            "Requirement already satisfied: certifi>=2017.4.17 in /usr/local/lib/python3.10/dist-packages (from requests->huggingface_hub->timm->-r ViG-Pediatric/requirements.txt (line 3)) (2024.2.2)\n",
            "Requirement already satisfied: mpmath>=0.19 in /usr/local/lib/python3.10/dist-packages (from sympy->torch->timm->-r ViG-Pediatric/requirements.txt (line 3)) (1.3.0)\n",
            "Installing collected packages: nvidia-nvtx-cu12, nvidia-nvjitlink-cu12, nvidia-nccl-cu12, nvidia-curand-cu12, nvidia-cufft-cu12, nvidia-cuda-runtime-cu12, nvidia-cuda-nvrtc-cu12, nvidia-cuda-cupti-cu12, nvidia-cublas-cu12, ftfy, nvidia-cusparse-cu12, nvidia-cudnn-cu12, nvidia-cusolver-cu12, timm\n",
            "Successfully installed ftfy-6.2.0 nvidia-cublas-cu12-12.1.3.1 nvidia-cuda-cupti-cu12-12.1.105 nvidia-cuda-nvrtc-cu12-12.1.105 nvidia-cuda-runtime-cu12-12.1.105 nvidia-cudnn-cu12-8.9.2.26 nvidia-cufft-cu12-11.0.2.54 nvidia-curand-cu12-10.3.2.106 nvidia-cusolver-cu12-11.4.5.107 nvidia-cusparse-cu12-12.1.0.106 nvidia-nccl-cu12-2.19.3 nvidia-nvjitlink-cu12-12.4.127 nvidia-nvtx-cu12-12.1.105 timm-0.9.16\n"
          ]
        }
      ],
      "source": [
        "!pip install -r ViG-Pediatric/requirements.txt"
      ]
    },
    {
      "cell_type": "code",
      "execution_count": null,
      "metadata": {
        "id": "XSlfTgTNXnm3"
      },
      "outputs": [],
      "source": [
        "# %run ViG-Pediatric/scripts/vig/finetune_vig_ti_224_gelu.py"
      ]
    },
    {
      "cell_type": "code",
      "execution_count": 3,
      "metadata": {
        "colab": {
          "base_uri": "https://localhost:8080/",
          "height": 1000
        },
        "id": "8Qo0XB08o12e",
        "outputId": "9d3fa763-fea6-498b-df7c-858b45356a88"
      },
      "outputs": [
        {
          "metadata": {
            "tags": null
          },
          "name": "stderr",
          "output_type": "stream",
          "text": [
            "/content/ViG-Pediatric/PVT/classification/pvt_v2.py:330: UserWarning: Overwriting pvt_v2_b0 in registry with PVT.classification.pvt_v2.pvt_v2_b0. This is because the name being registered conflicts with an existing name. Please check if this is not expected.\n",
            "  def pvt_v2_b0(pretrained=False, **kwargs):\n",
            "/content/ViG-Pediatric/PVT/classification/pvt_v2.py:341: UserWarning: Overwriting pvt_v2_b1 in registry with PVT.classification.pvt_v2.pvt_v2_b1. This is because the name being registered conflicts with an existing name. Please check if this is not expected.\n",
            "  def pvt_v2_b1(pretrained=False, **kwargs):\n",
            "/content/ViG-Pediatric/PVT/classification/pvt_v2.py:352: UserWarning: Overwriting pvt_v2_b2 in registry with PVT.classification.pvt_v2.pvt_v2_b2. This is because the name being registered conflicts with an existing name. Please check if this is not expected.\n",
            "  def pvt_v2_b2(pretrained=False, **kwargs):\n",
            "/content/ViG-Pediatric/PVT/classification/pvt_v2.py:362: UserWarning: Overwriting pvt_v2_b3 in registry with PVT.classification.pvt_v2.pvt_v2_b3. This is because the name being registered conflicts with an existing name. Please check if this is not expected.\n",
            "  def pvt_v2_b3(pretrained=False, **kwargs):\n",
            "/content/ViG-Pediatric/PVT/classification/pvt_v2.py:373: UserWarning: Overwriting pvt_v2_b4 in registry with PVT.classification.pvt_v2.pvt_v2_b4. This is because the name being registered conflicts with an existing name. Please check if this is not expected.\n",
            "  def pvt_v2_b4(pretrained=False, **kwargs):\n",
            "/content/ViG-Pediatric/PVT/classification/pvt_v2.py:384: UserWarning: Overwriting pvt_v2_b5 in registry with PVT.classification.pvt_v2.pvt_v2_b5. This is because the name being registered conflicts with an existing name. Please check if this is not expected.\n",
            "  def pvt_v2_b5(pretrained=False, **kwargs):\n",
            "/content/ViG-Pediatric/PVT/classification/pvt_v2.py:395: UserWarning: Overwriting pvt_v2_b2_li in registry with PVT.classification.pvt_v2.pvt_v2_b2_li. This is because the name being registered conflicts with an existing name. Please check if this is not expected.\n",
            "  def pvt_v2_b2_li(pretrained=False, **kwargs):\n"
          ]
        },
        {
          "metadata": {
            "tags": null
          },
          "name": "stdout",
          "output_type": "stream",
          "text": [
            "Mounting Google Drive...\n",
            "Mounted at /content/drive\n",
            "Copying files from Google Drive...\n",
            "Extracting zip files...\n",
            "\n",
            "7-Zip [64] 16.02 : Copyright (c) 1999-2016 Igor Pavlov : 2016-05-21\n",
            "p7zip Version 16.02 (locale=en_US.UTF-8,Utf16=on,HugeFiles=on,64 bits,12 CPUs Intel(R) Xeon(R) CPU @ 2.20GHz (50657),ASM,AES-NI)\n",
            "\n",
            "Scanning the drive for archives:\n",
            "  0M Scan /content/\b\b\b\b\b\b\b\b\b\b\b\b\b\b\b\b\b\b\b                   \b\b\b\b\b\b\b\b\b\b\b\b\b\b\b\b\b\b\b1 file, 22471493 bytes (22 MiB)\n",
            "\n",
            "Extracting archive: /content/ucsd.zip\n",
            " 66% 4096 Open\b\b\b\b\b\b\b\b\b\b\b\b\b\b              \b\b\b\b\b\b\b\b\b\b\b\b\b\b--\n",
            "Path = /content/ucsd.zip\n",
            "Type = zip\n",
            "Physical Size = 22471493\n",
            "\n",
            "  0%\b\b\b\b    \b\b\b\b 23% 1474 - ucsd/Train/Positive/VIRUS-752117-0002.jpeg\b\b\b\b\b\b\b\b\b\b\b\b\b\b\b\b\b\b\b\b\b\b\b\b\b\b\b\b\b\b\b\b\b\b\b\b\b\b\b\b\b\b\b\b\b\b\b\b\b\b\b\b\b\b                                                      \b\b\b\b\b\b\b\b\b\b\b\b\b\b\b\b\b\b\b\b\b\b\b\b\b\b\b\b\b\b\b\b\b\b\b\b\b\b\b\b\b\b\b\b\b\b\b\b\b\b\b\b\b\b 37% 2417 - __MACOSX/ucsd/Train/Positive/._VIRUS-8833130-0001.jpeg\b\b\b\b\b\b\b\b\b\b\b\b\b\b\b\b\b\b\b\b\b\b\b\b\b\b\b\b\b\b\b\b\b\b\b\b\b\b\b\b\b\b\b\b\b\b\b\b\b\b\b\b\b\b\b\b\b\b\b\b\b\b\b\b\b\b                                                                  \b\b\b\b\b\b\b\b\b\b\b\b\b\b\b\b\b\b\b\b\b\b\b\b\b\b\b\b\b\b\b\b\b\b\b\b\b\b\b\b\b\b\b\b\b\b\b\b\b\b\b\b\b\b\b\b\b\b\b\b\b\b\b\b\b\b 46% 3003 - __MACOSX/ucsd/Train/Positive/._VIRUS-990412-0008.jpeg\b\b\b\b\b\b\b\b\b\b\b\b\b\b\b\b\b\b\b\b\b\b\b\b\b\b\b\b\b\b\b\b\b\b\b\b\b\b\b\b\b\b\b\b\b\b\b\b\b\b\b\b\b\b\b\b\b\b\b\b\b\b\b\b\b                                                                 \b\b\b\b\b\b\b\b\b\b\b\b\b\b\b\b\b\b\b\b\b\b\b\b\b\b\b\b\b\b\b\b\b\b\b\b\b\b\b\b\b\b\b\b\b\b\b\b\b\b\b\b\b\b\b\b\b\b\b\b\b\b\b\b\b 63% 4008 - ucsd/Train/Negative/NORMAL-9543520-0001.jpeg\b\b\b\b\b\b\b\b\b\b\b\b\b\b\b\b\b\b\b\b\b\b\b\b\b\b\b\b\b\b\b\b\b\b\b\b\b\b\b\b\b\b\b\b\b\b\b\b\b\b\b\b\b\b\b\b                                                        \b\b\b\b\b\b\b\b\b\b\b\b\b\b\b\b\b\b\b\b\b\b\b\b\b\b\b\b\b\b\b\b\b\b\b\b\b\b\b\b\b\b\b\b\b\b\b\b\b\b\b\b\b\b\b\b 75% 4688 - ucsd/Train/Negative/NORMAL-3948906-0001.jpeg\b\b\b\b\b\b\b\b\b\b\b\b\b\b\b\b\b\b\b\b\b\b\b\b\b\b\b\b\b\b\b\b\b\b\b\b\b\b\b\b\b\b\b\b\b\b\b\b\b\b\b\b\b\b\b\b                                                        \b\b\b\b\b\b\b\b\b\b\b\b\b\b\b\b\b\b\b\b\b\b\b\b\b\b\b\b\b\b\b\b\b\b\b\b\b\b\b\b\b\b\b\b\b\b\b\b\b\b\b\b\b\b\b\b 84% 5233\b\b\b\b\b\b\b\b\b         \b\b\b\b\b\b\b\b\bEverything is Ok\n",
            "\n",
            "Folders: 10\n",
            "Files: 6162\n",
            "Size:       21151375\n",
            "Compressed: 22471493\n",
            "\n",
            "7-Zip [64] 16.02 : Copyright (c) 1999-2016 Igor Pavlov : 2016-05-21\n",
            "p7zip Version 16.02 (locale=en_US.UTF-8,Utf16=on,HugeFiles=on,64 bits,12 CPUs Intel(R) Xeon(R) CPU @ 2.20GHz (50657),ASM,AES-NI)\n",
            "\n",
            "Scanning the drive for archives:\n",
            "  0M Scan /content/\b\b\b\b\b\b\b\b\b\b\b\b\b\b\b\b\b\b\b                   \b\b\b\b\b\b\b\b\b\b\b\b\b\b\b\b\b\b\b1 file, 19842873 bytes (19 MiB)\n",
            "\n",
            "Extracting archive: /content/ori.zip\n",
            "--\n",
            "Path = /content/ori.zip\n",
            "Type = zip\n",
            "Physical Size = 19842873\n",
            "\n",
            "  0%\b\b\b\b    \b\b\b\b 76% 1274 - ori/Train/Negative/5Y4XQAOGO7B5.png\b\b\b\b\b\b\b\b\b\b\b\b\b\b\b\b\b\b\b\b\b\b\b\b\b\b\b\b\b\b\b\b\b\b\b\b\b\b\b\b\b\b\b\b\b\b\b                                               \b\b\b\b\b\b\b\b\b\b\b\b\b\b\b\b\b\b\b\b\b\b\b\b\b\b\b\b\b\b\b\b\b\b\b\b\b\b\b\b\b\b\b\b\b\b\bEverything is Ok\n",
            "\n",
            "Folders: 10\n",
            "Files: 1662\n",
            "Size:       19522791\n",
            "Compressed: 19842873\n",
            "Files extracted successfully.\n"
          ]
        },
        {
          "metadata": {
            "tags": null
          },
          "name": "stderr",
          "output_type": "stream",
          "text": [
            "WARNING:matplotlib.image:Clipping input data to the valid range for imshow with RGB data ([0..1] for floats or [0..255] for integers).\n",
            "WARNING:matplotlib.image:Clipping input data to the valid range for imshow with RGB data ([0..1] for floats or [0..255] for integers).\n",
            "WARNING:matplotlib.image:Clipping input data to the valid range for imshow with RGB data ([0..1] for floats or [0..255] for integers).\n",
            "WARNING:matplotlib.image:Clipping input data to the valid range for imshow with RGB data ([0..1] for floats or [0..255] for integers).\n",
            "WARNING:matplotlib.image:Clipping input data to the valid range for imshow with RGB data ([0..1] for floats or [0..255] for integers).\n",
            "WARNING:matplotlib.image:Clipping input data to the valid range for imshow with RGB data ([0..1] for floats or [0..255] for integers).\n"
          ]
        },
        {
          "metadata": {
            "tags": null
          },
          "name": "stdout",
          "output_type": "stream",
          "text": [
            "Results saved to results/visualization/finetune/ucsd/vig_s_224_gelu/images/cxr_images.png\n"
          ]
        },
        {
          "metadata": {
            "tags": null
          },
          "name": "stderr",
          "output_type": "stream",
          "text": [
            "/usr/local/lib/python3.10/dist-packages/torchvision/models/inception.py:43: FutureWarning: The default weight initialization of inception_v3 will be changed in future releases of torchvision. If you wish to keep the old behavior (which leads to long initialization times due to scipy/scipy#11299), please set init_weights=True.\n",
            "  warnings.warn(\n"
          ]
        },
        {
          "metadata": {
            "tags": null
          },
          "name": "stdout",
          "output_type": "stream",
          "text": [
            "NVIDIA library configured successfully.\n",
            "Model vig_s_224_gelu loaded with mean and std normalization.\n",
            "Mean: [0.4655 0.4655 0.4655], Std: [0.2523 0.2523 0.2523]\n"
          ]
        },
        {
          "metadata": {
            "tags": null
          },
          "name": "stderr",
          "output_type": "stream",
          "text": [
            "/usr/lib/python3.10/multiprocessing/popen_fork.py:66: RuntimeWarning: os.fork() was called. os.fork() is incompatible with multithreaded code, and JAX is multithreaded, so this will likely lead to a deadlock.\n",
            "  self.pid = os.fork()\n",
            "/usr/lib/python3.10/multiprocessing/popen_fork.py:66: RuntimeWarning: os.fork() was called. os.fork() is incompatible with multithreaded code, and JAX is multithreaded, so this will likely lead to a deadlock.\n",
            "  self.pid = os.fork()\n",
            "Epoch 1/50, Train:   0%|          | 0/31 [00:00<?, ?it/s]/usr/local/lib/python3.10/dist-packages/torch/_inductor/compile_fx.py:140: UserWarning: TensorFloat32 tensor cores for float32 matrix multiplication available but not enabled. Consider setting `torch.set_float32_matmul_precision('high')` for better performance.\n",
            "  warnings.warn(\n",
            "Epoch 1/50, Train: 100%|██████████| 31/31 [04:13<00:00,  8.19s/it]\n",
            "Epoch 1/50, Validation: 100%|██████████| 8/8 [01:37<00:00, 12.13s/it]\n",
            "Evaluate Train: 100%|██████████| 31/31 [01:19<00:00,  2.58s/it]\n",
            "Evaluate Validation: 100%|██████████| 8/8 [00:06<00:00,  1.17it/s]\n"
          ]
        },
        {
          "metadata": {
            "tags": null
          },
          "name": "stdout",
          "output_type": "stream",
          "text": [
            "Epoch 1/50\n",
            "Train - Loss: 0.3686, Accuracy: 0.7870, Precision: 0.7043, Recall: 0.9675, AUC: 0.9461\n",
            "Val - Loss: 0.4724, Accuracy: 0.7748, Precision: 0.6939, Recall: 0.9582, AUC: 0.9375\n"
          ]
        },
        {
          "metadata": {
            "tags": null
          },
          "name": "stderr",
          "output_type": "stream",
          "text": [
            "Epoch 2/50, Train: 100%|██████████| 31/31 [00:30<00:00,  1.02it/s]\n",
            "Epoch 2/50, Validation: 100%|██████████| 8/8 [00:05<00:00,  1.35it/s]\n",
            "Evaluate Train: 100%|██████████| 31/31 [00:25<00:00,  1.22it/s]\n",
            "Evaluate Validation: 100%|██████████| 8/8 [00:08<00:00,  1.01s/it]\n"
          ]
        },
        {
          "metadata": {
            "tags": null
          },
          "name": "stdout",
          "output_type": "stream",
          "text": [
            "Epoch 2/50\n",
            "Train - Loss: 0.2684, Accuracy: 0.8388, Precision: 0.9790, Recall: 0.6827, AUC: 0.9687\n",
            "Val - Loss: 0.4237, Accuracy: 0.8418, Precision: 0.9820, Recall: 0.6862, AUC: 0.9576\n"
          ]
        },
        {
          "metadata": {
            "tags": null
          },
          "name": "stderr",
          "output_type": "stream",
          "text": [
            "Epoch 3/50, Train: 100%|██████████| 31/31 [00:30<00:00,  1.03it/s]\n",
            "Epoch 3/50, Validation: 100%|██████████| 8/8 [00:06<00:00,  1.17it/s]\n",
            "Evaluate Train: 100%|██████████| 31/31 [00:24<00:00,  1.26it/s]\n",
            "Evaluate Validation: 100%|██████████| 8/8 [00:06<00:00,  1.25it/s]\n"
          ]
        },
        {
          "metadata": {
            "tags": null
          },
          "name": "stdout",
          "output_type": "stream",
          "text": [
            "Epoch 3/50\n",
            "Train - Loss: 0.2327, Accuracy: 0.9258, Precision: 0.9200, Recall: 0.9277, AUC: 0.9763\n",
            "Val - Loss: 0.2087, Accuracy: 0.9209, Precision: 0.9274, Recall: 0.9079, AUC: 0.9731\n"
          ]
        },
        {
          "metadata": {
            "tags": null
          },
          "name": "stderr",
          "output_type": "stream",
          "text": [
            "Epoch 4/50, Train: 100%|██████████| 31/31 [00:30<00:00,  1.03it/s]\n",
            "Epoch 4/50, Validation: 100%|██████████| 8/8 [00:05<00:00,  1.38it/s]\n",
            "Evaluate Train: 100%|██████████| 31/31 [00:24<00:00,  1.24it/s]\n",
            "Evaluate Validation: 100%|██████████| 8/8 [00:06<00:00,  1.21it/s]\n"
          ]
        },
        {
          "metadata": {
            "tags": null
          },
          "name": "stdout",
          "output_type": "stream",
          "text": [
            "Epoch 4/50\n",
            "Train - Loss: 0.2083, Accuracy: 0.9202, Precision: 0.9433, Recall: 0.8890, AUC: 0.9687\n",
            "Val - Loss: 0.2577, Accuracy: 0.8986, Precision: 0.9315, Recall: 0.8536, AUC: 0.9532\n"
          ]
        },
        {
          "metadata": {
            "tags": null
          },
          "name": "stderr",
          "output_type": "stream",
          "text": [
            "Epoch 5/50, Train: 100%|██████████| 31/31 [00:30<00:00,  1.02it/s]\n",
            "Epoch 5/50, Validation: 100%|██████████| 8/8 [00:06<00:00,  1.26it/s]\n",
            "Evaluate Train: 100%|██████████| 31/31 [00:26<00:00,  1.18it/s]\n",
            "Evaluate Validation: 100%|██████████| 8/8 [00:06<00:00,  1.29it/s]\n"
          ]
        },
        {
          "metadata": {
            "tags": null
          },
          "name": "stdout",
          "output_type": "stream",
          "text": [
            "Epoch 5/50\n",
            "Train - Loss: 0.2207, Accuracy: 0.9156, Precision: 0.9625, Recall: 0.8597, AUC: 0.9770\n",
            "Val - Loss: 0.2522, Accuracy: 0.8884, Precision: 0.9600, Recall: 0.8033, AUC: 0.9742\n"
          ]
        },
        {
          "metadata": {
            "tags": null
          },
          "name": "stderr",
          "output_type": "stream",
          "text": [
            "Epoch 6/50, Train: 100%|██████████| 31/31 [00:29<00:00,  1.04it/s]\n",
            "Epoch 6/50, Validation: 100%|██████████| 8/8 [00:07<00:00,  1.11it/s]\n",
            "Evaluate Train: 100%|██████████| 31/31 [00:24<00:00,  1.24it/s]\n",
            "Evaluate Validation: 100%|██████████| 8/8 [00:05<00:00,  1.42it/s]\n"
          ]
        },
        {
          "metadata": {
            "tags": null
          },
          "name": "stdout",
          "output_type": "stream",
          "text": [
            "Epoch 6/50\n",
            "Train - Loss: 0.1981, Accuracy: 0.9375, Precision: 0.9254, Recall: 0.9476, AUC: 0.9847\n",
            "Val - Loss: 0.1878, Accuracy: 0.9189, Precision: 0.9129, Recall: 0.9205, AUC: 0.9764\n"
          ]
        },
        {
          "metadata": {
            "tags": null
          },
          "name": "stderr",
          "output_type": "stream",
          "text": [
            "Epoch 7/50, Train: 100%|██████████| 31/31 [00:30<00:00,  1.03it/s]\n",
            "Epoch 7/50, Validation: 100%|██████████| 8/8 [00:05<00:00,  1.41it/s]\n",
            "Evaluate Train: 100%|██████████| 31/31 [00:26<00:00,  1.17it/s]\n",
            "Evaluate Validation: 100%|██████████| 8/8 [00:06<00:00,  1.19it/s]\n"
          ]
        },
        {
          "metadata": {
            "tags": null
          },
          "name": "stdout",
          "output_type": "stream",
          "text": [
            "Epoch 7/50\n",
            "Train - Loss: 0.1866, Accuracy: 0.9258, Precision: 0.8834, Recall: 0.9759, AUC: 0.9871\n",
            "Val - Loss: 0.2289, Accuracy: 0.9209, Precision: 0.8759, Recall: 0.9749, AUC: 0.9822\n"
          ]
        },
        {
          "metadata": {
            "tags": null
          },
          "name": "stderr",
          "output_type": "stream",
          "text": [
            "Epoch 8/50, Train: 100%|██████████| 31/31 [00:29<00:00,  1.06it/s]\n",
            "Epoch 8/50, Validation: 100%|██████████| 8/8 [00:05<00:00,  1.42it/s]\n",
            "Evaluate Train: 100%|██████████| 31/31 [00:24<00:00,  1.29it/s]\n",
            "Evaluate Validation: 100%|██████████| 8/8 [00:06<00:00,  1.26it/s]\n"
          ]
        },
        {
          "metadata": {
            "tags": null
          },
          "name": "stdout",
          "output_type": "stream",
          "text": [
            "Epoch 8/50\n",
            "Train - Loss: 0.1708, Accuracy: 0.9354, Precision: 0.9621, Recall: 0.9026, AUC: 0.9855\n",
            "Val - Loss: 0.2132, Accuracy: 0.9270, Precision: 0.9593, Recall: 0.8870, AUC: 0.9781\n"
          ]
        },
        {
          "metadata": {
            "tags": null
          },
          "name": "stderr",
          "output_type": "stream",
          "text": [
            "Epoch 9/50, Train: 100%|██████████| 31/31 [00:29<00:00,  1.04it/s]\n",
            "Epoch 9/50, Validation: 100%|██████████| 8/8 [00:07<00:00,  1.02it/s]\n",
            "Evaluate Train: 100%|██████████| 31/31 [00:28<00:00,  1.09it/s]\n",
            "Evaluate Validation: 100%|██████████| 8/8 [00:07<00:00,  1.05it/s]\n"
          ]
        },
        {
          "metadata": {
            "tags": null
          },
          "name": "stdout",
          "output_type": "stream",
          "text": [
            "Epoch 9/50\n",
            "Train - Loss: 0.1606, Accuracy: 0.9212, Precision: 0.9556, Recall: 0.8785, AUC: 0.9811\n",
            "Val - Loss: 0.2493, Accuracy: 0.9229, Precision: 0.9548, Recall: 0.8828, AUC: 0.9755\n"
          ]
        },
        {
          "metadata": {
            "tags": null
          },
          "name": "stderr",
          "output_type": "stream",
          "text": [
            "Epoch 10/50, Train: 100%|██████████| 31/31 [00:29<00:00,  1.03it/s]\n",
            "Epoch 10/50, Validation: 100%|██████████| 8/8 [00:07<00:00,  1.12it/s]\n",
            "Evaluate Train: 100%|██████████| 31/31 [00:28<00:00,  1.07it/s]\n",
            "Evaluate Validation: 100%|██████████| 8/8 [00:06<00:00,  1.17it/s]\n"
          ]
        },
        {
          "metadata": {
            "tags": null
          },
          "name": "stdout",
          "output_type": "stream",
          "text": [
            "Epoch 10/50\n",
            "Train - Loss: 0.1717, Accuracy: 0.9227, Precision: 0.9774, Recall: 0.8607, AUC: 0.9852\n",
            "Val - Loss: 0.2816, Accuracy: 0.8905, Precision: 0.9695, Recall: 0.7992, AUC: 0.9789\n"
          ]
        },
        {
          "metadata": {
            "tags": null
          },
          "name": "stderr",
          "output_type": "stream",
          "text": [
            "Epoch 11/50, Train: 100%|██████████| 31/31 [00:30<00:00,  1.02it/s]\n",
            "Epoch 11/50, Validation: 100%|██████████| 8/8 [00:06<00:00,  1.27it/s]\n",
            "Evaluate Train: 100%|██████████| 31/31 [00:26<00:00,  1.15it/s]\n",
            "Evaluate Validation: 100%|██████████| 8/8 [00:06<00:00,  1.19it/s]\n"
          ]
        },
        {
          "metadata": {
            "tags": null
          },
          "name": "stdout",
          "output_type": "stream",
          "text": [
            "Epoch 11/50\n",
            "Train - Loss: 0.1537, Accuracy: 0.9542, Precision: 0.9596, Recall: 0.9455, AUC: 0.9903\n",
            "Val - Loss: 0.1705, Accuracy: 0.9432, Precision: 0.9489, Recall: 0.9331, AUC: 0.9871\n"
          ]
        },
        {
          "metadata": {
            "tags": null
          },
          "name": "stderr",
          "output_type": "stream",
          "text": [
            "Epoch 12/50, Train: 100%|██████████| 31/31 [00:30<00:00,  1.01it/s]\n",
            "Epoch 12/50, Validation: 100%|██████████| 8/8 [00:06<00:00,  1.20it/s]\n",
            "Evaluate Train: 100%|██████████| 31/31 [00:27<00:00,  1.12it/s]\n",
            "Evaluate Validation: 100%|██████████| 8/8 [00:05<00:00,  1.35it/s]\n"
          ]
        },
        {
          "metadata": {
            "tags": null
          },
          "name": "stdout",
          "output_type": "stream",
          "text": [
            "Epoch 12/50\n",
            "Train - Loss: 0.1592, Accuracy: 0.9517, Precision: 0.9574, Recall: 0.9424, AUC: 0.9901\n",
            "Val - Loss: 0.1683, Accuracy: 0.9432, Precision: 0.9489, Recall: 0.9331, AUC: 0.9828\n"
          ]
        },
        {
          "metadata": {
            "tags": null
          },
          "name": "stderr",
          "output_type": "stream",
          "text": [
            "Epoch 13/50, Train: 100%|██████████| 31/31 [00:29<00:00,  1.03it/s]\n",
            "Epoch 13/50, Validation: 100%|██████████| 8/8 [00:05<00:00,  1.37it/s]\n",
            "Evaluate Train: 100%|██████████| 31/31 [00:21<00:00,  1.44it/s]\n",
            "Evaluate Validation: 100%|██████████| 8/8 [00:05<00:00,  1.54it/s]\n"
          ]
        },
        {
          "metadata": {
            "tags": null
          },
          "name": "stdout",
          "output_type": "stream",
          "text": [
            "Epoch 13/50\n",
            "Train - Loss: 0.1358, Accuracy: 0.9415, Precision: 0.9384, Recall: 0.9414, AUC: 0.9869\n",
            "Val - Loss: 0.2036, Accuracy: 0.9128, Precision: 0.9050, Recall: 0.9163, AUC: 0.9767\n"
          ]
        },
        {
          "output_type": "stream",
          "name": "stderr",
          "text": [
            "Epoch 14/50, Train: 100%|██████████| 31/31 [00:24<00:00,  1.25it/s]\n",
            "Epoch 14/50, Validation: 100%|██████████| 8/8 [00:05<00:00,  1.44it/s]\n",
            "Evaluate Train: 100%|██████████| 31/31 [00:21<00:00,  1.45it/s]\n",
            "Evaluate Validation: 100%|██████████| 8/8 [00:05<00:00,  1.54it/s]\n"
          ]
        },
        {
          "output_type": "stream",
          "name": "stdout",
          "text": [
            "Epoch 14/50\n",
            "Train - Loss: 0.1551, Accuracy: 0.9298, Precision: 0.8924, Recall: 0.9728, AUC: 0.9875\n",
            "Val - Loss: 0.2004, Accuracy: 0.9351, Precision: 0.9091, Recall: 0.9623, AUC: 0.9786\n"
          ]
        },
        {
          "output_type": "stream",
          "name": "stderr",
          "text": [
            "Epoch 15/50, Train: 100%|██████████| 31/31 [00:24<00:00,  1.25it/s]\n",
            "Epoch 15/50, Validation: 100%|██████████| 8/8 [00:05<00:00,  1.44it/s]\n",
            "Evaluate Train: 100%|██████████| 31/31 [00:21<00:00,  1.45it/s]\n",
            "Evaluate Validation: 100%|██████████| 8/8 [00:05<00:00,  1.45it/s]\n"
          ]
        },
        {
          "output_type": "stream",
          "name": "stdout",
          "text": [
            "Epoch 15/50\n",
            "Train - Loss: 0.1436, Accuracy: 0.9181, Precision: 0.9830, Recall: 0.8461, AUC: 0.9907\n",
            "Val - Loss: 0.2494, Accuracy: 0.9087, Precision: 0.9575, Recall: 0.8494, AUC: 0.9787\n"
          ]
        },
        {
          "output_type": "stream",
          "name": "stderr",
          "text": [
            "Epoch 16/50, Train: 100%|██████████| 31/31 [00:25<00:00,  1.23it/s]\n",
            "Epoch 16/50, Validation: 100%|██████████| 8/8 [00:05<00:00,  1.43it/s]\n",
            "Evaluate Train: 100%|██████████| 31/31 [00:21<00:00,  1.45it/s]\n",
            "Evaluate Validation: 100%|██████████| 8/8 [00:05<00:00,  1.47it/s]\n"
          ]
        },
        {
          "output_type": "stream",
          "name": "stdout",
          "text": [
            "Epoch 16/50\n",
            "Train - Loss: 0.1486, Accuracy: 0.9354, Precision: 0.9673, Recall: 0.8974, AUC: 0.9892\n",
            "Val - Loss: 0.1797, Accuracy: 0.9249, Precision: 0.9509, Recall: 0.8912, AUC: 0.9831\n"
          ]
        },
        {
          "output_type": "stream",
          "name": "stderr",
          "text": [
            "Epoch 17/50, Train: 100%|██████████| 31/31 [00:24<00:00,  1.24it/s]\n",
            "Epoch 17/50, Validation: 100%|██████████| 8/8 [00:05<00:00,  1.45it/s]\n",
            "Evaluate Train: 100%|██████████| 31/31 [00:21<00:00,  1.47it/s]\n",
            "Evaluate Validation: 100%|██████████| 8/8 [00:05<00:00,  1.49it/s]\n"
          ]
        },
        {
          "output_type": "stream",
          "name": "stdout",
          "text": [
            "Epoch 17/50\n",
            "Train - Loss: 0.1258, Accuracy: 0.9314, Precision: 0.9670, Recall: 0.8890, AUC: 0.9881\n",
            "Val - Loss: 0.2024, Accuracy: 0.9189, Precision: 0.9671, Recall: 0.8619, AUC: 0.9822\n"
          ]
        },
        {
          "output_type": "stream",
          "name": "stderr",
          "text": [
            "Epoch 18/50, Train: 100%|██████████| 31/31 [00:24<00:00,  1.26it/s]\n",
            "Epoch 18/50, Validation: 100%|██████████| 8/8 [00:05<00:00,  1.45it/s]\n",
            "Evaluate Train: 100%|██████████| 31/31 [00:21<00:00,  1.46it/s]\n",
            "Evaluate Validation: 100%|██████████| 8/8 [00:05<00:00,  1.52it/s]\n"
          ]
        },
        {
          "output_type": "stream",
          "name": "stdout",
          "text": [
            "Epoch 18/50\n",
            "Train - Loss: 0.1277, Accuracy: 0.9522, Precision: 0.9799, Recall: 0.9204, AUC: 0.9926\n",
            "Val - Loss: 0.1846, Accuracy: 0.9371, Precision: 0.9727, Recall: 0.8954, AUC: 0.9822\n"
          ]
        },
        {
          "output_type": "stream",
          "name": "stderr",
          "text": [
            "Epoch 19/50, Train: 100%|██████████| 31/31 [00:25<00:00,  1.23it/s]\n",
            "Epoch 19/50, Validation: 100%|██████████| 8/8 [00:05<00:00,  1.37it/s]\n",
            "Evaluate Train: 100%|██████████| 31/31 [00:21<00:00,  1.42it/s]\n",
            "Evaluate Validation: 100%|██████████| 8/8 [00:05<00:00,  1.53it/s]\n"
          ]
        },
        {
          "output_type": "stream",
          "name": "stdout",
          "text": [
            "Epoch 19/50\n",
            "Train - Loss: 0.1243, Accuracy: 0.9619, Precision: 0.9741, Recall: 0.9466, AUC: 0.9947\n",
            "Val - Loss: 0.1622, Accuracy: 0.9432, Precision: 0.9689, Recall: 0.9121, AUC: 0.9874\n"
          ]
        },
        {
          "output_type": "stream",
          "name": "stderr",
          "text": [
            "Epoch 20/50, Train: 100%|██████████| 31/31 [00:24<00:00,  1.26it/s]\n",
            "Epoch 20/50, Validation: 100%|██████████| 8/8 [00:05<00:00,  1.52it/s]\n",
            "Evaluate Train: 100%|██████████| 31/31 [00:21<00:00,  1.44it/s]\n",
            "Evaluate Validation: 100%|██████████| 8/8 [00:05<00:00,  1.47it/s]\n"
          ]
        },
        {
          "output_type": "stream",
          "name": "stdout",
          "text": [
            "Epoch 20/50\n",
            "Train - Loss: 0.1221, Accuracy: 0.9522, Precision: 0.9233, Recall: 0.9832, AUC: 0.9934\n",
            "Val - Loss: 0.1806, Accuracy: 0.9412, Precision: 0.9234, Recall: 0.9582, AUC: 0.9810\n"
          ]
        },
        {
          "output_type": "stream",
          "name": "stderr",
          "text": [
            "Epoch 21/50, Train: 100%|██████████| 31/31 [00:24<00:00,  1.25it/s]\n",
            "Epoch 21/50, Validation: 100%|██████████| 8/8 [00:05<00:00,  1.52it/s]\n",
            "Evaluate Train: 100%|██████████| 31/31 [00:21<00:00,  1.44it/s]\n",
            "Evaluate Validation: 100%|██████████| 8/8 [00:05<00:00,  1.50it/s]\n"
          ]
        },
        {
          "output_type": "stream",
          "name": "stdout",
          "text": [
            "Epoch 21/50\n",
            "Train - Loss: 0.1397, Accuracy: 0.9558, Precision: 0.9687, Recall: 0.9393, AUC: 0.9936\n",
            "Val - Loss: 0.1672, Accuracy: 0.9412, Precision: 0.9565, Recall: 0.9205, AUC: 0.9861\n"
          ]
        },
        {
          "output_type": "stream",
          "name": "stderr",
          "text": [
            "Epoch 22/50, Train: 100%|██████████| 31/31 [00:24<00:00,  1.25it/s]\n",
            "Epoch 22/50, Validation: 100%|██████████| 8/8 [00:05<00:00,  1.46it/s]\n",
            "Evaluate Train: 100%|██████████| 31/31 [00:21<00:00,  1.45it/s]\n",
            "Evaluate Validation: 100%|██████████| 8/8 [00:05<00:00,  1.54it/s]\n"
          ]
        },
        {
          "output_type": "stream",
          "name": "stdout",
          "text": [
            "Epoch 22/50\n",
            "Train - Loss: 0.1197, Accuracy: 0.9232, Precision: 0.9879, Recall: 0.8524, AUC: 0.9926\n",
            "Val - Loss: 0.2239, Accuracy: 0.8945, Precision: 0.9652, Recall: 0.8117, AUC: 0.9790\n"
          ]
        },
        {
          "output_type": "stream",
          "name": "stderr",
          "text": [
            "Epoch 23/50, Train: 100%|██████████| 31/31 [00:24<00:00,  1.24it/s]\n",
            "Epoch 23/50, Validation: 100%|██████████| 8/8 [00:05<00:00,  1.43it/s]\n",
            "Evaluate Train: 100%|██████████| 31/31 [00:21<00:00,  1.44it/s]\n",
            "Evaluate Validation: 100%|██████████| 8/8 [00:05<00:00,  1.48it/s]\n"
          ]
        },
        {
          "output_type": "stream",
          "name": "stdout",
          "text": [
            "Epoch 23/50\n",
            "Train - Loss: 0.1184, Accuracy: 0.9527, Precision: 0.9789, Recall: 0.9225, AUC: 0.9941\n",
            "Val - Loss: 0.1917, Accuracy: 0.9351, Precision: 0.9726, Recall: 0.8912, AUC: 0.9823\n"
          ]
        },
        {
          "output_type": "stream",
          "name": "stderr",
          "text": [
            "Epoch 24/50, Train: 100%|██████████| 31/31 [00:24<00:00,  1.26it/s]\n",
            "Epoch 24/50, Validation: 100%|██████████| 8/8 [00:05<00:00,  1.46it/s]\n",
            "Evaluate Train: 100%|██████████| 31/31 [00:20<00:00,  1.48it/s]\n",
            "Evaluate Validation: 100%|██████████| 8/8 [00:05<00:00,  1.42it/s]\n"
          ]
        },
        {
          "output_type": "stream",
          "name": "stdout",
          "text": [
            "Epoch 24/50\n",
            "Train - Loss: 0.1049, Accuracy: 0.9542, Precision: 0.9364, Recall: 0.9717, AUC: 0.9934\n",
            "Val - Loss: 0.1895, Accuracy: 0.9473, Precision: 0.9243, Recall: 0.9707, AUC: 0.9789\n"
          ]
        },
        {
          "output_type": "stream",
          "name": "stderr",
          "text": [
            "Epoch 25/50, Train: 100%|██████████| 31/31 [00:24<00:00,  1.26it/s]\n",
            "Epoch 25/50, Validation: 100%|██████████| 8/8 [00:05<00:00,  1.38it/s]\n",
            "Evaluate Train: 100%|██████████| 31/31 [00:22<00:00,  1.40it/s]\n",
            "Evaluate Validation: 100%|██████████| 8/8 [00:05<00:00,  1.45it/s]\n"
          ]
        },
        {
          "output_type": "stream",
          "name": "stdout",
          "text": [
            "Epoch 25/50\n",
            "Train - Loss: 0.1273, Accuracy: 0.9578, Precision: 0.9708, Recall: 0.9414, AUC: 0.9925\n",
            "Val - Loss: 0.1826, Accuracy: 0.9310, Precision: 0.9362, Recall: 0.9205, AUC: 0.9777\n"
          ]
        },
        {
          "output_type": "stream",
          "name": "stderr",
          "text": [
            "Epoch 26/50, Train: 100%|██████████| 31/31 [00:24<00:00,  1.24it/s]\n",
            "Epoch 26/50, Validation: 100%|██████████| 8/8 [00:05<00:00,  1.46it/s]\n",
            "Evaluate Train: 100%|██████████| 31/31 [00:21<00:00,  1.48it/s]\n",
            "Evaluate Validation: 100%|██████████| 8/8 [00:05<00:00,  1.43it/s]\n"
          ]
        },
        {
          "output_type": "stream",
          "name": "stdout",
          "text": [
            "Epoch 26/50\n",
            "Train - Loss: 0.1236, Accuracy: 0.9664, Precision: 0.9774, Recall: 0.9529, AUC: 0.9956\n",
            "Val - Loss: 0.1726, Accuracy: 0.9432, Precision: 0.9567, Recall: 0.9247, AUC: 0.9840\n"
          ]
        },
        {
          "output_type": "stream",
          "name": "stderr",
          "text": [
            "Epoch 27/50, Train: 100%|██████████| 31/31 [00:24<00:00,  1.25it/s]\n",
            "Epoch 27/50, Validation: 100%|██████████| 8/8 [00:05<00:00,  1.44it/s]\n",
            "Evaluate Train: 100%|██████████| 31/31 [00:21<00:00,  1.43it/s]\n",
            "Evaluate Validation: 100%|██████████| 8/8 [00:05<00:00,  1.53it/s]\n"
          ]
        },
        {
          "output_type": "stream",
          "name": "stdout",
          "text": [
            "Epoch 27/50\n",
            "Train - Loss: 0.0948, Accuracy: 0.9619, Precision: 0.9762, Recall: 0.9445, AUC: 0.9952\n",
            "Val - Loss: 0.1820, Accuracy: 0.9351, Precision: 0.9481, Recall: 0.9163, AUC: 0.9824\n"
          ]
        },
        {
          "output_type": "stream",
          "name": "stderr",
          "text": [
            "Epoch 28/50, Train: 100%|██████████| 31/31 [00:25<00:00,  1.24it/s]\n",
            "Epoch 28/50, Validation: 100%|██████████| 8/8 [00:05<00:00,  1.45it/s]\n",
            "Evaluate Train: 100%|██████████| 31/31 [00:21<00:00,  1.45it/s]\n",
            "Evaluate Validation: 100%|██████████| 8/8 [00:05<00:00,  1.44it/s]\n"
          ]
        },
        {
          "output_type": "stream",
          "name": "stdout",
          "text": [
            "Epoch 28/50\n",
            "Train - Loss: 0.1166, Accuracy: 0.9614, Precision: 0.9711, Recall: 0.9487, AUC: 0.9950\n",
            "Val - Loss: 0.1602, Accuracy: 0.9331, Precision: 0.9518, Recall: 0.9079, AUC: 0.9824\n"
          ]
        },
        {
          "output_type": "stream",
          "name": "stderr",
          "text": [
            "Epoch 29/50, Train: 100%|██████████| 31/31 [00:24<00:00,  1.25it/s]\n",
            "Epoch 29/50, Validation: 100%|██████████| 8/8 [00:05<00:00,  1.47it/s]\n",
            "Evaluate Train: 100%|██████████| 31/31 [00:21<00:00,  1.44it/s]\n",
            "Evaluate Validation: 100%|██████████| 8/8 [00:05<00:00,  1.48it/s]\n"
          ]
        },
        {
          "output_type": "stream",
          "name": "stdout",
          "text": [
            "Epoch 29/50\n",
            "Train - Loss: 0.0993, Accuracy: 0.9598, Precision: 0.9720, Recall: 0.9445, AUC: 0.9958\n",
            "Val - Loss: 0.1699, Accuracy: 0.9513, Precision: 0.9614, Recall: 0.9372, AUC: 0.9830\n"
          ]
        },
        {
          "output_type": "stream",
          "name": "stderr",
          "text": [
            "Epoch 30/50, Train: 100%|██████████| 31/31 [00:25<00:00,  1.23it/s]\n",
            "Epoch 30/50, Validation: 100%|██████████| 8/8 [00:05<00:00,  1.38it/s]\n",
            "Evaluate Train: 100%|██████████| 31/31 [00:21<00:00,  1.47it/s]\n",
            "Evaluate Validation: 100%|██████████| 8/8 [00:05<00:00,  1.46it/s]\n"
          ]
        },
        {
          "output_type": "stream",
          "name": "stdout",
          "text": [
            "Epoch 30/50\n",
            "Train - Loss: 0.0937, Accuracy: 0.9649, Precision: 0.9539, Recall: 0.9749, AUC: 0.9960\n",
            "Val - Loss: 0.1671, Accuracy: 0.9310, Precision: 0.9150, Recall: 0.9456, AUC: 0.9805\n"
          ]
        },
        {
          "output_type": "stream",
          "name": "stderr",
          "text": [
            "Epoch 31/50, Train: 100%|██████████| 31/31 [00:26<00:00,  1.15it/s]\n",
            "Epoch 31/50, Validation: 100%|██████████| 8/8 [00:05<00:00,  1.43it/s]\n",
            "Evaluate Train: 100%|██████████| 31/31 [00:20<00:00,  1.48it/s]\n",
            "Evaluate Validation: 100%|██████████| 8/8 [00:05<00:00,  1.49it/s]\n"
          ]
        },
        {
          "output_type": "stream",
          "name": "stdout",
          "text": [
            "Epoch 31/50\n",
            "Train - Loss: 0.1022, Accuracy: 0.9512, Precision: 0.9788, Recall: 0.9194, AUC: 0.9943\n",
            "Val - Loss: 0.2172, Accuracy: 0.9412, Precision: 0.9646, Recall: 0.9121, AUC: 0.9845\n"
          ]
        },
        {
          "output_type": "stream",
          "name": "stderr",
          "text": [
            "Epoch 32/50, Train: 100%|██████████| 31/31 [00:24<00:00,  1.26it/s]\n",
            "Epoch 32/50, Validation: 100%|██████████| 8/8 [00:05<00:00,  1.37it/s]\n",
            "Evaluate Train: 100%|██████████| 31/31 [00:21<00:00,  1.47it/s]\n",
            "Evaluate Validation: 100%|██████████| 8/8 [00:05<00:00,  1.50it/s]\n"
          ]
        },
        {
          "output_type": "stream",
          "name": "stdout",
          "text": [
            "Epoch 32/50\n",
            "Train - Loss: 0.1038, Accuracy: 0.9639, Precision: 0.9538, Recall: 0.9728, AUC: 0.9957\n",
            "Val - Loss: 0.1685, Accuracy: 0.9533, Precision: 0.9390, Recall: 0.9665, AUC: 0.9818\n"
          ]
        },
        {
          "output_type": "stream",
          "name": "stderr",
          "text": [
            "Epoch 33/50, Train: 100%|██████████| 31/31 [00:26<00:00,  1.19it/s]\n",
            "Epoch 33/50, Validation: 100%|██████████| 8/8 [00:05<00:00,  1.54it/s]\n",
            "Evaluate Train: 100%|██████████| 31/31 [00:20<00:00,  1.49it/s]\n",
            "Evaluate Validation: 100%|██████████| 8/8 [00:05<00:00,  1.49it/s]\n"
          ]
        },
        {
          "output_type": "stream",
          "name": "stdout",
          "text": [
            "Epoch 33/50\n",
            "Train - Loss: 0.0823, Accuracy: 0.9710, Precision: 0.9629, Recall: 0.9780, AUC: 0.9967\n",
            "Val - Loss: 0.1854, Accuracy: 0.9391, Precision: 0.9372, Recall: 0.9372, AUC: 0.9788\n"
          ]
        },
        {
          "output_type": "stream",
          "name": "stderr",
          "text": [
            "Epoch 34/50, Train: 100%|██████████| 31/31 [00:24<00:00,  1.26it/s]\n",
            "Epoch 34/50, Validation: 100%|██████████| 8/8 [00:05<00:00,  1.56it/s]\n",
            "Evaluate Train: 100%|██████████| 31/31 [00:20<00:00,  1.49it/s]\n",
            "Evaluate Validation: 100%|██████████| 8/8 [00:05<00:00,  1.56it/s]\n"
          ]
        },
        {
          "output_type": "stream",
          "name": "stdout",
          "text": [
            "Epoch 34/50\n",
            "Train - Loss: 0.0930, Accuracy: 0.9731, Precision: 0.9718, Recall: 0.9728, AUC: 0.9969\n",
            "Val - Loss: 0.1760, Accuracy: 0.9473, Precision: 0.9383, Recall: 0.9540, AUC: 0.9831\n"
          ]
        },
        {
          "output_type": "stream",
          "name": "stderr",
          "text": [
            "Epoch 35/50, Train: 100%|██████████| 31/31 [00:24<00:00,  1.24it/s]\n",
            "Epoch 35/50, Validation: 100%|██████████| 8/8 [00:05<00:00,  1.57it/s]\n",
            "Evaluate Train: 100%|██████████| 31/31 [00:20<00:00,  1.48it/s]\n",
            "Evaluate Validation: 100%|██████████| 8/8 [00:05<00:00,  1.50it/s]\n"
          ]
        },
        {
          "output_type": "stream",
          "name": "stdout",
          "text": [
            "Epoch 35/50\n",
            "Train - Loss: 0.0920, Accuracy: 0.9725, Precision: 0.9717, Recall: 0.9717, AUC: 0.9969\n",
            "Val - Loss: 0.1588, Accuracy: 0.9493, Precision: 0.9421, Recall: 0.9540, AUC: 0.9820\n"
          ]
        },
        {
          "output_type": "stream",
          "name": "stderr",
          "text": [
            "Epoch 36/50, Train: 100%|██████████| 31/31 [00:24<00:00,  1.25it/s]\n",
            "Epoch 36/50, Validation: 100%|██████████| 8/8 [00:05<00:00,  1.45it/s]\n",
            "Evaluate Train: 100%|██████████| 31/31 [00:20<00:00,  1.51it/s]\n",
            "Evaluate Validation: 100%|██████████| 8/8 [00:05<00:00,  1.45it/s]\n"
          ]
        },
        {
          "output_type": "stream",
          "name": "stdout",
          "text": [
            "Epoch 36/50\n",
            "Train - Loss: 0.0958, Accuracy: 0.9715, Precision: 0.9591, Recall: 0.9832, AUC: 0.9974\n",
            "Val - Loss: 0.1521, Accuracy: 0.9635, Precision: 0.9585, Recall: 0.9665, AUC: 0.9884\n"
          ]
        },
        {
          "output_type": "stream",
          "name": "stderr",
          "text": [
            "Epoch 37/50, Train: 100%|██████████| 31/31 [00:24<00:00,  1.25it/s]\n",
            "Epoch 37/50, Validation: 100%|██████████| 8/8 [00:05<00:00,  1.56it/s]\n",
            "Evaluate Train: 100%|██████████| 31/31 [00:20<00:00,  1.48it/s]\n",
            "Evaluate Validation: 100%|██████████| 8/8 [00:05<00:00,  1.50it/s]\n"
          ]
        },
        {
          "output_type": "stream",
          "name": "stdout",
          "text": [
            "Epoch 37/50\n",
            "Train - Loss: 0.1029, Accuracy: 0.9644, Precision: 0.9529, Recall: 0.9749, AUC: 0.9946\n",
            "Val - Loss: 0.1734, Accuracy: 0.9432, Precision: 0.9237, Recall: 0.9623, AUC: 0.9831\n"
          ]
        },
        {
          "output_type": "stream",
          "name": "stderr",
          "text": [
            "Epoch 38/50, Train: 100%|██████████| 31/31 [00:24<00:00,  1.25it/s]\n",
            "Epoch 38/50, Validation: 100%|██████████| 8/8 [00:05<00:00,  1.53it/s]\n",
            "Evaluate Train: 100%|██████████| 31/31 [00:20<00:00,  1.50it/s]\n",
            "Evaluate Validation: 100%|██████████| 8/8 [00:05<00:00,  1.51it/s]\n"
          ]
        },
        {
          "output_type": "stream",
          "name": "stdout",
          "text": [
            "Epoch 38/50\n",
            "Train - Loss: 0.1059, Accuracy: 0.9756, Precision: 0.9882, Recall: 0.9613, AUC: 0.9979\n",
            "Val - Loss: 0.1652, Accuracy: 0.9412, Precision: 0.9605, Recall: 0.9163, AUC: 0.9830\n"
          ]
        },
        {
          "output_type": "stream",
          "name": "stderr",
          "text": [
            "Epoch 39/50, Train: 100%|██████████| 31/31 [00:24<00:00,  1.25it/s]\n",
            "Epoch 39/50, Validation: 100%|██████████| 8/8 [00:05<00:00,  1.53it/s]\n",
            "Evaluate Train: 100%|██████████| 31/31 [00:20<00:00,  1.50it/s]\n",
            "Evaluate Validation: 100%|██████████| 8/8 [00:05<00:00,  1.53it/s]\n"
          ]
        },
        {
          "output_type": "stream",
          "name": "stdout",
          "text": [
            "Epoch 39/50\n",
            "Train - Loss: 0.0882, Accuracy: 0.9685, Precision: 0.9848, Recall: 0.9497, AUC: 0.9974\n",
            "Val - Loss: 0.1836, Accuracy: 0.9452, Precision: 0.9690, Recall: 0.9163, AUC: 0.9859\n"
          ]
        },
        {
          "output_type": "stream",
          "name": "stderr",
          "text": [
            "Epoch 40/50, Train: 100%|██████████| 31/31 [00:24<00:00,  1.26it/s]\n",
            "Epoch 40/50, Validation: 100%|██████████| 8/8 [00:05<00:00,  1.56it/s]\n",
            "Evaluate Train: 100%|██████████| 31/31 [00:21<00:00,  1.47it/s]\n",
            "Evaluate Validation: 100%|██████████| 8/8 [00:05<00:00,  1.53it/s]\n"
          ]
        },
        {
          "output_type": "stream",
          "name": "stdout",
          "text": [
            "Epoch 40/50\n",
            "Train - Loss: 0.0665, Accuracy: 0.9842, Precision: 0.9833, Recall: 0.9843, AUC: 0.9985\n",
            "Val - Loss: 0.1571, Accuracy: 0.9513, Precision: 0.9574, Recall: 0.9414, AUC: 0.9830\n"
          ]
        },
        {
          "output_type": "stream",
          "name": "stderr",
          "text": [
            "Epoch 41/50, Train: 100%|██████████| 31/31 [00:24<00:00,  1.25it/s]\n",
            "Epoch 41/50, Validation: 100%|██████████| 8/8 [00:05<00:00,  1.53it/s]\n",
            "Evaluate Train: 100%|██████████| 31/31 [00:20<00:00,  1.50it/s]\n",
            "Evaluate Validation: 100%|██████████| 8/8 [00:05<00:00,  1.52it/s]\n"
          ]
        },
        {
          "output_type": "stream",
          "name": "stdout",
          "text": [
            "Epoch 41/50\n",
            "Train - Loss: 0.0706, Accuracy: 0.9766, Precision: 0.9681, Recall: 0.9843, AUC: 0.9980\n",
            "Val - Loss: 0.1660, Accuracy: 0.9513, Precision: 0.9317, Recall: 0.9707, AUC: 0.9830\n"
          ]
        },
        {
          "output_type": "stream",
          "name": "stderr",
          "text": [
            "Epoch 42/50, Train: 100%|██████████| 31/31 [00:24<00:00,  1.25it/s]\n",
            "Epoch 42/50, Validation: 100%|██████████| 8/8 [00:05<00:00,  1.53it/s]\n",
            "Evaluate Train: 100%|██████████| 31/31 [00:20<00:00,  1.50it/s]\n",
            "Evaluate Validation: 100%|██████████| 8/8 [00:05<00:00,  1.51it/s]\n"
          ]
        },
        {
          "output_type": "stream",
          "name": "stdout",
          "text": [
            "Epoch 42/50\n",
            "Train - Loss: 0.0675, Accuracy: 0.9781, Precision: 0.9861, Recall: 0.9686, AUC: 0.9984\n",
            "Val - Loss: 0.1695, Accuracy: 0.9493, Precision: 0.9612, Recall: 0.9331, AUC: 0.9829\n"
          ]
        },
        {
          "output_type": "stream",
          "name": "stderr",
          "text": [
            "Epoch 43/50, Train: 100%|██████████| 31/31 [00:24<00:00,  1.26it/s]\n",
            "Epoch 43/50, Validation: 100%|██████████| 8/8 [00:05<00:00,  1.54it/s]\n",
            "Evaluate Train: 100%|██████████| 31/31 [00:20<00:00,  1.48it/s]\n",
            "Evaluate Validation: 100%|██████████| 8/8 [00:05<00:00,  1.49it/s]\n"
          ]
        },
        {
          "output_type": "stream",
          "name": "stdout",
          "text": [
            "Epoch 43/50\n",
            "Train - Loss: 0.0724, Accuracy: 0.9751, Precision: 0.9632, Recall: 0.9864, AUC: 0.9980\n",
            "Val - Loss: 0.1834, Accuracy: 0.9615, Precision: 0.9400, Recall: 0.9833, AUC: 0.9839\n"
          ]
        },
        {
          "output_type": "stream",
          "name": "stderr",
          "text": [
            "Epoch 44/50, Train: 100%|██████████| 31/31 [00:24<00:00,  1.25it/s]\n",
            "Epoch 44/50, Validation: 100%|██████████| 8/8 [00:05<00:00,  1.54it/s]\n",
            "Evaluate Train: 100%|██████████| 31/31 [00:20<00:00,  1.50it/s]\n",
            "Evaluate Validation: 100%|██████████| 8/8 [00:05<00:00,  1.51it/s]\n"
          ]
        },
        {
          "output_type": "stream",
          "name": "stdout",
          "text": [
            "Epoch 44/50\n",
            "Train - Loss: 0.0743, Accuracy: 0.9786, Precision: 0.9831, Recall: 0.9728, AUC: 0.9984\n",
            "Val - Loss: 0.1888, Accuracy: 0.9594, Precision: 0.9620, Recall: 0.9540, AUC: 0.9844\n"
          ]
        },
        {
          "output_type": "stream",
          "name": "stderr",
          "text": [
            "Epoch 45/50, Train: 100%|██████████| 31/31 [00:24<00:00,  1.28it/s]\n",
            "Epoch 45/50, Validation: 100%|██████████| 8/8 [00:05<00:00,  1.50it/s]\n",
            "Evaluate Train: 100%|██████████| 31/31 [00:20<00:00,  1.50it/s]\n",
            "Evaluate Validation: 100%|██████████| 8/8 [00:05<00:00,  1.48it/s]\n"
          ]
        },
        {
          "output_type": "stream",
          "name": "stdout",
          "text": [
            "Epoch 45/50\n",
            "Train - Loss: 0.0664, Accuracy: 0.9731, Precision: 0.9678, Recall: 0.9770, AUC: 0.9972\n",
            "Val - Loss: 0.1759, Accuracy: 0.9574, Precision: 0.9467, Recall: 0.9665, AUC: 0.9796\n"
          ]
        },
        {
          "output_type": "stream",
          "name": "stderr",
          "text": [
            "Epoch 46/50, Train: 100%|██████████| 31/31 [00:24<00:00,  1.26it/s]\n",
            "Epoch 46/50, Validation: 100%|██████████| 8/8 [00:05<00:00,  1.45it/s]\n",
            "Evaluate Train: 100%|██████████| 31/31 [00:20<00:00,  1.51it/s]\n",
            "Evaluate Validation: 100%|██████████| 8/8 [00:05<00:00,  1.45it/s]\n"
          ]
        },
        {
          "output_type": "stream",
          "name": "stdout",
          "text": [
            "Epoch 46/50\n",
            "Train - Loss: 0.0701, Accuracy: 0.9685, Precision: 0.9469, Recall: 0.9906, AUC: 0.9976\n",
            "Val - Loss: 0.1793, Accuracy: 0.9655, Precision: 0.9476, Recall: 0.9833, AUC: 0.9830\n"
          ]
        },
        {
          "output_type": "stream",
          "name": "stderr",
          "text": [
            "Epoch 47/50, Train: 100%|██████████| 31/31 [00:24<00:00,  1.27it/s]\n",
            "Epoch 47/50, Validation: 100%|██████████| 8/8 [00:05<00:00,  1.45it/s]\n",
            "Evaluate Train: 100%|██████████| 31/31 [00:20<00:00,  1.51it/s]\n",
            "Evaluate Validation: 100%|██████████| 8/8 [00:05<00:00,  1.47it/s]\n"
          ]
        },
        {
          "output_type": "stream",
          "name": "stdout",
          "text": [
            "Epoch 47/50\n",
            "Train - Loss: 0.0705, Accuracy: 0.9807, Precision: 0.9842, Recall: 0.9759, AUC: 0.9984\n",
            "Val - Loss: 0.1630, Accuracy: 0.9391, Precision: 0.9563, Recall: 0.9163, AUC: 0.9836\n"
          ]
        },
        {
          "output_type": "stream",
          "name": "stderr",
          "text": [
            "Epoch 48/50, Train: 100%|██████████| 31/31 [00:24<00:00,  1.26it/s]\n",
            "Epoch 48/50, Validation: 100%|██████████| 8/8 [00:05<00:00,  1.46it/s]\n",
            "Evaluate Train: 100%|██████████| 31/31 [00:20<00:00,  1.51it/s]\n",
            "Evaluate Validation: 100%|██████████| 8/8 [00:05<00:00,  1.50it/s]\n"
          ]
        },
        {
          "output_type": "stream",
          "name": "stdout",
          "text": [
            "Epoch 48/50\n",
            "Train - Loss: 0.0690, Accuracy: 0.9781, Precision: 0.9924, Recall: 0.9623, AUC: 0.9986\n",
            "Val - Loss: 0.1889, Accuracy: 0.9452, Precision: 0.9649, Recall: 0.9205, AUC: 0.9838\n"
          ]
        },
        {
          "output_type": "stream",
          "name": "stderr",
          "text": [
            "Epoch 49/50, Train: 100%|██████████| 31/31 [00:24<00:00,  1.27it/s]\n",
            "Epoch 49/50, Validation: 100%|██████████| 8/8 [00:05<00:00,  1.42it/s]\n",
            "Evaluate Train: 100%|██████████| 31/31 [00:20<00:00,  1.50it/s]\n",
            "Evaluate Validation: 100%|██████████| 8/8 [00:05<00:00,  1.56it/s]\n"
          ]
        },
        {
          "output_type": "stream",
          "name": "stdout",
          "text": [
            "Epoch 49/50\n",
            "Train - Loss: 0.0664, Accuracy: 0.9842, Precision: 0.9802, Recall: 0.9874, AUC: 0.9989\n",
            "Val - Loss: 0.1666, Accuracy: 0.9554, Precision: 0.9617, Recall: 0.9456, AUC: 0.9865\n"
          ]
        },
        {
          "output_type": "stream",
          "name": "stderr",
          "text": [
            "Epoch 50/50, Train: 100%|██████████| 31/31 [00:24<00:00,  1.24it/s]\n",
            "Epoch 50/50, Validation: 100%|██████████| 8/8 [00:05<00:00,  1.53it/s]\n",
            "Evaluate Train: 100%|██████████| 31/31 [00:20<00:00,  1.49it/s]\n",
            "Evaluate Validation: 100%|██████████| 8/8 [00:05<00:00,  1.49it/s]\n"
          ]
        },
        {
          "output_type": "stream",
          "name": "stdout",
          "text": [
            "Epoch 50/50\n",
            "Train - Loss: 0.0672, Accuracy: 0.9359, Precision: 0.8842, Recall: 0.9990, AUC: 0.9983\n",
            "Val - Loss: 0.2844, Accuracy: 0.8986, Precision: 0.8387, Recall: 0.9791, AUC: 0.9800\n"
          ]
        },
        {
          "output_type": "stream",
          "name": "stderr",
          "text": [
            "Evaluate Test: 100%|██████████| 10/10 [00:00<00:00, 10.73it/s]\n"
          ]
        },
        {
          "output_type": "stream",
          "name": "stdout",
          "text": [
            "\n",
            "Accuracy: 0.9529, Precision: 0.9592, Recall: 0.9431, AUC: 0.9911\n",
            "Results saved to results/finetune/ucsd/vig_s_224_gelu/classification_results.txt\n"
          ]
        },
        {
          "output_type": "stream",
          "name": "stderr",
          "text": [
            "WARNING:matplotlib.image:Clipping input data to the valid range for imshow with RGB data ([0..1] for floats or [0..255] for integers).\n",
            "WARNING:matplotlib.image:Clipping input data to the valid range for imshow with RGB data ([0..1] for floats or [0..255] for integers).\n",
            "WARNING:matplotlib.image:Clipping input data to the valid range for imshow with RGB data ([0..1] for floats or [0..255] for integers).\n",
            "WARNING:matplotlib.image:Clipping input data to the valid range for imshow with RGB data ([0..1] for floats or [0..255] for integers).\n",
            "WARNING:matplotlib.image:Clipping input data to the valid range for imshow with RGB data ([0..1] for floats or [0..255] for integers).\n",
            "WARNING:matplotlib.image:Clipping input data to the valid range for imshow with RGB data ([0..1] for floats or [0..255] for integers).\n"
          ]
        },
        {
          "output_type": "stream",
          "name": "stdout",
          "text": [
            "Results saved to results/visualization/zero_shot/ori/vig_s_224_gelu/images/cxr_images.png\n"
          ]
        },
        {
          "output_type": "stream",
          "name": "stderr",
          "text": [
            "Evaluate Train: 100%|██████████| 9/9 [00:00<00:00, 13.65it/s]\n",
            "Evaluate Validation: 100%|██████████| 3/3 [00:00<00:00,  7.96it/s]\n",
            "Evaluate Test: 100%|██████████| 3/3 [00:00<00:00, 11.63it/s]\n"
          ]
        },
        {
          "output_type": "stream",
          "name": "stdout",
          "text": [
            "Results saved to results/zero_shot/ori/vig_s_224_gelu/classification_results.txt\n"
          ]
        },
        {
          "output_type": "stream",
          "name": "stderr",
          "text": [
            "WARNING:matplotlib.image:Clipping input data to the valid range for imshow with RGB data ([0..1] for floats or [0..255] for integers).\n",
            "WARNING:matplotlib.image:Clipping input data to the valid range for imshow with RGB data ([0..1] for floats or [0..255] for integers).\n",
            "WARNING:matplotlib.image:Clipping input data to the valid range for imshow with RGB data ([0..1] for floats or [0..255] for integers).\n",
            "WARNING:matplotlib.image:Clipping input data to the valid range for imshow with RGB data ([0..1] for floats or [0..255] for integers).\n",
            "WARNING:matplotlib.image:Clipping input data to the valid range for imshow with RGB data ([0..1] for floats or [0..255] for integers).\n",
            "WARNING:matplotlib.image:Clipping input data to the valid range for imshow with RGB data ([0..1] for floats or [0..255] for integers).\n"
          ]
        },
        {
          "output_type": "stream",
          "name": "stdout",
          "text": [
            "Results saved to results/visualization/finetune/ori/vig_s_224_gelu/images/cxr_images.png\n"
          ]
        },
        {
          "output_type": "stream",
          "name": "stderr",
          "text": [
            "/usr/local/lib/python3.10/dist-packages/torchvision/models/inception.py:43: FutureWarning: The default weight initialization of inception_v3 will be changed in future releases of torchvision. If you wish to keep the old behavior (which leads to long initialization times due to scipy/scipy#11299), please set init_weights=True.\n",
            "  warnings.warn(\n"
          ]
        },
        {
          "output_type": "stream",
          "name": "stdout",
          "text": [
            "NVIDIA library configured successfully.\n",
            "Model vig_s_224_gelu loaded with mean and std normalization.\n",
            "Mean: [0.4856 0.4856 0.4856], Std: [0.2463 0.2463 0.2463]\n"
          ]
        },
        {
          "output_type": "stream",
          "name": "stderr",
          "text": [
            "Epoch 1/50, Train: 100%|██████████| 9/9 [01:43<00:00, 11.54s/it]\n",
            "Epoch 1/50, Validation: 100%|██████████| 3/3 [01:13<00:00, 24.44s/it]\n",
            "Evaluate Train: 100%|██████████| 9/9 [00:48<00:00,  5.34s/it]\n",
            "Evaluate Validation: 100%|██████████| 3/3 [00:01<00:00,  1.92it/s]\n"
          ]
        },
        {
          "output_type": "stream",
          "name": "stdout",
          "text": [
            "Epoch 1/50\n",
            "Train - Loss: 0.6542, Accuracy: 0.7205, Precision: 0.8828, Recall: 0.4961, AUC: 0.7960\n",
            "Val - Loss: 0.4860, Accuracy: 0.7576, Precision: 0.8837, Recall: 0.5846, AUC: 0.8377\n"
          ]
        },
        {
          "output_type": "stream",
          "name": "stderr",
          "text": [
            "Epoch 2/50, Train: 100%|██████████| 9/9 [00:06<00:00,  1.34it/s]\n",
            "Epoch 2/50, Validation: 100%|██████████| 3/3 [00:01<00:00,  2.15it/s]\n",
            "Evaluate Train: 100%|██████████| 9/9 [00:05<00:00,  1.52it/s]\n",
            "Evaluate Validation: 100%|██████████| 3/3 [00:01<00:00,  1.87it/s]\n"
          ]
        },
        {
          "output_type": "stream",
          "name": "stdout",
          "text": [
            "Epoch 2/50\n",
            "Train - Loss: 0.5360, Accuracy: 0.7795, Precision: 0.8622, Recall: 0.6550, AUC: 0.8205\n",
            "Val - Loss: 0.7098, Accuracy: 0.7652, Precision: 0.7833, Recall: 0.7231, AUC: 0.8294\n"
          ]
        },
        {
          "output_type": "stream",
          "name": "stderr",
          "text": [
            "Epoch 3/50, Train: 100%|██████████| 9/9 [00:06<00:00,  1.34it/s]\n",
            "Epoch 3/50, Validation: 100%|██████████| 3/3 [00:01<00:00,  2.16it/s]\n",
            "Evaluate Train: 100%|██████████| 9/9 [00:05<00:00,  1.57it/s]\n",
            "Evaluate Validation: 100%|██████████| 3/3 [00:01<00:00,  1.93it/s]\n"
          ]
        },
        {
          "output_type": "stream",
          "name": "stdout",
          "text": [
            "Epoch 3/50\n",
            "Train - Loss: 0.4884, Accuracy: 0.7700, Precision: 0.8100, Recall: 0.6938, AUC: 0.8297\n",
            "Val - Loss: 0.4536, Accuracy: 0.7879, Precision: 0.8033, Recall: 0.7538, AUC: 0.8485\n"
          ]
        },
        {
          "output_type": "stream",
          "name": "stderr",
          "text": [
            "Epoch 4/50, Train: 100%|██████████| 9/9 [00:07<00:00,  1.27it/s]\n",
            "Epoch 4/50, Validation: 100%|██████████| 3/3 [00:01<00:00,  2.15it/s]\n",
            "Evaluate Train: 100%|██████████| 9/9 [00:05<00:00,  1.63it/s]\n",
            "Evaluate Validation: 100%|██████████| 3/3 [00:01<00:00,  2.05it/s]\n"
          ]
        },
        {
          "output_type": "stream",
          "name": "stdout",
          "text": [
            "Epoch 4/50\n",
            "Train - Loss: 0.4853, Accuracy: 0.7985, Precision: 0.8333, Recall: 0.7364, AUC: 0.8489\n",
            "Val - Loss: 0.4018, Accuracy: 0.7879, Precision: 0.8033, Recall: 0.7538, AUC: 0.8328\n"
          ]
        },
        {
          "output_type": "stream",
          "name": "stderr",
          "text": [
            "Epoch 5/50, Train: 100%|██████████| 9/9 [00:07<00:00,  1.28it/s]\n",
            "Epoch 5/50, Validation: 100%|██████████| 3/3 [00:01<00:00,  2.16it/s]\n",
            "Evaluate Train: 100%|██████████| 9/9 [00:05<00:00,  1.58it/s]\n",
            "Evaluate Validation: 100%|██████████| 3/3 [00:01<00:00,  1.64it/s]\n"
          ]
        },
        {
          "output_type": "stream",
          "name": "stdout",
          "text": [
            "Epoch 5/50\n",
            "Train - Loss: 0.4492, Accuracy: 0.8080, Precision: 0.9385, Recall: 0.6512, AUC: 0.8685\n",
            "Val - Loss: 0.7199, Accuracy: 0.8182, Precision: 0.9184, Recall: 0.6923, AUC: 0.8553\n"
          ]
        },
        {
          "output_type": "stream",
          "name": "stderr",
          "text": [
            "Epoch 6/50, Train: 100%|██████████| 9/9 [00:06<00:00,  1.35it/s]\n",
            "Epoch 6/50, Validation: 100%|██████████| 3/3 [00:01<00:00,  2.14it/s]\n",
            "Evaluate Train: 100%|██████████| 9/9 [00:05<00:00,  1.52it/s]\n",
            "Evaluate Validation: 100%|██████████| 3/3 [00:01<00:00,  1.88it/s]\n"
          ]
        },
        {
          "output_type": "stream",
          "name": "stdout",
          "text": [
            "Epoch 6/50\n",
            "Train - Loss: 0.4632, Accuracy: 0.7605, Precision: 0.7538, Recall: 0.7597, AUC: 0.8473\n",
            "Val - Loss: 0.6236, Accuracy: 0.8106, Precision: 0.7941, Recall: 0.8308, AUC: 0.8631\n"
          ]
        },
        {
          "output_type": "stream",
          "name": "stderr",
          "text": [
            "Epoch 7/50, Train: 100%|██████████| 9/9 [00:06<00:00,  1.34it/s]\n",
            "Epoch 7/50, Validation: 100%|██████████| 3/3 [00:01<00:00,  2.15it/s]\n",
            "Evaluate Train: 100%|██████████| 9/9 [00:05<00:00,  1.63it/s]\n",
            "Evaluate Validation: 100%|██████████| 3/3 [00:01<00:00,  2.09it/s]\n"
          ]
        },
        {
          "output_type": "stream",
          "name": "stdout",
          "text": [
            "Epoch 7/50\n",
            "Train - Loss: 0.4274, Accuracy: 0.7985, Precision: 0.8455, Recall: 0.7209, AUC: 0.8662\n",
            "Val - Loss: 0.3806, Accuracy: 0.8258, Precision: 0.8889, Recall: 0.7385, AUC: 0.8592\n"
          ]
        },
        {
          "output_type": "stream",
          "name": "stderr",
          "text": [
            "Epoch 8/50, Train: 100%|██████████| 9/9 [00:07<00:00,  1.28it/s]\n",
            "Epoch 8/50, Validation: 100%|██████████| 3/3 [00:01<00:00,  1.84it/s]\n",
            "Evaluate Train: 100%|██████████| 9/9 [00:05<00:00,  1.58it/s]\n",
            "Evaluate Validation: 100%|██████████| 3/3 [00:01<00:00,  1.92it/s]\n"
          ]
        },
        {
          "output_type": "stream",
          "name": "stdout",
          "text": [
            "Epoch 8/50\n",
            "Train - Loss: 0.4253, Accuracy: 0.8137, Precision: 0.9255, Recall: 0.6744, AUC: 0.8841\n",
            "Val - Loss: 0.5490, Accuracy: 0.8182, Precision: 0.9362, Recall: 0.6769, AUC: 0.8551\n"
          ]
        },
        {
          "output_type": "stream",
          "name": "stderr",
          "text": [
            "Epoch 9/50, Train: 100%|██████████| 9/9 [00:06<00:00,  1.34it/s]\n",
            "Epoch 9/50, Validation: 100%|██████████| 3/3 [00:01<00:00,  2.15it/s]\n",
            "Evaluate Train: 100%|██████████| 9/9 [00:05<00:00,  1.51it/s]\n",
            "Evaluate Validation: 100%|██████████| 3/3 [00:01<00:00,  1.89it/s]\n"
          ]
        },
        {
          "output_type": "stream",
          "name": "stdout",
          "text": [
            "Epoch 9/50\n",
            "Train - Loss: 0.4298, Accuracy: 0.8042, Precision: 0.9429, Recall: 0.6395, AUC: 0.8642\n",
            "Val - Loss: 0.5811, Accuracy: 0.8030, Precision: 0.9535, Recall: 0.6308, AUC: 0.8395\n"
          ]
        },
        {
          "output_type": "stream",
          "name": "stderr",
          "text": [
            "Epoch 10/50, Train: 100%|██████████| 9/9 [00:06<00:00,  1.35it/s]\n",
            "Epoch 10/50, Validation: 100%|██████████| 3/3 [00:01<00:00,  2.16it/s]\n",
            "Evaluate Train: 100%|██████████| 9/9 [00:05<00:00,  1.63it/s]\n",
            "Evaluate Validation: 100%|██████████| 3/3 [00:01<00:00,  2.08it/s]\n"
          ]
        },
        {
          "output_type": "stream",
          "name": "stdout",
          "text": [
            "Epoch 10/50\n",
            "Train - Loss: 0.4097, Accuracy: 0.8327, Precision: 0.9208, Recall: 0.7209, AUC: 0.8839\n",
            "Val - Loss: 0.3318, Accuracy: 0.8030, Precision: 0.8824, Recall: 0.6923, AUC: 0.8494\n"
          ]
        },
        {
          "output_type": "stream",
          "name": "stderr",
          "text": [
            "Epoch 11/50, Train: 100%|██████████| 9/9 [00:07<00:00,  1.28it/s]\n",
            "Epoch 11/50, Validation: 100%|██████████| 3/3 [00:01<00:00,  2.16it/s]\n",
            "Evaluate Train: 100%|██████████| 9/9 [00:05<00:00,  1.57it/s]\n",
            "Evaluate Validation: 100%|██████████| 3/3 [00:01<00:00,  1.89it/s]\n"
          ]
        },
        {
          "output_type": "stream",
          "name": "stdout",
          "text": [
            "Epoch 11/50\n",
            "Train - Loss: 0.4007, Accuracy: 0.8175, Precision: 0.9219, Recall: 0.6860, AUC: 0.8855\n",
            "Val - Loss: 0.4149, Accuracy: 0.8561, Precision: 0.9107, Recall: 0.7846, AUC: 0.8772\n"
          ]
        },
        {
          "output_type": "stream",
          "name": "stderr",
          "text": [
            "Epoch 12/50, Train: 100%|██████████| 9/9 [00:06<00:00,  1.34it/s]\n",
            "Epoch 12/50, Validation: 100%|██████████| 3/3 [00:01<00:00,  2.12it/s]\n",
            "Evaluate Train: 100%|██████████| 9/9 [00:05<00:00,  1.52it/s]\n",
            "Evaluate Validation: 100%|██████████| 3/3 [00:01<00:00,  1.88it/s]\n"
          ]
        },
        {
          "output_type": "stream",
          "name": "stdout",
          "text": [
            "Epoch 12/50\n",
            "Train - Loss: 0.4374, Accuracy: 0.7947, Precision: 0.9808, Recall: 0.5930, AUC: 0.8853\n",
            "Val - Loss: 0.5203, Accuracy: 0.7955, Precision: 0.9524, Recall: 0.6154, AUC: 0.8312\n"
          ]
        },
        {
          "output_type": "stream",
          "name": "stderr",
          "text": [
            "Epoch 13/50, Train: 100%|██████████| 9/9 [00:06<00:00,  1.34it/s]\n",
            "Epoch 13/50, Validation: 100%|██████████| 3/3 [00:01<00:00,  2.15it/s]\n",
            "Evaluate Train: 100%|██████████| 9/9 [00:05<00:00,  1.54it/s]\n",
            "Evaluate Validation: 100%|██████████| 3/3 [00:01<00:00,  1.99it/s]\n"
          ]
        },
        {
          "output_type": "stream",
          "name": "stdout",
          "text": [
            "Epoch 13/50\n",
            "Train - Loss: 0.4351, Accuracy: 0.8308, Precision: 0.9082, Recall: 0.7287, AUC: 0.8938\n",
            "Val - Loss: 0.5351, Accuracy: 0.8409, Precision: 0.9231, Recall: 0.7385, AUC: 0.8549\n"
          ]
        },
        {
          "output_type": "stream",
          "name": "stderr",
          "text": [
            "Epoch 14/50, Train: 100%|██████████| 9/9 [00:07<00:00,  1.28it/s]\n",
            "Epoch 14/50, Validation: 100%|██████████| 3/3 [00:01<00:00,  2.15it/s]\n",
            "Evaluate Train: 100%|██████████| 9/9 [00:06<00:00,  1.48it/s]\n",
            "Evaluate Validation: 100%|██████████| 3/3 [00:01<00:00,  1.97it/s]\n"
          ]
        },
        {
          "output_type": "stream",
          "name": "stdout",
          "text": [
            "Epoch 14/50\n",
            "Train - Loss: 0.4061, Accuracy: 0.8270, Precision: 0.9282, Recall: 0.7016, AUC: 0.8869\n",
            "Val - Loss: 0.6359, Accuracy: 0.7727, Precision: 0.8431, Recall: 0.6615, AUC: 0.8234\n"
          ]
        },
        {
          "output_type": "stream",
          "name": "stderr",
          "text": [
            "Epoch 15/50, Train: 100%|██████████| 9/9 [00:07<00:00,  1.28it/s]\n",
            "Epoch 15/50, Validation: 100%|██████████| 3/3 [00:01<00:00,  1.84it/s]\n",
            "Evaluate Train: 100%|██████████| 9/9 [00:05<00:00,  1.63it/s]\n",
            "Evaluate Validation: 100%|██████████| 3/3 [00:01<00:00,  2.04it/s]\n"
          ]
        },
        {
          "output_type": "stream",
          "name": "stdout",
          "text": [
            "Epoch 15/50\n",
            "Train - Loss: 0.3733, Accuracy: 0.8118, Precision: 0.8354, Recall: 0.7674, AUC: 0.8965\n",
            "Val - Loss: 0.5767, Accuracy: 0.7879, Precision: 0.8033, Recall: 0.7538, AUC: 0.8310\n"
          ]
        },
        {
          "output_type": "stream",
          "name": "stderr",
          "text": [
            "Epoch 16/50, Train: 100%|██████████| 9/9 [00:06<00:00,  1.32it/s]\n",
            "Epoch 16/50, Validation: 100%|██████████| 3/3 [00:01<00:00,  2.01it/s]\n",
            "Evaluate Train: 100%|██████████| 9/9 [00:05<00:00,  1.62it/s]\n",
            "Evaluate Validation: 100%|██████████| 3/3 [00:01<00:00,  2.10it/s]\n"
          ]
        },
        {
          "output_type": "stream",
          "name": "stdout",
          "text": [
            "Epoch 16/50\n",
            "Train - Loss: 0.4050, Accuracy: 0.8156, Precision: 0.7970, Recall: 0.8372, AUC: 0.9083\n",
            "Val - Loss: 0.6718, Accuracy: 0.7273, Precision: 0.6986, Recall: 0.7846, AUC: 0.8381\n"
          ]
        },
        {
          "output_type": "stream",
          "name": "stderr",
          "text": [
            "Epoch 17/50, Train: 100%|██████████| 9/9 [00:07<00:00,  1.27it/s]\n",
            "Epoch 17/50, Validation: 100%|██████████| 3/3 [00:01<00:00,  1.81it/s]\n",
            "Evaluate Train: 100%|██████████| 9/9 [00:05<00:00,  1.63it/s]\n",
            "Evaluate Validation: 100%|██████████| 3/3 [00:01<00:00,  1.94it/s]\n"
          ]
        },
        {
          "output_type": "stream",
          "name": "stdout",
          "text": [
            "Epoch 17/50\n",
            "Train - Loss: 0.4017, Accuracy: 0.7966, Precision: 0.8326, Recall: 0.7326, AUC: 0.8846\n",
            "Val - Loss: 0.7188, Accuracy: 0.7803, Precision: 0.8000, Recall: 0.7385, AUC: 0.8436\n"
          ]
        },
        {
          "output_type": "stream",
          "name": "stderr",
          "text": [
            "Epoch 18/50, Train: 100%|██████████| 9/9 [00:07<00:00,  1.28it/s]\n",
            "Epoch 18/50, Validation: 100%|██████████| 3/3 [00:01<00:00,  2.15it/s]\n",
            "Evaluate Train: 100%|██████████| 9/9 [00:05<00:00,  1.58it/s]\n",
            "Evaluate Validation: 100%|██████████| 3/3 [00:01<00:00,  1.64it/s]\n"
          ]
        },
        {
          "output_type": "stream",
          "name": "stdout",
          "text": [
            "Epoch 18/50\n",
            "Train - Loss: 0.3848, Accuracy: 0.8251, Precision: 0.8609, Recall: 0.7674, AUC: 0.8963\n",
            "Val - Loss: 0.5463, Accuracy: 0.8333, Precision: 0.8909, Recall: 0.7538, AUC: 0.8877\n"
          ]
        },
        {
          "output_type": "stream",
          "name": "stderr",
          "text": [
            "Epoch 19/50, Train: 100%|██████████| 9/9 [00:06<00:00,  1.34it/s]\n",
            "Epoch 19/50, Validation: 100%|██████████| 3/3 [00:01<00:00,  2.16it/s]\n",
            "Evaluate Train: 100%|██████████| 9/9 [00:05<00:00,  1.51it/s]\n",
            "Evaluate Validation: 100%|██████████| 3/3 [00:01<00:00,  1.88it/s]\n"
          ]
        },
        {
          "output_type": "stream",
          "name": "stdout",
          "text": [
            "Epoch 19/50\n",
            "Train - Loss: 0.4598, Accuracy: 0.8479, Precision: 0.9541, Recall: 0.7248, AUC: 0.9204\n",
            "Val - Loss: 0.4860, Accuracy: 0.8258, Precision: 0.8889, Recall: 0.7385, AUC: 0.8705\n"
          ]
        },
        {
          "output_type": "stream",
          "name": "stderr",
          "text": [
            "Epoch 20/50, Train: 100%|██████████| 9/9 [00:06<00:00,  1.31it/s]\n",
            "Epoch 20/50, Validation: 100%|██████████| 3/3 [00:01<00:00,  2.02it/s]\n",
            "Evaluate Train: 100%|██████████| 9/9 [00:05<00:00,  1.63it/s]\n",
            "Evaluate Validation: 100%|██████████| 3/3 [00:01<00:00,  2.11it/s]\n"
          ]
        },
        {
          "output_type": "stream",
          "name": "stdout",
          "text": [
            "Epoch 20/50\n",
            "Train - Loss: 0.4375, Accuracy: 0.8251, Precision: 0.8879, Recall: 0.7364, AUC: 0.8970\n",
            "Val - Loss: 0.4081, Accuracy: 0.7879, Precision: 0.8246, Recall: 0.7231, AUC: 0.8230\n"
          ]
        },
        {
          "output_type": "stream",
          "name": "stderr",
          "text": [
            "Epoch 21/50, Train: 100%|██████████| 9/9 [00:07<00:00,  1.27it/s]\n",
            "Epoch 21/50, Validation: 100%|██████████| 3/3 [00:01<00:00,  1.58it/s]\n",
            "Evaluate Train: 100%|██████████| 9/9 [00:05<00:00,  1.58it/s]\n",
            "Evaluate Validation: 100%|██████████| 3/3 [00:01<00:00,  2.16it/s]\n"
          ]
        },
        {
          "output_type": "stream",
          "name": "stdout",
          "text": [
            "Epoch 21/50\n",
            "Train - Loss: 0.4719, Accuracy: 0.8308, Precision: 0.9204, Recall: 0.7171, AUC: 0.8892\n",
            "Val - Loss: 0.3605, Accuracy: 0.8258, Precision: 0.8889, Recall: 0.7385, AUC: 0.8333\n"
          ]
        },
        {
          "output_type": "stream",
          "name": "stderr",
          "text": [
            "Epoch 22/50, Train: 100%|██████████| 9/9 [00:07<00:00,  1.26it/s]\n",
            "Epoch 22/50, Validation: 100%|██████████| 3/3 [00:01<00:00,  2.04it/s]\n",
            "Evaluate Train: 100%|██████████| 9/9 [00:05<00:00,  1.63it/s]\n",
            "Evaluate Validation: 100%|██████████| 3/3 [00:01<00:00,  2.12it/s]\n"
          ]
        },
        {
          "output_type": "stream",
          "name": "stdout",
          "text": [
            "Epoch 22/50\n",
            "Train - Loss: 0.3896, Accuracy: 0.8213, Precision: 0.9556, Recall: 0.6667, AUC: 0.8866\n",
            "Val - Loss: 0.3967, Accuracy: 0.8182, Precision: 0.9767, Recall: 0.6462, AUC: 0.8310\n"
          ]
        },
        {
          "output_type": "stream",
          "name": "stderr",
          "text": [
            "Epoch 23/50, Train: 100%|██████████| 9/9 [00:07<00:00,  1.27it/s]\n",
            "Epoch 23/50, Validation: 100%|██████████| 3/3 [00:01<00:00,  1.82it/s]\n",
            "Evaluate Train: 100%|██████████| 9/9 [00:05<00:00,  1.63it/s]\n",
            "Evaluate Validation: 100%|██████████| 3/3 [00:01<00:00,  1.91it/s]\n"
          ]
        },
        {
          "output_type": "stream",
          "name": "stdout",
          "text": [
            "Epoch 23/50\n",
            "Train - Loss: 0.3746, Accuracy: 0.8517, Precision: 0.9245, Recall: 0.7597, AUC: 0.9203\n",
            "Val - Loss: 0.3283, Accuracy: 0.8106, Precision: 0.8704, Recall: 0.7231, AUC: 0.8528\n"
          ]
        },
        {
          "output_type": "stream",
          "name": "stderr",
          "text": [
            "Epoch 24/50, Train: 100%|██████████| 9/9 [00:06<00:00,  1.31it/s]\n",
            "Epoch 24/50, Validation: 100%|██████████| 3/3 [00:01<00:00,  1.58it/s]\n",
            "Evaluate Train: 100%|██████████| 9/9 [00:06<00:00,  1.48it/s]\n",
            "Evaluate Validation: 100%|██████████| 3/3 [00:01<00:00,  2.02it/s]\n"
          ]
        },
        {
          "output_type": "stream",
          "name": "stdout",
          "text": [
            "Epoch 24/50\n",
            "Train - Loss: 0.3692, Accuracy: 0.8498, Precision: 0.9202, Recall: 0.7597, AUC: 0.9221\n",
            "Val - Loss: 0.3783, Accuracy: 0.8182, Precision: 0.8727, Recall: 0.7385, AUC: 0.8530\n"
          ]
        },
        {
          "output_type": "stream",
          "name": "stderr",
          "text": [
            "Epoch 25/50, Train: 100%|██████████| 9/9 [00:07<00:00,  1.26it/s]\n",
            "Epoch 25/50, Validation: 100%|██████████| 3/3 [00:01<00:00,  2.15it/s]\n",
            "Evaluate Train: 100%|██████████| 9/9 [00:05<00:00,  1.51it/s]\n",
            "Evaluate Validation: 100%|██████████| 3/3 [00:01<00:00,  1.87it/s]\n"
          ]
        },
        {
          "output_type": "stream",
          "name": "stdout",
          "text": [
            "Epoch 25/50\n",
            "Train - Loss: 0.3941, Accuracy: 0.8555, Precision: 0.9505, Recall: 0.7442, AUC: 0.9251\n",
            "Val - Loss: 0.3359, Accuracy: 0.8409, Precision: 0.8929, Recall: 0.7692, AUC: 0.8790\n"
          ]
        },
        {
          "output_type": "stream",
          "name": "stderr",
          "text": [
            "Epoch 26/50, Train: 100%|██████████| 9/9 [00:06<00:00,  1.35it/s]\n",
            "Epoch 26/50, Validation: 100%|██████████| 3/3 [00:01<00:00,  2.15it/s]\n",
            "Evaluate Train: 100%|██████████| 9/9 [00:06<00:00,  1.45it/s]\n",
            "Evaluate Validation: 100%|██████████| 3/3 [00:01<00:00,  2.15it/s]\n"
          ]
        },
        {
          "output_type": "stream",
          "name": "stdout",
          "text": [
            "Epoch 26/50\n",
            "Train - Loss: 0.3543, Accuracy: 0.8517, Precision: 0.8689, Recall: 0.8217, AUC: 0.9106\n",
            "Val - Loss: 0.3685, Accuracy: 0.7955, Precision: 0.8065, Recall: 0.7692, AUC: 0.8595\n"
          ]
        },
        {
          "output_type": "stream",
          "name": "stderr",
          "text": [
            "Epoch 27/50, Train: 100%|██████████| 9/9 [00:06<00:00,  1.32it/s]\n",
            "Epoch 27/50, Validation: 100%|██████████| 3/3 [00:01<00:00,  1.82it/s]\n",
            "Evaluate Train: 100%|██████████| 9/9 [00:05<00:00,  1.55it/s]\n",
            "Evaluate Validation: 100%|██████████| 3/3 [00:01<00:00,  2.14it/s]\n"
          ]
        },
        {
          "output_type": "stream",
          "name": "stdout",
          "text": [
            "Epoch 27/50\n",
            "Train - Loss: 0.4074, Accuracy: 0.8308, Precision: 0.9246, Recall: 0.7132, AUC: 0.9056\n",
            "Val - Loss: 0.3891, Accuracy: 0.7879, Precision: 0.8491, Recall: 0.6923, AUC: 0.8388\n"
          ]
        },
        {
          "output_type": "stream",
          "name": "stderr",
          "text": [
            "Epoch 28/50, Train: 100%|██████████| 9/9 [00:07<00:00,  1.28it/s]\n",
            "Epoch 28/50, Validation: 100%|██████████| 3/3 [00:01<00:00,  1.82it/s]\n",
            "Evaluate Train: 100%|██████████| 9/9 [00:05<00:00,  1.62it/s]\n",
            "Evaluate Validation: 100%|██████████| 3/3 [00:01<00:00,  1.96it/s]\n"
          ]
        },
        {
          "output_type": "stream",
          "name": "stdout",
          "text": [
            "Epoch 28/50\n",
            "Train - Loss: 0.3653, Accuracy: 0.7966, Precision: 0.7612, Recall: 0.8527, AUC: 0.8856\n",
            "Val - Loss: 0.5848, Accuracy: 0.7424, Precision: 0.7123, Recall: 0.8000, AUC: 0.8668\n"
          ]
        },
        {
          "output_type": "stream",
          "name": "stderr",
          "text": [
            "Epoch 29/50, Train: 100%|██████████| 9/9 [00:06<00:00,  1.34it/s]\n",
            "Epoch 29/50, Validation: 100%|██████████| 3/3 [00:01<00:00,  2.15it/s]\n",
            "Evaluate Train: 100%|██████████| 9/9 [00:05<00:00,  1.52it/s]\n",
            "Evaluate Validation: 100%|██████████| 3/3 [00:01<00:00,  1.82it/s]\n"
          ]
        },
        {
          "output_type": "stream",
          "name": "stdout",
          "text": [
            "Epoch 29/50\n",
            "Train - Loss: 0.3623, Accuracy: 0.8384, Precision: 0.8681, Recall: 0.7907, AUC: 0.9089\n",
            "Val - Loss: 0.3784, Accuracy: 0.8333, Precision: 0.8525, Recall: 0.8000, AUC: 0.8884\n"
          ]
        },
        {
          "output_type": "stream",
          "name": "stderr",
          "text": [
            "Epoch 30/50, Train: 100%|██████████| 9/9 [00:07<00:00,  1.28it/s]\n",
            "Epoch 30/50, Validation: 100%|██████████| 3/3 [00:01<00:00,  1.59it/s]\n",
            "Evaluate Train: 100%|██████████| 9/9 [00:05<00:00,  1.51it/s]\n",
            "Evaluate Validation: 100%|██████████| 3/3 [00:01<00:00,  2.13it/s]\n"
          ]
        },
        {
          "output_type": "stream",
          "name": "stdout",
          "text": [
            "Epoch 30/50\n",
            "Train - Loss: 0.3774, Accuracy: 0.8042, Precision: 0.7969, Recall: 0.8062, AUC: 0.8784\n",
            "Val - Loss: 0.4433, Accuracy: 0.7879, Precision: 0.8033, Recall: 0.7538, AUC: 0.8257\n"
          ]
        },
        {
          "output_type": "stream",
          "name": "stderr",
          "text": [
            "Epoch 31/50, Train: 100%|██████████| 9/9 [00:06<00:00,  1.33it/s]\n",
            "Epoch 31/50, Validation: 100%|██████████| 3/3 [00:01<00:00,  1.59it/s]\n",
            "Evaluate Train: 100%|██████████| 9/9 [00:05<00:00,  1.51it/s]\n",
            "Evaluate Validation: 100%|██████████| 3/3 [00:01<00:00,  2.16it/s]\n"
          ]
        },
        {
          "output_type": "stream",
          "name": "stdout",
          "text": [
            "Epoch 31/50\n",
            "Train - Loss: 0.3454, Accuracy: 0.8441, Precision: 0.9112, Recall: 0.7558, AUC: 0.9076\n",
            "Val - Loss: 0.3735, Accuracy: 0.8030, Precision: 0.8545, Recall: 0.7231, AUC: 0.8367\n"
          ]
        },
        {
          "output_type": "stream",
          "name": "stderr",
          "text": [
            "Epoch 32/50, Train: 100%|██████████| 9/9 [00:06<00:00,  1.30it/s]\n",
            "Epoch 32/50, Validation: 100%|██████████| 3/3 [00:01<00:00,  2.15it/s]\n",
            "Evaluate Train: 100%|██████████| 9/9 [00:05<00:00,  1.55it/s]\n",
            "Evaluate Validation: 100%|██████████| 3/3 [00:01<00:00,  1.91it/s]\n"
          ]
        },
        {
          "output_type": "stream",
          "name": "stdout",
          "text": [
            "Epoch 32/50\n",
            "Train - Loss: 0.4108, Accuracy: 0.8460, Precision: 0.8672, Recall: 0.8101, AUC: 0.9226\n",
            "Val - Loss: 0.4255, Accuracy: 0.8106, Precision: 0.8226, Recall: 0.7846, AUC: 0.8755\n"
          ]
        },
        {
          "output_type": "stream",
          "name": "stderr",
          "text": [
            "Epoch 33/50, Train: 100%|██████████| 9/9 [00:07<00:00,  1.29it/s]\n",
            "Epoch 33/50, Validation: 100%|██████████| 3/3 [00:01<00:00,  2.16it/s]\n",
            "Evaluate Train: 100%|██████████| 9/9 [00:05<00:00,  1.57it/s]\n",
            "Evaluate Validation: 100%|██████████| 3/3 [00:01<00:00,  1.93it/s]\n"
          ]
        },
        {
          "output_type": "stream",
          "name": "stdout",
          "text": [
            "Epoch 33/50\n",
            "Train - Loss: 0.3463, Accuracy: 0.8688, Precision: 0.9565, Recall: 0.7674, AUC: 0.9230\n",
            "Val - Loss: 0.4744, Accuracy: 0.8333, Precision: 0.9216, Recall: 0.7231, AUC: 0.8546\n"
          ]
        },
        {
          "output_type": "stream",
          "name": "stderr",
          "text": [
            "Epoch 34/50, Train: 100%|██████████| 9/9 [00:06<00:00,  1.34it/s]\n",
            "Epoch 34/50, Validation: 100%|██████████| 3/3 [00:01<00:00,  2.13it/s]\n",
            "Evaluate Train: 100%|██████████| 9/9 [00:05<00:00,  1.52it/s]\n",
            "Evaluate Validation: 100%|██████████| 3/3 [00:01<00:00,  1.88it/s]\n"
          ]
        },
        {
          "output_type": "stream",
          "name": "stdout",
          "text": [
            "Epoch 34/50\n",
            "Train - Loss: 0.4004, Accuracy: 0.8574, Precision: 0.8996, Recall: 0.7984, AUC: 0.9388\n",
            "Val - Loss: 0.4622, Accuracy: 0.8106, Precision: 0.8448, Recall: 0.7538, AUC: 0.8813\n"
          ]
        },
        {
          "output_type": "stream",
          "name": "stderr",
          "text": [
            "Epoch 35/50, Train: 100%|██████████| 9/9 [00:09<00:00,  1.00s/it]\n",
            "Epoch 35/50, Validation: 100%|██████████| 3/3 [00:01<00:00,  2.19it/s]\n",
            "Evaluate Train: 100%|██████████| 9/9 [00:05<00:00,  1.65it/s]\n",
            "Evaluate Validation: 100%|██████████| 3/3 [00:01<00:00,  2.03it/s]\n"
          ]
        },
        {
          "output_type": "stream",
          "name": "stdout",
          "text": [
            "Epoch 35/50\n",
            "Train - Loss: 0.3320, Accuracy: 0.8517, Precision: 0.9592, Recall: 0.7287, AUC: 0.9369\n",
            "Val - Loss: 0.3760, Accuracy: 0.8485, Precision: 0.9412, Recall: 0.7385, AUC: 0.8820\n"
          ]
        },
        {
          "output_type": "stream",
          "name": "stderr",
          "text": [
            "Epoch 36/50, Train: 100%|██████████| 9/9 [00:06<00:00,  1.34it/s]\n",
            "Epoch 36/50, Validation: 100%|██████████| 3/3 [00:01<00:00,  2.19it/s]\n",
            "Evaluate Train: 100%|██████████| 9/9 [00:05<00:00,  1.52it/s]\n",
            "Evaluate Validation: 100%|██████████| 3/3 [00:01<00:00,  2.20it/s]\n"
          ]
        },
        {
          "output_type": "stream",
          "name": "stdout",
          "text": [
            "Epoch 36/50\n",
            "Train - Loss: 0.3135, Accuracy: 0.8631, Precision: 0.8470, Recall: 0.8798, AUC: 0.9400\n",
            "Val - Loss: 0.5316, Accuracy: 0.8030, Precision: 0.7910, Recall: 0.8154, AUC: 0.9022\n"
          ]
        },
        {
          "output_type": "stream",
          "name": "stderr",
          "text": [
            "Epoch 37/50, Train: 100%|██████████| 9/9 [00:06<00:00,  1.33it/s]\n",
            "Epoch 37/50, Validation: 100%|██████████| 3/3 [00:01<00:00,  2.07it/s]\n",
            "Evaluate Train: 100%|██████████| 9/9 [00:05<00:00,  1.62it/s]\n",
            "Evaluate Validation: 100%|██████████| 3/3 [00:01<00:00,  2.12it/s]\n"
          ]
        },
        {
          "output_type": "stream",
          "name": "stdout",
          "text": [
            "Epoch 37/50\n",
            "Train - Loss: 0.3142, Accuracy: 0.8764, Precision: 0.9367, Recall: 0.8023, AUC: 0.9484\n",
            "Val - Loss: 0.3314, Accuracy: 0.8182, Precision: 0.8727, Recall: 0.7385, AUC: 0.8574\n"
          ]
        },
        {
          "output_type": "stream",
          "name": "stderr",
          "text": [
            "Epoch 38/50, Train: 100%|██████████| 9/9 [00:06<00:00,  1.38it/s]\n",
            "Epoch 38/50, Validation: 100%|██████████| 3/3 [00:01<00:00,  2.09it/s]\n",
            "Evaluate Train: 100%|██████████| 9/9 [00:05<00:00,  1.62it/s]\n",
            "Evaluate Validation: 100%|██████████| 3/3 [00:01<00:00,  2.12it/s]\n"
          ]
        },
        {
          "output_type": "stream",
          "name": "stdout",
          "text": [
            "Epoch 38/50\n",
            "Train - Loss: 0.3138, Accuracy: 0.8802, Precision: 0.9079, Recall: 0.8411, AUC: 0.9417\n",
            "Val - Loss: 0.5037, Accuracy: 0.8030, Precision: 0.8095, Recall: 0.7846, AUC: 0.8638\n"
          ]
        },
        {
          "output_type": "stream",
          "name": "stderr",
          "text": [
            "Epoch 39/50, Train: 100%|██████████| 9/9 [00:06<00:00,  1.38it/s]\n",
            "Epoch 39/50, Validation: 100%|██████████| 3/3 [00:01<00:00,  1.82it/s]\n",
            "Evaluate Train: 100%|██████████| 9/9 [00:05<00:00,  1.65it/s]\n",
            "Evaluate Validation: 100%|██████████| 3/3 [00:01<00:00,  1.87it/s]\n"
          ]
        },
        {
          "output_type": "stream",
          "name": "stdout",
          "text": [
            "Epoch 39/50\n",
            "Train - Loss: 0.3512, Accuracy: 0.8574, Precision: 0.8479, Recall: 0.8643, AUC: 0.9304\n",
            "Val - Loss: 0.5020, Accuracy: 0.8182, Precision: 0.8475, Recall: 0.7692, AUC: 0.8549\n"
          ]
        },
        {
          "output_type": "stream",
          "name": "stderr",
          "text": [
            "Epoch 40/50, Train: 100%|██████████| 9/9 [00:06<00:00,  1.37it/s]\n",
            "Epoch 40/50, Validation: 100%|██████████| 3/3 [00:01<00:00,  2.19it/s]\n",
            "Evaluate Train: 100%|██████████| 9/9 [00:05<00:00,  1.66it/s]\n",
            "Evaluate Validation: 100%|██████████| 3/3 [00:01<00:00,  2.02it/s]\n"
          ]
        },
        {
          "output_type": "stream",
          "name": "stdout",
          "text": [
            "Epoch 40/50\n",
            "Train - Loss: 0.3225, Accuracy: 0.8460, Precision: 0.8798, Recall: 0.7946, AUC: 0.9208\n",
            "Val - Loss: 0.4423, Accuracy: 0.8258, Precision: 0.8750, Recall: 0.7538, AUC: 0.8852\n"
          ]
        },
        {
          "output_type": "stream",
          "name": "stderr",
          "text": [
            "Epoch 41/50, Train: 100%|██████████| 9/9 [00:06<00:00,  1.36it/s]\n",
            "Epoch 41/50, Validation: 100%|██████████| 3/3 [00:01<00:00,  2.19it/s]\n",
            "Evaluate Train: 100%|██████████| 9/9 [00:05<00:00,  1.51it/s]\n",
            "Evaluate Validation: 100%|██████████| 3/3 [00:01<00:00,  2.20it/s]\n"
          ]
        },
        {
          "output_type": "stream",
          "name": "stdout",
          "text": [
            "Epoch 41/50\n",
            "Train - Loss: 0.3167, Accuracy: 0.8251, Precision: 0.8347, Recall: 0.8023, AUC: 0.9146\n",
            "Val - Loss: 0.5044, Accuracy: 0.7955, Precision: 0.7879, Recall: 0.8000, AUC: 0.8510\n"
          ]
        },
        {
          "output_type": "stream",
          "name": "stderr",
          "text": [
            "Epoch 42/50, Train: 100%|██████████| 9/9 [00:06<00:00,  1.33it/s]\n",
            "Epoch 42/50, Validation: 100%|██████████| 3/3 [00:01<00:00,  2.05it/s]\n",
            "Evaluate Train: 100%|██████████| 9/9 [00:05<00:00,  1.63it/s]\n",
            "Evaluate Validation: 100%|██████████| 3/3 [00:01<00:00,  2.04it/s]\n"
          ]
        },
        {
          "output_type": "stream",
          "name": "stdout",
          "text": [
            "Epoch 42/50\n",
            "Train - Loss: 0.3284, Accuracy: 0.8061, Precision: 0.9875, Recall: 0.6124, AUC: 0.9023\n",
            "Val - Loss: 0.6963, Accuracy: 0.7879, Precision: 0.9302, Recall: 0.6154, AUC: 0.8588\n"
          ]
        },
        {
          "output_type": "stream",
          "name": "stderr",
          "text": [
            "Epoch 43/50, Train: 100%|██████████| 9/9 [00:06<00:00,  1.37it/s]\n",
            "Epoch 43/50, Validation: 100%|██████████| 3/3 [00:01<00:00,  2.04it/s]\n",
            "Evaluate Train: 100%|██████████| 9/9 [00:05<00:00,  1.63it/s]\n",
            "Evaluate Validation: 100%|██████████| 3/3 [00:01<00:00,  2.02it/s]\n"
          ]
        },
        {
          "output_type": "stream",
          "name": "stdout",
          "text": [
            "Epoch 43/50\n",
            "Train - Loss: 0.2879, Accuracy: 0.8232, Precision: 0.8700, Recall: 0.7519, AUC: 0.9128\n",
            "Val - Loss: 1.1798, Accuracy: 0.7652, Precision: 0.8148, Recall: 0.6769, AUC: 0.8377\n"
          ]
        },
        {
          "output_type": "stream",
          "name": "stderr",
          "text": [
            "Epoch 44/50, Train: 100%|██████████| 9/9 [00:06<00:00,  1.36it/s]\n",
            "Epoch 44/50, Validation: 100%|██████████| 3/3 [00:01<00:00,  2.12it/s]\n",
            "Evaluate Train: 100%|██████████| 9/9 [00:05<00:00,  1.62it/s]\n",
            "Evaluate Validation: 100%|██████████| 3/3 [00:01<00:00,  2.09it/s]\n"
          ]
        },
        {
          "output_type": "stream",
          "name": "stdout",
          "text": [
            "Epoch 44/50\n",
            "Train - Loss: 0.3012, Accuracy: 0.8745, Precision: 0.9286, Recall: 0.8062, AUC: 0.9399\n",
            "Val - Loss: 0.4547, Accuracy: 0.8106, Precision: 0.8704, Recall: 0.7231, AUC: 0.8799\n"
          ]
        },
        {
          "output_type": "stream",
          "name": "stderr",
          "text": [
            "Epoch 45/50, Train: 100%|██████████| 9/9 [00:06<00:00,  1.37it/s]\n",
            "Epoch 45/50, Validation: 100%|██████████| 3/3 [00:01<00:00,  1.83it/s]\n",
            "Evaluate Train: 100%|██████████| 9/9 [00:05<00:00,  1.65it/s]\n",
            "Evaluate Validation: 100%|██████████| 3/3 [00:01<00:00,  1.85it/s]\n"
          ]
        },
        {
          "output_type": "stream",
          "name": "stdout",
          "text": [
            "Epoch 45/50\n",
            "Train - Loss: 0.2925, Accuracy: 0.8859, Precision: 0.8992, Recall: 0.8643, AUC: 0.9373\n",
            "Val - Loss: 0.4689, Accuracy: 0.7727, Precision: 0.7612, Recall: 0.7846, AUC: 0.8574\n"
          ]
        },
        {
          "output_type": "stream",
          "name": "stderr",
          "text": [
            "Epoch 46/50, Train: 100%|██████████| 9/9 [00:07<00:00,  1.28it/s]\n",
            "Epoch 46/50, Validation: 100%|██████████| 3/3 [00:01<00:00,  2.19it/s]\n",
            "Evaluate Train: 100%|██████████| 9/9 [00:05<00:00,  1.56it/s]\n",
            "Evaluate Validation: 100%|██████████| 3/3 [00:01<00:00,  2.04it/s]\n"
          ]
        },
        {
          "output_type": "stream",
          "name": "stdout",
          "text": [
            "Epoch 46/50\n",
            "Train - Loss: 0.2700, Accuracy: 0.8517, Precision: 0.8462, Recall: 0.8527, AUC: 0.9395\n",
            "Val - Loss: 0.3930, Accuracy: 0.7652, Precision: 0.7931, Recall: 0.7077, AUC: 0.8574\n"
          ]
        },
        {
          "output_type": "stream",
          "name": "stderr",
          "text": [
            "Epoch 47/50, Train: 100%|██████████| 9/9 [00:06<00:00,  1.32it/s]\n",
            "Epoch 47/50, Validation: 100%|██████████| 3/3 [00:01<00:00,  1.94it/s]\n",
            "Evaluate Train: 100%|██████████| 9/9 [00:05<00:00,  1.65it/s]\n",
            "Evaluate Validation: 100%|██████████| 3/3 [00:01<00:00,  1.96it/s]\n"
          ]
        },
        {
          "output_type": "stream",
          "name": "stdout",
          "text": [
            "Epoch 47/50\n",
            "Train - Loss: 0.3332, Accuracy: 0.8954, Precision: 0.9765, Recall: 0.8062, AUC: 0.9581\n",
            "Val - Loss: 0.3892, Accuracy: 0.8182, Precision: 0.9020, Recall: 0.7077, AUC: 0.8638\n"
          ]
        },
        {
          "output_type": "stream",
          "name": "stderr",
          "text": [
            "Epoch 48/50, Train: 100%|██████████| 9/9 [00:06<00:00,  1.38it/s]\n",
            "Epoch 48/50, Validation: 100%|██████████| 3/3 [00:01<00:00,  1.95it/s]\n",
            "Evaluate Train: 100%|██████████| 9/9 [00:05<00:00,  1.65it/s]\n",
            "Evaluate Validation: 100%|██████████| 3/3 [00:01<00:00,  1.94it/s]\n"
          ]
        },
        {
          "output_type": "stream",
          "name": "stdout",
          "text": [
            "Epoch 48/50\n",
            "Train - Loss: 0.2699, Accuracy: 0.8745, Precision: 0.8582, Recall: 0.8915, AUC: 0.9550\n",
            "Val - Loss: 0.4445, Accuracy: 0.7348, Precision: 0.7083, Recall: 0.7846, AUC: 0.8558\n"
          ]
        },
        {
          "output_type": "stream",
          "name": "stderr",
          "text": [
            "Epoch 49/50, Train: 100%|██████████| 9/9 [00:06<00:00,  1.36it/s]\n",
            "Epoch 49/50, Validation: 100%|██████████| 3/3 [00:01<00:00,  2.19it/s]\n",
            "Evaluate Train: 100%|██████████| 9/9 [00:05<00:00,  1.64it/s]\n",
            "Evaluate Validation: 100%|██████████| 3/3 [00:01<00:00,  2.03it/s]\n"
          ]
        },
        {
          "output_type": "stream",
          "name": "stdout",
          "text": [
            "Epoch 49/50\n",
            "Train - Loss: 0.2718, Accuracy: 0.9011, Precision: 0.9364, Recall: 0.8566, AUC: 0.9710\n",
            "Val - Loss: 0.3886, Accuracy: 0.8030, Precision: 0.8305, Recall: 0.7538, AUC: 0.8829\n"
          ]
        },
        {
          "output_type": "stream",
          "name": "stderr",
          "text": [
            "Epoch 50/50, Train: 100%|██████████| 9/9 [00:06<00:00,  1.38it/s]\n",
            "Epoch 50/50, Validation: 100%|██████████| 3/3 [00:01<00:00,  1.95it/s]\n",
            "Evaluate Train: 100%|██████████| 9/9 [00:05<00:00,  1.65it/s]\n",
            "Evaluate Validation: 100%|██████████| 3/3 [00:01<00:00,  1.96it/s]\n"
          ]
        },
        {
          "output_type": "stream",
          "name": "stdout",
          "text": [
            "Epoch 50/50\n",
            "Train - Loss: 0.2809, Accuracy: 0.8631, Precision: 0.9794, Recall: 0.7364, AUC: 0.9595\n",
            "Val - Loss: 0.7550, Accuracy: 0.8258, Precision: 0.9375, Recall: 0.6923, AUC: 0.8528\n"
          ]
        },
        {
          "output_type": "stream",
          "name": "stderr",
          "text": [
            "Evaluate Test: 100%|██████████| 3/3 [00:00<00:00, 14.42it/s]\n"
          ]
        },
        {
          "output_type": "stream",
          "name": "stdout",
          "text": [
            "\n",
            "Accuracy: 0.7576, Precision: 0.7733, Recall: 0.7160, AUC: 0.8042\n",
            "Results saved to results/finetune/ori/vig_s_224_gelu/classification_results.txt\n"
          ]
        },
        {
          "output_type": "stream",
          "name": "stderr",
          "text": [
            "WARNING:matplotlib.image:Clipping input data to the valid range for imshow with RGB data ([0..1] for floats or [0..255] for integers).\n",
            "WARNING:matplotlib.image:Clipping input data to the valid range for imshow with RGB data ([0..1] for floats or [0..255] for integers).\n",
            "WARNING:matplotlib.image:Clipping input data to the valid range for imshow with RGB data ([0..1] for floats or [0..255] for integers).\n",
            "WARNING:matplotlib.image:Clipping input data to the valid range for imshow with RGB data ([0..1] for floats or [0..255] for integers).\n",
            "WARNING:matplotlib.image:Clipping input data to the valid range for imshow with RGB data ([0..1] for floats or [0..255] for integers).\n",
            "WARNING:matplotlib.image:Clipping input data to the valid range for imshow with RGB data ([0..1] for floats or [0..255] for integers).\n"
          ]
        },
        {
          "output_type": "stream",
          "name": "stdout",
          "text": [
            "Results saved to results/visualization/zero_shot/ucsd/vig_s_224_gelu/images/cxr_images.png\n"
          ]
        },
        {
          "output_type": "stream",
          "name": "stderr",
          "text": [
            "Evaluate Train: 100%|██████████| 31/31 [00:02<00:00, 11.63it/s]\n",
            "Evaluate Validation: 100%|██████████| 8/8 [00:00<00:00, 11.08it/s]\n",
            "Evaluate Test: 100%|██████████| 10/10 [00:00<00:00, 12.28it/s]"
          ]
        },
        {
          "output_type": "stream",
          "name": "stdout",
          "text": [
            "Results saved to results/zero_shot/ucsd/vig_s_224_gelu/classification_results.txt\n"
          ]
        },
        {
          "output_type": "stream",
          "name": "stderr",
          "text": [
            "\n"
          ]
        },
        {
          "output_type": "display_data",
          "data": {
            "text/plain": [
              "<Figure size 640x480 with 0 Axes>"
            ]
          },
          "metadata": {}
        }
      ],
      "source": [
        "%run ViG-Pediatric/scripts/vig/finetune_vig_s_224_gelu.py"
      ]
    },
    {
      "cell_type": "code",
      "execution_count": null,
      "metadata": {
        "id": "atO0ERu4o3Ha"
      },
      "outputs": [],
      "source": [
        "# %run ViG-Pediatric/scripts/vig/finetune_vig_b_224_gelu.py"
      ]
    },
    {
      "cell_type": "code",
      "execution_count": 8,
      "metadata": {
        "id": "T6TPaLTTx2Y0",
        "colab": {
          "base_uri": "https://localhost:8080/"
        },
        "outputId": "05053177-d5dd-44be-990a-87fbb0826e81"
      },
      "outputs": [
        {
          "output_type": "stream",
          "name": "stdout",
          "text": [
            "  adding: results/ (stored 0%)\n",
            "  adding: results/visualization/ (stored 0%)\n",
            "  adding: results/visualization/finetune/ (stored 0%)\n",
            "  adding: results/visualization/finetune/ori/ (stored 0%)\n",
            "  adding: results/visualization/finetune/ori/vig_s_224_gelu/ (stored 0%)\n",
            "  adding: results/visualization/finetune/ori/vig_s_224_gelu/images/ (stored 0%)\n",
            "  adding: results/visualization/finetune/ori/vig_s_224_gelu/images/cxr_images.png (deflated 6%)\n",
            "  adding: results/visualization/finetune/ucsd/ (stored 0%)\n",
            "  adding: results/visualization/finetune/ucsd/vig_s_224_gelu/ (stored 0%)\n",
            "  adding: results/visualization/finetune/ucsd/vig_s_224_gelu/images/ (stored 0%)\n",
            "  adding: results/visualization/finetune/ucsd/vig_s_224_gelu/images/cxr_images.png (deflated 8%)\n",
            "  adding: results/visualization/zero_shot/ (stored 0%)\n",
            "  adding: results/visualization/zero_shot/ori/ (stored 0%)\n",
            "  adding: results/visualization/zero_shot/ori/vig_s_224_gelu/ (stored 0%)\n",
            "  adding: results/visualization/zero_shot/ori/vig_s_224_gelu/images/ (stored 0%)\n",
            "  adding: results/visualization/zero_shot/ori/vig_s_224_gelu/images/cxr_images.png (deflated 7%)\n",
            "  adding: results/visualization/zero_shot/ucsd/ (stored 0%)\n",
            "  adding: results/visualization/zero_shot/ucsd/vig_s_224_gelu/ (stored 0%)\n",
            "  adding: results/visualization/zero_shot/ucsd/vig_s_224_gelu/images/ (stored 0%)\n",
            "  adding: results/visualization/zero_shot/ucsd/vig_s_224_gelu/images/cxr_images.png (deflated 7%)\n",
            "  adding: results/finetune/ (stored 0%)\n",
            "  adding: results/finetune/ori/ (stored 0%)\n",
            "  adding: results/finetune/ori/vig_s_224_gelu/ (stored 0%)\n",
            "  adding: results/finetune/ori/vig_s_224_gelu/metrics_accuracy_epoch.png (deflated 3%)\n",
            "  adding: results/finetune/ori/vig_s_224_gelu/metrics_auc_epoch.png (deflated 4%)\n",
            "  adding: results/finetune/ori/vig_s_224_gelu/metrics_recall_epoch.png (deflated 4%)\n",
            "  adding: results/finetune/ori/vig_s_224_gelu/metrics_loss_epoch.png (deflated 5%)\n",
            "  adding: results/finetune/ori/vig_s_224_gelu/metrics_precision_epoch.png (deflated 2%)\n",
            "  adding: results/finetune/ori/vig_s_224_gelu/.ipynb_checkpoints/ (stored 0%)\n",
            "  adding: results/finetune/ori/vig_s_224_gelu/classification_results.txt (deflated 55%)\n",
            "  adding: results/finetune/ucsd/ (stored 0%)\n",
            "  adding: results/finetune/ucsd/vig_s_224_gelu/ (stored 0%)\n",
            "  adding: results/finetune/ucsd/vig_s_224_gelu/metrics_accuracy_epoch.png (deflated 6%)\n",
            "  adding: results/finetune/ucsd/vig_s_224_gelu/metrics_auc_epoch.png (deflated 6%)\n",
            "  adding: results/finetune/ucsd/vig_s_224_gelu/metrics_recall_epoch.png (deflated 4%)\n",
            "  adding: results/finetune/ucsd/vig_s_224_gelu/metrics_loss_epoch.png (deflated 7%)\n",
            "  adding: results/finetune/ucsd/vig_s_224_gelu/metrics_precision_epoch.png (deflated 5%)\n",
            "  adding: results/finetune/ucsd/vig_s_224_gelu/.ipynb_checkpoints/ (stored 0%)\n",
            "  adding: results/finetune/ucsd/vig_s_224_gelu/classification_results.txt (deflated 57%)\n",
            "  adding: results/zero_shot/ (stored 0%)\n",
            "  adding: results/zero_shot/ori/ (stored 0%)\n",
            "  adding: results/zero_shot/ori/vig_s_224_gelu/ (stored 0%)\n",
            "  adding: results/zero_shot/ori/vig_s_224_gelu/classification_results.txt (deflated 53%)\n",
            "  adding: results/zero_shot/ucsd/ (stored 0%)\n",
            "  adding: results/zero_shot/ucsd/vig_s_224_gelu/ (stored 0%)\n",
            "  adding: results/zero_shot/ucsd/vig_s_224_gelu/classification_results.txt (deflated 52%)\n"
          ]
        }
      ],
      "source": [
        "!zip -r vig_results.zip results"
      ]
    },
    {
      "cell_type": "code",
      "execution_count": 7,
      "metadata": {
        "id": "bUQJaiYgFH8W"
      },
      "outputs": [],
      "source": [
        "%mv vig_results.zip drive/MyDrive/ViG-Pediatric"
      ]
    }
  ],
  "metadata": {
    "accelerator": "GPU",
    "colab": {
      "gpuType": "A100",
      "machine_shape": "hm",
      "provenance": []
    },
    "kernelspec": {
      "display_name": "Python 3",
      "name": "python3"
    },
    "language_info": {
      "name": "python"
    }
  },
  "nbformat": 4,
  "nbformat_minor": 0
}