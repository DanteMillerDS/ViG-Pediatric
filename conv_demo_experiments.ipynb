{
  "cells": [
    {
      "cell_type": "code",
      "execution_count": 1,
      "metadata": {
        "colab": {
          "base_uri": "https://localhost:8080/"
        },
        "id": "SYlFA4SFXLHW",
        "outputId": "3e258447-391b-4257-edc5-3a0563444326"
      },
      "outputs": [
        {
          "output_type": "stream",
          "name": "stdout",
          "text": [
            "Cloning into 'ViG-Pediatric'...\n",
            "remote: Enumerating objects: 714, done.\u001b[K\n",
            "remote: Counting objects: 100% (232/232), done.\u001b[K\n",
            "remote: Compressing objects: 100% (167/167), done.\u001b[K\n",
            "remote: Total 714 (delta 68), reused 185 (delta 26), pack-reused 482\u001b[K\n",
            "Receiving objects: 100% (714/714), 6.79 MiB | 15.53 MiB/s, done.\n",
            "Resolving deltas: 100% (253/253), done.\n",
            "/content/ViG-Pediatric\n",
            "Submodule 'Efficient-AI-Backbones' (https://github.com/huawei-noah/Efficient-AI-Backbones.git) registered for path 'Efficient-AI-Backbones'\n",
            "Submodule 'PVT' (https://github.com/whai362/PVT.git) registered for path 'PVT'\n",
            "Cloning into '/content/ViG-Pediatric/Efficient-AI-Backbones'...\n",
            "Cloning into '/content/ViG-Pediatric/PVT'...\n",
            "Submodule path 'Efficient-AI-Backbones': checked out 'b216a124bc8c1e999233adc23176bbba82d05d8b'\n",
            "Submodule path 'PVT': checked out '57e2dfaa5a46f9050d76f306a4fcd9a7c061f520'\n",
            "/content\n"
          ]
        }
      ],
      "source": [
        "!git clone https://github.com/DanteMillerDS/ViG-Pediatric.git\n",
        "%cd ViG-Pediatric\n",
        "!git submodule init\n",
        "!git submodule update\n",
        "%cd ../"
      ]
    },
    {
      "cell_type": "code",
      "execution_count": 2,
      "metadata": {
        "id": "VQMyZvkCXDmU",
        "colab": {
          "base_uri": "https://localhost:8080/"
        },
        "outputId": "45c760f3-7cfe-437b-a6d1-4d443b6b5e19"
      },
      "outputs": [
        {
          "output_type": "stream",
          "name": "stdout",
          "text": [
            "Collecting ftfy (from -r ViG-Pediatric/requirements.txt (line 1))\n",
            "  Downloading ftfy-6.2.0-py3-none-any.whl (54 kB)\n",
            "\u001b[?25l     \u001b[90m━━━━━━━━━━━━━━━━━━━━━━━━━━━━━━━━━━━━━━━━\u001b[0m \u001b[32m0.0/54.4 kB\u001b[0m \u001b[31m?\u001b[0m eta \u001b[36m-:--:--\u001b[0m\r\u001b[2K     \u001b[90m━━━━━━━━━━━━━━━━━━━━━━━━━━━━━━━━━━━━━━━━\u001b[0m \u001b[32m54.4/54.4 kB\u001b[0m \u001b[31m2.0 MB/s\u001b[0m eta \u001b[36m0:00:00\u001b[0m\n",
            "\u001b[?25hRequirement already satisfied: regex in /usr/local/lib/python3.10/dist-packages (from -r ViG-Pediatric/requirements.txt (line 2)) (2023.12.25)\n",
            "Collecting timm (from -r ViG-Pediatric/requirements.txt (line 3))\n",
            "  Downloading timm-0.9.16-py3-none-any.whl (2.2 MB)\n",
            "\u001b[?25l     \u001b[90m━━━━━━━━━━━━━━━━━━━━━━━━━━━━━━━━━━━━━━━━\u001b[0m \u001b[32m0.0/2.2 MB\u001b[0m \u001b[31m?\u001b[0m eta \u001b[36m-:--:--\u001b[0m\r\u001b[2K     \u001b[91m━━━━━━━━━━━━━━━━━━━━━━━━━━━━━\u001b[0m\u001b[90m╺\u001b[0m\u001b[90m━━━━━━━━━━\u001b[0m \u001b[32m1.6/2.2 MB\u001b[0m \u001b[31m49.3 MB/s\u001b[0m eta \u001b[36m0:00:01\u001b[0m\r\u001b[2K     \u001b[90m━━━━━━━━━━━━━━━━━━━━━━━━━━━━━━━━━━━━━━━━\u001b[0m \u001b[32m2.2/2.2 MB\u001b[0m \u001b[31m41.0 MB/s\u001b[0m eta \u001b[36m0:00:00\u001b[0m\n",
            "\u001b[?25hRequirement already satisfied: tqdm in /usr/local/lib/python3.10/dist-packages (from -r ViG-Pediatric/requirements.txt (line 4)) (4.66.2)\n",
            "Requirement already satisfied: wcwidth<0.3.0,>=0.2.12 in /usr/local/lib/python3.10/dist-packages (from ftfy->-r ViG-Pediatric/requirements.txt (line 1)) (0.2.13)\n",
            "Requirement already satisfied: torch in /usr/local/lib/python3.10/dist-packages (from timm->-r ViG-Pediatric/requirements.txt (line 3)) (2.2.1+cu121)\n",
            "Requirement already satisfied: torchvision in /usr/local/lib/python3.10/dist-packages (from timm->-r ViG-Pediatric/requirements.txt (line 3)) (0.17.1+cu121)\n",
            "Requirement already satisfied: pyyaml in /usr/local/lib/python3.10/dist-packages (from timm->-r ViG-Pediatric/requirements.txt (line 3)) (6.0.1)\n",
            "Requirement already satisfied: huggingface_hub in /usr/local/lib/python3.10/dist-packages (from timm->-r ViG-Pediatric/requirements.txt (line 3)) (0.20.3)\n",
            "Requirement already satisfied: safetensors in /usr/local/lib/python3.10/dist-packages (from timm->-r ViG-Pediatric/requirements.txt (line 3)) (0.4.3)\n",
            "Requirement already satisfied: filelock in /usr/local/lib/python3.10/dist-packages (from huggingface_hub->timm->-r ViG-Pediatric/requirements.txt (line 3)) (3.13.4)\n",
            "Requirement already satisfied: fsspec>=2023.5.0 in /usr/local/lib/python3.10/dist-packages (from huggingface_hub->timm->-r ViG-Pediatric/requirements.txt (line 3)) (2023.6.0)\n",
            "Requirement already satisfied: requests in /usr/local/lib/python3.10/dist-packages (from huggingface_hub->timm->-r ViG-Pediatric/requirements.txt (line 3)) (2.31.0)\n",
            "Requirement already satisfied: typing-extensions>=3.7.4.3 in /usr/local/lib/python3.10/dist-packages (from huggingface_hub->timm->-r ViG-Pediatric/requirements.txt (line 3)) (4.11.0)\n",
            "Requirement already satisfied: packaging>=20.9 in /usr/local/lib/python3.10/dist-packages (from huggingface_hub->timm->-r ViG-Pediatric/requirements.txt (line 3)) (24.0)\n",
            "Requirement already satisfied: sympy in /usr/local/lib/python3.10/dist-packages (from torch->timm->-r ViG-Pediatric/requirements.txt (line 3)) (1.12)\n",
            "Requirement already satisfied: networkx in /usr/local/lib/python3.10/dist-packages (from torch->timm->-r ViG-Pediatric/requirements.txt (line 3)) (3.3)\n",
            "Requirement already satisfied: jinja2 in /usr/local/lib/python3.10/dist-packages (from torch->timm->-r ViG-Pediatric/requirements.txt (line 3)) (3.1.3)\n",
            "Collecting nvidia-cuda-nvrtc-cu12==12.1.105 (from torch->timm->-r ViG-Pediatric/requirements.txt (line 3))\n",
            "  Using cached nvidia_cuda_nvrtc_cu12-12.1.105-py3-none-manylinux1_x86_64.whl (23.7 MB)\n",
            "Collecting nvidia-cuda-runtime-cu12==12.1.105 (from torch->timm->-r ViG-Pediatric/requirements.txt (line 3))\n",
            "  Using cached nvidia_cuda_runtime_cu12-12.1.105-py3-none-manylinux1_x86_64.whl (823 kB)\n",
            "Collecting nvidia-cuda-cupti-cu12==12.1.105 (from torch->timm->-r ViG-Pediatric/requirements.txt (line 3))\n",
            "  Using cached nvidia_cuda_cupti_cu12-12.1.105-py3-none-manylinux1_x86_64.whl (14.1 MB)\n",
            "Collecting nvidia-cudnn-cu12==8.9.2.26 (from torch->timm->-r ViG-Pediatric/requirements.txt (line 3))\n",
            "  Using cached nvidia_cudnn_cu12-8.9.2.26-py3-none-manylinux1_x86_64.whl (731.7 MB)\n",
            "Collecting nvidia-cublas-cu12==12.1.3.1 (from torch->timm->-r ViG-Pediatric/requirements.txt (line 3))\n",
            "  Using cached nvidia_cublas_cu12-12.1.3.1-py3-none-manylinux1_x86_64.whl (410.6 MB)\n",
            "Collecting nvidia-cufft-cu12==11.0.2.54 (from torch->timm->-r ViG-Pediatric/requirements.txt (line 3))\n",
            "  Using cached nvidia_cufft_cu12-11.0.2.54-py3-none-manylinux1_x86_64.whl (121.6 MB)\n",
            "Collecting nvidia-curand-cu12==10.3.2.106 (from torch->timm->-r ViG-Pediatric/requirements.txt (line 3))\n",
            "  Using cached nvidia_curand_cu12-10.3.2.106-py3-none-manylinux1_x86_64.whl (56.5 MB)\n",
            "Collecting nvidia-cusolver-cu12==11.4.5.107 (from torch->timm->-r ViG-Pediatric/requirements.txt (line 3))\n",
            "  Using cached nvidia_cusolver_cu12-11.4.5.107-py3-none-manylinux1_x86_64.whl (124.2 MB)\n",
            "Collecting nvidia-cusparse-cu12==12.1.0.106 (from torch->timm->-r ViG-Pediatric/requirements.txt (line 3))\n",
            "  Using cached nvidia_cusparse_cu12-12.1.0.106-py3-none-manylinux1_x86_64.whl (196.0 MB)\n",
            "Collecting nvidia-nccl-cu12==2.19.3 (from torch->timm->-r ViG-Pediatric/requirements.txt (line 3))\n",
            "  Using cached nvidia_nccl_cu12-2.19.3-py3-none-manylinux1_x86_64.whl (166.0 MB)\n",
            "Collecting nvidia-nvtx-cu12==12.1.105 (from torch->timm->-r ViG-Pediatric/requirements.txt (line 3))\n",
            "  Using cached nvidia_nvtx_cu12-12.1.105-py3-none-manylinux1_x86_64.whl (99 kB)\n",
            "Requirement already satisfied: triton==2.2.0 in /usr/local/lib/python3.10/dist-packages (from torch->timm->-r ViG-Pediatric/requirements.txt (line 3)) (2.2.0)\n",
            "Collecting nvidia-nvjitlink-cu12 (from nvidia-cusolver-cu12==11.4.5.107->torch->timm->-r ViG-Pediatric/requirements.txt (line 3))\n",
            "  Using cached nvidia_nvjitlink_cu12-12.4.127-py3-none-manylinux2014_x86_64.whl (21.1 MB)\n",
            "Requirement already satisfied: numpy in /usr/local/lib/python3.10/dist-packages (from torchvision->timm->-r ViG-Pediatric/requirements.txt (line 3)) (1.25.2)\n",
            "Requirement already satisfied: pillow!=8.3.*,>=5.3.0 in /usr/local/lib/python3.10/dist-packages (from torchvision->timm->-r ViG-Pediatric/requirements.txt (line 3)) (9.4.0)\n",
            "Requirement already satisfied: MarkupSafe>=2.0 in /usr/local/lib/python3.10/dist-packages (from jinja2->torch->timm->-r ViG-Pediatric/requirements.txt (line 3)) (2.1.5)\n",
            "Requirement already satisfied: charset-normalizer<4,>=2 in /usr/local/lib/python3.10/dist-packages (from requests->huggingface_hub->timm->-r ViG-Pediatric/requirements.txt (line 3)) (3.3.2)\n",
            "Requirement already satisfied: idna<4,>=2.5 in /usr/local/lib/python3.10/dist-packages (from requests->huggingface_hub->timm->-r ViG-Pediatric/requirements.txt (line 3)) (3.7)\n",
            "Requirement already satisfied: urllib3<3,>=1.21.1 in /usr/local/lib/python3.10/dist-packages (from requests->huggingface_hub->timm->-r ViG-Pediatric/requirements.txt (line 3)) (2.0.7)\n",
            "Requirement already satisfied: certifi>=2017.4.17 in /usr/local/lib/python3.10/dist-packages (from requests->huggingface_hub->timm->-r ViG-Pediatric/requirements.txt (line 3)) (2024.2.2)\n",
            "Requirement already satisfied: mpmath>=0.19 in /usr/local/lib/python3.10/dist-packages (from sympy->torch->timm->-r ViG-Pediatric/requirements.txt (line 3)) (1.3.0)\n",
            "Installing collected packages: nvidia-nvtx-cu12, nvidia-nvjitlink-cu12, nvidia-nccl-cu12, nvidia-curand-cu12, nvidia-cufft-cu12, nvidia-cuda-runtime-cu12, nvidia-cuda-nvrtc-cu12, nvidia-cuda-cupti-cu12, nvidia-cublas-cu12, ftfy, nvidia-cusparse-cu12, nvidia-cudnn-cu12, nvidia-cusolver-cu12, timm\n",
            "Successfully installed ftfy-6.2.0 nvidia-cublas-cu12-12.1.3.1 nvidia-cuda-cupti-cu12-12.1.105 nvidia-cuda-nvrtc-cu12-12.1.105 nvidia-cuda-runtime-cu12-12.1.105 nvidia-cudnn-cu12-8.9.2.26 nvidia-cufft-cu12-11.0.2.54 nvidia-curand-cu12-10.3.2.106 nvidia-cusolver-cu12-11.4.5.107 nvidia-cusparse-cu12-12.1.0.106 nvidia-nccl-cu12-2.19.3 nvidia-nvjitlink-cu12-12.4.127 nvidia-nvtx-cu12-12.1.105 timm-0.9.16\n"
          ]
        }
      ],
      "source": [
        "!pip install -r ViG-Pediatric/requirements.txt"
      ]
    },
    {
      "cell_type": "code",
      "execution_count": 3,
      "metadata": {
        "id": "atO0ERu4o3Ha",
        "colab": {
          "base_uri": "https://localhost:8080/",
          "height": 1000
        },
        "outputId": "fbcf7671-e556-45e6-f17e-256a798d3077"
      },
      "outputs": [
        {
          "output_type": "stream",
          "name": "stderr",
          "text": [
            "/content/ViG-Pediatric/PVT/classification/pvt_v2.py:330: UserWarning: Overwriting pvt_v2_b0 in registry with PVT.classification.pvt_v2.pvt_v2_b0. This is because the name being registered conflicts with an existing name. Please check if this is not expected.\n",
            "  def pvt_v2_b0(pretrained=False, **kwargs):\n",
            "/content/ViG-Pediatric/PVT/classification/pvt_v2.py:341: UserWarning: Overwriting pvt_v2_b1 in registry with PVT.classification.pvt_v2.pvt_v2_b1. This is because the name being registered conflicts with an existing name. Please check if this is not expected.\n",
            "  def pvt_v2_b1(pretrained=False, **kwargs):\n",
            "/content/ViG-Pediatric/PVT/classification/pvt_v2.py:352: UserWarning: Overwriting pvt_v2_b2 in registry with PVT.classification.pvt_v2.pvt_v2_b2. This is because the name being registered conflicts with an existing name. Please check if this is not expected.\n",
            "  def pvt_v2_b2(pretrained=False, **kwargs):\n",
            "/content/ViG-Pediatric/PVT/classification/pvt_v2.py:362: UserWarning: Overwriting pvt_v2_b3 in registry with PVT.classification.pvt_v2.pvt_v2_b3. This is because the name being registered conflicts with an existing name. Please check if this is not expected.\n",
            "  def pvt_v2_b3(pretrained=False, **kwargs):\n",
            "/content/ViG-Pediatric/PVT/classification/pvt_v2.py:373: UserWarning: Overwriting pvt_v2_b4 in registry with PVT.classification.pvt_v2.pvt_v2_b4. This is because the name being registered conflicts with an existing name. Please check if this is not expected.\n",
            "  def pvt_v2_b4(pretrained=False, **kwargs):\n",
            "/content/ViG-Pediatric/PVT/classification/pvt_v2.py:384: UserWarning: Overwriting pvt_v2_b5 in registry with PVT.classification.pvt_v2.pvt_v2_b5. This is because the name being registered conflicts with an existing name. Please check if this is not expected.\n",
            "  def pvt_v2_b5(pretrained=False, **kwargs):\n",
            "/content/ViG-Pediatric/PVT/classification/pvt_v2.py:395: UserWarning: Overwriting pvt_v2_b2_li in registry with PVT.classification.pvt_v2.pvt_v2_b2_li. This is because the name being registered conflicts with an existing name. Please check if this is not expected.\n",
            "  def pvt_v2_b2_li(pretrained=False, **kwargs):\n"
          ]
        },
        {
          "output_type": "stream",
          "name": "stdout",
          "text": [
            "Mounting Google Drive...\n",
            "Mounted at /content/drive\n",
            "Copying files from Google Drive...\n",
            "Extracting zip files...\n",
            "\n",
            "7-Zip [64] 16.02 : Copyright (c) 1999-2016 Igor Pavlov : 2016-05-21\n",
            "p7zip Version 16.02 (locale=en_US.UTF-8,Utf16=on,HugeFiles=on,64 bits,12 CPUs Intel(R) Xeon(R) CPU @ 2.20GHz (50657),ASM,AES-NI)\n",
            "\n",
            "Scanning the drive for archives:\n",
            "  0M Scan /content/\b\b\b\b\b\b\b\b\b\b\b\b\b\b\b\b\b\b\b                   \b\b\b\b\b\b\b\b\b\b\b\b\b\b\b\b\b\b\b1 file, 22471493 bytes (22 MiB)\n",
            "\n",
            "Extracting archive: /content/ucsd.zip\n",
            " 66% 4096 Open\b\b\b\b\b\b\b\b\b\b\b\b\b\b              \b\b\b\b\b\b\b\b\b\b\b\b\b\b--\n",
            "Path = /content/ucsd.zip\n",
            "Type = zip\n",
            "Physical Size = 22471493\n",
            "\n",
            "  0%\b\b\b\b    \b\b\b\b 23% 1458 - ucsd/Train/Positive/VIRUS-8054264-0008.jpeg\b\b\b\b\b\b\b\b\b\b\b\b\b\b\b\b\b\b\b\b\b\b\b\b\b\b\b\b\b\b\b\b\b\b\b\b\b\b\b\b\b\b\b\b\b\b\b\b\b\b\b\b\b\b\b                                                       \b\b\b\b\b\b\b\b\b\b\b\b\b\b\b\b\b\b\b\b\b\b\b\b\b\b\b\b\b\b\b\b\b\b\b\b\b\b\b\b\b\b\b\b\b\b\b\b\b\b\b\b\b\b\b 37% 2418\b\b\b\b\b\b\b\b\b         \b\b\b\b\b\b\b\b\b 46% 2994 - ucsd/Train/Positive/VIRUS-3004188-0002.jpeg\b\b\b\b\b\b\b\b\b\b\b\b\b\b\b\b\b\b\b\b\b\b\b\b\b\b\b\b\b\b\b\b\b\b\b\b\b\b\b\b\b\b\b\b\b\b\b\b\b\b\b\b\b\b\b                                                       \b\b\b\b\b\b\b\b\b\b\b\b\b\b\b\b\b\b\b\b\b\b\b\b\b\b\b\b\b\b\b\b\b\b\b\b\b\b\b\b\b\b\b\b\b\b\b\b\b\b\b\b\b\b\b 62% 3962 - ucsd/Train/Negative/NORMAL-4786732-0001.jpeg\b\b\b\b\b\b\b\b\b\b\b\b\b\b\b\b\b\b\b\b\b\b\b\b\b\b\b\b\b\b\b\b\b\b\b\b\b\b\b\b\b\b\b\b\b\b\b\b\b\b\b\b\b\b\b\b                                                        \b\b\b\b\b\b\b\b\b\b\b\b\b\b\b\b\b\b\b\b\b\b\b\b\b\b\b\b\b\b\b\b\b\b\b\b\b\b\b\b\b\b\b\b\b\b\b\b\b\b\b\b\b\b\b\b 74% 4660 - ucsd/Train/Negative/NORMAL-7955464-0003.jpeg\b\b\b\b\b\b\b\b\b\b\b\b\b\b\b\b\b\b\b\b\b\b\b\b\b\b\b\b\b\b\b\b\b\b\b\b\b\b\b\b\b\b\b\b\b\b\b\b\b\b\b\b\b\b\b\b                                                        \b\b\b\b\b\b\b\b\b\b\b\b\b\b\b\b\b\b\b\b\b\b\b\b\b\b\b\b\b\b\b\b\b\b\b\b\b\b\b\b\b\b\b\b\b\b\b\b\b\b\b\b\b\b\b\b 83% 5168 - ucsd/Train/Negative/NORMAL-1996912-0001.jpeg\b\b\b\b\b\b\b\b\b\b\b\b\b\b\b\b\b\b\b\b\b\b\b\b\b\b\b\b\b\b\b\b\b\b\b\b\b\b\b\b\b\b\b\b\b\b\b\b\b\b\b\b\b\b\b\b                                                        \b\b\b\b\b\b\b\b\b\b\b\b\b\b\b\b\b\b\b\b\b\b\b\b\b\b\b\b\b\b\b\b\b\b\b\b\b\b\b\b\b\b\b\b\b\b\b\b\b\b\b\b\b\b\b\bEverything is Ok\n",
            "\n",
            "Folders: 10\n",
            "Files: 6162\n",
            "Size:       21151375\n",
            "Compressed: 22471493\n",
            "\n",
            "7-Zip [64] 16.02 : Copyright (c) 1999-2016 Igor Pavlov : 2016-05-21\n",
            "p7zip Version 16.02 (locale=en_US.UTF-8,Utf16=on,HugeFiles=on,64 bits,12 CPUs Intel(R) Xeon(R) CPU @ 2.20GHz (50657),ASM,AES-NI)\n",
            "\n",
            "Scanning the drive for archives:\n",
            "  0M Scan /content/\b\b\b\b\b\b\b\b\b\b\b\b\b\b\b\b\b\b\b                   \b\b\b\b\b\b\b\b\b\b\b\b\b\b\b\b\b\b\b1 file, 19842873 bytes (19 MiB)\n",
            "\n",
            "Extracting archive: /content/ori.zip\n",
            "--\n",
            "Path = /content/ori.zip\n",
            "Type = zip\n",
            "Physical Size = 19842873\n",
            "\n",
            "  0%\b\b\b\b    \b\b\b\b 77% 1292 - ori/Train/Negative/9J56XA132UUH.png\b\b\b\b\b\b\b\b\b\b\b\b\b\b\b\b\b\b\b\b\b\b\b\b\b\b\b\b\b\b\b\b\b\b\b\b\b\b\b\b\b\b\b\b\b\b\b                                               \b\b\b\b\b\b\b\b\b\b\b\b\b\b\b\b\b\b\b\b\b\b\b\b\b\b\b\b\b\b\b\b\b\b\b\b\b\b\b\b\b\b\b\b\b\b\bEverything is Ok\n",
            "\n",
            "Folders: 10\n",
            "Files: 1662\n",
            "Size:       19522791\n",
            "Compressed: 19842873\n",
            "Files extracted successfully.\n"
          ]
        },
        {
          "output_type": "stream",
          "name": "stderr",
          "text": [
            "WARNING:matplotlib.image:Clipping input data to the valid range for imshow with RGB data ([0..1] for floats or [0..255] for integers).\n",
            "WARNING:matplotlib.image:Clipping input data to the valid range for imshow with RGB data ([0..1] for floats or [0..255] for integers).\n",
            "WARNING:matplotlib.image:Clipping input data to the valid range for imshow with RGB data ([0..1] for floats or [0..255] for integers).\n",
            "WARNING:matplotlib.image:Clipping input data to the valid range for imshow with RGB data ([0..1] for floats or [0..255] for integers).\n",
            "WARNING:matplotlib.image:Clipping input data to the valid range for imshow with RGB data ([0..1] for floats or [0..255] for integers).\n",
            "WARNING:matplotlib.image:Clipping input data to the valid range for imshow with RGB data ([0..1] for floats or [0..255] for integers).\n"
          ]
        },
        {
          "output_type": "stream",
          "name": "stdout",
          "text": [
            "Results saved to results/visualization/finetune/ucsd/resnet50/images/cxr_images.png\n"
          ]
        },
        {
          "output_type": "stream",
          "name": "stderr",
          "text": [
            "/usr/local/lib/python3.10/dist-packages/torchvision/models/inception.py:43: FutureWarning: The default weight initialization of inception_v3 will be changed in future releases of torchvision. If you wish to keep the old behavior (which leads to long initialization times due to scipy/scipy#11299), please set init_weights=True.\n",
            "  warnings.warn(\n"
          ]
        },
        {
          "output_type": "stream",
          "name": "stdout",
          "text": [
            "NVIDIA library configured successfully.\n"
          ]
        },
        {
          "output_type": "stream",
          "name": "stderr",
          "text": [
            "/usr/lib/python3.10/multiprocessing/popen_fork.py:66: RuntimeWarning: os.fork() was called. os.fork() is incompatible with multithreaded code, and JAX is multithreaded, so this will likely lead to a deadlock.\n",
            "  self.pid = os.fork()\n",
            "Epoch 1/50, Train:   0%|          | 0/31 [00:00<?, ?it/s]/usr/local/lib/python3.10/dist-packages/torch/_inductor/compile_fx.py:140: UserWarning: TensorFloat32 tensor cores for float32 matrix multiplication available but not enabled. Consider setting `torch.set_float32_matmul_precision('high')` for better performance.\n",
            "  warnings.warn(\n",
            "Epoch 1/50, Train: 100%|██████████| 31/31 [02:19<00:00,  4.49s/it]\n",
            "Epoch 1/50, Validation: 100%|██████████| 8/8 [00:44<00:00,  5.60s/it]\n",
            "Evaluate Train: 100%|██████████| 31/31 [00:43<00:00,  1.40s/it]\n",
            "/usr/local/lib/python3.10/dist-packages/sklearn/metrics/_classification.py:1344: UndefinedMetricWarning: Precision and F-score are ill-defined and being set to 0.0 in labels with no predicted samples. Use `zero_division` parameter to control this behavior.\n",
            "  _warn_prf(average, modifier, msg_start, len(result))\n",
            "/usr/local/lib/python3.10/dist-packages/sklearn/metrics/_classification.py:1344: UndefinedMetricWarning: Precision and F-score are ill-defined and being set to 0.0 in labels with no predicted samples. Use `zero_division` parameter to control this behavior.\n",
            "  _warn_prf(average, modifier, msg_start, len(result))\n",
            "/usr/local/lib/python3.10/dist-packages/sklearn/metrics/_classification.py:1344: UndefinedMetricWarning: Precision and F-score are ill-defined and being set to 0.0 in labels with no predicted samples. Use `zero_division` parameter to control this behavior.\n",
            "  _warn_prf(average, modifier, msg_start, len(result))\n",
            "Evaluate Validation: 100%|██████████| 8/8 [00:06<00:00,  1.29it/s]\n",
            "/usr/local/lib/python3.10/dist-packages/sklearn/metrics/_classification.py:1344: UndefinedMetricWarning: Precision and F-score are ill-defined and being set to 0.0 in labels with no predicted samples. Use `zero_division` parameter to control this behavior.\n",
            "  _warn_prf(average, modifier, msg_start, len(result))\n",
            "/usr/local/lib/python3.10/dist-packages/sklearn/metrics/_classification.py:1344: UndefinedMetricWarning: Precision and F-score are ill-defined and being set to 0.0 in labels with no predicted samples. Use `zero_division` parameter to control this behavior.\n",
            "  _warn_prf(average, modifier, msg_start, len(result))\n",
            "/usr/local/lib/python3.10/dist-packages/sklearn/metrics/_classification.py:1344: UndefinedMetricWarning: Precision and F-score are ill-defined and being set to 0.0 in labels with no predicted samples. Use `zero_division` parameter to control this behavior.\n",
            "  _warn_prf(average, modifier, msg_start, len(result))\n"
          ]
        },
        {
          "output_type": "stream",
          "name": "stdout",
          "text": [
            "Epoch 1/50\n",
            "Train - Loss: 0.4512, Accuracy: 0.4855, Precision: 0.4855, Recall: 1.0000, AUC: 0.7692\n",
            "Val - Loss: 4.6941, Accuracy: 0.4848, Precision: 0.4848, Recall: 1.0000, AUC: 0.7475\n"
          ]
        },
        {
          "output_type": "stream",
          "name": "stderr",
          "text": [
            "Epoch 2/50, Train: 100%|██████████| 31/31 [00:25<00:00,  1.23it/s]\n",
            "Epoch 2/50, Validation: 100%|██████████| 8/8 [00:06<00:00,  1.27it/s]\n",
            "Evaluate Train: 100%|██████████| 31/31 [00:23<00:00,  1.31it/s]\n",
            "Evaluate Validation: 100%|██████████| 8/8 [00:05<00:00,  1.34it/s]\n"
          ]
        },
        {
          "output_type": "stream",
          "name": "stdout",
          "text": [
            "Epoch 2/50\n",
            "Train - Loss: 0.3264, Accuracy: 0.7819, Precision: 0.6992, Recall: 0.9665, AUC: 0.9412\n",
            "Val - Loss: 0.5432, Accuracy: 0.7789, Precision: 0.7031, Recall: 0.9414, AUC: 0.9188\n"
          ]
        },
        {
          "output_type": "stream",
          "name": "stderr",
          "text": [
            "Epoch 3/50, Train: 100%|██████████| 31/31 [00:25<00:00,  1.19it/s]\n",
            "Epoch 3/50, Validation: 100%|██████████| 8/8 [00:05<00:00,  1.35it/s]\n",
            "Evaluate Train: 100%|██████████| 31/31 [00:23<00:00,  1.31it/s]\n",
            "Evaluate Validation: 100%|██████████| 8/8 [00:05<00:00,  1.40it/s]\n"
          ]
        },
        {
          "output_type": "stream",
          "name": "stdout",
          "text": [
            "Epoch 3/50\n",
            "Train - Loss: 0.2991, Accuracy: 0.8094, Precision: 0.7294, Recall: 0.9654, AUC: 0.9515\n",
            "Val - Loss: 0.4256, Accuracy: 0.8215, Precision: 0.7542, Recall: 0.9372, AUC: 0.9452\n"
          ]
        },
        {
          "output_type": "stream",
          "name": "stderr",
          "text": [
            "Epoch 4/50, Train: 100%|██████████| 31/31 [00:25<00:00,  1.19it/s]\n",
            "Epoch 4/50, Validation: 100%|██████████| 8/8 [00:05<00:00,  1.41it/s]\n",
            "Evaluate Train: 100%|██████████| 31/31 [00:25<00:00,  1.23it/s]\n",
            "Evaluate Validation: 100%|██████████| 8/8 [00:06<00:00,  1.17it/s]\n"
          ]
        },
        {
          "output_type": "stream",
          "name": "stdout",
          "text": [
            "Epoch 4/50\n",
            "Train - Loss: 0.2839, Accuracy: 0.8831, Precision: 0.8469, Recall: 0.9267, AUC: 0.9561\n",
            "Val - Loss: 0.2823, Accuracy: 0.8864, Precision: 0.8533, Recall: 0.9247, AUC: 0.9552\n"
          ]
        },
        {
          "output_type": "stream",
          "name": "stderr",
          "text": [
            "Epoch 5/50, Train: 100%|██████████| 31/31 [00:26<00:00,  1.15it/s]\n",
            "Epoch 5/50, Validation: 100%|██████████| 8/8 [00:05<00:00,  1.34it/s]\n",
            "Evaluate Train: 100%|██████████| 31/31 [00:23<00:00,  1.33it/s]\n",
            "Evaluate Validation: 100%|██████████| 8/8 [00:05<00:00,  1.35it/s]\n"
          ]
        },
        {
          "output_type": "stream",
          "name": "stdout",
          "text": [
            "Epoch 5/50\n",
            "Train - Loss: 0.2626, Accuracy: 0.8932, Precision: 0.9388, Recall: 0.8346, AUC: 0.9570\n",
            "Val - Loss: 0.3486, Accuracy: 0.8864, Precision: 0.9507, Recall: 0.8075, AUC: 0.9555\n"
          ]
        },
        {
          "output_type": "stream",
          "name": "stderr",
          "text": [
            "Epoch 6/50, Train: 100%|██████████| 31/31 [00:25<00:00,  1.20it/s]\n",
            "Epoch 6/50, Validation: 100%|██████████| 8/8 [00:06<00:00,  1.14it/s]\n",
            "Evaluate Train: 100%|██████████| 31/31 [00:30<00:00,  1.02it/s]\n",
            "Evaluate Validation: 100%|██████████| 8/8 [00:06<00:00,  1.19it/s]\n"
          ]
        },
        {
          "output_type": "stream",
          "name": "stdout",
          "text": [
            "Epoch 6/50\n",
            "Train - Loss: 0.2557, Accuracy: 0.8958, Precision: 0.9320, Recall: 0.8471, AUC: 0.9631\n",
            "Val - Loss: 0.2846, Accuracy: 0.8966, Precision: 0.9563, Recall: 0.8243, AUC: 0.9605\n"
          ]
        },
        {
          "output_type": "stream",
          "name": "stderr",
          "text": [
            "Epoch 7/50, Train: 100%|██████████| 31/31 [00:26<00:00,  1.18it/s]\n",
            "Epoch 7/50, Validation: 100%|██████████| 8/8 [00:06<00:00,  1.32it/s]\n",
            "Evaluate Train: 100%|██████████| 31/31 [00:23<00:00,  1.34it/s]\n",
            "Evaluate Validation: 100%|██████████| 8/8 [00:05<00:00,  1.34it/s]\n"
          ]
        },
        {
          "output_type": "stream",
          "name": "stdout",
          "text": [
            "Epoch 7/50\n",
            "Train - Loss: 0.2694, Accuracy: 0.8271, Precision: 0.7518, Recall: 0.9613, AUC: 0.9550\n",
            "Val - Loss: 0.3770, Accuracy: 0.8215, Precision: 0.7412, Recall: 0.9707, AUC: 0.9551\n"
          ]
        },
        {
          "output_type": "stream",
          "name": "stderr",
          "text": [
            "Epoch 8/50, Train: 100%|██████████| 31/31 [00:27<00:00,  1.13it/s]\n",
            "Epoch 8/50, Validation: 100%|██████████| 8/8 [00:05<00:00,  1.35it/s]\n",
            "Evaluate Train: 100%|██████████| 31/31 [00:28<00:00,  1.09it/s]\n",
            "Evaluate Validation: 100%|██████████| 8/8 [00:08<00:00,  1.02s/it]\n"
          ]
        },
        {
          "output_type": "stream",
          "name": "stdout",
          "text": [
            "Epoch 8/50\n",
            "Train - Loss: 0.2475, Accuracy: 0.9136, Precision: 0.9280, Recall: 0.8911, AUC: 0.9647\n",
            "Val - Loss: 0.3100, Accuracy: 0.9087, Precision: 0.9369, Recall: 0.8703, AUC: 0.9573\n"
          ]
        },
        {
          "output_type": "stream",
          "name": "stderr",
          "text": [
            "Epoch 9/50, Train: 100%|██████████| 31/31 [00:26<00:00,  1.17it/s]\n",
            "Epoch 9/50, Validation: 100%|██████████| 8/8 [00:05<00:00,  1.40it/s]\n",
            "Evaluate Train: 100%|██████████| 31/31 [00:24<00:00,  1.29it/s]\n",
            "Evaluate Validation: 100%|██████████| 8/8 [00:06<00:00,  1.23it/s]\n"
          ]
        },
        {
          "output_type": "stream",
          "name": "stdout",
          "text": [
            "Epoch 9/50\n",
            "Train - Loss: 0.2388, Accuracy: 0.8632, Precision: 0.9635, Recall: 0.7466, AUC: 0.9627\n",
            "Val - Loss: 0.4607, Accuracy: 0.8621, Precision: 0.9622, Recall: 0.7448, AUC: 0.9619\n"
          ]
        },
        {
          "output_type": "stream",
          "name": "stderr",
          "text": [
            "Epoch 10/50, Train: 100%|██████████| 31/31 [00:25<00:00,  1.21it/s]\n",
            "Epoch 10/50, Validation: 100%|██████████| 8/8 [00:06<00:00,  1.24it/s]\n",
            "Evaluate Train: 100%|██████████| 31/31 [00:24<00:00,  1.27it/s]\n",
            "Evaluate Validation: 100%|██████████| 8/8 [00:05<00:00,  1.35it/s]\n"
          ]
        },
        {
          "output_type": "stream",
          "name": "stdout",
          "text": [
            "Epoch 10/50\n",
            "Train - Loss: 0.2330, Accuracy: 0.8485, Precision: 0.9727, Recall: 0.7079, AUC: 0.9706\n",
            "Val - Loss: 0.4977, Accuracy: 0.8296, Precision: 0.9641, Recall: 0.6736, AUC: 0.9644\n"
          ]
        },
        {
          "output_type": "stream",
          "name": "stderr",
          "text": [
            "Epoch 11/50, Train: 100%|██████████| 31/31 [00:25<00:00,  1.21it/s]\n",
            "Epoch 11/50, Validation: 100%|██████████| 8/8 [00:06<00:00,  1.33it/s]\n",
            "Evaluate Train: 100%|██████████| 31/31 [00:23<00:00,  1.31it/s]\n",
            "Evaluate Validation: 100%|██████████| 8/8 [00:05<00:00,  1.35it/s]\n"
          ]
        },
        {
          "output_type": "stream",
          "name": "stdout",
          "text": [
            "Epoch 11/50\n",
            "Train - Loss: 0.2260, Accuracy: 0.9126, Precision: 0.8919, Recall: 0.9330, AUC: 0.9738\n",
            "Val - Loss: 0.2552, Accuracy: 0.9249, Precision: 0.9139, Recall: 0.9331, AUC: 0.9739\n"
          ]
        },
        {
          "output_type": "stream",
          "name": "stderr",
          "text": [
            "Epoch 12/50, Train: 100%|██████████| 31/31 [00:26<00:00,  1.15it/s]\n",
            "Epoch 12/50, Validation: 100%|██████████| 8/8 [00:05<00:00,  1.38it/s]\n",
            "Evaluate Train: 100%|██████████| 31/31 [00:27<00:00,  1.13it/s]\n",
            "Evaluate Validation: 100%|██████████| 8/8 [00:06<00:00,  1.17it/s]\n"
          ]
        },
        {
          "output_type": "stream",
          "name": "stdout",
          "text": [
            "Epoch 12/50\n",
            "Train - Loss: 0.2182, Accuracy: 0.9217, Precision: 0.9265, Recall: 0.9110, AUC: 0.9733\n",
            "Val - Loss: 0.2411, Accuracy: 0.9168, Precision: 0.9342, Recall: 0.8912, AUC: 0.9694\n"
          ]
        },
        {
          "output_type": "stream",
          "name": "stderr",
          "text": [
            "Epoch 13/50, Train: 100%|██████████| 31/31 [00:26<00:00,  1.19it/s]\n",
            "Epoch 13/50, Validation: 100%|██████████| 8/8 [00:06<00:00,  1.30it/s]\n",
            "Evaluate Train: 100%|██████████| 31/31 [00:23<00:00,  1.34it/s]\n",
            "Evaluate Validation: 100%|██████████| 8/8 [00:05<00:00,  1.34it/s]\n"
          ]
        },
        {
          "output_type": "stream",
          "name": "stdout",
          "text": [
            "Epoch 13/50\n",
            "Train - Loss: 0.2095, Accuracy: 0.8912, Precision: 0.9732, Recall: 0.7979, AUC: 0.9788\n",
            "Val - Loss: 0.3207, Accuracy: 0.8986, Precision: 0.9565, Recall: 0.8285, AUC: 0.9747\n"
          ]
        },
        {
          "output_type": "stream",
          "name": "stderr",
          "text": [
            "Epoch 14/50, Train: 100%|██████████| 31/31 [00:27<00:00,  1.13it/s]\n",
            "Epoch 14/50, Validation: 100%|██████████| 8/8 [00:05<00:00,  1.38it/s]\n",
            "Evaluate Train: 100%|██████████| 31/31 [00:24<00:00,  1.28it/s]\n",
            "Evaluate Validation: 100%|██████████| 8/8 [00:06<00:00,  1.28it/s]\n"
          ]
        },
        {
          "output_type": "stream",
          "name": "stdout",
          "text": [
            "Epoch 14/50\n",
            "Train - Loss: 0.2181, Accuracy: 0.9248, Precision: 0.9478, Recall: 0.8942, AUC: 0.9791\n",
            "Val - Loss: 0.2943, Accuracy: 0.9168, Precision: 0.9500, Recall: 0.8745, AUC: 0.9727\n"
          ]
        },
        {
          "output_type": "stream",
          "name": "stderr",
          "text": [
            "Epoch 15/50, Train: 100%|██████████| 31/31 [00:25<00:00,  1.20it/s]\n",
            "Epoch 15/50, Validation: 100%|██████████| 8/8 [00:05<00:00,  1.35it/s]\n",
            "Evaluate Train: 100%|██████████| 31/31 [00:23<00:00,  1.33it/s]\n",
            "Evaluate Validation: 100%|██████████| 8/8 [00:06<00:00,  1.26it/s]\n"
          ]
        },
        {
          "output_type": "stream",
          "name": "stdout",
          "text": [
            "Epoch 15/50\n",
            "Train - Loss: 0.2055, Accuracy: 0.9278, Precision: 0.9502, Recall: 0.8984, AUC: 0.9808\n",
            "Val - Loss: 0.2242, Accuracy: 0.9189, Precision: 0.9543, Recall: 0.8745, AUC: 0.9706\n"
          ]
        },
        {
          "output_type": "stream",
          "name": "stderr",
          "text": [
            "Epoch 16/50, Train: 100%|██████████| 31/31 [00:26<00:00,  1.19it/s]\n",
            "Epoch 16/50, Validation: 100%|██████████| 8/8 [00:05<00:00,  1.33it/s]\n",
            "Evaluate Train: 100%|██████████| 31/31 [00:24<00:00,  1.29it/s]\n",
            "Evaluate Validation: 100%|██████████| 8/8 [00:07<00:00,  1.01it/s]\n"
          ]
        },
        {
          "output_type": "stream",
          "name": "stdout",
          "text": [
            "Epoch 16/50\n",
            "Train - Loss: 0.1960, Accuracy: 0.7260, Precision: 0.6392, Recall: 1.0000, AUC: 0.9847\n",
            "Val - Loss: 0.5528, Accuracy: 0.7302, Precision: 0.6432, Recall: 0.9958, AUC: 0.9779\n"
          ]
        },
        {
          "output_type": "stream",
          "name": "stderr",
          "text": [
            "Epoch 17/50, Train: 100%|██████████| 31/31 [00:26<00:00,  1.17it/s]\n",
            "Epoch 17/50, Validation: 100%|██████████| 8/8 [00:05<00:00,  1.35it/s]\n",
            "Evaluate Train: 100%|██████████| 31/31 [00:24<00:00,  1.26it/s]\n",
            "Evaluate Validation: 100%|██████████| 8/8 [00:07<00:00,  1.13it/s]\n"
          ]
        },
        {
          "output_type": "stream",
          "name": "stdout",
          "text": [
            "Epoch 17/50\n",
            "Train - Loss: 0.1805, Accuracy: 0.8714, Precision: 0.7945, Recall: 0.9916, AUC: 0.9836\n",
            "Val - Loss: 0.3254, Accuracy: 0.8783, Precision: 0.8055, Recall: 0.9874, AUC: 0.9783\n"
          ]
        },
        {
          "output_type": "stream",
          "name": "stderr",
          "text": [
            "Epoch 18/50, Train: 100%|██████████| 31/31 [00:28<00:00,  1.09it/s]\n",
            "Epoch 18/50, Validation: 100%|██████████| 8/8 [00:05<00:00,  1.34it/s]\n",
            "Evaluate Train: 100%|██████████| 31/31 [00:23<00:00,  1.32it/s]\n",
            "Evaluate Validation: 100%|██████████| 8/8 [00:05<00:00,  1.34it/s]\n"
          ]
        },
        {
          "output_type": "stream",
          "name": "stdout",
          "text": [
            "Epoch 18/50\n",
            "Train - Loss: 0.1722, Accuracy: 0.9329, Precision: 0.9186, Recall: 0.9455, AUC: 0.9833\n",
            "Val - Loss: 0.1964, Accuracy: 0.9371, Precision: 0.9407, Recall: 0.9289, AUC: 0.9777\n"
          ]
        },
        {
          "output_type": "stream",
          "name": "stderr",
          "text": [
            "Epoch 19/50, Train: 100%|██████████| 31/31 [00:24<00:00,  1.26it/s]\n",
            "Epoch 19/50, Validation: 100%|██████████| 8/8 [00:05<00:00,  1.45it/s]\n",
            "Evaluate Train: 100%|██████████| 31/31 [00:23<00:00,  1.32it/s]\n",
            "Evaluate Validation: 100%|██████████| 8/8 [00:05<00:00,  1.35it/s]\n"
          ]
        },
        {
          "output_type": "stream",
          "name": "stdout",
          "text": [
            "Epoch 19/50\n",
            "Train - Loss: 0.1889, Accuracy: 0.9227, Precision: 0.8864, Recall: 0.9644, AUC: 0.9817\n",
            "Val - Loss: 0.2124, Accuracy: 0.9067, Precision: 0.8845, Recall: 0.9289, AUC: 0.9706\n"
          ]
        },
        {
          "output_type": "stream",
          "name": "stderr",
          "text": [
            "Epoch 20/50, Train: 100%|██████████| 31/31 [00:28<00:00,  1.09it/s]\n",
            "Epoch 20/50, Validation: 100%|██████████| 8/8 [00:06<00:00,  1.22it/s]\n",
            "Evaluate Train: 100%|██████████| 31/31 [00:29<00:00,  1.05it/s]\n",
            "Evaluate Validation: 100%|██████████| 8/8 [00:05<00:00,  1.39it/s]\n"
          ]
        },
        {
          "output_type": "stream",
          "name": "stdout",
          "text": [
            "Epoch 20/50\n",
            "Train - Loss: 0.1850, Accuracy: 0.9293, Precision: 0.9056, Recall: 0.9539, AUC: 0.9850\n",
            "Val - Loss: 0.2062, Accuracy: 0.9310, Precision: 0.9116, Recall: 0.9498, AUC: 0.9764\n"
          ]
        },
        {
          "output_type": "stream",
          "name": "stderr",
          "text": [
            "Epoch 21/50, Train: 100%|██████████| 31/31 [00:27<00:00,  1.12it/s]\n",
            "Epoch 21/50, Validation: 100%|██████████| 8/8 [00:06<00:00,  1.29it/s]\n",
            "Evaluate Train: 100%|██████████| 31/31 [00:28<00:00,  1.09it/s]\n",
            "Evaluate Validation: 100%|██████████| 8/8 [00:05<00:00,  1.35it/s]\n"
          ]
        },
        {
          "output_type": "stream",
          "name": "stdout",
          "text": [
            "Epoch 21/50\n",
            "Train - Loss: 0.1804, Accuracy: 0.8546, Precision: 0.9912, Recall: 0.7068, AUC: 0.9852\n",
            "Val - Loss: 0.5156, Accuracy: 0.8418, Precision: 0.9653, Recall: 0.6987, AUC: 0.9755\n"
          ]
        },
        {
          "output_type": "stream",
          "name": "stderr",
          "text": [
            "Epoch 22/50, Train: 100%|██████████| 31/31 [00:24<00:00,  1.24it/s]\n",
            "Epoch 22/50, Validation: 100%|██████████| 8/8 [00:05<00:00,  1.33it/s]\n",
            "Evaluate Train: 100%|██████████| 31/31 [00:23<00:00,  1.34it/s]\n",
            "Evaluate Validation: 100%|██████████| 8/8 [00:05<00:00,  1.35it/s]\n"
          ]
        },
        {
          "output_type": "stream",
          "name": "stdout",
          "text": [
            "Epoch 22/50\n",
            "Train - Loss: 0.1687, Accuracy: 0.8729, Precision: 0.9876, Recall: 0.7476, AUC: 0.9847\n",
            "Val - Loss: 0.4453, Accuracy: 0.8641, Precision: 0.9831, Recall: 0.7322, AUC: 0.9748\n"
          ]
        },
        {
          "output_type": "stream",
          "name": "stderr",
          "text": [
            "Epoch 23/50, Train: 100%|██████████| 31/31 [00:26<00:00,  1.17it/s]\n",
            "Epoch 23/50, Validation: 100%|██████████| 8/8 [00:05<00:00,  1.34it/s]\n",
            "Evaluate Train: 100%|██████████| 31/31 [00:25<00:00,  1.20it/s]\n",
            "Evaluate Validation: 100%|██████████| 8/8 [00:07<00:00,  1.12it/s]\n"
          ]
        },
        {
          "output_type": "stream",
          "name": "stdout",
          "text": [
            "Epoch 23/50\n",
            "Train - Loss: 0.1584, Accuracy: 0.9415, Precision: 0.9225, Recall: 0.9602, AUC: 0.9888\n",
            "Val - Loss: 0.1968, Accuracy: 0.9412, Precision: 0.9339, Recall: 0.9456, AUC: 0.9822\n"
          ]
        },
        {
          "output_type": "stream",
          "name": "stderr",
          "text": [
            "Epoch 24/50, Train: 100%|██████████| 31/31 [00:25<00:00,  1.21it/s]\n",
            "Epoch 24/50, Validation: 100%|██████████| 8/8 [00:05<00:00,  1.36it/s]\n",
            "Evaluate Train: 100%|██████████| 31/31 [00:24<00:00,  1.26it/s]\n",
            "Evaluate Validation: 100%|██████████| 8/8 [00:06<00:00,  1.22it/s]\n"
          ]
        },
        {
          "output_type": "stream",
          "name": "stdout",
          "text": [
            "Epoch 24/50\n",
            "Train - Loss: 0.1563, Accuracy: 0.9420, Precision: 0.9119, Recall: 0.9749, AUC: 0.9919\n",
            "Val - Loss: 0.1961, Accuracy: 0.9351, Precision: 0.9190, Recall: 0.9498, AUC: 0.9777\n"
          ]
        },
        {
          "output_type": "stream",
          "name": "stderr",
          "text": [
            "Epoch 25/50, Train: 100%|██████████| 31/31 [00:26<00:00,  1.17it/s]\n",
            "Epoch 25/50, Validation: 100%|██████████| 8/8 [00:05<00:00,  1.37it/s]\n",
            "Evaluate Train: 100%|██████████| 31/31 [00:25<00:00,  1.24it/s]\n",
            "Evaluate Validation: 100%|██████████| 8/8 [00:05<00:00,  1.35it/s]\n"
          ]
        },
        {
          "output_type": "stream",
          "name": "stdout",
          "text": [
            "Epoch 25/50\n",
            "Train - Loss: 0.1556, Accuracy: 0.9141, Precision: 0.9852, Recall: 0.8356, AUC: 0.9886\n",
            "Val - Loss: 0.2436, Accuracy: 0.9108, Precision: 0.9803, Recall: 0.8326, AUC: 0.9793\n"
          ]
        },
        {
          "output_type": "stream",
          "name": "stderr",
          "text": [
            "Epoch 26/50, Train: 100%|██████████| 31/31 [00:25<00:00,  1.22it/s]\n",
            "Epoch 26/50, Validation: 100%|██████████| 8/8 [00:06<00:00,  1.28it/s]\n",
            "Evaluate Train: 100%|██████████| 31/31 [00:27<00:00,  1.15it/s]\n",
            "Evaluate Validation: 100%|██████████| 8/8 [00:06<00:00,  1.17it/s]\n"
          ]
        },
        {
          "output_type": "stream",
          "name": "stdout",
          "text": [
            "Epoch 26/50\n",
            "Train - Loss: 0.1566, Accuracy: 0.9339, Precision: 0.8910, Recall: 0.9843, AUC: 0.9899\n",
            "Val - Loss: 0.2081, Accuracy: 0.9168, Precision: 0.8722, Recall: 0.9707, AUC: 0.9799\n"
          ]
        },
        {
          "output_type": "stream",
          "name": "stderr",
          "text": [
            "Epoch 27/50, Train: 100%|██████████| 31/31 [00:30<00:00,  1.03it/s]\n",
            "Epoch 27/50, Validation: 100%|██████████| 8/8 [00:05<00:00,  1.34it/s]\n",
            "Evaluate Train: 100%|██████████| 31/31 [00:22<00:00,  1.36it/s]\n",
            "Evaluate Validation: 100%|██████████| 8/8 [00:05<00:00,  1.35it/s]\n"
          ]
        },
        {
          "output_type": "stream",
          "name": "stdout",
          "text": [
            "Epoch 27/50\n",
            "Train - Loss: 0.1345, Accuracy: 0.9349, Precision: 0.9814, Recall: 0.8827, AUC: 0.9915\n",
            "Val - Loss: 0.2134, Accuracy: 0.9310, Precision: 0.9638, Recall: 0.8912, AUC: 0.9757\n"
          ]
        },
        {
          "output_type": "stream",
          "name": "stderr",
          "text": [
            "Epoch 28/50, Train: 100%|██████████| 31/31 [00:26<00:00,  1.18it/s]\n",
            "Epoch 28/50, Validation: 100%|██████████| 8/8 [00:05<00:00,  1.34it/s]\n",
            "Evaluate Train: 100%|██████████| 31/31 [00:23<00:00,  1.34it/s]\n",
            "Evaluate Validation: 100%|██████████| 8/8 [00:06<00:00,  1.24it/s]\n"
          ]
        },
        {
          "output_type": "stream",
          "name": "stdout",
          "text": [
            "Epoch 28/50\n",
            "Train - Loss: 0.1621, Accuracy: 0.9268, Precision: 0.8829, Recall: 0.9791, AUC: 0.9894\n",
            "Val - Loss: 0.2275, Accuracy: 0.9189, Precision: 0.8783, Recall: 0.9665, AUC: 0.9784\n"
          ]
        },
        {
          "output_type": "stream",
          "name": "stderr",
          "text": [
            "Epoch 29/50, Train: 100%|██████████| 31/31 [00:26<00:00,  1.18it/s]\n",
            "Epoch 29/50, Validation: 100%|██████████| 8/8 [00:07<00:00,  1.08it/s]\n",
            "Evaluate Train: 100%|██████████| 31/31 [00:23<00:00,  1.34it/s]\n",
            "Evaluate Validation: 100%|██████████| 8/8 [00:06<00:00,  1.16it/s]\n"
          ]
        },
        {
          "output_type": "stream",
          "name": "stdout",
          "text": [
            "Epoch 29/50\n",
            "Train - Loss: 0.1423, Accuracy: 0.9502, Precision: 0.9404, Recall: 0.9581, AUC: 0.9906\n",
            "Val - Loss: 0.1665, Accuracy: 0.9554, Precision: 0.9502, Recall: 0.9582, AUC: 0.9847\n"
          ]
        },
        {
          "output_type": "stream",
          "name": "stderr",
          "text": [
            "Epoch 30/50, Train: 100%|██████████| 31/31 [00:24<00:00,  1.26it/s]\n",
            "Epoch 30/50, Validation: 100%|██████████| 8/8 [00:05<00:00,  1.33it/s]\n",
            "Evaluate Train: 100%|██████████| 31/31 [00:22<00:00,  1.36it/s]\n",
            "Evaluate Validation: 100%|██████████| 8/8 [00:05<00:00,  1.36it/s]\n"
          ]
        },
        {
          "output_type": "stream",
          "name": "stdout",
          "text": [
            "Epoch 30/50\n",
            "Train - Loss: 0.1536, Accuracy: 0.9456, Precision: 0.9530, Recall: 0.9340, AUC: 0.9889\n",
            "Val - Loss: 0.1942, Accuracy: 0.9351, Precision: 0.9404, Recall: 0.9247, AUC: 0.9766\n"
          ]
        },
        {
          "output_type": "stream",
          "name": "stderr",
          "text": [
            "Epoch 31/50, Train: 100%|██████████| 31/31 [00:29<00:00,  1.06it/s]\n",
            "Epoch 31/50, Validation: 100%|██████████| 8/8 [00:05<00:00,  1.49it/s]\n",
            "Evaluate Train: 100%|██████████| 31/31 [00:27<00:00,  1.13it/s]\n",
            "Evaluate Validation: 100%|██████████| 8/8 [00:06<00:00,  1.32it/s]\n"
          ]
        },
        {
          "output_type": "stream",
          "name": "stdout",
          "text": [
            "Epoch 31/50\n",
            "Train - Loss: 0.1549, Accuracy: 0.9517, Precision: 0.9361, Recall: 0.9665, AUC: 0.9916\n",
            "Val - Loss: 0.1930, Accuracy: 0.9331, Precision: 0.9221, Recall: 0.9414, AUC: 0.9829\n"
          ]
        },
        {
          "output_type": "stream",
          "name": "stderr",
          "text": [
            "Epoch 32/50, Train: 100%|██████████| 31/31 [00:28<00:00,  1.09it/s]\n",
            "Epoch 32/50, Validation: 100%|██████████| 8/8 [00:07<00:00,  1.07it/s]\n",
            "Evaluate Train: 100%|██████████| 31/31 [00:29<00:00,  1.04it/s]\n",
            "Evaluate Validation: 100%|██████████| 8/8 [00:05<00:00,  1.43it/s]\n"
          ]
        },
        {
          "output_type": "stream",
          "name": "stdout",
          "text": [
            "Epoch 32/50\n",
            "Train - Loss: 0.1621, Accuracy: 0.9314, Precision: 0.8981, Recall: 0.9686, AUC: 0.9842\n",
            "Val - Loss: 0.2285, Accuracy: 0.9290, Precision: 0.9016, Recall: 0.9582, AUC: 0.9746\n"
          ]
        },
        {
          "output_type": "stream",
          "name": "stderr",
          "text": [
            "Epoch 33/50, Train: 100%|██████████| 31/31 [00:27<00:00,  1.11it/s]\n",
            "Epoch 33/50, Validation: 100%|██████████| 8/8 [00:05<00:00,  1.37it/s]\n",
            "Evaluate Train: 100%|██████████| 31/31 [00:23<00:00,  1.33it/s]\n",
            "Evaluate Validation: 100%|██████████| 8/8 [00:05<00:00,  1.35it/s]\n"
          ]
        },
        {
          "output_type": "stream",
          "name": "stdout",
          "text": [
            "Epoch 33/50\n",
            "Train - Loss: 0.1440, Accuracy: 0.9471, Precision: 0.9620, Recall: 0.9277, AUC: 0.9900\n",
            "Val - Loss: 0.2110, Accuracy: 0.9371, Precision: 0.9643, Recall: 0.9038, AUC: 0.9733\n"
          ]
        },
        {
          "output_type": "stream",
          "name": "stderr",
          "text": [
            "Epoch 34/50, Train: 100%|██████████| 31/31 [00:24<00:00,  1.26it/s]\n",
            "Epoch 34/50, Validation: 100%|██████████| 8/8 [00:05<00:00,  1.44it/s]\n",
            "Evaluate Train: 100%|██████████| 31/31 [00:23<00:00,  1.32it/s]\n",
            "Evaluate Validation: 100%|██████████| 8/8 [00:05<00:00,  1.34it/s]\n"
          ]
        },
        {
          "output_type": "stream",
          "name": "stdout",
          "text": [
            "Epoch 34/50\n",
            "Train - Loss: 0.1563, Accuracy: 0.9553, Precision: 0.9410, Recall: 0.9686, AUC: 0.9918\n",
            "Val - Loss: 0.1723, Accuracy: 0.9371, Precision: 0.9228, Recall: 0.9498, AUC: 0.9823\n"
          ]
        },
        {
          "output_type": "stream",
          "name": "stderr",
          "text": [
            "Epoch 35/50, Train: 100%|██████████| 31/31 [00:26<00:00,  1.18it/s]\n",
            "Epoch 35/50, Validation: 100%|██████████| 8/8 [00:07<00:00,  1.09it/s]\n",
            "Evaluate Train: 100%|██████████| 31/31 [00:29<00:00,  1.05it/s]\n",
            "Evaluate Validation: 100%|██████████| 8/8 [00:06<00:00,  1.28it/s]\n"
          ]
        },
        {
          "output_type": "stream",
          "name": "stdout",
          "text": [
            "Epoch 35/50\n",
            "Train - Loss: 0.1482, Accuracy: 0.9436, Precision: 0.9720, Recall: 0.9099, AUC: 0.9907\n",
            "Val - Loss: 0.2238, Accuracy: 0.9189, Precision: 0.9543, Recall: 0.8745, AUC: 0.9784\n"
          ]
        },
        {
          "output_type": "stream",
          "name": "stderr",
          "text": [
            "Epoch 36/50, Train: 100%|██████████| 31/31 [00:27<00:00,  1.13it/s]\n",
            "Epoch 36/50, Validation: 100%|██████████| 8/8 [00:05<00:00,  1.45it/s]\n",
            "Evaluate Train: 100%|██████████| 31/31 [00:23<00:00,  1.34it/s]\n",
            "Evaluate Validation: 100%|██████████| 8/8 [00:05<00:00,  1.35it/s]\n"
          ]
        },
        {
          "output_type": "stream",
          "name": "stdout",
          "text": [
            "Epoch 36/50\n",
            "Train - Loss: 0.1370, Accuracy: 0.9522, Precision: 0.9556, Recall: 0.9455, AUC: 0.9913\n",
            "Val - Loss: 0.1926, Accuracy: 0.9432, Precision: 0.9378, Recall: 0.9456, AUC: 0.9763\n"
          ]
        },
        {
          "output_type": "stream",
          "name": "stderr",
          "text": [
            "Epoch 37/50, Train: 100%|██████████| 31/31 [00:26<00:00,  1.19it/s]\n",
            "Epoch 37/50, Validation: 100%|██████████| 8/8 [00:05<00:00,  1.46it/s]\n",
            "Evaluate Train: 100%|██████████| 31/31 [00:27<00:00,  1.13it/s]\n",
            "Evaluate Validation: 100%|██████████| 8/8 [00:07<00:00,  1.02it/s]\n"
          ]
        },
        {
          "output_type": "stream",
          "name": "stdout",
          "text": [
            "Epoch 37/50\n",
            "Train - Loss: 0.1377, Accuracy: 0.8500, Precision: 0.9955, Recall: 0.6942, AUC: 0.9836\n",
            "Val - Loss: 0.7253, Accuracy: 0.8418, Precision: 0.9879, Recall: 0.6820, AUC: 0.9736\n"
          ]
        },
        {
          "output_type": "stream",
          "name": "stderr",
          "text": [
            "Epoch 38/50, Train: 100%|██████████| 31/31 [00:25<00:00,  1.24it/s]\n",
            "Epoch 38/50, Validation: 100%|██████████| 8/8 [00:06<00:00,  1.33it/s]\n",
            "Evaluate Train: 100%|██████████| 31/31 [00:24<00:00,  1.29it/s]\n",
            "Evaluate Validation: 100%|██████████| 8/8 [00:05<00:00,  1.40it/s]\n"
          ]
        },
        {
          "output_type": "stream",
          "name": "stdout",
          "text": [
            "Epoch 38/50\n",
            "Train - Loss: 0.1406, Accuracy: 0.9385, Precision: 0.8979, Recall: 0.9853, AUC: 0.9916\n",
            "Val - Loss: 0.2275, Accuracy: 0.9168, Precision: 0.8750, Recall: 0.9665, AUC: 0.9796\n"
          ]
        },
        {
          "output_type": "stream",
          "name": "stderr",
          "text": [
            "Epoch 39/50, Train: 100%|██████████| 31/31 [00:22<00:00,  1.36it/s]\n",
            "Epoch 39/50, Validation: 100%|██████████| 8/8 [00:06<00:00,  1.30it/s]\n",
            "Evaluate Train: 100%|██████████| 31/31 [00:26<00:00,  1.15it/s]\n",
            "Evaluate Validation: 100%|██████████| 8/8 [00:07<00:00,  1.09it/s]\n"
          ]
        },
        {
          "output_type": "stream",
          "name": "stdout",
          "text": [
            "Epoch 39/50\n",
            "Train - Loss: 0.1288, Accuracy: 0.9456, Precision: 0.9198, Recall: 0.9728, AUC: 0.9911\n",
            "Val - Loss: 0.2047, Accuracy: 0.9351, Precision: 0.9124, Recall: 0.9582, AUC: 0.9819\n"
          ]
        },
        {
          "output_type": "stream",
          "name": "stderr",
          "text": [
            "Epoch 40/50, Train: 100%|██████████| 31/31 [00:23<00:00,  1.30it/s]\n",
            "Epoch 40/50, Validation: 100%|██████████| 8/8 [00:06<00:00,  1.33it/s]\n",
            "Evaluate Train: 100%|██████████| 31/31 [00:22<00:00,  1.36it/s]\n",
            "Evaluate Validation: 100%|██████████| 8/8 [00:05<00:00,  1.35it/s]\n"
          ]
        },
        {
          "output_type": "stream",
          "name": "stdout",
          "text": [
            "Epoch 40/50\n",
            "Train - Loss: 0.1398, Accuracy: 0.9370, Precision: 0.9716, Recall: 0.8963, AUC: 0.9900\n",
            "Val - Loss: 0.2334, Accuracy: 0.9128, Precision: 0.9623, Recall: 0.8536, AUC: 0.9779\n"
          ]
        },
        {
          "output_type": "stream",
          "name": "stderr",
          "text": [
            "Epoch 41/50, Train: 100%|██████████| 31/31 [00:26<00:00,  1.16it/s]\n",
            "Epoch 41/50, Validation: 100%|██████████| 8/8 [00:05<00:00,  1.36it/s]\n",
            "Evaluate Train: 100%|██████████| 31/31 [00:23<00:00,  1.32it/s]\n",
            "Evaluate Validation: 100%|██████████| 8/8 [00:06<00:00,  1.21it/s]\n"
          ]
        },
        {
          "output_type": "stream",
          "name": "stdout",
          "text": [
            "Epoch 41/50\n",
            "Train - Loss: 0.1248, Accuracy: 0.9578, Precision: 0.9749, Recall: 0.9372, AUC: 0.9925\n",
            "Val - Loss: 0.1819, Accuracy: 0.9351, Precision: 0.9481, Recall: 0.9163, AUC: 0.9813\n"
          ]
        },
        {
          "output_type": "stream",
          "name": "stderr",
          "text": [
            "Epoch 42/50, Train: 100%|██████████| 31/31 [00:26<00:00,  1.17it/s]\n",
            "Epoch 42/50, Validation: 100%|██████████| 8/8 [00:05<00:00,  1.41it/s]\n",
            "Evaluate Train: 100%|██████████| 31/31 [00:23<00:00,  1.33it/s]\n",
            "Evaluate Validation: 100%|██████████| 8/8 [00:05<00:00,  1.53it/s]\n"
          ]
        },
        {
          "output_type": "stream",
          "name": "stdout",
          "text": [
            "Epoch 42/50\n",
            "Train - Loss: 0.1243, Accuracy: 0.9436, Precision: 0.9081, Recall: 0.9832, AUC: 0.9939\n",
            "Val - Loss: 0.1956, Accuracy: 0.9290, Precision: 0.8893, Recall: 0.9749, AUC: 0.9840\n"
          ]
        },
        {
          "output_type": "stream",
          "name": "stderr",
          "text": [
            "Epoch 43/50, Train: 100%|██████████| 31/31 [00:25<00:00,  1.22it/s]\n",
            "Epoch 43/50, Validation: 100%|██████████| 8/8 [00:05<00:00,  1.44it/s]\n",
            "Evaluate Train: 100%|██████████| 31/31 [00:23<00:00,  1.30it/s]\n",
            "Evaluate Validation: 100%|██████████| 8/8 [00:05<00:00,  1.35it/s]\n"
          ]
        },
        {
          "output_type": "stream",
          "name": "stdout",
          "text": [
            "Epoch 43/50\n",
            "Train - Loss: 0.1286, Accuracy: 0.8790, Precision: 0.8015, Recall: 0.9979, AUC: 0.9943\n",
            "Val - Loss: 0.3711, Accuracy: 0.8621, Precision: 0.7822, Recall: 0.9916, AUC: 0.9805\n"
          ]
        },
        {
          "output_type": "stream",
          "name": "stderr",
          "text": [
            "Epoch 44/50, Train: 100%|██████████| 31/31 [00:27<00:00,  1.12it/s]\n",
            "Epoch 44/50, Validation: 100%|██████████| 8/8 [00:05<00:00,  1.38it/s]\n",
            "Evaluate Train: 100%|██████████| 31/31 [00:23<00:00,  1.31it/s]\n",
            "Evaluate Validation: 100%|██████████| 8/8 [00:06<00:00,  1.25it/s]\n"
          ]
        },
        {
          "output_type": "stream",
          "name": "stdout",
          "text": [
            "Epoch 44/50\n",
            "Train - Loss: 0.1218, Accuracy: 0.9456, Precision: 0.9874, Recall: 0.8995, AUC: 0.9948\n",
            "Val - Loss: 0.2011, Accuracy: 0.9331, Precision: 0.9640, Recall: 0.8954, AUC: 0.9784\n"
          ]
        },
        {
          "output_type": "stream",
          "name": "stderr",
          "text": [
            "Epoch 45/50, Train: 100%|██████████| 31/31 [00:26<00:00,  1.17it/s]\n",
            "Epoch 45/50, Validation: 100%|██████████| 8/8 [00:05<00:00,  1.47it/s]\n",
            "Evaluate Train: 100%|██████████| 31/31 [00:22<00:00,  1.37it/s]\n",
            "Evaluate Validation: 100%|██████████| 8/8 [00:06<00:00,  1.28it/s]\n"
          ]
        },
        {
          "output_type": "stream",
          "name": "stdout",
          "text": [
            "Epoch 45/50\n",
            "Train - Loss: 0.1213, Accuracy: 0.9634, Precision: 0.9633, Recall: 0.9613, AUC: 0.9945\n",
            "Val - Loss: 0.1681, Accuracy: 0.9513, Precision: 0.9461, Recall: 0.9540, AUC: 0.9830\n"
          ]
        },
        {
          "output_type": "stream",
          "name": "stderr",
          "text": [
            "Epoch 46/50, Train: 100%|██████████| 31/31 [00:27<00:00,  1.13it/s]\n",
            "Epoch 46/50, Validation: 100%|██████████| 8/8 [00:05<00:00,  1.34it/s]\n",
            "Evaluate Train: 100%|██████████| 31/31 [00:26<00:00,  1.16it/s]\n",
            "Evaluate Validation: 100%|██████████| 8/8 [00:07<00:00,  1.02it/s]\n"
          ]
        },
        {
          "output_type": "stream",
          "name": "stdout",
          "text": [
            "Epoch 46/50\n",
            "Train - Loss: 0.1107, Accuracy: 0.9542, Precision: 0.9696, Recall: 0.9351, AUC: 0.9927\n",
            "Val - Loss: 0.2075, Accuracy: 0.9452, Precision: 0.9649, Recall: 0.9205, AUC: 0.9844\n"
          ]
        },
        {
          "output_type": "stream",
          "name": "stderr",
          "text": [
            "Epoch 47/50, Train: 100%|██████████| 31/31 [00:28<00:00,  1.09it/s]\n",
            "Epoch 47/50, Validation: 100%|██████████| 8/8 [00:05<00:00,  1.34it/s]\n",
            "Evaluate Train: 100%|██████████| 31/31 [00:24<00:00,  1.24it/s]\n",
            "Evaluate Validation: 100%|██████████| 8/8 [00:07<00:00,  1.14it/s]\n"
          ]
        },
        {
          "output_type": "stream",
          "name": "stdout",
          "text": [
            "Epoch 47/50\n",
            "Train - Loss: 0.1172, Accuracy: 0.9614, Precision: 0.9681, Recall: 0.9518, AUC: 0.9939\n",
            "Val - Loss: 0.1627, Accuracy: 0.9432, Precision: 0.9451, Recall: 0.9372, AUC: 0.9798\n"
          ]
        },
        {
          "output_type": "stream",
          "name": "stderr",
          "text": [
            "Epoch 48/50, Train: 100%|██████████| 31/31 [00:26<00:00,  1.18it/s]\n",
            "Epoch 48/50, Validation: 100%|██████████| 8/8 [00:05<00:00,  1.39it/s]\n",
            "Evaluate Train: 100%|██████████| 31/31 [00:28<00:00,  1.08it/s]\n",
            "Evaluate Validation: 100%|██████████| 8/8 [00:05<00:00,  1.34it/s]\n"
          ]
        },
        {
          "output_type": "stream",
          "name": "stdout",
          "text": [
            "Epoch 48/50\n",
            "Train - Loss: 0.1038, Accuracy: 0.9593, Precision: 0.9406, Recall: 0.9780, AUC: 0.9946\n",
            "Val - Loss: 0.1958, Accuracy: 0.9371, Precision: 0.9160, Recall: 0.9582, AUC: 0.9818\n"
          ]
        },
        {
          "output_type": "stream",
          "name": "stderr",
          "text": [
            "Epoch 49/50, Train: 100%|██████████| 31/31 [00:24<00:00,  1.24it/s]\n",
            "Epoch 49/50, Validation: 100%|██████████| 8/8 [00:07<00:00,  1.13it/s]\n",
            "Evaluate Train: 100%|██████████| 31/31 [00:25<00:00,  1.22it/s]\n",
            "Evaluate Validation: 100%|██████████| 8/8 [00:06<00:00,  1.16it/s]\n"
          ]
        },
        {
          "output_type": "stream",
          "name": "stdout",
          "text": [
            "Epoch 49/50\n",
            "Train - Loss: 0.1087, Accuracy: 0.9634, Precision: 0.9594, Recall: 0.9654, AUC: 0.9953\n",
            "Val - Loss: 0.1502, Accuracy: 0.9554, Precision: 0.9465, Recall: 0.9623, AUC: 0.9828\n"
          ]
        },
        {
          "output_type": "stream",
          "name": "stderr",
          "text": [
            "Epoch 50/50, Train: 100%|██████████| 31/31 [00:25<00:00,  1.19it/s]\n",
            "Epoch 50/50, Validation: 100%|██████████| 8/8 [00:05<00:00,  1.34it/s]\n",
            "Evaluate Train: 100%|██████████| 31/31 [00:23<00:00,  1.34it/s]\n",
            "Evaluate Validation: 100%|██████████| 8/8 [00:06<00:00,  1.26it/s]\n"
          ]
        },
        {
          "output_type": "stream",
          "name": "stdout",
          "text": [
            "Epoch 50/50\n",
            "Train - Loss: 0.1089, Accuracy: 0.9385, Precision: 0.8956, Recall: 0.9885, AUC: 0.9934\n",
            "Val - Loss: 0.2601, Accuracy: 0.9331, Precision: 0.8872, Recall: 0.9874, AUC: 0.9790\n"
          ]
        },
        {
          "output_type": "stream",
          "name": "stderr",
          "text": [
            "Evaluate Test: 100%|██████████| 10/10 [00:01<00:00,  6.46it/s]\n"
          ]
        },
        {
          "output_type": "stream",
          "name": "stdout",
          "text": [
            "\n",
            "Accuracy: 0.9513, Precision: 0.9590, Recall: 0.9398, AUC: 0.9861\n",
            "Results saved to results/finetune/ucsd/resnet50/classification_results.txt\n"
          ]
        },
        {
          "output_type": "stream",
          "name": "stderr",
          "text": [
            "WARNING:matplotlib.image:Clipping input data to the valid range for imshow with RGB data ([0..1] for floats or [0..255] for integers).\n",
            "WARNING:matplotlib.image:Clipping input data to the valid range for imshow with RGB data ([0..1] for floats or [0..255] for integers).\n",
            "WARNING:matplotlib.image:Clipping input data to the valid range for imshow with RGB data ([0..1] for floats or [0..255] for integers).\n",
            "WARNING:matplotlib.image:Clipping input data to the valid range for imshow with RGB data ([0..1] for floats or [0..255] for integers).\n",
            "WARNING:matplotlib.image:Clipping input data to the valid range for imshow with RGB data ([0..1] for floats or [0..255] for integers).\n",
            "WARNING:matplotlib.image:Clipping input data to the valid range for imshow with RGB data ([0..1] for floats or [0..255] for integers).\n"
          ]
        },
        {
          "output_type": "stream",
          "name": "stdout",
          "text": [
            "Results saved to results/visualization/zero_shot/ori/resnet50/images/cxr_images.png\n"
          ]
        },
        {
          "output_type": "stream",
          "name": "stderr",
          "text": [
            "Evaluate Train: 100%|██████████| 9/9 [00:00<00:00, 11.52it/s]\n",
            "Evaluate Validation: 100%|██████████| 3/3 [00:00<00:00, 14.14it/s]\n",
            "Evaluate Test: 100%|██████████| 3/3 [00:00<00:00,  7.08it/s]\n"
          ]
        },
        {
          "output_type": "stream",
          "name": "stdout",
          "text": [
            "Results saved to results/zero_shot/ori/resnet50/classification_results.txt\n"
          ]
        },
        {
          "output_type": "stream",
          "name": "stderr",
          "text": [
            "WARNING:matplotlib.image:Clipping input data to the valid range for imshow with RGB data ([0..1] for floats or [0..255] for integers).\n",
            "WARNING:matplotlib.image:Clipping input data to the valid range for imshow with RGB data ([0..1] for floats or [0..255] for integers).\n",
            "WARNING:matplotlib.image:Clipping input data to the valid range for imshow with RGB data ([0..1] for floats or [0..255] for integers).\n",
            "WARNING:matplotlib.image:Clipping input data to the valid range for imshow with RGB data ([0..1] for floats or [0..255] for integers).\n",
            "WARNING:matplotlib.image:Clipping input data to the valid range for imshow with RGB data ([0..1] for floats or [0..255] for integers).\n",
            "WARNING:matplotlib.image:Clipping input data to the valid range for imshow with RGB data ([0..1] for floats or [0..255] for integers).\n"
          ]
        },
        {
          "output_type": "stream",
          "name": "stdout",
          "text": [
            "Results saved to results/visualization/finetune/ori/resnet50/images/cxr_images.png\n"
          ]
        },
        {
          "output_type": "stream",
          "name": "stderr",
          "text": [
            "/usr/local/lib/python3.10/dist-packages/torchvision/models/inception.py:43: FutureWarning: The default weight initialization of inception_v3 will be changed in future releases of torchvision. If you wish to keep the old behavior (which leads to long initialization times due to scipy/scipy#11299), please set init_weights=True.\n",
            "  warnings.warn(\n"
          ]
        },
        {
          "output_type": "stream",
          "name": "stdout",
          "text": [
            "NVIDIA library configured successfully.\n"
          ]
        },
        {
          "output_type": "stream",
          "name": "stderr",
          "text": [
            "Epoch 1/50, Train: 100%|██████████| 9/9 [00:55<00:00,  6.21s/it]\n",
            "Epoch 1/50, Validation: 100%|██████████| 3/3 [00:33<00:00, 11.20s/it]\n",
            "Evaluate Train: 100%|██████████| 9/9 [00:19<00:00,  2.18s/it]\n",
            "/usr/local/lib/python3.10/dist-packages/sklearn/metrics/_classification.py:1344: UndefinedMetricWarning: Precision and F-score are ill-defined and being set to 0.0 in labels with no predicted samples. Use `zero_division` parameter to control this behavior.\n",
            "  _warn_prf(average, modifier, msg_start, len(result))\n",
            "/usr/local/lib/python3.10/dist-packages/sklearn/metrics/_classification.py:1344: UndefinedMetricWarning: Precision and F-score are ill-defined and being set to 0.0 in labels with no predicted samples. Use `zero_division` parameter to control this behavior.\n",
            "  _warn_prf(average, modifier, msg_start, len(result))\n",
            "/usr/local/lib/python3.10/dist-packages/sklearn/metrics/_classification.py:1344: UndefinedMetricWarning: Precision and F-score are ill-defined and being set to 0.0 in labels with no predicted samples. Use `zero_division` parameter to control this behavior.\n",
            "  _warn_prf(average, modifier, msg_start, len(result))\n",
            "Evaluate Validation: 100%|██████████| 3/3 [00:01<00:00,  1.62it/s]\n",
            "/usr/local/lib/python3.10/dist-packages/sklearn/metrics/_classification.py:1344: UndefinedMetricWarning: Precision and F-score are ill-defined and being set to 0.0 in labels with no predicted samples. Use `zero_division` parameter to control this behavior.\n",
            "  _warn_prf(average, modifier, msg_start, len(result))\n",
            "/usr/local/lib/python3.10/dist-packages/sklearn/metrics/_classification.py:1344: UndefinedMetricWarning: Precision and F-score are ill-defined and being set to 0.0 in labels with no predicted samples. Use `zero_division` parameter to control this behavior.\n",
            "  _warn_prf(average, modifier, msg_start, len(result))\n",
            "/usr/local/lib/python3.10/dist-packages/sklearn/metrics/_classification.py:1344: UndefinedMetricWarning: Precision and F-score are ill-defined and being set to 0.0 in labels with no predicted samples. Use `zero_division` parameter to control this behavior.\n",
            "  _warn_prf(average, modifier, msg_start, len(result))\n"
          ]
        },
        {
          "output_type": "stream",
          "name": "stdout",
          "text": [
            "Epoch 1/50\n",
            "Train - Loss: 0.6630, Accuracy: 0.4905, Precision: 0.4905, Recall: 1.0000, AUC: 0.4591\n",
            "Val - Loss: 0.8890, Accuracy: 0.4924, Precision: 0.4924, Recall: 1.0000, AUC: 0.4145\n"
          ]
        },
        {
          "output_type": "stream",
          "name": "stderr",
          "text": [
            "Epoch 2/50, Train: 100%|██████████| 9/9 [00:06<00:00,  1.45it/s]\n",
            "Epoch 2/50, Validation: 100%|██████████| 3/3 [00:01<00:00,  1.69it/s]\n",
            "Evaluate Train: 100%|██████████| 9/9 [00:06<00:00,  1.34it/s]\n",
            "/usr/local/lib/python3.10/dist-packages/sklearn/metrics/_classification.py:1344: UndefinedMetricWarning: Precision and F-score are ill-defined and being set to 0.0 in labels with no predicted samples. Use `zero_division` parameter to control this behavior.\n",
            "  _warn_prf(average, modifier, msg_start, len(result))\n",
            "/usr/local/lib/python3.10/dist-packages/sklearn/metrics/_classification.py:1344: UndefinedMetricWarning: Precision and F-score are ill-defined and being set to 0.0 in labels with no predicted samples. Use `zero_division` parameter to control this behavior.\n",
            "  _warn_prf(average, modifier, msg_start, len(result))\n",
            "/usr/local/lib/python3.10/dist-packages/sklearn/metrics/_classification.py:1344: UndefinedMetricWarning: Precision and F-score are ill-defined and being set to 0.0 in labels with no predicted samples. Use `zero_division` parameter to control this behavior.\n",
            "  _warn_prf(average, modifier, msg_start, len(result))\n",
            "Evaluate Validation: 100%|██████████| 3/3 [00:01<00:00,  2.23it/s]\n",
            "/usr/local/lib/python3.10/dist-packages/sklearn/metrics/_classification.py:1344: UndefinedMetricWarning: Precision and F-score are ill-defined and being set to 0.0 in labels with no predicted samples. Use `zero_division` parameter to control this behavior.\n",
            "  _warn_prf(average, modifier, msg_start, len(result))\n",
            "/usr/local/lib/python3.10/dist-packages/sklearn/metrics/_classification.py:1344: UndefinedMetricWarning: Precision and F-score are ill-defined and being set to 0.0 in labels with no predicted samples. Use `zero_division` parameter to control this behavior.\n",
            "  _warn_prf(average, modifier, msg_start, len(result))\n",
            "/usr/local/lib/python3.10/dist-packages/sklearn/metrics/_classification.py:1344: UndefinedMetricWarning: Precision and F-score are ill-defined and being set to 0.0 in labels with no predicted samples. Use `zero_division` parameter to control this behavior.\n",
            "  _warn_prf(average, modifier, msg_start, len(result))\n"
          ]
        },
        {
          "output_type": "stream",
          "name": "stdout",
          "text": [
            "Epoch 2/50\n",
            "Train - Loss: 0.5808, Accuracy: 0.4905, Precision: 0.4905, Recall: 1.0000, AUC: 0.5919\n",
            "Val - Loss: 2.6698, Accuracy: 0.4924, Precision: 0.4924, Recall: 1.0000, AUC: 0.5392\n"
          ]
        },
        {
          "output_type": "stream",
          "name": "stderr",
          "text": [
            "Epoch 3/50, Train: 100%|██████████| 9/9 [00:07<00:00,  1.25it/s]\n",
            "Epoch 3/50, Validation: 100%|██████████| 3/3 [00:01<00:00,  1.78it/s]\n",
            "Evaluate Train: 100%|██████████| 9/9 [00:06<00:00,  1.41it/s]\n",
            "/usr/local/lib/python3.10/dist-packages/sklearn/metrics/_classification.py:1344: UndefinedMetricWarning: Precision and F-score are ill-defined and being set to 0.0 in labels with no predicted samples. Use `zero_division` parameter to control this behavior.\n",
            "  _warn_prf(average, modifier, msg_start, len(result))\n",
            "/usr/local/lib/python3.10/dist-packages/sklearn/metrics/_classification.py:1344: UndefinedMetricWarning: Precision and F-score are ill-defined and being set to 0.0 in labels with no predicted samples. Use `zero_division` parameter to control this behavior.\n",
            "  _warn_prf(average, modifier, msg_start, len(result))\n",
            "/usr/local/lib/python3.10/dist-packages/sklearn/metrics/_classification.py:1344: UndefinedMetricWarning: Precision and F-score are ill-defined and being set to 0.0 in labels with no predicted samples. Use `zero_division` parameter to control this behavior.\n",
            "  _warn_prf(average, modifier, msg_start, len(result))\n",
            "Evaluate Validation: 100%|██████████| 3/3 [00:01<00:00,  2.23it/s]\n",
            "/usr/local/lib/python3.10/dist-packages/sklearn/metrics/_classification.py:1344: UndefinedMetricWarning: Precision and F-score are ill-defined and being set to 0.0 in labels with no predicted samples. Use `zero_division` parameter to control this behavior.\n",
            "  _warn_prf(average, modifier, msg_start, len(result))\n",
            "/usr/local/lib/python3.10/dist-packages/sklearn/metrics/_classification.py:1344: UndefinedMetricWarning: Precision and F-score are ill-defined and being set to 0.0 in labels with no predicted samples. Use `zero_division` parameter to control this behavior.\n",
            "  _warn_prf(average, modifier, msg_start, len(result))\n",
            "/usr/local/lib/python3.10/dist-packages/sklearn/metrics/_classification.py:1344: UndefinedMetricWarning: Precision and F-score are ill-defined and being set to 0.0 in labels with no predicted samples. Use `zero_division` parameter to control this behavior.\n",
            "  _warn_prf(average, modifier, msg_start, len(result))\n"
          ]
        },
        {
          "output_type": "stream",
          "name": "stdout",
          "text": [
            "Epoch 3/50\n",
            "Train - Loss: 0.5208, Accuracy: 0.4905, Precision: 0.4905, Recall: 1.0000, AUC: 0.7108\n",
            "Val - Loss: 3.3099, Accuracy: 0.4924, Precision: 0.4924, Recall: 1.0000, AUC: 0.7015\n"
          ]
        },
        {
          "output_type": "stream",
          "name": "stderr",
          "text": [
            "Epoch 4/50, Train: 100%|██████████| 9/9 [00:07<00:00,  1.14it/s]\n",
            "Epoch 4/50, Validation: 100%|██████████| 3/3 [00:02<00:00,  1.41it/s]\n",
            "Evaluate Train: 100%|██████████| 9/9 [00:07<00:00,  1.17it/s]\n",
            "Evaluate Validation: 100%|██████████| 3/3 [00:01<00:00,  1.60it/s]\n"
          ]
        },
        {
          "output_type": "stream",
          "name": "stdout",
          "text": [
            "Epoch 4/50\n",
            "Train - Loss: 0.5322, Accuracy: 0.5285, Precision: 0.5101, Recall: 0.9767, AUC: 0.7811\n",
            "Val - Loss: 1.2491, Accuracy: 0.5227, Precision: 0.5083, Recall: 0.9385, AUC: 0.7839\n"
          ]
        },
        {
          "output_type": "stream",
          "name": "stderr",
          "text": [
            "Epoch 5/50, Train: 100%|██████████| 9/9 [00:07<00:00,  1.22it/s]\n",
            "Epoch 5/50, Validation: 100%|██████████| 3/3 [00:01<00:00,  1.84it/s]\n",
            "Evaluate Train: 100%|██████████| 9/9 [00:08<00:00,  1.03it/s]\n",
            "Evaluate Validation: 100%|██████████| 3/3 [00:01<00:00,  1.83it/s]\n"
          ]
        },
        {
          "output_type": "stream",
          "name": "stdout",
          "text": [
            "Epoch 5/50\n",
            "Train - Loss: 0.5023, Accuracy: 0.6312, Precision: 0.5812, Recall: 0.8876, AUC: 0.8152\n",
            "Val - Loss: 0.9796, Accuracy: 0.6364, Precision: 0.5842, Recall: 0.9077, AUC: 0.8395\n"
          ]
        },
        {
          "output_type": "stream",
          "name": "stderr",
          "text": [
            "Epoch 6/50, Train: 100%|██████████| 9/9 [00:06<00:00,  1.31it/s]\n",
            "Epoch 6/50, Validation: 100%|██████████| 3/3 [00:01<00:00,  1.63it/s]\n",
            "Evaluate Train: 100%|██████████| 9/9 [00:05<00:00,  1.50it/s]\n",
            "Evaluate Validation: 100%|██████████| 3/3 [00:01<00:00,  1.89it/s]\n"
          ]
        },
        {
          "output_type": "stream",
          "name": "stdout",
          "text": [
            "Epoch 6/50\n",
            "Train - Loss: 0.4956, Accuracy: 0.7224, Precision: 0.6783, Recall: 0.8256, AUC: 0.8260\n",
            "Val - Loss: 0.8823, Accuracy: 0.7348, Precision: 0.6829, Recall: 0.8615, AUC: 0.8611\n"
          ]
        },
        {
          "output_type": "stream",
          "name": "stderr",
          "text": [
            "Epoch 7/50, Train: 100%|██████████| 9/9 [00:07<00:00,  1.22it/s]\n",
            "Epoch 7/50, Validation: 100%|██████████| 3/3 [00:01<00:00,  2.01it/s]\n",
            "Evaluate Train: 100%|██████████| 9/9 [00:06<00:00,  1.40it/s]\n",
            "Evaluate Validation: 100%|██████████| 3/3 [00:01<00:00,  2.06it/s]\n"
          ]
        },
        {
          "output_type": "stream",
          "name": "stdout",
          "text": [
            "Epoch 7/50\n",
            "Train - Loss: 0.4897, Accuracy: 0.6863, Precision: 0.6388, Recall: 0.8295, AUC: 0.8135\n",
            "Val - Loss: 0.5596, Accuracy: 0.7500, Precision: 0.6905, Recall: 0.8923, AUC: 0.8404\n"
          ]
        },
        {
          "output_type": "stream",
          "name": "stderr",
          "text": [
            "Epoch 8/50, Train: 100%|██████████| 9/9 [00:06<00:00,  1.38it/s]\n",
            "Epoch 8/50, Validation: 100%|██████████| 3/3 [00:01<00:00,  2.02it/s]\n",
            "Evaluate Train: 100%|██████████| 9/9 [00:06<00:00,  1.42it/s]\n",
            "Evaluate Validation: 100%|██████████| 3/3 [00:01<00:00,  2.26it/s]\n"
          ]
        },
        {
          "output_type": "stream",
          "name": "stdout",
          "text": [
            "Epoch 8/50\n",
            "Train - Loss: 0.4545, Accuracy: 0.7643, Precision: 0.9036, Recall: 0.5814, AUC: 0.8176\n",
            "Val - Loss: 0.5789, Accuracy: 0.7955, Precision: 0.9130, Recall: 0.6462, AUC: 0.8101\n"
          ]
        },
        {
          "output_type": "stream",
          "name": "stderr",
          "text": [
            "Epoch 9/50, Train: 100%|██████████| 9/9 [00:06<00:00,  1.41it/s]\n",
            "Epoch 9/50, Validation: 100%|██████████| 3/3 [00:01<00:00,  2.27it/s]\n",
            "Evaluate Train: 100%|██████████| 9/9 [00:07<00:00,  1.28it/s]\n",
            "Evaluate Validation: 100%|██████████| 3/3 [00:02<00:00,  1.35it/s]\n"
          ]
        },
        {
          "output_type": "stream",
          "name": "stdout",
          "text": [
            "Epoch 9/50\n",
            "Train - Loss: 0.4903, Accuracy: 0.7662, Precision: 0.9355, Recall: 0.5620, AUC: 0.8115\n",
            "Val - Loss: 0.5244, Accuracy: 0.7576, Precision: 0.9459, Recall: 0.5385, AUC: 0.8142\n"
          ]
        },
        {
          "output_type": "stream",
          "name": "stderr",
          "text": [
            "Epoch 10/50, Train: 100%|██████████| 9/9 [00:06<00:00,  1.46it/s]\n",
            "Epoch 10/50, Validation: 100%|██████████| 3/3 [00:01<00:00,  1.72it/s]\n",
            "Evaluate Train: 100%|██████████| 9/9 [00:05<00:00,  1.58it/s]\n",
            "Evaluate Validation: 100%|██████████| 3/3 [00:01<00:00,  2.23it/s]\n"
          ]
        },
        {
          "output_type": "stream",
          "name": "stdout",
          "text": [
            "Epoch 10/50\n",
            "Train - Loss: 0.4819, Accuracy: 0.7471, Precision: 0.7395, Recall: 0.7481, AUC: 0.8450\n",
            "Val - Loss: 0.3570, Accuracy: 0.7348, Precision: 0.7206, Recall: 0.7538, AUC: 0.8296\n"
          ]
        },
        {
          "output_type": "stream",
          "name": "stderr",
          "text": [
            "Epoch 11/50, Train: 100%|██████████| 9/9 [00:06<00:00,  1.44it/s]\n",
            "Epoch 11/50, Validation: 100%|██████████| 3/3 [00:01<00:00,  2.26it/s]\n",
            "Evaluate Train: 100%|██████████| 9/9 [00:08<00:00,  1.08it/s]\n",
            "Evaluate Validation: 100%|██████████| 3/3 [00:02<00:00,  1.43it/s]\n"
          ]
        },
        {
          "output_type": "stream",
          "name": "stdout",
          "text": [
            "Epoch 11/50\n",
            "Train - Loss: 0.4784, Accuracy: 0.7681, Precision: 0.9198, Recall: 0.5775, AUC: 0.8426\n",
            "Val - Loss: 0.5480, Accuracy: 0.7500, Precision: 0.9000, Recall: 0.5538, AUC: 0.8457\n"
          ]
        },
        {
          "output_type": "stream",
          "name": "stderr",
          "text": [
            "Epoch 12/50, Train: 100%|██████████| 9/9 [00:07<00:00,  1.29it/s]\n",
            "Epoch 12/50, Validation: 100%|██████████| 3/3 [00:01<00:00,  2.20it/s]\n",
            "Evaluate Train: 100%|██████████| 9/9 [00:06<00:00,  1.42it/s]\n",
            "Evaluate Validation: 100%|██████████| 3/3 [00:01<00:00,  2.28it/s]\n"
          ]
        },
        {
          "output_type": "stream",
          "name": "stdout",
          "text": [
            "Epoch 12/50\n",
            "Train - Loss: 0.4826, Accuracy: 0.7605, Precision: 0.9342, Recall: 0.5504, AUC: 0.8267\n",
            "Val - Loss: 0.4434, Accuracy: 0.7727, Precision: 0.8889, Recall: 0.6154, AUC: 0.8326\n"
          ]
        },
        {
          "output_type": "stream",
          "name": "stderr",
          "text": [
            "Epoch 13/50, Train: 100%|██████████| 9/9 [00:07<00:00,  1.25it/s]\n",
            "Epoch 13/50, Validation: 100%|██████████| 3/3 [00:01<00:00,  1.69it/s]\n",
            "Evaluate Train: 100%|██████████| 9/9 [00:06<00:00,  1.43it/s]\n",
            "Evaluate Validation: 100%|██████████| 3/3 [00:01<00:00,  2.34it/s]\n"
          ]
        },
        {
          "output_type": "stream",
          "name": "stdout",
          "text": [
            "Epoch 13/50\n",
            "Train - Loss: 0.4961, Accuracy: 0.7586, Precision: 0.9018, Recall: 0.5698, AUC: 0.8151\n",
            "Val - Loss: 0.6002, Accuracy: 0.7727, Precision: 0.9268, Recall: 0.5846, AUC: 0.8055\n"
          ]
        },
        {
          "output_type": "stream",
          "name": "stderr",
          "text": [
            "Epoch 14/50, Train: 100%|██████████| 9/9 [00:07<00:00,  1.24it/s]\n",
            "Epoch 14/50, Validation: 100%|██████████| 3/3 [00:01<00:00,  2.30it/s]\n",
            "Evaluate Train: 100%|██████████| 9/9 [00:08<00:00,  1.08it/s]\n",
            "Evaluate Validation: 100%|██████████| 3/3 [00:01<00:00,  1.89it/s]\n"
          ]
        },
        {
          "output_type": "stream",
          "name": "stdout",
          "text": [
            "Epoch 14/50\n",
            "Train - Loss: 0.4861, Accuracy: 0.7719, Precision: 0.9207, Recall: 0.5853, AUC: 0.8390\n",
            "Val - Loss: 0.6218, Accuracy: 0.7652, Precision: 0.9048, Recall: 0.5846, AUC: 0.7867\n"
          ]
        },
        {
          "output_type": "stream",
          "name": "stderr",
          "text": [
            "Epoch 15/50, Train: 100%|██████████| 9/9 [00:08<00:00,  1.08it/s]\n",
            "Epoch 15/50, Validation: 100%|██████████| 3/3 [00:01<00:00,  2.25it/s]\n",
            "Evaluate Train: 100%|██████████| 9/9 [00:06<00:00,  1.40it/s]\n",
            "Evaluate Validation: 100%|██████████| 3/3 [00:01<00:00,  1.60it/s]\n"
          ]
        },
        {
          "output_type": "stream",
          "name": "stdout",
          "text": [
            "Epoch 15/50\n",
            "Train - Loss: 0.4521, Accuracy: 0.7243, Precision: 0.6942, Recall: 0.7829, AUC: 0.8219\n",
            "Val - Loss: 0.7193, Accuracy: 0.7576, Precision: 0.7200, Recall: 0.8308, AUC: 0.8312\n"
          ]
        },
        {
          "output_type": "stream",
          "name": "stderr",
          "text": [
            "Epoch 16/50, Train: 100%|██████████| 9/9 [00:08<00:00,  1.11it/s]\n",
            "Epoch 16/50, Validation: 100%|██████████| 3/3 [00:01<00:00,  1.85it/s]\n",
            "Evaluate Train: 100%|██████████| 9/9 [00:08<00:00,  1.03it/s]\n",
            "Evaluate Validation: 100%|██████████| 3/3 [00:01<00:00,  1.75it/s]\n"
          ]
        },
        {
          "output_type": "stream",
          "name": "stdout",
          "text": [
            "Epoch 16/50\n",
            "Train - Loss: 0.4742, Accuracy: 0.7909, Precision: 0.8737, Recall: 0.6705, AUC: 0.8332\n",
            "Val - Loss: 0.6896, Accuracy: 0.8106, Precision: 0.8571, Recall: 0.7385, AUC: 0.8613\n"
          ]
        },
        {
          "output_type": "stream",
          "name": "stderr",
          "text": [
            "Epoch 17/50, Train: 100%|██████████| 9/9 [00:08<00:00,  1.01it/s]\n",
            "Epoch 17/50, Validation: 100%|██████████| 3/3 [00:02<00:00,  1.42it/s]\n",
            "Evaluate Train: 100%|██████████| 9/9 [00:06<00:00,  1.35it/s]\n",
            "Evaluate Validation: 100%|██████████| 3/3 [00:01<00:00,  2.24it/s]\n"
          ]
        },
        {
          "output_type": "stream",
          "name": "stdout",
          "text": [
            "Epoch 17/50\n",
            "Train - Loss: 0.4591, Accuracy: 0.8042, Precision: 0.8744, Recall: 0.7016, AUC: 0.8375\n",
            "Val - Loss: 0.6858, Accuracy: 0.7879, Precision: 0.8364, Recall: 0.7077, AUC: 0.8340\n"
          ]
        },
        {
          "output_type": "stream",
          "name": "stderr",
          "text": [
            "Epoch 18/50, Train: 100%|██████████| 9/9 [00:07<00:00,  1.24it/s]\n",
            "Epoch 18/50, Validation: 100%|██████████| 3/3 [00:01<00:00,  2.25it/s]\n",
            "Evaluate Train: 100%|██████████| 9/9 [00:08<00:00,  1.08it/s]\n",
            "Evaluate Validation: 100%|██████████| 3/3 [00:02<00:00,  1.47it/s]\n"
          ]
        },
        {
          "output_type": "stream",
          "name": "stdout",
          "text": [
            "Epoch 18/50\n",
            "Train - Loss: 0.4609, Accuracy: 0.8061, Precision: 0.8451, Recall: 0.7403, AUC: 0.8437\n",
            "Val - Loss: 0.5281, Accuracy: 0.8106, Precision: 0.8333, Recall: 0.7692, AUC: 0.8788\n"
          ]
        },
        {
          "output_type": "stream",
          "name": "stderr",
          "text": [
            "Epoch 19/50, Train: 100%|██████████| 9/9 [00:06<00:00,  1.37it/s]\n",
            "Epoch 19/50, Validation: 100%|██████████| 3/3 [00:01<00:00,  1.64it/s]\n",
            "Evaluate Train: 100%|██████████| 9/9 [00:06<00:00,  1.47it/s]\n",
            "Evaluate Validation: 100%|██████████| 3/3 [00:01<00:00,  2.26it/s]\n"
          ]
        },
        {
          "output_type": "stream",
          "name": "stdout",
          "text": [
            "Epoch 19/50\n",
            "Train - Loss: 0.4835, Accuracy: 0.7985, Precision: 0.8878, Recall: 0.6744, AUC: 0.8460\n",
            "Val - Loss: 0.5050, Accuracy: 0.7879, Precision: 0.8246, Recall: 0.7231, AUC: 0.8315\n"
          ]
        },
        {
          "output_type": "stream",
          "name": "stderr",
          "text": [
            "Epoch 20/50, Train: 100%|██████████| 9/9 [00:06<00:00,  1.40it/s]\n",
            "Epoch 20/50, Validation: 100%|██████████| 3/3 [00:01<00:00,  1.78it/s]\n",
            "Evaluate Train: 100%|██████████| 9/9 [00:05<00:00,  1.50it/s]\n",
            "Evaluate Validation: 100%|██████████| 3/3 [00:01<00:00,  2.24it/s]\n"
          ]
        },
        {
          "output_type": "stream",
          "name": "stdout",
          "text": [
            "Epoch 20/50\n",
            "Train - Loss: 0.4784, Accuracy: 0.7414, Precision: 0.7075, Recall: 0.8062, AUC: 0.8431\n",
            "Val - Loss: 0.4910, Accuracy: 0.7121, Precision: 0.6709, Recall: 0.8154, AUC: 0.8374\n"
          ]
        },
        {
          "output_type": "stream",
          "name": "stderr",
          "text": [
            "Epoch 21/50, Train: 100%|██████████| 9/9 [00:06<00:00,  1.35it/s]\n",
            "Epoch 21/50, Validation: 100%|██████████| 3/3 [00:01<00:00,  1.92it/s]\n",
            "Evaluate Train: 100%|██████████| 9/9 [00:06<00:00,  1.47it/s]\n",
            "Evaluate Validation: 100%|██████████| 3/3 [00:01<00:00,  2.25it/s]\n"
          ]
        },
        {
          "output_type": "stream",
          "name": "stdout",
          "text": [
            "Epoch 21/50\n",
            "Train - Loss: 0.5329, Accuracy: 0.7738, Precision: 0.9484, Recall: 0.5698, AUC: 0.8266\n",
            "Val - Loss: 0.4514, Accuracy: 0.7576, Precision: 0.9231, Recall: 0.5538, AUC: 0.8133\n"
          ]
        },
        {
          "output_type": "stream",
          "name": "stderr",
          "text": [
            "Epoch 22/50, Train: 100%|██████████| 9/9 [00:06<00:00,  1.38it/s]\n",
            "Epoch 22/50, Validation: 100%|██████████| 3/3 [00:01<00:00,  2.26it/s]\n",
            "Evaluate Train: 100%|██████████| 9/9 [00:07<00:00,  1.13it/s]\n",
            "Evaluate Validation: 100%|██████████| 3/3 [00:02<00:00,  1.40it/s]\n"
          ]
        },
        {
          "output_type": "stream",
          "name": "stdout",
          "text": [
            "Epoch 22/50\n",
            "Train - Loss: 0.4884, Accuracy: 0.7490, Precision: 0.9565, Recall: 0.5116, AUC: 0.8175\n",
            "Val - Loss: 0.5117, Accuracy: 0.7576, Precision: 0.9714, Recall: 0.5231, AUC: 0.7490\n"
          ]
        },
        {
          "output_type": "stream",
          "name": "stderr",
          "text": [
            "Epoch 23/50, Train: 100%|██████████| 9/9 [00:08<00:00,  1.08it/s]\n",
            "Epoch 23/50, Validation: 100%|██████████| 3/3 [00:01<00:00,  2.26it/s]\n",
            "Evaluate Train: 100%|██████████| 9/9 [00:08<00:00,  1.04it/s]\n",
            "Evaluate Validation: 100%|██████████| 3/3 [00:01<00:00,  1.80it/s]\n"
          ]
        },
        {
          "output_type": "stream",
          "name": "stdout",
          "text": [
            "Epoch 23/50\n",
            "Train - Loss: 0.4859, Accuracy: 0.7814, Precision: 0.8295, Recall: 0.6977, AUC: 0.8410\n",
            "Val - Loss: 0.4418, Accuracy: 0.7879, Precision: 0.8033, Recall: 0.7538, AUC: 0.8452\n"
          ]
        },
        {
          "output_type": "stream",
          "name": "stderr",
          "text": [
            "Epoch 24/50, Train: 100%|██████████| 9/9 [00:07<00:00,  1.23it/s]\n",
            "Epoch 24/50, Validation: 100%|██████████| 3/3 [00:02<00:00,  1.44it/s]\n",
            "Evaluate Train: 100%|██████████| 9/9 [00:07<00:00,  1.24it/s]\n",
            "Evaluate Validation: 100%|██████████| 3/3 [00:01<00:00,  2.24it/s]\n"
          ]
        },
        {
          "output_type": "stream",
          "name": "stdout",
          "text": [
            "Epoch 24/50\n",
            "Train - Loss: 0.4470, Accuracy: 0.8061, Precision: 0.8980, Recall: 0.6822, AUC: 0.8526\n",
            "Val - Loss: 0.3804, Accuracy: 0.7803, Precision: 0.8103, Recall: 0.7231, AUC: 0.8266\n"
          ]
        },
        {
          "output_type": "stream",
          "name": "stderr",
          "text": [
            "Epoch 25/50, Train: 100%|██████████| 9/9 [00:06<00:00,  1.29it/s]\n",
            "Epoch 25/50, Validation: 100%|██████████| 3/3 [00:01<00:00,  2.12it/s]\n",
            "Evaluate Train: 100%|██████████| 9/9 [00:06<00:00,  1.35it/s]\n",
            "Evaluate Validation: 100%|██████████| 3/3 [00:01<00:00,  1.87it/s]\n"
          ]
        },
        {
          "output_type": "stream",
          "name": "stdout",
          "text": [
            "Epoch 25/50\n",
            "Train - Loss: 0.4436, Accuracy: 0.8175, Precision: 0.9133, Recall: 0.6938, AUC: 0.8647\n",
            "Val - Loss: 0.3709, Accuracy: 0.7955, Precision: 0.8276, Recall: 0.7385, AUC: 0.8560\n"
          ]
        },
        {
          "output_type": "stream",
          "name": "stderr",
          "text": [
            "Epoch 26/50, Train: 100%|██████████| 9/9 [00:07<00:00,  1.24it/s]\n",
            "Epoch 26/50, Validation: 100%|██████████| 3/3 [00:01<00:00,  2.25it/s]\n",
            "Evaluate Train: 100%|██████████| 9/9 [00:06<00:00,  1.40it/s]\n",
            "Evaluate Validation: 100%|██████████| 3/3 [00:01<00:00,  1.99it/s]\n"
          ]
        },
        {
          "output_type": "stream",
          "name": "stdout",
          "text": [
            "Epoch 26/50\n",
            "Train - Loss: 0.4528, Accuracy: 0.7947, Precision: 0.8099, Recall: 0.7597, AUC: 0.8621\n",
            "Val - Loss: 0.4078, Accuracy: 0.7652, Precision: 0.7656, Recall: 0.7538, AUC: 0.8659\n"
          ]
        },
        {
          "output_type": "stream",
          "name": "stderr",
          "text": [
            "Epoch 27/50, Train: 100%|██████████| 9/9 [00:07<00:00,  1.18it/s]\n",
            "Epoch 27/50, Validation: 100%|██████████| 3/3 [00:01<00:00,  1.98it/s]\n",
            "Evaluate Train: 100%|██████████| 9/9 [00:06<00:00,  1.48it/s]\n",
            "Evaluate Validation: 100%|██████████| 3/3 [00:02<00:00,  1.37it/s]\n"
          ]
        },
        {
          "output_type": "stream",
          "name": "stdout",
          "text": [
            "Epoch 27/50\n",
            "Train - Loss: 0.4548, Accuracy: 0.7890, Precision: 0.9401, Recall: 0.6085, AUC: 0.8695\n",
            "Val - Loss: 0.4445, Accuracy: 0.7727, Precision: 0.8889, Recall: 0.6154, AUC: 0.8237\n"
          ]
        },
        {
          "output_type": "stream",
          "name": "stderr",
          "text": [
            "Epoch 28/50, Train: 100%|██████████| 9/9 [00:06<00:00,  1.35it/s]\n",
            "Epoch 28/50, Validation: 100%|██████████| 3/3 [00:02<00:00,  1.22it/s]\n",
            "Evaluate Train: 100%|██████████| 9/9 [00:07<00:00,  1.27it/s]\n",
            "Evaluate Validation: 100%|██████████| 3/3 [00:01<00:00,  2.01it/s]\n"
          ]
        },
        {
          "output_type": "stream",
          "name": "stdout",
          "text": [
            "Epoch 28/50\n",
            "Train - Loss: 0.4352, Accuracy: 0.8004, Precision: 0.8493, Recall: 0.7209, AUC: 0.8577\n",
            "Val - Loss: 0.5007, Accuracy: 0.7879, Precision: 0.7937, Recall: 0.7692, AUC: 0.8588\n"
          ]
        },
        {
          "output_type": "stream",
          "name": "stderr",
          "text": [
            "Epoch 29/50, Train: 100%|██████████| 9/9 [00:07<00:00,  1.16it/s]\n",
            "Epoch 29/50, Validation: 100%|██████████| 3/3 [00:01<00:00,  2.23it/s]\n",
            "Evaluate Train: 100%|██████████| 9/9 [00:06<00:00,  1.40it/s]\n",
            "Evaluate Validation: 100%|██████████| 3/3 [00:01<00:00,  1.61it/s]\n"
          ]
        },
        {
          "output_type": "stream",
          "name": "stdout",
          "text": [
            "Epoch 29/50\n",
            "Train - Loss: 0.4241, Accuracy: 0.8023, Precision: 0.9583, Recall: 0.6240, AUC: 0.8738\n",
            "Val - Loss: 0.3987, Accuracy: 0.7727, Precision: 0.9070, Recall: 0.6000, AUC: 0.8760\n"
          ]
        },
        {
          "output_type": "stream",
          "name": "stderr",
          "text": [
            "Epoch 30/50, Train: 100%|██████████| 9/9 [00:06<00:00,  1.31it/s]\n",
            "Epoch 30/50, Validation: 100%|██████████| 3/3 [00:01<00:00,  1.66it/s]\n",
            "Evaluate Train: 100%|██████████| 9/9 [00:06<00:00,  1.31it/s]\n",
            "Evaluate Validation: 100%|██████████| 3/3 [00:01<00:00,  2.07it/s]\n"
          ]
        },
        {
          "output_type": "stream",
          "name": "stdout",
          "text": [
            "Epoch 30/50\n",
            "Train - Loss: 0.4531, Accuracy: 0.7738, Precision: 0.7791, Recall: 0.7519, AUC: 0.8594\n",
            "Val - Loss: 0.3827, Accuracy: 0.7348, Precision: 0.7027, Recall: 0.8000, AUC: 0.8478\n"
          ]
        },
        {
          "output_type": "stream",
          "name": "stderr",
          "text": [
            "Epoch 31/50, Train: 100%|██████████| 9/9 [00:06<00:00,  1.30it/s]\n",
            "Epoch 31/50, Validation: 100%|██████████| 3/3 [00:01<00:00,  1.62it/s]\n",
            "Evaluate Train: 100%|██████████| 9/9 [00:07<00:00,  1.27it/s]\n",
            "Evaluate Validation: 100%|██████████| 3/3 [00:01<00:00,  1.58it/s]\n"
          ]
        },
        {
          "output_type": "stream",
          "name": "stdout",
          "text": [
            "Epoch 31/50\n",
            "Train - Loss: 0.4330, Accuracy: 0.7909, Precision: 0.9405, Recall: 0.6124, AUC: 0.8373\n",
            "Val - Loss: 0.5209, Accuracy: 0.7803, Precision: 0.9286, Recall: 0.6000, AUC: 0.7876\n"
          ]
        },
        {
          "output_type": "stream",
          "name": "stderr",
          "text": [
            "Epoch 32/50, Train: 100%|██████████| 9/9 [00:08<00:00,  1.09it/s]\n",
            "Epoch 32/50, Validation: 100%|██████████| 3/3 [00:01<00:00,  2.22it/s]\n",
            "Evaluate Train: 100%|██████████| 9/9 [00:06<00:00,  1.30it/s]\n",
            "Evaluate Validation: 100%|██████████| 3/3 [00:01<00:00,  2.23it/s]\n"
          ]
        },
        {
          "output_type": "stream",
          "name": "stdout",
          "text": [
            "Epoch 32/50\n",
            "Train - Loss: 0.4647, Accuracy: 0.7795, Precision: 0.7448, Recall: 0.8372, AUC: 0.8697\n",
            "Val - Loss: 0.5626, Accuracy: 0.7273, Precision: 0.6883, Recall: 0.8154, AUC: 0.8397\n"
          ]
        },
        {
          "output_type": "stream",
          "name": "stderr",
          "text": [
            "Epoch 33/50, Train: 100%|██████████| 9/9 [00:06<00:00,  1.31it/s]\n",
            "Epoch 33/50, Validation: 100%|██████████| 3/3 [00:01<00:00,  2.22it/s]\n",
            "Evaluate Train: 100%|██████████| 9/9 [00:06<00:00,  1.41it/s]\n",
            "Evaluate Validation: 100%|██████████| 3/3 [00:01<00:00,  2.28it/s]\n"
          ]
        },
        {
          "output_type": "stream",
          "name": "stdout",
          "text": [
            "Epoch 33/50\n",
            "Train - Loss: 0.4307, Accuracy: 0.8023, Precision: 0.7917, Recall: 0.8101, AUC: 0.8734\n",
            "Val - Loss: 0.5179, Accuracy: 0.8106, Precision: 0.7857, Recall: 0.8462, AUC: 0.8732\n"
          ]
        },
        {
          "output_type": "stream",
          "name": "stderr",
          "text": [
            "Epoch 34/50, Train: 100%|██████████| 9/9 [00:06<00:00,  1.31it/s]\n",
            "Epoch 34/50, Validation: 100%|██████████| 3/3 [00:01<00:00,  2.21it/s]\n",
            "Evaluate Train: 100%|██████████| 9/9 [00:06<00:00,  1.36it/s]\n",
            "Evaluate Validation: 100%|██████████| 3/3 [00:01<00:00,  2.16it/s]\n"
          ]
        },
        {
          "output_type": "stream",
          "name": "stdout",
          "text": [
            "Epoch 34/50\n",
            "Train - Loss: 0.4744, Accuracy: 0.8118, Precision: 0.8768, Recall: 0.7171, AUC: 0.8739\n",
            "Val - Loss: 0.5228, Accuracy: 0.8182, Precision: 0.8361, Recall: 0.7846, AUC: 0.8512\n"
          ]
        },
        {
          "output_type": "stream",
          "name": "stderr",
          "text": [
            "Epoch 35/50, Train: 100%|██████████| 9/9 [00:07<00:00,  1.25it/s]\n",
            "Epoch 35/50, Validation: 100%|██████████| 3/3 [00:01<00:00,  2.22it/s]\n",
            "Evaluate Train: 100%|██████████| 9/9 [00:05<00:00,  1.56it/s]\n",
            "Evaluate Validation: 100%|██████████| 3/3 [00:01<00:00,  1.85it/s]\n"
          ]
        },
        {
          "output_type": "stream",
          "name": "stdout",
          "text": [
            "Epoch 35/50\n",
            "Train - Loss: 0.4197, Accuracy: 0.7719, Precision: 0.7738, Recall: 0.7558, AUC: 0.8558\n",
            "Val - Loss: 0.3132, Accuracy: 0.8182, Precision: 0.7971, Recall: 0.8462, AUC: 0.8806\n"
          ]
        },
        {
          "output_type": "stream",
          "name": "stderr",
          "text": [
            "Epoch 36/50, Train: 100%|██████████| 9/9 [00:07<00:00,  1.13it/s]\n",
            "Epoch 36/50, Validation: 100%|██████████| 3/3 [00:01<00:00,  2.20it/s]\n",
            "Evaluate Train: 100%|██████████| 9/9 [00:06<00:00,  1.40it/s]\n",
            "Evaluate Validation: 100%|██████████| 3/3 [00:01<00:00,  1.96it/s]\n"
          ]
        },
        {
          "output_type": "stream",
          "name": "stdout",
          "text": [
            "Epoch 36/50\n",
            "Train - Loss: 0.4219, Accuracy: 0.6654, Precision: 0.6057, Recall: 0.9109, AUC: 0.8655\n",
            "Val - Loss: 0.9213, Accuracy: 0.6970, Precision: 0.6344, Recall: 0.9077, AUC: 0.8909\n"
          ]
        },
        {
          "output_type": "stream",
          "name": "stderr",
          "text": [
            "Epoch 37/50, Train: 100%|██████████| 9/9 [00:08<00:00,  1.04it/s]\n",
            "Epoch 37/50, Validation: 100%|██████████| 3/3 [00:01<00:00,  1.65it/s]\n",
            "Evaluate Train: 100%|██████████| 9/9 [00:08<00:00,  1.09it/s]\n",
            "Evaluate Validation: 100%|██████████| 3/3 [00:01<00:00,  1.75it/s]\n"
          ]
        },
        {
          "output_type": "stream",
          "name": "stdout",
          "text": [
            "Epoch 37/50\n",
            "Train - Loss: 0.4264, Accuracy: 0.7795, Precision: 0.7465, Recall: 0.8333, AUC: 0.8693\n",
            "Val - Loss: 0.6393, Accuracy: 0.7727, Precision: 0.7465, Recall: 0.8154, AUC: 0.8498\n"
          ]
        },
        {
          "output_type": "stream",
          "name": "stderr",
          "text": [
            "Epoch 38/50, Train: 100%|██████████| 9/9 [00:07<00:00,  1.13it/s]\n",
            "Epoch 38/50, Validation: 100%|██████████| 3/3 [00:01<00:00,  1.84it/s]\n",
            "Evaluate Train: 100%|██████████| 9/9 [00:07<00:00,  1.17it/s]\n",
            "Evaluate Validation: 100%|██████████| 3/3 [00:01<00:00,  2.25it/s]\n"
          ]
        },
        {
          "output_type": "stream",
          "name": "stdout",
          "text": [
            "Epoch 38/50\n",
            "Train - Loss: 0.4329, Accuracy: 0.8175, Precision: 0.8266, Recall: 0.7946, AUC: 0.8820\n",
            "Val - Loss: 0.4508, Accuracy: 0.8106, Precision: 0.8030, Recall: 0.8154, AUC: 0.8530\n"
          ]
        },
        {
          "output_type": "stream",
          "name": "stderr",
          "text": [
            "Epoch 39/50, Train: 100%|██████████| 9/9 [00:06<00:00,  1.31it/s]\n",
            "Epoch 39/50, Validation: 100%|██████████| 3/3 [00:01<00:00,  2.27it/s]\n",
            "Evaluate Train: 100%|██████████| 9/9 [00:06<00:00,  1.38it/s]\n",
            "Evaluate Validation: 100%|██████████| 3/3 [00:01<00:00,  1.60it/s]\n"
          ]
        },
        {
          "output_type": "stream",
          "name": "stdout",
          "text": [
            "Epoch 39/50\n",
            "Train - Loss: 0.4729, Accuracy: 0.8156, Precision: 0.8966, Recall: 0.7054, AUC: 0.8686\n",
            "Val - Loss: 0.4753, Accuracy: 0.8106, Precision: 0.8571, Recall: 0.7385, AUC: 0.8282\n"
          ]
        },
        {
          "output_type": "stream",
          "name": "stderr",
          "text": [
            "Epoch 40/50, Train: 100%|██████████| 9/9 [00:06<00:00,  1.36it/s]\n",
            "Epoch 40/50, Validation: 100%|██████████| 3/3 [00:01<00:00,  1.85it/s]\n",
            "Evaluate Train: 100%|██████████| 9/9 [00:08<00:00,  1.11it/s]\n",
            "Evaluate Validation: 100%|██████████| 3/3 [00:01<00:00,  2.24it/s]\n"
          ]
        },
        {
          "output_type": "stream",
          "name": "stdout",
          "text": [
            "Epoch 40/50\n",
            "Train - Loss: 0.4166, Accuracy: 0.7072, Precision: 0.9906, Recall: 0.4070, AUC: 0.8402\n",
            "Val - Loss: 0.7707, Accuracy: 0.7424, Precision: 0.9697, Recall: 0.4923, AUC: 0.8032\n"
          ]
        },
        {
          "output_type": "stream",
          "name": "stderr",
          "text": [
            "Epoch 41/50, Train: 100%|██████████| 9/9 [00:08<00:00,  1.11it/s]\n",
            "Epoch 41/50, Validation: 100%|██████████| 3/3 [00:01<00:00,  1.69it/s]\n",
            "Evaluate Train: 100%|██████████| 9/9 [00:07<00:00,  1.17it/s]\n",
            "Evaluate Validation: 100%|██████████| 3/3 [00:02<00:00,  1.34it/s]\n"
          ]
        },
        {
          "output_type": "stream",
          "name": "stdout",
          "text": [
            "Epoch 41/50\n",
            "Train - Loss: 0.4481, Accuracy: 0.7795, Precision: 0.8060, Recall: 0.7248, AUC: 0.8525\n",
            "Val - Loss: 0.3508, Accuracy: 0.8030, Precision: 0.8000, Recall: 0.8000, AUC: 0.8654\n"
          ]
        },
        {
          "output_type": "stream",
          "name": "stderr",
          "text": [
            "Epoch 42/50, Train: 100%|██████████| 9/9 [00:07<00:00,  1.27it/s]\n",
            "Epoch 42/50, Validation: 100%|██████████| 3/3 [00:01<00:00,  1.72it/s]\n",
            "Evaluate Train: 100%|██████████| 9/9 [00:06<00:00,  1.43it/s]\n",
            "Evaluate Validation: 100%|██████████| 3/3 [00:01<00:00,  2.26it/s]\n"
          ]
        },
        {
          "output_type": "stream",
          "name": "stdout",
          "text": [
            "Epoch 42/50\n",
            "Train - Loss: 0.4393, Accuracy: 0.8327, Precision: 0.9474, Recall: 0.6977, AUC: 0.8734\n",
            "Val - Loss: 0.3789, Accuracy: 0.8182, Precision: 0.8868, Recall: 0.7231, AUC: 0.8574\n"
          ]
        },
        {
          "output_type": "stream",
          "name": "stderr",
          "text": [
            "Epoch 43/50, Train: 100%|██████████| 9/9 [00:08<00:00,  1.10it/s]\n",
            "Epoch 43/50, Validation: 100%|██████████| 3/3 [00:01<00:00,  1.76it/s]\n",
            "Evaluate Train: 100%|██████████| 9/9 [00:07<00:00,  1.23it/s]\n",
            "Evaluate Validation: 100%|██████████| 3/3 [00:01<00:00,  1.82it/s]\n"
          ]
        },
        {
          "output_type": "stream",
          "name": "stdout",
          "text": [
            "Epoch 43/50\n",
            "Train - Loss: 0.4271, Accuracy: 0.7966, Precision: 0.7938, Recall: 0.7907, AUC: 0.8749\n",
            "Val - Loss: 0.6429, Accuracy: 0.7727, Precision: 0.7536, Recall: 0.8000, AUC: 0.8510\n"
          ]
        },
        {
          "output_type": "stream",
          "name": "stderr",
          "text": [
            "Epoch 44/50, Train: 100%|██████████| 9/9 [00:07<00:00,  1.23it/s]\n",
            "Epoch 44/50, Validation: 100%|██████████| 3/3 [00:01<00:00,  2.08it/s]\n",
            "Evaluate Train: 100%|██████████| 9/9 [00:06<00:00,  1.47it/s]\n",
            "Evaluate Validation: 100%|██████████| 3/3 [00:01<00:00,  2.32it/s]\n"
          ]
        },
        {
          "output_type": "stream",
          "name": "stdout",
          "text": [
            "Epoch 44/50\n",
            "Train - Loss: 0.4297, Accuracy: 0.8156, Precision: 0.9600, Recall: 0.6512, AUC: 0.8852\n",
            "Val - Loss: 0.4152, Accuracy: 0.7955, Precision: 0.9130, Recall: 0.6462, AUC: 0.8202\n"
          ]
        },
        {
          "output_type": "stream",
          "name": "stderr",
          "text": [
            "Epoch 45/50, Train: 100%|██████████| 9/9 [00:08<00:00,  1.10it/s]\n",
            "Epoch 45/50, Validation: 100%|██████████| 3/3 [00:01<00:00,  1.68it/s]\n",
            "Evaluate Train: 100%|██████████| 9/9 [00:07<00:00,  1.17it/s]\n",
            "Evaluate Validation: 100%|██████████| 3/3 [00:01<00:00,  1.63it/s]\n"
          ]
        },
        {
          "output_type": "stream",
          "name": "stdout",
          "text": [
            "Epoch 45/50\n",
            "Train - Loss: 0.4032, Accuracy: 0.8327, Precision: 0.9009, Recall: 0.7403, AUC: 0.8971\n",
            "Val - Loss: 0.3930, Accuracy: 0.7955, Precision: 0.8167, Recall: 0.7538, AUC: 0.8505\n"
          ]
        },
        {
          "output_type": "stream",
          "name": "stderr",
          "text": [
            "Epoch 46/50, Train: 100%|██████████| 9/9 [00:06<00:00,  1.50it/s]\n",
            "Epoch 46/50, Validation: 100%|██████████| 3/3 [00:01<00:00,  1.98it/s]\n",
            "Evaluate Train: 100%|██████████| 9/9 [00:06<00:00,  1.42it/s]\n",
            "Evaluate Validation: 100%|██████████| 3/3 [00:01<00:00,  2.32it/s]\n"
          ]
        },
        {
          "output_type": "stream",
          "name": "stdout",
          "text": [
            "Epoch 46/50\n",
            "Train - Loss: 0.4052, Accuracy: 0.8175, Precision: 0.9880, Recall: 0.6357, AUC: 0.8960\n",
            "Val - Loss: 0.4369, Accuracy: 0.8030, Precision: 0.9333, Recall: 0.6462, AUC: 0.8356\n"
          ]
        },
        {
          "output_type": "stream",
          "name": "stderr",
          "text": [
            "Epoch 47/50, Train: 100%|██████████| 9/9 [00:06<00:00,  1.41it/s]\n",
            "Epoch 47/50, Validation: 100%|██████████| 3/3 [00:01<00:00,  2.31it/s]\n",
            "Evaluate Train: 100%|██████████| 9/9 [00:06<00:00,  1.39it/s]\n",
            "Evaluate Validation: 100%|██████████| 3/3 [00:01<00:00,  1.63it/s]\n"
          ]
        },
        {
          "output_type": "stream",
          "name": "stdout",
          "text": [
            "Epoch 47/50\n",
            "Train - Loss: 0.4595, Accuracy: 0.7890, Precision: 0.9804, Recall: 0.5814, AUC: 0.8758\n",
            "Val - Loss: 0.4923, Accuracy: 0.7727, Precision: 0.9487, Recall: 0.5692, AUC: 0.8282\n"
          ]
        },
        {
          "output_type": "stream",
          "name": "stderr",
          "text": [
            "Epoch 48/50, Train: 100%|██████████| 9/9 [00:06<00:00,  1.31it/s]\n",
            "Epoch 48/50, Validation: 100%|██████████| 3/3 [00:02<00:00,  1.37it/s]\n",
            "Evaluate Train: 100%|██████████| 9/9 [00:08<00:00,  1.00it/s]\n",
            "Evaluate Validation: 100%|██████████| 3/3 [00:02<00:00,  1.40it/s]\n"
          ]
        },
        {
          "output_type": "stream",
          "name": "stdout",
          "text": [
            "Epoch 48/50\n",
            "Train - Loss: 0.4013, Accuracy: 0.7681, Precision: 0.7636, Recall: 0.7636, AUC: 0.8585\n",
            "Val - Loss: 0.5246, Accuracy: 0.8030, Precision: 0.7746, Recall: 0.8462, AUC: 0.8549\n"
          ]
        },
        {
          "output_type": "stream",
          "name": "stderr",
          "text": [
            "Epoch 49/50, Train: 100%|██████████| 9/9 [00:06<00:00,  1.37it/s]\n",
            "Epoch 49/50, Validation: 100%|██████████| 3/3 [00:01<00:00,  1.66it/s]\n",
            "Evaluate Train: 100%|██████████| 9/9 [00:07<00:00,  1.28it/s]\n",
            "Evaluate Validation: 100%|██████████| 3/3 [00:01<00:00,  1.58it/s]\n"
          ]
        },
        {
          "output_type": "stream",
          "name": "stdout",
          "text": [
            "Epoch 49/50\n",
            "Train - Loss: 0.4388, Accuracy: 0.8289, Precision: 0.9158, Recall: 0.7171, AUC: 0.8869\n",
            "Val - Loss: 0.4853, Accuracy: 0.8258, Precision: 0.8889, Recall: 0.7385, AUC: 0.8560\n"
          ]
        },
        {
          "output_type": "stream",
          "name": "stderr",
          "text": [
            "Epoch 50/50, Train: 100%|██████████| 9/9 [00:08<00:00,  1.02it/s]\n",
            "Epoch 50/50, Validation: 100%|██████████| 3/3 [00:01<00:00,  1.78it/s]\n",
            "Evaluate Train: 100%|██████████| 9/9 [00:06<00:00,  1.42it/s]\n",
            "Evaluate Validation: 100%|██████████| 3/3 [00:01<00:00,  2.30it/s]\n"
          ]
        },
        {
          "output_type": "stream",
          "name": "stdout",
          "text": [
            "Epoch 50/50\n",
            "Train - Loss: 0.4288, Accuracy: 0.8251, Precision: 0.9109, Recall: 0.7132, AUC: 0.8768\n",
            "Val - Loss: 0.6245, Accuracy: 0.7955, Precision: 0.8393, Recall: 0.7231, AUC: 0.8432\n"
          ]
        },
        {
          "output_type": "stream",
          "name": "stderr",
          "text": [
            "Evaluate Test: 100%|██████████| 3/3 [00:00<00:00,  8.92it/s]\n"
          ]
        },
        {
          "output_type": "stream",
          "name": "stdout",
          "text": [
            "\n",
            "Accuracy: 0.7394, Precision: 0.7639, Recall: 0.6790, AUC: 0.8144\n",
            "Results saved to results/finetune/ori/resnet50/classification_results.txt\n"
          ]
        },
        {
          "output_type": "stream",
          "name": "stderr",
          "text": [
            "WARNING:matplotlib.image:Clipping input data to the valid range for imshow with RGB data ([0..1] for floats or [0..255] for integers).\n",
            "WARNING:matplotlib.image:Clipping input data to the valid range for imshow with RGB data ([0..1] for floats or [0..255] for integers).\n",
            "WARNING:matplotlib.image:Clipping input data to the valid range for imshow with RGB data ([0..1] for floats or [0..255] for integers).\n",
            "WARNING:matplotlib.image:Clipping input data to the valid range for imshow with RGB data ([0..1] for floats or [0..255] for integers).\n",
            "WARNING:matplotlib.image:Clipping input data to the valid range for imshow with RGB data ([0..1] for floats or [0..255] for integers).\n",
            "WARNING:matplotlib.image:Clipping input data to the valid range for imshow with RGB data ([0..1] for floats or [0..255] for integers).\n"
          ]
        },
        {
          "output_type": "stream",
          "name": "stdout",
          "text": [
            "Results saved to results/visualization/zero_shot/ucsd/resnet50/images/cxr_images.png\n"
          ]
        },
        {
          "output_type": "stream",
          "name": "stderr",
          "text": [
            "Evaluate Train: 100%|██████████| 31/31 [00:02<00:00, 13.70it/s]\n",
            "Evaluate Validation: 100%|██████████| 8/8 [00:00<00:00, 25.57it/s]\n",
            "Evaluate Test: 100%|██████████| 10/10 [00:00<00:00, 25.54it/s]\n"
          ]
        },
        {
          "output_type": "stream",
          "name": "stdout",
          "text": [
            "Results saved to results/zero_shot/ucsd/resnet50/classification_results.txt\n"
          ]
        },
        {
          "output_type": "display_data",
          "data": {
            "text/plain": [
              "<Figure size 640x480 with 0 Axes>"
            ]
          },
          "metadata": {}
        }
      ],
      "source": [
        "%run ViG-Pediatric/scripts/conv/finetune_conv_res.py"
      ]
    },
    {
      "cell_type": "code",
      "source": [
        "#%run ViG-Pediatric/scripts/conv/finetune_conv_dense.py"
      ],
      "metadata": {
        "id": "PyKErmk-XZ-N"
      },
      "execution_count": null,
      "outputs": []
    },
    {
      "cell_type": "code",
      "source": [
        "#%run ViG-Pediatric/scripts/conv/finetune_conv_efficient.py"
      ],
      "metadata": {
        "id": "RobLK3qqXbFr"
      },
      "execution_count": null,
      "outputs": []
    },
    {
      "cell_type": "code",
      "source": [
        "#%run ViG-Pediatric/scripts/conv/finetune_conv_inception.py"
      ],
      "metadata": {
        "id": "nwcM-0NbXc3M"
      },
      "execution_count": null,
      "outputs": []
    },
    {
      "cell_type": "code",
      "source": [
        "!zip -r res_results.zip results"
      ],
      "metadata": {
        "id": "caCkMl5lKwVw",
        "colab": {
          "base_uri": "https://localhost:8080/"
        },
        "outputId": "3ee0f03a-15d3-4c1c-8443-46f53a44e93d"
      },
      "execution_count": 9,
      "outputs": [
        {
          "output_type": "stream",
          "name": "stdout",
          "text": [
            "  adding: results/ (stored 0%)\n",
            "  adding: results/visualization/ (stored 0%)\n",
            "  adding: results/visualization/finetune/ (stored 0%)\n",
            "  adding: results/visualization/finetune/ori/ (stored 0%)\n",
            "  adding: results/visualization/finetune/ori/resnet50/ (stored 0%)\n",
            "  adding: results/visualization/finetune/ori/resnet50/images/ (stored 0%)\n",
            "  adding: results/visualization/finetune/ori/resnet50/images/cxr_images.png (deflated 6%)\n",
            "  adding: results/visualization/finetune/ucsd/ (stored 0%)\n",
            "  adding: results/visualization/finetune/ucsd/resnet50/ (stored 0%)\n",
            "  adding: results/visualization/finetune/ucsd/resnet50/images/ (stored 0%)\n",
            "  adding: results/visualization/finetune/ucsd/resnet50/images/cxr_images.png (deflated 8%)\n",
            "  adding: results/visualization/zero_shot/ (stored 0%)\n",
            "  adding: results/visualization/zero_shot/ori/ (stored 0%)\n",
            "  adding: results/visualization/zero_shot/ori/resnet50/ (stored 0%)\n",
            "  adding: results/visualization/zero_shot/ori/resnet50/images/ (stored 0%)\n",
            "  adding: results/visualization/zero_shot/ori/resnet50/images/cxr_images.png (deflated 7%)\n",
            "  adding: results/visualization/zero_shot/ucsd/ (stored 0%)\n",
            "  adding: results/visualization/zero_shot/ucsd/resnet50/ (stored 0%)\n",
            "  adding: results/visualization/zero_shot/ucsd/resnet50/images/ (stored 0%)\n",
            "  adding: results/visualization/zero_shot/ucsd/resnet50/images/cxr_images.png (deflated 7%)\n",
            "  adding: results/finetune/ (stored 0%)\n",
            "  adding: results/finetune/ori/ (stored 0%)\n",
            "  adding: results/finetune/ori/resnet50/ (stored 0%)\n",
            "  adding: results/finetune/ori/resnet50/metrics_accuracy_epoch.png (deflated 5%)\n",
            "  adding: results/finetune/ori/resnet50/metrics_auc_epoch.png (deflated 5%)\n",
            "  adding: results/finetune/ori/resnet50/metrics_recall_epoch.png (deflated 3%)\n",
            "  adding: results/finetune/ori/resnet50/metrics_loss_epoch.png (deflated 7%)\n",
            "  adding: results/finetune/ori/resnet50/metrics_precision_epoch.png (deflated 3%)\n",
            "  adding: results/finetune/ori/resnet50/.ipynb_checkpoints/ (stored 0%)\n",
            "  adding: results/finetune/ori/resnet50/classification_results.txt (deflated 55%)\n",
            "  adding: results/finetune/ucsd/ (stored 0%)\n",
            "  adding: results/finetune/ucsd/resnet50/ (stored 0%)\n",
            "  adding: results/finetune/ucsd/resnet50/metrics_accuracy_epoch.png (deflated 5%)\n",
            "  adding: results/finetune/ucsd/resnet50/metrics_auc_epoch.png (deflated 9%)\n",
            "  adding: results/finetune/ucsd/resnet50/metrics_recall_epoch.png (deflated 2%)\n",
            "  adding: results/finetune/ucsd/resnet50/metrics_loss_epoch.png (deflated 11%)\n",
            "  adding: results/finetune/ucsd/resnet50/metrics_precision_epoch.png (deflated 4%)\n",
            "  adding: results/finetune/ucsd/resnet50/.ipynb_checkpoints/ (stored 0%)\n",
            "  adding: results/finetune/ucsd/resnet50/classification_results.txt (deflated 57%)\n",
            "  adding: results/zero_shot/ (stored 0%)\n",
            "  adding: results/zero_shot/ori/ (stored 0%)\n",
            "  adding: results/zero_shot/ori/resnet50/ (stored 0%)\n",
            "  adding: results/zero_shot/ori/resnet50/classification_results.txt (deflated 53%)\n",
            "  adding: results/zero_shot/ucsd/ (stored 0%)\n",
            "  adding: results/zero_shot/ucsd/resnet50/ (stored 0%)\n",
            "  adding: results/zero_shot/ucsd/resnet50/classification_results.txt (deflated 52%)\n"
          ]
        }
      ]
    },
    {
      "cell_type": "code",
      "source": [
        "%cp -r res_results.zip drive/MyDrive/ViG-Pediatric"
      ],
      "metadata": {
        "id": "Dd3lPE49Kyzv"
      },
      "execution_count": 7,
      "outputs": []
    }
  ],
  "metadata": {
    "accelerator": "GPU",
    "colab": {
      "gpuType": "A100",
      "machine_shape": "hm",
      "provenance": []
    },
    "kernelspec": {
      "display_name": "Python 3",
      "name": "python3"
    },
    "language_info": {
      "name": "python"
    }
  },
  "nbformat": 4,
  "nbformat_minor": 0
}