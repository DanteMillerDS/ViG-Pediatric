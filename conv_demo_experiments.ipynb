{
  "cells": [
    {
      "cell_type": "code",
      "execution_count": 1,
      "metadata": {
        "colab": {
          "base_uri": "https://localhost:8080/"
        },
        "id": "SYlFA4SFXLHW",
        "outputId": "f4925668-189c-43e2-fe47-ad0fc9bdd1f4"
      },
      "outputs": [
        {
          "output_type": "stream",
          "name": "stdout",
          "text": [
            "Cloning into 'ViG-Pediatric'...\n",
            "remote: Enumerating objects: 608, done.\u001b[K\n",
            "remote: Counting objects: 100% (126/126), done.\u001b[K\n",
            "remote: Compressing objects: 100% (89/89), done.\u001b[K\n",
            "remote: Total 608 (delta 28), reused 110 (delta 16), pack-reused 482\u001b[K\n",
            "Receiving objects: 100% (608/608), 5.35 MiB | 10.74 MiB/s, done.\n",
            "Resolving deltas: 100% (213/213), done.\n",
            "/content/ViG-Pediatric\n",
            "Submodule 'Efficient-AI-Backbones' (https://github.com/huawei-noah/Efficient-AI-Backbones.git) registered for path 'Efficient-AI-Backbones'\n",
            "Cloning into '/content/ViG-Pediatric/Efficient-AI-Backbones'...\n",
            "Submodule path 'Efficient-AI-Backbones': checked out 'b216a124bc8c1e999233adc23176bbba82d05d8b'\n",
            "/content\n"
          ]
        }
      ],
      "source": [
        "!git clone https://github.com/DanteMillerDS/ViG-Pediatric.git\n",
        "%cd ViG-Pediatric\n",
        "!git submodule init\n",
        "!git submodule update\n",
        "%cd ../"
      ]
    },
    {
      "cell_type": "code",
      "execution_count": 2,
      "metadata": {
        "colab": {
          "base_uri": "https://localhost:8080/"
        },
        "id": "VQMyZvkCXDmU",
        "outputId": "e1bb8894-525a-4cf7-cbeb-2354193eb5fe"
      },
      "outputs": [
        {
          "output_type": "stream",
          "name": "stdout",
          "text": [
            "Collecting ftfy (from -r ViG-Pediatric/requirements.txt (line 1))\n",
            "  Downloading ftfy-6.2.0-py3-none-any.whl (54 kB)\n",
            "\u001b[?25l     \u001b[90m━━━━━━━━━━━━━━━━━━━━━━━━━━━━━━━━━━━━━━━━\u001b[0m \u001b[32m0.0/54.4 kB\u001b[0m \u001b[31m?\u001b[0m eta \u001b[36m-:--:--\u001b[0m\r\u001b[2K     \u001b[90m━━━━━━━━━━━━━━━━━━━━━━━━━━━━━━━━━━━━━━━━\u001b[0m \u001b[32m54.4/54.4 kB\u001b[0m \u001b[31m2.2 MB/s\u001b[0m eta \u001b[36m0:00:00\u001b[0m\n",
            "\u001b[?25hRequirement already satisfied: regex in /usr/local/lib/python3.10/dist-packages (from -r ViG-Pediatric/requirements.txt (line 2)) (2023.12.25)\n",
            "Collecting timm (from -r ViG-Pediatric/requirements.txt (line 3))\n",
            "  Downloading timm-0.9.16-py3-none-any.whl (2.2 MB)\n",
            "\u001b[2K     \u001b[90m━━━━━━━━━━━━━━━━━━━━━━━━━━━━━━━━━━━━━━━━\u001b[0m \u001b[32m2.2/2.2 MB\u001b[0m \u001b[31m52.4 MB/s\u001b[0m eta \u001b[36m0:00:00\u001b[0m\n",
            "\u001b[?25hRequirement already satisfied: tqdm in /usr/local/lib/python3.10/dist-packages (from -r ViG-Pediatric/requirements.txt (line 4)) (4.66.2)\n",
            "Requirement already satisfied: wcwidth<0.3.0,>=0.2.12 in /usr/local/lib/python3.10/dist-packages (from ftfy->-r ViG-Pediatric/requirements.txt (line 1)) (0.2.13)\n",
            "Requirement already satisfied: torch in /usr/local/lib/python3.10/dist-packages (from timm->-r ViG-Pediatric/requirements.txt (line 3)) (2.2.1+cu121)\n",
            "Requirement already satisfied: torchvision in /usr/local/lib/python3.10/dist-packages (from timm->-r ViG-Pediatric/requirements.txt (line 3)) (0.17.1+cu121)\n",
            "Requirement already satisfied: pyyaml in /usr/local/lib/python3.10/dist-packages (from timm->-r ViG-Pediatric/requirements.txt (line 3)) (6.0.1)\n",
            "Requirement already satisfied: huggingface_hub in /usr/local/lib/python3.10/dist-packages (from timm->-r ViG-Pediatric/requirements.txt (line 3)) (0.20.3)\n",
            "Requirement already satisfied: safetensors in /usr/local/lib/python3.10/dist-packages (from timm->-r ViG-Pediatric/requirements.txt (line 3)) (0.4.3)\n",
            "Requirement already satisfied: filelock in /usr/local/lib/python3.10/dist-packages (from huggingface_hub->timm->-r ViG-Pediatric/requirements.txt (line 3)) (3.13.4)\n",
            "Requirement already satisfied: fsspec>=2023.5.0 in /usr/local/lib/python3.10/dist-packages (from huggingface_hub->timm->-r ViG-Pediatric/requirements.txt (line 3)) (2023.6.0)\n",
            "Requirement already satisfied: requests in /usr/local/lib/python3.10/dist-packages (from huggingface_hub->timm->-r ViG-Pediatric/requirements.txt (line 3)) (2.31.0)\n",
            "Requirement already satisfied: typing-extensions>=3.7.4.3 in /usr/local/lib/python3.10/dist-packages (from huggingface_hub->timm->-r ViG-Pediatric/requirements.txt (line 3)) (4.11.0)\n",
            "Requirement already satisfied: packaging>=20.9 in /usr/local/lib/python3.10/dist-packages (from huggingface_hub->timm->-r ViG-Pediatric/requirements.txt (line 3)) (24.0)\n",
            "Requirement already satisfied: sympy in /usr/local/lib/python3.10/dist-packages (from torch->timm->-r ViG-Pediatric/requirements.txt (line 3)) (1.12)\n",
            "Requirement already satisfied: networkx in /usr/local/lib/python3.10/dist-packages (from torch->timm->-r ViG-Pediatric/requirements.txt (line 3)) (3.3)\n",
            "Requirement already satisfied: jinja2 in /usr/local/lib/python3.10/dist-packages (from torch->timm->-r ViG-Pediatric/requirements.txt (line 3)) (3.1.3)\n",
            "Collecting nvidia-cuda-nvrtc-cu12==12.1.105 (from torch->timm->-r ViG-Pediatric/requirements.txt (line 3))\n",
            "  Using cached nvidia_cuda_nvrtc_cu12-12.1.105-py3-none-manylinux1_x86_64.whl (23.7 MB)\n",
            "Collecting nvidia-cuda-runtime-cu12==12.1.105 (from torch->timm->-r ViG-Pediatric/requirements.txt (line 3))\n",
            "  Using cached nvidia_cuda_runtime_cu12-12.1.105-py3-none-manylinux1_x86_64.whl (823 kB)\n",
            "Collecting nvidia-cuda-cupti-cu12==12.1.105 (from torch->timm->-r ViG-Pediatric/requirements.txt (line 3))\n",
            "  Using cached nvidia_cuda_cupti_cu12-12.1.105-py3-none-manylinux1_x86_64.whl (14.1 MB)\n",
            "Collecting nvidia-cudnn-cu12==8.9.2.26 (from torch->timm->-r ViG-Pediatric/requirements.txt (line 3))\n",
            "  Using cached nvidia_cudnn_cu12-8.9.2.26-py3-none-manylinux1_x86_64.whl (731.7 MB)\n",
            "Collecting nvidia-cublas-cu12==12.1.3.1 (from torch->timm->-r ViG-Pediatric/requirements.txt (line 3))\n",
            "  Using cached nvidia_cublas_cu12-12.1.3.1-py3-none-manylinux1_x86_64.whl (410.6 MB)\n",
            "Collecting nvidia-cufft-cu12==11.0.2.54 (from torch->timm->-r ViG-Pediatric/requirements.txt (line 3))\n",
            "  Using cached nvidia_cufft_cu12-11.0.2.54-py3-none-manylinux1_x86_64.whl (121.6 MB)\n",
            "Collecting nvidia-curand-cu12==10.3.2.106 (from torch->timm->-r ViG-Pediatric/requirements.txt (line 3))\n",
            "  Using cached nvidia_curand_cu12-10.3.2.106-py3-none-manylinux1_x86_64.whl (56.5 MB)\n",
            "Collecting nvidia-cusolver-cu12==11.4.5.107 (from torch->timm->-r ViG-Pediatric/requirements.txt (line 3))\n",
            "  Using cached nvidia_cusolver_cu12-11.4.5.107-py3-none-manylinux1_x86_64.whl (124.2 MB)\n",
            "Collecting nvidia-cusparse-cu12==12.1.0.106 (from torch->timm->-r ViG-Pediatric/requirements.txt (line 3))\n",
            "  Using cached nvidia_cusparse_cu12-12.1.0.106-py3-none-manylinux1_x86_64.whl (196.0 MB)\n",
            "Collecting nvidia-nccl-cu12==2.19.3 (from torch->timm->-r ViG-Pediatric/requirements.txt (line 3))\n",
            "  Using cached nvidia_nccl_cu12-2.19.3-py3-none-manylinux1_x86_64.whl (166.0 MB)\n",
            "Collecting nvidia-nvtx-cu12==12.1.105 (from torch->timm->-r ViG-Pediatric/requirements.txt (line 3))\n",
            "  Using cached nvidia_nvtx_cu12-12.1.105-py3-none-manylinux1_x86_64.whl (99 kB)\n",
            "Requirement already satisfied: triton==2.2.0 in /usr/local/lib/python3.10/dist-packages (from torch->timm->-r ViG-Pediatric/requirements.txt (line 3)) (2.2.0)\n",
            "Collecting nvidia-nvjitlink-cu12 (from nvidia-cusolver-cu12==11.4.5.107->torch->timm->-r ViG-Pediatric/requirements.txt (line 3))\n",
            "  Using cached nvidia_nvjitlink_cu12-12.4.127-py3-none-manylinux2014_x86_64.whl (21.1 MB)\n",
            "Requirement already satisfied: numpy in /usr/local/lib/python3.10/dist-packages (from torchvision->timm->-r ViG-Pediatric/requirements.txt (line 3)) (1.25.2)\n",
            "Requirement already satisfied: pillow!=8.3.*,>=5.3.0 in /usr/local/lib/python3.10/dist-packages (from torchvision->timm->-r ViG-Pediatric/requirements.txt (line 3)) (9.4.0)\n",
            "Requirement already satisfied: MarkupSafe>=2.0 in /usr/local/lib/python3.10/dist-packages (from jinja2->torch->timm->-r ViG-Pediatric/requirements.txt (line 3)) (2.1.5)\n",
            "Requirement already satisfied: charset-normalizer<4,>=2 in /usr/local/lib/python3.10/dist-packages (from requests->huggingface_hub->timm->-r ViG-Pediatric/requirements.txt (line 3)) (3.3.2)\n",
            "Requirement already satisfied: idna<4,>=2.5 in /usr/local/lib/python3.10/dist-packages (from requests->huggingface_hub->timm->-r ViG-Pediatric/requirements.txt (line 3)) (3.7)\n",
            "Requirement already satisfied: urllib3<3,>=1.21.1 in /usr/local/lib/python3.10/dist-packages (from requests->huggingface_hub->timm->-r ViG-Pediatric/requirements.txt (line 3)) (2.0.7)\n",
            "Requirement already satisfied: certifi>=2017.4.17 in /usr/local/lib/python3.10/dist-packages (from requests->huggingface_hub->timm->-r ViG-Pediatric/requirements.txt (line 3)) (2024.2.2)\n",
            "Requirement already satisfied: mpmath>=0.19 in /usr/local/lib/python3.10/dist-packages (from sympy->torch->timm->-r ViG-Pediatric/requirements.txt (line 3)) (1.3.0)\n",
            "Installing collected packages: nvidia-nvtx-cu12, nvidia-nvjitlink-cu12, nvidia-nccl-cu12, nvidia-curand-cu12, nvidia-cufft-cu12, nvidia-cuda-runtime-cu12, nvidia-cuda-nvrtc-cu12, nvidia-cuda-cupti-cu12, nvidia-cublas-cu12, ftfy, nvidia-cusparse-cu12, nvidia-cudnn-cu12, nvidia-cusolver-cu12, timm\n",
            "Successfully installed ftfy-6.2.0 nvidia-cublas-cu12-12.1.3.1 nvidia-cuda-cupti-cu12-12.1.105 nvidia-cuda-nvrtc-cu12-12.1.105 nvidia-cuda-runtime-cu12-12.1.105 nvidia-cudnn-cu12-8.9.2.26 nvidia-cufft-cu12-11.0.2.54 nvidia-curand-cu12-10.3.2.106 nvidia-cusolver-cu12-11.4.5.107 nvidia-cusparse-cu12-12.1.0.106 nvidia-nccl-cu12-2.19.3 nvidia-nvjitlink-cu12-12.4.127 nvidia-nvtx-cu12-12.1.105 timm-0.9.16\n"
          ]
        }
      ],
      "source": [
        "!pip install -r ViG-Pediatric/requirements.txt"
      ]
    },
    {
      "cell_type": "code",
      "execution_count": 3,
      "metadata": {
        "colab": {
          "base_uri": "https://localhost:8080/",
          "height": 1000
        },
        "id": "atO0ERu4o3Ha",
        "outputId": "4bdd1106-0e79-4cd3-a5d0-244b6427fe63"
      },
      "outputs": [
        {
          "output_type": "stream",
          "name": "stdout",
          "text": [
            "Mounting Google Drive...\n",
            "Mounted at /content/drive\n",
            "Copying files from Google Drive...\n",
            "Extracting zip files...\n",
            "\n",
            "7-Zip [64] 16.02 : Copyright (c) 1999-2016 Igor Pavlov : 2016-05-21\n",
            "p7zip Version 16.02 (locale=en_US.UTF-8,Utf16=on,HugeFiles=on,64 bits,12 CPUs Intel(R) Xeon(R) CPU @ 2.20GHz (50657),ASM,AES-NI)\n",
            "\n",
            "Scanning the drive for archives:\n",
            "  0M Scan /content/\b\b\b\b\b\b\b\b\b\b\b\b\b\b\b\b\b\b\b                   \b\b\b\b\b\b\b\b\b\b\b\b\b\b\b\b\b\b\b1 file, 22471493 bytes (22 MiB)\n",
            "\n",
            "Extracting archive: /content/ucsd.zip\n",
            " 66% 4096 Open\b\b\b\b\b\b\b\b\b\b\b\b\b\b              \b\b\b\b\b\b\b\b\b\b\b\b\b\b--\n",
            "Path = /content/ucsd.zip\n",
            "Type = zip\n",
            "Physical Size = 22471493\n",
            "\n",
            "  0%\b\b\b\b    \b\b\b\b 23% 1458 - ucsd/Train/Positive/VIRUS-8054264-0008.jpeg\b\b\b\b\b\b\b\b\b\b\b\b\b\b\b\b\b\b\b\b\b\b\b\b\b\b\b\b\b\b\b\b\b\b\b\b\b\b\b\b\b\b\b\b\b\b\b\b\b\b\b\b\b\b\b                                                       \b\b\b\b\b\b\b\b\b\b\b\b\b\b\b\b\b\b\b\b\b\b\b\b\b\b\b\b\b\b\b\b\b\b\b\b\b\b\b\b\b\b\b\b\b\b\b\b\b\b\b\b\b\b\b 37% 2408 - ucsd/Train/Positive/VIRUS-7389921-0002.jpeg\b\b\b\b\b\b\b\b\b\b\b\b\b\b\b\b\b\b\b\b\b\b\b\b\b\b\b\b\b\b\b\b\b\b\b\b\b\b\b\b\b\b\b\b\b\b\b\b\b\b\b\b\b\b\b                                                       \b\b\b\b\b\b\b\b\b\b\b\b\b\b\b\b\b\b\b\b\b\b\b\b\b\b\b\b\b\b\b\b\b\b\b\b\b\b\b\b\b\b\b\b\b\b\b\b\b\b\b\b\b\b\b 46% 2996\b\b\b\b\b\b\b\b\b         \b\b\b\b\b\b\b\b\b 62% 3985 - __MACOSX/ucsd/Train/Negative/._NORMAL-2723532-0001.jpeg\b\b\b\b\b\b\b\b\b\b\b\b\b\b\b\b\b\b\b\b\b\b\b\b\b\b\b\b\b\b\b\b\b\b\b\b\b\b\b\b\b\b\b\b\b\b\b\b\b\b\b\b\b\b\b\b\b\b\b\b\b\b\b\b\b\b\b                                                                   \b\b\b\b\b\b\b\b\b\b\b\b\b\b\b\b\b\b\b\b\b\b\b\b\b\b\b\b\b\b\b\b\b\b\b\b\b\b\b\b\b\b\b\b\b\b\b\b\b\b\b\b\b\b\b\b\b\b\b\b\b\b\b\b\b\b\b 75% 4673\b\b\b\b\b\b\b\b\b         \b\b\b\b\b\b\b\b\b 83% 5176\b\b\b\b\b\b\b\b\b         \b\b\b\b\b\b\b\b\bEverything is Ok\n",
            "\n",
            "Folders: 10\n",
            "Files: 6162\n",
            "Size:       21151375\n",
            "Compressed: 22471493\n",
            "\n",
            "7-Zip [64] 16.02 : Copyright (c) 1999-2016 Igor Pavlov : 2016-05-21\n",
            "p7zip Version 16.02 (locale=en_US.UTF-8,Utf16=on,HugeFiles=on,64 bits,12 CPUs Intel(R) Xeon(R) CPU @ 2.20GHz (50657),ASM,AES-NI)\n",
            "\n",
            "Scanning the drive for archives:\n",
            "  0M Scan /content/\b\b\b\b\b\b\b\b\b\b\b\b\b\b\b\b\b\b\b                   \b\b\b\b\b\b\b\b\b\b\b\b\b\b\b\b\b\b\b1 file, 19842873 bytes (19 MiB)\n",
            "\n",
            "Extracting archive: /content/ori.zip\n",
            "--\n",
            "Path = /content/ori.zip\n",
            "Type = zip\n",
            "Physical Size = 19842873\n",
            "\n",
            "  0%\b\b\b\b    \b\b\b\b 79% 1328\b\b\b\b\b\b\b\b\b         \b\b\b\b\b\b\b\b\bEverything is Ok\n",
            "\n",
            "Folders: 10\n",
            "Files: 1662\n",
            "Size:       19522791\n",
            "Compressed: 19842873\n",
            "Files extracted successfully.\n"
          ]
        },
        {
          "output_type": "stream",
          "name": "stderr",
          "text": [
            "WARNING:matplotlib.image:Clipping input data to the valid range for imshow with RGB data ([0..1] for floats or [0..255] for integers).\n",
            "WARNING:matplotlib.image:Clipping input data to the valid range for imshow with RGB data ([0..1] for floats or [0..255] for integers).\n",
            "WARNING:matplotlib.image:Clipping input data to the valid range for imshow with RGB data ([0..1] for floats or [0..255] for integers).\n",
            "WARNING:matplotlib.image:Clipping input data to the valid range for imshow with RGB data ([0..1] for floats or [0..255] for integers).\n",
            "WARNING:matplotlib.image:Clipping input data to the valid range for imshow with RGB data ([0..1] for floats or [0..255] for integers).\n",
            "WARNING:matplotlib.image:Clipping input data to the valid range for imshow with RGB data ([0..1] for floats or [0..255] for integers).\n"
          ]
        },
        {
          "output_type": "stream",
          "name": "stdout",
          "text": [
            "Results saved to results/visualization/finetune/ucsd/resnet50/images/cxr_images.png\n"
          ]
        },
        {
          "output_type": "stream",
          "name": "stderr",
          "text": [
            "/usr/local/lib/python3.10/dist-packages/torchvision/models/inception.py:43: FutureWarning: The default weight initialization of inception_v3 will be changed in future releases of torchvision. If you wish to keep the old behavior (which leads to long initialization times due to scipy/scipy#11299), please set init_weights=True.\n",
            "  warnings.warn(\n"
          ]
        },
        {
          "output_type": "stream",
          "name": "stdout",
          "text": [
            "NVIDIA library configured successfully.\n"
          ]
        },
        {
          "output_type": "stream",
          "name": "stderr",
          "text": [
            "/usr/lib/python3.10/multiprocessing/popen_fork.py:66: RuntimeWarning: os.fork() was called. os.fork() is incompatible with multithreaded code, and JAX is multithreaded, so this will likely lead to a deadlock.\n",
            "  self.pid = os.fork()\n",
            "/usr/lib/python3.10/multiprocessing/popen_fork.py:66: RuntimeWarning: os.fork() was called. os.fork() is incompatible with multithreaded code, and JAX is multithreaded, so this will likely lead to a deadlock.\n",
            "  self.pid = os.fork()\n",
            "Epoch 1/50, Train:   0%|          | 0/16 [00:00<?, ?it/s]/usr/local/lib/python3.10/dist-packages/torch/_inductor/compile_fx.py:140: UserWarning: TensorFloat32 tensor cores for float32 matrix multiplication available but not enabled. Consider setting `torch.set_float32_matmul_precision('high')` for better performance.\n",
            "  warnings.warn(\n",
            "Epoch 1/50, Train: 100%|██████████| 16/16 [02:14<00:00,  8.43s/it]\n",
            "Epoch 1/50, Validation: 100%|██████████| 4/4 [00:42<00:00, 10.63s/it]\n",
            "Evaluate Train: 100%|██████████| 16/16 [00:39<00:00,  2.50s/it]\n",
            "/usr/local/lib/python3.10/dist-packages/sklearn/metrics/_classification.py:1344: UndefinedMetricWarning: Precision and F-score are ill-defined and being set to 0.0 in labels with no predicted samples. Use `zero_division` parameter to control this behavior.\n",
            "  _warn_prf(average, modifier, msg_start, len(result))\n",
            "/usr/local/lib/python3.10/dist-packages/sklearn/metrics/_classification.py:1344: UndefinedMetricWarning: Precision and F-score are ill-defined and being set to 0.0 in labels with no predicted samples. Use `zero_division` parameter to control this behavior.\n",
            "  _warn_prf(average, modifier, msg_start, len(result))\n",
            "/usr/local/lib/python3.10/dist-packages/sklearn/metrics/_classification.py:1344: UndefinedMetricWarning: Precision and F-score are ill-defined and being set to 0.0 in labels with no predicted samples. Use `zero_division` parameter to control this behavior.\n",
            "  _warn_prf(average, modifier, msg_start, len(result))\n",
            "Evaluate Validation: 100%|██████████| 4/4 [00:05<00:00,  1.37s/it]\n",
            "/usr/local/lib/python3.10/dist-packages/sklearn/metrics/_classification.py:1344: UndefinedMetricWarning: Precision and F-score are ill-defined and being set to 0.0 in labels with no predicted samples. Use `zero_division` parameter to control this behavior.\n",
            "  _warn_prf(average, modifier, msg_start, len(result))\n",
            "/usr/local/lib/python3.10/dist-packages/sklearn/metrics/_classification.py:1344: UndefinedMetricWarning: Precision and F-score are ill-defined and being set to 0.0 in labels with no predicted samples. Use `zero_division` parameter to control this behavior.\n",
            "  _warn_prf(average, modifier, msg_start, len(result))\n",
            "/usr/local/lib/python3.10/dist-packages/sklearn/metrics/_classification.py:1344: UndefinedMetricWarning: Precision and F-score are ill-defined and being set to 0.0 in labels with no predicted samples. Use `zero_division` parameter to control this behavior.\n",
            "  _warn_prf(average, modifier, msg_start, len(result))\n"
          ]
        },
        {
          "output_type": "stream",
          "name": "stdout",
          "text": [
            "Epoch 1/50\n",
            "Train - Loss: 0.5949, Accuracy: 0.4855, Precision: 0.4855, Recall: 1.0000, AUC: 0.6060\n",
            "Val - Loss: 0.9717, Accuracy: 0.4848, Precision: 0.4848, Recall: 1.0000, AUC: 0.5870\n"
          ]
        },
        {
          "output_type": "stream",
          "name": "stderr",
          "text": [
            "Epoch 2/50, Train: 100%|██████████| 16/16 [00:22<00:00,  1.42s/it]\n",
            "Epoch 2/50, Validation: 100%|██████████| 4/4 [00:05<00:00,  1.26s/it]\n",
            "Evaluate Train: 100%|██████████| 16/16 [00:21<00:00,  1.34s/it]\n",
            "/usr/local/lib/python3.10/dist-packages/sklearn/metrics/_classification.py:1344: UndefinedMetricWarning: Precision and F-score are ill-defined and being set to 0.0 in labels with no predicted samples. Use `zero_division` parameter to control this behavior.\n",
            "  _warn_prf(average, modifier, msg_start, len(result))\n",
            "/usr/local/lib/python3.10/dist-packages/sklearn/metrics/_classification.py:1344: UndefinedMetricWarning: Precision and F-score are ill-defined and being set to 0.0 in labels with no predicted samples. Use `zero_division` parameter to control this behavior.\n",
            "  _warn_prf(average, modifier, msg_start, len(result))\n",
            "/usr/local/lib/python3.10/dist-packages/sklearn/metrics/_classification.py:1344: UndefinedMetricWarning: Precision and F-score are ill-defined and being set to 0.0 in labels with no predicted samples. Use `zero_division` parameter to control this behavior.\n",
            "  _warn_prf(average, modifier, msg_start, len(result))\n",
            "Evaluate Validation: 100%|██████████| 4/4 [00:04<00:00,  1.23s/it]\n",
            "/usr/local/lib/python3.10/dist-packages/sklearn/metrics/_classification.py:1344: UndefinedMetricWarning: Precision and F-score are ill-defined and being set to 0.0 in labels with no predicted samples. Use `zero_division` parameter to control this behavior.\n",
            "  _warn_prf(average, modifier, msg_start, len(result))\n",
            "/usr/local/lib/python3.10/dist-packages/sklearn/metrics/_classification.py:1344: UndefinedMetricWarning: Precision and F-score are ill-defined and being set to 0.0 in labels with no predicted samples. Use `zero_division` parameter to control this behavior.\n",
            "  _warn_prf(average, modifier, msg_start, len(result))\n",
            "/usr/local/lib/python3.10/dist-packages/sklearn/metrics/_classification.py:1344: UndefinedMetricWarning: Precision and F-score are ill-defined and being set to 0.0 in labels with no predicted samples. Use `zero_division` parameter to control this behavior.\n",
            "  _warn_prf(average, modifier, msg_start, len(result))\n"
          ]
        },
        {
          "output_type": "stream",
          "name": "stdout",
          "text": [
            "Epoch 2/50\n",
            "Train - Loss: 0.4945, Accuracy: 0.4855, Precision: 0.4855, Recall: 1.0000, AUC: 0.7306\n",
            "Val - Loss: 1.5530, Accuracy: 0.4848, Precision: 0.4848, Recall: 1.0000, AUC: 0.6949\n"
          ]
        },
        {
          "output_type": "stream",
          "name": "stderr",
          "text": [
            "Epoch 3/50, Train: 100%|██████████| 16/16 [00:23<00:00,  1.47s/it]\n",
            "Epoch 3/50, Validation: 100%|██████████| 4/4 [00:05<00:00,  1.39s/it]\n",
            "Evaluate Train: 100%|██████████| 16/16 [00:22<00:00,  1.40s/it]\n",
            "Evaluate Validation: 100%|██████████| 4/4 [00:05<00:00,  1.48s/it]\n"
          ]
        },
        {
          "output_type": "stream",
          "name": "stdout",
          "text": [
            "Epoch 3/50\n",
            "Train - Loss: 0.4379, Accuracy: 0.4891, Precision: 0.4872, Recall: 1.0000, AUC: 0.8420\n",
            "Val - Loss: 1.2071, Accuracy: 0.4909, Precision: 0.4878, Recall: 1.0000, AUC: 0.8086\n"
          ]
        },
        {
          "output_type": "stream",
          "name": "stderr",
          "text": [
            "Epoch 4/50, Train: 100%|██████████| 16/16 [00:23<00:00,  1.48s/it]\n",
            "Epoch 4/50, Validation: 100%|██████████| 4/4 [00:05<00:00,  1.49s/it]\n",
            "Evaluate Train: 100%|██████████| 16/16 [00:21<00:00,  1.34s/it]\n",
            "Evaluate Validation: 100%|██████████| 4/4 [00:05<00:00,  1.37s/it]\n"
          ]
        },
        {
          "output_type": "stream",
          "name": "stdout",
          "text": [
            "Epoch 4/50\n",
            "Train - Loss: 0.3839, Accuracy: 0.7539, Precision: 0.6759, Recall: 0.9476, AUC: 0.9089\n",
            "Val - Loss: 0.5112, Accuracy: 0.7302, Precision: 0.6559, Recall: 0.9331, AUC: 0.8888\n"
          ]
        },
        {
          "output_type": "stream",
          "name": "stderr",
          "text": [
            "Epoch 5/50, Train: 100%|██████████| 16/16 [00:23<00:00,  1.48s/it]\n",
            "Epoch 5/50, Validation: 100%|██████████| 4/4 [00:05<00:00,  1.34s/it]\n",
            "Evaluate Train: 100%|██████████| 16/16 [00:22<00:00,  1.41s/it]\n",
            "Evaluate Validation: 100%|██████████| 4/4 [00:05<00:00,  1.35s/it]\n"
          ]
        },
        {
          "output_type": "stream",
          "name": "stdout",
          "text": [
            "Epoch 5/50\n",
            "Train - Loss: 0.3730, Accuracy: 0.8363, Precision: 0.7972, Recall: 0.8890, AUC: 0.9122\n",
            "Val - Loss: 0.4123, Accuracy: 0.8235, Precision: 0.7879, Recall: 0.8703, AUC: 0.9031\n"
          ]
        },
        {
          "output_type": "stream",
          "name": "stderr",
          "text": [
            "Epoch 6/50, Train: 100%|██████████| 16/16 [00:22<00:00,  1.42s/it]\n",
            "Epoch 6/50, Validation: 100%|██████████| 4/4 [00:05<00:00,  1.28s/it]\n",
            "Evaluate Train: 100%|██████████| 16/16 [00:25<00:00,  1.57s/it]\n",
            "Evaluate Validation: 100%|██████████| 4/4 [00:04<00:00,  1.22s/it]\n"
          ]
        },
        {
          "output_type": "stream",
          "name": "stdout",
          "text": [
            "Epoch 6/50\n",
            "Train - Loss: 0.3691, Accuracy: 0.8475, Precision: 0.8047, Recall: 0.9058, AUC: 0.9220\n",
            "Val - Loss: 0.3926, Accuracy: 0.8174, Precision: 0.7790, Recall: 0.8703, AUC: 0.9092\n"
          ]
        },
        {
          "output_type": "stream",
          "name": "stderr",
          "text": [
            "Epoch 7/50, Train: 100%|██████████| 16/16 [00:22<00:00,  1.42s/it]\n",
            "Epoch 7/50, Validation: 100%|██████████| 4/4 [00:05<00:00,  1.29s/it]\n",
            "Evaluate Train: 100%|██████████| 16/16 [00:22<00:00,  1.42s/it]\n",
            "Evaluate Validation: 100%|██████████| 4/4 [00:05<00:00,  1.35s/it]\n"
          ]
        },
        {
          "output_type": "stream",
          "name": "stdout",
          "text": [
            "Epoch 7/50\n",
            "Train - Loss: 0.3648, Accuracy: 0.8607, Precision: 0.8408, Recall: 0.8796, AUC: 0.9242\n",
            "Val - Loss: 0.3739, Accuracy: 0.8398, Precision: 0.8252, Recall: 0.8494, AUC: 0.9143\n"
          ]
        },
        {
          "output_type": "stream",
          "name": "stderr",
          "text": [
            "Epoch 8/50, Train: 100%|██████████| 16/16 [00:24<00:00,  1.55s/it]\n",
            "Epoch 8/50, Validation: 100%|██████████| 4/4 [00:06<00:00,  1.51s/it]\n",
            "Evaluate Train: 100%|██████████| 16/16 [00:23<00:00,  1.44s/it]\n",
            "Evaluate Validation: 100%|██████████| 4/4 [00:06<00:00,  1.55s/it]\n"
          ]
        },
        {
          "output_type": "stream",
          "name": "stdout",
          "text": [
            "Epoch 8/50\n",
            "Train - Loss: 0.3337, Accuracy: 0.8658, Precision: 0.8351, Recall: 0.9016, AUC: 0.9313\n",
            "Val - Loss: 0.3666, Accuracy: 0.8580, Precision: 0.8340, Recall: 0.8828, AUC: 0.9190\n"
          ]
        },
        {
          "output_type": "stream",
          "name": "stderr",
          "text": [
            "Epoch 9/50, Train: 100%|██████████| 16/16 [00:23<00:00,  1.46s/it]\n",
            "Epoch 9/50, Validation: 100%|██████████| 4/4 [00:05<00:00,  1.35s/it]\n",
            "Evaluate Train: 100%|██████████| 16/16 [00:22<00:00,  1.42s/it]\n",
            "Evaluate Validation: 100%|██████████| 4/4 [00:06<00:00,  1.50s/it]\n"
          ]
        },
        {
          "output_type": "stream",
          "name": "stdout",
          "text": [
            "Epoch 9/50\n",
            "Train - Loss: 0.3338, Accuracy: 0.8760, Precision: 0.8654, Recall: 0.8817, AUC: 0.9356\n",
            "Val - Loss: 0.3368, Accuracy: 0.8580, Precision: 0.8536, Recall: 0.8536, AUC: 0.9239\n"
          ]
        },
        {
          "output_type": "stream",
          "name": "stderr",
          "text": [
            "Epoch 10/50, Train: 100%|██████████| 16/16 [00:24<00:00,  1.54s/it]\n",
            "Epoch 10/50, Validation: 100%|██████████| 4/4 [00:05<00:00,  1.35s/it]\n",
            "Evaluate Train: 100%|██████████| 16/16 [00:23<00:00,  1.48s/it]\n",
            "Evaluate Validation: 100%|██████████| 4/4 [00:05<00:00,  1.26s/it]\n"
          ]
        },
        {
          "output_type": "stream",
          "name": "stdout",
          "text": [
            "Epoch 10/50\n",
            "Train - Loss: 0.3250, Accuracy: 0.8882, Precision: 0.8769, Recall: 0.8953, AUC: 0.9421\n",
            "Val - Loss: 0.3388, Accuracy: 0.8661, Precision: 0.8619, Recall: 0.8619, AUC: 0.9278\n"
          ]
        },
        {
          "output_type": "stream",
          "name": "stderr",
          "text": [
            "Epoch 11/50, Train: 100%|██████████| 16/16 [00:22<00:00,  1.44s/it]\n",
            "Epoch 11/50, Validation: 100%|██████████| 4/4 [00:04<00:00,  1.21s/it]\n",
            "Evaluate Train: 100%|██████████| 16/16 [00:20<00:00,  1.28s/it]\n",
            "Evaluate Validation: 100%|██████████| 4/4 [00:05<00:00,  1.38s/it]\n"
          ]
        },
        {
          "output_type": "stream",
          "name": "stdout",
          "text": [
            "Epoch 11/50\n",
            "Train - Loss: 0.3063, Accuracy: 0.8815, Precision: 0.8714, Recall: 0.8869, AUC: 0.9425\n",
            "Val - Loss: 0.3280, Accuracy: 0.8722, Precision: 0.8697, Recall: 0.8661, AUC: 0.9330\n"
          ]
        },
        {
          "output_type": "stream",
          "name": "stderr",
          "text": [
            "Epoch 12/50, Train: 100%|██████████| 16/16 [00:22<00:00,  1.38s/it]\n",
            "Epoch 12/50, Validation: 100%|██████████| 4/4 [00:05<00:00,  1.44s/it]\n",
            "Evaluate Train: 100%|██████████| 16/16 [00:23<00:00,  1.45s/it]\n",
            "Evaluate Validation: 100%|██████████| 4/4 [00:04<00:00,  1.22s/it]\n"
          ]
        },
        {
          "output_type": "stream",
          "name": "stdout",
          "text": [
            "Epoch 12/50\n",
            "Train - Loss: 0.2950, Accuracy: 0.8907, Precision: 0.8953, Recall: 0.8775, AUC: 0.9459\n",
            "Val - Loss: 0.3137, Accuracy: 0.8702, Precision: 0.8924, Recall: 0.8326, AUC: 0.9339\n"
          ]
        },
        {
          "output_type": "stream",
          "name": "stderr",
          "text": [
            "Epoch 13/50, Train: 100%|██████████| 16/16 [00:24<00:00,  1.51s/it]\n",
            "Epoch 13/50, Validation: 100%|██████████| 4/4 [00:05<00:00,  1.25s/it]\n",
            "Evaluate Train: 100%|██████████| 16/16 [00:22<00:00,  1.43s/it]\n",
            "Evaluate Validation: 100%|██████████| 4/4 [00:05<00:00,  1.47s/it]\n"
          ]
        },
        {
          "output_type": "stream",
          "name": "stdout",
          "text": [
            "Epoch 13/50\n",
            "Train - Loss: 0.2964, Accuracy: 0.8937, Precision: 0.8960, Recall: 0.8838, AUC: 0.9507\n",
            "Val - Loss: 0.2997, Accuracy: 0.8824, Precision: 0.9022, Recall: 0.8494, AUC: 0.9405\n"
          ]
        },
        {
          "output_type": "stream",
          "name": "stderr",
          "text": [
            "Epoch 14/50, Train: 100%|██████████| 16/16 [00:22<00:00,  1.40s/it]\n",
            "Epoch 14/50, Validation: 100%|██████████| 4/4 [00:05<00:00,  1.38s/it]\n",
            "Evaluate Train: 100%|██████████| 16/16 [00:21<00:00,  1.37s/it]\n",
            "Evaluate Validation: 100%|██████████| 4/4 [00:05<00:00,  1.32s/it]\n"
          ]
        },
        {
          "output_type": "stream",
          "name": "stdout",
          "text": [
            "Epoch 14/50\n",
            "Train - Loss: 0.2751, Accuracy: 0.8963, Precision: 0.9007, Recall: 0.8838, AUC: 0.9511\n",
            "Val - Loss: 0.2938, Accuracy: 0.9006, Precision: 0.9130, Recall: 0.8787, AUC: 0.9497\n"
          ]
        },
        {
          "output_type": "stream",
          "name": "stderr",
          "text": [
            "Epoch 15/50, Train: 100%|██████████| 16/16 [00:23<00:00,  1.49s/it]\n",
            "Epoch 15/50, Validation: 100%|██████████| 4/4 [00:06<00:00,  1.50s/it]\n",
            "Evaluate Train: 100%|██████████| 16/16 [00:21<00:00,  1.34s/it]\n",
            "Evaluate Validation: 100%|██████████| 4/4 [00:05<00:00,  1.37s/it]\n"
          ]
        },
        {
          "output_type": "stream",
          "name": "stdout",
          "text": [
            "Epoch 15/50\n",
            "Train - Loss: 0.2783, Accuracy: 0.9024, Precision: 0.9215, Recall: 0.8733, AUC: 0.9549\n",
            "Val - Loss: 0.2942, Accuracy: 0.8905, Precision: 0.9148, Recall: 0.8536, AUC: 0.9457\n"
          ]
        },
        {
          "output_type": "stream",
          "name": "stderr",
          "text": [
            "Epoch 16/50, Train: 100%|██████████| 16/16 [00:22<00:00,  1.38s/it]\n",
            "Epoch 16/50, Validation: 100%|██████████| 4/4 [00:05<00:00,  1.29s/it]\n",
            "Evaluate Train: 100%|██████████| 16/16 [00:21<00:00,  1.31s/it]\n",
            "Evaluate Validation: 100%|██████████| 4/4 [00:05<00:00,  1.47s/it]\n"
          ]
        },
        {
          "output_type": "stream",
          "name": "stdout",
          "text": [
            "Epoch 16/50\n",
            "Train - Loss: 0.2788, Accuracy: 0.8937, Precision: 0.9337, Recall: 0.8408, AUC: 0.9545\n",
            "Val - Loss: 0.2827, Accuracy: 0.8844, Precision: 0.9417, Recall: 0.8117, AUC: 0.9495\n"
          ]
        },
        {
          "output_type": "stream",
          "name": "stderr",
          "text": [
            "Epoch 17/50, Train: 100%|██████████| 16/16 [00:25<00:00,  1.61s/it]\n",
            "Epoch 17/50, Validation: 100%|██████████| 4/4 [00:06<00:00,  1.58s/it]\n",
            "Evaluate Train: 100%|██████████| 16/16 [00:23<00:00,  1.48s/it]\n",
            "Evaluate Validation: 100%|██████████| 4/4 [00:06<00:00,  1.54s/it]\n"
          ]
        },
        {
          "output_type": "stream",
          "name": "stdout",
          "text": [
            "Epoch 17/50\n",
            "Train - Loss: 0.2707, Accuracy: 0.8958, Precision: 0.9185, Recall: 0.8618, AUC: 0.9582\n",
            "Val - Loss: 0.2691, Accuracy: 0.8905, Precision: 0.9302, Recall: 0.8368, AUC: 0.9476\n"
          ]
        },
        {
          "output_type": "stream",
          "name": "stderr",
          "text": [
            "Epoch 18/50, Train: 100%|██████████| 16/16 [00:23<00:00,  1.45s/it]\n",
            "Epoch 18/50, Validation: 100%|██████████| 4/4 [00:05<00:00,  1.37s/it]\n",
            "Evaluate Train: 100%|██████████| 16/16 [00:22<00:00,  1.44s/it]\n",
            "Evaluate Validation: 100%|██████████| 4/4 [00:06<00:00,  1.57s/it]\n"
          ]
        },
        {
          "output_type": "stream",
          "name": "stdout",
          "text": [
            "Epoch 18/50\n",
            "Train - Loss: 0.2608, Accuracy: 0.9070, Precision: 0.9080, Recall: 0.8995, AUC: 0.9629\n",
            "Val - Loss: 0.2643, Accuracy: 0.8986, Precision: 0.9200, Recall: 0.8661, AUC: 0.9507\n"
          ]
        },
        {
          "output_type": "stream",
          "name": "stderr",
          "text": [
            "Epoch 19/50, Train: 100%|██████████| 16/16 [00:22<00:00,  1.42s/it]\n",
            "Epoch 19/50, Validation: 100%|██████████| 4/4 [00:05<00:00,  1.36s/it]\n",
            "Evaluate Train: 100%|██████████| 16/16 [00:23<00:00,  1.48s/it]\n",
            "Evaluate Validation: 100%|██████████| 4/4 [00:05<00:00,  1.50s/it]\n"
          ]
        },
        {
          "output_type": "stream",
          "name": "stdout",
          "text": [
            "Epoch 19/50\n",
            "Train - Loss: 0.2763, Accuracy: 0.9080, Precision: 0.8925, Recall: 0.9215, AUC: 0.9651\n",
            "Val - Loss: 0.2590, Accuracy: 0.9006, Precision: 0.8992, Recall: 0.8954, AUC: 0.9571\n"
          ]
        },
        {
          "output_type": "stream",
          "name": "stderr",
          "text": [
            "Epoch 20/50, Train: 100%|██████████| 16/16 [00:24<00:00,  1.53s/it]\n",
            "Epoch 20/50, Validation: 100%|██████████| 4/4 [00:05<00:00,  1.36s/it]\n",
            "Evaluate Train: 100%|██████████| 16/16 [00:23<00:00,  1.48s/it]\n",
            "Evaluate Validation: 100%|██████████| 4/4 [00:06<00:00,  1.50s/it]\n"
          ]
        },
        {
          "output_type": "stream",
          "name": "stdout",
          "text": [
            "Epoch 20/50\n",
            "Train - Loss: 0.2514, Accuracy: 0.9039, Precision: 0.9163, Recall: 0.8827, AUC: 0.9627\n",
            "Val - Loss: 0.2575, Accuracy: 0.8864, Precision: 0.9336, Recall: 0.8243, AUC: 0.9580\n"
          ]
        },
        {
          "output_type": "stream",
          "name": "stderr",
          "text": [
            "Epoch 21/50, Train: 100%|██████████| 16/16 [00:24<00:00,  1.51s/it]\n",
            "Epoch 21/50, Validation: 100%|██████████| 4/4 [00:05<00:00,  1.45s/it]\n",
            "Evaluate Train: 100%|██████████| 16/16 [00:23<00:00,  1.45s/it]\n",
            "Evaluate Validation: 100%|██████████| 4/4 [00:05<00:00,  1.37s/it]\n"
          ]
        },
        {
          "output_type": "stream",
          "name": "stdout",
          "text": [
            "Epoch 21/50\n",
            "Train - Loss: 0.2392, Accuracy: 0.9126, Precision: 0.9065, Recall: 0.9141, AUC: 0.9645\n",
            "Val - Loss: 0.2635, Accuracy: 0.9128, Precision: 0.9336, Recall: 0.8828, AUC: 0.9620\n"
          ]
        },
        {
          "output_type": "stream",
          "name": "stderr",
          "text": [
            "Epoch 22/50, Train: 100%|██████████| 16/16 [00:24<00:00,  1.53s/it]\n",
            "Epoch 22/50, Validation: 100%|██████████| 4/4 [00:05<00:00,  1.37s/it]\n",
            "Evaluate Train: 100%|██████████| 16/16 [00:21<00:00,  1.34s/it]\n",
            "Evaluate Validation: 100%|██████████| 4/4 [00:05<00:00,  1.37s/it]\n"
          ]
        },
        {
          "output_type": "stream",
          "name": "stdout",
          "text": [
            "Epoch 22/50\n",
            "Train - Loss: 0.2466, Accuracy: 0.9176, Precision: 0.9381, Recall: 0.8890, AUC: 0.9680\n",
            "Val - Loss: 0.2748, Accuracy: 0.8986, Precision: 0.9355, Recall: 0.8494, AUC: 0.9605\n"
          ]
        },
        {
          "output_type": "stream",
          "name": "stderr",
          "text": [
            "Epoch 23/50, Train: 100%|██████████| 16/16 [00:22<00:00,  1.44s/it]\n",
            "Epoch 23/50, Validation: 100%|██████████| 4/4 [00:06<00:00,  1.54s/it]\n",
            "Evaluate Train: 100%|██████████| 16/16 [00:22<00:00,  1.40s/it]\n",
            "Evaluate Validation: 100%|██████████| 4/4 [00:05<00:00,  1.37s/it]\n"
          ]
        },
        {
          "output_type": "stream",
          "name": "stdout",
          "text": [
            "Epoch 23/50\n",
            "Train - Loss: 0.2580, Accuracy: 0.9120, Precision: 0.9443, Recall: 0.8702, AUC: 0.9681\n",
            "Val - Loss: 0.2737, Accuracy: 0.9087, Precision: 0.9533, Recall: 0.8536, AUC: 0.9607\n"
          ]
        },
        {
          "output_type": "stream",
          "name": "stderr",
          "text": [
            "Epoch 24/50, Train: 100%|██████████| 16/16 [00:23<00:00,  1.50s/it]\n",
            "Epoch 24/50, Validation: 100%|██████████| 4/4 [00:06<00:00,  1.51s/it]\n",
            "Evaluate Train: 100%|██████████| 16/16 [00:22<00:00,  1.43s/it]\n",
            "Evaluate Validation: 100%|██████████| 4/4 [00:05<00:00,  1.30s/it]\n"
          ]
        },
        {
          "output_type": "stream",
          "name": "stdout",
          "text": [
            "Epoch 24/50\n",
            "Train - Loss: 0.2342, Accuracy: 0.9146, Precision: 0.9155, Recall: 0.9079, AUC: 0.9674\n",
            "Val - Loss: 0.2471, Accuracy: 0.9067, Precision: 0.9214, Recall: 0.8828, AUC: 0.9611\n"
          ]
        },
        {
          "output_type": "stream",
          "name": "stderr",
          "text": [
            "Epoch 25/50, Train: 100%|██████████| 16/16 [00:23<00:00,  1.46s/it]\n",
            "Epoch 25/50, Validation: 100%|██████████| 4/4 [00:05<00:00,  1.37s/it]\n",
            "Evaluate Train: 100%|██████████| 16/16 [00:22<00:00,  1.43s/it]\n",
            "Evaluate Validation: 100%|██████████| 4/4 [00:05<00:00,  1.35s/it]\n"
          ]
        },
        {
          "output_type": "stream",
          "name": "stdout",
          "text": [
            "Epoch 25/50\n",
            "Train - Loss: 0.2349, Accuracy: 0.9034, Precision: 0.9495, Recall: 0.8461, AUC: 0.9682\n",
            "Val - Loss: 0.2960, Accuracy: 0.9047, Precision: 0.9571, Recall: 0.8410, AUC: 0.9543\n"
          ]
        },
        {
          "output_type": "stream",
          "name": "stderr",
          "text": [
            "Epoch 26/50, Train: 100%|██████████| 16/16 [00:24<00:00,  1.54s/it]\n",
            "Epoch 26/50, Validation: 100%|██████████| 4/4 [00:05<00:00,  1.39s/it]\n",
            "Evaluate Train: 100%|██████████| 16/16 [00:24<00:00,  1.53s/it]\n",
            "Evaluate Validation: 100%|██████████| 4/4 [00:05<00:00,  1.34s/it]\n"
          ]
        },
        {
          "output_type": "stream",
          "name": "stdout",
          "text": [
            "Epoch 26/50\n",
            "Train - Loss: 0.2287, Accuracy: 0.9141, Precision: 0.8946, Recall: 0.9330, AUC: 0.9696\n",
            "Val - Loss: 0.2451, Accuracy: 0.9026, Precision: 0.9030, Recall: 0.8954, AUC: 0.9607\n"
          ]
        },
        {
          "output_type": "stream",
          "name": "stderr",
          "text": [
            "Epoch 27/50, Train: 100%|██████████| 16/16 [00:22<00:00,  1.41s/it]\n",
            "Epoch 27/50, Validation: 100%|██████████| 4/4 [00:05<00:00,  1.26s/it]\n",
            "Evaluate Train: 100%|██████████| 16/16 [00:21<00:00,  1.35s/it]\n",
            "Evaluate Validation: 100%|██████████| 4/4 [00:05<00:00,  1.37s/it]\n"
          ]
        },
        {
          "output_type": "stream",
          "name": "stdout",
          "text": [
            "Epoch 27/50\n",
            "Train - Loss: 0.2465, Accuracy: 0.9212, Precision: 0.9396, Recall: 0.8953, AUC: 0.9691\n",
            "Val - Loss: 0.2666, Accuracy: 0.9026, Precision: 0.9321, Recall: 0.8619, AUC: 0.9613\n"
          ]
        },
        {
          "output_type": "stream",
          "name": "stderr",
          "text": [
            "Epoch 28/50, Train: 100%|██████████| 16/16 [00:23<00:00,  1.46s/it]\n",
            "Epoch 28/50, Validation: 100%|██████████| 4/4 [00:05<00:00,  1.38s/it]\n",
            "Evaluate Train: 100%|██████████| 16/16 [00:22<00:00,  1.42s/it]\n",
            "Evaluate Validation: 100%|██████████| 4/4 [00:05<00:00,  1.33s/it]\n"
          ]
        },
        {
          "output_type": "stream",
          "name": "stdout",
          "text": [
            "Epoch 28/50\n",
            "Train - Loss: 0.2389, Accuracy: 0.9085, Precision: 0.9349, Recall: 0.8723, AUC: 0.9679\n",
            "Val - Loss: 0.2631, Accuracy: 0.9047, Precision: 0.9404, Recall: 0.8577, AUC: 0.9645\n"
          ]
        },
        {
          "output_type": "stream",
          "name": "stderr",
          "text": [
            "Epoch 29/50, Train: 100%|██████████| 16/16 [00:23<00:00,  1.49s/it]\n",
            "Epoch 29/50, Validation: 100%|██████████| 4/4 [00:05<00:00,  1.26s/it]\n",
            "Evaluate Train: 100%|██████████| 16/16 [00:22<00:00,  1.43s/it]\n",
            "Evaluate Validation: 100%|██████████| 4/4 [00:05<00:00,  1.29s/it]\n"
          ]
        },
        {
          "output_type": "stream",
          "name": "stdout",
          "text": [
            "Epoch 29/50\n",
            "Train - Loss: 0.2317, Accuracy: 0.8988, Precision: 0.9587, Recall: 0.8272, AUC: 0.9679\n",
            "Val - Loss: 0.3017, Accuracy: 0.8763, Precision: 0.9541, Recall: 0.7824, AUC: 0.9629\n"
          ]
        },
        {
          "output_type": "stream",
          "name": "stderr",
          "text": [
            "Epoch 30/50, Train: 100%|██████████| 16/16 [00:24<00:00,  1.55s/it]\n",
            "Epoch 30/50, Validation: 100%|██████████| 4/4 [00:05<00:00,  1.35s/it]\n",
            "Evaluate Train: 100%|██████████| 16/16 [00:23<00:00,  1.45s/it]\n",
            "Evaluate Validation: 100%|██████████| 4/4 [00:05<00:00,  1.37s/it]\n"
          ]
        },
        {
          "output_type": "stream",
          "name": "stdout",
          "text": [
            "Epoch 30/50\n",
            "Train - Loss: 0.2425, Accuracy: 0.9176, Precision: 0.9042, Recall: 0.9288, AUC: 0.9684\n",
            "Val - Loss: 0.2490, Accuracy: 0.9006, Precision: 0.9025, Recall: 0.8912, AUC: 0.9621\n"
          ]
        },
        {
          "output_type": "stream",
          "name": "stderr",
          "text": [
            "Epoch 31/50, Train: 100%|██████████| 16/16 [00:22<00:00,  1.43s/it]\n",
            "Epoch 31/50, Validation: 100%|██████████| 4/4 [00:05<00:00,  1.37s/it]\n",
            "Evaluate Train: 100%|██████████| 16/16 [00:23<00:00,  1.45s/it]\n",
            "Evaluate Validation: 100%|██████████| 4/4 [00:05<00:00,  1.38s/it]\n"
          ]
        },
        {
          "output_type": "stream",
          "name": "stdout",
          "text": [
            "Epoch 31/50\n",
            "Train - Loss: 0.2247, Accuracy: 0.9100, Precision: 0.8844, Recall: 0.9372, AUC: 0.9725\n",
            "Val - Loss: 0.2357, Accuracy: 0.9087, Precision: 0.9042, Recall: 0.9079, AUC: 0.9631\n"
          ]
        },
        {
          "output_type": "stream",
          "name": "stderr",
          "text": [
            "Epoch 32/50, Train: 100%|██████████| 16/16 [00:22<00:00,  1.40s/it]\n",
            "Epoch 32/50, Validation: 100%|██████████| 4/4 [00:06<00:00,  1.64s/it]\n",
            "Evaluate Train: 100%|██████████| 16/16 [00:20<00:00,  1.28s/it]\n",
            "Evaluate Validation: 100%|██████████| 4/4 [00:05<00:00,  1.37s/it]\n"
          ]
        },
        {
          "output_type": "stream",
          "name": "stdout",
          "text": [
            "Epoch 32/50\n",
            "Train - Loss: 0.2339, Accuracy: 0.8932, Precision: 0.9616, Recall: 0.8126, AUC: 0.9735\n",
            "Val - Loss: 0.3163, Accuracy: 0.8824, Precision: 0.9458, Recall: 0.8033, AUC: 0.9600\n"
          ]
        },
        {
          "output_type": "stream",
          "name": "stderr",
          "text": [
            "Epoch 33/50, Train: 100%|██████████| 16/16 [00:24<00:00,  1.54s/it]\n",
            "Epoch 33/50, Validation: 100%|██████████| 4/4 [00:06<00:00,  1.70s/it]\n",
            "Evaluate Train: 100%|██████████| 16/16 [00:23<00:00,  1.46s/it]\n",
            "Evaluate Validation: 100%|██████████| 4/4 [00:06<00:00,  1.55s/it]\n"
          ]
        },
        {
          "output_type": "stream",
          "name": "stdout",
          "text": [
            "Epoch 33/50\n",
            "Train - Loss: 0.2196, Accuracy: 0.9014, Precision: 0.8648, Recall: 0.9445, AUC: 0.9707\n",
            "Val - Loss: 0.2428, Accuracy: 0.9067, Precision: 0.8726, Recall: 0.9456, AUC: 0.9649\n"
          ]
        },
        {
          "output_type": "stream",
          "name": "stderr",
          "text": [
            "Epoch 34/50, Train: 100%|██████████| 16/16 [00:23<00:00,  1.48s/it]\n",
            "Epoch 34/50, Validation: 100%|██████████| 4/4 [00:06<00:00,  1.61s/it]\n",
            "Evaluate Train: 100%|██████████| 16/16 [00:21<00:00,  1.36s/it]\n",
            "Evaluate Validation: 100%|██████████| 4/4 [00:06<00:00,  1.55s/it]\n"
          ]
        },
        {
          "output_type": "stream",
          "name": "stdout",
          "text": [
            "Epoch 34/50\n",
            "Train - Loss: 0.2186, Accuracy: 0.9176, Precision: 0.9410, Recall: 0.8859, AUC: 0.9710\n",
            "Val - Loss: 0.2335, Accuracy: 0.9128, Precision: 0.9455, Recall: 0.8703, AUC: 0.9663\n"
          ]
        },
        {
          "output_type": "stream",
          "name": "stderr",
          "text": [
            "Epoch 35/50, Train: 100%|██████████| 16/16 [00:23<00:00,  1.45s/it]\n",
            "Epoch 35/50, Validation: 100%|██████████| 4/4 [00:05<00:00,  1.28s/it]\n",
            "Evaluate Train: 100%|██████████| 16/16 [00:23<00:00,  1.45s/it]\n",
            "Evaluate Validation: 100%|██████████| 4/4 [00:05<00:00,  1.29s/it]\n"
          ]
        },
        {
          "output_type": "stream",
          "name": "stdout",
          "text": [
            "Epoch 35/50\n",
            "Train - Loss: 0.2241, Accuracy: 0.9258, Precision: 0.9174, Recall: 0.9309, AUC: 0.9707\n",
            "Val - Loss: 0.2474, Accuracy: 0.9047, Precision: 0.9034, Recall: 0.8996, AUC: 0.9642\n"
          ]
        },
        {
          "output_type": "stream",
          "name": "stderr",
          "text": [
            "Epoch 36/50, Train: 100%|██████████| 16/16 [00:22<00:00,  1.39s/it]\n",
            "Epoch 36/50, Validation: 100%|██████████| 4/4 [00:05<00:00,  1.35s/it]\n",
            "Evaluate Train: 100%|██████████| 16/16 [00:22<00:00,  1.43s/it]\n",
            "Evaluate Validation: 100%|██████████| 4/4 [00:05<00:00,  1.49s/it]\n"
          ]
        },
        {
          "output_type": "stream",
          "name": "stdout",
          "text": [
            "Epoch 36/50\n",
            "Train - Loss: 0.2248, Accuracy: 0.9029, Precision: 0.8631, Recall: 0.9508, AUC: 0.9751\n",
            "Val - Loss: 0.2611, Accuracy: 0.9006, Precision: 0.8770, Recall: 0.9247, AUC: 0.9647\n"
          ]
        },
        {
          "output_type": "stream",
          "name": "stderr",
          "text": [
            "Epoch 37/50, Train: 100%|██████████| 16/16 [00:22<00:00,  1.43s/it]\n",
            "Epoch 37/50, Validation: 100%|██████████| 4/4 [00:05<00:00,  1.28s/it]\n",
            "Evaluate Train: 100%|██████████| 16/16 [00:21<00:00,  1.34s/it]\n",
            "Evaluate Validation: 100%|██████████| 4/4 [00:05<00:00,  1.37s/it]\n"
          ]
        },
        {
          "output_type": "stream",
          "name": "stdout",
          "text": [
            "Epoch 37/50\n",
            "Train - Loss: 0.2158, Accuracy: 0.9120, Precision: 0.9505, Recall: 0.8639, AUC: 0.9744\n",
            "Val - Loss: 0.2380, Accuracy: 0.8945, Precision: 0.9561, Recall: 0.8201, AUC: 0.9666\n"
          ]
        },
        {
          "output_type": "stream",
          "name": "stderr",
          "text": [
            "Epoch 38/50, Train: 100%|██████████| 16/16 [00:21<00:00,  1.37s/it]\n",
            "Epoch 38/50, Validation: 100%|██████████| 4/4 [00:05<00:00,  1.31s/it]\n",
            "Evaluate Train: 100%|██████████| 16/16 [00:22<00:00,  1.42s/it]\n",
            "Evaluate Validation: 100%|██████████| 4/4 [00:05<00:00,  1.35s/it]\n"
          ]
        },
        {
          "output_type": "stream",
          "name": "stdout",
          "text": [
            "Epoch 38/50\n",
            "Train - Loss: 0.2288, Accuracy: 0.9202, Precision: 0.9236, Recall: 0.9110, AUC: 0.9733\n",
            "Val - Loss: 0.2007, Accuracy: 0.9087, Precision: 0.9292, Recall: 0.8787, AUC: 0.9639\n"
          ]
        },
        {
          "output_type": "stream",
          "name": "stderr",
          "text": [
            "Epoch 39/50, Train: 100%|██████████| 16/16 [00:23<00:00,  1.44s/it]\n",
            "Epoch 39/50, Validation: 100%|██████████| 4/4 [00:06<00:00,  1.56s/it]\n",
            "Evaluate Train: 100%|██████████| 16/16 [00:21<00:00,  1.36s/it]\n",
            "Evaluate Validation: 100%|██████████| 4/4 [00:06<00:00,  1.73s/it]\n"
          ]
        },
        {
          "output_type": "stream",
          "name": "stdout",
          "text": [
            "Epoch 39/50\n",
            "Train - Loss: 0.2118, Accuracy: 0.9237, Precision: 0.9224, Recall: 0.9204, AUC: 0.9732\n",
            "Val - Loss: 0.2500, Accuracy: 0.9168, Precision: 0.9160, Recall: 0.9121, AUC: 0.9639\n"
          ]
        },
        {
          "output_type": "stream",
          "name": "stderr",
          "text": [
            "Epoch 40/50, Train: 100%|██████████| 16/16 [00:23<00:00,  1.50s/it]\n",
            "Epoch 40/50, Validation: 100%|██████████| 4/4 [00:05<00:00,  1.49s/it]\n",
            "Evaluate Train: 100%|██████████| 16/16 [00:21<00:00,  1.34s/it]\n",
            "Evaluate Validation: 100%|██████████| 4/4 [00:05<00:00,  1.37s/it]\n"
          ]
        },
        {
          "output_type": "stream",
          "name": "stdout",
          "text": [
            "Epoch 40/50\n",
            "Train - Loss: 0.2202, Accuracy: 0.9176, Precision: 0.9584, Recall: 0.8681, AUC: 0.9752\n",
            "Val - Loss: 0.2643, Accuracy: 0.9026, Precision: 0.9614, Recall: 0.8326, AUC: 0.9626\n"
          ]
        },
        {
          "output_type": "stream",
          "name": "stderr",
          "text": [
            "Epoch 41/50, Train: 100%|██████████| 16/16 [00:21<00:00,  1.35s/it]\n",
            "Epoch 41/50, Validation: 100%|██████████| 4/4 [00:05<00:00,  1.35s/it]\n",
            "Evaluate Train: 100%|██████████| 16/16 [00:22<00:00,  1.43s/it]\n",
            "Evaluate Validation: 100%|██████████| 4/4 [00:05<00:00,  1.35s/it]\n"
          ]
        },
        {
          "output_type": "stream",
          "name": "stdout",
          "text": [
            "Epoch 41/50\n",
            "Train - Loss: 0.2034, Accuracy: 0.9202, Precision: 0.9130, Recall: 0.9236, AUC: 0.9717\n",
            "Val - Loss: 0.2601, Accuracy: 0.9189, Precision: 0.9198, Recall: 0.9121, AUC: 0.9713\n"
          ]
        },
        {
          "output_type": "stream",
          "name": "stderr",
          "text": [
            "Epoch 42/50, Train: 100%|██████████| 16/16 [00:23<00:00,  1.48s/it]\n",
            "Epoch 42/50, Validation: 100%|██████████| 4/4 [00:05<00:00,  1.28s/it]\n",
            "Evaluate Train: 100%|██████████| 16/16 [00:22<00:00,  1.42s/it]\n",
            "Evaluate Validation: 100%|██████████| 4/4 [00:06<00:00,  1.56s/it]\n"
          ]
        },
        {
          "output_type": "stream",
          "name": "stdout",
          "text": [
            "Epoch 42/50\n",
            "Train - Loss: 0.2124, Accuracy: 0.9258, Precision: 0.9200, Recall: 0.9277, AUC: 0.9728\n",
            "Val - Loss: 0.2422, Accuracy: 0.9006, Precision: 0.9204, Recall: 0.8703, AUC: 0.9632\n"
          ]
        },
        {
          "output_type": "stream",
          "name": "stderr",
          "text": [
            "Epoch 43/50, Train: 100%|██████████| 16/16 [00:22<00:00,  1.43s/it]\n",
            "Epoch 43/50, Validation: 100%|██████████| 4/4 [00:05<00:00,  1.27s/it]\n",
            "Evaluate Train: 100%|██████████| 16/16 [00:20<00:00,  1.31s/it]\n",
            "Evaluate Validation: 100%|██████████| 4/4 [00:06<00:00,  1.50s/it]\n"
          ]
        },
        {
          "output_type": "stream",
          "name": "stdout",
          "text": [
            "Epoch 43/50\n",
            "Train - Loss: 0.2151, Accuracy: 0.9146, Precision: 0.9549, Recall: 0.8649, AUC: 0.9735\n",
            "Val - Loss: 0.2700, Accuracy: 0.8966, Precision: 0.9519, Recall: 0.8285, AUC: 0.9620\n"
          ]
        },
        {
          "output_type": "stream",
          "name": "stderr",
          "text": [
            "Epoch 44/50, Train: 100%|██████████| 16/16 [00:23<00:00,  1.48s/it]\n",
            "Epoch 44/50, Validation: 100%|██████████| 4/4 [00:05<00:00,  1.39s/it]\n",
            "Evaluate Train: 100%|██████████| 16/16 [00:23<00:00,  1.50s/it]\n",
            "Evaluate Validation: 100%|██████████| 4/4 [00:05<00:00,  1.33s/it]\n"
          ]
        },
        {
          "output_type": "stream",
          "name": "stdout",
          "text": [
            "Epoch 44/50\n",
            "Train - Loss: 0.2001, Accuracy: 0.9126, Precision: 0.9526, Recall: 0.8628, AUC: 0.9743\n",
            "Val - Loss: 0.2269, Accuracy: 0.9026, Precision: 0.9526, Recall: 0.8410, AUC: 0.9669\n"
          ]
        },
        {
          "output_type": "stream",
          "name": "stderr",
          "text": [
            "Epoch 45/50, Train: 100%|██████████| 16/16 [00:22<00:00,  1.43s/it]\n",
            "Epoch 45/50, Validation: 100%|██████████| 4/4 [00:05<00:00,  1.36s/it]\n",
            "Evaluate Train: 100%|██████████| 16/16 [00:21<00:00,  1.37s/it]\n",
            "Evaluate Validation: 100%|██████████| 4/4 [00:05<00:00,  1.43s/it]\n"
          ]
        },
        {
          "output_type": "stream",
          "name": "stdout",
          "text": [
            "Epoch 45/50\n",
            "Train - Loss: 0.2152, Accuracy: 0.9146, Precision: 0.8862, Recall: 0.9455, AUC: 0.9742\n",
            "Val - Loss: 0.2593, Accuracy: 0.9087, Precision: 0.8760, Recall: 0.9456, AUC: 0.9705\n"
          ]
        },
        {
          "output_type": "stream",
          "name": "stderr",
          "text": [
            "Epoch 46/50, Train: 100%|██████████| 16/16 [00:22<00:00,  1.40s/it]\n",
            "Epoch 46/50, Validation: 100%|██████████| 4/4 [00:05<00:00,  1.38s/it]\n",
            "Evaluate Train: 100%|██████████| 16/16 [00:22<00:00,  1.44s/it]\n",
            "Evaluate Validation: 100%|██████████| 4/4 [00:06<00:00,  1.56s/it]\n"
          ]
        },
        {
          "output_type": "stream",
          "name": "stdout",
          "text": [
            "Epoch 46/50\n",
            "Train - Loss: 0.2150, Accuracy: 0.9176, Precision: 0.9241, Recall: 0.9047, AUC: 0.9736\n",
            "Val - Loss: 0.2211, Accuracy: 0.9189, Precision: 0.9422, Recall: 0.8870, AUC: 0.9602\n"
          ]
        },
        {
          "output_type": "stream",
          "name": "stderr",
          "text": [
            "Epoch 47/50, Train: 100%|██████████| 16/16 [00:22<00:00,  1.40s/it]\n",
            "Epoch 47/50, Validation: 100%|██████████| 4/4 [00:05<00:00,  1.38s/it]\n",
            "Evaluate Train: 100%|██████████| 16/16 [00:22<00:00,  1.43s/it]\n",
            "Evaluate Validation: 100%|██████████| 4/4 [00:05<00:00,  1.34s/it]\n"
          ]
        },
        {
          "output_type": "stream",
          "name": "stdout",
          "text": [
            "Epoch 47/50\n",
            "Train - Loss: 0.2195, Accuracy: 0.9085, Precision: 0.9532, Recall: 0.8534, AUC: 0.9736\n",
            "Val - Loss: 0.2591, Accuracy: 0.9047, Precision: 0.9528, Recall: 0.8452, AUC: 0.9713\n"
          ]
        },
        {
          "output_type": "stream",
          "name": "stderr",
          "text": [
            "Epoch 48/50, Train: 100%|██████████| 16/16 [00:24<00:00,  1.54s/it]\n",
            "Epoch 48/50, Validation: 100%|██████████| 4/4 [00:06<00:00,  1.56s/it]\n",
            "Evaluate Train: 100%|██████████| 16/16 [00:22<00:00,  1.40s/it]\n",
            "Evaluate Validation: 100%|██████████| 4/4 [00:05<00:00,  1.37s/it]\n"
          ]
        },
        {
          "output_type": "stream",
          "name": "stdout",
          "text": [
            "Epoch 48/50\n",
            "Train - Loss: 0.2158, Accuracy: 0.9141, Precision: 0.8808, Recall: 0.9518, AUC: 0.9748\n",
            "Val - Loss: 0.2422, Accuracy: 0.9128, Precision: 0.8889, Recall: 0.9372, AUC: 0.9679\n"
          ]
        },
        {
          "output_type": "stream",
          "name": "stderr",
          "text": [
            "Epoch 49/50, Train: 100%|██████████| 16/16 [00:25<00:00,  1.62s/it]\n",
            "Epoch 49/50, Validation: 100%|██████████| 4/4 [00:05<00:00,  1.35s/it]\n",
            "Evaluate Train: 100%|██████████| 16/16 [00:23<00:00,  1.45s/it]\n",
            "Evaluate Validation: 100%|██████████| 4/4 [00:05<00:00,  1.38s/it]\n"
          ]
        },
        {
          "output_type": "stream",
          "name": "stdout",
          "text": [
            "Epoch 49/50\n",
            "Train - Loss: 0.2143, Accuracy: 0.9232, Precision: 0.9558, Recall: 0.8827, AUC: 0.9757\n",
            "Val - Loss: 0.2432, Accuracy: 0.9026, Precision: 0.9442, Recall: 0.8494, AUC: 0.9641\n"
          ]
        },
        {
          "output_type": "stream",
          "name": "stderr",
          "text": [
            "Epoch 50/50, Train: 100%|██████████| 16/16 [00:22<00:00,  1.43s/it]\n",
            "Epoch 50/50, Validation: 100%|██████████| 4/4 [00:05<00:00,  1.35s/it]\n",
            "Evaluate Train: 100%|██████████| 16/16 [00:22<00:00,  1.42s/it]\n",
            "Evaluate Validation: 100%|██████████| 4/4 [00:05<00:00,  1.31s/it]\n"
          ]
        },
        {
          "output_type": "stream",
          "name": "stdout",
          "text": [
            "Epoch 50/50\n",
            "Train - Loss: 0.2222, Accuracy: 0.9237, Precision: 0.9215, Recall: 0.9215, AUC: 0.9757\n",
            "Val - Loss: 0.2327, Accuracy: 0.9189, Precision: 0.9345, Recall: 0.8954, AUC: 0.9671\n"
          ]
        },
        {
          "output_type": "stream",
          "name": "stderr",
          "text": [
            "Evaluate Test: 100%|██████████| 5/5 [00:00<00:00,  7.81it/s]\n"
          ]
        },
        {
          "output_type": "stream",
          "name": "stdout",
          "text": [
            "\n",
            "Accuracy: 0.9269, Precision: 0.9262, Recall: 0.9231, AUC: 0.9663\n",
            "Results saved to results/finetune/ucsd/resnet50/classification_results.txt\n"
          ]
        },
        {
          "output_type": "stream",
          "name": "stderr",
          "text": [
            "WARNING:matplotlib.image:Clipping input data to the valid range for imshow with RGB data ([0..1] for floats or [0..255] for integers).\n",
            "WARNING:matplotlib.image:Clipping input data to the valid range for imshow with RGB data ([0..1] for floats or [0..255] for integers).\n",
            "WARNING:matplotlib.image:Clipping input data to the valid range for imshow with RGB data ([0..1] for floats or [0..255] for integers).\n",
            "WARNING:matplotlib.image:Clipping input data to the valid range for imshow with RGB data ([0..1] for floats or [0..255] for integers).\n",
            "WARNING:matplotlib.image:Clipping input data to the valid range for imshow with RGB data ([0..1] for floats or [0..255] for integers).\n",
            "WARNING:matplotlib.image:Clipping input data to the valid range for imshow with RGB data ([0..1] for floats or [0..255] for integers).\n"
          ]
        },
        {
          "output_type": "stream",
          "name": "stdout",
          "text": [
            "Results saved to results/visualization/zero_shot/ori/resnet50/images/cxr_images.png\n"
          ]
        },
        {
          "output_type": "stream",
          "name": "stderr",
          "text": [
            "Evaluate Train: 100%|██████████| 5/5 [00:00<00:00, 11.95it/s]\n",
            "Evaluate Validation: 100%|██████████| 2/2 [00:00<00:00, 11.09it/s]\n",
            "Evaluate Test: 100%|██████████| 2/2 [00:00<00:00, 11.13it/s]\n"
          ]
        },
        {
          "output_type": "stream",
          "name": "stdout",
          "text": [
            "Results saved to results/zero_shot/ori/resnet50/classification_results.txt\n"
          ]
        },
        {
          "output_type": "stream",
          "name": "stderr",
          "text": [
            "WARNING:matplotlib.image:Clipping input data to the valid range for imshow with RGB data ([0..1] for floats or [0..255] for integers).\n",
            "WARNING:matplotlib.image:Clipping input data to the valid range for imshow with RGB data ([0..1] for floats or [0..255] for integers).\n",
            "WARNING:matplotlib.image:Clipping input data to the valid range for imshow with RGB data ([0..1] for floats or [0..255] for integers).\n",
            "WARNING:matplotlib.image:Clipping input data to the valid range for imshow with RGB data ([0..1] for floats or [0..255] for integers).\n",
            "WARNING:matplotlib.image:Clipping input data to the valid range for imshow with RGB data ([0..1] for floats or [0..255] for integers).\n",
            "WARNING:matplotlib.image:Clipping input data to the valid range for imshow with RGB data ([0..1] for floats or [0..255] for integers).\n"
          ]
        },
        {
          "output_type": "stream",
          "name": "stdout",
          "text": [
            "Results saved to results/visualization/finetune/ori/resnet50/images/cxr_images.png\n"
          ]
        },
        {
          "output_type": "stream",
          "name": "stderr",
          "text": [
            "/usr/local/lib/python3.10/dist-packages/torchvision/models/inception.py:43: FutureWarning: The default weight initialization of inception_v3 will be changed in future releases of torchvision. If you wish to keep the old behavior (which leads to long initialization times due to scipy/scipy#11299), please set init_weights=True.\n",
            "  warnings.warn(\n"
          ]
        },
        {
          "output_type": "stream",
          "name": "stdout",
          "text": [
            "NVIDIA library configured successfully.\n"
          ]
        },
        {
          "output_type": "stream",
          "name": "stderr",
          "text": [
            "Epoch 1/50, Train: 100%|██████████| 5/5 [01:00<00:00, 12.12s/it]\n",
            "Epoch 1/50, Validation: 100%|██████████| 2/2 [00:31<00:00, 15.88s/it]\n",
            "Evaluate Train: 100%|██████████| 5/5 [00:19<00:00,  3.83s/it]\n",
            "/usr/local/lib/python3.10/dist-packages/sklearn/metrics/_classification.py:1344: UndefinedMetricWarning: Precision and F-score are ill-defined and being set to 0.0 in labels with no predicted samples. Use `zero_division` parameter to control this behavior.\n",
            "  _warn_prf(average, modifier, msg_start, len(result))\n",
            "/usr/local/lib/python3.10/dist-packages/sklearn/metrics/_classification.py:1344: UndefinedMetricWarning: Precision and F-score are ill-defined and being set to 0.0 in labels with no predicted samples. Use `zero_division` parameter to control this behavior.\n",
            "  _warn_prf(average, modifier, msg_start, len(result))\n",
            "/usr/local/lib/python3.10/dist-packages/sklearn/metrics/_classification.py:1344: UndefinedMetricWarning: Precision and F-score are ill-defined and being set to 0.0 in labels with no predicted samples. Use `zero_division` parameter to control this behavior.\n",
            "  _warn_prf(average, modifier, msg_start, len(result))\n",
            "Evaluate Validation: 100%|██████████| 2/2 [00:01<00:00,  1.34it/s]\n",
            "/usr/local/lib/python3.10/dist-packages/sklearn/metrics/_classification.py:1344: UndefinedMetricWarning: Precision and F-score are ill-defined and being set to 0.0 in labels with no predicted samples. Use `zero_division` parameter to control this behavior.\n",
            "  _warn_prf(average, modifier, msg_start, len(result))\n",
            "/usr/local/lib/python3.10/dist-packages/sklearn/metrics/_classification.py:1344: UndefinedMetricWarning: Precision and F-score are ill-defined and being set to 0.0 in labels with no predicted samples. Use `zero_division` parameter to control this behavior.\n",
            "  _warn_prf(average, modifier, msg_start, len(result))\n",
            "/usr/local/lib/python3.10/dist-packages/sklearn/metrics/_classification.py:1344: UndefinedMetricWarning: Precision and F-score are ill-defined and being set to 0.0 in labels with no predicted samples. Use `zero_division` parameter to control this behavior.\n",
            "  _warn_prf(average, modifier, msg_start, len(result))\n"
          ]
        },
        {
          "output_type": "stream",
          "name": "stdout",
          "text": [
            "Epoch 1/50\n",
            "Train - Loss: 0.7040, Accuracy: 0.4905, Precision: 0.4905, Recall: 1.0000, AUC: 0.6342\n",
            "Val - Loss: 0.6848, Accuracy: 0.4924, Precision: 0.4924, Recall: 1.0000, AUC: 0.5855\n"
          ]
        },
        {
          "output_type": "stream",
          "name": "stderr",
          "text": [
            "Epoch 2/50, Train: 100%|██████████| 5/5 [00:06<00:00,  1.39s/it]\n",
            "Epoch 2/50, Validation: 100%|██████████| 2/2 [00:02<00:00,  1.06s/it]\n",
            "Evaluate Train: 100%|██████████| 5/5 [00:06<00:00,  1.26s/it]\n",
            "/usr/local/lib/python3.10/dist-packages/sklearn/metrics/_classification.py:1344: UndefinedMetricWarning: Precision and F-score are ill-defined and being set to 0.0 in labels with no predicted samples. Use `zero_division` parameter to control this behavior.\n",
            "  _warn_prf(average, modifier, msg_start, len(result))\n",
            "/usr/local/lib/python3.10/dist-packages/sklearn/metrics/_classification.py:1344: UndefinedMetricWarning: Precision and F-score are ill-defined and being set to 0.0 in labels with no predicted samples. Use `zero_division` parameter to control this behavior.\n",
            "  _warn_prf(average, modifier, msg_start, len(result))\n",
            "/usr/local/lib/python3.10/dist-packages/sklearn/metrics/_classification.py:1344: UndefinedMetricWarning: Precision and F-score are ill-defined and being set to 0.0 in labels with no predicted samples. Use `zero_division` parameter to control this behavior.\n",
            "  _warn_prf(average, modifier, msg_start, len(result))\n",
            "Evaluate Validation: 100%|██████████| 2/2 [00:01<00:00,  1.54it/s]\n",
            "/usr/local/lib/python3.10/dist-packages/sklearn/metrics/_classification.py:1344: UndefinedMetricWarning: Precision and F-score are ill-defined and being set to 0.0 in labels with no predicted samples. Use `zero_division` parameter to control this behavior.\n",
            "  _warn_prf(average, modifier, msg_start, len(result))\n",
            "/usr/local/lib/python3.10/dist-packages/sklearn/metrics/_classification.py:1344: UndefinedMetricWarning: Precision and F-score are ill-defined and being set to 0.0 in labels with no predicted samples. Use `zero_division` parameter to control this behavior.\n",
            "  _warn_prf(average, modifier, msg_start, len(result))\n",
            "/usr/local/lib/python3.10/dist-packages/sklearn/metrics/_classification.py:1344: UndefinedMetricWarning: Precision and F-score are ill-defined and being set to 0.0 in labels with no predicted samples. Use `zero_division` parameter to control this behavior.\n",
            "  _warn_prf(average, modifier, msg_start, len(result))\n"
          ]
        },
        {
          "output_type": "stream",
          "name": "stdout",
          "text": [
            "Epoch 2/50\n",
            "Train - Loss: 0.7168, Accuracy: 0.4905, Precision: 0.4905, Recall: 1.0000, AUC: 0.7386\n",
            "Val - Loss: 0.6587, Accuracy: 0.4924, Precision: 0.4924, Recall: 1.0000, AUC: 0.6918\n"
          ]
        },
        {
          "output_type": "stream",
          "name": "stderr",
          "text": [
            "Epoch 3/50, Train: 100%|██████████| 5/5 [00:06<00:00,  1.27s/it]\n",
            "Epoch 3/50, Validation: 100%|██████████| 2/2 [00:01<00:00,  1.54it/s]\n",
            "Evaluate Train: 100%|██████████| 5/5 [00:05<00:00,  1.17s/it]\n",
            "/usr/local/lib/python3.10/dist-packages/sklearn/metrics/_classification.py:1344: UndefinedMetricWarning: Precision and F-score are ill-defined and being set to 0.0 in labels with no predicted samples. Use `zero_division` parameter to control this behavior.\n",
            "  _warn_prf(average, modifier, msg_start, len(result))\n",
            "/usr/local/lib/python3.10/dist-packages/sklearn/metrics/_classification.py:1344: UndefinedMetricWarning: Precision and F-score are ill-defined and being set to 0.0 in labels with no predicted samples. Use `zero_division` parameter to control this behavior.\n",
            "  _warn_prf(average, modifier, msg_start, len(result))\n",
            "/usr/local/lib/python3.10/dist-packages/sklearn/metrics/_classification.py:1344: UndefinedMetricWarning: Precision and F-score are ill-defined and being set to 0.0 in labels with no predicted samples. Use `zero_division` parameter to control this behavior.\n",
            "  _warn_prf(average, modifier, msg_start, len(result))\n",
            "Evaluate Validation: 100%|██████████| 2/2 [00:01<00:00,  1.32it/s]\n",
            "/usr/local/lib/python3.10/dist-packages/sklearn/metrics/_classification.py:1344: UndefinedMetricWarning: Precision and F-score are ill-defined and being set to 0.0 in labels with no predicted samples. Use `zero_division` parameter to control this behavior.\n",
            "  _warn_prf(average, modifier, msg_start, len(result))\n",
            "/usr/local/lib/python3.10/dist-packages/sklearn/metrics/_classification.py:1344: UndefinedMetricWarning: Precision and F-score are ill-defined and being set to 0.0 in labels with no predicted samples. Use `zero_division` parameter to control this behavior.\n",
            "  _warn_prf(average, modifier, msg_start, len(result))\n",
            "/usr/local/lib/python3.10/dist-packages/sklearn/metrics/_classification.py:1344: UndefinedMetricWarning: Precision and F-score are ill-defined and being set to 0.0 in labels with no predicted samples. Use `zero_division` parameter to control this behavior.\n",
            "  _warn_prf(average, modifier, msg_start, len(result))\n"
          ]
        },
        {
          "output_type": "stream",
          "name": "stdout",
          "text": [
            "Epoch 3/50\n",
            "Train - Loss: 0.6815, Accuracy: 0.4905, Precision: 0.4905, Recall: 1.0000, AUC: 0.7473\n",
            "Val - Loss: 0.7893, Accuracy: 0.4924, Precision: 0.4924, Recall: 1.0000, AUC: 0.7169\n"
          ]
        },
        {
          "output_type": "stream",
          "name": "stderr",
          "text": [
            "Epoch 4/50, Train: 100%|██████████| 5/5 [00:06<00:00,  1.32s/it]\n",
            "Epoch 4/50, Validation: 100%|██████████| 2/2 [00:01<00:00,  1.34it/s]\n",
            "Evaluate Train: 100%|██████████| 5/5 [00:07<00:00,  1.58s/it]\n",
            "/usr/local/lib/python3.10/dist-packages/sklearn/metrics/_classification.py:1344: UndefinedMetricWarning: Precision and F-score are ill-defined and being set to 0.0 in labels with no predicted samples. Use `zero_division` parameter to control this behavior.\n",
            "  _warn_prf(average, modifier, msg_start, len(result))\n",
            "/usr/local/lib/python3.10/dist-packages/sklearn/metrics/_classification.py:1344: UndefinedMetricWarning: Precision and F-score are ill-defined and being set to 0.0 in labels with no predicted samples. Use `zero_division` parameter to control this behavior.\n",
            "  _warn_prf(average, modifier, msg_start, len(result))\n",
            "/usr/local/lib/python3.10/dist-packages/sklearn/metrics/_classification.py:1344: UndefinedMetricWarning: Precision and F-score are ill-defined and being set to 0.0 in labels with no predicted samples. Use `zero_division` parameter to control this behavior.\n",
            "  _warn_prf(average, modifier, msg_start, len(result))\n",
            "Evaluate Validation: 100%|██████████| 2/2 [00:02<00:00,  1.05s/it]\n",
            "/usr/local/lib/python3.10/dist-packages/sklearn/metrics/_classification.py:1344: UndefinedMetricWarning: Precision and F-score are ill-defined and being set to 0.0 in labels with no predicted samples. Use `zero_division` parameter to control this behavior.\n",
            "  _warn_prf(average, modifier, msg_start, len(result))\n",
            "/usr/local/lib/python3.10/dist-packages/sklearn/metrics/_classification.py:1344: UndefinedMetricWarning: Precision and F-score are ill-defined and being set to 0.0 in labels with no predicted samples. Use `zero_division` parameter to control this behavior.\n",
            "  _warn_prf(average, modifier, msg_start, len(result))\n",
            "/usr/local/lib/python3.10/dist-packages/sklearn/metrics/_classification.py:1344: UndefinedMetricWarning: Precision and F-score are ill-defined and being set to 0.0 in labels with no predicted samples. Use `zero_division` parameter to control this behavior.\n",
            "  _warn_prf(average, modifier, msg_start, len(result))\n"
          ]
        },
        {
          "output_type": "stream",
          "name": "stdout",
          "text": [
            "Epoch 4/50\n",
            "Train - Loss: 0.6811, Accuracy: 0.4905, Precision: 0.4905, Recall: 1.0000, AUC: 0.7281\n",
            "Val - Loss: 1.0124, Accuracy: 0.4924, Precision: 0.4924, Recall: 1.0000, AUC: 0.7166\n"
          ]
        },
        {
          "output_type": "stream",
          "name": "stderr",
          "text": [
            "Epoch 5/50, Train: 100%|██████████| 5/5 [00:06<00:00,  1.30s/it]\n",
            "Epoch 5/50, Validation: 100%|██████████| 2/2 [00:01<00:00,  1.37it/s]\n",
            "Evaluate Train: 100%|██████████| 5/5 [00:07<00:00,  1.40s/it]\n",
            "/usr/local/lib/python3.10/dist-packages/sklearn/metrics/_classification.py:1344: UndefinedMetricWarning: Precision and F-score are ill-defined and being set to 0.0 in labels with no predicted samples. Use `zero_division` parameter to control this behavior.\n",
            "  _warn_prf(average, modifier, msg_start, len(result))\n",
            "/usr/local/lib/python3.10/dist-packages/sklearn/metrics/_classification.py:1344: UndefinedMetricWarning: Precision and F-score are ill-defined and being set to 0.0 in labels with no predicted samples. Use `zero_division` parameter to control this behavior.\n",
            "  _warn_prf(average, modifier, msg_start, len(result))\n",
            "/usr/local/lib/python3.10/dist-packages/sklearn/metrics/_classification.py:1344: UndefinedMetricWarning: Precision and F-score are ill-defined and being set to 0.0 in labels with no predicted samples. Use `zero_division` parameter to control this behavior.\n",
            "  _warn_prf(average, modifier, msg_start, len(result))\n",
            "Evaluate Validation: 100%|██████████| 2/2 [00:02<00:00,  1.01s/it]\n",
            "/usr/local/lib/python3.10/dist-packages/sklearn/metrics/_classification.py:1344: UndefinedMetricWarning: Precision and F-score are ill-defined and being set to 0.0 in labels with no predicted samples. Use `zero_division` parameter to control this behavior.\n",
            "  _warn_prf(average, modifier, msg_start, len(result))\n",
            "/usr/local/lib/python3.10/dist-packages/sklearn/metrics/_classification.py:1344: UndefinedMetricWarning: Precision and F-score are ill-defined and being set to 0.0 in labels with no predicted samples. Use `zero_division` parameter to control this behavior.\n",
            "  _warn_prf(average, modifier, msg_start, len(result))\n",
            "/usr/local/lib/python3.10/dist-packages/sklearn/metrics/_classification.py:1344: UndefinedMetricWarning: Precision and F-score are ill-defined and being set to 0.0 in labels with no predicted samples. Use `zero_division` parameter to control this behavior.\n",
            "  _warn_prf(average, modifier, msg_start, len(result))\n"
          ]
        },
        {
          "output_type": "stream",
          "name": "stdout",
          "text": [
            "Epoch 5/50\n",
            "Train - Loss: 0.6741, Accuracy: 0.4905, Precision: 0.4905, Recall: 1.0000, AUC: 0.7215\n",
            "Val - Loss: 1.1000, Accuracy: 0.4924, Precision: 0.4924, Recall: 1.0000, AUC: 0.7079\n"
          ]
        },
        {
          "output_type": "stream",
          "name": "stderr",
          "text": [
            "Epoch 6/50, Train: 100%|██████████| 5/5 [00:06<00:00,  1.31s/it]\n",
            "Epoch 6/50, Validation: 100%|██████████| 2/2 [00:01<00:00,  1.32it/s]\n",
            "Evaluate Train: 100%|██████████| 5/5 [00:06<00:00,  1.38s/it]\n",
            "/usr/local/lib/python3.10/dist-packages/sklearn/metrics/_classification.py:1344: UndefinedMetricWarning: Precision and F-score are ill-defined and being set to 0.0 in labels with no predicted samples. Use `zero_division` parameter to control this behavior.\n",
            "  _warn_prf(average, modifier, msg_start, len(result))\n",
            "/usr/local/lib/python3.10/dist-packages/sklearn/metrics/_classification.py:1344: UndefinedMetricWarning: Precision and F-score are ill-defined and being set to 0.0 in labels with no predicted samples. Use `zero_division` parameter to control this behavior.\n",
            "  _warn_prf(average, modifier, msg_start, len(result))\n",
            "/usr/local/lib/python3.10/dist-packages/sklearn/metrics/_classification.py:1344: UndefinedMetricWarning: Precision and F-score are ill-defined and being set to 0.0 in labels with no predicted samples. Use `zero_division` parameter to control this behavior.\n",
            "  _warn_prf(average, modifier, msg_start, len(result))\n",
            "Evaluate Validation: 100%|██████████| 2/2 [00:01<00:00,  1.54it/s]\n",
            "/usr/local/lib/python3.10/dist-packages/sklearn/metrics/_classification.py:1344: UndefinedMetricWarning: Precision and F-score are ill-defined and being set to 0.0 in labels with no predicted samples. Use `zero_division` parameter to control this behavior.\n",
            "  _warn_prf(average, modifier, msg_start, len(result))\n",
            "/usr/local/lib/python3.10/dist-packages/sklearn/metrics/_classification.py:1344: UndefinedMetricWarning: Precision and F-score are ill-defined and being set to 0.0 in labels with no predicted samples. Use `zero_division` parameter to control this behavior.\n",
            "  _warn_prf(average, modifier, msg_start, len(result))\n",
            "/usr/local/lib/python3.10/dist-packages/sklearn/metrics/_classification.py:1344: UndefinedMetricWarning: Precision and F-score are ill-defined and being set to 0.0 in labels with no predicted samples. Use `zero_division` parameter to control this behavior.\n",
            "  _warn_prf(average, modifier, msg_start, len(result))\n"
          ]
        },
        {
          "output_type": "stream",
          "name": "stdout",
          "text": [
            "Epoch 6/50\n",
            "Train - Loss: 0.6672, Accuracy: 0.4905, Precision: 0.4905, Recall: 1.0000, AUC: 0.7414\n",
            "Val - Loss: 1.0360, Accuracy: 0.4924, Precision: 0.4924, Recall: 1.0000, AUC: 0.7006\n"
          ]
        },
        {
          "output_type": "stream",
          "name": "stderr",
          "text": [
            "Epoch 7/50, Train: 100%|██████████| 5/5 [00:08<00:00,  1.60s/it]\n",
            "Epoch 7/50, Validation: 100%|██████████| 2/2 [00:02<00:00,  1.06s/it]\n",
            "Evaluate Train: 100%|██████████| 5/5 [00:06<00:00,  1.26s/it]\n",
            "/usr/local/lib/python3.10/dist-packages/sklearn/metrics/_classification.py:1344: UndefinedMetricWarning: Precision and F-score are ill-defined and being set to 0.0 in labels with no predicted samples. Use `zero_division` parameter to control this behavior.\n",
            "  _warn_prf(average, modifier, msg_start, len(result))\n",
            "/usr/local/lib/python3.10/dist-packages/sklearn/metrics/_classification.py:1344: UndefinedMetricWarning: Precision and F-score are ill-defined and being set to 0.0 in labels with no predicted samples. Use `zero_division` parameter to control this behavior.\n",
            "  _warn_prf(average, modifier, msg_start, len(result))\n",
            "/usr/local/lib/python3.10/dist-packages/sklearn/metrics/_classification.py:1344: UndefinedMetricWarning: Precision and F-score are ill-defined and being set to 0.0 in labels with no predicted samples. Use `zero_division` parameter to control this behavior.\n",
            "  _warn_prf(average, modifier, msg_start, len(result))\n",
            "Evaluate Validation: 100%|██████████| 2/2 [00:01<00:00,  1.53it/s]\n",
            "/usr/local/lib/python3.10/dist-packages/sklearn/metrics/_classification.py:1344: UndefinedMetricWarning: Precision and F-score are ill-defined and being set to 0.0 in labels with no predicted samples. Use `zero_division` parameter to control this behavior.\n",
            "  _warn_prf(average, modifier, msg_start, len(result))\n",
            "/usr/local/lib/python3.10/dist-packages/sklearn/metrics/_classification.py:1344: UndefinedMetricWarning: Precision and F-score are ill-defined and being set to 0.0 in labels with no predicted samples. Use `zero_division` parameter to control this behavior.\n",
            "  _warn_prf(average, modifier, msg_start, len(result))\n",
            "/usr/local/lib/python3.10/dist-packages/sklearn/metrics/_classification.py:1344: UndefinedMetricWarning: Precision and F-score are ill-defined and being set to 0.0 in labels with no predicted samples. Use `zero_division` parameter to control this behavior.\n",
            "  _warn_prf(average, modifier, msg_start, len(result))\n"
          ]
        },
        {
          "output_type": "stream",
          "name": "stdout",
          "text": [
            "Epoch 7/50\n",
            "Train - Loss: 0.6368, Accuracy: 0.4905, Precision: 0.4905, Recall: 1.0000, AUC: 0.7519\n",
            "Val - Loss: 0.8740, Accuracy: 0.4924, Precision: 0.4924, Recall: 1.0000, AUC: 0.7196\n"
          ]
        },
        {
          "output_type": "stream",
          "name": "stderr",
          "text": [
            "Epoch 8/50, Train: 100%|██████████| 5/5 [00:06<00:00,  1.27s/it]\n",
            "Epoch 8/50, Validation: 100%|██████████| 2/2 [00:01<00:00,  1.50it/s]\n",
            "Evaluate Train: 100%|██████████| 5/5 [00:05<00:00,  1.16s/it]\n",
            "Evaluate Validation: 100%|██████████| 2/2 [00:01<00:00,  1.33it/s]\n"
          ]
        },
        {
          "output_type": "stream",
          "name": "stdout",
          "text": [
            "Epoch 8/50\n",
            "Train - Loss: 0.6146, Accuracy: 0.5076, Precision: 0.4990, Recall: 0.9767, AUC: 0.7365\n",
            "Val - Loss: 0.6886, Accuracy: 0.4924, Precision: 0.4919, Recall: 0.9385, AUC: 0.7323\n"
          ]
        },
        {
          "output_type": "stream",
          "name": "stderr",
          "text": [
            "Epoch 9/50, Train: 100%|██████████| 5/5 [00:06<00:00,  1.32s/it]\n",
            "Epoch 9/50, Validation: 100%|██████████| 2/2 [00:01<00:00,  1.53it/s]\n",
            "Evaluate Train: 100%|██████████| 5/5 [00:05<00:00,  1.12s/it]\n",
            "Evaluate Validation: 100%|██████████| 2/2 [00:01<00:00,  1.32it/s]\n"
          ]
        },
        {
          "output_type": "stream",
          "name": "stdout",
          "text": [
            "Epoch 9/50\n",
            "Train - Loss: 0.6081, Accuracy: 0.5380, Precision: 0.5164, Recall: 0.9147, AUC: 0.7321\n",
            "Val - Loss: 0.7832, Accuracy: 0.5682, Precision: 0.5377, Recall: 0.8769, AUC: 0.7045\n"
          ]
        },
        {
          "output_type": "stream",
          "name": "stderr",
          "text": [
            "Epoch 10/50, Train: 100%|██████████| 5/5 [00:06<00:00,  1.32s/it]\n",
            "Epoch 10/50, Validation: 100%|██████████| 2/2 [00:01<00:00,  1.33it/s]\n",
            "Evaluate Train: 100%|██████████| 5/5 [00:06<00:00,  1.26s/it]\n",
            "Evaluate Validation: 100%|██████████| 2/2 [00:01<00:00,  1.53it/s]\n"
          ]
        },
        {
          "output_type": "stream",
          "name": "stdout",
          "text": [
            "Epoch 10/50\n",
            "Train - Loss: 0.5955, Accuracy: 0.6065, Precision: 0.5633, Recall: 0.8798, AUC: 0.7453\n",
            "Val - Loss: 0.7362, Accuracy: 0.5758, Precision: 0.5464, Recall: 0.8154, AUC: 0.7111\n"
          ]
        },
        {
          "output_type": "stream",
          "name": "stderr",
          "text": [
            "Epoch 11/50, Train: 100%|██████████| 5/5 [00:06<00:00,  1.39s/it]\n",
            "Epoch 11/50, Validation: 100%|██████████| 2/2 [00:01<00:00,  1.53it/s]\n",
            "Evaluate Train: 100%|██████████| 5/5 [00:05<00:00,  1.15s/it]\n",
            "Evaluate Validation: 100%|██████████| 2/2 [00:01<00:00,  1.30it/s]\n"
          ]
        },
        {
          "output_type": "stream",
          "name": "stdout",
          "text": [
            "Epoch 11/50\n",
            "Train - Loss: 0.6074, Accuracy: 0.6407, Precision: 0.6006, Recall: 0.7984, AUC: 0.7471\n",
            "Val - Loss: 0.5789, Accuracy: 0.6061, Precision: 0.5783, Recall: 0.7385, AUC: 0.7364\n"
          ]
        },
        {
          "output_type": "stream",
          "name": "stderr",
          "text": [
            "Epoch 12/50, Train: 100%|██████████| 5/5 [00:06<00:00,  1.22s/it]\n",
            "Epoch 12/50, Validation: 100%|██████████| 2/2 [00:01<00:00,  1.33it/s]\n",
            "Evaluate Train: 100%|██████████| 5/5 [00:06<00:00,  1.26s/it]\n",
            "Evaluate Validation: 100%|██████████| 2/2 [00:01<00:00,  1.53it/s]\n"
          ]
        },
        {
          "output_type": "stream",
          "name": "stdout",
          "text": [
            "Epoch 12/50\n",
            "Train - Loss: 0.6077, Accuracy: 0.6369, Precision: 0.5960, Recall: 0.8062, AUC: 0.7675\n",
            "Val - Loss: 0.6245, Accuracy: 0.6894, Precision: 0.6463, Recall: 0.8154, AUC: 0.7672\n"
          ]
        },
        {
          "output_type": "stream",
          "name": "stderr",
          "text": [
            "Epoch 13/50, Train: 100%|██████████| 5/5 [00:06<00:00,  1.27s/it]\n",
            "Epoch 13/50, Validation: 100%|██████████| 2/2 [00:01<00:00,  1.51it/s]\n",
            "Evaluate Train: 100%|██████████| 5/5 [00:05<00:00,  1.16s/it]\n",
            "Evaluate Validation: 100%|██████████| 2/2 [00:01<00:00,  1.32it/s]\n"
          ]
        },
        {
          "output_type": "stream",
          "name": "stdout",
          "text": [
            "Epoch 13/50\n",
            "Train - Loss: 0.5721, Accuracy: 0.6293, Precision: 0.5827, Recall: 0.8605, AUC: 0.7855\n",
            "Val - Loss: 0.5980, Accuracy: 0.6667, Precision: 0.6129, Recall: 0.8769, AUC: 0.8062\n"
          ]
        },
        {
          "output_type": "stream",
          "name": "stderr",
          "text": [
            "Epoch 14/50, Train: 100%|██████████| 5/5 [00:06<00:00,  1.40s/it]\n",
            "Epoch 14/50, Validation: 100%|██████████| 2/2 [00:02<00:00,  1.06s/it]\n",
            "Evaluate Train: 100%|██████████| 5/5 [00:06<00:00,  1.24s/it]\n",
            "Evaluate Validation: 100%|██████████| 2/2 [00:01<00:00,  1.14it/s]\n"
          ]
        },
        {
          "output_type": "stream",
          "name": "stdout",
          "text": [
            "Epoch 14/50\n",
            "Train - Loss: 0.5863, Accuracy: 0.6426, Precision: 0.6017, Recall: 0.8023, AUC: 0.7651\n",
            "Val - Loss: 0.6762, Accuracy: 0.6742, Precision: 0.6310, Recall: 0.8154, AUC: 0.8129\n"
          ]
        },
        {
          "output_type": "stream",
          "name": "stderr",
          "text": [
            "Epoch 15/50, Train: 100%|██████████| 5/5 [00:06<00:00,  1.39s/it]\n",
            "Epoch 15/50, Validation: 100%|██████████| 2/2 [00:02<00:00,  1.06s/it]\n",
            "Evaluate Train: 100%|██████████| 5/5 [00:06<00:00,  1.21s/it]\n",
            "Evaluate Validation: 100%|██████████| 2/2 [00:01<00:00,  1.06it/s]\n"
          ]
        },
        {
          "output_type": "stream",
          "name": "stdout",
          "text": [
            "Epoch 15/50\n",
            "Train - Loss: 0.5906, Accuracy: 0.6901, Precision: 0.6792, Recall: 0.6977, AUC: 0.7642\n",
            "Val - Loss: 0.6998, Accuracy: 0.7576, Precision: 0.7324, Recall: 0.8000, AUC: 0.8156\n"
          ]
        },
        {
          "output_type": "stream",
          "name": "stderr",
          "text": [
            "Epoch 16/50, Train: 100%|██████████| 5/5 [00:05<00:00,  1.17s/it]\n",
            "Epoch 16/50, Validation: 100%|██████████| 2/2 [00:01<00:00,  1.32it/s]\n",
            "Evaluate Train: 100%|██████████| 5/5 [00:06<00:00,  1.23s/it]\n",
            "Evaluate Validation: 100%|██████████| 2/2 [00:01<00:00,  1.32it/s]\n"
          ]
        },
        {
          "output_type": "stream",
          "name": "stdout",
          "text": [
            "Epoch 16/50\n",
            "Train - Loss: 0.5539, Accuracy: 0.6996, Precision: 0.6908, Recall: 0.7016, AUC: 0.7798\n",
            "Val - Loss: 0.6544, Accuracy: 0.7500, Precision: 0.7286, Recall: 0.7846, AUC: 0.8209\n"
          ]
        },
        {
          "output_type": "stream",
          "name": "stderr",
          "text": [
            "Epoch 17/50, Train: 100%|██████████| 5/5 [00:06<00:00,  1.32s/it]\n",
            "Epoch 17/50, Validation: 100%|██████████| 2/2 [00:01<00:00,  1.34it/s]\n",
            "Evaluate Train: 100%|██████████| 5/5 [00:05<00:00,  1.08s/it]\n",
            "Evaluate Validation: 100%|██████████| 2/2 [00:01<00:00,  1.31it/s]\n"
          ]
        },
        {
          "output_type": "stream",
          "name": "stdout",
          "text": [
            "Epoch 17/50\n",
            "Train - Loss: 0.5486, Accuracy: 0.7224, Precision: 0.7523, Recall: 0.6473, AUC: 0.7815\n",
            "Val - Loss: 0.4686, Accuracy: 0.7500, Precision: 0.7667, Recall: 0.7077, AUC: 0.8269\n"
          ]
        },
        {
          "output_type": "stream",
          "name": "stderr",
          "text": [
            "Epoch 18/50, Train: 100%|██████████| 5/5 [00:05<00:00,  1.16s/it]\n",
            "Epoch 18/50, Validation: 100%|██████████| 2/2 [00:01<00:00,  1.31it/s]\n",
            "Evaluate Train: 100%|██████████| 5/5 [00:05<00:00,  1.19s/it]\n",
            "Evaluate Validation: 100%|██████████| 2/2 [00:01<00:00,  1.52it/s]\n"
          ]
        },
        {
          "output_type": "stream",
          "name": "stdout",
          "text": [
            "Epoch 18/50\n",
            "Train - Loss: 0.5602, Accuracy: 0.7167, Precision: 0.7466, Recall: 0.6395, AUC: 0.7766\n",
            "Val - Loss: 0.5536, Accuracy: 0.7348, Precision: 0.7679, Recall: 0.6615, AUC: 0.8135\n"
          ]
        },
        {
          "output_type": "stream",
          "name": "stderr",
          "text": [
            "Epoch 19/50, Train: 100%|██████████| 5/5 [00:06<00:00,  1.28s/it]\n",
            "Epoch 19/50, Validation: 100%|██████████| 2/2 [00:01<00:00,  1.53it/s]\n",
            "Evaluate Train: 100%|██████████| 5/5 [00:05<00:00,  1.16s/it]\n",
            "Evaluate Validation: 100%|██████████| 2/2 [00:01<00:00,  1.31it/s]\n"
          ]
        },
        {
          "output_type": "stream",
          "name": "stdout",
          "text": [
            "Epoch 19/50\n",
            "Train - Loss: 0.5456, Accuracy: 0.7015, Precision: 0.7045, Recall: 0.6744, AUC: 0.7774\n",
            "Val - Loss: 0.5672, Accuracy: 0.7576, Precision: 0.7619, Recall: 0.7385, AUC: 0.8425\n"
          ]
        },
        {
          "output_type": "stream",
          "name": "stderr",
          "text": [
            "Epoch 20/50, Train: 100%|██████████| 5/5 [00:06<00:00,  1.32s/it]\n",
            "Epoch 20/50, Validation: 100%|██████████| 2/2 [00:01<00:00,  1.52it/s]\n",
            "Evaluate Train: 100%|██████████| 5/5 [00:06<00:00,  1.26s/it]\n",
            "Evaluate Validation: 100%|██████████| 2/2 [00:01<00:00,  1.10it/s]\n"
          ]
        },
        {
          "output_type": "stream",
          "name": "stdout",
          "text": [
            "Epoch 20/50\n",
            "Train - Loss: 0.6045, Accuracy: 0.6882, Precision: 0.6822, Recall: 0.6822, AUC: 0.7778\n",
            "Val - Loss: 0.4423, Accuracy: 0.7576, Precision: 0.7324, Recall: 0.8000, AUC: 0.8186\n"
          ]
        },
        {
          "output_type": "stream",
          "name": "stderr",
          "text": [
            "Epoch 21/50, Train: 100%|██████████| 5/5 [00:07<00:00,  1.45s/it]\n",
            "Epoch 21/50, Validation: 100%|██████████| 2/2 [00:01<00:00,  1.54it/s]\n",
            "Evaluate Train: 100%|██████████| 5/5 [00:05<00:00,  1.16s/it]\n",
            "Evaluate Validation: 100%|██████████| 2/2 [00:01<00:00,  1.32it/s]\n"
          ]
        },
        {
          "output_type": "stream",
          "name": "stdout",
          "text": [
            "Epoch 21/50\n",
            "Train - Loss: 0.5364, Accuracy: 0.6882, Precision: 0.6808, Recall: 0.6860, AUC: 0.7816\n",
            "Val - Loss: 0.6623, Accuracy: 0.7576, Precision: 0.7391, Recall: 0.7846, AUC: 0.8381\n"
          ]
        },
        {
          "output_type": "stream",
          "name": "stderr",
          "text": [
            "Epoch 22/50, Train: 100%|██████████| 5/5 [00:06<00:00,  1.31s/it]\n",
            "Epoch 22/50, Validation: 100%|██████████| 2/2 [00:01<00:00,  1.33it/s]\n",
            "Evaluate Train: 100%|██████████| 5/5 [00:06<00:00,  1.27s/it]\n",
            "Evaluate Validation: 100%|██████████| 2/2 [00:01<00:00,  1.53it/s]\n"
          ]
        },
        {
          "output_type": "stream",
          "name": "stdout",
          "text": [
            "Epoch 22/50\n",
            "Train - Loss: 0.5310, Accuracy: 0.7034, Precision: 0.7056, Recall: 0.6783, AUC: 0.7921\n",
            "Val - Loss: 0.6287, Accuracy: 0.7652, Precision: 0.7576, Recall: 0.7692, AUC: 0.8588\n"
          ]
        },
        {
          "output_type": "stream",
          "name": "stderr",
          "text": [
            "Epoch 23/50, Train: 100%|██████████| 5/5 [00:06<00:00,  1.38s/it]\n",
            "Epoch 23/50, Validation: 100%|██████████| 2/2 [00:01<00:00,  1.53it/s]\n",
            "Evaluate Train: 100%|██████████| 5/5 [00:06<00:00,  1.23s/it]\n",
            "Evaluate Validation: 100%|██████████| 2/2 [00:01<00:00,  1.07it/s]\n"
          ]
        },
        {
          "output_type": "stream",
          "name": "stdout",
          "text": [
            "Epoch 23/50\n",
            "Train - Loss: 0.5739, Accuracy: 0.7129, Precision: 0.7082, Recall: 0.7054, AUC: 0.7906\n",
            "Val - Loss: 0.4353, Accuracy: 0.7424, Precision: 0.7385, Recall: 0.7385, AUC: 0.8209\n"
          ]
        },
        {
          "output_type": "stream",
          "name": "stderr",
          "text": [
            "Epoch 24/50, Train: 100%|██████████| 5/5 [00:05<00:00,  1.15s/it]\n",
            "Epoch 24/50, Validation: 100%|██████████| 2/2 [00:01<00:00,  1.30it/s]\n",
            "Evaluate Train: 100%|██████████| 5/5 [00:05<00:00,  1.19s/it]\n",
            "Evaluate Validation: 100%|██████████| 2/2 [00:01<00:00,  1.53it/s]\n"
          ]
        },
        {
          "output_type": "stream",
          "name": "stdout",
          "text": [
            "Epoch 24/50\n",
            "Train - Loss: 0.5325, Accuracy: 0.7433, Precision: 0.7834, Recall: 0.6589, AUC: 0.8047\n",
            "Val - Loss: 0.5938, Accuracy: 0.7424, Precision: 0.7627, Recall: 0.6923, AUC: 0.8266\n"
          ]
        },
        {
          "output_type": "stream",
          "name": "stderr",
          "text": [
            "Epoch 25/50, Train: 100%|██████████| 5/5 [00:06<00:00,  1.28s/it]\n",
            "Epoch 25/50, Validation: 100%|██████████| 2/2 [00:01<00:00,  1.51it/s]\n",
            "Evaluate Train: 100%|██████████| 5/5 [00:05<00:00,  1.14s/it]\n",
            "Evaluate Validation: 100%|██████████| 2/2 [00:01<00:00,  1.24it/s]\n"
          ]
        },
        {
          "output_type": "stream",
          "name": "stdout",
          "text": [
            "Epoch 25/50\n",
            "Train - Loss: 0.5375, Accuracy: 0.7243, Precision: 0.7927, Recall: 0.5930, AUC: 0.7873\n",
            "Val - Loss: 0.8067, Accuracy: 0.7424, Precision: 0.7925, Recall: 0.6462, AUC: 0.8119\n"
          ]
        },
        {
          "output_type": "stream",
          "name": "stderr",
          "text": [
            "Epoch 26/50, Train: 100%|██████████| 5/5 [00:06<00:00,  1.28s/it]\n",
            "Epoch 26/50, Validation: 100%|██████████| 2/2 [00:01<00:00,  1.19it/s]\n",
            "Evaluate Train: 100%|██████████| 5/5 [00:05<00:00,  1.06s/it]\n",
            "Evaluate Validation: 100%|██████████| 2/2 [00:01<00:00,  1.23it/s]\n"
          ]
        },
        {
          "output_type": "stream",
          "name": "stdout",
          "text": [
            "Epoch 26/50\n",
            "Train - Loss: 0.4906, Accuracy: 0.7224, Precision: 0.7857, Recall: 0.5969, AUC: 0.7982\n",
            "Val - Loss: 0.5227, Accuracy: 0.7121, Precision: 0.7755, Recall: 0.5846, AUC: 0.8062\n"
          ]
        },
        {
          "output_type": "stream",
          "name": "stderr",
          "text": [
            "Epoch 27/50, Train: 100%|██████████| 5/5 [00:07<00:00,  1.43s/it]\n",
            "Epoch 27/50, Validation: 100%|██████████| 2/2 [00:01<00:00,  1.52it/s]\n",
            "Evaluate Train: 100%|██████████| 5/5 [00:07<00:00,  1.41s/it]\n",
            "Evaluate Validation: 100%|██████████| 2/2 [00:01<00:00,  1.30it/s]\n"
          ]
        },
        {
          "output_type": "stream",
          "name": "stdout",
          "text": [
            "Epoch 27/50\n",
            "Train - Loss: 0.5443, Accuracy: 0.7319, Precision: 0.7826, Recall: 0.6279, AUC: 0.7966\n",
            "Val - Loss: 0.5236, Accuracy: 0.7348, Precision: 0.7586, Recall: 0.6769, AUC: 0.8161\n"
          ]
        },
        {
          "output_type": "stream",
          "name": "stderr",
          "text": [
            "Epoch 28/50, Train: 100%|██████████| 5/5 [00:06<00:00,  1.21s/it]\n",
            "Epoch 28/50, Validation: 100%|██████████| 2/2 [00:01<00:00,  1.48it/s]\n",
            "Evaluate Train: 100%|██████████| 5/5 [00:05<00:00,  1.14s/it]\n",
            "Evaluate Validation: 100%|██████████| 2/2 [00:02<00:00,  1.03s/it]\n"
          ]
        },
        {
          "output_type": "stream",
          "name": "stdout",
          "text": [
            "Epoch 28/50\n",
            "Train - Loss: 0.5409, Accuracy: 0.7357, Precision: 0.7668, Recall: 0.6628, AUC: 0.8107\n",
            "Val - Loss: 0.4648, Accuracy: 0.7197, Precision: 0.7414, Recall: 0.6615, AUC: 0.8239\n"
          ]
        },
        {
          "output_type": "stream",
          "name": "stderr",
          "text": [
            "Epoch 29/50, Train: 100%|██████████| 5/5 [00:06<00:00,  1.40s/it]\n",
            "Epoch 29/50, Validation: 100%|██████████| 2/2 [00:01<00:00,  1.32it/s]\n",
            "Evaluate Train: 100%|██████████| 5/5 [00:05<00:00,  1.19s/it]\n",
            "Evaluate Validation: 100%|██████████| 2/2 [00:01<00:00,  1.55it/s]\n"
          ]
        },
        {
          "output_type": "stream",
          "name": "stdout",
          "text": [
            "Epoch 29/50\n",
            "Train - Loss: 0.5388, Accuracy: 0.7433, Precision: 0.7573, Recall: 0.7016, AUC: 0.8055\n",
            "Val - Loss: 0.3530, Accuracy: 0.7424, Precision: 0.7385, Recall: 0.7385, AUC: 0.8390\n"
          ]
        },
        {
          "output_type": "stream",
          "name": "stderr",
          "text": [
            "Epoch 30/50, Train: 100%|██████████| 5/5 [00:06<00:00,  1.28s/it]\n",
            "Epoch 30/50, Validation: 100%|██████████| 2/2 [00:01<00:00,  1.51it/s]\n",
            "Evaluate Train: 100%|██████████| 5/5 [00:05<00:00,  1.16s/it]\n",
            "Evaluate Validation: 100%|██████████| 2/2 [00:01<00:00,  1.32it/s]\n"
          ]
        },
        {
          "output_type": "stream",
          "name": "stdout",
          "text": [
            "Epoch 30/50\n",
            "Train - Loss: 0.5082, Accuracy: 0.7357, Precision: 0.7490, Recall: 0.6938, AUC: 0.8117\n",
            "Val - Loss: 0.5268, Accuracy: 0.7500, Precision: 0.7500, Recall: 0.7385, AUC: 0.8514\n"
          ]
        },
        {
          "output_type": "stream",
          "name": "stderr",
          "text": [
            "Epoch 31/50, Train: 100%|██████████| 5/5 [00:06<00:00,  1.32s/it]\n",
            "Epoch 31/50, Validation: 100%|██████████| 2/2 [00:01<00:00,  1.54it/s]\n",
            "Evaluate Train: 100%|██████████| 5/5 [00:07<00:00,  1.43s/it]\n",
            "Evaluate Validation: 100%|██████████| 2/2 [00:01<00:00,  1.47it/s]\n"
          ]
        },
        {
          "output_type": "stream",
          "name": "stdout",
          "text": [
            "Epoch 31/50\n",
            "Train - Loss: 0.5298, Accuracy: 0.7300, Precision: 0.7661, Recall: 0.6473, AUC: 0.7963\n",
            "Val - Loss: 0.4163, Accuracy: 0.7576, Precision: 0.7797, Recall: 0.7077, AUC: 0.8468\n"
          ]
        },
        {
          "output_type": "stream",
          "name": "stderr",
          "text": [
            "Epoch 32/50, Train: 100%|██████████| 5/5 [00:06<00:00,  1.25s/it]\n",
            "Epoch 32/50, Validation: 100%|██████████| 2/2 [00:01<00:00,  1.53it/s]\n",
            "Evaluate Train: 100%|██████████| 5/5 [00:05<00:00,  1.16s/it]\n",
            "Evaluate Validation: 100%|██████████| 2/2 [00:01<00:00,  1.24it/s]\n"
          ]
        },
        {
          "output_type": "stream",
          "name": "stdout",
          "text": [
            "Epoch 32/50\n",
            "Train - Loss: 0.5446, Accuracy: 0.7205, Precision: 0.7303, Recall: 0.6822, AUC: 0.8042\n",
            "Val - Loss: 0.5667, Accuracy: 0.7197, Precision: 0.7121, Recall: 0.7231, AUC: 0.8510\n"
          ]
        },
        {
          "output_type": "stream",
          "name": "stderr",
          "text": [
            "Epoch 33/50, Train: 100%|██████████| 5/5 [00:06<00:00,  1.27s/it]\n",
            "Epoch 33/50, Validation: 100%|██████████| 2/2 [00:01<00:00,  1.13it/s]\n",
            "Evaluate Train: 100%|██████████| 5/5 [00:05<00:00,  1.13s/it]\n",
            "Evaluate Validation: 100%|██████████| 2/2 [00:01<00:00,  1.53it/s]\n"
          ]
        },
        {
          "output_type": "stream",
          "name": "stdout",
          "text": [
            "Epoch 33/50\n",
            "Train - Loss: 0.4965, Accuracy: 0.7281, Precision: 0.7626, Recall: 0.6473, AUC: 0.7987\n",
            "Val - Loss: 0.2795, Accuracy: 0.7727, Precision: 0.7612, Recall: 0.7846, AUC: 0.8480\n"
          ]
        },
        {
          "output_type": "stream",
          "name": "stderr",
          "text": [
            "Epoch 34/50, Train: 100%|██████████| 5/5 [00:05<00:00,  1.19s/it]\n",
            "Epoch 34/50, Validation: 100%|██████████| 2/2 [00:01<00:00,  1.22it/s]\n",
            "Evaluate Train: 100%|██████████| 5/5 [00:06<00:00,  1.30s/it]\n",
            "Evaluate Validation: 100%|██████████| 2/2 [00:01<00:00,  1.25it/s]\n"
          ]
        },
        {
          "output_type": "stream",
          "name": "stdout",
          "text": [
            "Epoch 34/50\n",
            "Train - Loss: 0.5195, Accuracy: 0.7186, Precision: 0.7455, Recall: 0.6473, AUC: 0.8023\n",
            "Val - Loss: 0.4026, Accuracy: 0.7576, Precision: 0.7538, Recall: 0.7538, AUC: 0.8445\n"
          ]
        },
        {
          "output_type": "stream",
          "name": "stderr",
          "text": [
            "Epoch 35/50, Train: 100%|██████████| 5/5 [00:06<00:00,  1.25s/it]\n",
            "Epoch 35/50, Validation: 100%|██████████| 2/2 [00:01<00:00,  1.12it/s]\n",
            "Evaluate Train: 100%|██████████| 5/5 [00:05<00:00,  1.08s/it]\n",
            "Evaluate Validation: 100%|██████████| 2/2 [00:01<00:00,  1.33it/s]\n"
          ]
        },
        {
          "output_type": "stream",
          "name": "stdout",
          "text": [
            "Epoch 35/50\n",
            "Train - Loss: 0.5324, Accuracy: 0.7605, Precision: 0.8000, Recall: 0.6822, AUC: 0.8150\n",
            "Val - Loss: 0.4199, Accuracy: 0.7727, Precision: 0.7692, Recall: 0.7692, AUC: 0.8485\n"
          ]
        },
        {
          "output_type": "stream",
          "name": "stderr",
          "text": [
            "Epoch 36/50, Train: 100%|██████████| 5/5 [00:06<00:00,  1.31s/it]\n",
            "Epoch 36/50, Validation: 100%|██████████| 2/2 [00:01<00:00,  1.28it/s]\n",
            "Evaluate Train: 100%|██████████| 5/5 [00:06<00:00,  1.24s/it]\n",
            "Evaluate Validation: 100%|██████████| 2/2 [00:01<00:00,  1.10it/s]\n"
          ]
        },
        {
          "output_type": "stream",
          "name": "stdout",
          "text": [
            "Epoch 36/50\n",
            "Train - Loss: 0.5420, Accuracy: 0.7510, Precision: 0.8128, Recall: 0.6395, AUC: 0.8086\n",
            "Val - Loss: 0.5743, Accuracy: 0.7500, Precision: 0.7667, Recall: 0.7077, AUC: 0.8377\n"
          ]
        },
        {
          "output_type": "stream",
          "name": "stderr",
          "text": [
            "Epoch 37/50, Train: 100%|██████████| 5/5 [00:06<00:00,  1.26s/it]\n",
            "Epoch 37/50, Validation: 100%|██████████| 2/2 [00:01<00:00,  1.52it/s]\n",
            "Evaluate Train: 100%|██████████| 5/5 [00:05<00:00,  1.15s/it]\n",
            "Evaluate Validation: 100%|██████████| 2/2 [00:01<00:00,  1.25it/s]\n"
          ]
        },
        {
          "output_type": "stream",
          "name": "stdout",
          "text": [
            "Epoch 37/50\n",
            "Train - Loss: 0.5660, Accuracy: 0.7510, Precision: 0.8068, Recall: 0.6473, AUC: 0.8112\n",
            "Val - Loss: 0.5887, Accuracy: 0.7500, Precision: 0.7667, Recall: 0.7077, AUC: 0.8464\n"
          ]
        },
        {
          "output_type": "stream",
          "name": "stderr",
          "text": [
            "Epoch 38/50, Train: 100%|██████████| 5/5 [00:06<00:00,  1.21s/it]\n",
            "Epoch 38/50, Validation: 100%|██████████| 2/2 [00:01<00:00,  1.01it/s]\n",
            "Evaluate Train: 100%|██████████| 5/5 [00:06<00:00,  1.38s/it]\n",
            "Evaluate Validation: 100%|██████████| 2/2 [00:01<00:00,  1.57it/s]\n"
          ]
        },
        {
          "output_type": "stream",
          "name": "stdout",
          "text": [
            "Epoch 38/50\n",
            "Train - Loss: 0.4875, Accuracy: 0.7414, Precision: 0.8112, Recall: 0.6163, AUC: 0.8115\n",
            "Val - Loss: 0.4176, Accuracy: 0.7500, Precision: 0.7857, Recall: 0.6769, AUC: 0.8122\n"
          ]
        },
        {
          "output_type": "stream",
          "name": "stderr",
          "text": [
            "Epoch 39/50, Train: 100%|██████████| 5/5 [00:06<00:00,  1.28s/it]\n",
            "Epoch 39/50, Validation: 100%|██████████| 2/2 [00:01<00:00,  1.18it/s]\n",
            "Evaluate Train: 100%|██████████| 5/5 [00:05<00:00,  1.06s/it]\n",
            "Evaluate Validation: 100%|██████████| 2/2 [00:01<00:00,  1.24it/s]\n"
          ]
        },
        {
          "output_type": "stream",
          "name": "stdout",
          "text": [
            "Epoch 39/50\n",
            "Train - Loss: 0.5028, Accuracy: 0.7529, Precision: 0.8333, Recall: 0.6202, AUC: 0.8160\n",
            "Val - Loss: 0.4553, Accuracy: 0.7500, Precision: 0.7963, Recall: 0.6615, AUC: 0.8197\n"
          ]
        },
        {
          "output_type": "stream",
          "name": "stderr",
          "text": [
            "Epoch 40/50, Train: 100%|██████████| 5/5 [00:08<00:00,  1.80s/it]\n",
            "Epoch 40/50, Validation: 100%|██████████| 2/2 [00:02<00:00,  1.06s/it]\n",
            "Evaluate Train: 100%|██████████| 5/5 [00:06<00:00,  1.26s/it]\n",
            "Evaluate Validation: 100%|██████████| 2/2 [00:01<00:00,  1.57it/s]\n"
          ]
        },
        {
          "output_type": "stream",
          "name": "stdout",
          "text": [
            "Epoch 40/50\n",
            "Train - Loss: 0.5143, Accuracy: 0.7529, Precision: 0.7832, Recall: 0.6860, AUC: 0.8247\n",
            "Val - Loss: 0.4614, Accuracy: 0.7727, Precision: 0.7966, Recall: 0.7231, AUC: 0.8457\n"
          ]
        },
        {
          "output_type": "stream",
          "name": "stderr",
          "text": [
            "Epoch 41/50, Train: 100%|██████████| 5/5 [00:06<00:00,  1.23s/it]\n",
            "Epoch 41/50, Validation: 100%|██████████| 2/2 [00:01<00:00,  1.11it/s]\n",
            "Evaluate Train: 100%|██████████| 5/5 [00:06<00:00,  1.27s/it]\n",
            "Evaluate Validation: 100%|██████████| 2/2 [00:01<00:00,  1.57it/s]\n"
          ]
        },
        {
          "output_type": "stream",
          "name": "stdout",
          "text": [
            "Epoch 41/50\n",
            "Train - Loss: 0.4708, Accuracy: 0.7681, Precision: 0.8301, Recall: 0.6628, AUC: 0.8146\n",
            "Val - Loss: 0.4426, Accuracy: 0.7197, Precision: 0.7258, Recall: 0.6923, AUC: 0.8482\n"
          ]
        },
        {
          "output_type": "stream",
          "name": "stderr",
          "text": [
            "Epoch 42/50, Train: 100%|██████████| 5/5 [00:05<00:00,  1.19s/it]\n",
            "Epoch 42/50, Validation: 100%|██████████| 2/2 [00:01<00:00,  1.57it/s]\n",
            "Evaluate Train: 100%|██████████| 5/5 [00:07<00:00,  1.51s/it]\n",
            "Evaluate Validation: 100%|██████████| 2/2 [00:01<00:00,  1.56it/s]\n"
          ]
        },
        {
          "output_type": "stream",
          "name": "stdout",
          "text": [
            "Epoch 42/50\n",
            "Train - Loss: 0.5101, Accuracy: 0.7738, Precision: 0.8492, Recall: 0.6550, AUC: 0.8142\n",
            "Val - Loss: 0.3865, Accuracy: 0.7652, Precision: 0.8148, Recall: 0.6769, AUC: 0.8475\n"
          ]
        },
        {
          "output_type": "stream",
          "name": "stderr",
          "text": [
            "Epoch 43/50, Train: 100%|██████████| 5/5 [00:06<00:00,  1.27s/it]\n",
            "Epoch 43/50, Validation: 100%|██████████| 2/2 [00:01<00:00,  1.55it/s]\n",
            "Evaluate Train: 100%|██████████| 5/5 [00:05<00:00,  1.16s/it]\n",
            "Evaluate Validation: 100%|██████████| 2/2 [00:01<00:00,  1.32it/s]\n"
          ]
        },
        {
          "output_type": "stream",
          "name": "stdout",
          "text": [
            "Epoch 43/50\n",
            "Train - Loss: 0.4850, Accuracy: 0.7738, Precision: 0.8840, Recall: 0.6202, AUC: 0.8150\n",
            "Val - Loss: 0.4529, Accuracy: 0.8106, Precision: 0.9348, Recall: 0.6615, AUC: 0.8452\n"
          ]
        },
        {
          "output_type": "stream",
          "name": "stderr",
          "text": [
            "Epoch 44/50, Train: 100%|██████████| 5/5 [00:06<00:00,  1.31s/it]\n",
            "Epoch 44/50, Validation: 100%|██████████| 2/2 [00:01<00:00,  1.56it/s]\n",
            "Evaluate Train: 100%|██████████| 5/5 [00:05<00:00,  1.12s/it]\n",
            "Evaluate Validation: 100%|██████████| 2/2 [00:01<00:00,  1.31it/s]\n"
          ]
        },
        {
          "output_type": "stream",
          "name": "stdout",
          "text": [
            "Epoch 44/50\n",
            "Train - Loss: 0.5175, Accuracy: 0.7681, Precision: 0.8736, Recall: 0.6163, AUC: 0.8168\n",
            "Val - Loss: 0.5303, Accuracy: 0.8030, Precision: 0.8679, Recall: 0.7077, AUC: 0.8572\n"
          ]
        },
        {
          "output_type": "stream",
          "name": "stderr",
          "text": [
            "Epoch 45/50, Train: 100%|██████████| 5/5 [00:05<00:00,  1.14s/it]\n",
            "Epoch 45/50, Validation: 100%|██████████| 2/2 [00:01<00:00,  1.55it/s]\n",
            "Evaluate Train: 100%|██████████| 5/5 [00:05<00:00,  1.17s/it]\n",
            "Evaluate Validation: 100%|██████████| 2/2 [00:01<00:00,  1.55it/s]\n"
          ]
        },
        {
          "output_type": "stream",
          "name": "stdout",
          "text": [
            "Epoch 45/50\n",
            "Train - Loss: 0.4533, Accuracy: 0.7757, Precision: 0.8241, Recall: 0.6899, AUC: 0.8102\n",
            "Val - Loss: 0.3541, Accuracy: 0.7727, Precision: 0.7869, Recall: 0.7385, AUC: 0.8416\n"
          ]
        },
        {
          "output_type": "stream",
          "name": "stderr",
          "text": [
            "Epoch 46/50, Train: 100%|██████████| 5/5 [00:05<00:00,  1.13s/it]\n",
            "Epoch 46/50, Validation: 100%|██████████| 2/2 [00:01<00:00,  1.22it/s]\n",
            "Evaluate Train: 100%|██████████| 5/5 [00:05<00:00,  1.15s/it]\n",
            "Evaluate Validation: 100%|██████████| 2/2 [00:01<00:00,  1.36it/s]\n"
          ]
        },
        {
          "output_type": "stream",
          "name": "stdout",
          "text": [
            "Epoch 46/50\n",
            "Train - Loss: 0.5204, Accuracy: 0.7719, Precision: 0.8382, Recall: 0.6628, AUC: 0.8133\n",
            "Val - Loss: 0.4443, Accuracy: 0.7955, Precision: 0.8276, Recall: 0.7385, AUC: 0.8643\n"
          ]
        },
        {
          "output_type": "stream",
          "name": "stderr",
          "text": [
            "Epoch 47/50, Train: 100%|██████████| 5/5 [00:06<00:00,  1.26s/it]\n",
            "Epoch 47/50, Validation: 100%|██████████| 2/2 [00:01<00:00,  1.34it/s]\n",
            "Evaluate Train: 100%|██████████| 5/5 [00:06<00:00,  1.38s/it]\n",
            "Evaluate Validation: 100%|██████████| 2/2 [00:01<00:00,  1.57it/s]\n"
          ]
        },
        {
          "output_type": "stream",
          "name": "stdout",
          "text": [
            "Epoch 47/50\n",
            "Train - Loss: 0.4991, Accuracy: 0.7738, Precision: 0.8528, Recall: 0.6512, AUC: 0.8193\n",
            "Val - Loss: 0.6475, Accuracy: 0.8182, Precision: 0.8596, Recall: 0.7538, AUC: 0.8631\n"
          ]
        },
        {
          "output_type": "stream",
          "name": "stderr",
          "text": [
            "Epoch 48/50, Train: 100%|██████████| 5/5 [00:06<00:00,  1.24s/it]\n",
            "Epoch 48/50, Validation: 100%|██████████| 2/2 [00:01<00:00,  1.07it/s]\n",
            "Evaluate Train: 100%|██████████| 5/5 [00:06<00:00,  1.38s/it]\n",
            "Evaluate Validation: 100%|██████████| 2/2 [00:01<00:00,  1.54it/s]\n"
          ]
        },
        {
          "output_type": "stream",
          "name": "stdout",
          "text": [
            "Epoch 48/50\n",
            "Train - Loss: 0.4809, Accuracy: 0.7795, Precision: 0.8989, Recall: 0.6202, AUC: 0.8209\n",
            "Val - Loss: 0.3366, Accuracy: 0.7879, Precision: 0.8776, Recall: 0.6615, AUC: 0.8411\n"
          ]
        },
        {
          "output_type": "stream",
          "name": "stderr",
          "text": [
            "Epoch 49/50, Train: 100%|██████████| 5/5 [00:07<00:00,  1.49s/it]\n",
            "Epoch 49/50, Validation: 100%|██████████| 2/2 [00:01<00:00,  1.33it/s]\n",
            "Evaluate Train: 100%|██████████| 5/5 [00:06<00:00,  1.38s/it]\n",
            "Evaluate Validation: 100%|██████████| 2/2 [00:01<00:00,  1.55it/s]\n"
          ]
        },
        {
          "output_type": "stream",
          "name": "stdout",
          "text": [
            "Epoch 49/50\n",
            "Train - Loss: 0.4856, Accuracy: 0.7681, Precision: 0.9000, Recall: 0.5930, AUC: 0.8127\n",
            "Val - Loss: 0.3548, Accuracy: 0.8182, Precision: 0.9184, Recall: 0.6923, AUC: 0.8427\n"
          ]
        },
        {
          "output_type": "stream",
          "name": "stderr",
          "text": [
            "Epoch 50/50, Train: 100%|██████████| 5/5 [00:08<00:00,  1.61s/it]\n",
            "Epoch 50/50, Validation: 100%|██████████| 2/2 [00:01<00:00,  1.52it/s]\n",
            "Evaluate Train: 100%|██████████| 5/5 [00:05<00:00,  1.05s/it]\n",
            "Evaluate Validation: 100%|██████████| 2/2 [00:01<00:00,  1.58it/s]\n"
          ]
        },
        {
          "output_type": "stream",
          "name": "stdout",
          "text": [
            "Epoch 50/50\n",
            "Train - Loss: 0.4928, Accuracy: 0.7681, Precision: 0.8864, Recall: 0.6047, AUC: 0.8113\n",
            "Val - Loss: 0.3859, Accuracy: 0.7652, Precision: 0.8148, Recall: 0.6769, AUC: 0.8138\n"
          ]
        },
        {
          "output_type": "stream",
          "name": "stderr",
          "text": [
            "Evaluate Test: 100%|██████████| 2/2 [00:00<00:00, 18.49it/s]"
          ]
        },
        {
          "output_type": "stream",
          "name": "stdout",
          "text": [
            "\n",
            "Accuracy: 0.6909, Precision: 0.7500, Recall: 0.5556, AUC: 0.7521\n",
            "Results saved to results/finetune/ori/resnet50/classification_results.txt\n"
          ]
        },
        {
          "output_type": "stream",
          "name": "stderr",
          "text": [
            "\n",
            "WARNING:matplotlib.image:Clipping input data to the valid range for imshow with RGB data ([0..1] for floats or [0..255] for integers).\n",
            "WARNING:matplotlib.image:Clipping input data to the valid range for imshow with RGB data ([0..1] for floats or [0..255] for integers).\n",
            "WARNING:matplotlib.image:Clipping input data to the valid range for imshow with RGB data ([0..1] for floats or [0..255] for integers).\n",
            "WARNING:matplotlib.image:Clipping input data to the valid range for imshow with RGB data ([0..1] for floats or [0..255] for integers).\n",
            "WARNING:matplotlib.image:Clipping input data to the valid range for imshow with RGB data ([0..1] for floats or [0..255] for integers).\n",
            "WARNING:matplotlib.image:Clipping input data to the valid range for imshow with RGB data ([0..1] for floats or [0..255] for integers).\n"
          ]
        },
        {
          "output_type": "stream",
          "name": "stdout",
          "text": [
            "Results saved to results/visualization/zero_shot/ucsd/resnet50/images/cxr_images.png\n"
          ]
        },
        {
          "output_type": "stream",
          "name": "stderr",
          "text": [
            "Evaluate Train: 100%|██████████| 16/16 [00:02<00:00,  5.93it/s]\n",
            "Evaluate Validation: 100%|██████████| 4/4 [00:00<00:00, 12.83it/s]\n",
            "Evaluate Test: 100%|██████████| 5/5 [00:00<00:00,  9.32it/s]"
          ]
        },
        {
          "output_type": "stream",
          "name": "stdout",
          "text": [
            "Results saved to results/zero_shot/ucsd/resnet50/classification_results.txt\n"
          ]
        },
        {
          "output_type": "stream",
          "name": "stderr",
          "text": [
            "\n"
          ]
        },
        {
          "output_type": "display_data",
          "data": {
            "text/plain": [
              "<Figure size 640x480 with 0 Axes>"
            ]
          },
          "metadata": {}
        }
      ],
      "source": [
        "%run ViG-Pediatric/scripts/conv/finetune_conv_res.py"
      ]
    },
    {
      "cell_type": "code",
      "source": [
        "#%run ViG-Pediatric/scripts/conv/finetune_conv_dense.py"
      ],
      "metadata": {
        "id": "PyKErmk-XZ-N"
      },
      "execution_count": null,
      "outputs": []
    },
    {
      "cell_type": "code",
      "source": [
        "#%run ViG-Pediatric/scripts/conv/finetune_conv_efficient.py"
      ],
      "metadata": {
        "id": "RobLK3qqXbFr"
      },
      "execution_count": null,
      "outputs": []
    },
    {
      "cell_type": "code",
      "source": [
        "#%run ViG-Pediatric/scripts/conv/finetune_conv_inception.py"
      ],
      "metadata": {
        "id": "nwcM-0NbXc3M"
      },
      "execution_count": null,
      "outputs": []
    },
    {
      "cell_type": "code",
      "source": [
        "!zip -r res_results.zip results"
      ],
      "metadata": {
        "colab": {
          "base_uri": "https://localhost:8080/"
        },
        "id": "caCkMl5lKwVw",
        "outputId": "ad8aa29c-1dc2-4dab-ce10-0038ce18c0ea"
      },
      "execution_count": 6,
      "outputs": [
        {
          "output_type": "stream",
          "name": "stdout",
          "text": [
            "  adding: results/ (stored 0%)\n",
            "  adding: results/visualization/ (stored 0%)\n",
            "  adding: results/visualization/finetune/ (stored 0%)\n",
            "  adding: results/visualization/finetune/ori/ (stored 0%)\n",
            "  adding: results/visualization/finetune/ori/resnet50/ (stored 0%)\n",
            "  adding: results/visualization/finetune/ori/resnet50/images/ (stored 0%)\n",
            "  adding: results/visualization/finetune/ori/resnet50/images/cxr_images.png (deflated 7%)\n",
            "  adding: results/visualization/finetune/ucsd/ (stored 0%)\n",
            "  adding: results/visualization/finetune/ucsd/resnet50/ (stored 0%)\n",
            "  adding: results/visualization/finetune/ucsd/resnet50/images/ (stored 0%)\n",
            "  adding: results/visualization/finetune/ucsd/resnet50/images/cxr_images.png (deflated 8%)\n",
            "  adding: results/visualization/finetune/ucsd/.ipynb_checkpoints/ (stored 0%)\n",
            "  adding: results/visualization/zero_shot/ (stored 0%)\n",
            "  adding: results/visualization/zero_shot/ori/ (stored 0%)\n",
            "  adding: results/visualization/zero_shot/ori/resnet50/ (stored 0%)\n",
            "  adding: results/visualization/zero_shot/ori/resnet50/images/ (stored 0%)\n",
            "  adding: results/visualization/zero_shot/ori/resnet50/images/cxr_images.png (deflated 7%)\n",
            "  adding: results/visualization/zero_shot/ucsd/ (stored 0%)\n",
            "  adding: results/visualization/zero_shot/ucsd/resnet50/ (stored 0%)\n",
            "  adding: results/visualization/zero_shot/ucsd/resnet50/images/ (stored 0%)\n",
            "  adding: results/visualization/zero_shot/ucsd/resnet50/images/cxr_images.png (deflated 8%)\n",
            "  adding: results/finetune/ (stored 0%)\n",
            "  adding: results/finetune/ori/ (stored 0%)\n",
            "  adding: results/finetune/ori/resnet50/ (stored 0%)\n",
            "  adding: results/finetune/ori/resnet50/metrics_accuracy_epoch.png (deflated 6%)\n",
            "  adding: results/finetune/ori/resnet50/metrics_auc_epoch.png (deflated 6%)\n",
            "  adding: results/finetune/ori/resnet50/metrics_recall_epoch.png (deflated 5%)\n",
            "  adding: results/finetune/ori/resnet50/metrics_loss_epoch.png (deflated 4%)\n",
            "  adding: results/finetune/ori/resnet50/metrics_precision_epoch.png (deflated 5%)\n",
            "  adding: results/finetune/ori/resnet50/.ipynb_checkpoints/ (stored 0%)\n",
            "  adding: results/finetune/ori/resnet50/classification_results.txt (deflated 54%)\n",
            "  adding: results/finetune/ucsd/ (stored 0%)\n",
            "  adding: results/finetune/ucsd/resnet50/ (stored 0%)\n",
            "  adding: results/finetune/ucsd/resnet50/metrics_accuracy_epoch.png (deflated 7%)\n",
            "  adding: results/finetune/ucsd/resnet50/metrics_auc_epoch.png (deflated 9%)\n",
            "  adding: results/finetune/ucsd/resnet50/metrics_recall_epoch.png (deflated 3%)\n",
            "  adding: results/finetune/ucsd/resnet50/metrics_loss_epoch.png (deflated 9%)\n",
            "  adding: results/finetune/ucsd/resnet50/metrics_precision_epoch.png (deflated 5%)\n",
            "  adding: results/finetune/ucsd/resnet50/.ipynb_checkpoints/ (stored 0%)\n",
            "  adding: results/finetune/ucsd/resnet50/classification_results.txt (deflated 58%)\n",
            "  adding: results/finetune/ucsd/.ipynb_checkpoints/ (stored 0%)\n",
            "  adding: results/zero_shot/ (stored 0%)\n",
            "  adding: results/zero_shot/ori/ (stored 0%)\n",
            "  adding: results/zero_shot/ori/resnet50/ (stored 0%)\n",
            "  adding: results/zero_shot/ori/resnet50/classification_results.txt (deflated 53%)\n",
            "  adding: results/zero_shot/ucsd/ (stored 0%)\n",
            "  adding: results/zero_shot/ucsd/resnet50/ (stored 0%)\n",
            "  adding: results/zero_shot/ucsd/resnet50/classification_results.txt (deflated 52%)\n"
          ]
        }
      ]
    },
    {
      "cell_type": "code",
      "source": [
        "%cp -r res_results.zip drive/MyDrive/ViG-Pediatric"
      ],
      "metadata": {
        "id": "Dd3lPE49Kyzv"
      },
      "execution_count": 3,
      "outputs": []
    }
  ],
  "metadata": {
    "accelerator": "GPU",
    "colab": {
      "gpuType": "A100",
      "machine_shape": "hm",
      "provenance": []
    },
    "kernelspec": {
      "display_name": "Python 3",
      "name": "python3"
    },
    "language_info": {
      "name": "python"
    }
  },
  "nbformat": 4,
  "nbformat_minor": 0
}